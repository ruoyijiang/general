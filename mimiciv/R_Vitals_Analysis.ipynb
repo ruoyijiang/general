{
 "cells": [
  {
   "cell_type": "markdown",
   "metadata": {},
   "source": [
    "# Analysis of Vital Signs"
   ]
  },
  {
   "cell_type": "code",
   "execution_count": 1,
   "metadata": {},
   "outputs": [
    {
     "name": "stderr",
     "output_type": "stream",
     "text": [
      "Warning message in as.POSIXlt.POSIXct(Sys.time()):\n",
      "“unknown timezone 'zone/tz/2020d.1.0/zoneinfo/America/New_York'”\n",
      "── \u001b[1mAttaching packages\u001b[22m ─────────────────────────────────────── tidyverse 1.3.0 ──\n",
      "\n",
      "\u001b[32m✔\u001b[39m \u001b[34mggplot2\u001b[39m 3.2.1     \u001b[32m✔\u001b[39m \u001b[34mpurrr  \u001b[39m 0.3.3\n",
      "\u001b[32m✔\u001b[39m \u001b[34mtibble \u001b[39m 2.1.3     \u001b[32m✔\u001b[39m \u001b[34mdplyr  \u001b[39m 0.8.3\n",
      "\u001b[32m✔\u001b[39m \u001b[34mtidyr  \u001b[39m 1.0.2     \u001b[32m✔\u001b[39m \u001b[34mstringr\u001b[39m 1.4.0\n",
      "\u001b[32m✔\u001b[39m \u001b[34mreadr  \u001b[39m 1.3.1     \u001b[32m✔\u001b[39m \u001b[34mforcats\u001b[39m 0.4.0\n",
      "\n",
      "── \u001b[1mConflicts\u001b[22m ────────────────────────────────────────── tidyverse_conflicts() ──\n",
      "\u001b[31m✖\u001b[39m \u001b[34mdplyr\u001b[39m::\u001b[32mfilter()\u001b[39m masks \u001b[34mstats\u001b[39m::filter()\n",
      "\u001b[31m✖\u001b[39m \u001b[34mdplyr\u001b[39m::\u001b[32mlag()\u001b[39m    masks \u001b[34mstats\u001b[39m::lag()\n",
      "\n",
      "Loading required package: MASS\n",
      "\n",
      "\n",
      "Attaching package: ‘MASS’\n",
      "\n",
      "\n",
      "The following object is masked from ‘package:dplyr’:\n",
      "\n",
      "    select\n",
      "\n",
      "\n",
      "Loading required package: nlme\n",
      "\n",
      "\n",
      "Attaching package: ‘nlme’\n",
      "\n",
      "\n",
      "The following object is masked from ‘package:dplyr’:\n",
      "\n",
      "    collapse\n",
      "\n",
      "\n",
      "Loading required package: splines\n",
      "\n",
      "Loading required package: survival\n",
      "\n"
     ]
    }
   ],
   "source": [
    "library(tidyverse)\n",
    "library(fasttime)\n",
    "library(JM)"
   ]
  },
  {
   "cell_type": "code",
   "execution_count": 2,
   "metadata": {},
   "outputs": [],
   "source": [
    "base_dir <- '~/Google Drive/Projects/Haimovich_Pressors_Tmp'"
   ]
  },
  {
   "cell_type": "code",
   "execution_count": 3,
   "metadata": {},
   "outputs": [
    {
     "name": "stderr",
     "output_type": "stream",
     "text": [
      "Parsed with column specification:\n",
      "cols(\n",
      "  subject_id = \u001b[32mcol_double()\u001b[39m,\n",
      "  hadm_id = \u001b[32mcol_double()\u001b[39m,\n",
      "  stay_id = \u001b[32mcol_double()\u001b[39m,\n",
      "  charttime = \u001b[34mcol_datetime(format = \"\")\u001b[39m,\n",
      "  valuenum = \u001b[32mcol_double()\u001b[39m,\n",
      "  valueuom = \u001b[31mcol_character()\u001b[39m,\n",
      "  itemid = \u001b[32mcol_double()\u001b[39m,\n",
      "  assignment = \u001b[31mcol_character()\u001b[39m\n",
      ")\n",
      "\n"
     ]
    }
   ],
   "source": [
    "vitals_df <- read_csv(file.path(base_dir, 'vitals.csv.gz'))"
   ]
  },
  {
   "cell_type": "code",
   "execution_count": 4,
   "metadata": {},
   "outputs": [],
   "source": [
    "output_df <- read.csv(file.path(base_dir, 'output.csv'))"
   ]
  },
  {
   "cell_type": "code",
   "execution_count": 5,
   "metadata": {},
   "outputs": [],
   "source": [
    "# 20  (1am), 3 hrs\n",
    "vitals_merged_df <- vitals_df %>%\n",
    "    filter(stay_id %in% output_df$stay_id) %>%\n",
    "    left_join(dplyr::select(output_df, stay_id, course_id, pressor, intime, starttime, endtime, MORETHAN24HOURS, RESPONSE, STATUS), by = \"stay_id\") %>%\n",
    "    mutate(charttime = fastPOSIXct(charttime), \n",
    "           starttime = fastPOSIXct(starttime), \n",
    "           intime = fastPOSIXct(intime)\n",
    "          ) %>%\n",
    "    mutate(\n",
    "          start_pressortime = difftime(charttime, \n",
    "                       starttime, units=\"hours\"),\n",
    "          start_intime = difftime(charttime, \n",
    "                       intime, units=\"hours\")) "
   ]
  },
  {
   "cell_type": "code",
   "execution_count": 6,
   "metadata": {},
   "outputs": [
    {
     "data": {
      "text/html": [
       "<style>\n",
       ".list-inline {list-style: none; margin:0; padding: 0}\n",
       ".list-inline>li {display: inline-block}\n",
       ".list-inline>li:not(:last-child)::after {content: \"\\00b7\"; padding: 0 .5ex}\n",
       "</style>\n",
       "<ol class=list-inline><li>4429027</li><li>18</li></ol>\n"
      ],
      "text/latex": [
       "\\begin{enumerate*}\n",
       "\\item 4429027\n",
       "\\item 18\n",
       "\\end{enumerate*}\n"
      ],
      "text/markdown": [
       "1. 4429027\n",
       "2. 18\n",
       "\n",
       "\n"
      ],
      "text/plain": [
       "[1] 4429027      18"
      ]
     },
     "metadata": {},
     "output_type": "display_data"
    }
   ],
   "source": [
    "dim(vitals_merged_df)"
   ]
  },
  {
   "cell_type": "code",
   "execution_count": 17,
   "metadata": {},
   "outputs": [],
   "source": [
    "assignments <- c('HR', 'MBP', 'RR', 'SPO2', 'TEMPC')"
   ]
  },
  {
   "cell_type": "code",
   "execution_count": 18,
   "metadata": {},
   "outputs": [],
   "source": [
    "result_assignment_list <- list()"
   ]
  },
  {
   "cell_type": "code",
   "execution_count": 19,
   "metadata": {},
   "outputs": [
    {
     "name": "stderr",
     "output_type": "stream",
     "text": [
      "Warning message in logLik.lmeStructInt(lmeSt, lmePars):\n",
      "“Singular precision matrix in level -1, block 196”\n",
      "Warning message in logLik.lmeStructInt(lmeSt, lmePars):\n",
      "“Singular precision matrix in level -1, block 196”\n",
      "Warning message in logLik.lmeStructInt(lmeSt, lmePars):\n",
      "“Singular precision matrix in level -1, block 196”\n",
      "Warning message in logLik.lmeStructInt(lmeSt, lmePars):\n",
      "“Singular precision matrix in level -1, block 196”\n",
      "Warning message in logLik.lmeStructInt(lmeSt, lmePars):\n",
      "“Singular precision matrix in level -1, block 196”\n",
      "Warning message in logLik.lmeStructInt(lmeSt, lmePars):\n",
      "“Singular precision matrix in level -1, block 196”\n",
      "Warning message in logLik.lmeStructInt(lmeSt, lmePars):\n",
      "“Singular precision matrix in level -1, block 196”\n",
      "Warning message in logLik.lmeStructInt(lmeSt, lmePars):\n",
      "“Singular precision matrix in level -1, block 196”\n",
      "Warning message in logLik.lmeStructInt(lmeSt, lmePars):\n",
      "“Singular precision matrix in level -1, block 196”\n",
      "Warning message in logLik.lmeStructInt(lmeSt, lmePars):\n",
      "“Singular precision matrix in level -1, block 196”\n",
      "Warning message in jointModel(lmeFit.p1, survFit.p1, timeVar = \"start_intime\", method = \"Cox-PH-GH\"):\n",
      "“Hessian matrix at convergence is not positive definite.\n",
      "”\n",
      "Warning message in sqrt(diag(vcov(object))):\n",
      "“NaNs produced”\n",
      "Warning message in logLik.lmeStructInt(lmeSt, lmePars):\n",
      "“Singular precision matrix in level -1, block 146”\n",
      "Warning message in logLik.lmeStructInt(lmeSt, lmePars):\n",
      "“Singular precision matrix in level -1, block 146”\n",
      "Warning message in logLik.lmeStructInt(lmeSt, lmePars):\n",
      "“Singular precision matrix in level -1, block 146”\n",
      "Warning message in logLik.lmeStructInt(lmeSt, lmePars):\n",
      "“Singular precision matrix in level -1, block 146”\n",
      "Warning message in logLik.lmeStructInt(lmeSt, lmePars):\n",
      "“Singular precision matrix in level -1, block 146”\n",
      "Warning message in logLik.lmeStructInt(lmeSt, lmePars):\n",
      "“Singular precision matrix in level -1, block 146”\n",
      "Warning message in logLik.lmeStructInt(lmeSt, lmePars):\n",
      "“Singular precision matrix in level -1, block 146”\n",
      "Warning message in logLik.lmeStructInt(lmeSt, lmePars):\n",
      "“Singular precision matrix in level -1, block 146”\n",
      "Warning message in logLik.lmeStructInt(lmeSt, lmePars):\n",
      "“Singular precision matrix in level -1, block 146”\n",
      "Warning message in logLik.lmeStructInt(lmeSt, lmePars):\n",
      "“Singular precision matrix in level -1, block 146”\n",
      "Warning message in logLik.lmeStructInt(lmeSt, lmePars):\n",
      "“Singular precision matrix in level -1, block 146”\n",
      "Warning message in logLik.lmeStructInt(lmeSt, lmePars):\n",
      "“Singular precision matrix in level -1, block 146”\n",
      "Warning message in logLik.lmeStructInt(lmeSt, lmePars):\n",
      "“Singular precision matrix in level -1, block 146”\n",
      "Warning message in logLik.lmeStructInt(lmeSt, lmePars):\n",
      "“Singular precision matrix in level -1, block 146”\n",
      "Warning message in logLik.lmeStructInt(lmeSt, lmePars):\n",
      "“Singular precision matrix in level -1, block 146”\n",
      "Warning message in logLik.lmeStructInt(lmeSt, lmePars):\n",
      "“Singular precision matrix in level -1, block 146”\n",
      "Warning message in logLik.lmeStructInt(lmeSt, lmePars):\n",
      "“Singular precision matrix in level -1, block 146”\n",
      "Warning message in logLik.lmeStructInt(lmeSt, lmePars):\n",
      "“Singular precision matrix in level -1, block 146”\n",
      "Warning message in logLik.lmeStructInt(lmeSt, lmePars):\n",
      "“Singular precision matrix in level -1, block 146”\n",
      "Warning message in logLik.lmeStructInt(lmeSt, lmePars):\n",
      "“Singular precision matrix in level -1, block 146”\n"
     ]
    },
    {
     "ename": "ERROR",
     "evalue": "Error in MEestimate(lmeSt, grps): Singularity in backsolve at level 0, block 1\n",
     "output_type": "error",
     "traceback": [
      "Error in MEestimate(lmeSt, grps): Singularity in backsolve at level 0, block 1\nTraceback:\n",
      "1. lme(valuenum ~ start_intime, random = ~start_intime | course_id, \n .     data = vitals_subset_df %>% arrange(course_id, start_intime), \n .     control = ctrl)   # at line 18-20 of file <text>",
      "2. lme.formula(valuenum ~ start_intime, random = ~start_intime | \n .     course_id, data = vitals_subset_df %>% arrange(course_id, \n .     start_intime), control = ctrl)",
      "3. MEestimate(lmeSt, grps)"
     ]
    }
   ],
   "source": [
    "for(assignment_id in assignments){\n",
    "    vitals_subset_df <- vitals_merged_df %>% \n",
    "    mutate(start_intime = as.numeric(start_intime)) %>%\n",
    "    filter(assignment == assignment_id)  %>% \n",
    "    filter(charttime < starttime) %>%\n",
    "    head(14000)\n",
    "\n",
    "    survival_df <- output_df %>%\n",
    "        filter(course_id %in% unique(vitals_subset_df$course_id)) %>%\n",
    "        mutate(intime = fastPOSIXct(intime)) %>%\n",
    "        mutate(start_intime = difftime(starttime, \n",
    "                           intime, units=\"hours\")) %>% \n",
    "        mutate(start_intime = as.numeric(start_intime)) %>%\n",
    "        mutate(dummy = 0)\n",
    "\n",
    "    # bug in JM, so arrange is needed\n",
    "    ctrl <- lmeControl(opt='optim');\n",
    "    lmeFit.p1 <- lme(valuenum ~ start_intime, random = ~ start_intime | course_id,\n",
    "                     data = vitals_subset_df %>% \n",
    "                     arrange(course_id, start_intime),control=ctrl)\n",
    "\n",
    "    survFit.p1 <- coxph(Surv(start_intime, RESPONSE) ~ 1, x = TRUE,\n",
    "                        data = survival_df %>% arrange(course_id, start_intime)\n",
    "                        )  \n",
    "\n",
    "    jointFit.p1 <- jointModel(lmeFit.p1, survFit.p1, timeVar = \"start_intime\",\n",
    "        method = \"Cox-PH-GH\")\n",
    "\n",
    "    result_assignment_list[[assignment_id]] <- confint(jointFit.p1)\n",
    "    \n",
    "}"
   ]
  },
  {
   "cell_type": "code",
   "execution_count": 21,
   "metadata": {},
   "outputs": [
    {
     "data": {
      "text/html": [
       "<table>\n",
       "<caption>A matrix: 3 × 3 of type dbl</caption>\n",
       "<thead>\n",
       "\t<tr><th></th><th scope=col>2.5 %</th><th scope=col>est.</th><th scope=col>97.5 %</th></tr>\n",
       "</thead>\n",
       "<tbody>\n",
       "\t<tr><th scope=row>Y.(Intercept)</th><td>97.5478978412</td><td>97.6535098577</td><td>97.7591218742</td></tr>\n",
       "\t<tr><th scope=row>Y.start_intime</th><td>-0.0008356584</td><td>-0.0001903008</td><td> 0.0004550568</td></tr>\n",
       "\t<tr><th scope=row>T.Assoct</th><td>-0.0224348590</td><td>-0.0214346027</td><td>-0.0204343464</td></tr>\n",
       "</tbody>\n",
       "</table>\n"
      ],
      "text/latex": [
       "A matrix: 3 × 3 of type dbl\n",
       "\\begin{tabular}{r|lll}\n",
       "  & 2.5 \\% & est. & 97.5 \\%\\\\\n",
       "\\hline\n",
       "\tY.(Intercept) & 97.5478978412 & 97.6535098577 & 97.7591218742\\\\\n",
       "\tY.start\\_intime & -0.0008356584 & -0.0001903008 &  0.0004550568\\\\\n",
       "\tT.Assoct & -0.0224348590 & -0.0214346027 & -0.0204343464\\\\\n",
       "\\end{tabular}\n"
      ],
      "text/markdown": [
       "\n",
       "A matrix: 3 × 3 of type dbl\n",
       "\n",
       "| <!--/--> | 2.5 % | est. | 97.5 % |\n",
       "|---|---|---|---|\n",
       "| Y.(Intercept) | 97.5478978412 | 97.6535098577 | 97.7591218742 |\n",
       "| Y.start_intime | -0.0008356584 | -0.0001903008 |  0.0004550568 |\n",
       "| T.Assoct | -0.0224348590 | -0.0214346027 | -0.0204343464 |\n",
       "\n"
      ],
      "text/plain": [
       "               2.5 %         est.          97.5 %       \n",
       "Y.(Intercept)  97.5478978412 97.6535098577 97.7591218742\n",
       "Y.start_intime -0.0008356584 -0.0001903008  0.0004550568\n",
       "T.Assoct       -0.0224348590 -0.0214346027 -0.0204343464"
      ]
     },
     "metadata": {},
     "output_type": "display_data"
    }
   ],
   "source": [
    "confint(jointFit.p1)"
   ]
  },
  {
   "cell_type": "code",
   "execution_count": 31,
   "metadata": {},
   "outputs": [],
   "source": [
    "result_assignment_df <- bind_rows(result_assignment_list, .id='ASSIGNMENT')"
   ]
  },
  {
   "cell_type": "code",
   "execution_count": 32,
   "metadata": {},
   "outputs": [],
   "source": [
    "#4000 - 82\n",
    "#8000 - 112\n",
    "#16000 - 1582\n",
    "\n",
    "#60000"
   ]
  },
  {
   "cell_type": "code",
   "execution_count": 33,
   "metadata": {},
   "outputs": [],
   "source": [
    "#result_assignment_df %>% write.csv(\"~/Dropbox/out.csv\")"
   ]
  },
  {
   "cell_type": "code",
   "execution_count": 35,
   "metadata": {},
   "outputs": [
    {
     "data": {
      "text/html": [
       "<table>\n",
       "<caption>A matrix: 3 × 3 of type dbl</caption>\n",
       "<thead>\n",
       "\t<tr><th></th><th scope=col>2.5 %</th><th scope=col>est.</th><th scope=col>97.5 %</th></tr>\n",
       "</thead>\n",
       "<tbody>\n",
       "\t<tr><th scope=row>Y.(Intercept)</th><td>9.212191e+01</td><td>92.568555943</td><td>93.015204876</td></tr>\n",
       "\t<tr><th scope=row>Y.start_intime</th><td>5.770953e-04</td><td> 0.003565061</td><td> 0.006553028</td></tr>\n",
       "\t<tr><th scope=row>T.Assoct</th><td>5.083427e-03</td><td> 0.006100946</td><td> 0.007118465</td></tr>\n",
       "</tbody>\n",
       "</table>\n"
      ],
      "text/latex": [
       "A matrix: 3 × 3 of type dbl\n",
       "\\begin{tabular}{r|lll}\n",
       "  & 2.5 \\% & est. & 97.5 \\%\\\\\n",
       "\\hline\n",
       "\tY.(Intercept) & 9.212191e+01 & 92.568555943 & 93.015204876\\\\\n",
       "\tY.start\\_intime & 5.770953e-04 &  0.003565061 &  0.006553028\\\\\n",
       "\tT.Assoct & 5.083427e-03 &  0.006100946 &  0.007118465\\\\\n",
       "\\end{tabular}\n"
      ],
      "text/markdown": [
       "\n",
       "A matrix: 3 × 3 of type dbl\n",
       "\n",
       "| <!--/--> | 2.5 % | est. | 97.5 % |\n",
       "|---|---|---|---|\n",
       "| Y.(Intercept) | 9.212191e+01 | 92.568555943 | 93.015204876 |\n",
       "| Y.start_intime | 5.770953e-04 |  0.003565061 |  0.006553028 |\n",
       "| T.Assoct | 5.083427e-03 |  0.006100946 |  0.007118465 |\n",
       "\n"
      ],
      "text/plain": [
       "               2.5 %        est.         97.5 %      \n",
       "Y.(Intercept)  9.212191e+01 92.568555943 93.015204876\n",
       "Y.start_intime 5.770953e-04  0.003565061  0.006553028\n",
       "T.Assoct       5.083427e-03  0.006100946  0.007118465"
      ]
     },
     "metadata": {},
     "output_type": "display_data"
    }
   ],
   "source": [
    "result_assignment_list[['HR']]"
   ]
  },
  {
   "cell_type": "code",
   "execution_count": 1,
   "metadata": {},
   "outputs": [
    {
     "data": {
      "text/html": [
       "<table>\n",
       "<caption>A data.frame: 9 × 6</caption>\n",
       "<thead>\n",
       "\t<tr><th scope=col>X</th><th scope=col>ASSIGNMENT</th><th scope=col>HR</th><th scope=col>MBP</th><th scope=col>RR</th><th scope=col>SPO2</th></tr>\n",
       "\t<tr><th scope=col>&lt;int&gt;</th><th scope=col>&lt;int&gt;</th><th scope=col>&lt;dbl&gt;</th><th scope=col>&lt;dbl&gt;</th><th scope=col>&lt;dbl&gt;</th><th scope=col>&lt;dbl&gt;</th></tr>\n",
       "</thead>\n",
       "<tbody>\n",
       "\t<tr><td>1</td><td>1</td><td>9.212191e+01</td><td>77.797542468</td><td>19.387493874</td><td>97.5478978412</td></tr>\n",
       "\t<tr><td>2</td><td>1</td><td>5.770953e-04</td><td> 0.002598712</td><td> 0.006744429</td><td>-0.0008356584</td></tr>\n",
       "\t<tr><td>3</td><td>1</td><td>5.083427e-03</td><td>-0.029030658</td><td> 0.014873482</td><td>-0.0224348590</td></tr>\n",
       "\t<tr><td>4</td><td>1</td><td>9.256856e+01</td><td>77.898353828</td><td>19.586168455</td><td>97.6535098577</td></tr>\n",
       "\t<tr><td>5</td><td>1</td><td>3.565061e-03</td><td> 0.005572834</td><td> 0.007855484</td><td>-0.0001903008</td></tr>\n",
       "\t<tr><td>6</td><td>1</td><td>6.100946e-03</td><td>-0.027749720</td><td> 0.019550394</td><td>-0.0214346027</td></tr>\n",
       "\t<tr><td>7</td><td>1</td><td>9.301520e+01</td><td>77.999165188</td><td>19.784843036</td><td>97.7591218742</td></tr>\n",
       "\t<tr><td>8</td><td>1</td><td>6.553028e-03</td><td> 0.008546957</td><td> 0.008966539</td><td> 0.0004550568</td></tr>\n",
       "\t<tr><td>9</td><td>1</td><td>7.118465e-03</td><td>-0.026468783</td><td> 0.024227306</td><td>-0.0204343464</td></tr>\n",
       "</tbody>\n",
       "</table>\n"
      ],
      "text/latex": [
       "A data.frame: 9 × 6\n",
       "\\begin{tabular}{llllll}\n",
       " X & ASSIGNMENT & HR & MBP & RR & SPO2\\\\\n",
       " <int> & <int> & <dbl> & <dbl> & <dbl> & <dbl>\\\\\n",
       "\\hline\n",
       "\t 1 & 1 & 9.212191e+01 & 77.797542468 & 19.387493874 & 97.5478978412\\\\\n",
       "\t 2 & 1 & 5.770953e-04 &  0.002598712 &  0.006744429 & -0.0008356584\\\\\n",
       "\t 3 & 1 & 5.083427e-03 & -0.029030658 &  0.014873482 & -0.0224348590\\\\\n",
       "\t 4 & 1 & 9.256856e+01 & 77.898353828 & 19.586168455 & 97.6535098577\\\\\n",
       "\t 5 & 1 & 3.565061e-03 &  0.005572834 &  0.007855484 & -0.0001903008\\\\\n",
       "\t 6 & 1 & 6.100946e-03 & -0.027749720 &  0.019550394 & -0.0214346027\\\\\n",
       "\t 7 & 1 & 9.301520e+01 & 77.999165188 & 19.784843036 & 97.7591218742\\\\\n",
       "\t 8 & 1 & 6.553028e-03 &  0.008546957 &  0.008966539 &  0.0004550568\\\\\n",
       "\t 9 & 1 & 7.118465e-03 & -0.026468783 &  0.024227306 & -0.0204343464\\\\\n",
       "\\end{tabular}\n"
      ],
      "text/markdown": [
       "\n",
       "A data.frame: 9 × 6\n",
       "\n",
       "| X &lt;int&gt; | ASSIGNMENT &lt;int&gt; | HR &lt;dbl&gt; | MBP &lt;dbl&gt; | RR &lt;dbl&gt; | SPO2 &lt;dbl&gt; |\n",
       "|---|---|---|---|---|---|\n",
       "| 1 | 1 | 9.212191e+01 | 77.797542468 | 19.387493874 | 97.5478978412 |\n",
       "| 2 | 1 | 5.770953e-04 |  0.002598712 |  0.006744429 | -0.0008356584 |\n",
       "| 3 | 1 | 5.083427e-03 | -0.029030658 |  0.014873482 | -0.0224348590 |\n",
       "| 4 | 1 | 9.256856e+01 | 77.898353828 | 19.586168455 | 97.6535098577 |\n",
       "| 5 | 1 | 3.565061e-03 |  0.005572834 |  0.007855484 | -0.0001903008 |\n",
       "| 6 | 1 | 6.100946e-03 | -0.027749720 |  0.019550394 | -0.0214346027 |\n",
       "| 7 | 1 | 9.301520e+01 | 77.999165188 | 19.784843036 | 97.7591218742 |\n",
       "| 8 | 1 | 6.553028e-03 |  0.008546957 |  0.008966539 |  0.0004550568 |\n",
       "| 9 | 1 | 7.118465e-03 | -0.026468783 |  0.024227306 | -0.0204343464 |\n",
       "\n"
      ],
      "text/plain": [
       "  X ASSIGNMENT HR           MBP          RR           SPO2         \n",
       "1 1 1          9.212191e+01 77.797542468 19.387493874 97.5478978412\n",
       "2 2 1          5.770953e-04  0.002598712  0.006744429 -0.0008356584\n",
       "3 3 1          5.083427e-03 -0.029030658  0.014873482 -0.0224348590\n",
       "4 4 1          9.256856e+01 77.898353828 19.586168455 97.6535098577\n",
       "5 5 1          3.565061e-03  0.005572834  0.007855484 -0.0001903008\n",
       "6 6 1          6.100946e-03 -0.027749720  0.019550394 -0.0214346027\n",
       "7 7 1          9.301520e+01 77.999165188 19.784843036 97.7591218742\n",
       "8 8 1          6.553028e-03  0.008546957  0.008966539  0.0004550568\n",
       "9 9 1          7.118465e-03 -0.026468783  0.024227306 -0.0204343464"
      ]
     },
     "metadata": {},
     "output_type": "display_data"
    }
   ],
   "source": [
    "read.csv(\"~/Dropbox/out.csv\")"
   ]
  },
  {
   "cell_type": "code",
   "execution_count": null,
   "metadata": {},
   "outputs": [],
   "source": []
  }
 ],
 "metadata": {
  "kernelspec": {
   "display_name": "R",
   "language": "R",
   "name": "ir"
  },
  "language_info": {
   "codemirror_mode": "r",
   "file_extension": ".r",
   "mimetype": "text/x-r-source",
   "name": "R",
   "pygments_lexer": "r",
   "version": "4.0.3"
  }
 },
 "nbformat": 4,
 "nbformat_minor": 2
}
