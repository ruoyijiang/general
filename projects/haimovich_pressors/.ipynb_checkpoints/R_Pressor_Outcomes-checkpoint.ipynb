{
 "cells": [
  {
   "cell_type": "markdown",
   "metadata": {},
   "source": [
    "# Pressor Distributions\n",
    "- Ruoyi Jiang\n",
    "- July 19, 2019\n",
    "- Evaluation of the different pressor combinations used in MIMIC"
   ]
  },
  {
   "cell_type": "code",
   "execution_count": 1,
   "metadata": {},
   "outputs": [
    {
     "name": "stderr",
     "output_type": "stream",
     "text": [
      "\n",
      "Attaching package: ‘dplyr’\n",
      "\n",
      "The following objects are masked from ‘package:stats’:\n",
      "\n",
      "    filter, lag\n",
      "\n",
      "The following objects are masked from ‘package:base’:\n",
      "\n",
      "    intersect, setdiff, setequal, union\n",
      "\n"
     ]
    }
   ],
   "source": [
    "library(dplyr)\n",
    "library(tidyr)\n",
    "library(ggplot2)\n",
    "library(fasttime)\n",
    "library(epitools)"
   ]
  },
  {
   "cell_type": "markdown",
   "metadata": {},
   "source": [
    "Filtering criteria:\n",
    "- Groupby continuous courses (<24 hour intervals between pressors not considered separate)\n",
    "- Exclude those on pressors within 1 hr of hospital\n",
    "- First pressor course"
   ]
  },
  {
   "cell_type": "code",
   "execution_count": 2,
   "metadata": {},
   "outputs": [],
   "source": [
    "pressors_df <- read.csv('~/Projects/Haimovich_Pressors/collection/out/pressors.csv')"
   ]
  },
  {
   "cell_type": "code",
   "execution_count": 3,
   "metadata": {},
   "outputs": [
    {
     "data": {
      "text/html": [
       "<ol class=list-inline>\n",
       "\t<li>227645</li>\n",
       "\t<li>11</li>\n",
       "</ol>\n"
      ],
      "text/latex": [
       "\\begin{enumerate*}\n",
       "\\item 227645\n",
       "\\item 11\n",
       "\\end{enumerate*}\n"
      ],
      "text/markdown": [
       "1. 227645\n",
       "2. 11\n",
       "\n",
       "\n"
      ],
      "text/plain": [
       "[1] 227645     11"
      ]
     },
     "metadata": {},
     "output_type": "display_data"
    }
   ],
   "source": [
    "dim(pressors_df)"
   ]
  },
  {
   "cell_type": "code",
   "execution_count": 328,
   "metadata": {},
   "outputs": [
    {
     "data": {
      "text/html": [
       "<table>\n",
       "<caption>A data.frame: 6 × 11</caption>\n",
       "<thead>\n",
       "\t<tr><th scope=col>X</th><th scope=col>level_0</th><th scope=col>level_1</th><th scope=col>duration_hours</th><th scope=col>endtime</th><th scope=col>icustay_id</th><th scope=col>num</th><th scope=col>pressor</th><th scope=col>starttime</th><th scope=col>vasonum</th><th scope=col>ventnum</th></tr>\n",
       "\t<tr><th scope=col>&lt;int&gt;</th><th scope=col>&lt;fct&gt;</th><th scope=col>&lt;int&gt;</th><th scope=col>&lt;dbl&gt;</th><th scope=col>&lt;fct&gt;</th><th scope=col>&lt;dbl&gt;</th><th scope=col>&lt;dbl&gt;</th><th scope=col>&lt;fct&gt;</th><th scope=col>&lt;fct&gt;</th><th scope=col>&lt;dbl&gt;</th><th scope=col>&lt;dbl&gt;</th></tr>\n",
       "</thead>\n",
       "<tbody>\n",
       "\t<tr><td>30584</td><td>central_line_durations</td><td>0</td><td> 70.91667</td><td>2181-11-28 20:59:00</td><td>200001</td><td>NA</td><td>central_line_durations</td><td>2181-11-25 22:04:00</td><td>NA</td><td>NA</td></tr>\n",
       "\t<tr><td>30585</td><td>central_line_durations</td><td>1</td><td>134.00000</td><td>2199-08-08 15:00:00</td><td>200003</td><td>NA</td><td>central_line_durations</td><td>2199-08-03 01:00:00</td><td>NA</td><td>NA</td></tr>\n",
       "\t<tr><td>30586</td><td>central_line_durations</td><td>2</td><td> 37.75000</td><td>2189-12-02 08:00:00</td><td>200009</td><td>NA</td><td>central_line_durations</td><td>2189-11-30 18:15:00</td><td>NA</td><td>NA</td></tr>\n",
       "\t<tr><td>30587</td><td>central_line_durations</td><td>3</td><td> 19.68333</td><td>2132-08-05 20:36:00</td><td>200010</td><td>NA</td><td>central_line_durations</td><td>2132-08-05 00:55:00</td><td>NA</td><td>NA</td></tr>\n",
       "\t<tr><td>30588</td><td>central_line_durations</td><td>4</td><td> 23.76667</td><td>2114-12-27 22:46:00</td><td>200021</td><td>NA</td><td>central_line_durations</td><td>2114-12-26 23:00:00</td><td>NA</td><td>NA</td></tr>\n",
       "\t<tr><td>30589</td><td>central_line_durations</td><td>5</td><td>  9.30000</td><td>2127-03-04 01:18:00</td><td>200024</td><td>NA</td><td>central_line_durations</td><td>2127-03-03 16:00:00</td><td>NA</td><td>NA</td></tr>\n",
       "</tbody>\n",
       "</table>\n"
      ],
      "text/latex": [
       "A data.frame: 6 × 11\n",
       "\\begin{tabular}{r|lllllllllll}\n",
       " X & level\\_0 & level\\_1 & duration\\_hours & endtime & icustay\\_id & num & pressor & starttime & vasonum & ventnum\\\\\n",
       " <int> & <fct> & <int> & <dbl> & <fct> & <dbl> & <dbl> & <fct> & <fct> & <dbl> & <dbl>\\\\\n",
       "\\hline\n",
       "\t 30584 & central\\_line\\_durations & 0 &  70.91667 & 2181-11-28 20:59:00 & 200001 & NA & central\\_line\\_durations & 2181-11-25 22:04:00 & NA & NA\\\\\n",
       "\t 30585 & central\\_line\\_durations & 1 & 134.00000 & 2199-08-08 15:00:00 & 200003 & NA & central\\_line\\_durations & 2199-08-03 01:00:00 & NA & NA\\\\\n",
       "\t 30586 & central\\_line\\_durations & 2 &  37.75000 & 2189-12-02 08:00:00 & 200009 & NA & central\\_line\\_durations & 2189-11-30 18:15:00 & NA & NA\\\\\n",
       "\t 30587 & central\\_line\\_durations & 3 &  19.68333 & 2132-08-05 20:36:00 & 200010 & NA & central\\_line\\_durations & 2132-08-05 00:55:00 & NA & NA\\\\\n",
       "\t 30588 & central\\_line\\_durations & 4 &  23.76667 & 2114-12-27 22:46:00 & 200021 & NA & central\\_line\\_durations & 2114-12-26 23:00:00 & NA & NA\\\\\n",
       "\t 30589 & central\\_line\\_durations & 5 &   9.30000 & 2127-03-04 01:18:00 & 200024 & NA & central\\_line\\_durations & 2127-03-03 16:00:00 & NA & NA\\\\\n",
       "\\end{tabular}\n"
      ],
      "text/markdown": [
       "\n",
       "A data.frame: 6 × 11\n",
       "\n",
       "| X &lt;int&gt; | level_0 &lt;fct&gt; | level_1 &lt;int&gt; | duration_hours &lt;dbl&gt; | endtime &lt;fct&gt; | icustay_id &lt;dbl&gt; | num &lt;dbl&gt; | pressor &lt;fct&gt; | starttime &lt;fct&gt; | vasonum &lt;dbl&gt; | ventnum &lt;dbl&gt; |\n",
       "|---|---|---|---|---|---|---|---|---|---|---|\n",
       "| 30584 | central_line_durations | 0 |  70.91667 | 2181-11-28 20:59:00 | 200001 | NA | central_line_durations | 2181-11-25 22:04:00 | NA | NA |\n",
       "| 30585 | central_line_durations | 1 | 134.00000 | 2199-08-08 15:00:00 | 200003 | NA | central_line_durations | 2199-08-03 01:00:00 | NA | NA |\n",
       "| 30586 | central_line_durations | 2 |  37.75000 | 2189-12-02 08:00:00 | 200009 | NA | central_line_durations | 2189-11-30 18:15:00 | NA | NA |\n",
       "| 30587 | central_line_durations | 3 |  19.68333 | 2132-08-05 20:36:00 | 200010 | NA | central_line_durations | 2132-08-05 00:55:00 | NA | NA |\n",
       "| 30588 | central_line_durations | 4 |  23.76667 | 2114-12-27 22:46:00 | 200021 | NA | central_line_durations | 2114-12-26 23:00:00 | NA | NA |\n",
       "| 30589 | central_line_durations | 5 |   9.30000 | 2127-03-04 01:18:00 | 200024 | NA | central_line_durations | 2127-03-03 16:00:00 | NA | NA |\n",
       "\n"
      ],
      "text/plain": [
       "  X     level_0                level_1 duration_hours endtime            \n",
       "1 30584 central_line_durations 0        70.91667      2181-11-28 20:59:00\n",
       "2 30585 central_line_durations 1       134.00000      2199-08-08 15:00:00\n",
       "3 30586 central_line_durations 2        37.75000      2189-12-02 08:00:00\n",
       "4 30587 central_line_durations 3        19.68333      2132-08-05 20:36:00\n",
       "5 30588 central_line_durations 4        23.76667      2114-12-27 22:46:00\n",
       "6 30589 central_line_durations 5         9.30000      2127-03-04 01:18:00\n",
       "  icustay_id num pressor                starttime           vasonum ventnum\n",
       "1 200001     NA  central_line_durations 2181-11-25 22:04:00 NA      NA     \n",
       "2 200003     NA  central_line_durations 2199-08-03 01:00:00 NA      NA     \n",
       "3 200009     NA  central_line_durations 2189-11-30 18:15:00 NA      NA     \n",
       "4 200010     NA  central_line_durations 2132-08-05 00:55:00 NA      NA     \n",
       "5 200021     NA  central_line_durations 2114-12-26 23:00:00 NA      NA     \n",
       "6 200024     NA  central_line_durations 2127-03-03 16:00:00 NA      NA     "
      ]
     },
     "metadata": {},
     "output_type": "display_data"
    }
   ],
   "source": [
    "pressors_df %>%\n",
    "    filter(pressor == \"central_line_durations\") %>% head()"
   ]
  },
  {
   "cell_type": "code",
   "execution_count": 83,
   "metadata": {},
   "outputs": [
    {
     "data": {
      "text/html": [
       "<table>\n",
       "<caption>A data.frame: 6 × 11</caption>\n",
       "<thead>\n",
       "\t<tr><th scope=col>X</th><th scope=col>level_0</th><th scope=col>level_1</th><th scope=col>duration_hours</th><th scope=col>endtime</th><th scope=col>icustay_id</th><th scope=col>num</th><th scope=col>pressor</th><th scope=col>starttime</th><th scope=col>vasonum</th><th scope=col>ventnum</th></tr>\n",
       "\t<tr><th scope=col>&lt;int&gt;</th><th scope=col>&lt;fct&gt;</th><th scope=col>&lt;int&gt;</th><th scope=col>&lt;dbl&gt;</th><th scope=col>&lt;fct&gt;</th><th scope=col>&lt;dbl&gt;</th><th scope=col>&lt;dbl&gt;</th><th scope=col>&lt;fct&gt;</th><th scope=col>&lt;fct&gt;</th><th scope=col>&lt;dbl&gt;</th><th scope=col>&lt;dbl&gt;</th></tr>\n",
       "</thead>\n",
       "<tbody>\n",
       "\t<tr><td>189130</td><td>ventdurations</td><td>0</td><td>91.00000</td><td>2199-08-07 13:00:00</td><td>200003</td><td>NA</td><td>ventdurations</td><td>2199-08-03 18:00:00</td><td>NA</td><td>1</td></tr>\n",
       "\t<tr><td>189131</td><td>ventdurations</td><td>1</td><td>14.83333</td><td>2159-09-04 03:50:00</td><td>200006</td><td>NA</td><td>ventdurations</td><td>2159-09-03 13:00:00</td><td>NA</td><td>1</td></tr>\n",
       "\t<tr><td>189132</td><td>ventdurations</td><td>2</td><td>15.83333</td><td>2189-12-01 10:00:00</td><td>200009</td><td>NA</td><td>ventdurations</td><td>2189-11-30 18:10:00</td><td>NA</td><td>1</td></tr>\n",
       "\t<tr><td>189133</td><td>ventdurations</td><td>3</td><td> 3.00000</td><td>2188-08-06 04:00:00</td><td>200011</td><td>NA</td><td>ventdurations</td><td>2188-08-06 01:00:00</td><td>NA</td><td>1</td></tr>\n",
       "\t<tr><td>189134</td><td>ventdurations</td><td>4</td><td>18.75000</td><td>2105-02-17 18:00:00</td><td>200014</td><td>NA</td><td>ventdurations</td><td>2105-02-16 23:15:00</td><td>NA</td><td>1</td></tr>\n",
       "\t<tr><td>189135</td><td>ventdurations</td><td>5</td><td>83.00000</td><td>2138-03-21 09:00:00</td><td>200017</td><td>NA</td><td>ventdurations</td><td>2138-03-17 22:00:00</td><td>NA</td><td>1</td></tr>\n",
       "</tbody>\n",
       "</table>\n"
      ],
      "text/latex": [
       "A data.frame: 6 × 11\n",
       "\\begin{tabular}{r|lllllllllll}\n",
       " X & level\\_0 & level\\_1 & duration\\_hours & endtime & icustay\\_id & num & pressor & starttime & vasonum & ventnum\\\\\n",
       " <int> & <fct> & <int> & <dbl> & <fct> & <dbl> & <dbl> & <fct> & <fct> & <dbl> & <dbl>\\\\\n",
       "\\hline\n",
       "\t 189130 & ventdurations & 0 & 91.00000 & 2199-08-07 13:00:00 & 200003 & NA & ventdurations & 2199-08-03 18:00:00 & NA & 1\\\\\n",
       "\t 189131 & ventdurations & 1 & 14.83333 & 2159-09-04 03:50:00 & 200006 & NA & ventdurations & 2159-09-03 13:00:00 & NA & 1\\\\\n",
       "\t 189132 & ventdurations & 2 & 15.83333 & 2189-12-01 10:00:00 & 200009 & NA & ventdurations & 2189-11-30 18:10:00 & NA & 1\\\\\n",
       "\t 189133 & ventdurations & 3 &  3.00000 & 2188-08-06 04:00:00 & 200011 & NA & ventdurations & 2188-08-06 01:00:00 & NA & 1\\\\\n",
       "\t 189134 & ventdurations & 4 & 18.75000 & 2105-02-17 18:00:00 & 200014 & NA & ventdurations & 2105-02-16 23:15:00 & NA & 1\\\\\n",
       "\t 189135 & ventdurations & 5 & 83.00000 & 2138-03-21 09:00:00 & 200017 & NA & ventdurations & 2138-03-17 22:00:00 & NA & 1\\\\\n",
       "\\end{tabular}\n"
      ],
      "text/markdown": [
       "\n",
       "A data.frame: 6 × 11\n",
       "\n",
       "| X &lt;int&gt; | level_0 &lt;fct&gt; | level_1 &lt;int&gt; | duration_hours &lt;dbl&gt; | endtime &lt;fct&gt; | icustay_id &lt;dbl&gt; | num &lt;dbl&gt; | pressor &lt;fct&gt; | starttime &lt;fct&gt; | vasonum &lt;dbl&gt; | ventnum &lt;dbl&gt; |\n",
       "|---|---|---|---|---|---|---|---|---|---|---|\n",
       "| 189130 | ventdurations | 0 | 91.00000 | 2199-08-07 13:00:00 | 200003 | NA | ventdurations | 2199-08-03 18:00:00 | NA | 1 |\n",
       "| 189131 | ventdurations | 1 | 14.83333 | 2159-09-04 03:50:00 | 200006 | NA | ventdurations | 2159-09-03 13:00:00 | NA | 1 |\n",
       "| 189132 | ventdurations | 2 | 15.83333 | 2189-12-01 10:00:00 | 200009 | NA | ventdurations | 2189-11-30 18:10:00 | NA | 1 |\n",
       "| 189133 | ventdurations | 3 |  3.00000 | 2188-08-06 04:00:00 | 200011 | NA | ventdurations | 2188-08-06 01:00:00 | NA | 1 |\n",
       "| 189134 | ventdurations | 4 | 18.75000 | 2105-02-17 18:00:00 | 200014 | NA | ventdurations | 2105-02-16 23:15:00 | NA | 1 |\n",
       "| 189135 | ventdurations | 5 | 83.00000 | 2138-03-21 09:00:00 | 200017 | NA | ventdurations | 2138-03-17 22:00:00 | NA | 1 |\n",
       "\n"
      ],
      "text/plain": [
       "  X      level_0       level_1 duration_hours endtime             icustay_id\n",
       "1 189130 ventdurations 0       91.00000       2199-08-07 13:00:00 200003    \n",
       "2 189131 ventdurations 1       14.83333       2159-09-04 03:50:00 200006    \n",
       "3 189132 ventdurations 2       15.83333       2189-12-01 10:00:00 200009    \n",
       "4 189133 ventdurations 3        3.00000       2188-08-06 04:00:00 200011    \n",
       "5 189134 ventdurations 4       18.75000       2105-02-17 18:00:00 200014    \n",
       "6 189135 ventdurations 5       83.00000       2138-03-21 09:00:00 200017    \n",
       "  num pressor       starttime           vasonum ventnum\n",
       "1 NA  ventdurations 2199-08-03 18:00:00 NA      1      \n",
       "2 NA  ventdurations 2159-09-03 13:00:00 NA      1      \n",
       "3 NA  ventdurations 2189-11-30 18:10:00 NA      1      \n",
       "4 NA  ventdurations 2188-08-06 01:00:00 NA      1      \n",
       "5 NA  ventdurations 2105-02-16 23:15:00 NA      1      \n",
       "6 NA  ventdurations 2138-03-17 22:00:00 NA      1      "
      ]
     },
     "metadata": {},
     "output_type": "display_data"
    }
   ],
   "source": [
    "pressors_df %>%\n",
    "    filter(pressor == \"ventdurations\") %>% head()"
   ]
  },
  {
   "cell_type": "markdown",
   "metadata": {},
   "source": [
    "### Available pressor (and other infusions) choices"
   ]
  },
  {
   "cell_type": "code",
   "execution_count": 227,
   "metadata": {},
   "outputs": [
    {
     "data": {
      "text/html": [
       "<ol class=list-inline>\n",
       "\t<li>adenosinedurations</li>\n",
       "\t<li>arterial_line_durations</li>\n",
       "\t<li>central_line_durations</li>\n",
       "\t<li>crrtdurations</li>\n",
       "\t<li>dobutaminedurations</li>\n",
       "\t<li>dopaminedurations</li>\n",
       "\t<li>epinephrinedurations</li>\n",
       "\t<li>isupreldurations</li>\n",
       "\t<li>milrinonedurations</li>\n",
       "\t<li>norepinephrinedurations</li>\n",
       "\t<li>phenylephrinedurations</li>\n",
       "\t<li>vasopressindurations</li>\n",
       "\t<li>vasopressordurations</li>\n",
       "\t<li>ventdurations</li>\n",
       "</ol>\n",
       "\n",
       "<details>\n",
       "\t<summary style=display:list-item;cursor:pointer>\n",
       "\t\t<strong>Levels</strong>:\n",
       "\t</summary>\n",
       "\t<ol class=list-inline>\n",
       "\t\t<li>'adenosinedurations'</li>\n",
       "\t\t<li>'arterial_line_durations'</li>\n",
       "\t\t<li>'central_line_durations'</li>\n",
       "\t\t<li>'crrtdurations'</li>\n",
       "\t\t<li>'dobutaminedurations'</li>\n",
       "\t\t<li>'dopaminedurations'</li>\n",
       "\t\t<li>'epinephrinedurations'</li>\n",
       "\t\t<li>'isupreldurations'</li>\n",
       "\t\t<li>'milrinonedurations'</li>\n",
       "\t\t<li>'norepinephrinedurations'</li>\n",
       "\t\t<li>'phenylephrinedurations'</li>\n",
       "\t\t<li>'vasopressindurations'</li>\n",
       "\t\t<li>'vasopressordurations'</li>\n",
       "\t\t<li>'ventdurations'</li>\n",
       "\t</ol>\n",
       "</details>"
      ],
      "text/latex": [
       "\\begin{enumerate*}\n",
       "\\item adenosinedurations\n",
       "\\item arterial\\_line\\_durations\n",
       "\\item central\\_line\\_durations\n",
       "\\item crrtdurations\n",
       "\\item dobutaminedurations\n",
       "\\item dopaminedurations\n",
       "\\item epinephrinedurations\n",
       "\\item isupreldurations\n",
       "\\item milrinonedurations\n",
       "\\item norepinephrinedurations\n",
       "\\item phenylephrinedurations\n",
       "\\item vasopressindurations\n",
       "\\item vasopressordurations\n",
       "\\item ventdurations\n",
       "\\end{enumerate*}\n",
       "\n",
       "\\emph{Levels}: \\begin{enumerate*}\n",
       "\\item 'adenosinedurations'\n",
       "\\item 'arterial\\_line\\_durations'\n",
       "\\item 'central\\_line\\_durations'\n",
       "\\item 'crrtdurations'\n",
       "\\item 'dobutaminedurations'\n",
       "\\item 'dopaminedurations'\n",
       "\\item 'epinephrinedurations'\n",
       "\\item 'isupreldurations'\n",
       "\\item 'milrinonedurations'\n",
       "\\item 'norepinephrinedurations'\n",
       "\\item 'phenylephrinedurations'\n",
       "\\item 'vasopressindurations'\n",
       "\\item 'vasopressordurations'\n",
       "\\item 'ventdurations'\n",
       "\\end{enumerate*}\n"
      ],
      "text/markdown": [
       "1. adenosinedurations\n",
       "2. arterial_line_durations\n",
       "3. central_line_durations\n",
       "4. crrtdurations\n",
       "5. dobutaminedurations\n",
       "6. dopaminedurations\n",
       "7. epinephrinedurations\n",
       "8. isupreldurations\n",
       "9. milrinonedurations\n",
       "10. norepinephrinedurations\n",
       "11. phenylephrinedurations\n",
       "12. vasopressindurations\n",
       "13. vasopressordurations\n",
       "14. ventdurations\n",
       "\n",
       "\n",
       "\n",
       "**Levels**: 1. 'adenosinedurations'\n",
       "2. 'arterial_line_durations'\n",
       "3. 'central_line_durations'\n",
       "4. 'crrtdurations'\n",
       "5. 'dobutaminedurations'\n",
       "6. 'dopaminedurations'\n",
       "7. 'epinephrinedurations'\n",
       "8. 'isupreldurations'\n",
       "9. 'milrinonedurations'\n",
       "10. 'norepinephrinedurations'\n",
       "11. 'phenylephrinedurations'\n",
       "12. 'vasopressindurations'\n",
       "13. 'vasopressordurations'\n",
       "14. 'ventdurations'\n",
       "\n",
       "\n"
      ],
      "text/plain": [
       " [1] adenosinedurations      arterial_line_durations central_line_durations \n",
       " [4] crrtdurations           dobutaminedurations     dopaminedurations      \n",
       " [7] epinephrinedurations    isupreldurations        milrinonedurations     \n",
       "[10] norepinephrinedurations phenylephrinedurations  vasopressindurations   \n",
       "[13] vasopressordurations    ventdurations          \n",
       "14 Levels: adenosinedurations ... ventdurations"
      ]
     },
     "metadata": {},
     "output_type": "display_data"
    }
   ],
   "source": [
    "unique(pressors_df$pressor)"
   ]
  },
  {
   "cell_type": "code",
   "execution_count": 544,
   "metadata": {},
   "outputs": [],
   "source": [
    "pressor_choices <- c(\"norepinephrinedurations\", \"dopaminedurations\", \"phenylephrinedurations\")"
   ]
  },
  {
   "cell_type": "code",
   "execution_count": 546,
   "metadata": {},
   "outputs": [
    {
     "data": {
      "text/html": [
       "<table>\n",
       "<caption>A grouped_df: 6 × 3</caption>\n",
       "<thead>\n",
       "\t<tr><th scope=col>SHORT</th><th scope=col>pressor</th><th scope=col>COUNT</th></tr>\n",
       "\t<tr><th scope=col>&lt;lgl&gt;</th><th scope=col>&lt;fct&gt;</th><th scope=col>&lt;int&gt;</th></tr>\n",
       "</thead>\n",
       "<tbody>\n",
       "\t<tr><td>FALSE</td><td>dopaminedurations      </td><td> 1122</td></tr>\n",
       "\t<tr><td>FALSE</td><td>norepinephrinedurations</td><td> 3407</td></tr>\n",
       "\t<tr><td>FALSE</td><td>phenylephrinedurations </td><td> 2739</td></tr>\n",
       "\t<tr><td> TRUE</td><td>dopaminedurations      </td><td> 5402</td></tr>\n",
       "\t<tr><td> TRUE</td><td>norepinephrinedurations</td><td>19781</td></tr>\n",
       "\t<tr><td> TRUE</td><td>phenylephrinedurations </td><td>30402</td></tr>\n",
       "</tbody>\n",
       "</table>\n"
      ],
      "text/latex": [
       "A grouped_df: 6 × 3\n",
       "\\begin{tabular}{r|lll}\n",
       " SHORT & pressor & COUNT\\\\\n",
       " <lgl> & <fct> & <int>\\\\\n",
       "\\hline\n",
       "\t FALSE & dopaminedurations       &  1122\\\\\n",
       "\t FALSE & norepinephrinedurations &  3407\\\\\n",
       "\t FALSE & phenylephrinedurations  &  2739\\\\\n",
       "\t  TRUE & dopaminedurations       &  5402\\\\\n",
       "\t  TRUE & norepinephrinedurations & 19781\\\\\n",
       "\t  TRUE & phenylephrinedurations  & 30402\\\\\n",
       "\\end{tabular}\n"
      ],
      "text/markdown": [
       "\n",
       "A grouped_df: 6 × 3\n",
       "\n",
       "| SHORT &lt;lgl&gt; | pressor &lt;fct&gt; | COUNT &lt;int&gt; |\n",
       "|---|---|---|\n",
       "| FALSE | dopaminedurations       |  1122 |\n",
       "| FALSE | norepinephrinedurations |  3407 |\n",
       "| FALSE | phenylephrinedurations  |  2739 |\n",
       "|  TRUE | dopaminedurations       |  5402 |\n",
       "|  TRUE | norepinephrinedurations | 19781 |\n",
       "|  TRUE | phenylephrinedurations  | 30402 |\n",
       "\n"
      ],
      "text/plain": [
       "  SHORT pressor                 COUNT\n",
       "1 FALSE dopaminedurations        1122\n",
       "2 FALSE norepinephrinedurations  3407\n",
       "3 FALSE phenylephrinedurations   2739\n",
       "4  TRUE dopaminedurations        5402\n",
       "5  TRUE norepinephrinedurations 19781\n",
       "6  TRUE phenylephrinedurations  30402"
      ]
     },
     "metadata": {},
     "output_type": "display_data"
    }
   ],
   "source": [
    "pressors_df %>%\n",
    "    filter(pressor %in% pressor_choices)  %>%\n",
    "    mutate(SHORT = duration_hours < 24) %>%\n",
    "    group_by(SHORT, pressor) %>% \n",
    "    summarize(COUNT = n())"
   ]
  },
  {
   "cell_type": "markdown",
   "metadata": {},
   "source": [
    "# Histograms of pressor durations for norepi"
   ]
  },
  {
   "cell_type": "code",
   "execution_count": 547,
   "metadata": {},
   "outputs": [
    {
     "name": "stderr",
     "output_type": "stream",
     "text": [
      "Don't know how to automatically pick scale for object of type difftime. Defaulting to continuous.\n",
      "`stat_bin()` using `bins = 30`. Pick better value with `binwidth`.\n",
      "Warning message:\n",
      "“Removed 1254 rows containing non-finite values (stat_bin).”Warning message:\n",
      "“Removed 1254 rows containing non-finite values (stat_density).”"
     ]
    },
    {
     "data": {
      "image/png": "[encoded data removed]",
      "text/plain": [
       "plot without title"
      ]
     },
     "metadata": {},
     "output_type": "display_data"
    }
   ],
   "source": [
    "options(repr.plot.width=3, repr.plot.height=3)\n",
    "pressors_df %>%\n",
    "    filter(pressor %in% pressor_choices)  %>%\n",
    "    mutate(DIFF = \n",
    "              difftime(fastPOSIXct(endtime), \n",
    "               fastPOSIXct(starttime), units=\"hours\")) %>%\n",
    "    ggplot(aes(x=DIFF)) +\n",
    "        geom_histogram(aes(y=..density..), position=\"identity\", alpha=0.5)+\n",
    "        geom_density(alpha=0.6)+\n",
    "        scale_color_manual(values=c(\"#999999\", \"#E69F00\", \"#56B4E9\"))+\n",
    "        scale_fill_manual(values=c(\"#999999\", \"#E69F00\", \"#56B4E9\"))+\n",
    "        labs(title=\"Histogram\",x=\"Hours\", y = \"Density\")+\n",
    "        theme_classic()"
   ]
  },
  {
   "cell_type": "code",
   "execution_count": 548,
   "metadata": {},
   "outputs": [
    {
     "name": "stderr",
     "output_type": "stream",
     "text": [
      "Don't know how to automatically pick scale for object of type difftime. Defaulting to continuous.\n",
      "`stat_bin()` using `bins = 30`. Pick better value with `binwidth`.\n"
     ]
    },
    {
     "data": {
      "image/png": "[encoded data removed]",
      "text/plain": [
       "plot without title"
      ]
     },
     "metadata": {},
     "output_type": "display_data"
    }
   ],
   "source": [
    "options(repr.plot.width=3, repr.plot.height=3)\n",
    "pressors_df %>%\n",
    "    filter(pressor %in% pressor_choices)  %>%\n",
    "    mutate(DIFF = \n",
    "              difftime(fastPOSIXct(endtime), \n",
    "               fastPOSIXct(starttime), units=\"hours\")) %>%\n",
    "    filter(DIFF < 48) %>%\n",
    "    ggplot(aes(x=DIFF)) +\n",
    "        geom_histogram(aes(y=..density..), position=\"identity\", alpha=0.5)+\n",
    "        geom_density(alpha=0.6)+\n",
    "        scale_color_manual(values=c(\"#999999\", \"#E69F00\", \"#56B4E9\"))+\n",
    "        scale_fill_manual(values=c(\"#999999\", \"#E69F00\", \"#56B4E9\"))+\n",
    "        labs(title=\"Histogram\",x=\"Hours\", y = \"Density\")+\n",
    "        theme_classic()"
   ]
  },
  {
   "cell_type": "markdown",
   "metadata": {},
   "source": [
    "### Join with icustay metadata"
   ]
  },
  {
   "cell_type": "code",
   "execution_count": 138,
   "metadata": {},
   "outputs": [],
   "source": [
    "lengthstay_df <- read.csv('~/Projects/Haimovich_Pressors/collection/out/length_stay.csv') %>%\n",
    "    rename(icustarttime = START, icuendtime = END)"
   ]
  },
  {
   "cell_type": "code",
   "execution_count": 139,
   "metadata": {},
   "outputs": [
    {
     "data": {
      "text/html": [
       "<table>\n",
       "<caption>A data.frame: 6 × 5</caption>\n",
       "<thead>\n",
       "\t<tr><th scope=col>X</th><th scope=col>icustay_id</th><th scope=col>icustarttime</th><th scope=col>icuendtime</th><th scope=col>DIFF</th></tr>\n",
       "\t<tr><th scope=col>&lt;int&gt;</th><th scope=col>&lt;int&gt;</th><th scope=col>&lt;fct&gt;</th><th scope=col>&lt;fct&gt;</th><th scope=col>&lt;dbl&gt;</th></tr>\n",
       "</thead>\n",
       "<tbody>\n",
       "\t<tr><td>1</td><td>200001</td><td>2181-11-25 19:06:00</td><td>2181-11-28 20:00:00</td><td> 72.90000</td></tr>\n",
       "\t<tr><td>2</td><td>200003</td><td>2199-08-02 19:15:00</td><td>2199-08-08 15:00:00</td><td>139.75000</td></tr>\n",
       "\t<tr><td>3</td><td>200006</td><td>2159-09-03 12:30:00</td><td>2159-09-04 17:00:00</td><td> 28.50000</td></tr>\n",
       "\t<tr><td>4</td><td>200007</td><td>2109-02-17 09:00:00</td><td>2109-02-18 09:15:00</td><td> 24.25000</td></tr>\n",
       "\t<tr><td>5</td><td>200009</td><td>2189-11-30 11:43:00</td><td>2189-12-02 13:00:00</td><td> 49.28333</td></tr>\n",
       "\t<tr><td>6</td><td>200010</td><td>2132-08-05 00:39:00</td><td>2132-08-05 21:17:00</td><td> 20.63333</td></tr>\n",
       "</tbody>\n",
       "</table>\n"
      ],
      "text/latex": [
       "A data.frame: 6 × 5\n",
       "\\begin{tabular}{r|lllll}\n",
       " X & icustay\\_id & icustarttime & icuendtime & DIFF\\\\\n",
       " <int> & <int> & <fct> & <fct> & <dbl>\\\\\n",
       "\\hline\n",
       "\t 1 & 200001 & 2181-11-25 19:06:00 & 2181-11-28 20:00:00 &  72.90000\\\\\n",
       "\t 2 & 200003 & 2199-08-02 19:15:00 & 2199-08-08 15:00:00 & 139.75000\\\\\n",
       "\t 3 & 200006 & 2159-09-03 12:30:00 & 2159-09-04 17:00:00 &  28.50000\\\\\n",
       "\t 4 & 200007 & 2109-02-17 09:00:00 & 2109-02-18 09:15:00 &  24.25000\\\\\n",
       "\t 5 & 200009 & 2189-11-30 11:43:00 & 2189-12-02 13:00:00 &  49.28333\\\\\n",
       "\t 6 & 200010 & 2132-08-05 00:39:00 & 2132-08-05 21:17:00 &  20.63333\\\\\n",
       "\\end{tabular}\n"
      ],
      "text/markdown": [
       "\n",
       "A data.frame: 6 × 5\n",
       "\n",
       "| X &lt;int&gt; | icustay_id &lt;int&gt; | icustarttime &lt;fct&gt; | icuendtime &lt;fct&gt; | DIFF &lt;dbl&gt; |\n",
       "|---|---|---|---|---|\n",
       "| 1 | 200001 | 2181-11-25 19:06:00 | 2181-11-28 20:00:00 |  72.90000 |\n",
       "| 2 | 200003 | 2199-08-02 19:15:00 | 2199-08-08 15:00:00 | 139.75000 |\n",
       "| 3 | 200006 | 2159-09-03 12:30:00 | 2159-09-04 17:00:00 |  28.50000 |\n",
       "| 4 | 200007 | 2109-02-17 09:00:00 | 2109-02-18 09:15:00 |  24.25000 |\n",
       "| 5 | 200009 | 2189-11-30 11:43:00 | 2189-12-02 13:00:00 |  49.28333 |\n",
       "| 6 | 200010 | 2132-08-05 00:39:00 | 2132-08-05 21:17:00 |  20.63333 |\n",
       "\n"
      ],
      "text/plain": [
       "  X icustay_id icustarttime        icuendtime          DIFF     \n",
       "1 1 200001     2181-11-25 19:06:00 2181-11-28 20:00:00  72.90000\n",
       "2 2 200003     2199-08-02 19:15:00 2199-08-08 15:00:00 139.75000\n",
       "3 3 200006     2159-09-03 12:30:00 2159-09-04 17:00:00  28.50000\n",
       "4 4 200007     2109-02-17 09:00:00 2109-02-18 09:15:00  24.25000\n",
       "5 5 200009     2189-11-30 11:43:00 2189-12-02 13:00:00  49.28333\n",
       "6 6 200010     2132-08-05 00:39:00 2132-08-05 21:17:00  20.63333"
      ]
     },
     "metadata": {},
     "output_type": "display_data"
    }
   ],
   "source": [
    "lengthstay_df %>% head()"
   ]
  },
  {
   "cell_type": "code",
   "execution_count": 518,
   "metadata": {},
   "outputs": [],
   "source": [
    "# filter by pressor and left join with lengthstay_df\n",
    "input_df <- pressors_df %>%\n",
    "    filter('norepinephrinedurations' == pressor) %>%\n",
    "    left_join(lengthstay_df, by = \"icustay_id\") %>%\n",
    "    mutate(starttime = fastPOSIXct(starttime), endtime = fastPOSIXct(endtime), \n",
    "           icustarttime = fastPOSIXct(icustarttime), icuendtime = fastPOSIXct(icuendtime))"
   ]
  },
  {
   "cell_type": "markdown",
   "metadata": {},
   "source": [
    "# Filters"
   ]
  },
  {
   "cell_type": "markdown",
   "metadata": {},
   "source": [
    "#### Collapse pressor courses based on length of intervening time (<24 hrs)\n",
    "- Any two courses with less than intervening 24 hours will be collapsed into a single course within an icustay"
   ]
  },
  {
   "cell_type": "code",
   "execution_count": 519,
   "metadata": {},
   "outputs": [],
   "source": [
    "max_intervening_hrs <- 24\n",
    "\n",
    "# find the intervening time between courses (endtime of next course - endtime of course - duration of course)\n",
    "# then determine if that length of time is >24 or <24 and mark it with a 0 if true, else a 1\n",
    "# use a cumsum to create a new id separating courses that are separated by more than >24\n",
    "input_df <- input_df %>%\n",
    "    group_by(icustay_id) %>%\n",
    "    mutate(intervening_hours = difftime(endtime, lag(endtime), units=\"hours\") - duration_hours) %>%\n",
    "    rowwise() %>%\n",
    "    mutate(increasing = if(intervening_hours < max_intervening_hrs | is.na(intervening_hours)){0}else(1)) %>%\n",
    "    ungroup() %>%\n",
    "    group_by(icustay_id) %>%\n",
    "    mutate(continuous_course = cumsum(increasing)) %>% select(-intervening_hours, -increasing)"
   ]
  },
  {
   "cell_type": "markdown",
   "metadata": {},
   "source": [
    "- the combination of **continuous course** and **icustay_id** (e.g. 200024, 0 for first row) now defines each pressor course"
   ]
  },
  {
   "cell_type": "markdown",
   "metadata": {},
   "source": [
    "- assign boolean assessments after <24 hour intervals between pressors are removed\n",
    "    1. more or less than 24 hours of pressor duration?\n",
    "    2. is this the first pressor course?\n",
    "    3. are pressors administered <1 hr of the icustay?"
   ]
  },
  {
   "cell_type": "code",
   "execution_count": 521,
   "metadata": {},
   "outputs": [],
   "source": [
    "# 1. more or less than 24 hours?\n",
    "input_df <- input_df %>%\n",
    "    group_by(icustay_id, continuous_course) %>%\n",
    "    mutate(MORETHAN24HOURS = sum(duration_hours) > 24, \n",
    "           STATUS = if(sum(duration_hours) > 24){\"MORETHAN24HOURS\"}\n",
    "           else if(sum(duration_hours) <= 24 & sum(duration_hours) > 6){\"LESSTHAN24HOURS\"}\n",
    "           else if(sum(duration_hours) <= 6){\"LESSTHAN6HOURS\"}\n",
    "               )"
   ]
  },
  {
   "cell_type": "code",
   "execution_count": 522,
   "metadata": {},
   "outputs": [],
   "source": [
    "# 2. first pressor course? (groupby icustay, filter min starttime == starttime)\n",
    "input_df <- input_df %>%\n",
    "    group_by(icustay_id, continuous_course) %>%\n",
    "    mutate(coursestarttime = min(starttime)) %>%\n",
    "    group_by(icustay_id) %>%\n",
    "    mutate(FIRSTCOURSE = min(coursestarttime) == coursestarttime)"
   ]
  },
  {
   "cell_type": "code",
   "execution_count": 523,
   "metadata": {},
   "outputs": [],
   "source": [
    "# 3. pressors within 1 hr of icustay_id? (groupby icustay, filter max starttime - unique icustarttime > 1)\n",
    "input_df <- input_df %>%\n",
    "    group_by(icustay_id, continuous_course) %>%\n",
    "    mutate(coursestarttime = min(starttime)) %>%\n",
    "    group_by(icustay_id) %>%\n",
    "    mutate(LESS1HOUR = difftime(min(coursestarttime), \n",
    "                         min(icustarttime)) < 1)"
   ]
  },
  {
   "cell_type": "code",
   "execution_count": 524,
   "metadata": {},
   "outputs": [
    {
     "data": {
      "text/html": [
       "<table>\n",
       "<caption>A grouped_df: 14 × 4</caption>\n",
       "<thead>\n",
       "\t<tr><th scope=col>LESS1HOUR</th><th scope=col>FIRSTCOURSE</th><th scope=col>MORETHAN24HOURS</th><th scope=col>COUNT</th></tr>\n",
       "\t<tr><th scope=col>&lt;lgl&gt;</th><th scope=col>&lt;lgl&gt;</th><th scope=col>&lt;lgl&gt;</th><th scope=col>&lt;int&gt;</th></tr>\n",
       "</thead>\n",
       "<tbody>\n",
       "\t<tr><td>FALSE</td><td>FALSE</td><td>FALSE</td><td>  876</td></tr>\n",
       "\t<tr><td>FALSE</td><td>FALSE</td><td> TRUE</td><td> 2077</td></tr>\n",
       "\t<tr><td>FALSE</td><td> TRUE</td><td>FALSE</td><td> 5357</td></tr>\n",
       "\t<tr><td>FALSE</td><td> TRUE</td><td> TRUE</td><td>12605</td></tr>\n",
       "\t<tr><td> TRUE</td><td>FALSE</td><td>FALSE</td><td>   35</td></tr>\n",
       "\t<tr><td> TRUE</td><td>FALSE</td><td> TRUE</td><td>   69</td></tr>\n",
       "\t<tr><td> TRUE</td><td> TRUE</td><td>FALSE</td><td>  356</td></tr>\n",
       "\t<tr><td> TRUE</td><td> TRUE</td><td> TRUE</td><td>  455</td></tr>\n",
       "\t<tr><td>   NA</td><td>FALSE</td><td>FALSE</td><td>   65</td></tr>\n",
       "\t<tr><td>   NA</td><td>FALSE</td><td> TRUE</td><td>  155</td></tr>\n",
       "\t<tr><td>   NA</td><td> TRUE</td><td>FALSE</td><td>   92</td></tr>\n",
       "\t<tr><td>   NA</td><td> TRUE</td><td> TRUE</td><td>  550</td></tr>\n",
       "\t<tr><td>   NA</td><td>   NA</td><td>FALSE</td><td>  113</td></tr>\n",
       "\t<tr><td>   NA</td><td>   NA</td><td> TRUE</td><td>  383</td></tr>\n",
       "</tbody>\n",
       "</table>\n"
      ],
      "text/latex": [
       "A grouped_df: 14 × 4\n",
       "\\begin{tabular}{r|llll}\n",
       " LESS1HOUR & FIRSTCOURSE & MORETHAN24HOURS & COUNT\\\\\n",
       " <lgl> & <lgl> & <lgl> & <int>\\\\\n",
       "\\hline\n",
       "\t FALSE & FALSE & FALSE &   876\\\\\n",
       "\t FALSE & FALSE &  TRUE &  2077\\\\\n",
       "\t FALSE &  TRUE & FALSE &  5357\\\\\n",
       "\t FALSE &  TRUE &  TRUE & 12605\\\\\n",
       "\t  TRUE & FALSE & FALSE &    35\\\\\n",
       "\t  TRUE & FALSE &  TRUE &    69\\\\\n",
       "\t  TRUE &  TRUE & FALSE &   356\\\\\n",
       "\t  TRUE &  TRUE &  TRUE &   455\\\\\n",
       "\t    NA & FALSE & FALSE &    65\\\\\n",
       "\t    NA & FALSE &  TRUE &   155\\\\\n",
       "\t    NA &  TRUE & FALSE &    92\\\\\n",
       "\t    NA &  TRUE &  TRUE &   550\\\\\n",
       "\t    NA &    NA & FALSE &   113\\\\\n",
       "\t    NA &    NA &  TRUE &   383\\\\\n",
       "\\end{tabular}\n"
      ],
      "text/markdown": [
       "\n",
       "A grouped_df: 14 × 4\n",
       "\n",
       "| LESS1HOUR &lt;lgl&gt; | FIRSTCOURSE &lt;lgl&gt; | MORETHAN24HOURS &lt;lgl&gt; | COUNT &lt;int&gt; |\n",
       "|---|---|---|---|\n",
       "| FALSE | FALSE | FALSE |   876 |\n",
       "| FALSE | FALSE |  TRUE |  2077 |\n",
       "| FALSE |  TRUE | FALSE |  5357 |\n",
       "| FALSE |  TRUE |  TRUE | 12605 |\n",
       "|  TRUE | FALSE | FALSE |    35 |\n",
       "|  TRUE | FALSE |  TRUE |    69 |\n",
       "|  TRUE |  TRUE | FALSE |   356 |\n",
       "|  TRUE |  TRUE |  TRUE |   455 |\n",
       "|    NA | FALSE | FALSE |    65 |\n",
       "|    NA | FALSE |  TRUE |   155 |\n",
       "|    NA |  TRUE | FALSE |    92 |\n",
       "|    NA |  TRUE |  TRUE |   550 |\n",
       "|    NA |    NA | FALSE |   113 |\n",
       "|    NA |    NA |  TRUE |   383 |\n",
       "\n"
      ],
      "text/plain": [
       "   LESS1HOUR FIRSTCOURSE MORETHAN24HOURS COUNT\n",
       "1  FALSE     FALSE       FALSE             876\n",
       "2  FALSE     FALSE        TRUE            2077\n",
       "3  FALSE      TRUE       FALSE            5357\n",
       "4  FALSE      TRUE        TRUE           12605\n",
       "5   TRUE     FALSE       FALSE              35\n",
       "6   TRUE     FALSE        TRUE              69\n",
       "7   TRUE      TRUE       FALSE             356\n",
       "8   TRUE      TRUE        TRUE             455\n",
       "9     NA     FALSE       FALSE              65\n",
       "10    NA     FALSE        TRUE             155\n",
       "11    NA      TRUE       FALSE              92\n",
       "12    NA      TRUE        TRUE             550\n",
       "13    NA        NA       FALSE             113\n",
       "14    NA        NA        TRUE             383"
      ]
     },
     "metadata": {},
     "output_type": "display_data"
    }
   ],
   "source": [
    "# grouped by icustay_id + continuous_course + separate_course\n",
    "input_df %>%\n",
    "    group_by(LESS1HOUR, FIRSTCOURSE, MORETHAN24HOURS) %>%\n",
    "    summarize(COUNT = n())"
   ]
  },
  {
   "cell_type": "code",
   "execution_count": 525,
   "metadata": {},
   "outputs": [
    {
     "data": {
      "text/html": [
       "<table>\n",
       "<caption>A grouped_df: 14 × 4</caption>\n",
       "<thead>\n",
       "\t<tr><th scope=col>LESS1HOUR</th><th scope=col>FIRSTCOURSE</th><th scope=col>MORETHAN24HOURS</th><th scope=col>COUNT</th></tr>\n",
       "\t<tr><th scope=col>&lt;lgl&gt;</th><th scope=col>&lt;lgl&gt;</th><th scope=col>&lt;lgl&gt;</th><th scope=col>&lt;int&gt;</th></tr>\n",
       "</thead>\n",
       "<tbody>\n",
       "\t<tr><td>FALSE</td><td>FALSE</td><td>FALSE</td><td> 583</td></tr>\n",
       "\t<tr><td>FALSE</td><td>FALSE</td><td> TRUE</td><td> 489</td></tr>\n",
       "\t<tr><td>FALSE</td><td> TRUE</td><td>FALSE</td><td>3700</td></tr>\n",
       "\t<tr><td>FALSE</td><td> TRUE</td><td> TRUE</td><td>2918</td></tr>\n",
       "\t<tr><td> TRUE</td><td>FALSE</td><td>FALSE</td><td>  22</td></tr>\n",
       "\t<tr><td> TRUE</td><td>FALSE</td><td> TRUE</td><td>  12</td></tr>\n",
       "\t<tr><td> TRUE</td><td> TRUE</td><td>FALSE</td><td> 268</td></tr>\n",
       "\t<tr><td> TRUE</td><td> TRUE</td><td> TRUE</td><td> 135</td></tr>\n",
       "\t<tr><td>   NA</td><td>FALSE</td><td>FALSE</td><td>  44</td></tr>\n",
       "\t<tr><td>   NA</td><td>FALSE</td><td> TRUE</td><td>  45</td></tr>\n",
       "\t<tr><td>   NA</td><td> TRUE</td><td>FALSE</td><td>  69</td></tr>\n",
       "\t<tr><td>   NA</td><td> TRUE</td><td> TRUE</td><td>  95</td></tr>\n",
       "\t<tr><td>   NA</td><td>   NA</td><td>FALSE</td><td>  79</td></tr>\n",
       "\t<tr><td>   NA</td><td>   NA</td><td> TRUE</td><td>  67</td></tr>\n",
       "</tbody>\n",
       "</table>\n"
      ],
      "text/latex": [
       "A grouped_df: 14 × 4\n",
       "\\begin{tabular}{r|llll}\n",
       " LESS1HOUR & FIRSTCOURSE & MORETHAN24HOURS & COUNT\\\\\n",
       " <lgl> & <lgl> & <lgl> & <int>\\\\\n",
       "\\hline\n",
       "\t FALSE & FALSE & FALSE &  583\\\\\n",
       "\t FALSE & FALSE &  TRUE &  489\\\\\n",
       "\t FALSE &  TRUE & FALSE & 3700\\\\\n",
       "\t FALSE &  TRUE &  TRUE & 2918\\\\\n",
       "\t  TRUE & FALSE & FALSE &   22\\\\\n",
       "\t  TRUE & FALSE &  TRUE &   12\\\\\n",
       "\t  TRUE &  TRUE & FALSE &  268\\\\\n",
       "\t  TRUE &  TRUE &  TRUE &  135\\\\\n",
       "\t    NA & FALSE & FALSE &   44\\\\\n",
       "\t    NA & FALSE &  TRUE &   45\\\\\n",
       "\t    NA &  TRUE & FALSE &   69\\\\\n",
       "\t    NA &  TRUE &  TRUE &   95\\\\\n",
       "\t    NA &    NA & FALSE &   79\\\\\n",
       "\t    NA &    NA &  TRUE &   67\\\\\n",
       "\\end{tabular}\n"
      ],
      "text/markdown": [
       "\n",
       "A grouped_df: 14 × 4\n",
       "\n",
       "| LESS1HOUR &lt;lgl&gt; | FIRSTCOURSE &lt;lgl&gt; | MORETHAN24HOURS &lt;lgl&gt; | COUNT &lt;int&gt; |\n",
       "|---|---|---|---|\n",
       "| FALSE | FALSE | FALSE |  583 |\n",
       "| FALSE | FALSE |  TRUE |  489 |\n",
       "| FALSE |  TRUE | FALSE | 3700 |\n",
       "| FALSE |  TRUE |  TRUE | 2918 |\n",
       "|  TRUE | FALSE | FALSE |   22 |\n",
       "|  TRUE | FALSE |  TRUE |   12 |\n",
       "|  TRUE |  TRUE | FALSE |  268 |\n",
       "|  TRUE |  TRUE |  TRUE |  135 |\n",
       "|    NA | FALSE | FALSE |   44 |\n",
       "|    NA | FALSE |  TRUE |   45 |\n",
       "|    NA |  TRUE | FALSE |   69 |\n",
       "|    NA |  TRUE |  TRUE |   95 |\n",
       "|    NA |    NA | FALSE |   79 |\n",
       "|    NA |    NA |  TRUE |   67 |\n",
       "\n"
      ],
      "text/plain": [
       "   LESS1HOUR FIRSTCOURSE MORETHAN24HOURS COUNT\n",
       "1  FALSE     FALSE       FALSE            583 \n",
       "2  FALSE     FALSE        TRUE            489 \n",
       "3  FALSE      TRUE       FALSE           3700 \n",
       "4  FALSE      TRUE        TRUE           2918 \n",
       "5   TRUE     FALSE       FALSE             22 \n",
       "6   TRUE     FALSE        TRUE             12 \n",
       "7   TRUE      TRUE       FALSE            268 \n",
       "8   TRUE      TRUE        TRUE            135 \n",
       "9     NA     FALSE       FALSE             44 \n",
       "10    NA     FALSE        TRUE             45 \n",
       "11    NA      TRUE       FALSE             69 \n",
       "12    NA      TRUE        TRUE             95 \n",
       "13    NA        NA       FALSE             79 \n",
       "14    NA        NA        TRUE             67 "
      ]
     },
     "metadata": {},
     "output_type": "display_data"
    }
   ],
   "source": [
    "# With filters grouped by icustay_id + continuous_course\n",
    "input_df %>%\n",
    "    mutate(course_id = paste(icustay_id, continuous_course, sep = \",\")) %>%\n",
    "    group_by(LESS1HOUR, FIRSTCOURSE, MORETHAN24HOURS) %>%\n",
    "    summarize(COUNT = length(unique(course_id)))"
   ]
  },
  {
   "cell_type": "code",
   "execution_count": 285,
   "metadata": {},
   "outputs": [
    {
     "name": "stderr",
     "output_type": "stream",
     "text": [
      "`stat_bin()` using `bins = 30`. Pick better value with `binwidth`.\n",
      "Warning message:\n",
      "“Removed 2 rows containing missing values (geom_bar).”"
     ]
    },
    {
     "data": {
      "image/png": "[encoded data removed]",
      "text/plain": [
       "plot without title"
      ]
     },
     "metadata": {},
     "output_type": "display_data"
    }
   ],
   "source": [
    "options(repr.plot.width=3, repr.plot.height=3)\n",
    "input_df %>%\n",
    "    ggplot(aes(x=duration_hours)) +\n",
    "        geom_histogram(aes(y=..density..), position=\"identity\", alpha=0.5)+\n",
    "        geom_density(alpha=0.6)+\n",
    "        scale_color_manual(values=c(\"#999999\", \"#E69F00\", \"#56B4E9\"))+\n",
    "        scale_fill_manual(values=c(\"#999999\", \"#E69F00\", \"#56B4E9\"))+\n",
    "        labs(title=\"Histogram\",x=\"Hours\", y = \"Density\")+\n",
    "        theme_classic() + xlim(0, 900)"
   ]
  },
  {
   "cell_type": "code",
   "execution_count": 286,
   "metadata": {},
   "outputs": [
    {
     "name": "stderr",
     "output_type": "stream",
     "text": [
      "`stat_bin()` using `bins = 30`. Pick better value with `binwidth`.\n",
      "Warning message:\n",
      "“Removed 1 rows containing non-finite values (stat_bin).”Warning message:\n",
      "“Removed 1 rows containing non-finite values (stat_density).”Warning message:\n",
      "“Removed 2 rows containing missing values (geom_bar).”"
     ]
    },
    {
     "data": {
      "image/png": "[encoded data removed]",
      "text/plain": [
       "plot without title"
      ]
     },
     "metadata": {},
     "output_type": "display_data"
    }
   ],
   "source": [
    "options(repr.plot.width=3, repr.plot.height=3)\n",
    "input_df %>%\n",
    "    group_by(icustay_id, continuous_course) %>%\n",
    "    summarize(duration_hours = sum(duration_hours)) %>%\n",
    "    ggplot(aes(x=duration_hours)) +\n",
    "        geom_histogram(aes(y=..density..), position=\"identity\", alpha=0.5)+\n",
    "        geom_density(alpha=0.6)+\n",
    "        scale_color_manual(values=c(\"#999999\", \"#E69F00\", \"#56B4E9\"))+\n",
    "        scale_fill_manual(values=c(\"#999999\", \"#E69F00\", \"#56B4E9\"))+\n",
    "        labs(title=\"Histogram\",x=\"Hours\", y = \"Density\")+\n",
    "        theme_classic() + xlim(0, 900)"
   ]
  },
  {
   "cell_type": "code",
   "execution_count": 132,
   "metadata": {},
   "outputs": [],
   "source": [
    "#write.csv(input_df, '~/Projects/Haimovich_Pressors/collection/out/pressors_filtered.csv')"
   ]
  },
  {
   "cell_type": "markdown",
   "metadata": {},
   "source": [
    "### Mortality filter\n",
    "- Remove patients who stopped using pressors because death (merge with pressors_df by icustay_id, filter if pressor course end time == or is close to deathtime)"
   ]
  },
  {
   "cell_type": "code",
   "execution_count": 526,
   "metadata": {},
   "outputs": [],
   "source": [
    "icustays_df <- read.csv('~/Projects/Haimovich_Pressors/collection/out/icustays.csv')"
   ]
  },
  {
   "cell_type": "code",
   "execution_count": 527,
   "metadata": {},
   "outputs": [],
   "source": [
    "admissions_df <- read.csv('~/Projects/Haimovich_Pressors/collection/out/admissions.csv')"
   ]
  },
  {
   "cell_type": "code",
   "execution_count": 528,
   "metadata": {},
   "outputs": [],
   "source": [
    "patients_df <- read.csv('~/Projects/Haimovich_Pressors/collection/out/patients.csv')"
   ]
  },
  {
   "cell_type": "code",
   "execution_count": 529,
   "metadata": {},
   "outputs": [],
   "source": [
    "intub_df <- pressors_df %>%\n",
    "    filter(pressor == \"ventdurations\") \n",
    "\n",
    "cvc_df <- pressors_df %>%\n",
    "    filter(pressor == \"central_line_durations\") "
   ]
  },
  {
   "cell_type": "code",
   "execution_count": 586,
   "metadata": {},
   "outputs": [
    {
     "name": "stderr",
     "output_type": "stream",
     "text": [
      "Warning message:\n",
      "“Unknown or uninitialised column: 'icustay_id'.”Warning message:\n",
      "“Unknown or uninitialised column: 'icustay_id'.”"
     ]
    }
   ],
   "source": [
    "nonvitals_predictor_df <- icustays_df %>%\n",
    "    select(hadm_id, icustay_id, first_careunit, last_careunit) %>%\n",
    "    left_join(admissions_df, by = 'hadm_id') %>%\n",
    "    left_join(patients_df, by = 'subject_id') %>%\n",
    "    mutate(intub = icustay_id %in% intub_df$icustay_id, cvc = icustay_id %in% cvc_df$icustay_id) %>%\n",
    "    mutate(deathtime = fastPOSIXct(deathtime), admittime = fastPOSIXct(admittime), dob = fastPOSIXct(dob)) %>%\n",
    "    mutate(age = difftime(admittime, dob, units=\"weeks\")/52.25, age_cohort = as.numeric(round(age, digits = -1))) %>% \n",
    "    rowwise() %>%\n",
    "    mutate(simple_race = simplifyRace(ethnicity)) %>%\n",
    "    mutate(simple_diagnosis = simplifyDiagnosis(diagnosis))"
   ]
  },
  {
   "cell_type": "code",
   "execution_count": 152,
   "metadata": {},
   "outputs": [
    {
     "data": {
      "text/html": [
       "<table>\n",
       "<caption>A grouped_df: 10 × 3</caption>\n",
       "<thead>\n",
       "\t<tr><th scope=col>diagnosis</th><th scope=col>first_careunit</th><th scope=col>COUNT</th></tr>\n",
       "\t<tr><th scope=col>&lt;fct&gt;</th><th scope=col>&lt;fct&gt;</th><th scope=col>&lt;int&gt;</th></tr>\n",
       "</thead>\n",
       "<tbody>\n",
       "\t<tr><td>NEWBORN                                                   </td><td>NICU</td><td>8455</td></tr>\n",
       "\t<tr><td>PNEUMONIA                                                 </td><td>MICU</td><td>2449</td></tr>\n",
       "\t<tr><td>SEPSIS                                                    </td><td>MICU</td><td>1729</td></tr>\n",
       "\t<tr><td>CORONARY ARTERY DISEASE                                   </td><td>CSRU</td><td>1406</td></tr>\n",
       "\t<tr><td>CONGESTIVE HEART FAILURE                                  </td><td>CCU </td><td> 863</td></tr>\n",
       "\t<tr><td>GASTROINTESTINAL BLEED                                    </td><td>MICU</td><td> 817</td></tr>\n",
       "\t<tr><td>ALTERED MENTAL STATUS                                     </td><td>MICU</td><td> 810</td></tr>\n",
       "\t<tr><td>CORONARY ARTERY DISEASE\\CORONARY ARTERY BYPASS GRAFT /SDA</td><td>CSRU</td><td> 768</td></tr>\n",
       "\t<tr><td>INTRACRANIAL HEMORRHAGE                                   </td><td>SICU</td><td> 688</td></tr>\n",
       "\t<tr><td>FEVER                                                     </td><td>MICU</td><td> 673</td></tr>\n",
       "</tbody>\n",
       "</table>\n"
      ],
      "text/latex": [
       "A grouped_df: 10 × 3\n",
       "\\begin{tabular}{r|lll}\n",
       " diagnosis & first\\_careunit & COUNT\\\\\n",
       " <fct> & <fct> & <int>\\\\\n",
       "\\hline\n",
       "\t NEWBORN                                                    & NICU & 8455\\\\\n",
       "\t PNEUMONIA                                                  & MICU & 2449\\\\\n",
       "\t SEPSIS                                                     & MICU & 1729\\\\\n",
       "\t CORONARY ARTERY DISEASE                                    & CSRU & 1406\\\\\n",
       "\t CONGESTIVE HEART FAILURE                                   & CCU  &  863\\\\\n",
       "\t GASTROINTESTINAL BLEED                                     & MICU &  817\\\\\n",
       "\t ALTERED MENTAL STATUS                                      & MICU &  810\\\\\n",
       "\t CORONARY ARTERY DISEASE\\textbackslash{}CORONARY ARTERY BYPASS GRAFT /SDA & CSRU &  768\\\\\n",
       "\t INTRACRANIAL HEMORRHAGE                                    & SICU &  688\\\\\n",
       "\t FEVER                                                      & MICU &  673\\\\\n",
       "\\end{tabular}\n"
      ],
      "text/markdown": [
       "\n",
       "A grouped_df: 10 × 3\n",
       "\n",
       "| diagnosis &lt;fct&gt; | first_careunit &lt;fct&gt; | COUNT &lt;int&gt; |\n",
       "|---|---|---|\n",
       "| NEWBORN                                                    | NICU | 8455 |\n",
       "| PNEUMONIA                                                  | MICU | 2449 |\n",
       "| SEPSIS                                                     | MICU | 1729 |\n",
       "| CORONARY ARTERY DISEASE                                    | CSRU | 1406 |\n",
       "| CONGESTIVE HEART FAILURE                                   | CCU  |  863 |\n",
       "| GASTROINTESTINAL BLEED                                     | MICU |  817 |\n",
       "| ALTERED MENTAL STATUS                                      | MICU |  810 |\n",
       "| CORONARY ARTERY DISEASE\\CORONARY ARTERY BYPASS GRAFT /SDA | CSRU |  768 |\n",
       "| INTRACRANIAL HEMORRHAGE                                    | SICU |  688 |\n",
       "| FEVER                                                      | MICU |  673 |\n",
       "\n"
      ],
      "text/plain": [
       "   diagnosis                                                  first_careunit\n",
       "1  NEWBORN                                                    NICU          \n",
       "2  PNEUMONIA                                                  MICU          \n",
       "3  SEPSIS                                                     MICU          \n",
       "4  CORONARY ARTERY DISEASE                                    CSRU          \n",
       "5  CONGESTIVE HEART FAILURE                                   CCU           \n",
       "6  GASTROINTESTINAL BLEED                                     MICU          \n",
       "7  ALTERED MENTAL STATUS                                      MICU          \n",
       "8  CORONARY ARTERY DISEASE\\\\CORONARY ARTERY BYPASS GRAFT /SDA CSRU          \n",
       "9  INTRACRANIAL HEMORRHAGE                                    SICU          \n",
       "10 FEVER                                                      MICU          \n",
       "   COUNT\n",
       "1  8455 \n",
       "2  2449 \n",
       "3  1729 \n",
       "4  1406 \n",
       "5   863 \n",
       "6   817 \n",
       "7   810 \n",
       "8   768 \n",
       "9   688 \n",
       "10  673 "
      ]
     },
     "metadata": {},
     "output_type": "display_data"
    }
   ],
   "source": [
    "# info about what each service covers which diagnoses\n",
    "nonvitals_predictor_df %>% \n",
    "    group_by(diagnosis, first_careunit) %>% \n",
    "    summarize(COUNT = n()) %>% \n",
    "    arrange(-COUNT) %>% head(10)"
   ]
  },
  {
   "cell_type": "code",
   "execution_count": 18,
   "metadata": {},
   "outputs": [
    {
     "data": {
      "text/html": [
       "<table>\n",
       "<caption>A tibble: 3 × 2</caption>\n",
       "<thead>\n",
       "\t<tr><th scope=col>MORTALITYERROR</th><th scope=col>COUNT</th></tr>\n",
       "\t<tr><th scope=col>&lt;lgl&gt;</th><th scope=col>&lt;int&gt;</th></tr>\n",
       "</thead>\n",
       "<tbody>\n",
       "\t<tr><td>FALSE</td><td> 5330</td></tr>\n",
       "\t<tr><td> TRUE</td><td> 1132</td></tr>\n",
       "\t<tr><td>   NA</td><td>55070</td></tr>\n",
       "</tbody>\n",
       "</table>\n"
      ],
      "text/latex": [
       "A tibble: 3 × 2\n",
       "\\begin{tabular}{r|ll}\n",
       " MORTALITYERROR & COUNT\\\\\n",
       " <lgl> & <int>\\\\\n",
       "\\hline\n",
       "\t FALSE &  5330\\\\\n",
       "\t  TRUE &  1132\\\\\n",
       "\t    NA & 55070\\\\\n",
       "\\end{tabular}\n"
      ],
      "text/markdown": [
       "\n",
       "A tibble: 3 × 2\n",
       "\n",
       "| MORTALITYERROR &lt;lgl&gt; | COUNT &lt;int&gt; |\n",
       "|---|---|\n",
       "| FALSE |  5330 |\n",
       "|  TRUE |  1132 |\n",
       "|    NA | 55070 |\n",
       "\n"
      ],
      "text/plain": [
       "  MORTALITYERROR COUNT\n",
       "1 FALSE           5330\n",
       "2  TRUE           1132\n",
       "3    NA          55070"
      ]
     },
     "metadata": {},
     "output_type": "display_data"
    }
   ],
   "source": [
    "#NA means the stay did not end in death\n",
    "#ICUSTAYS where patient was discharged after death? (TRUE)\n",
    "nonvitals_predictor_df  %>%\n",
    "    mutate(MORTALITYERROR = difftime(deathtime, dischtime, units = \"mins\") < 0) %>%\n",
    "    group_by(MORTALITYERROR) %>%\n",
    "    summarize(COUNT = n())"
   ]
  },
  {
   "cell_type": "code",
   "execution_count": 19,
   "metadata": {},
   "outputs": [
    {
     "data": {
      "text/html": [
       "<table>\n",
       "<caption>A tibble: 3 × 2</caption>\n",
       "<thead>\n",
       "\t<tr><th scope=col>MORTALITYERROR</th><th scope=col>COUNT</th></tr>\n",
       "\t<tr><th scope=col>&lt;lgl&gt;</th><th scope=col>&lt;int&gt;</th></tr>\n",
       "</thead>\n",
       "<tbody>\n",
       "\t<tr><td>FALSE</td><td> 6384</td></tr>\n",
       "\t<tr><td> TRUE</td><td>   78</td></tr>\n",
       "\t<tr><td>   NA</td><td>55070</td></tr>\n",
       "</tbody>\n",
       "</table>\n"
      ],
      "text/latex": [
       "A tibble: 3 × 2\n",
       "\\begin{tabular}{r|ll}\n",
       " MORTALITYERROR & COUNT\\\\\n",
       " <lgl> & <int>\\\\\n",
       "\\hline\n",
       "\t FALSE &  6384\\\\\n",
       "\t  TRUE &    78\\\\\n",
       "\t    NA & 55070\\\\\n",
       "\\end{tabular}\n"
      ],
      "text/markdown": [
       "\n",
       "A tibble: 3 × 2\n",
       "\n",
       "| MORTALITYERROR &lt;lgl&gt; | COUNT &lt;int&gt; |\n",
       "|---|---|\n",
       "| FALSE |  6384 |\n",
       "|  TRUE |    78 |\n",
       "|    NA | 55070 |\n",
       "\n"
      ],
      "text/plain": [
       "  MORTALITYERROR COUNT\n",
       "1 FALSE           6384\n",
       "2  TRUE             78\n",
       "3    NA          55070"
      ]
     },
     "metadata": {},
     "output_type": "display_data"
    }
   ],
   "source": [
    "#NA means the stay did not end in death\n",
    "#ICUSTAYS where patient was admitted after death? (TRUE)\n",
    "nonvitals_predictor_df  %>%\n",
    "    mutate(MORTALITYERROR = difftime(deathtime, admittime, units = \"mins\") < 0) %>%\n",
    "    group_by(MORTALITYERROR) %>%\n",
    "    summarize(COUNT = n())"
   ]
  },
  {
   "cell_type": "code",
   "execution_count": 20,
   "metadata": {},
   "outputs": [
    {
     "data": {
      "text/html": [
       "<table>\n",
       "<caption>A data.frame: 5 × 33</caption>\n",
       "<thead>\n",
       "\t<tr><th scope=col>hadm_id</th><th scope=col>icustay_id</th><th scope=col>first_careunit</th><th scope=col>last_careunit</th><th scope=col>X.x</th><th scope=col>row_id.x</th><th scope=col>subject_id</th><th scope=col>admittime</th><th scope=col>dischtime</th><th scope=col>deathtime</th><th scope=col>⋯</th><th scope=col>X.y</th><th scope=col>row_id.y</th><th scope=col>gender</th><th scope=col>dob</th><th scope=col>dod</th><th scope=col>dod_hosp</th><th scope=col>dod_ssn</th><th scope=col>expire_flag</th><th scope=col>age</th><th scope=col>age_cohort</th></tr>\n",
       "\t<tr><th scope=col>&lt;int&gt;</th><th scope=col>&lt;int&gt;</th><th scope=col>&lt;fct&gt;</th><th scope=col>&lt;fct&gt;</th><th scope=col>&lt;int&gt;</th><th scope=col>&lt;int&gt;</th><th scope=col>&lt;int&gt;</th><th scope=col>&lt;dttm&gt;</th><th scope=col>&lt;fct&gt;</th><th scope=col>&lt;dttm&gt;</th><th scope=col>⋯</th><th scope=col>&lt;int&gt;</th><th scope=col>&lt;int&gt;</th><th scope=col>&lt;fct&gt;</th><th scope=col>&lt;dttm&gt;</th><th scope=col>&lt;fct&gt;</th><th scope=col>&lt;fct&gt;</th><th scope=col>&lt;fct&gt;</th><th scope=col>&lt;int&gt;</th><th scope=col>&lt;drtn&gt;</th><th scope=col>&lt;dbl&gt;</th></tr>\n",
       "</thead>\n",
       "<tbody>\n",
       "\t<tr><td>102631</td><td>246694</td><td>CSRU</td><td>CSRU</td><td> 456</td><td> 237</td><td> 181</td><td>2153-10-12 05:49:00</td><td>2153-10-12 06:29:00</td><td>2153-10-12 02:29:00</td><td>⋯</td><td> 392</td><td> 171</td><td>M</td><td>2088-07-23 20:00:00</td><td>2153-10-12</td><td>2153-10-12</td><td>2153-10-12</td><td>1</td><td>65.12757082 weeks</td><td>70</td></tr>\n",
       "\t<tr><td>138015</td><td>298263</td><td>NICU</td><td>NICU</td><td>1911</td><td>1640</td><td>1334</td><td>2137-09-02 10:43:00</td><td>2137-09-02 12:00:00</td><td>2137-09-02 08:00:00</td><td>⋯</td><td> 885</td><td>1268</td><td>M</td><td>2137-09-01 20:00:00</td><td>2137-09-02</td><td>2137-09-02</td><td>          </td><td>1</td><td> 0.00167654 weeks</td><td> 0</td></tr>\n",
       "\t<tr><td>181430</td><td>291798</td><td>SICU</td><td>SICU</td><td>1970</td><td>1699</td><td>1381</td><td>2189-01-02 09:25:00</td><td>2189-01-02 12:00:00</td><td>2189-01-02 07:00:00</td><td>⋯</td><td> 930</td><td>1313</td><td>F</td><td>2107-07-14 20:00:00</td><td>2189-01-02</td><td>2189-01-02</td><td>2189-01-02</td><td>1</td><td>81.36049404 weeks</td><td>80</td></tr>\n",
       "\t<tr><td>187482</td><td>213831</td><td>MICU</td><td>MICU</td><td> 693</td><td> 644</td><td> 516</td><td>2197-07-31 16:18:00</td><td>2197-07-31 01:10:00</td><td>2197-07-30 21:10:00</td><td>⋯</td><td> 686</td><td> 487</td><td>F</td><td>2126-08-06 20:00:00</td><td>2197-07-31</td><td>2197-07-31</td><td>2197-07-31</td><td>1</td><td>70.88679654 weeks</td><td>70</td></tr>\n",
       "\t<tr><td>190088</td><td>293048</td><td>CCU </td><td>CCU </td><td>3624</td><td>3447</td><td>2858</td><td>2108-09-25 11:29:00</td><td>2108-09-25 12:00:00</td><td>2108-09-25 08:00:00</td><td>⋯</td><td>3354</td><td>2703</td><td>F</td><td>2026-03-12 20:00:00</td><td>2108-09-25</td><td>2108-09-25</td><td>2108-09-25</td><td>1</td><td>82.42418356 weeks</td><td>80</td></tr>\n",
       "</tbody>\n",
       "</table>\n"
      ],
      "text/latex": [
       "A data.frame: 5 × 33\n",
       "\\begin{tabular}{r|lllllllllllllllllllllllllllllllll}\n",
       " hadm\\_id & icustay\\_id & first\\_careunit & last\\_careunit & X.x & row\\_id.x & subject\\_id & admittime & dischtime & deathtime & admission\\_type & admission\\_location & discharge\\_location & insurance & language & religion & marital\\_status & ethnicity & edregtime & edouttime & diagnosis & hospital\\_expire\\_flag & has\\_chartevents\\_data & X.y & row\\_id.y & gender & dob & dod & dod\\_hosp & dod\\_ssn & expire\\_flag & age & age\\_cohort\\\\\n",
       " <int> & <int> & <fct> & <fct> & <int> & <int> & <int> & <dttm> & <fct> & <dttm> & <fct> & <fct> & <fct> & <fct> & <fct> & <fct> & <fct> & <fct> & <fct> & <fct> & <fct> & <int> & <int> & <int> & <int> & <fct> & <dttm> & <fct> & <fct> & <fct> & <int> & <drtn> & <dbl>\\\\\n",
       "\\hline\n",
       "\t 102631 & 246694 & CSRU & CSRU &  456 &  237 &  181 & 2153-10-12 05:49:00 & 2153-10-12 06:29:00 & 2153-10-12 02:29:00 & EMERGENCY & EMERGENCY ROOM ADMIT      & DEAD/EXPIRED & Private  &  & PROTESTANT QUAKER & MARRIED & WHITE                 & 2153-10-12 06:23:00 & 2153-10-12 07:45:00 & DISSECTING ANEURYSIM        & 1 & 1 &  392 &  171 & M & 2088-07-23 20:00:00 & 2153-10-12 & 2153-10-12 & 2153-10-12 & 1 & 65.12757082 weeks & 70\\\\\n",
       "\t 138015 & 298263 & NICU & NICU & 1911 & 1640 & 1334 & 2137-09-02 10:43:00 & 2137-09-02 12:00:00 & 2137-09-02 08:00:00 & NEWBORN   & CLINIC REFERRAL/PREMATURE & DEAD/EXPIRED & Private  &  & PROTESTANT QUAKER &         & WHITE                 &                     &                     & NEWBORN                     & 1 & 1 &  885 & 1268 & M & 2137-09-01 20:00:00 & 2137-09-02 & 2137-09-02 &            & 1 &  0.00167654 weeks &  0\\\\\n",
       "\t 181430 & 291798 & SICU & SICU & 1970 & 1699 & 1381 & 2189-01-02 09:25:00 & 2189-01-02 12:00:00 & 2189-01-02 07:00:00 & EMERGENCY & EMERGENCY ROOM ADMIT      & DEAD/EXPIRED & Medicare &  & UNOBTAINABLE      & MARRIED & WHITE                 & 2189-01-02 10:31:00 & 2189-01-02 15:56:00 & STROKE;TELEMETRY            & 1 & 1 &  930 & 1313 & F & 2107-07-14 20:00:00 & 2189-01-02 & 2189-01-02 & 2189-01-02 & 1 & 81.36049404 weeks & 80\\\\\n",
       "\t 187482 & 213831 & MICU & MICU &  693 &  644 &  516 & 2197-07-31 16:18:00 & 2197-07-31 01:10:00 & 2197-07-30 21:10:00 & EMERGENCY & EMERGENCY ROOM ADMIT      & DEAD/EXPIRED & Medicare &  & JEWISH            & WIDOWED & UNKNOWN/NOT SPECIFIED & 2197-07-31 11:31:00 & 2197-07-31 14:35:00 & RESPIRATORY DISTRESS        & 1 & 0 &  686 &  487 & F & 2126-08-06 20:00:00 & 2197-07-31 & 2197-07-31 & 2197-07-31 & 1 & 70.88679654 weeks & 70\\\\\n",
       "\t 190088 & 293048 & CCU  & CCU  & 3624 & 3447 & 2858 & 2108-09-25 11:29:00 & 2108-09-25 12:00:00 & 2108-09-25 08:00:00 & EMERGENCY & TRANSFER FROM HOSP/EXTRAM & DEAD/EXPIRED & Medicare &  & CATHOLIC          & WIDOWED & WHITE                 &                     &                     & MYOCARDIAL INFARCTION\\textbackslash{}CATH & 1 & 1 & 3354 & 2703 & F & 2026-03-12 20:00:00 & 2108-09-25 & 2108-09-25 & 2108-09-25 & 1 & 82.42418356 weeks & 80\\\\\n",
       "\\end{tabular}\n"
      ],
      "text/markdown": [
       "\n",
       "A data.frame: 5 × 33\n",
       "\n",
       "| hadm_id &lt;int&gt; | icustay_id &lt;int&gt; | first_careunit &lt;fct&gt; | last_careunit &lt;fct&gt; | X.x &lt;int&gt; | row_id.x &lt;int&gt; | subject_id &lt;int&gt; | admittime &lt;dttm&gt; | dischtime &lt;fct&gt; | deathtime &lt;dttm&gt; | ⋯ ⋯ | X.y &lt;int&gt; | row_id.y &lt;int&gt; | gender &lt;fct&gt; | dob &lt;dttm&gt; | dod &lt;fct&gt; | dod_hosp &lt;fct&gt; | dod_ssn &lt;fct&gt; | expire_flag &lt;int&gt; | age &lt;drtn&gt; | age_cohort &lt;dbl&gt; |\n",
       "|---|---|---|---|---|---|---|---|---|---|---|---|---|---|---|---|---|---|---|---|---|\n",
       "| 102631 | 246694 | CSRU | CSRU |  456 |  237 |  181 | 2153-10-12 05:49:00 | 2153-10-12 06:29:00 | 2153-10-12 02:29:00 | ⋯ |  392 |  171 | M | 2088-07-23 20:00:00 | 2153-10-12 | 2153-10-12 | 2153-10-12 | 1 | 65.12757082 weeks | 70 |\n",
       "| 138015 | 298263 | NICU | NICU | 1911 | 1640 | 1334 | 2137-09-02 10:43:00 | 2137-09-02 12:00:00 | 2137-09-02 08:00:00 | ⋯ |  885 | 1268 | M | 2137-09-01 20:00:00 | 2137-09-02 | 2137-09-02 | <!----> | 1 |  0.00167654 weeks |  0 |\n",
       "| 181430 | 291798 | SICU | SICU | 1970 | 1699 | 1381 | 2189-01-02 09:25:00 | 2189-01-02 12:00:00 | 2189-01-02 07:00:00 | ⋯ |  930 | 1313 | F | 2107-07-14 20:00:00 | 2189-01-02 | 2189-01-02 | 2189-01-02 | 1 | 81.36049404 weeks | 80 |\n",
       "| 187482 | 213831 | MICU | MICU |  693 |  644 |  516 | 2197-07-31 16:18:00 | 2197-07-31 01:10:00 | 2197-07-30 21:10:00 | ⋯ |  686 |  487 | F | 2126-08-06 20:00:00 | 2197-07-31 | 2197-07-31 | 2197-07-31 | 1 | 70.88679654 weeks | 70 |\n",
       "| 190088 | 293048 | CCU  | CCU  | 3624 | 3447 | 2858 | 2108-09-25 11:29:00 | 2108-09-25 12:00:00 | 2108-09-25 08:00:00 | ⋯ | 3354 | 2703 | F | 2026-03-12 20:00:00 | 2108-09-25 | 2108-09-25 | 2108-09-25 | 1 | 82.42418356 weeks | 80 |\n",
       "\n"
      ],
      "text/plain": [
       "  hadm_id icustay_id first_careunit last_careunit X.x  row_id.x subject_id\n",
       "1 102631  246694     CSRU           CSRU           456  237      181      \n",
       "2 138015  298263     NICU           NICU          1911 1640     1334      \n",
       "3 181430  291798     SICU           SICU          1970 1699     1381      \n",
       "4 187482  213831     MICU           MICU           693  644      516      \n",
       "5 190088  293048     CCU            CCU           3624 3447     2858      \n",
       "  admittime           dischtime           deathtime           ⋯ X.y  row_id.y\n",
       "1 2153-10-12 05:49:00 2153-10-12 06:29:00 2153-10-12 02:29:00 ⋯  392  171    \n",
       "2 2137-09-02 10:43:00 2137-09-02 12:00:00 2137-09-02 08:00:00 ⋯  885 1268    \n",
       "3 2189-01-02 09:25:00 2189-01-02 12:00:00 2189-01-02 07:00:00 ⋯  930 1313    \n",
       "4 2197-07-31 16:18:00 2197-07-31 01:10:00 2197-07-30 21:10:00 ⋯  686  487    \n",
       "5 2108-09-25 11:29:00 2108-09-25 12:00:00 2108-09-25 08:00:00 ⋯ 3354 2703    \n",
       "  gender dob                 dod        dod_hosp   dod_ssn    expire_flag\n",
       "1 M      2088-07-23 20:00:00 2153-10-12 2153-10-12 2153-10-12 1          \n",
       "2 M      2137-09-01 20:00:00 2137-09-02 2137-09-02            1          \n",
       "3 F      2107-07-14 20:00:00 2189-01-02 2189-01-02 2189-01-02 1          \n",
       "4 F      2126-08-06 20:00:00 2197-07-31 2197-07-31 2197-07-31 1          \n",
       "5 F      2026-03-12 20:00:00 2108-09-25 2108-09-25 2108-09-25 1          \n",
       "  age               age_cohort\n",
       "1 65.12757082 weeks 70        \n",
       "2  0.00167654 weeks  0        \n",
       "3 81.36049404 weeks 80        \n",
       "4 70.88679654 weeks 70        \n",
       "5 82.42418356 weeks 80        "
      ]
     },
     "metadata": {},
     "output_type": "display_data"
    }
   ],
   "source": [
    "#Examples\n",
    "nonvitals_predictor_df  %>%\n",
    "    filter(difftime(deathtime, admittime, units = \"mins\") < 0) %>%\n",
    "    head(5)"
   ]
  },
  {
   "cell_type": "markdown",
   "metadata": {},
   "source": [
    "### Setting a mortality filter"
   ]
  },
  {
   "cell_type": "code",
   "execution_count": 317,
   "metadata": {},
   "outputs": [
    {
     "data": {
      "text/html": [
       "<table>\n",
       "<caption>A tibble: 3 × 2</caption>\n",
       "<thead>\n",
       "\t<tr><th scope=col>STOPMORTALITY &lt; 0</th><th scope=col>COUNT</th></tr>\n",
       "\t<tr><th scope=col>&lt;lgl&gt;</th><th scope=col>&lt;int&gt;</th></tr>\n",
       "</thead>\n",
       "<tbody>\n",
       "\t<tr><td>FALSE</td><td>2430</td></tr>\n",
       "\t<tr><td> TRUE</td><td> 437</td></tr>\n",
       "\t<tr><td>   NA</td><td>4689</td></tr>\n",
       "</tbody>\n",
       "</table>\n"
      ],
      "text/latex": [
       "A tibble: 3 × 2\n",
       "\\begin{tabular}{r|ll}\n",
       " STOPMORTALITY < 0 & COUNT\\\\\n",
       " <lgl> & <int>\\\\\n",
       "\\hline\n",
       "\t FALSE & 2430\\\\\n",
       "\t  TRUE &  437\\\\\n",
       "\t    NA & 4689\\\\\n",
       "\\end{tabular}\n"
      ],
      "text/markdown": [
       "\n",
       "A tibble: 3 × 2\n",
       "\n",
       "| STOPMORTALITY &lt; 0 &lt;lgl&gt; | COUNT &lt;int&gt; |\n",
       "|---|---|\n",
       "| FALSE | 2430 |\n",
       "|  TRUE |  437 |\n",
       "|    NA | 4689 |\n",
       "\n"
      ],
      "text/plain": [
       "  STOPMORTALITY < 0 COUNT\n",
       "1 FALSE             2430 \n",
       "2  TRUE              437 \n",
       "3    NA             4689 "
      ]
     },
     "metadata": {},
     "output_type": "display_data"
    }
   ],
   "source": [
    "# Icustays where patients received pressors after death (TRUE)\n",
    "input_df %>%\n",
    "    ungroup() %>%\n",
    "    left_join(nonvitals_predictor_df, by = \"icustay_id\") %>%\n",
    "    mutate(STOPMORTALITY = difftime(deathtime, endtime, units = \"mins\")) %>% \n",
    "    group_by(STOPMORTALITY < 0) %>%\n",
    "    summarize(COUNT = length(unique(icustay_id)))"
   ]
  },
  {
   "cell_type": "code",
   "execution_count": 436,
   "metadata": {},
   "outputs": [
    {
     "data": {
      "text/html": [
       "<table>\n",
       "<caption>A tibble: 3 × 2</caption>\n",
       "<thead>\n",
       "\t<tr><th scope=col>STOPMORTALITY</th><th scope=col>COUNT</th></tr>\n",
       "\t<tr><th scope=col>&lt;lgl&gt;</th><th scope=col>&lt;int&gt;</th></tr>\n",
       "</thead>\n",
       "<tbody>\n",
       "\t<tr><td>FALSE</td><td> 8202</td></tr>\n",
       "\t<tr><td> TRUE</td><td> 1768</td></tr>\n",
       "\t<tr><td>   NA</td><td>13218</td></tr>\n",
       "</tbody>\n",
       "</table>\n"
      ],
      "text/latex": [
       "A tibble: 3 × 2\n",
       "\\begin{tabular}{r|ll}\n",
       " STOPMORTALITY & COUNT\\\\\n",
       " <lgl> & <int>\\\\\n",
       "\\hline\n",
       "\t FALSE &  8202\\\\\n",
       "\t  TRUE &  1768\\\\\n",
       "\t    NA & 13218\\\\\n",
       "\\end{tabular}\n"
      ],
      "text/markdown": [
       "\n",
       "A tibble: 3 × 2\n",
       "\n",
       "| STOPMORTALITY &lt;lgl&gt; | COUNT &lt;int&gt; |\n",
       "|---|---|\n",
       "| FALSE |  8202 |\n",
       "|  TRUE |  1768 |\n",
       "|    NA | 13218 |\n",
       "\n"
      ],
      "text/plain": [
       "  STOPMORTALITY COUNT\n",
       "1 FALSE          8202\n",
       "2  TRUE          1768\n",
       "3    NA         13218"
      ]
     },
     "metadata": {},
     "output_type": "display_data"
    }
   ],
   "source": [
    "### if I do not ignore for these unusual cases\n",
    "input_df %>%\n",
    "    ungroup() %>%\n",
    "    left_join(nonvitals_predictor_df, by = \"icustay_id\") %>%\n",
    "    group_by(icustay_id, continuous_course) %>%\n",
    "    mutate(STOPMORTALITY = difftime(deathtime, max(endtime), units = \"mins\")) %>% \n",
    "    mutate(STOPMORTALITY = STOPMORTALITY < 5) %>%\n",
    "    group_by(STOPMORTALITY) %>%\n",
    "    summarize(COUNT = n())"
   ]
  },
  {
   "cell_type": "code",
   "execution_count": 437,
   "metadata": {},
   "outputs": [
    {
     "data": {
      "text/html": [
       "<table>\n",
       "<caption>A tibble: 3 × 2</caption>\n",
       "<thead>\n",
       "\t<tr><th scope=col>STOPMORTALITY</th><th scope=col>COUNT</th></tr>\n",
       "\t<tr><th scope=col>&lt;lgl&gt;</th><th scope=col>&lt;int&gt;</th></tr>\n",
       "</thead>\n",
       "<tbody>\n",
       "\t<tr><td>FALSE</td><td> 9867</td></tr>\n",
       "\t<tr><td> TRUE</td><td>  103</td></tr>\n",
       "\t<tr><td>   NA</td><td>13218</td></tr>\n",
       "</tbody>\n",
       "</table>\n"
      ],
      "text/latex": [
       "A tibble: 3 × 2\n",
       "\\begin{tabular}{r|ll}\n",
       " STOPMORTALITY & COUNT\\\\\n",
       " <lgl> & <int>\\\\\n",
       "\\hline\n",
       "\t FALSE &  9867\\\\\n",
       "\t  TRUE &   103\\\\\n",
       "\t    NA & 13218\\\\\n",
       "\\end{tabular}\n"
      ],
      "text/markdown": [
       "\n",
       "A tibble: 3 × 2\n",
       "\n",
       "| STOPMORTALITY &lt;lgl&gt; | COUNT &lt;int&gt; |\n",
       "|---|---|\n",
       "| FALSE |  9867 |\n",
       "|  TRUE |   103 |\n",
       "|    NA | 13218 |\n",
       "\n"
      ],
      "text/plain": [
       "  STOPMORTALITY COUNT\n",
       "1 FALSE          9867\n",
       "2  TRUE           103\n",
       "3    NA         13218"
      ]
     },
     "metadata": {},
     "output_type": "display_data"
    }
   ],
   "source": [
    "### if I do ignore these unusual cases\n",
    "input_df %>%\n",
    "    ungroup() %>%\n",
    "    left_join(nonvitals_predictor_df, by = \"icustay_id\") %>%\n",
    "    group_by(icustay_id, continuous_course) %>%\n",
    "    mutate(STOPMORTALITY = difftime(deathtime, max(endtime), units = \"mins\")) %>% \n",
    "    mutate(STOPMORTALITY = STOPMORTALITY > 0 &  STOPMORTALITY < 5) %>%\n",
    "    group_by(STOPMORTALITY) %>%\n",
    "    summarize(COUNT = n())"
   ]
  },
  {
   "cell_type": "code",
   "execution_count": 531,
   "metadata": {},
   "outputs": [],
   "source": [
    "# ignore NAs (patient did not die), or patient death did not correspond to end of pressor course\n",
    "# do not remove unusual cases\n",
    "input_death_df <- input_df %>%\n",
    "    ungroup() %>%\n",
    "    left_join(nonvitals_predictor_df, by = \"icustay_id\") %>%\n",
    "    group_by(icustay_id, continuous_course) %>%\n",
    "    mutate(STOPMORTALITY = difftime(deathtime, max(endtime), units = \"mins\")) %>% \n",
    "    mutate(STOPMORTALITY = !(!(STOPMORTALITY < 5) | is.na(STOPMORTALITY)))"
   ]
  },
  {
   "cell_type": "code",
   "execution_count": 532,
   "metadata": {},
   "outputs": [
    {
     "data": {
      "text/html": [
       "<table>\n",
       "<caption>A grouped_df: 26 × 5</caption>\n",
       "<thead>\n",
       "\t<tr><th scope=col>LESS1HOUR</th><th scope=col>FIRSTCOURSE</th><th scope=col>STOPMORTALITY</th><th scope=col>MORETHAN24HOURS</th><th scope=col>COUNT</th></tr>\n",
       "\t<tr><th scope=col>&lt;lgl&gt;</th><th scope=col>&lt;lgl&gt;</th><th scope=col>&lt;lgl&gt;</th><th scope=col>&lt;lgl&gt;</th><th scope=col>&lt;int&gt;</th></tr>\n",
       "</thead>\n",
       "<tbody>\n",
       "\t<tr><td>FALSE</td><td>FALSE</td><td>FALSE</td><td>FALSE</td><td> 545</td></tr>\n",
       "\t<tr><td>FALSE</td><td>FALSE</td><td>FALSE</td><td> TRUE</td><td> 448</td></tr>\n",
       "\t<tr><td>FALSE</td><td>FALSE</td><td> TRUE</td><td>FALSE</td><td>  38</td></tr>\n",
       "\t<tr><td>FALSE</td><td>FALSE</td><td> TRUE</td><td> TRUE</td><td>  41</td></tr>\n",
       "\t<tr><td>FALSE</td><td> TRUE</td><td>FALSE</td><td>FALSE</td><td>3448</td></tr>\n",
       "\t<tr><td>FALSE</td><td> TRUE</td><td>FALSE</td><td> TRUE</td><td>2743</td></tr>\n",
       "\t<tr><td>FALSE</td><td> TRUE</td><td> TRUE</td><td>FALSE</td><td> 252</td></tr>\n",
       "\t<tr><td>FALSE</td><td> TRUE</td><td> TRUE</td><td> TRUE</td><td> 175</td></tr>\n",
       "\t<tr><td> TRUE</td><td>FALSE</td><td>FALSE</td><td>FALSE</td><td>  21</td></tr>\n",
       "\t<tr><td> TRUE</td><td>FALSE</td><td>FALSE</td><td> TRUE</td><td>  11</td></tr>\n",
       "\t<tr><td> TRUE</td><td>FALSE</td><td> TRUE</td><td>FALSE</td><td>   1</td></tr>\n",
       "\t<tr><td> TRUE</td><td>FALSE</td><td> TRUE</td><td> TRUE</td><td>   1</td></tr>\n",
       "\t<tr><td> TRUE</td><td> TRUE</td><td>FALSE</td><td>FALSE</td><td> 249</td></tr>\n",
       "\t<tr><td> TRUE</td><td> TRUE</td><td>FALSE</td><td> TRUE</td><td> 127</td></tr>\n",
       "\t<tr><td> TRUE</td><td> TRUE</td><td> TRUE</td><td>FALSE</td><td>  19</td></tr>\n",
       "\t<tr><td> TRUE</td><td> TRUE</td><td> TRUE</td><td> TRUE</td><td>   8</td></tr>\n",
       "\t<tr><td>   NA</td><td>FALSE</td><td>FALSE</td><td>FALSE</td><td>  41</td></tr>\n",
       "\t<tr><td>   NA</td><td>FALSE</td><td>FALSE</td><td> TRUE</td><td>  44</td></tr>\n",
       "\t<tr><td>   NA</td><td>FALSE</td><td> TRUE</td><td>FALSE</td><td>   3</td></tr>\n",
       "\t<tr><td>   NA</td><td>FALSE</td><td> TRUE</td><td> TRUE</td><td>   1</td></tr>\n",
       "\t<tr><td>   NA</td><td> TRUE</td><td>FALSE</td><td>FALSE</td><td>  68</td></tr>\n",
       "\t<tr><td>   NA</td><td> TRUE</td><td>FALSE</td><td> TRUE</td><td>  92</td></tr>\n",
       "\t<tr><td>   NA</td><td> TRUE</td><td> TRUE</td><td>FALSE</td><td>   1</td></tr>\n",
       "\t<tr><td>   NA</td><td> TRUE</td><td> TRUE</td><td> TRUE</td><td>   3</td></tr>\n",
       "\t<tr><td>   NA</td><td>   NA</td><td>FALSE</td><td>FALSE</td><td>  79</td></tr>\n",
       "\t<tr><td>   NA</td><td>   NA</td><td>FALSE</td><td> TRUE</td><td>  67</td></tr>\n",
       "</tbody>\n",
       "</table>\n"
      ],
      "text/latex": [
       "A grouped_df: 26 × 5\n",
       "\\begin{tabular}{r|lllll}\n",
       " LESS1HOUR & FIRSTCOURSE & STOPMORTALITY & MORETHAN24HOURS & COUNT\\\\\n",
       " <lgl> & <lgl> & <lgl> & <lgl> & <int>\\\\\n",
       "\\hline\n",
       "\t FALSE & FALSE & FALSE & FALSE &  545\\\\\n",
       "\t FALSE & FALSE & FALSE &  TRUE &  448\\\\\n",
       "\t FALSE & FALSE &  TRUE & FALSE &   38\\\\\n",
       "\t FALSE & FALSE &  TRUE &  TRUE &   41\\\\\n",
       "\t FALSE &  TRUE & FALSE & FALSE & 3448\\\\\n",
       "\t FALSE &  TRUE & FALSE &  TRUE & 2743\\\\\n",
       "\t FALSE &  TRUE &  TRUE & FALSE &  252\\\\\n",
       "\t FALSE &  TRUE &  TRUE &  TRUE &  175\\\\\n",
       "\t  TRUE & FALSE & FALSE & FALSE &   21\\\\\n",
       "\t  TRUE & FALSE & FALSE &  TRUE &   11\\\\\n",
       "\t  TRUE & FALSE &  TRUE & FALSE &    1\\\\\n",
       "\t  TRUE & FALSE &  TRUE &  TRUE &    1\\\\\n",
       "\t  TRUE &  TRUE & FALSE & FALSE &  249\\\\\n",
       "\t  TRUE &  TRUE & FALSE &  TRUE &  127\\\\\n",
       "\t  TRUE &  TRUE &  TRUE & FALSE &   19\\\\\n",
       "\t  TRUE &  TRUE &  TRUE &  TRUE &    8\\\\\n",
       "\t    NA & FALSE & FALSE & FALSE &   41\\\\\n",
       "\t    NA & FALSE & FALSE &  TRUE &   44\\\\\n",
       "\t    NA & FALSE &  TRUE & FALSE &    3\\\\\n",
       "\t    NA & FALSE &  TRUE &  TRUE &    1\\\\\n",
       "\t    NA &  TRUE & FALSE & FALSE &   68\\\\\n",
       "\t    NA &  TRUE & FALSE &  TRUE &   92\\\\\n",
       "\t    NA &  TRUE &  TRUE & FALSE &    1\\\\\n",
       "\t    NA &  TRUE &  TRUE &  TRUE &    3\\\\\n",
       "\t    NA &    NA & FALSE & FALSE &   79\\\\\n",
       "\t    NA &    NA & FALSE &  TRUE &   67\\\\\n",
       "\\end{tabular}\n"
      ],
      "text/markdown": [
       "\n",
       "A grouped_df: 26 × 5\n",
       "\n",
       "| LESS1HOUR &lt;lgl&gt; | FIRSTCOURSE &lt;lgl&gt; | STOPMORTALITY &lt;lgl&gt; | MORETHAN24HOURS &lt;lgl&gt; | COUNT &lt;int&gt; |\n",
       "|---|---|---|---|---|\n",
       "| FALSE | FALSE | FALSE | FALSE |  545 |\n",
       "| FALSE | FALSE | FALSE |  TRUE |  448 |\n",
       "| FALSE | FALSE |  TRUE | FALSE |   38 |\n",
       "| FALSE | FALSE |  TRUE |  TRUE |   41 |\n",
       "| FALSE |  TRUE | FALSE | FALSE | 3448 |\n",
       "| FALSE |  TRUE | FALSE |  TRUE | 2743 |\n",
       "| FALSE |  TRUE |  TRUE | FALSE |  252 |\n",
       "| FALSE |  TRUE |  TRUE |  TRUE |  175 |\n",
       "|  TRUE | FALSE | FALSE | FALSE |   21 |\n",
       "|  TRUE | FALSE | FALSE |  TRUE |   11 |\n",
       "|  TRUE | FALSE |  TRUE | FALSE |    1 |\n",
       "|  TRUE | FALSE |  TRUE |  TRUE |    1 |\n",
       "|  TRUE |  TRUE | FALSE | FALSE |  249 |\n",
       "|  TRUE |  TRUE | FALSE |  TRUE |  127 |\n",
       "|  TRUE |  TRUE |  TRUE | FALSE |   19 |\n",
       "|  TRUE |  TRUE |  TRUE |  TRUE |    8 |\n",
       "|    NA | FALSE | FALSE | FALSE |   41 |\n",
       "|    NA | FALSE | FALSE |  TRUE |   44 |\n",
       "|    NA | FALSE |  TRUE | FALSE |    3 |\n",
       "|    NA | FALSE |  TRUE |  TRUE |    1 |\n",
       "|    NA |  TRUE | FALSE | FALSE |   68 |\n",
       "|    NA |  TRUE | FALSE |  TRUE |   92 |\n",
       "|    NA |  TRUE |  TRUE | FALSE |    1 |\n",
       "|    NA |  TRUE |  TRUE |  TRUE |    3 |\n",
       "|    NA |    NA | FALSE | FALSE |   79 |\n",
       "|    NA |    NA | FALSE |  TRUE |   67 |\n",
       "\n"
      ],
      "text/plain": [
       "   LESS1HOUR FIRSTCOURSE STOPMORTALITY MORETHAN24HOURS COUNT\n",
       "1  FALSE     FALSE       FALSE         FALSE            545 \n",
       "2  FALSE     FALSE       FALSE          TRUE            448 \n",
       "3  FALSE     FALSE        TRUE         FALSE             38 \n",
       "4  FALSE     FALSE        TRUE          TRUE             41 \n",
       "5  FALSE      TRUE       FALSE         FALSE           3448 \n",
       "6  FALSE      TRUE       FALSE          TRUE           2743 \n",
       "7  FALSE      TRUE        TRUE         FALSE            252 \n",
       "8  FALSE      TRUE        TRUE          TRUE            175 \n",
       "9   TRUE     FALSE       FALSE         FALSE             21 \n",
       "10  TRUE     FALSE       FALSE          TRUE             11 \n",
       "11  TRUE     FALSE        TRUE         FALSE              1 \n",
       "12  TRUE     FALSE        TRUE          TRUE              1 \n",
       "13  TRUE      TRUE       FALSE         FALSE            249 \n",
       "14  TRUE      TRUE       FALSE          TRUE            127 \n",
       "15  TRUE      TRUE        TRUE         FALSE             19 \n",
       "16  TRUE      TRUE        TRUE          TRUE              8 \n",
       "17    NA     FALSE       FALSE         FALSE             41 \n",
       "18    NA     FALSE       FALSE          TRUE             44 \n",
       "19    NA     FALSE        TRUE         FALSE              3 \n",
       "20    NA     FALSE        TRUE          TRUE              1 \n",
       "21    NA      TRUE       FALSE         FALSE             68 \n",
       "22    NA      TRUE       FALSE          TRUE             92 \n",
       "23    NA      TRUE        TRUE         FALSE              1 \n",
       "24    NA      TRUE        TRUE          TRUE              3 \n",
       "25    NA        NA       FALSE         FALSE             79 \n",
       "26    NA        NA       FALSE          TRUE             67 "
      ]
     },
     "metadata": {},
     "output_type": "display_data"
    }
   ],
   "source": [
    "input_death_df %>%\n",
    "    mutate(course_id = paste(icustay_id, continuous_course, sep = \",\")) %>%\n",
    "    group_by(LESS1HOUR, FIRSTCOURSE, STOPMORTALITY, MORETHAN24HOURS) %>%\n",
    "    summarize(COUNT = length(unique(course_id)))"
   ]
  },
  {
   "cell_type": "code",
   "execution_count": 303,
   "metadata": {},
   "outputs": [],
   "source": [
    "# ignore NAs (patient did not die), or patient death did not correspond to end of pressor course\n",
    "# remove unusual cases\n",
    "input_death_df <- input_df %>%\n",
    "    ungroup() %>%\n",
    "    left_join(nonvitals_predictor_df, by = \"icustay_id\") %>%\n",
    "    group_by(icustay_id, continuous_course) %>%\n",
    "    mutate(STOPMORTALITY = difftime(deathtime, max(endtime), units = \"mins\")) %>% \n",
    "    mutate(STOPMORTALITY = !(!(STOPMORTALITY > 0 &  STOPMORTALITY < 5) | is.na(STOPMORTALITY)))"
   ]
  },
  {
   "cell_type": "markdown",
   "metadata": {},
   "source": [
    "### Exclude NICU (all NICU was already excluded by pressor usage)"
   ]
  },
  {
   "cell_type": "code",
   "execution_count": 533,
   "metadata": {},
   "outputs": [
    {
     "data": {
      "text/html": [
       "<table>\n",
       "<caption>A grouped_df: 28 × 6</caption>\n",
       "<thead>\n",
       "\t<tr><th scope=col>LESS1HOUR</th><th scope=col>FIRSTCOURSE</th><th scope=col>STOPMORTALITY</th><th scope=col>MORETHAN24HOURS</th><th scope=col>NICUSTAY</th><th scope=col>COUNT</th></tr>\n",
       "\t<tr><th scope=col>&lt;lgl&gt;</th><th scope=col>&lt;lgl&gt;</th><th scope=col>&lt;lgl&gt;</th><th scope=col>&lt;lgl&gt;</th><th scope=col>&lt;lgl&gt;</th><th scope=col>&lt;int&gt;</th></tr>\n",
       "</thead>\n",
       "<tbody>\n",
       "\t<tr><td>FALSE</td><td>FALSE</td><td>FALSE</td><td>FALSE</td><td>FALSE</td><td> 545</td></tr>\n",
       "\t<tr><td>FALSE</td><td>FALSE</td><td>FALSE</td><td> TRUE</td><td>FALSE</td><td> 448</td></tr>\n",
       "\t<tr><td>FALSE</td><td>FALSE</td><td> TRUE</td><td>FALSE</td><td>FALSE</td><td>  38</td></tr>\n",
       "\t<tr><td>FALSE</td><td>FALSE</td><td> TRUE</td><td> TRUE</td><td>FALSE</td><td>  41</td></tr>\n",
       "\t<tr><td>FALSE</td><td> TRUE</td><td>FALSE</td><td>FALSE</td><td>FALSE</td><td>3448</td></tr>\n",
       "\t<tr><td>FALSE</td><td> TRUE</td><td>FALSE</td><td> TRUE</td><td>FALSE</td><td>2743</td></tr>\n",
       "\t<tr><td>FALSE</td><td> TRUE</td><td> TRUE</td><td>FALSE</td><td>FALSE</td><td> 252</td></tr>\n",
       "\t<tr><td>FALSE</td><td> TRUE</td><td> TRUE</td><td> TRUE</td><td>FALSE</td><td> 175</td></tr>\n",
       "\t<tr><td> TRUE</td><td>FALSE</td><td>FALSE</td><td>FALSE</td><td>FALSE</td><td>  21</td></tr>\n",
       "\t<tr><td> TRUE</td><td>FALSE</td><td>FALSE</td><td> TRUE</td><td>FALSE</td><td>  11</td></tr>\n",
       "\t<tr><td> TRUE</td><td>FALSE</td><td> TRUE</td><td>FALSE</td><td>FALSE</td><td>   1</td></tr>\n",
       "\t<tr><td> TRUE</td><td>FALSE</td><td> TRUE</td><td> TRUE</td><td>FALSE</td><td>   1</td></tr>\n",
       "\t<tr><td> TRUE</td><td> TRUE</td><td>FALSE</td><td>FALSE</td><td>FALSE</td><td> 249</td></tr>\n",
       "\t<tr><td> TRUE</td><td> TRUE</td><td>FALSE</td><td> TRUE</td><td>FALSE</td><td> 127</td></tr>\n",
       "\t<tr><td> TRUE</td><td> TRUE</td><td> TRUE</td><td>FALSE</td><td>FALSE</td><td>  19</td></tr>\n",
       "\t<tr><td> TRUE</td><td> TRUE</td><td> TRUE</td><td> TRUE</td><td>FALSE</td><td>   8</td></tr>\n",
       "\t<tr><td>   NA</td><td>FALSE</td><td>FALSE</td><td>FALSE</td><td>FALSE</td><td>  41</td></tr>\n",
       "\t<tr><td>   NA</td><td>FALSE</td><td>FALSE</td><td> TRUE</td><td>FALSE</td><td>  43</td></tr>\n",
       "\t<tr><td>   NA</td><td>FALSE</td><td>FALSE</td><td> TRUE</td><td>   NA</td><td>   1</td></tr>\n",
       "\t<tr><td>   NA</td><td>FALSE</td><td> TRUE</td><td>FALSE</td><td>FALSE</td><td>   3</td></tr>\n",
       "\t<tr><td>   NA</td><td>FALSE</td><td> TRUE</td><td> TRUE</td><td>FALSE</td><td>   1</td></tr>\n",
       "\t<tr><td>   NA</td><td> TRUE</td><td>FALSE</td><td>FALSE</td><td>FALSE</td><td>  67</td></tr>\n",
       "\t<tr><td>   NA</td><td> TRUE</td><td>FALSE</td><td>FALSE</td><td>   NA</td><td>   1</td></tr>\n",
       "\t<tr><td>   NA</td><td> TRUE</td><td>FALSE</td><td> TRUE</td><td>FALSE</td><td>  92</td></tr>\n",
       "\t<tr><td>   NA</td><td> TRUE</td><td> TRUE</td><td>FALSE</td><td>FALSE</td><td>   1</td></tr>\n",
       "\t<tr><td>   NA</td><td> TRUE</td><td> TRUE</td><td> TRUE</td><td>FALSE</td><td>   3</td></tr>\n",
       "\t<tr><td>   NA</td><td>   NA</td><td>FALSE</td><td>FALSE</td><td>FALSE</td><td>  79</td></tr>\n",
       "\t<tr><td>   NA</td><td>   NA</td><td>FALSE</td><td> TRUE</td><td>FALSE</td><td>  67</td></tr>\n",
       "</tbody>\n",
       "</table>\n"
      ],
      "text/latex": [
       "A grouped_df: 28 × 6\n",
       "\\begin{tabular}{r|llllll}\n",
       " LESS1HOUR & FIRSTCOURSE & STOPMORTALITY & MORETHAN24HOURS & NICUSTAY & COUNT\\\\\n",
       " <lgl> & <lgl> & <lgl> & <lgl> & <lgl> & <int>\\\\\n",
       "\\hline\n",
       "\t FALSE & FALSE & FALSE & FALSE & FALSE &  545\\\\\n",
       "\t FALSE & FALSE & FALSE &  TRUE & FALSE &  448\\\\\n",
       "\t FALSE & FALSE &  TRUE & FALSE & FALSE &   38\\\\\n",
       "\t FALSE & FALSE &  TRUE &  TRUE & FALSE &   41\\\\\n",
       "\t FALSE &  TRUE & FALSE & FALSE & FALSE & 3448\\\\\n",
       "\t FALSE &  TRUE & FALSE &  TRUE & FALSE & 2743\\\\\n",
       "\t FALSE &  TRUE &  TRUE & FALSE & FALSE &  252\\\\\n",
       "\t FALSE &  TRUE &  TRUE &  TRUE & FALSE &  175\\\\\n",
       "\t  TRUE & FALSE & FALSE & FALSE & FALSE &   21\\\\\n",
       "\t  TRUE & FALSE & FALSE &  TRUE & FALSE &   11\\\\\n",
       "\t  TRUE & FALSE &  TRUE & FALSE & FALSE &    1\\\\\n",
       "\t  TRUE & FALSE &  TRUE &  TRUE & FALSE &    1\\\\\n",
       "\t  TRUE &  TRUE & FALSE & FALSE & FALSE &  249\\\\\n",
       "\t  TRUE &  TRUE & FALSE &  TRUE & FALSE &  127\\\\\n",
       "\t  TRUE &  TRUE &  TRUE & FALSE & FALSE &   19\\\\\n",
       "\t  TRUE &  TRUE &  TRUE &  TRUE & FALSE &    8\\\\\n",
       "\t    NA & FALSE & FALSE & FALSE & FALSE &   41\\\\\n",
       "\t    NA & FALSE & FALSE &  TRUE & FALSE &   43\\\\\n",
       "\t    NA & FALSE & FALSE &  TRUE &    NA &    1\\\\\n",
       "\t    NA & FALSE &  TRUE & FALSE & FALSE &    3\\\\\n",
       "\t    NA & FALSE &  TRUE &  TRUE & FALSE &    1\\\\\n",
       "\t    NA &  TRUE & FALSE & FALSE & FALSE &   67\\\\\n",
       "\t    NA &  TRUE & FALSE & FALSE &    NA &    1\\\\\n",
       "\t    NA &  TRUE & FALSE &  TRUE & FALSE &   92\\\\\n",
       "\t    NA &  TRUE &  TRUE & FALSE & FALSE &    1\\\\\n",
       "\t    NA &  TRUE &  TRUE &  TRUE & FALSE &    3\\\\\n",
       "\t    NA &    NA & FALSE & FALSE & FALSE &   79\\\\\n",
       "\t    NA &    NA & FALSE &  TRUE & FALSE &   67\\\\\n",
       "\\end{tabular}\n"
      ],
      "text/markdown": [
       "\n",
       "A grouped_df: 28 × 6\n",
       "\n",
       "| LESS1HOUR &lt;lgl&gt; | FIRSTCOURSE &lt;lgl&gt; | STOPMORTALITY &lt;lgl&gt; | MORETHAN24HOURS &lt;lgl&gt; | NICUSTAY &lt;lgl&gt; | COUNT &lt;int&gt; |\n",
       "|---|---|---|---|---|---|\n",
       "| FALSE | FALSE | FALSE | FALSE | FALSE |  545 |\n",
       "| FALSE | FALSE | FALSE |  TRUE | FALSE |  448 |\n",
       "| FALSE | FALSE |  TRUE | FALSE | FALSE |   38 |\n",
       "| FALSE | FALSE |  TRUE |  TRUE | FALSE |   41 |\n",
       "| FALSE |  TRUE | FALSE | FALSE | FALSE | 3448 |\n",
       "| FALSE |  TRUE | FALSE |  TRUE | FALSE | 2743 |\n",
       "| FALSE |  TRUE |  TRUE | FALSE | FALSE |  252 |\n",
       "| FALSE |  TRUE |  TRUE |  TRUE | FALSE |  175 |\n",
       "|  TRUE | FALSE | FALSE | FALSE | FALSE |   21 |\n",
       "|  TRUE | FALSE | FALSE |  TRUE | FALSE |   11 |\n",
       "|  TRUE | FALSE |  TRUE | FALSE | FALSE |    1 |\n",
       "|  TRUE | FALSE |  TRUE |  TRUE | FALSE |    1 |\n",
       "|  TRUE |  TRUE | FALSE | FALSE | FALSE |  249 |\n",
       "|  TRUE |  TRUE | FALSE |  TRUE | FALSE |  127 |\n",
       "|  TRUE |  TRUE |  TRUE | FALSE | FALSE |   19 |\n",
       "|  TRUE |  TRUE |  TRUE |  TRUE | FALSE |    8 |\n",
       "|    NA | FALSE | FALSE | FALSE | FALSE |   41 |\n",
       "|    NA | FALSE | FALSE |  TRUE | FALSE |   43 |\n",
       "|    NA | FALSE | FALSE |  TRUE |    NA |    1 |\n",
       "|    NA | FALSE |  TRUE | FALSE | FALSE |    3 |\n",
       "|    NA | FALSE |  TRUE |  TRUE | FALSE |    1 |\n",
       "|    NA |  TRUE | FALSE | FALSE | FALSE |   67 |\n",
       "|    NA |  TRUE | FALSE | FALSE |    NA |    1 |\n",
       "|    NA |  TRUE | FALSE |  TRUE | FALSE |   92 |\n",
       "|    NA |  TRUE |  TRUE | FALSE | FALSE |    1 |\n",
       "|    NA |  TRUE |  TRUE |  TRUE | FALSE |    3 |\n",
       "|    NA |    NA | FALSE | FALSE | FALSE |   79 |\n",
       "|    NA |    NA | FALSE |  TRUE | FALSE |   67 |\n",
       "\n"
      ],
      "text/plain": [
       "   LESS1HOUR FIRSTCOURSE STOPMORTALITY MORETHAN24HOURS NICUSTAY COUNT\n",
       "1  FALSE     FALSE       FALSE         FALSE           FALSE     545 \n",
       "2  FALSE     FALSE       FALSE          TRUE           FALSE     448 \n",
       "3  FALSE     FALSE        TRUE         FALSE           FALSE      38 \n",
       "4  FALSE     FALSE        TRUE          TRUE           FALSE      41 \n",
       "5  FALSE      TRUE       FALSE         FALSE           FALSE    3448 \n",
       "6  FALSE      TRUE       FALSE          TRUE           FALSE    2743 \n",
       "7  FALSE      TRUE        TRUE         FALSE           FALSE     252 \n",
       "8  FALSE      TRUE        TRUE          TRUE           FALSE     175 \n",
       "9   TRUE     FALSE       FALSE         FALSE           FALSE      21 \n",
       "10  TRUE     FALSE       FALSE          TRUE           FALSE      11 \n",
       "11  TRUE     FALSE        TRUE         FALSE           FALSE       1 \n",
       "12  TRUE     FALSE        TRUE          TRUE           FALSE       1 \n",
       "13  TRUE      TRUE       FALSE         FALSE           FALSE     249 \n",
       "14  TRUE      TRUE       FALSE          TRUE           FALSE     127 \n",
       "15  TRUE      TRUE        TRUE         FALSE           FALSE      19 \n",
       "16  TRUE      TRUE        TRUE          TRUE           FALSE       8 \n",
       "17    NA     FALSE       FALSE         FALSE           FALSE      41 \n",
       "18    NA     FALSE       FALSE          TRUE           FALSE      43 \n",
       "19    NA     FALSE       FALSE          TRUE              NA       1 \n",
       "20    NA     FALSE        TRUE         FALSE           FALSE       3 \n",
       "21    NA     FALSE        TRUE          TRUE           FALSE       1 \n",
       "22    NA      TRUE       FALSE         FALSE           FALSE      67 \n",
       "23    NA      TRUE       FALSE         FALSE              NA       1 \n",
       "24    NA      TRUE       FALSE          TRUE           FALSE      92 \n",
       "25    NA      TRUE        TRUE         FALSE           FALSE       1 \n",
       "26    NA      TRUE        TRUE          TRUE           FALSE       3 \n",
       "27    NA        NA       FALSE         FALSE           FALSE      79 \n",
       "28    NA        NA       FALSE          TRUE           FALSE      67 "
      ]
     },
     "metadata": {},
     "output_type": "display_data"
    }
   ],
   "source": [
    "input_death_df %>%\n",
    "    mutate(NICUSTAY = first_careunit == \"NICU\") %>%\n",
    "    mutate(course_id = paste(icustay_id, continuous_course, sep = \",\")) %>%\n",
    "    group_by(LESS1HOUR, FIRSTCOURSE, STOPMORTALITY, MORETHAN24HOURS, NICUSTAY) %>%\n",
    "    summarize(COUNT = length(unique(course_id)))"
   ]
  },
  {
   "cell_type": "markdown",
   "metadata": {},
   "source": [
    "### Use filters"
   ]
  },
  {
   "cell_type": "code",
   "execution_count": 534,
   "metadata": {},
   "outputs": [],
   "source": [
    "output_df <- input_death_df %>%\n",
    "    mutate(course_id = paste(icustay_id, continuous_course, sep = \",\")) %>%\n",
    "    group_by(course_id) %>%\n",
    "    mutate(starttime = min(starttime), endtime = max(endtime)) %>%\n",
    "    filter(!LESS1HOUR, FIRSTCOURSE, !STOPMORTALITY) "
   ]
  },
  {
   "cell_type": "markdown",
   "metadata": {},
   "source": [
    "# Table 1 (RR Analysis)"
   ]
  },
  {
   "cell_type": "code",
   "execution_count": 58,
   "metadata": {},
   "outputs": [],
   "source": [
    "races <- c(\"ASIAN\", \"BLACK\", \"HISPANIC\", \"WHITE\", \"OTHER\")\n",
    "\n",
    "simplifyRace <- function(ethnicity){\n",
    "    if(grepl(\"ASIAN\", ethnicity)){return(\"ASIAN\")}\n",
    "    else if(grepl(\"BLACK\", ethnicity)){return(\"BLACK\")}\n",
    "    else if(grepl(\"HISPANIC\", ethnicity)){return(\"HISPANIC\")}\n",
    "    else if(grepl(\"WHITE\", ethnicity)){return(\"WHITE\")}\n",
    "    else{return(\"OTHER\")}\n",
    "}"
   ]
  },
  {
   "cell_type": "code",
   "execution_count": 295,
   "metadata": {},
   "outputs": [],
   "source": [
    "sepsis_regex <- c('SEPSIS', 'SEPTIC', 'CHOLANGITIS', 'UROSEPSIS')\n",
    "\n",
    "infection_regex <- c('PNEUMONIA', 'INFECTION',  \n",
    "  'CELULLITIS', 'FASCITIS', 'INFECTED', 'BACTER', 'PNEMONIA', 'ABSCESS', 'NEPHRITIS')\n",
    "\n",
    "cardiac_regex <- c('HEART', 'CORONARY', 'VENTRICULAR')\n",
    "\n",
    "simplifyDiagnosis <- function(diagnosis){\n",
    "    if(any(sapply(sepsis_regex, function(x) grepl(x, diagnosis)))){return(\"SEPSIS\")}\n",
    "    else if(any(sapply(infection_regex, function(x) grepl(x, diagnosis)))){return(\"INFECTION\")}\n",
    "    else if(any(sapply(cardiac_regex, function(x) grepl(x, diagnosis)))){return(\"CARDIAC\")}\n",
    "    else{return(\"OTHER DIAGNOSIS\")}\n",
    "}"
   ]
  },
  {
   "cell_type": "code",
   "execution_count": 585,
   "metadata": {},
   "outputs": [],
   "source": [
    "output_df <- output_df %>% \n",
    "    rowwise() %>%\n",
    "    mutate(simple_race = simplifyRace(ethnicity)) %>%\n",
    "    mutate(simple_diagnosis = simplifyDiagnosis(diagnosis))"
   ]
  },
  {
   "cell_type": "markdown",
   "metadata": {},
   "source": [
    "Second: Let’s pause the sophisticated (and more interesting) analysis to build out our manuscript table 1 and supp tables 1-3. Details in the doc, but I imagine this as a classic table 1 where you show group characteristics. Hopefully R has a straight-forward way of dumping these out. (https://cran.r-project.org/web/packages/tableone/vignettes/introduction.html)\n",
    "\n",
    " \n",
    "\n",
    "T1: composite of levophed, dopamine, phenylephrine X [all patients; single pressor < 6 hours; single pressor < 24 hours; single pressor > 24 hours or multiple pressors at any point]\n",
    "\n",
    "S1-S3: blow-out of levophed, dopamine, phenylephrine X [all patients; single pressor < 6 hours; single pressor < 24 hours; single pressor > 24 hours or multiple pressors at any point]\n",
    "\n",
    "P-values to compare < 24 vs > 24 or multiple pressors\n",
    "\n",
    "+/- Relative risks for categorical variables?\n",
    "\n",
    " "
   ]
  },
  {
   "cell_type": "code",
   "execution_count": 538,
   "metadata": {},
   "outputs": [
    {
     "name": "stderr",
     "output_type": "stream",
     "text": [
      "Warning message:\n",
      "“Grouping rowwise data frame strips rowwise nature”"
     ]
    }
   ],
   "source": [
    "t1_df <- output_df %>% \n",
    "#     mutate(STATUS = \n",
    "#             if(duration_hours <= 6){\"LESS6HOURS\"}\n",
    "#             else if(duration_hours <= 24 & duration_hours > 6){\"LESS24HOURS\"}\n",
    "#             else if(duration_hours > 24){\"MORE24HOURS\"}) %>%\n",
    "#     group_by(course_id, MORETHAN24HOURS) %>%\n",
    "#     summarize(age = mean(age), \n",
    "#               gender = unique(gender)[1],\n",
    "#               simple_race =  unique(simple_race)[1],\n",
    "#               simple_diagnosis =  unique(simple_diagnosis)[1],\n",
    "#               first_careunit =  unique(first_careunit)[1]\n",
    "#              ) %>%\n",
    "    group_by(STATUS) %>%\n",
    "    summarize(COUNT = n(), \n",
    "              AGE_MEAN = as.numeric(mean(age, na.rm=TRUE)), AGE_SD = sd(age, na.rm=TRUE),\n",
    "              FEMALE_SUM = sum(gender == 'F'),\n",
    "              FEMALE_FRAC = sum(gender == 'F')/n(),\n",
    "              WHITE_SUM = sum(simple_race == 'WHITE'),\n",
    "              WHITE_FRAC = sum(simple_race == 'WHITE')/n(),\n",
    "              BLACK_SUM = sum(simple_race == 'BLACK'),\n",
    "              BLACK_FRAC = sum(simple_race == 'BLACK')/n(),\n",
    "              HISPANIC_SUM = sum(simple_race == 'HISPANIC'),\n",
    "              HISPANIC_FRAC = sum(simple_race == 'HISPANIC')/n(),\n",
    "              ASIAN_SUM = sum(simple_race == 'ASIAN'),\n",
    "              ASIAN_FRAC = sum(simple_race == 'ASIAN')/n(),\n",
    "              MICU_SUM = sum(first_careunit == 'MICU'),\n",
    "              MICU_FRAC = sum(first_careunit == 'MICU')/n(),\n",
    "              SICU_SUM = sum(first_careunit == 'SICU'),\n",
    "              SICU_FRAC = sum(first_careunit == 'SICU')/n(),\n",
    "              CCU_SUM = sum(first_careunit == 'CCU'),\n",
    "              CCU_FRAC = sum(first_careunit == 'CCU')/n(),\n",
    "              TSICU_SUM = sum(first_careunit == 'TSICU'),\n",
    "              TSICU_FRAC = sum(first_careunit == 'TSICU')/n(),\n",
    "              CSRU_SUM = sum(first_careunit == 'CSRU'),\n",
    "              CSRU_FRAC = sum(first_careunit == 'CSRU')/n(),\n",
    "              SEPSIS_SUM = sum(simple_diagnosis == \"SEPSIS\"),\n",
    "              SEPSIS_FRAC = sum(simple_diagnosis == \"SEPSIS\")/n(),\n",
    "              INFX_SUM = sum(simple_diagnosis == \"INFECTION\"),\n",
    "              INFX_FRAC = sum(simple_diagnosis == \"INFECTION\")/n(),\n",
    "              CARDIAC_SUM = sum(simple_diagnosis == \"CARDIAC\"),\n",
    "              CARDIAC_FRAC = sum(simple_diagnosis == \"CARDIAC\")/n(),\n",
    "              CVC_SUM = sum(cvc == \"TRUE\", na.rm=TRUE),\n",
    "              CVC_FRAC = sum(cvc == \"TRUE\", na.rm=TRUE)/n(),\n",
    "              INTUB_SUM = sum(intub == \"TRUE\", na.rm=TRUE),\n",
    "              INTUB_FRAC = sum(intub == \"TRUE\", na.rm=TRUE)/n()\n",
    "             ) %>% t()"
   ]
  },
  {
   "cell_type": "code",
   "execution_count": 541,
   "metadata": {},
   "outputs": [],
   "source": [
    "colnames(t1_df) <- t1_df[1,]"
   ]
  },
  {
   "cell_type": "code",
   "execution_count": 542,
   "metadata": {},
   "outputs": [
    {
     "data": {
      "text/html": [
       "<table>\n",
       "<caption>A matrix: 34 × 3 of type chr</caption>\n",
       "<thead>\n",
       "\t<tr><th></th><th scope=col>LESSTHAN24HOURS</th><th scope=col>LESSTHAN6HOURS</th><th scope=col>MORETHAN24HOURS</th></tr>\n",
       "</thead>\n",
       "<tbody>\n",
       "\t<tr><th scope=row>STATUS</th><td>LESSTHAN24HOURS</td><td>LESSTHAN6HOURS</td><td>MORETHAN24HOURS</td></tr>\n",
       "\t<tr><th scope=row>COUNT</th><td> 3333          </td><td> 1617         </td><td>11648          </td></tr>\n",
       "\t<tr><th scope=row>AGE_MEAN</th><td>66.65908       </td><td>66.59008      </td><td>63.97164       </td></tr>\n",
       "\t<tr><th scope=row>AGE_SD</th><td>14.11881       </td><td>14.60693      </td><td>14.80246       </td></tr>\n",
       "\t<tr><th scope=row>FEMALE_SUM</th><td>1442           </td><td> 719          </td><td>4705           </td></tr>\n",
       "\t<tr><th scope=row>FEMALE_FRAC</th><td>0.4326433      </td><td>0.4446506     </td><td>0.4039320      </td></tr>\n",
       "\t<tr><th scope=row>WHITE_SUM</th><td>2351           </td><td>1146          </td><td>7959           </td></tr>\n",
       "\t<tr><th scope=row>WHITE_FRAC</th><td>0.7053705      </td><td>0.7087199     </td><td>0.6832933      </td></tr>\n",
       "\t<tr><th scope=row>BLACK_SUM</th><td> 248           </td><td> 158          </td><td>1110           </td></tr>\n",
       "\t<tr><th scope=row>BLACK_FRAC</th><td>0.07440744     </td><td>0.09771181    </td><td>0.09529533     </td></tr>\n",
       "\t<tr><th scope=row>HISPANIC_SUM</th><td> 95            </td><td> 42           </td><td>348            </td></tr>\n",
       "\t<tr><th scope=row>HISPANIC_FRAC</th><td>0.02850285     </td><td>0.02597403    </td><td>0.02987637     </td></tr>\n",
       "\t<tr><th scope=row>ASIAN_SUM</th><td>102            </td><td> 38           </td><td>315            </td></tr>\n",
       "\t<tr><th scope=row>ASIAN_FRAC</th><td>0.03060306     </td><td>0.02350031    </td><td>0.02704327     </td></tr>\n",
       "\t<tr><th scope=row>MICU_SUM</th><td>1507           </td><td> 703          </td><td>5700           </td></tr>\n",
       "\t<tr><th scope=row>MICU_FRAC</th><td>0.4521452      </td><td>0.4347557     </td><td>0.4893544      </td></tr>\n",
       "\t<tr><th scope=row>SICU_SUM</th><td> 432           </td><td> 198          </td><td>1915           </td></tr>\n",
       "\t<tr><th scope=row>SICU_FRAC</th><td>0.1296130      </td><td>0.1224490     </td><td>0.1644059      </td></tr>\n",
       "\t<tr><th scope=row>CCU_SUM</th><td> 424           </td><td> 217          </td><td>1445           </td></tr>\n",
       "\t<tr><th scope=row>CCU_FRAC</th><td>0.1272127      </td><td>0.1341991     </td><td>0.1240556      </td></tr>\n",
       "\t<tr><th scope=row>TSICU_SUM</th><td> 305           </td><td> 151          </td><td>1185           </td></tr>\n",
       "\t<tr><th scope=row>TSICU_FRAC</th><td>0.09150915     </td><td>0.09338281    </td><td>0.10173420     </td></tr>\n",
       "\t<tr><th scope=row>CSRU_SUM</th><td> 665           </td><td> 348          </td><td>1403           </td></tr>\n",
       "\t<tr><th scope=row>CSRU_FRAC</th><td>0.1995200      </td><td>0.2152134     </td><td>0.1204499      </td></tr>\n",
       "\t<tr><th scope=row>SEPSIS_SUM</th><td> 466           </td><td> 157          </td><td>1344           </td></tr>\n",
       "\t<tr><th scope=row>SEPSIS_FRAC</th><td>0.13981398     </td><td>0.09709338    </td><td>0.11538462     </td></tr>\n",
       "\t<tr><th scope=row>INFX_SUM</th><td> 284           </td><td> 129          </td><td>1297           </td></tr>\n",
       "\t<tr><th scope=row>INFX_FRAC</th><td>0.08520852     </td><td>0.07977737    </td><td>0.11134959     </td></tr>\n",
       "\t<tr><th scope=row>CARDIAC_SUM</th><td> 412           </td><td> 214          </td><td>1202           </td></tr>\n",
       "\t<tr><th scope=row>CARDIAC_FRAC</th><td>0.1236124      </td><td>0.1323438     </td><td>0.1031937      </td></tr>\n",
       "\t<tr><th scope=row>CVC_SUM</th><td> 3046          </td><td> 1406         </td><td>11358          </td></tr>\n",
       "\t<tr><th scope=row>CVC_FRAC</th><td>0.9138914      </td><td>0.8695114     </td><td>0.9751030      </td></tr>\n",
       "\t<tr><th scope=row>INTUB_SUM</th><td> 2645          </td><td> 1237         </td><td>10414          </td></tr>\n",
       "\t<tr><th scope=row>INTUB_FRAC</th><td>0.7935794      </td><td>0.7649969     </td><td>0.8940591      </td></tr>\n",
       "</tbody>\n",
       "</table>\n"
      ],
      "text/latex": [
       "A matrix: 34 × 3 of type chr\n",
       "\\begin{tabular}{r|lll}\n",
       "  & LESSTHAN24HOURS & LESSTHAN6HOURS & MORETHAN24HOURS\\\\\n",
       "\\hline\n",
       "\tSTATUS & LESSTHAN24HOURS & LESSTHAN6HOURS & MORETHAN24HOURS\\\\\n",
       "\tCOUNT &  3333           &  1617          & 11648          \\\\\n",
       "\tAGE\\_MEAN & 66.65908        & 66.59008       & 63.97164       \\\\\n",
       "\tAGE\\_SD & 14.11881        & 14.60693       & 14.80246       \\\\\n",
       "\tFEMALE\\_SUM & 1442            &  719           & 4705           \\\\\n",
       "\tFEMALE\\_FRAC & 0.4326433       & 0.4446506      & 0.4039320      \\\\\n",
       "\tWHITE\\_SUM & 2351            & 1146           & 7959           \\\\\n",
       "\tWHITE\\_FRAC & 0.7053705       & 0.7087199      & 0.6832933      \\\\\n",
       "\tBLACK\\_SUM &  248            &  158           & 1110           \\\\\n",
       "\tBLACK\\_FRAC & 0.07440744      & 0.09771181     & 0.09529533     \\\\\n",
       "\tHISPANIC\\_SUM &  95             &  42            & 348            \\\\\n",
       "\tHISPANIC\\_FRAC & 0.02850285      & 0.02597403     & 0.02987637     \\\\\n",
       "\tASIAN\\_SUM & 102             &  38            & 315            \\\\\n",
       "\tASIAN\\_FRAC & 0.03060306      & 0.02350031     & 0.02704327     \\\\\n",
       "\tMICU\\_SUM & 1507            &  703           & 5700           \\\\\n",
       "\tMICU\\_FRAC & 0.4521452       & 0.4347557      & 0.4893544      \\\\\n",
       "\tSICU\\_SUM &  432            &  198           & 1915           \\\\\n",
       "\tSICU\\_FRAC & 0.1296130       & 0.1224490      & 0.1644059      \\\\\n",
       "\tCCU\\_SUM &  424            &  217           & 1445           \\\\\n",
       "\tCCU\\_FRAC & 0.1272127       & 0.1341991      & 0.1240556      \\\\\n",
       "\tTSICU\\_SUM &  305            &  151           & 1185           \\\\\n",
       "\tTSICU\\_FRAC & 0.09150915      & 0.09338281     & 0.10173420     \\\\\n",
       "\tCSRU\\_SUM &  665            &  348           & 1403           \\\\\n",
       "\tCSRU\\_FRAC & 0.1995200       & 0.2152134      & 0.1204499      \\\\\n",
       "\tSEPSIS\\_SUM &  466            &  157           & 1344           \\\\\n",
       "\tSEPSIS\\_FRAC & 0.13981398      & 0.09709338     & 0.11538462     \\\\\n",
       "\tINFX\\_SUM &  284            &  129           & 1297           \\\\\n",
       "\tINFX\\_FRAC & 0.08520852      & 0.07977737     & 0.11134959     \\\\\n",
       "\tCARDIAC\\_SUM &  412            &  214           & 1202           \\\\\n",
       "\tCARDIAC\\_FRAC & 0.1236124       & 0.1323438      & 0.1031937      \\\\\n",
       "\tCVC\\_SUM &  3046           &  1406          & 11358          \\\\\n",
       "\tCVC\\_FRAC & 0.9138914       & 0.8695114      & 0.9751030      \\\\\n",
       "\tINTUB\\_SUM &  2645           &  1237          & 10414          \\\\\n",
       "\tINTUB\\_FRAC & 0.7935794       & 0.7649969      & 0.8940591      \\\\\n",
       "\\end{tabular}\n"
      ],
      "text/markdown": [
       "\n",
       "A matrix: 34 × 3 of type chr\n",
       "\n",
       "| <!--/--> | LESSTHAN24HOURS | LESSTHAN6HOURS | MORETHAN24HOURS |\n",
       "|---|---|---|---|\n",
       "| STATUS | LESSTHAN24HOURS | LESSTHAN6HOURS | MORETHAN24HOURS |\n",
       "| COUNT |  3333           |  1617          | 11648           |\n",
       "| AGE_MEAN | 66.65908        | 66.59008       | 63.97164        |\n",
       "| AGE_SD | 14.11881        | 14.60693       | 14.80246        |\n",
       "| FEMALE_SUM | 1442            |  719           | 4705            |\n",
       "| FEMALE_FRAC | 0.4326433       | 0.4446506      | 0.4039320       |\n",
       "| WHITE_SUM | 2351            | 1146           | 7959            |\n",
       "| WHITE_FRAC | 0.7053705       | 0.7087199      | 0.6832933       |\n",
       "| BLACK_SUM |  248            |  158           | 1110            |\n",
       "| BLACK_FRAC | 0.07440744      | 0.09771181     | 0.09529533      |\n",
       "| HISPANIC_SUM |  95             |  42            | 348             |\n",
       "| HISPANIC_FRAC | 0.02850285      | 0.02597403     | 0.02987637      |\n",
       "| ASIAN_SUM | 102             |  38            | 315             |\n",
       "| ASIAN_FRAC | 0.03060306      | 0.02350031     | 0.02704327      |\n",
       "| MICU_SUM | 1507            |  703           | 5700            |\n",
       "| MICU_FRAC | 0.4521452       | 0.4347557      | 0.4893544       |\n",
       "| SICU_SUM |  432            |  198           | 1915            |\n",
       "| SICU_FRAC | 0.1296130       | 0.1224490      | 0.1644059       |\n",
       "| CCU_SUM |  424            |  217           | 1445            |\n",
       "| CCU_FRAC | 0.1272127       | 0.1341991      | 0.1240556       |\n",
       "| TSICU_SUM |  305            |  151           | 1185            |\n",
       "| TSICU_FRAC | 0.09150915      | 0.09338281     | 0.10173420      |\n",
       "| CSRU_SUM |  665            |  348           | 1403            |\n",
       "| CSRU_FRAC | 0.1995200       | 0.2152134      | 0.1204499       |\n",
       "| SEPSIS_SUM |  466            |  157           | 1344            |\n",
       "| SEPSIS_FRAC | 0.13981398      | 0.09709338     | 0.11538462      |\n",
       "| INFX_SUM |  284            |  129           | 1297            |\n",
       "| INFX_FRAC | 0.08520852      | 0.07977737     | 0.11134959      |\n",
       "| CARDIAC_SUM |  412            |  214           | 1202            |\n",
       "| CARDIAC_FRAC | 0.1236124       | 0.1323438      | 0.1031937       |\n",
       "| CVC_SUM |  3046           |  1406          | 11358           |\n",
       "| CVC_FRAC | 0.9138914       | 0.8695114      | 0.9751030       |\n",
       "| INTUB_SUM |  2645           |  1237          | 10414           |\n",
       "| INTUB_FRAC | 0.7935794       | 0.7649969      | 0.8940591       |\n",
       "\n"
      ],
      "text/plain": [
       "              LESSTHAN24HOURS LESSTHAN6HOURS MORETHAN24HOURS\n",
       "STATUS        LESSTHAN24HOURS LESSTHAN6HOURS MORETHAN24HOURS\n",
       "COUNT          3333            1617          11648          \n",
       "AGE_MEAN      66.65908        66.59008       63.97164       \n",
       "AGE_SD        14.11881        14.60693       14.80246       \n",
       "FEMALE_SUM    1442             719           4705           \n",
       "FEMALE_FRAC   0.4326433       0.4446506      0.4039320      \n",
       "WHITE_SUM     2351            1146           7959           \n",
       "WHITE_FRAC    0.7053705       0.7087199      0.6832933      \n",
       "BLACK_SUM      248             158           1110           \n",
       "BLACK_FRAC    0.07440744      0.09771181     0.09529533     \n",
       "HISPANIC_SUM   95              42            348            \n",
       "HISPANIC_FRAC 0.02850285      0.02597403     0.02987637     \n",
       "ASIAN_SUM     102              38            315            \n",
       "ASIAN_FRAC    0.03060306      0.02350031     0.02704327     \n",
       "MICU_SUM      1507             703           5700           \n",
       "MICU_FRAC     0.4521452       0.4347557      0.4893544      \n",
       "SICU_SUM       432             198           1915           \n",
       "SICU_FRAC     0.1296130       0.1224490      0.1644059      \n",
       "CCU_SUM        424             217           1445           \n",
       "CCU_FRAC      0.1272127       0.1341991      0.1240556      \n",
       "TSICU_SUM      305             151           1185           \n",
       "TSICU_FRAC    0.09150915      0.09338281     0.10173420     \n",
       "CSRU_SUM       665             348           1403           \n",
       "CSRU_FRAC     0.1995200       0.2152134      0.1204499      \n",
       "SEPSIS_SUM     466             157           1344           \n",
       "SEPSIS_FRAC   0.13981398      0.09709338     0.11538462     \n",
       "INFX_SUM       284             129           1297           \n",
       "INFX_FRAC     0.08520852      0.07977737     0.11134959     \n",
       "CARDIAC_SUM    412             214           1202           \n",
       "CARDIAC_FRAC  0.1236124       0.1323438      0.1031937      \n",
       "CVC_SUM        3046            1406          11358          \n",
       "CVC_FRAC      0.9138914       0.8695114      0.9751030      \n",
       "INTUB_SUM      2645            1237          10414          \n",
       "INTUB_FRAC    0.7935794       0.7649969      0.8940591      "
      ]
     },
     "metadata": {},
     "output_type": "display_data"
    }
   ],
   "source": [
    "t1_df"
   ]
  },
  {
   "cell_type": "code",
   "execution_count": 385,
   "metadata": {},
   "outputs": [
    {
     "data": {
      "text/html": [
       "<table>\n",
       "<caption>A data.frame: 25 × 8</caption>\n",
       "<thead>\n",
       "\t<tr><th scope=col>TYPE</th><th scope=col>FILTER</th><th scope=col>estimate</th><th scope=col>lower</th><th scope=col>upper</th><th scope=col>ID</th><th scope=col>p</th><th scope=col>significant</th></tr>\n",
       "\t<tr><th scope=col>&lt;chr&gt;</th><th scope=col>&lt;chr&gt;</th><th scope=col>&lt;dbl&gt;</th><th scope=col>&lt;dbl&gt;</th><th scope=col>&lt;dbl&gt;</th><th scope=col>&lt;chr&gt;</th><th scope=col>&lt;dbl&gt;</th><th scope=col>&lt;lgl&gt;</th></tr>\n",
       "</thead>\n",
       "<tbody>\n",
       "\t<tr><td>INTUB_RR    </td><td>TRUE</td><td>1.3589178</td><td>1.3065491</td><td>1.4133855</td><td>INTUB          </td><td>2.118292e-73</td><td> TRUE</td></tr>\n",
       "\t<tr><td>CVC_RR      </td><td>TRUE</td><td>1.9520827</td><td>1.7804785</td><td>2.1402262</td><td>CVC            </td><td>1.147471e-87</td><td> TRUE</td></tr>\n",
       "\t<tr><td>MALE_RR     </td><td>M   </td><td>1.0410923</td><td>1.0200849</td><td>1.0625324</td><td>M              </td><td>9.888139e-05</td><td> TRUE</td></tr>\n",
       "\t<tr><td>RACE_RR     </td><td>TRUE</td><td>0.9861399</td><td>0.9267862</td><td>1.0492947</td><td>ASIAN          </td><td>6.776775e-01</td><td>FALSE</td></tr>\n",
       "\t<tr><td>RACE_RR     </td><td>TRUE</td><td>1.0479113</td><td>1.0147089</td><td>1.0822001</td><td>BLACK          </td><td>6.726395e-03</td><td> TRUE</td></tr>\n",
       "\t<tr><td>RACE_RR     </td><td>TRUE</td><td>1.0231410</td><td>0.9667020</td><td>1.0828750</td><td>HISPANIC       </td><td>4.806835e-01</td><td>FALSE</td></tr>\n",
       "\t<tr><td>RACE_RR     </td><td>TRUE</td><td>0.9683869</td><td>0.9482496</td><td>0.9889519</td><td>WHITE          </td><td>3.139317e-03</td><td> TRUE</td></tr>\n",
       "\t<tr><td>RACE_RR     </td><td>TRUE</td><td>1.0197107</td><td>0.9932104</td><td>1.0469180</td><td>OTHER          </td><td>1.599735e-01</td><td>FALSE</td></tr>\n",
       "\t<tr><td>AGE_RR      </td><td>TRUE</td><td>0.9149838</td><td>0.8104062</td><td>1.0330564</td><td>20             </td><td>1.190291e-01</td><td>FALSE</td></tr>\n",
       "\t<tr><td>AGE_RR      </td><td>TRUE</td><td>1.1457383</td><td>1.0959913</td><td>1.1977434</td><td>30             </td><td>3.415331e-07</td><td> TRUE</td></tr>\n",
       "\t<tr><td>AGE_RR      </td><td>TRUE</td><td>1.0979002</td><td>1.0567729</td><td>1.1406281</td><td>40             </td><td>1.425673e-05</td><td> TRUE</td></tr>\n",
       "\t<tr><td>AGE_RR      </td><td>TRUE</td><td>1.0883140</td><td>1.0611300</td><td>1.1161944</td><td>50             </td><td>7.925967e-10</td><td> TRUE</td></tr>\n",
       "\t<tr><td>AGE_RR      </td><td>TRUE</td><td>1.0223340</td><td>0.9985689</td><td>1.0466646</td><td>60             </td><td>7.057429e-02</td><td>FALSE</td></tr>\n",
       "\t<tr><td>AGE_RR      </td><td>TRUE</td><td>0.9738315</td><td>0.9505428</td><td>0.9976908</td><td>70             </td><td>3.004743e-02</td><td> TRUE</td></tr>\n",
       "\t<tr><td>AGE_RR      </td><td>TRUE</td><td>0.9385215</td><td>0.9156571</td><td>0.9619568</td><td>80             </td><td>1.993538e-07</td><td> TRUE</td></tr>\n",
       "\t<tr><td>AGE_RR      </td><td>TRUE</td><td>0.8412815</td><td>0.7929664</td><td>0.8925405</td><td>90             </td><td>9.915741e-11</td><td> TRUE</td></tr>\n",
       "\t<tr><td>DIAGNOSIS_RR</td><td>TRUE</td><td>0.9297341</td><td>0.8980515</td><td>0.9625344</td><td>CARDIAC        </td><td>1.439379e-05</td><td> TRUE</td></tr>\n",
       "\t<tr><td>DIAGNOSIS_RR</td><td>TRUE</td><td>1.0909326</td><td>1.0599804</td><td>1.1227886</td><td>INFECTION      </td><td>4.315617e-08</td><td> TRUE</td></tr>\n",
       "\t<tr><td>DIAGNOSIS_RR</td><td>TRUE</td><td>1.0078847</td><td>0.9867836</td><td>1.0294369</td><td>OTHER DIAGNOSIS</td><td>4.710781e-01</td><td>FALSE</td></tr>\n",
       "\t<tr><td>DIAGNOSIS_RR</td><td>TRUE</td><td>0.9702040</td><td>0.9397736</td><td>1.0016198</td><td>SEPSIS         </td><td>5.875762e-02</td><td>FALSE</td></tr>\n",
       "\t<tr><td>CAREUNIT_RR </td><td>TRUE</td><td>0.9852647</td><td>0.9556921</td><td>1.0157524</td><td>CCU            </td><td>3.436780e-01</td><td>FALSE</td></tr>\n",
       "\t<tr><td>CAREUNIT_RR </td><td>TRUE</td><td>0.8038708</td><td>0.7759230</td><td>0.8328252</td><td>CSRU           </td><td>7.829586e-43</td><td> TRUE</td></tr>\n",
       "\t<tr><td>CAREUNIT_RR </td><td>TRUE</td><td>1.0525609</td><td>1.0319268</td><td>1.0736076</td><td>MICU           </td><td>4.143986e-07</td><td> TRUE</td></tr>\n",
       "\t<tr><td>CAREUNIT_RR </td><td>TRUE</td><td>1.0864339</td><td>1.0597607</td><td>1.1137785</td><td>SICU           </td><td>7.692525e-10</td><td> TRUE</td></tr>\n",
       "\t<tr><td>CAREUNIT_RR </td><td>TRUE</td><td>1.0322812</td><td>0.9999730</td><td>1.0656334</td><td>TSICU          </td><td>6.064074e-02</td><td>FALSE</td></tr>\n",
       "</tbody>\n",
       "</table>\n"
      ],
      "text/latex": [
       "A data.frame: 25 × 8\n",
       "\\begin{tabular}{r|llllllll}\n",
       " TYPE & FILTER & estimate & lower & upper & ID & p & significant\\\\\n",
       " <chr> & <chr> & <dbl> & <dbl> & <dbl> & <chr> & <dbl> & <lgl>\\\\\n",
       "\\hline\n",
       "\t INTUB\\_RR     & TRUE & 1.3589178 & 1.3065491 & 1.4133855 & INTUB           & 2.118292e-73 &  TRUE\\\\\n",
       "\t CVC\\_RR       & TRUE & 1.9520827 & 1.7804785 & 2.1402262 & CVC             & 1.147471e-87 &  TRUE\\\\\n",
       "\t MALE\\_RR      & M    & 1.0410923 & 1.0200849 & 1.0625324 & M               & 9.888139e-05 &  TRUE\\\\\n",
       "\t RACE\\_RR      & TRUE & 0.9861399 & 0.9267862 & 1.0492947 & ASIAN           & 6.776775e-01 & FALSE\\\\\n",
       "\t RACE\\_RR      & TRUE & 1.0479113 & 1.0147089 & 1.0822001 & BLACK           & 6.726395e-03 &  TRUE\\\\\n",
       "\t RACE\\_RR      & TRUE & 1.0231410 & 0.9667020 & 1.0828750 & HISPANIC        & 4.806835e-01 & FALSE\\\\\n",
       "\t RACE\\_RR      & TRUE & 0.9683869 & 0.9482496 & 0.9889519 & WHITE           & 3.139317e-03 &  TRUE\\\\\n",
       "\t RACE\\_RR      & TRUE & 1.0197107 & 0.9932104 & 1.0469180 & OTHER           & 1.599735e-01 & FALSE\\\\\n",
       "\t AGE\\_RR       & TRUE & 0.9149838 & 0.8104062 & 1.0330564 & 20              & 1.190291e-01 & FALSE\\\\\n",
       "\t AGE\\_RR       & TRUE & 1.1457383 & 1.0959913 & 1.1977434 & 30              & 3.415331e-07 &  TRUE\\\\\n",
       "\t AGE\\_RR       & TRUE & 1.0979002 & 1.0567729 & 1.1406281 & 40              & 1.425673e-05 &  TRUE\\\\\n",
       "\t AGE\\_RR       & TRUE & 1.0883140 & 1.0611300 & 1.1161944 & 50              & 7.925967e-10 &  TRUE\\\\\n",
       "\t AGE\\_RR       & TRUE & 1.0223340 & 0.9985689 & 1.0466646 & 60              & 7.057429e-02 & FALSE\\\\\n",
       "\t AGE\\_RR       & TRUE & 0.9738315 & 0.9505428 & 0.9976908 & 70              & 3.004743e-02 &  TRUE\\\\\n",
       "\t AGE\\_RR       & TRUE & 0.9385215 & 0.9156571 & 0.9619568 & 80              & 1.993538e-07 &  TRUE\\\\\n",
       "\t AGE\\_RR       & TRUE & 0.8412815 & 0.7929664 & 0.8925405 & 90              & 9.915741e-11 &  TRUE\\\\\n",
       "\t DIAGNOSIS\\_RR & TRUE & 0.9297341 & 0.8980515 & 0.9625344 & CARDIAC         & 1.439379e-05 &  TRUE\\\\\n",
       "\t DIAGNOSIS\\_RR & TRUE & 1.0909326 & 1.0599804 & 1.1227886 & INFECTION       & 4.315617e-08 &  TRUE\\\\\n",
       "\t DIAGNOSIS\\_RR & TRUE & 1.0078847 & 0.9867836 & 1.0294369 & OTHER DIAGNOSIS & 4.710781e-01 & FALSE\\\\\n",
       "\t DIAGNOSIS\\_RR & TRUE & 0.9702040 & 0.9397736 & 1.0016198 & SEPSIS          & 5.875762e-02 & FALSE\\\\\n",
       "\t CAREUNIT\\_RR  & TRUE & 0.9852647 & 0.9556921 & 1.0157524 & CCU             & 3.436780e-01 & FALSE\\\\\n",
       "\t CAREUNIT\\_RR  & TRUE & 0.8038708 & 0.7759230 & 0.8328252 & CSRU            & 7.829586e-43 &  TRUE\\\\\n",
       "\t CAREUNIT\\_RR  & TRUE & 1.0525609 & 1.0319268 & 1.0736076 & MICU            & 4.143986e-07 &  TRUE\\\\\n",
       "\t CAREUNIT\\_RR  & TRUE & 1.0864339 & 1.0597607 & 1.1137785 & SICU            & 7.692525e-10 &  TRUE\\\\\n",
       "\t CAREUNIT\\_RR  & TRUE & 1.0322812 & 0.9999730 & 1.0656334 & TSICU           & 6.064074e-02 & FALSE\\\\\n",
       "\\end{tabular}\n"
      ],
      "text/markdown": [
       "\n",
       "A data.frame: 25 × 8\n",
       "\n",
       "| TYPE &lt;chr&gt; | FILTER &lt;chr&gt; | estimate &lt;dbl&gt; | lower &lt;dbl&gt; | upper &lt;dbl&gt; | ID &lt;chr&gt; | p &lt;dbl&gt; | significant &lt;lgl&gt; |\n",
       "|---|---|---|---|---|---|---|---|\n",
       "| INTUB_RR     | TRUE | 1.3589178 | 1.3065491 | 1.4133855 | INTUB           | 2.118292e-73 |  TRUE |\n",
       "| CVC_RR       | TRUE | 1.9520827 | 1.7804785 | 2.1402262 | CVC             | 1.147471e-87 |  TRUE |\n",
       "| MALE_RR      | M    | 1.0410923 | 1.0200849 | 1.0625324 | M               | 9.888139e-05 |  TRUE |\n",
       "| RACE_RR      | TRUE | 0.9861399 | 0.9267862 | 1.0492947 | ASIAN           | 6.776775e-01 | FALSE |\n",
       "| RACE_RR      | TRUE | 1.0479113 | 1.0147089 | 1.0822001 | BLACK           | 6.726395e-03 |  TRUE |\n",
       "| RACE_RR      | TRUE | 1.0231410 | 0.9667020 | 1.0828750 | HISPANIC        | 4.806835e-01 | FALSE |\n",
       "| RACE_RR      | TRUE | 0.9683869 | 0.9482496 | 0.9889519 | WHITE           | 3.139317e-03 |  TRUE |\n",
       "| RACE_RR      | TRUE | 1.0197107 | 0.9932104 | 1.0469180 | OTHER           | 1.599735e-01 | FALSE |\n",
       "| AGE_RR       | TRUE | 0.9149838 | 0.8104062 | 1.0330564 | 20              | 1.190291e-01 | FALSE |\n",
       "| AGE_RR       | TRUE | 1.1457383 | 1.0959913 | 1.1977434 | 30              | 3.415331e-07 |  TRUE |\n",
       "| AGE_RR       | TRUE | 1.0979002 | 1.0567729 | 1.1406281 | 40              | 1.425673e-05 |  TRUE |\n",
       "| AGE_RR       | TRUE | 1.0883140 | 1.0611300 | 1.1161944 | 50              | 7.925967e-10 |  TRUE |\n",
       "| AGE_RR       | TRUE | 1.0223340 | 0.9985689 | 1.0466646 | 60              | 7.057429e-02 | FALSE |\n",
       "| AGE_RR       | TRUE | 0.9738315 | 0.9505428 | 0.9976908 | 70              | 3.004743e-02 |  TRUE |\n",
       "| AGE_RR       | TRUE | 0.9385215 | 0.9156571 | 0.9619568 | 80              | 1.993538e-07 |  TRUE |\n",
       "| AGE_RR       | TRUE | 0.8412815 | 0.7929664 | 0.8925405 | 90              | 9.915741e-11 |  TRUE |\n",
       "| DIAGNOSIS_RR | TRUE | 0.9297341 | 0.8980515 | 0.9625344 | CARDIAC         | 1.439379e-05 |  TRUE |\n",
       "| DIAGNOSIS_RR | TRUE | 1.0909326 | 1.0599804 | 1.1227886 | INFECTION       | 4.315617e-08 |  TRUE |\n",
       "| DIAGNOSIS_RR | TRUE | 1.0078847 | 0.9867836 | 1.0294369 | OTHER DIAGNOSIS | 4.710781e-01 | FALSE |\n",
       "| DIAGNOSIS_RR | TRUE | 0.9702040 | 0.9397736 | 1.0016198 | SEPSIS          | 5.875762e-02 | FALSE |\n",
       "| CAREUNIT_RR  | TRUE | 0.9852647 | 0.9556921 | 1.0157524 | CCU             | 3.436780e-01 | FALSE |\n",
       "| CAREUNIT_RR  | TRUE | 0.8038708 | 0.7759230 | 0.8328252 | CSRU            | 7.829586e-43 |  TRUE |\n",
       "| CAREUNIT_RR  | TRUE | 1.0525609 | 1.0319268 | 1.0736076 | MICU            | 4.143986e-07 |  TRUE |\n",
       "| CAREUNIT_RR  | TRUE | 1.0864339 | 1.0597607 | 1.1137785 | SICU            | 7.692525e-10 |  TRUE |\n",
       "| CAREUNIT_RR  | TRUE | 1.0322812 | 0.9999730 | 1.0656334 | TSICU           | 6.064074e-02 | FALSE |\n",
       "\n"
      ],
      "text/plain": [
       "   TYPE         FILTER estimate  lower     upper     ID             \n",
       "1  INTUB_RR     TRUE   1.3589178 1.3065491 1.4133855 INTUB          \n",
       "2  CVC_RR       TRUE   1.9520827 1.7804785 2.1402262 CVC            \n",
       "3  MALE_RR      M      1.0410923 1.0200849 1.0625324 M              \n",
       "4  RACE_RR      TRUE   0.9861399 0.9267862 1.0492947 ASIAN          \n",
       "5  RACE_RR      TRUE   1.0479113 1.0147089 1.0822001 BLACK          \n",
       "6  RACE_RR      TRUE   1.0231410 0.9667020 1.0828750 HISPANIC       \n",
       "7  RACE_RR      TRUE   0.9683869 0.9482496 0.9889519 WHITE          \n",
       "8  RACE_RR      TRUE   1.0197107 0.9932104 1.0469180 OTHER          \n",
       "9  AGE_RR       TRUE   0.9149838 0.8104062 1.0330564 20             \n",
       "10 AGE_RR       TRUE   1.1457383 1.0959913 1.1977434 30             \n",
       "11 AGE_RR       TRUE   1.0979002 1.0567729 1.1406281 40             \n",
       "12 AGE_RR       TRUE   1.0883140 1.0611300 1.1161944 50             \n",
       "13 AGE_RR       TRUE   1.0223340 0.9985689 1.0466646 60             \n",
       "14 AGE_RR       TRUE   0.9738315 0.9505428 0.9976908 70             \n",
       "15 AGE_RR       TRUE   0.9385215 0.9156571 0.9619568 80             \n",
       "16 AGE_RR       TRUE   0.8412815 0.7929664 0.8925405 90             \n",
       "17 DIAGNOSIS_RR TRUE   0.9297341 0.8980515 0.9625344 CARDIAC        \n",
       "18 DIAGNOSIS_RR TRUE   1.0909326 1.0599804 1.1227886 INFECTION      \n",
       "19 DIAGNOSIS_RR TRUE   1.0078847 0.9867836 1.0294369 OTHER DIAGNOSIS\n",
       "20 DIAGNOSIS_RR TRUE   0.9702040 0.9397736 1.0016198 SEPSIS         \n",
       "21 CAREUNIT_RR  TRUE   0.9852647 0.9556921 1.0157524 CCU            \n",
       "22 CAREUNIT_RR  TRUE   0.8038708 0.7759230 0.8328252 CSRU           \n",
       "23 CAREUNIT_RR  TRUE   1.0525609 1.0319268 1.0736076 MICU           \n",
       "24 CAREUNIT_RR  TRUE   1.0864339 1.0597607 1.1137785 SICU           \n",
       "25 CAREUNIT_RR  TRUE   1.0322812 0.9999730 1.0656334 TSICU          \n",
       "   p            significant\n",
       "1  2.118292e-73  TRUE      \n",
       "2  1.147471e-87  TRUE      \n",
       "3  9.888139e-05  TRUE      \n",
       "4  6.776775e-01 FALSE      \n",
       "5  6.726395e-03  TRUE      \n",
       "6  4.806835e-01 FALSE      \n",
       "7  3.139317e-03  TRUE      \n",
       "8  1.599735e-01 FALSE      \n",
       "9  1.190291e-01 FALSE      \n",
       "10 3.415331e-07  TRUE      \n",
       "11 1.425673e-05  TRUE      \n",
       "12 7.925967e-10  TRUE      \n",
       "13 7.057429e-02 FALSE      \n",
       "14 3.004743e-02  TRUE      \n",
       "15 1.993538e-07  TRUE      \n",
       "16 9.915741e-11  TRUE      \n",
       "17 1.439379e-05  TRUE      \n",
       "18 4.315617e-08  TRUE      \n",
       "19 4.710781e-01 FALSE      \n",
       "20 5.875762e-02 FALSE      \n",
       "21 3.436780e-01 FALSE      \n",
       "22 7.829586e-43  TRUE      \n",
       "23 4.143986e-07  TRUE      \n",
       "24 7.692525e-10  TRUE      \n",
       "25 6.064074e-02 FALSE      "
      ]
     },
     "metadata": {},
     "output_type": "display_data"
    }
   ],
   "source": [
    "all_rr_df <- bind_rows(all_rr_list, .id=\"TYPE\") %>%\n",
    "    mutate(significant = p < 0.05)\n",
    "\n",
    "all_rr_df"
   ]
  },
  {
   "cell_type": "markdown",
   "metadata": {},
   "source": [
    "# Figure 1 Plotting RR"
   ]
  },
  {
   "cell_type": "code",
   "execution_count": 387,
   "metadata": {},
   "outputs": [
    {
     "data": {
      "image/png": "[encoded data removed]",
      "text/plain": [
       "plot without title"
      ]
     },
     "metadata": {},
     "output_type": "display_data"
    }
   ],
   "source": [
    "p = ggplot(data=all_rr_df,\n",
    "    aes(x = ID,y = estimate, ymin = lower, ymax = upper ))+\n",
    "    geom_pointrange(aes(col=significant))+\n",
    "    geom_hline(yintercept =1, linetype=2)+\n",
    "    xlab('Group')+ ylab(\"Risk Ratio (95% Confidence Interval)\")+\n",
    "    geom_errorbar(aes(ymin=lower, ymax=upper,col=significant),width=0.5,cex=1)+ \n",
    "    theme_bw() +\n",
    "    coord_flip()\n",
    "plot(p)"
   ]
  },
  {
   "cell_type": "markdown",
   "metadata": {},
   "source": [
    "# Categorical Predictors"
   ]
  },
  {
   "cell_type": "code",
   "execution_count": 550,
   "metadata": {},
   "outputs": [],
   "source": [
    "all_rr_list <- list()"
   ]
  },
  {
   "cell_type": "markdown",
   "metadata": {},
   "source": [
    "### Gender effect"
   ]
  },
  {
   "cell_type": "code",
   "execution_count": 551,
   "metadata": {},
   "outputs": [],
   "source": [
    "gender_df <- output_df %>%\n",
    "    group_by(MORETHAN24HOURS, gender) %>%\n",
    "    summarize(COUNT = n())"
   ]
  },
  {
   "cell_type": "code",
   "execution_count": 552,
   "metadata": {},
   "outputs": [],
   "source": [
    "output <- gender_df %>%\n",
    "    spread(MORETHAN24HOURS, COUNT) %>%\n",
    "    tibble::column_to_rownames(\"gender\") %>%\n",
    "    as.matrix() %>% riskratio()"
   ]
  },
  {
   "cell_type": "code",
   "execution_count": 553,
   "metadata": {},
   "outputs": [],
   "source": [
    "all_rr_list[['MALE_RR']] <- output$measure %>%\n",
    "        data.frame() %>%\n",
    "        tibble::rownames_to_column(\"FILTER\") %>% filter(FILTER == 'M') %>%\n",
    "        mutate(ID = \"M\", p = output$p.value[\"M\",\"fisher.exact\"])"
   ]
  },
  {
   "cell_type": "markdown",
   "metadata": {},
   "source": [
    "### Race effect"
   ]
  },
  {
   "cell_type": "code",
   "execution_count": 554,
   "metadata": {
    "scrolled": true
   },
   "outputs": [
    {
     "name": "stderr",
     "output_type": "stream",
     "text": [
      "Warning message:\n",
      "“Grouping rowwise data frame strips rowwise nature”"
     ]
    }
   ],
   "source": [
    "race_df <- output_df %>%\n",
    "    rowwise() %>%\n",
    "    mutate(RACE = simplifyRace(ethnicity)) %>%\n",
    "    group_by(MORETHAN24HOURS, RACE) %>%\n",
    "    summarize(COUNT = n())"
   ]
  },
  {
   "cell_type": "code",
   "execution_count": 555,
   "metadata": {},
   "outputs": [],
   "source": [
    "rr_list <- list()\n",
    "for(race in races){\n",
    "   output <- race_df %>%\n",
    "        mutate(RACE_BOOL = RACE == race) %>%\n",
    "        group_by(RACE_BOOL, MORETHAN24HOURS) %>%\n",
    "        summarize(COUNT = sum(COUNT)) %>%\n",
    "        spread(MORETHAN24HOURS, COUNT) %>%\n",
    "        tibble::column_to_rownames(\"RACE_BOOL\") %>%\n",
    "        as.matrix() %>% riskratio() \n",
    "    rr_list[[race]] <- output$measure %>%\n",
    "        data.frame() %>%\n",
    "        tibble::rownames_to_column(\"FILTER\") %>% filter(FILTER == 'TRUE') %>%\n",
    "        mutate(ID = race, p = output$p.value[\"TRUE\",\"fisher.exact\"])\n",
    "}\n"
   ]
  },
  {
   "cell_type": "code",
   "execution_count": 556,
   "metadata": {},
   "outputs": [],
   "source": [
    "all_rr_list[['RACE_RR']] <- bind_rows(rr_list)"
   ]
  },
  {
   "cell_type": "markdown",
   "metadata": {},
   "source": [
    "### Age effect"
   ]
  },
  {
   "cell_type": "code",
   "execution_count": 557,
   "metadata": {},
   "outputs": [],
   "source": [
    "age_df <- output_df %>%\n",
    "    group_by(MORETHAN24HOURS, age_cohort) %>%\n",
    "    summarize(COUNT = n()) %>%\n",
    "    drop_na(age_cohort)"
   ]
  },
  {
   "cell_type": "code",
   "execution_count": 558,
   "metadata": {},
   "outputs": [],
   "source": [
    "rr_list <- list()\n",
    "for(ac in unique(age_df$age_cohort)){\n",
    "   output <- age_df %>%\n",
    "        mutate(AGE_BOOL = age_cohort == ac) %>%\n",
    "        group_by(AGE_BOOL, MORETHAN24HOURS) %>%\n",
    "        summarize(COUNT = sum(COUNT)) %>%\n",
    "        spread(MORETHAN24HOURS, COUNT) %>%\n",
    "        tibble::column_to_rownames(\"AGE_BOOL\") %>%\n",
    "        as.matrix() %>% riskratio() \n",
    "    rr_list[[ac]] <- output$measure %>%\n",
    "        data.frame() %>%\n",
    "        tibble::rownames_to_column(\"FILTER\") %>% filter(FILTER == 'TRUE') %>%\n",
    "        mutate(ID = as.character(ac), p = output$p.value[\"TRUE\",\"fisher.exact\"])\n",
    "}"
   ]
  },
  {
   "cell_type": "code",
   "execution_count": 559,
   "metadata": {},
   "outputs": [],
   "source": [
    "all_rr_list[['AGE_RR']] <- bind_rows(rr_list)"
   ]
  },
  {
   "cell_type": "markdown",
   "metadata": {},
   "source": [
    "### Diagnosis effect"
   ]
  },
  {
   "cell_type": "code",
   "execution_count": 561,
   "metadata": {},
   "outputs": [
    {
     "name": "stderr",
     "output_type": "stream",
     "text": [
      "Warning message:\n",
      "“Grouping rowwise data frame strips rowwise nature”"
     ]
    }
   ],
   "source": [
    "diagnosis_df <- output_df %>%\n",
    "    rowwise() %>%\n",
    "    mutate(simple_diagnosis = simplifyDiagnosis(diagnosis)) %>%\n",
    "    group_by(simple_diagnosis, MORETHAN24HOURS) %>%\n",
    "    summarize(COUNT = n()) "
   ]
  },
  {
   "cell_type": "code",
   "execution_count": 563,
   "metadata": {},
   "outputs": [],
   "source": [
    "rr_list <- list()\n",
    "for(s_d in unique(diagnosis_df$simple_diagnosis)){\n",
    "   output <- diagnosis_df %>%\n",
    "        mutate(DX_BOOL = simple_diagnosis == s_d) %>%\n",
    "        group_by(DX_BOOL, MORETHAN24HOURS) %>%\n",
    "        summarize(COUNT = sum(COUNT)) %>%\n",
    "        spread(MORETHAN24HOURS, COUNT) %>%\n",
    "        tibble::column_to_rownames(\"DX_BOOL\") %>%\n",
    "        as.matrix() %>% riskratio() \n",
    "    rr_list[[s_d]] <- output$measure %>%\n",
    "        data.frame() %>%\n",
    "        tibble::rownames_to_column(\"FILTER\") %>% filter(FILTER == 'TRUE') %>%\n",
    "        mutate(ID = s_d, p = output$p.value[\"TRUE\",\"fisher.exact\"])\n",
    "}"
   ]
  },
  {
   "cell_type": "code",
   "execution_count": 564,
   "metadata": {},
   "outputs": [],
   "source": [
    "all_rr_list[['DIAGNOSIS_RR']] <- bind_rows(rr_list)"
   ]
  },
  {
   "cell_type": "markdown",
   "metadata": {},
   "source": [
    "### Care Unit Effect"
   ]
  },
  {
   "cell_type": "code",
   "execution_count": 565,
   "metadata": {},
   "outputs": [],
   "source": [
    "careunit_df <- output_df %>%\n",
    "    group_by(MORETHAN24HOURS, first_careunit) %>%\n",
    "    summarize(COUNT = n())"
   ]
  },
  {
   "cell_type": "code",
   "execution_count": 566,
   "metadata": {},
   "outputs": [],
   "source": [
    "rr_list <- list()\n",
    "for(cu in unique(careunit_df$first_careunit)){\n",
    "   output <- careunit_df%>%\n",
    "        mutate(CU_BOOL = first_careunit == cu) %>%\n",
    "        group_by(CU_BOOL, MORETHAN24HOURS) %>%\n",
    "        summarize(COUNT = sum(COUNT)) %>%\n",
    "        spread(MORETHAN24HOURS, COUNT) %>%\n",
    "        tibble::column_to_rownames(\"CU_BOOL\") %>%\n",
    "        as.matrix() %>% riskratio() \n",
    "    rr_list[[cu]] <- output$measure %>%\n",
    "        data.frame() %>%\n",
    "        tibble::rownames_to_column(\"FILTER\") %>% filter(FILTER == 'TRUE') %>%\n",
    "        mutate(ID = cu, p = output$p.value[\"TRUE\",\"fisher.exact\"])\n",
    "}"
   ]
  },
  {
   "cell_type": "code",
   "execution_count": 567,
   "metadata": {},
   "outputs": [],
   "source": [
    "all_rr_list[['CAREUNIT_RR']] <- bind_rows(rr_list)"
   ]
  },
  {
   "cell_type": "markdown",
   "metadata": {},
   "source": [
    "### Intubation effect"
   ]
  },
  {
   "cell_type": "code",
   "execution_count": 570,
   "metadata": {},
   "outputs": [],
   "source": [
    "intub_df <- output_df %>%\n",
    "    group_by(MORETHAN24HOURS, intub) %>%\n",
    "    summarize(COUNT = n())"
   ]
  },
  {
   "cell_type": "code",
   "execution_count": 571,
   "metadata": {},
   "outputs": [],
   "source": [
    "output <- intub_df %>%\n",
    "    spread(MORETHAN24HOURS, COUNT) %>%\n",
    "    tibble::column_to_rownames(\"intub\") %>%\n",
    "    as.matrix() %>% riskratio()"
   ]
  },
  {
   "cell_type": "code",
   "execution_count": 572,
   "metadata": {},
   "outputs": [],
   "source": [
    "all_rr_list[['INTUB_RR']] <- output$measure %>%\n",
    "        data.frame() %>%\n",
    "        tibble::rownames_to_column(\"FILTER\") %>% filter(FILTER == 'TRUE') %>%\n",
    "        mutate(ID = \"INTUB\", p = output$p.value[\"TRUE\",\"fisher.exact\"])"
   ]
  },
  {
   "cell_type": "markdown",
   "metadata": {},
   "source": [
    "### CVC effect"
   ]
  },
  {
   "cell_type": "code",
   "execution_count": 573,
   "metadata": {},
   "outputs": [],
   "source": [
    "cvc_df <- output_df %>%\n",
    "    group_by(MORETHAN24HOURS, cvc) %>%\n",
    "    summarize(COUNT = n())"
   ]
  },
  {
   "cell_type": "code",
   "execution_count": 574,
   "metadata": {},
   "outputs": [],
   "source": [
    "output <- cvc_df %>%\n",
    "    spread(MORETHAN24HOURS, COUNT) %>%\n",
    "    tibble::column_to_rownames(\"cvc\") %>%\n",
    "    as.matrix() %>% riskratio()"
   ]
  },
  {
   "cell_type": "code",
   "execution_count": 575,
   "metadata": {},
   "outputs": [],
   "source": [
    "all_rr_list[['CVC_RR']] <- output$measure %>%\n",
    "        data.frame() %>%\n",
    "        tibble::rownames_to_column(\"FILTER\") %>% filter(FILTER == 'TRUE') %>%\n",
    "        mutate(ID = \"CVC\", p = output$p.value[\"TRUE\",\"fisher.exact\"])"
   ]
  },
  {
   "cell_type": "markdown",
   "metadata": {},
   "source": [
    "# Vitals"
   ]
  },
  {
   "cell_type": "markdown",
   "metadata": {},
   "source": [
    "### Pre-processing (30 minutes)"
   ]
  },
  {
   "cell_type": "code",
   "execution_count": 389,
   "metadata": {},
   "outputs": [],
   "source": [
    "vitals_df <- read.csv('~/Projects/Haimovich_Pressors/collection/out/vitals.csv')"
   ]
  },
  {
   "cell_type": "code",
   "execution_count": 390,
   "metadata": {},
   "outputs": [
    {
     "name": "stderr",
     "output_type": "stream",
     "text": [
      "Adding missing grouping variables: `course_id`\n"
     ]
    }
   ],
   "source": [
    "# takes 6 mins to run (because of difftime)\n",
    "\n",
    "vitals_merged_df <- vitals_df %>%\n",
    "    mutate(charttime = fastPOSIXct(charttime)) %>%\n",
    "    filter(icustay_id %in% output_df$icustay_id) %>%\n",
    "    left_join(select(output_df, icustay_id, starttime, endtime, MORETHAN24HOURS), by = \"icustay_id\") %>%\n",
    "    rowwise() %>%\n",
    "    mutate(diff = difftime(charttime, \n",
    "                       starttime, units=\"hours\"))"
   ]
  },
  {
   "cell_type": "code",
   "execution_count": 391,
   "metadata": {},
   "outputs": [],
   "source": [
    "intervals <- 1:10"
   ]
  },
  {
   "cell_type": "code",
   "execution_count": 392,
   "metadata": {},
   "outputs": [],
   "source": [
    "results_list <- list()"
   ]
  },
  {
   "cell_type": "code",
   "execution_count": 394,
   "metadata": {},
   "outputs": [
    {
     "name": "stderr",
     "output_type": "stream",
     "text": [
      "Warning message:\n",
      "“Grouping rowwise data frame strips rowwise nature”Warning message:\n",
      "“Grouping rowwise data frame strips rowwise nature”Warning message:\n",
      "“Grouping rowwise data frame strips rowwise nature”Warning message:\n",
      "“Grouping rowwise data frame strips rowwise nature”Warning message:\n",
      "“Grouping rowwise data frame strips rowwise nature”Warning message:\n",
      "“Grouping rowwise data frame strips rowwise nature”Warning message:\n",
      "“Grouping rowwise data frame strips rowwise nature”Warning message:\n",
      "“Grouping rowwise data frame strips rowwise nature”Warning message:\n",
      "“Grouping rowwise data frame strips rowwise nature”Warning message:\n",
      "“Grouping rowwise data frame strips rowwise nature”"
     ]
    }
   ],
   "source": [
    "for(interval in intervals){\n",
    "    # 2 mins to run each\n",
    "    results_list[[interval]] <- vitals_merged_df %>%\n",
    "        filter(diff < 0) %>%\n",
    "        filter(diff < -(interval - 1) & diff > -interval) %>%\n",
    "        group_by(MORETHAN24HOURS, icustay_id) %>%\n",
    "        summarize(mean_heartrate = mean(heartrate, na.rm=T), \n",
    "                  mean_sysbp = mean(sysbp, na.rm=T),\n",
    "                  mean_diasbp = mean(diasbp, na.rm=T),\n",
    "                  mean_meanbp = mean(meanbp, na.rm=T), \n",
    "                  mean_resprate = mean(resprate, na.rm=T), \n",
    "                  mean_tempc = mean(tempc, na.rm=T), \n",
    "                  mean_spo2 = mean(spo2, na.rm=T), \n",
    "                  mean_glucose = mean(glucose, na.rm=T), \n",
    "\n",
    "                  median_heartrate = median(heartrate, na.rm=T), \n",
    "                  median_sysbp = median(sysbp, na.rm=T),\n",
    "                  median_diasbp = median(diasbp, na.rm=T),\n",
    "                  median_meanbp = median(meanbp, na.rm=T), \n",
    "                  median_resprate = median(resprate, na.rm=T), \n",
    "                  median_tempc = median(tempc, na.rm=T), \n",
    "                  median_spo2 = median(spo2, na.rm=T), \n",
    "                  median_glucose = median(glucose, na.rm=T),\n",
    "\n",
    "                 ) %>%\n",
    "        mutate(INTERVAL = interval)\n",
    "\n",
    "}"
   ]
  },
  {
   "cell_type": "code",
   "execution_count": 397,
   "metadata": {},
   "outputs": [],
   "source": [
    "results_df <- bind_rows(results_list)"
   ]
  },
  {
   "cell_type": "code",
   "execution_count": 398,
   "metadata": {},
   "outputs": [],
   "source": [
    "melt_results_df <- results_df %>% \n",
    "    gather(\"ID\", \"VALUE\", -MORETHAN24HOURS, -icustay_id, -INTERVAL)"
   ]
  },
  {
   "cell_type": "markdown",
   "metadata": {},
   "source": [
    "#### Continuous (repeated-measures) ANCOVA analysis (that is, without summarizing mean/median vital signs)\n",
    "- MORETHAN24HOURS P-value tells you if this vital sign is a predictor (BP, HR, RR, TEMP)\n",
    "- diff P-value tells you if these values change depending on the time point being measured (most values)\n",
    "- MORETHAN24HOURS:diff P-value tells you if vital sign interacts with the time point being measured, that is, the extent of predictive value. \n",
    "\n",
    "Comment:\n",
    "- This is repeated measures ANCOVA so it also accounts for the pairing from icustay_id\n",
    "- sysbp, diasbp are not significant by this analysis, but all other measures including glucose and spo2 are signiciant "
   ]
  },
  {
   "cell_type": "code",
   "execution_count": 750,
   "metadata": {},
   "outputs": [],
   "source": [
    "# takes 4 mins\n",
    "filtered_vitals_merged_df <- vitals_merged_df %>% filter(diff < 0)"
   ]
  },
  {
   "cell_type": "code",
   "execution_count": 781,
   "metadata": {},
   "outputs": [],
   "source": [
    "filtered_vitals_merged_df <- filtered_vitals_merged_df %>%\n",
    "    mutate(num_diff = as.numeric(diff))"
   ]
  },
  {
   "cell_type": "code",
   "execution_count": 782,
   "metadata": {},
   "outputs": [],
   "source": [
    "vital_signs <- c('heartrate','sysbp','diasbp','meanbp','resprate','tempc','spo2','glucose')"
   ]
  },
  {
   "cell_type": "code",
   "execution_count": 783,
   "metadata": {
    "scrolled": true
   },
   "outputs": [
    {
     "name": "stdout",
     "output_type": "stream",
     "text": [
      "#### heartrate ####\n",
      "Error: icustay_id\n",
      "                Df   Sum Sq  Mean Sq\n",
      "MORETHAN24HOURS  1 18943018 18943018\n",
      "\n",
      "Error: num_diff\n",
      "                Df  Sum Sq Mean Sq\n",
      "MORETHAN24HOURS  1 1126972 1126972\n",
      "\n",
      "Error: icustay_id:MORETHAN24HOURS\n",
      "                Df Sum Sq Mean Sq\n",
      "MORETHAN24HOURS  1 780627  780627\n",
      "\n",
      "Error: Within\n",
      "                             Df    Sum Sq Mean Sq F value Pr(>F)    \n",
      "MORETHAN24HOURS               1   2531207 2531207    6905 <2e-16 ***\n",
      "MORETHAN24HOURS:num_diff      1    804018  804018    2193 <2e-16 ***\n",
      "Residuals                998226 365942387     367                   \n",
      "---\n",
      "Signif. codes:  0 ‘***’ 0.001 ‘**’ 0.01 ‘*’ 0.05 ‘.’ 0.1 ‘ ’ 1\n",
      "#### sysbp ####\n",
      "Error: icustay_id\n",
      "                Df Sum Sq Mean Sq\n",
      "MORETHAN24HOURS  1  15281   15281\n",
      "\n",
      "Error: num_diff\n",
      "                Df   Sum Sq  Mean Sq\n",
      "MORETHAN24HOURS  1 12513508 12513508\n",
      "\n",
      "Error: icustay_id:MORETHAN24HOURS\n",
      "                Df  Sum Sq Mean Sq\n",
      "MORETHAN24HOURS  1 1305246 1305246\n",
      "\n",
      "Error: Within\n",
      "                             Df    Sum Sq Mean Sq F value Pr(>F)    \n",
      "MORETHAN24HOURS               1      1998    1998   3.349 0.0673 .  \n",
      "MORETHAN24HOURS:num_diff      1    378055  378055 633.650 <2e-16 ***\n",
      "Residuals                775715 462815739     597                   \n",
      "---\n",
      "Signif. codes:  0 ‘***’ 0.001 ‘**’ 0.01 ‘*’ 0.05 ‘.’ 0.1 ‘ ’ 1\n",
      "#### diasbp ####\n",
      "Error: icustay_id\n",
      "                Df Sum Sq Mean Sq\n",
      "MORETHAN24HOURS  1  35884   35884\n",
      "\n",
      "Error: num_diff\n",
      "                Df Sum Sq Mean Sq\n",
      "MORETHAN24HOURS  1   4375    4375\n",
      "\n",
      "Error: icustay_id:MORETHAN24HOURS\n",
      "                Df Sum Sq Mean Sq\n",
      "MORETHAN24HOURS  1  61268   61268\n",
      "\n",
      "Error: Within\n",
      "                             Df    Sum Sq Mean Sq  F value Pr(>F)    \n",
      "MORETHAN24HOURS               1        96      96    0.424  0.515    \n",
      "MORETHAN24HOURS:num_diff      1    661826  661826 2928.667 <2e-16 ***\n",
      "Residuals                775386 175223152     226                    \n",
      "---\n",
      "Signif. codes:  0 ‘***’ 0.001 ‘**’ 0.01 ‘*’ 0.05 ‘.’ 0.1 ‘ ’ 1\n",
      "#### meanbp ####\n",
      "Error: icustay_id\n",
      "                Df Sum Sq Mean Sq\n",
      "MORETHAN24HOURS  1  71813   71813\n",
      "\n",
      "Error: num_diff\n",
      "                Df  Sum Sq Mean Sq\n",
      "MORETHAN24HOURS  1 1120134 1120134\n",
      "\n",
      "Error: icustay_id:MORETHAN24HOURS\n",
      "                Df Sum Sq Mean Sq\n",
      "MORETHAN24HOURS  1 525301  525301\n",
      "\n",
      "Error: Within\n",
      "                             Df    Sum Sq Mean Sq F value Pr(>F)    \n",
      "MORETHAN24HOURS               1     25611   25611   82.67 <2e-16 ***\n",
      "MORETHAN24HOURS:num_diff      1    685125  685125 2211.46 <2e-16 ***\n",
      "Residuals                787778 244058644     310                   \n",
      "---\n",
      "Signif. codes:  0 ‘***’ 0.001 ‘**’ 0.01 ‘*’ 0.05 ‘.’ 0.1 ‘ ’ 1\n",
      "#### resprate ####\n",
      "Error: icustay_id\n",
      "                Df Sum Sq Mean Sq\n",
      "MORETHAN24HOURS  1 201335  201335\n",
      "\n",
      "Error: num_diff\n",
      "                Df Sum Sq Mean Sq\n",
      "MORETHAN24HOURS  1  79747   79747\n",
      "\n",
      "Error: icustay_id:MORETHAN24HOURS\n",
      "                Df Sum Sq Mean Sq\n",
      "MORETHAN24HOURS  1  97.67   97.67\n",
      "\n",
      "Error: Within\n",
      "                              Df   Sum Sq Mean Sq F value   Pr(>F)    \n",
      "MORETHAN24HOURS                1    24995   24995  672.64  < 2e-16 ***\n",
      "MORETHAN24HOURS:num_diff       1      702     702   18.88 1.39e-05 ***\n",
      "Residuals                1007205 37427571      37                     \n",
      "---\n",
      "Signif. codes:  0 ‘***’ 0.001 ‘**’ 0.01 ‘*’ 0.05 ‘.’ 0.1 ‘ ’ 1\n",
      "#### tempc ####\n",
      "Error: icustay_id\n",
      "                Df Sum Sq Mean Sq\n",
      "MORETHAN24HOURS  1 0.1661  0.1661\n",
      "\n",
      "Error: num_diff\n",
      "                Df Sum Sq Mean Sq\n",
      "MORETHAN24HOURS  1  387.9   387.9\n",
      "\n",
      "Error: icustay_id:MORETHAN24HOURS\n",
      "                Df Sum Sq Mean Sq\n",
      "MORETHAN24HOURS  1  233.7   233.7\n",
      "\n",
      "Error: Within\n",
      "                             Df Sum Sq Mean Sq F value  Pr(>F)    \n",
      "MORETHAN24HOURS               1     99   99.35   95.39 < 2e-16 ***\n",
      "MORETHAN24HOURS:num_diff      1     36   36.01   34.58 4.1e-09 ***\n",
      "Residuals                241413 251414    1.04                    \n",
      "---\n",
      "Signif. codes:  0 ‘***’ 0.001 ‘**’ 0.01 ‘*’ 0.05 ‘.’ 0.1 ‘ ’ 1\n",
      "#### spo2 ####\n",
      "Error: icustay_id\n",
      "                Df  Sum Sq Mean Sq\n",
      "MORETHAN24HOURS  1 2449846 2449846\n",
      "\n",
      "Error: num_diff\n",
      "                Df Sum Sq Mean Sq\n",
      "MORETHAN24HOURS  1 127746  127746\n",
      "\n",
      "Error: icustay_id:MORETHAN24HOURS\n",
      "                Df Sum Sq Mean Sq\n",
      "MORETHAN24HOURS  1 296922  296922\n",
      "\n",
      "Error: Within\n",
      "                             Df   Sum Sq Mean Sq F value Pr(>F)    \n",
      "MORETHAN24HOURS               1   437016  437016   23052 <2e-16 ***\n",
      "MORETHAN24HOURS:num_diff      1    58338   58338    3077 <2e-16 ***\n",
      "Residuals                979446 18568158      19                   \n",
      "---\n",
      "Signif. codes:  0 ‘***’ 0.001 ‘**’ 0.01 ‘*’ 0.05 ‘.’ 0.1 ‘ ’ 1\n",
      "#### glucose ####\n",
      "Error: icustay_id\n",
      "                Df Sum Sq Mean Sq\n",
      "MORETHAN24HOURS  1  21249   21249\n",
      "\n",
      "Error: num_diff\n",
      "                Df  Sum Sq Mean Sq\n",
      "MORETHAN24HOURS  1 1113493 1113493\n",
      "\n",
      "Error: icustay_id:MORETHAN24HOURS\n",
      "                Df Sum Sq Mean Sq\n",
      "MORETHAN24HOURS  1   6074    6074\n",
      "\n",
      "Error: Within\n",
      "                             Df    Sum Sq Mean Sq F value   Pr(>F)    \n",
      "MORETHAN24HOURS               1     46549   46549   11.31 0.000772 ***\n",
      "MORETHAN24HOURS:num_diff      1    112200  112200   27.25 1.79e-07 ***\n",
      "Residuals                180686 743856081    4117                     \n",
      "---\n",
      "Signif. codes:  0 ‘***’ 0.001 ‘**’ 0.01 ‘*’ 0.05 ‘.’ 0.1 ‘ ’ 1\n"
     ]
    }
   ],
   "source": [
    "for(vital in vital_signs){\n",
    "    cat(\"####\", vital, \"####\")\n",
    "    totest <- filtered_vitals_merged_df %>%\n",
    "        rename(VALUE = !!rlang::sym(vital)) %>%\n",
    "        select(VALUE, num_diff, MORETHAN24HOURS, icustay_id) %>%\n",
    "        drop_na(VALUE)\n",
    "\n",
    "    aov(VALUE ~ MORETHAN24HOURS*num_diff + Error(icustay_id/MORETHAN24HOURS+num_diff), data = totest) %>% summary() %>% print()\n",
    "}"
   ]
  },
  {
   "cell_type": "markdown",
   "metadata": {},
   "source": [
    "#### ANCOVA analysis using intervals\n",
    "- MORETHAN24HOURS P-value tells you if this vital sign is a predictor (BP, HR, RR, TEMP)\n",
    "- INTERVAL P-value tells you if these values change depending on the interval being measured (most values)\n",
    "- MORETHAN24HOURS:INTERVAL P-value tells you if vital sign interacts with the interval being measured, that is, the extent of predictive value differs with time (BP especially, others are borderline significant)"
   ]
  },
  {
   "cell_type": "code",
   "execution_count": 511,
   "metadata": {},
   "outputs": [
    {
     "name": "stdout",
     "output_type": "stream",
     "text": [
      "#### mean_heartrate ####                            Df   Sum Sq Mean Sq F value    Pr(>F)    \n",
      "MORETHAN24HOURS              1    23034 23034.3 52.4730 4.496e-13 ***\n",
      "INTERVAL                     1    10569 10568.7 24.0760 9.323e-07 ***\n",
      "MORETHAN24HOURS:INTERVAL     1     2737  2736.5  6.2339   0.01254 *  \n",
      "Residuals                23508 10319419   439.0                      \n",
      "---\n",
      "Signif. codes:  0 ‘***’ 0.001 ‘**’ 0.01 ‘*’ 0.05 ‘.’ 0.1 ‘ ’ 1\n",
      "#### mean_sysbp ####                            Df   Sum Sq Mean Sq F value    Pr(>F)    \n",
      "MORETHAN24HOURS              1    66292   66292 142.233 < 2.2e-16 ***\n",
      "INTERVAL                     1   217487  217487 466.628 < 2.2e-16 ***\n",
      "MORETHAN24HOURS:INTERVAL     1     6006    6006  12.886 0.0003317 ***\n",
      "Residuals                23207 10816365     466                      \n",
      "---\n",
      "Signif. codes:  0 ‘***’ 0.001 ‘**’ 0.01 ‘*’ 0.05 ‘.’ 0.1 ‘ ’ 1\n",
      "#### mean_diasbp ####                            Df  Sum Sq Mean Sq  F value    Pr(>F)    \n",
      "MORETHAN24HOURS              1    4997  4997.3  24.7803 6.471e-07 ***\n",
      "INTERVAL                     1   24420 24419.8 121.0916 < 2.2e-16 ***\n",
      "MORETHAN24HOURS:INTERVAL     1     878   877.9   4.3533   0.03695 *  \n",
      "Residuals                23197 4678003   201.7                       \n",
      "---\n",
      "Signif. codes:  0 ‘***’ 0.001 ‘**’ 0.01 ‘*’ 0.05 ‘.’ 0.1 ‘ ’ 1\n",
      "#### mean_meanbp ####                            Df  Sum Sq Mean Sq  F value    Pr(>F)    \n",
      "MORETHAN24HOURS              1   12738   12738  48.9274 2.727e-12 ***\n",
      "INTERVAL                     1   67586   67586 259.5979 < 2.2e-16 ***\n",
      "MORETHAN24HOURS:INTERVAL     1    2334    2334   8.9655  0.002754 ** \n",
      "Residuals                23469 6110111     260                       \n",
      "---\n",
      "Signif. codes:  0 ‘***’ 0.001 ‘**’ 0.01 ‘*’ 0.05 ‘.’ 0.1 ‘ ’ 1\n",
      "#### mean_resprate ####                            Df Sum Sq Mean Sq  F value  Pr(>F)    \n",
      "MORETHAN24HOURS              1   5820  5820.3 142.7696 < 2e-16 ***\n",
      "INTERVAL                     1   4309  4309.1 105.7005 < 2e-16 ***\n",
      "MORETHAN24HOURS:INTERVAL     1    254   253.5   6.2187 0.01265 *  \n",
      "Residuals                24012 978894    40.8                     \n",
      "---\n",
      "Signif. codes:  0 ‘***’ 0.001 ‘**’ 0.01 ‘*’ 0.05 ‘.’ 0.1 ‘ ’ 1\n",
      "#### mean_tempc ####                           Df  Sum Sq Mean Sq F value    Pr(>F)    \n",
      "MORETHAN24HOURS             1    32.5  32.512 21.3237 3.931e-06 ***\n",
      "INTERVAL                    1    95.7  95.718 62.7787 2.578e-15 ***\n",
      "MORETHAN24HOURS:INTERVAL    1     1.9   1.912  1.2543    0.2628    \n",
      "Residuals                9340 14240.6   1.525                      \n",
      "---\n",
      "Signif. codes:  0 ‘***’ 0.001 ‘**’ 0.01 ‘*’ 0.05 ‘.’ 0.1 ‘ ’ 1\n",
      "#### mean_spo2 ####                            Df Sum Sq Mean Sq F value    Pr(>F)    \n",
      "MORETHAN24HOURS              1     39   39.00  1.5543 0.2125217    \n",
      "INTERVAL                     1    331  330.73 13.1820 0.0002833 ***\n",
      "MORETHAN24HOURS:INTERVAL     1      6    5.75  0.2293 0.6320755    \n",
      "Residuals                22937 575479   25.09                      \n",
      "---\n",
      "Signif. codes:  0 ‘***’ 0.001 ‘**’ 0.01 ‘*’ 0.05 ‘.’ 0.1 ‘ ’ 1\n",
      "#### mean_glucose ####                            Df   Sum Sq Mean Sq F value  Pr(>F)    \n",
      "MORETHAN24HOURS              1    18715   18715  3.6690 0.05546 .  \n",
      "INTERVAL                     1   355680  355680 69.7293 < 2e-16 ***\n",
      "MORETHAN24HOURS:INTERVAL     1     2655    2655  0.5206 0.47062    \n",
      "Residuals                11456 58435564    5101                    \n",
      "---\n",
      "Signif. codes:  0 ‘***’ 0.001 ‘**’ 0.01 ‘*’ 0.05 ‘.’ 0.1 ‘ ’ 1\n",
      "#### median_heartrate ####                            Df   Sum Sq Mean Sq F value    Pr(>F)    \n",
      "MORETHAN24HOURS              1    23247 23247.1 52.5422 4.341e-13 ***\n",
      "INTERVAL                     1    10169 10169.2 22.9841 1.643e-06 ***\n",
      "MORETHAN24HOURS:INTERVAL     1     2884  2883.7  6.5176   0.01069 *  \n",
      "Residuals                23508 10401015   442.4                      \n",
      "---\n",
      "Signif. codes:  0 ‘***’ 0.001 ‘**’ 0.01 ‘*’ 0.05 ‘.’ 0.1 ‘ ’ 1\n",
      "#### median_sysbp ####                            Df   Sum Sq Mean Sq F value    Pr(>F)    \n",
      "MORETHAN24HOURS              1    63110   63110 132.949 < 2.2e-16 ***\n",
      "INTERVAL                     1   227295  227295 478.825 < 2.2e-16 ***\n",
      "MORETHAN24HOURS:INTERVAL     1     7004    7004  14.754 0.0001228 ***\n",
      "Residuals                23207 11016195     475                      \n",
      "---\n",
      "Signif. codes:  0 ‘***’ 0.001 ‘**’ 0.01 ‘*’ 0.05 ‘.’ 0.1 ‘ ’ 1\n",
      "#### median_diasbp ####                            Df  Sum Sq Mean Sq F value    Pr(>F)    \n",
      "MORETHAN24HOURS              1    4548  4548.2  22.332 2.307e-06 ***\n",
      "INTERVAL                     1   26780 26780.4 131.492 < 2.2e-16 ***\n",
      "MORETHAN24HOURS:INTERVAL     1     932   932.4   4.578    0.0324 *  \n",
      "Residuals                23197 4724424   203.7                      \n",
      "---\n",
      "Signif. codes:  0 ‘***’ 0.001 ‘**’ 0.01 ‘*’ 0.05 ‘.’ 0.1 ‘ ’ 1\n",
      "#### median_meanbp ####                            Df  Sum Sq Mean Sq  F value    Pr(>F)    \n",
      "MORETHAN24HOURS              1   12058   12058  46.0072 1.206e-11 ***\n",
      "INTERVAL                     1   72892   72892 278.1092 < 2.2e-16 ***\n",
      "MORETHAN24HOURS:INTERVAL     1    2592    2592   9.8893  0.001665 ** \n",
      "Residuals                23469 6151206     262                       \n",
      "---\n",
      "Signif. codes:  0 ‘***’ 0.001 ‘**’ 0.01 ‘*’ 0.05 ‘.’ 0.1 ‘ ’ 1\n",
      "#### median_resprate ####                            Df Sum Sq Mean Sq  F value  Pr(>F)    \n",
      "MORETHAN24HOURS              1   5859  5859.2 141.7592 < 2e-16 ***\n",
      "INTERVAL                     1   4369  4368.6 105.6955 < 2e-16 ***\n",
      "MORETHAN24HOURS:INTERVAL     1    244   243.5   5.8916 0.01522 *  \n",
      "Residuals                24012 992472    41.3                     \n",
      "---\n",
      "Signif. codes:  0 ‘***’ 0.001 ‘**’ 0.01 ‘*’ 0.05 ‘.’ 0.1 ‘ ’ 1\n",
      "#### median_tempc ####                           Df  Sum Sq Mean Sq F value    Pr(>F)    \n",
      "MORETHAN24HOURS             1    32.5  32.476 21.2849 4.011e-06 ***\n",
      "INTERVAL                    1    95.3  95.312 62.4679 3.015e-15 ***\n",
      "MORETHAN24HOURS:INTERVAL    1     1.9   1.884  1.2349    0.2665    \n",
      "Residuals                9340 14250.7   1.526                      \n",
      "---\n",
      "Signif. codes:  0 ‘***’ 0.001 ‘**’ 0.01 ‘*’ 0.05 ‘.’ 0.1 ‘ ’ 1\n",
      "#### median_spo2 ####                            Df Sum Sq Mean Sq F value   Pr(>F)   \n",
      "MORETHAN24HOURS              1     52  52.037  2.0779 0.149455   \n",
      "INTERVAL                     1    179 178.870  7.1427 0.007532 **\n",
      "MORETHAN24HOURS:INTERVAL     1      8   8.294  0.3312 0.564951   \n",
      "Residuals                22937 574397  25.042                    \n",
      "---\n",
      "Signif. codes:  0 ‘***’ 0.001 ‘**’ 0.01 ‘*’ 0.05 ‘.’ 0.1 ‘ ’ 1\n",
      "#### median_glucose ####                            Df   Sum Sq Mean Sq F value  Pr(>F)    \n",
      "MORETHAN24HOURS              1    18204   18204  3.5723 0.05877 .  \n",
      "INTERVAL                     1   356610  356610 69.9830 < 2e-16 ***\n",
      "MORETHAN24HOURS:INTERVAL     1     2613    2613  0.5127 0.47399    \n",
      "Residuals                11456 58375983    5096                    \n",
      "---\n",
      "Signif. codes:  0 ‘***’ 0.001 ‘**’ 0.01 ‘*’ 0.05 ‘.’ 0.1 ‘ ’ 1\n"
     ]
    }
   ],
   "source": [
    "vitals_result_list <- list()\n",
    "for(vital in unique(melt_results_df$ID)){\n",
    "    cat(\"####\", vital, \"####\")\n",
    "    totest <- melt_results_df %>%\n",
    "         filter(ID == vital)\n",
    "    test <- summary(aov(VALUE ~ MORETHAN24HOURS*INTERVAL, data = totest))[[1]]\n",
    "    \n",
    "    vitals_result_list[[vital]] <- data.frame(MORETHAN24HOURS = test[\"MORETHAN24HOURS \", \"Pr(>F)\"], \n",
    "                                             INTERACTION = test[\"MORETHAN24HOURS:INTERVAL\", \"Pr(>F)\"])\n",
    "    \n",
    "    test %>% print()\n",
    "}"
   ]
  },
  {
   "cell_type": "markdown",
   "metadata": {},
   "source": [
    "# Table 2 (ANCOVA Vitals)"
   ]
  },
  {
   "cell_type": "code",
   "execution_count": 436,
   "metadata": {},
   "outputs": [],
   "source": [
    "computeTest <- function(d, value=\"VALUE\", comparison=\"GROUP\"){\n",
    "    paired_df <- d %>% \n",
    "        select(!!rlang::sym(comparison), !!rlang::sym(value)) \n",
    "    \n",
    "    items <- unique(unlist(d[,comparison]))\n",
    "\n",
    "    result_unpair <- t.test(filter(d, !!rlang::sym(comparison) == items[1])$VALUE, \n",
    "       filter(d, !!rlang::sym(comparison) == items[2])$VALUE, paired = FALSE)\n",
    "    result_wilcox <- wilcox.test(filter(d, !!rlang::sym(comparison) == items[1])$VALUE, \n",
    "       filter(d, !!rlang::sym(comparison) == items[2])$VALUE, paired = FALSE)\n",
    "    \n",
    "    diff = mean(filter(d, !!rlang::sym(comparison) == items[1])$VALUE) -  \n",
    "        mean(filter(d, !!rlang::sym(comparison) == items[2])$VALUE)\n",
    "    \n",
    "    return(data.frame(list(\n",
    "                           'P_UNPAIR' = result_unpair$p.value, \n",
    "                           'P_WILCOX' = result_wilcox$p.value,\n",
    "                            'GROUP1' = mean(filter(d, !!rlang::sym(comparison) == items[1])$VALUE),\n",
    "                            'GROUP2' = mean(filter(d, !!rlang::sym(comparison) == items[2])$VALUE),\n",
    "                            'DIFF' = diff,\n",
    "                            'COMPARE' = paste(items[1], items[2], sep ='-'))))\n",
    "}"
   ]
  },
  {
   "cell_type": "code",
   "execution_count": 437,
   "metadata": {},
   "outputs": [
    {
     "data": {
      "text/html": [
       "<table>\n",
       "<caption>A grouped_df: 16 × 8</caption>\n",
       "<thead>\n",
       "\t<tr><th scope=col>ID</th><th scope=col>P_UNPAIR</th><th scope=col>P_WILCOX</th><th scope=col>GROUP1</th><th scope=col>GROUP2</th><th scope=col>DIFF</th><th scope=col>COMPARE</th><th scope=col>significant</th></tr>\n",
       "\t<tr><th scope=col>&lt;chr&gt;</th><th scope=col>&lt;dbl&gt;</th><th scope=col>&lt;dbl&gt;</th><th scope=col>&lt;dbl&gt;</th><th scope=col>&lt;dbl&gt;</th><th scope=col>&lt;dbl&gt;</th><th scope=col>&lt;fct&gt;</th><th scope=col>&lt;lgl&gt;</th></tr>\n",
       "</thead>\n",
       "<tbody>\n",
       "\t<tr><td>mean_diasbp     </td><td>1.265908e-01</td><td>7.990480e-02</td><td> 54.65006</td><td> 54.01456</td><td> 0.6354959</td><td>FALSE-TRUE</td><td>FALSE</td></tr>\n",
       "\t<tr><td>mean_glucose    </td><td>1.453990e-01</td><td>1.298682e-01</td><td>164.73997</td><td>159.43578</td><td> 5.3041867</td><td>FALSE-TRUE</td><td>FALSE</td></tr>\n",
       "\t<tr><td>mean_heartrate  </td><td>7.396542e-09</td><td>6.240572e-10</td><td> 91.07418</td><td> 94.58918</td><td>-3.5150026</td><td>FALSE-TRUE</td><td> TRUE</td></tr>\n",
       "\t<tr><td>mean_meanbp     </td><td>3.468222e-02</td><td>1.985997e-03</td><td> 69.63378</td><td> 68.66941</td><td> 0.9643703</td><td>FALSE-TRUE</td><td> TRUE</td></tr>\n",
       "\t<tr><td>mean_resprate   </td><td>6.778389e-11</td><td>1.444753e-10</td><td> 19.26933</td><td> 20.39776</td><td>-1.1284338</td><td>FALSE-TRUE</td><td> TRUE</td></tr>\n",
       "\t<tr><td>mean_spo2       </td><td>2.552621e-01</td><td>3.172923e-05</td><td> 96.50264</td><td> 96.29761</td><td> 0.2050311</td><td>FALSE-TRUE</td><td> TRUE</td></tr>\n",
       "\t<tr><td>mean_sysbp      </td><td>5.848989e-05</td><td>1.667281e-07</td><td>103.46338</td><td>101.02786</td><td> 2.4355228</td><td>FALSE-TRUE</td><td> TRUE</td></tr>\n",
       "\t<tr><td>mean_tempc      </td><td>9.100300e-03</td><td>5.935066e-03</td><td> 36.57469</td><td> 36.71611</td><td>-0.1414213</td><td>FALSE-TRUE</td><td> TRUE</td></tr>\n",
       "\t<tr><td>median_diasbp   </td><td>1.570693e-01</td><td>1.164519e-01</td><td> 54.43520</td><td> 53.83966</td><td> 0.5955390</td><td>FALSE-TRUE</td><td>FALSE</td></tr>\n",
       "\t<tr><td>median_glucose  </td><td>1.477810e-01</td><td>1.308821e-01</td><td>164.73314</td><td>159.46254</td><td> 5.2706000</td><td>FALSE-TRUE</td><td>FALSE</td></tr>\n",
       "\t<tr><td>median_heartrate</td><td>6.797186e-09</td><td>4.379703e-10</td><td> 91.01803</td><td> 94.57254</td><td>-3.5545160</td><td>FALSE-TRUE</td><td> TRUE</td></tr>\n",
       "\t<tr><td>median_meanbp   </td><td>7.026619e-02</td><td>6.991684e-03</td><td> 69.25965</td><td> 68.42698</td><td> 0.8326648</td><td>FALSE-TRUE</td><td> TRUE</td></tr>\n",
       "\t<tr><td>median_resprate </td><td>2.043218e-10</td><td>4.090619e-10</td><td> 19.24892</td><td> 20.36807</td><td>-1.1191481</td><td>FALSE-TRUE</td><td> TRUE</td></tr>\n",
       "\t<tr><td>median_spo2     </td><td>1.827352e-01</td><td>1.070270e-05</td><td> 96.63672</td><td> 96.39724</td><td> 0.2394849</td><td>FALSE-TRUE</td><td> TRUE</td></tr>\n",
       "\t<tr><td>median_sysbp    </td><td>2.372695e-04</td><td>1.114924e-06</td><td>103.10358</td><td>100.83560</td><td> 2.2679811</td><td>FALSE-TRUE</td><td> TRUE</td></tr>\n",
       "\t<tr><td>median_tempc    </td><td>9.123843e-03</td><td>5.837347e-03</td><td> 36.57483</td><td> 36.71630</td><td>-0.1414714</td><td>FALSE-TRUE</td><td> TRUE</td></tr>\n",
       "</tbody>\n",
       "</table>\n"
      ],
      "text/latex": [
       "A grouped_df: 16 × 8\n",
       "\\begin{tabular}{r|llllllll}\n",
       " ID & P\\_UNPAIR & P\\_WILCOX & GROUP1 & GROUP2 & DIFF & COMPARE & significant\\\\\n",
       " <chr> & <dbl> & <dbl> & <dbl> & <dbl> & <dbl> & <fct> & <lgl>\\\\\n",
       "\\hline\n",
       "\t mean\\_diasbp      & 1.265908e-01 & 7.990480e-02 &  54.65006 &  54.01456 &  0.6354959 & FALSE-TRUE & FALSE\\\\\n",
       "\t mean\\_glucose     & 1.453990e-01 & 1.298682e-01 & 164.73997 & 159.43578 &  5.3041867 & FALSE-TRUE & FALSE\\\\\n",
       "\t mean\\_heartrate   & 7.396542e-09 & 6.240572e-10 &  91.07418 &  94.58918 & -3.5150026 & FALSE-TRUE &  TRUE\\\\\n",
       "\t mean\\_meanbp      & 3.468222e-02 & 1.985997e-03 &  69.63378 &  68.66941 &  0.9643703 & FALSE-TRUE &  TRUE\\\\\n",
       "\t mean\\_resprate    & 6.778389e-11 & 1.444753e-10 &  19.26933 &  20.39776 & -1.1284338 & FALSE-TRUE &  TRUE\\\\\n",
       "\t mean\\_spo2        & 2.552621e-01 & 3.172923e-05 &  96.50264 &  96.29761 &  0.2050311 & FALSE-TRUE &  TRUE\\\\\n",
       "\t mean\\_sysbp       & 5.848989e-05 & 1.667281e-07 & 103.46338 & 101.02786 &  2.4355228 & FALSE-TRUE &  TRUE\\\\\n",
       "\t mean\\_tempc       & 9.100300e-03 & 5.935066e-03 &  36.57469 &  36.71611 & -0.1414213 & FALSE-TRUE &  TRUE\\\\\n",
       "\t median\\_diasbp    & 1.570693e-01 & 1.164519e-01 &  54.43520 &  53.83966 &  0.5955390 & FALSE-TRUE & FALSE\\\\\n",
       "\t median\\_glucose   & 1.477810e-01 & 1.308821e-01 & 164.73314 & 159.46254 &  5.2706000 & FALSE-TRUE & FALSE\\\\\n",
       "\t median\\_heartrate & 6.797186e-09 & 4.379703e-10 &  91.01803 &  94.57254 & -3.5545160 & FALSE-TRUE &  TRUE\\\\\n",
       "\t median\\_meanbp    & 7.026619e-02 & 6.991684e-03 &  69.25965 &  68.42698 &  0.8326648 & FALSE-TRUE &  TRUE\\\\\n",
       "\t median\\_resprate  & 2.043218e-10 & 4.090619e-10 &  19.24892 &  20.36807 & -1.1191481 & FALSE-TRUE &  TRUE\\\\\n",
       "\t median\\_spo2      & 1.827352e-01 & 1.070270e-05 &  96.63672 &  96.39724 &  0.2394849 & FALSE-TRUE &  TRUE\\\\\n",
       "\t median\\_sysbp     & 2.372695e-04 & 1.114924e-06 & 103.10358 & 100.83560 &  2.2679811 & FALSE-TRUE &  TRUE\\\\\n",
       "\t median\\_tempc     & 9.123843e-03 & 5.837347e-03 &  36.57483 &  36.71630 & -0.1414714 & FALSE-TRUE &  TRUE\\\\\n",
       "\\end{tabular}\n"
      ],
      "text/markdown": [
       "\n",
       "A grouped_df: 16 × 8\n",
       "\n",
       "| ID &lt;chr&gt; | P_UNPAIR &lt;dbl&gt; | P_WILCOX &lt;dbl&gt; | GROUP1 &lt;dbl&gt; | GROUP2 &lt;dbl&gt; | DIFF &lt;dbl&gt; | COMPARE &lt;fct&gt; | significant &lt;lgl&gt; |\n",
       "|---|---|---|---|---|---|---|---|\n",
       "| mean_diasbp      | 1.265908e-01 | 7.990480e-02 |  54.65006 |  54.01456 |  0.6354959 | FALSE-TRUE | FALSE |\n",
       "| mean_glucose     | 1.453990e-01 | 1.298682e-01 | 164.73997 | 159.43578 |  5.3041867 | FALSE-TRUE | FALSE |\n",
       "| mean_heartrate   | 7.396542e-09 | 6.240572e-10 |  91.07418 |  94.58918 | -3.5150026 | FALSE-TRUE |  TRUE |\n",
       "| mean_meanbp      | 3.468222e-02 | 1.985997e-03 |  69.63378 |  68.66941 |  0.9643703 | FALSE-TRUE |  TRUE |\n",
       "| mean_resprate    | 6.778389e-11 | 1.444753e-10 |  19.26933 |  20.39776 | -1.1284338 | FALSE-TRUE |  TRUE |\n",
       "| mean_spo2        | 2.552621e-01 | 3.172923e-05 |  96.50264 |  96.29761 |  0.2050311 | FALSE-TRUE |  TRUE |\n",
       "| mean_sysbp       | 5.848989e-05 | 1.667281e-07 | 103.46338 | 101.02786 |  2.4355228 | FALSE-TRUE |  TRUE |\n",
       "| mean_tempc       | 9.100300e-03 | 5.935066e-03 |  36.57469 |  36.71611 | -0.1414213 | FALSE-TRUE |  TRUE |\n",
       "| median_diasbp    | 1.570693e-01 | 1.164519e-01 |  54.43520 |  53.83966 |  0.5955390 | FALSE-TRUE | FALSE |\n",
       "| median_glucose   | 1.477810e-01 | 1.308821e-01 | 164.73314 | 159.46254 |  5.2706000 | FALSE-TRUE | FALSE |\n",
       "| median_heartrate | 6.797186e-09 | 4.379703e-10 |  91.01803 |  94.57254 | -3.5545160 | FALSE-TRUE |  TRUE |\n",
       "| median_meanbp    | 7.026619e-02 | 6.991684e-03 |  69.25965 |  68.42698 |  0.8326648 | FALSE-TRUE |  TRUE |\n",
       "| median_resprate  | 2.043218e-10 | 4.090619e-10 |  19.24892 |  20.36807 | -1.1191481 | FALSE-TRUE |  TRUE |\n",
       "| median_spo2      | 1.827352e-01 | 1.070270e-05 |  96.63672 |  96.39724 |  0.2394849 | FALSE-TRUE |  TRUE |\n",
       "| median_sysbp     | 2.372695e-04 | 1.114924e-06 | 103.10358 | 100.83560 |  2.2679811 | FALSE-TRUE |  TRUE |\n",
       "| median_tempc     | 9.123843e-03 | 5.837347e-03 |  36.57483 |  36.71630 | -0.1414714 | FALSE-TRUE |  TRUE |\n",
       "\n"
      ],
      "text/plain": [
       "   ID               P_UNPAIR     P_WILCOX     GROUP1    GROUP2    DIFF      \n",
       "1  mean_diasbp      1.265908e-01 7.990480e-02  54.65006  54.01456  0.6354959\n",
       "2  mean_glucose     1.453990e-01 1.298682e-01 164.73997 159.43578  5.3041867\n",
       "3  mean_heartrate   7.396542e-09 6.240572e-10  91.07418  94.58918 -3.5150026\n",
       "4  mean_meanbp      3.468222e-02 1.985997e-03  69.63378  68.66941  0.9643703\n",
       "5  mean_resprate    6.778389e-11 1.444753e-10  19.26933  20.39776 -1.1284338\n",
       "6  mean_spo2        2.552621e-01 3.172923e-05  96.50264  96.29761  0.2050311\n",
       "7  mean_sysbp       5.848989e-05 1.667281e-07 103.46338 101.02786  2.4355228\n",
       "8  mean_tempc       9.100300e-03 5.935066e-03  36.57469  36.71611 -0.1414213\n",
       "9  median_diasbp    1.570693e-01 1.164519e-01  54.43520  53.83966  0.5955390\n",
       "10 median_glucose   1.477810e-01 1.308821e-01 164.73314 159.46254  5.2706000\n",
       "11 median_heartrate 6.797186e-09 4.379703e-10  91.01803  94.57254 -3.5545160\n",
       "12 median_meanbp    7.026619e-02 6.991684e-03  69.25965  68.42698  0.8326648\n",
       "13 median_resprate  2.043218e-10 4.090619e-10  19.24892  20.36807 -1.1191481\n",
       "14 median_spo2      1.827352e-01 1.070270e-05  96.63672  96.39724  0.2394849\n",
       "15 median_sysbp     2.372695e-04 1.114924e-06 103.10358 100.83560  2.2679811\n",
       "16 median_tempc     9.123843e-03 5.837347e-03  36.57483  36.71630 -0.1414714\n",
       "   COMPARE    significant\n",
       "1  FALSE-TRUE FALSE      \n",
       "2  FALSE-TRUE FALSE      \n",
       "3  FALSE-TRUE  TRUE      \n",
       "4  FALSE-TRUE  TRUE      \n",
       "5  FALSE-TRUE  TRUE      \n",
       "6  FALSE-TRUE  TRUE      \n",
       "7  FALSE-TRUE  TRUE      \n",
       "8  FALSE-TRUE  TRUE      \n",
       "9  FALSE-TRUE FALSE      \n",
       "10 FALSE-TRUE FALSE      \n",
       "11 FALSE-TRUE  TRUE      \n",
       "12 FALSE-TRUE  TRUE      \n",
       "13 FALSE-TRUE  TRUE      \n",
       "14 FALSE-TRUE  TRUE      \n",
       "15 FALSE-TRUE  TRUE      \n",
       "16 FALSE-TRUE  TRUE      "
      ]
     },
     "metadata": {},
     "output_type": "display_data"
    }
   ],
   "source": [
    "melt_results_df %>%\n",
    "    filter(INTERVAL == 1) %>%\n",
    "    drop_na(VALUE) %>%\n",
    "    group_by(ID) %>%\n",
    "    do(computeTest(.,value=\"VALUE\", comparison=\"MORETHAN24HOURS\")) %>%\n",
    "    mutate(significant = P_WILCOX < 0.05)"
   ]
  },
  {
   "cell_type": "code",
   "execution_count": 513,
   "metadata": {},
   "outputs": [
    {
     "data": {
      "text/html": [
       "<table>\n",
       "<caption>A data.frame: 16 × 5</caption>\n",
       "<thead>\n",
       "\t<tr><th scope=col>ID</th><th scope=col>MORETHAN24HOURS</th><th scope=col>INTERACTION</th><th scope=col>significant</th><th scope=col>significant_interaction</th></tr>\n",
       "\t<tr><th scope=col>&lt;chr&gt;</th><th scope=col>&lt;dbl&gt;</th><th scope=col>&lt;dbl&gt;</th><th scope=col>&lt;lgl&gt;</th><th scope=col>&lt;lgl&gt;</th></tr>\n",
       "</thead>\n",
       "<tbody>\n",
       "\t<tr><td>mean_heartrate  </td><td>4.496419e-13</td><td>0.0125397669</td><td> TRUE</td><td> TRUE</td></tr>\n",
       "\t<tr><td>mean_sysbp      </td><td>1.077529e-32</td><td>0.0003316643</td><td> TRUE</td><td> TRUE</td></tr>\n",
       "\t<tr><td>mean_diasbp     </td><td>6.471202e-07</td><td>0.0369490411</td><td> TRUE</td><td> TRUE</td></tr>\n",
       "\t<tr><td>mean_meanbp     </td><td>2.727431e-12</td><td>0.0027541942</td><td> TRUE</td><td> TRUE</td></tr>\n",
       "\t<tr><td>mean_resprate   </td><td>8.178791e-33</td><td>0.0126472328</td><td> TRUE</td><td> TRUE</td></tr>\n",
       "\t<tr><td>mean_tempc      </td><td>3.930798e-06</td><td>0.2627663857</td><td> TRUE</td><td>FALSE</td></tr>\n",
       "\t<tr><td>mean_spo2       </td><td>2.125217e-01</td><td>0.6320754826</td><td>FALSE</td><td>FALSE</td></tr>\n",
       "\t<tr><td>mean_glucose    </td><td>5.545808e-02</td><td>0.4706155025</td><td>FALSE</td><td>FALSE</td></tr>\n",
       "\t<tr><td>median_heartrate</td><td>4.341047e-13</td><td>0.0106874309</td><td> TRUE</td><td> TRUE</td></tr>\n",
       "\t<tr><td>median_sysbp    </td><td>1.124623e-30</td><td>0.0001228206</td><td> TRUE</td><td> TRUE</td></tr>\n",
       "\t<tr><td>median_diasbp   </td><td>2.306994e-06</td><td>0.0323954498</td><td> TRUE</td><td> TRUE</td></tr>\n",
       "\t<tr><td>median_meanbp   </td><td>1.206187e-11</td><td>0.0016645102</td><td> TRUE</td><td> TRUE</td></tr>\n",
       "\t<tr><td>median_resprate </td><td>1.356160e-32</td><td>0.0152205980</td><td> TRUE</td><td> TRUE</td></tr>\n",
       "\t<tr><td>median_tempc    </td><td>4.011085e-06</td><td>0.2664925827</td><td> TRUE</td><td>FALSE</td></tr>\n",
       "\t<tr><td>median_spo2     </td><td>1.494554e-01</td><td>0.5649514385</td><td>FALSE</td><td>FALSE</td></tr>\n",
       "\t<tr><td>median_glucose  </td><td>5.877442e-02</td><td>0.4739859335</td><td>FALSE</td><td>FALSE</td></tr>\n",
       "</tbody>\n",
       "</table>\n"
      ],
      "text/latex": [
       "A data.frame: 16 × 5\n",
       "\\begin{tabular}{r|lllll}\n",
       " ID & MORETHAN24HOURS & INTERACTION & significant & significant\\_interaction\\\\\n",
       " <chr> & <dbl> & <dbl> & <lgl> & <lgl>\\\\\n",
       "\\hline\n",
       "\t mean\\_heartrate   & 4.496419e-13 & 0.0125397669 &  TRUE &  TRUE\\\\\n",
       "\t mean\\_sysbp       & 1.077529e-32 & 0.0003316643 &  TRUE &  TRUE\\\\\n",
       "\t mean\\_diasbp      & 6.471202e-07 & 0.0369490411 &  TRUE &  TRUE\\\\\n",
       "\t mean\\_meanbp      & 2.727431e-12 & 0.0027541942 &  TRUE &  TRUE\\\\\n",
       "\t mean\\_resprate    & 8.178791e-33 & 0.0126472328 &  TRUE &  TRUE\\\\\n",
       "\t mean\\_tempc       & 3.930798e-06 & 0.2627663857 &  TRUE & FALSE\\\\\n",
       "\t mean\\_spo2        & 2.125217e-01 & 0.6320754826 & FALSE & FALSE\\\\\n",
       "\t mean\\_glucose     & 5.545808e-02 & 0.4706155025 & FALSE & FALSE\\\\\n",
       "\t median\\_heartrate & 4.341047e-13 & 0.0106874309 &  TRUE &  TRUE\\\\\n",
       "\t median\\_sysbp     & 1.124623e-30 & 0.0001228206 &  TRUE &  TRUE\\\\\n",
       "\t median\\_diasbp    & 2.306994e-06 & 0.0323954498 &  TRUE &  TRUE\\\\\n",
       "\t median\\_meanbp    & 1.206187e-11 & 0.0016645102 &  TRUE &  TRUE\\\\\n",
       "\t median\\_resprate  & 1.356160e-32 & 0.0152205980 &  TRUE &  TRUE\\\\\n",
       "\t median\\_tempc     & 4.011085e-06 & 0.2664925827 &  TRUE & FALSE\\\\\n",
       "\t median\\_spo2      & 1.494554e-01 & 0.5649514385 & FALSE & FALSE\\\\\n",
       "\t median\\_glucose   & 5.877442e-02 & 0.4739859335 & FALSE & FALSE\\\\\n",
       "\\end{tabular}\n"
      ],
      "text/markdown": [
       "\n",
       "A data.frame: 16 × 5\n",
       "\n",
       "| ID &lt;chr&gt; | MORETHAN24HOURS &lt;dbl&gt; | INTERACTION &lt;dbl&gt; | significant &lt;lgl&gt; | significant_interaction &lt;lgl&gt; |\n",
       "|---|---|---|---|---|\n",
       "| mean_heartrate   | 4.496419e-13 | 0.0125397669 |  TRUE |  TRUE |\n",
       "| mean_sysbp       | 1.077529e-32 | 0.0003316643 |  TRUE |  TRUE |\n",
       "| mean_diasbp      | 6.471202e-07 | 0.0369490411 |  TRUE |  TRUE |\n",
       "| mean_meanbp      | 2.727431e-12 | 0.0027541942 |  TRUE |  TRUE |\n",
       "| mean_resprate    | 8.178791e-33 | 0.0126472328 |  TRUE |  TRUE |\n",
       "| mean_tempc       | 3.930798e-06 | 0.2627663857 |  TRUE | FALSE |\n",
       "| mean_spo2        | 2.125217e-01 | 0.6320754826 | FALSE | FALSE |\n",
       "| mean_glucose     | 5.545808e-02 | 0.4706155025 | FALSE | FALSE |\n",
       "| median_heartrate | 4.341047e-13 | 0.0106874309 |  TRUE |  TRUE |\n",
       "| median_sysbp     | 1.124623e-30 | 0.0001228206 |  TRUE |  TRUE |\n",
       "| median_diasbp    | 2.306994e-06 | 0.0323954498 |  TRUE |  TRUE |\n",
       "| median_meanbp    | 1.206187e-11 | 0.0016645102 |  TRUE |  TRUE |\n",
       "| median_resprate  | 1.356160e-32 | 0.0152205980 |  TRUE |  TRUE |\n",
       "| median_tempc     | 4.011085e-06 | 0.2664925827 |  TRUE | FALSE |\n",
       "| median_spo2      | 1.494554e-01 | 0.5649514385 | FALSE | FALSE |\n",
       "| median_glucose   | 5.877442e-02 | 0.4739859335 | FALSE | FALSE |\n",
       "\n"
      ],
      "text/plain": [
       "   ID               MORETHAN24HOURS INTERACTION  significant\n",
       "1  mean_heartrate   4.496419e-13    0.0125397669  TRUE      \n",
       "2  mean_sysbp       1.077529e-32    0.0003316643  TRUE      \n",
       "3  mean_diasbp      6.471202e-07    0.0369490411  TRUE      \n",
       "4  mean_meanbp      2.727431e-12    0.0027541942  TRUE      \n",
       "5  mean_resprate    8.178791e-33    0.0126472328  TRUE      \n",
       "6  mean_tempc       3.930798e-06    0.2627663857  TRUE      \n",
       "7  mean_spo2        2.125217e-01    0.6320754826 FALSE      \n",
       "8  mean_glucose     5.545808e-02    0.4706155025 FALSE      \n",
       "9  median_heartrate 4.341047e-13    0.0106874309  TRUE      \n",
       "10 median_sysbp     1.124623e-30    0.0001228206  TRUE      \n",
       "11 median_diasbp    2.306994e-06    0.0323954498  TRUE      \n",
       "12 median_meanbp    1.206187e-11    0.0016645102  TRUE      \n",
       "13 median_resprate  1.356160e-32    0.0152205980  TRUE      \n",
       "14 median_tempc     4.011085e-06    0.2664925827  TRUE      \n",
       "15 median_spo2      1.494554e-01    0.5649514385 FALSE      \n",
       "16 median_glucose   5.877442e-02    0.4739859335 FALSE      \n",
       "   significant_interaction\n",
       "1   TRUE                  \n",
       "2   TRUE                  \n",
       "3   TRUE                  \n",
       "4   TRUE                  \n",
       "5   TRUE                  \n",
       "6  FALSE                  \n",
       "7  FALSE                  \n",
       "8  FALSE                  \n",
       "9   TRUE                  \n",
       "10  TRUE                  \n",
       "11  TRUE                  \n",
       "12  TRUE                  \n",
       "13  TRUE                  \n",
       "14 FALSE                  \n",
       "15 FALSE                  \n",
       "16 FALSE                  "
      ]
     },
     "metadata": {},
     "output_type": "display_data"
    }
   ],
   "source": [
    "bind_rows(vitals_result_list, .id=\"ID\") %>% mutate(\n",
    "    significant = MORETHAN24HOURS < 0.05, \n",
    "    significant_interaction = INTERACTION < 0.05)"
   ]
  },
  {
   "cell_type": "markdown",
   "metadata": {},
   "source": [
    "# Figure 2 ANCOVA Plotting"
   ]
  },
  {
   "cell_type": "code",
   "execution_count": 719,
   "metadata": {},
   "outputs": [],
   "source": [
    "toplot <- melt_results_df %>%\n",
    "    mutate(INTERVAL = -INTERVAL) %>%\n",
    "    drop_na(VALUE) %>%\n",
    "    filter(grepl(\"mean_\", ID), ID != \"mean_diasbp\", ID != \"mean_sysbp\")"
   ]
  },
  {
   "cell_type": "code",
   "execution_count": 720,
   "metadata": {},
   "outputs": [],
   "source": [
    "options(repr.plot.width=10, repr.plot.height=3)\n",
    "g <- ggplot(toplot, \n",
    "            aes(x=toplot$INTERVAL, y=toplot$VALUE, color=factor(toplot$MORETHAN24HOURS))) +\n",
    "#geom_point() + \n",
    "geom_smooth(method=lm, aes(fill=factor(toplot$MORETHAN24HOURS))) + \n",
    "xlab(\"Hours before pressors\") + ylab(\"Value\") +\n",
    "theme_classic() + theme(legend.title = element_blank()) +\n",
    "facet_wrap(. ~ ID, scale=\"free\", nrow=1)"
   ]
  },
  {
   "cell_type": "code",
   "execution_count": 721,
   "metadata": {},
   "outputs": [
    {
     "data": {
      "image/png": "[encoded data removed]",
      "text/plain": [
       "plot without title"
      ]
     },
     "metadata": {},
     "output_type": "display_data"
    }
   ],
   "source": [
    "plot(g)"
   ]
  },
  {
   "cell_type": "markdown",
   "metadata": {},
   "source": [
    "# LR Model (using all vitals)\n",
    "- Running into problems with missing data for glucose, spo2 and tempc. "
   ]
  },
  {
   "cell_type": "code",
   "execution_count": 869,
   "metadata": {},
   "outputs": [
    {
     "name": "stderr",
     "output_type": "stream",
     "text": [
      "Warning message:\n",
      "“attributes are not identical across measure variables;\n",
      "they will be dropped”"
     ]
    }
   ],
   "source": [
    "model_input_df <- melt_results_df %>%\n",
    "    filter(INTERVAL < 4) %>%\n",
    "    ungroup() %>%\n",
    "    mutate(VARIABLE = paste(ID, INTERVAL, sep = '_'), ICUSTAY = icustay_id, RESPONSE = MORETHAN24HOURS) %>%\n",
    "    select(RESPONSE, ICUSTAY, VARIABLE, VALUE) %>%\n",
    "    mutate(VALUE = as.character(VALUE)) %>%\n",
    "    bind_rows(\n",
    "        output_df %>% \n",
    "            select(MORETHAN24HOURS, icustay_id, first_careunit, cvc, intub, simple_race, simple_diagnosis, gender, age_cohort) %>%\n",
    "            gather(VARIABLE, VALUE, -MORETHAN24HOURS, -icustay_id) %>%\n",
    "            rename(RESPONSE = MORETHAN24HOURS, ICUSTAY = icustay_id) %>%\n",
    "            distinct(ICUSTAY, VARIABLE, VALUE, .keep_all = TRUE)\n",
    "    ) %>%\n",
    "    drop_na(VALUE) %>%\n",
    "    spread(VARIABLE, VALUE) %>% \n",
    "    select(-ICUSTAY)"
   ]
  },
  {
   "cell_type": "code",
   "execution_count": 870,
   "metadata": {},
   "outputs": [],
   "source": [
    "model_input_df <- model_input_df %>%\n",
    "    mutate_at(vars(contains(\"mean_\")), as.numeric, na.rm = TRUE) %>%\n",
    "    mutate_at(vars(contains(\"median_\")), as.numeric, na.rm = TRUE) %>%\n",
    "    mutate(age_cohort = as.numeric(age_cohort)) %>%\n",
    "    select(RESPONSE, \n",
    "             first_careunit,\n",
    "             cvc,\n",
    "             intub,\n",
    "             simple_diagnosis,\n",
    "             simple_race, \n",
    "             age_cohort,\n",
    "             gender,\n",
    "             age_cohort, \n",
    "             contains(\"mean_meanbp\"),\n",
    "             contains(\"mean_resprate\"),\n",
    "             contains(\"mean_heartrate\"),\n",
    "             #contains(\"mean_tempc\"),\n",
    "             #contains(\"mean_spo2\"),\n",
    "             #contains(\"mean_glucose\")\n",
    "              )"
   ]
  },
  {
   "cell_type": "code",
   "execution_count": 871,
   "metadata": {},
   "outputs": [],
   "source": [
    "model_input_df <- model_input_df[which(complete.cases(model_input_df)),]"
   ]
  },
  {
   "cell_type": "code",
   "execution_count": 872,
   "metadata": {},
   "outputs": [],
   "source": [
    "model <- glm(RESPONSE ~ . , family=binomial(link='logit'),data=model_input_df)"
   ]
  },
  {
   "cell_type": "code",
   "execution_count": 873,
   "metadata": {},
   "outputs": [
    {
     "data": {
      "text/plain": [
       "\n",
       "Call:  glm(formula = RESPONSE ~ ., family = binomial(link = \"logit\"), \n",
       "    data = model_input_df)\n",
       "\n",
       "Coefficients:\n",
       "                    (Intercept)               first_careunitCSRU  \n",
       "                      -1.299501                        -0.294784  \n",
       "             first_careunitMICU               first_careunitSICU  \n",
       "                      -0.173224                        -0.014035  \n",
       "            first_careunitTSICU                          cvcTRUE  \n",
       "                      -0.082511                         1.006471  \n",
       "                      intubTRUE        simple_diagnosisINFECTION  \n",
       "                       0.270447                         0.086430  \n",
       "simple_diagnosisOTHER DIAGNOSIS           simple_diagnosisSEPSIS  \n",
       "                      -0.206964                        -0.345274  \n",
       "               simple_raceBLACK              simple_raceHISPANIC  \n",
       "                       0.369456                         0.173738  \n",
       "               simple_raceOTHER                 simple_raceWHITE  \n",
       "                       0.243971                         0.196825  \n",
       "                     age_cohort                          genderM  \n",
       "                      -0.006756                         0.202595  \n",
       "                  mean_meanbp_1                    mean_meanbp_2  \n",
       "                       0.002921                         0.002328  \n",
       "                  mean_meanbp_3                  mean_resprate_1  \n",
       "                      -0.011117                         0.012529  \n",
       "                mean_resprate_2                  mean_resprate_3  \n",
       "                       0.005342                         0.016181  \n",
       "               mean_heartrate_1                 mean_heartrate_2  \n",
       "                       0.004487                        -0.006138  \n",
       "               mean_heartrate_3  \n",
       "                       0.002886  \n",
       "\n",
       "Degrees of Freedom: 1940 Total (i.e. Null);  1916 Residual\n",
       "Null Deviance:\t    2683 \n",
       "Residual Deviance: 2606 \tAIC: 2656"
      ]
     },
     "metadata": {},
     "output_type": "display_data"
    }
   ],
   "source": [
    "model"
   ]
  },
  {
   "cell_type": "code",
   "execution_count": 874,
   "metadata": {},
   "outputs": [
    {
     "data": {
      "text/plain": [
       "\n",
       "Call:\n",
       "glm(formula = RESPONSE ~ ., family = binomial(link = \"logit\"), \n",
       "    data = model_input_df)\n",
       "\n",
       "Deviance Residuals: \n",
       "    Min       1Q   Median       3Q      Max  \n",
       "-1.6216  -1.1209  -0.7802   1.1791   1.9500  \n",
       "\n",
       "Coefficients:\n",
       "                                 Estimate Std. Error z value Pr(>|z|)    \n",
       "(Intercept)                     -1.299501   0.605535  -2.146  0.03187 *  \n",
       "first_careunitCSRU              -0.294784   0.177877  -1.657  0.09747 .  \n",
       "first_careunitMICU              -0.173224   0.149035  -1.162  0.24511    \n",
       "first_careunitSICU              -0.014035   0.178356  -0.079  0.93728    \n",
       "first_careunitTSICU             -0.082511   0.198369  -0.416  0.67745    \n",
       "cvcTRUE                          1.006471   0.253422   3.972 7.14e-05 ***\n",
       "intubTRUE                        0.270447   0.138182   1.957  0.05033 .  \n",
       "simple_diagnosisINFECTION        0.086430   0.217511   0.397  0.69110    \n",
       "simple_diagnosisOTHER DIAGNOSIS -0.206964   0.163938  -1.262  0.20679    \n",
       "simple_diagnosisSEPSIS          -0.345274   0.231075  -1.494  0.13512    \n",
       "simple_raceBLACK                 0.369456   0.305187   1.211  0.22605    \n",
       "simple_raceHISPANIC              0.173738   0.388113   0.448  0.65441    \n",
       "simple_raceOTHER                 0.243971   0.288778   0.845  0.39820    \n",
       "simple_raceWHITE                 0.196825   0.265723   0.741  0.45887    \n",
       "age_cohort                      -0.006756   0.003300  -2.047  0.04061 *  \n",
       "genderM                          0.202595   0.095403   2.124  0.03371 *  \n",
       "mean_meanbp_1                    0.002921   0.004072   0.717  0.47319    \n",
       "mean_meanbp_2                    0.002328   0.003992   0.583  0.55988    \n",
       "mean_meanbp_3                   -0.011117   0.003806  -2.921  0.00349 ** \n",
       "mean_resprate_1                  0.012529   0.012447   1.007  0.31413    \n",
       "mean_resprate_2                  0.005342   0.012976   0.412  0.68058    \n",
       "mean_resprate_3                  0.016181   0.011253   1.438  0.15046    \n",
       "mean_heartrate_1                 0.004487   0.004441   1.010  0.31234    \n",
       "mean_heartrate_2                -0.006138   0.005812  -1.056  0.29086    \n",
       "mean_heartrate_3                 0.002886   0.005009   0.576  0.56449    \n",
       "---\n",
       "Signif. codes:  0 ‘***’ 0.001 ‘**’ 0.01 ‘*’ 0.05 ‘.’ 0.1 ‘ ’ 1\n",
       "\n",
       "(Dispersion parameter for binomial family taken to be 1)\n",
       "\n",
       "    Null deviance: 2683.5  on 1940  degrees of freedom\n",
       "Residual deviance: 2606.1  on 1916  degrees of freedom\n",
       "AIC: 2656.1\n",
       "\n",
       "Number of Fisher Scoring iterations: 4\n"
      ]
     },
     "metadata": {},
     "output_type": "display_data"
    }
   ],
   "source": [
    "summary(model)"
   ]
  },
  {
   "cell_type": "markdown",
   "metadata": {},
   "source": [
    "### Assess Accuracy using  LOOCV"
   ]
  },
  {
   "cell_type": "code",
   "execution_count": 875,
   "metadata": {},
   "outputs": [],
   "source": [
    "library(boot)"
   ]
  },
  {
   "cell_type": "code",
   "execution_count": 881,
   "metadata": {},
   "outputs": [],
   "source": [
    "#k  <- 5\n",
    "kfCV <- cv.glm(data=model_input_df, glmfit=model)"
   ]
  },
  {
   "cell_type": "code",
   "execution_count": 882,
   "metadata": {},
   "outputs": [],
   "source": [
    "accuracy <- 1 - kfCV$delta[1]"
   ]
  },
  {
   "cell_type": "code",
   "execution_count": 883,
   "metadata": {},
   "outputs": [
    {
     "data": {
      "text/html": [
       "0.754278390077079"
      ],
      "text/latex": [
       "0.754278390077079"
      ],
      "text/markdown": [
       "0.754278390077079"
      ],
      "text/plain": [
       "[1] 0.7542784"
      ]
     },
     "metadata": {},
     "output_type": "display_data"
    }
   ],
   "source": [
    "accuracy"
   ]
  }
 ],
 "metadata": {
  "kernelspec": {
   "display_name": "R",
   "language": "R",
   "name": "ir"
  },
  "language_info": {
   "codemirror_mode": "r",
   "file_extension": ".r",
   "mimetype": "text/x-r-source",
   "name": "R",
   "pygments_lexer": "r",
   "version": "3.6.0"
  }
 },
 "nbformat": 4,
 "nbformat_minor": 2
}
