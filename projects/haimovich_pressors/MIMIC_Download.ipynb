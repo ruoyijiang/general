{
 "cells": [
  {
   "cell_type": "markdown",
   "metadata": {},
   "source": [
    "# Code for generating MIMIC postgres database and extracting pressor data\n",
    "- Ruoyi Jiang\n",
    "- July 14, 2019\n",
    "- Build PGsql database"
   ]
  },
  {
   "cell_type": "code",
   "execution_count": 40,
   "metadata": {},
   "outputs": [],
   "source": [
    "import os\n",
    "import pandas as pd\n",
    "import glob\n",
    "import subprocess\n",
    "import shlex\n",
    "\n",
    "from sqlalchemy.sql import text\n",
    "from sqlalchemy import create_engine, inspect\n",
    "from sqlalchemy_utils import database_exists, create_database\n",
    "\n",
    "# download psycopg2, sqlalchemy, sqlalchemy-utils\n",
    "# python3 -m pip install sqlalchemy-utils --user"
   ]
  },
  {
   "cell_type": "code",
   "execution_count": 37,
   "metadata": {},
   "outputs": [],
   "source": [
    "def createCommandSQL(sql_command_file):\n",
    "\n",
    "    # Open the .sql file\n",
    "    sql_file = open(sql_command_file,'r')\n",
    "\n",
    "    # Create an empty command string\n",
    "    sql_command = ''\n",
    "\n",
    "    # Iterate over all lines in the sql file\n",
    "    for line in sql_file:\n",
    "        # Ignore commented lines\n",
    "        if not line.startswith('--') and line.strip('\\n'):\n",
    "            # Append line to the command string\n",
    "            sql_command += line.strip('\\n').strip('\\t')\n",
    "    \n",
    "    if sql_command.endswith(';'):\n",
    "        return sql_command\n",
    "    else:\n",
    "        return None"
   ]
  },
  {
   "cell_type": "markdown",
   "metadata": {},
   "source": [
    "### Build database (schema -> tables -> indexes)"
   ]
  },
  {
   "cell_type": "code",
   "execution_count": 31,
   "metadata": {},
   "outputs": [],
   "source": [
    "# specify a base_dir \n",
    "base_dir = os.path.join(os.getenv(\"HOME\"), \"Projects/Haimovich_Pressors/collection/mimic\")"
   ]
  },
  {
   "cell_type": "code",
   "execution_count": 32,
   "metadata": {},
   "outputs": [],
   "source": [
    "os.makedirs(base_dir, exist_ok=True)"
   ]
  },
  {
   "cell_type": "code",
   "execution_count": 22,
   "metadata": {},
   "outputs": [],
   "source": [
    "save_dir = os.path.join(os.getenv(\"HOME\"), \"Projects/Haimovich_Pressors/collection/out\")"
   ]
  },
  {
   "cell_type": "code",
   "execution_count": 29,
   "metadata": {},
   "outputs": [],
   "source": [
    "os.makedirs(save_dir, exist_ok=True)"
   ]
  },
  {
   "cell_type": "markdown",
   "metadata": {},
   "source": [
    "wget the csv files"
   ]
  },
  {
   "cell_type": "code",
   "execution_count": 7,
   "metadata": {},
   "outputs": [],
   "source": [
    "os.chdir(base_dir)"
   ]
  },
  {
   "cell_type": "code",
   "execution_count": 9,
   "metadata": {},
   "outputs": [],
   "source": [
    "%%bash\n",
    "\n",
    "# wget from MIMIC into base_dir (run from terminal, needs password input)\n",
    "wget --user ruoyi.jiang@yale.edu --ask-password -A csv.gz -m -p -E -k -K -np -nd \\\n",
    "https://physionet.org/works/MIMICIIIClinicalDatabase/files/"
   ]
  },
  {
   "cell_type": "markdown",
   "metadata": {},
   "source": [
    "Following https://mimic.physionet.org/tutorials/install-mimic-locally-ubuntu/"
   ]
  },
  {
   "cell_type": "code",
   "execution_count": 13,
   "metadata": {},
   "outputs": [
    {
     "name": "stdout",
     "output_type": "stream",
     "text": [
      "==> Successfully started `postgresql` (label: homebrew.mxcl.postgresql)\n"
     ]
    }
   ],
   "source": [
    "%%bash\n",
    "\n",
    "# start postgresql server\n",
    "brew services restart postgresql"
   ]
  },
  {
   "cell_type": "code",
   "execution_count": 10,
   "metadata": {},
   "outputs": [],
   "source": [
    "# specify database using sqlalchemy\n",
    "db_string = 'postgresql://ruoyijiang:@localhost/mimic'"
   ]
  },
  {
   "cell_type": "code",
   "execution_count": 11,
   "metadata": {},
   "outputs": [],
   "source": [
    "# create database using default public schema\n",
    "engine = create_engine(db_string)\n",
    "if not database_exists(engine.url):\n",
    "    create_database(engine.url)"
   ]
  },
  {
   "cell_type": "code",
   "execution_count": 12,
   "metadata": {},
   "outputs": [],
   "source": [
    "# reconnect to database under public schema\n",
    "engine = create_engine(db_string,\n",
    "    connect_args={'options': '--search_path={}'.format('public')})"
   ]
  },
  {
   "cell_type": "code",
   "execution_count": 13,
   "metadata": {},
   "outputs": [],
   "source": [
    "# create tables\n",
    "# %%bash\n",
    "# psql 'dbname=mimic user=ruoyijiang options=--search_path=public' \\\n",
    "# -f ~/git/mimic-code/buildmimic/postgres/postgres_create_tables.sql "
   ]
  },
  {
   "cell_type": "code",
   "execution_count": 14,
   "metadata": {},
   "outputs": [],
   "source": [
    "# load tables (check script for gunzip)\n",
    "# %%bash\n",
    "# psql 'dbname=mimic user=ruoyijiang options=--search_path=public' \\\n",
    "# ~/git/mimic-code/buildmimic/postgres/postgres_load_data.sql \n",
    "# remember to set... mimic_data_dir='/Users/ruoyijiang/Projects/Haimovich_Pressors/collection/mimic'"
   ]
  },
  {
   "cell_type": "code",
   "execution_count": 15,
   "metadata": {},
   "outputs": [],
   "source": [
    "connection = engine.connect()"
   ]
  },
  {
   "cell_type": "code",
   "execution_count": 21,
   "metadata": {},
   "outputs": [],
   "source": [
    "# create indexes using sql file\n",
    "sql_command_file = os.path.join(os.getenv(\"HOME\"),'git/mimic-code/buildmimic/postgres/postgres_add_indexes.sql')\n",
    "\n",
    "result = connection.execute(text(createCommandSQL(sql_command_file)))"
   ]
  },
  {
   "cell_type": "code",
   "execution_count": null,
   "metadata": {},
   "outputs": [],
   "source": [
    "# checks\n",
    "sql_command_file = os.path.join(os.getenv(\"HOME\"),'git/mimic-code/buildmimic/postgres/postgres_checks.sql')\n",
    "\n",
    "result = connection.execute(text(createCommandSQL(sql_command_file)))"
   ]
  },
  {
   "cell_type": "markdown",
   "metadata": {},
   "source": [
    "### Commandline terminal queries (if needed)"
   ]
  },
  {
   "cell_type": "code",
   "execution_count": null,
   "metadata": {},
   "outputs": [],
   "source": [
    "# connect to database for interactive\n",
    "# psql 'dbname=mimic user=ruoyijiang options=--search_path=public'"
   ]
  },
  {
   "cell_type": "code",
   "execution_count": null,
   "metadata": {},
   "outputs": [],
   "source": [
    "# Print all tables in schema\n",
    "#\\d+\n",
    "\n",
    "# Print metadata on admissions\n",
    "#\\d+ admissions"
   ]
  },
  {
   "cell_type": "markdown",
   "metadata": {},
   "source": [
    "### Querying within postgres"
   ]
  },
  {
   "cell_type": "code",
   "execution_count": 90,
   "metadata": {},
   "outputs": [
    {
     "data": {
      "text/html": [
       "<div>\n",
       "<style scoped>\n",
       "    .dataframe tbody tr th:only-of-type {\n",
       "        vertical-align: middle;\n",
       "    }\n",
       "\n",
       "    .dataframe tbody tr th {\n",
       "        vertical-align: top;\n",
       "    }\n",
       "\n",
       "    .dataframe thead th {\n",
       "        text-align: right;\n",
       "    }\n",
       "</style>\n",
       "<table border=\"1\" class=\"dataframe\">\n",
       "  <thead>\n",
       "    <tr style=\"text-align: right;\">\n",
       "      <th></th>\n",
       "      <th>count</th>\n",
       "    </tr>\n",
       "  </thead>\n",
       "  <tbody>\n",
       "    <tr>\n",
       "      <th>0</th>\n",
       "      <td>46520</td>\n",
       "    </tr>\n",
       "  </tbody>\n",
       "</table>\n",
       "</div>"
      ],
      "text/plain": [
       "   count\n",
       "0  46520"
      ]
     },
     "execution_count": 90,
     "metadata": {},
     "output_type": "execute_result"
    }
   ],
   "source": [
    "# How to count?\n",
    "sql_query_text = \\\n",
    "\"SELECT COUNT(*) \\\n",
    "FROM patients;\"\n",
    "\n",
    "pd.read_sql_query(sql_query_text, engine)"
   ]
  },
  {
   "cell_type": "code",
   "execution_count": 24,
   "metadata": {},
   "outputs": [
    {
     "data": {
      "text/html": [
       "<div>\n",
       "<style scoped>\n",
       "    .dataframe tbody tr th:only-of-type {\n",
       "        vertical-align: middle;\n",
       "    }\n",
       "\n",
       "    .dataframe tbody tr th {\n",
       "        vertical-align: top;\n",
       "    }\n",
       "\n",
       "    .dataframe thead th {\n",
       "        text-align: right;\n",
       "    }\n",
       "</style>\n",
       "<table border=\"1\" class=\"dataframe\">\n",
       "  <thead>\n",
       "    <tr style=\"text-align: right;\">\n",
       "      <th></th>\n",
       "      <th>gender</th>\n",
       "    </tr>\n",
       "  </thead>\n",
       "  <tbody>\n",
       "    <tr>\n",
       "      <th>0</th>\n",
       "      <td>M</td>\n",
       "    </tr>\n",
       "    <tr>\n",
       "      <th>1</th>\n",
       "      <td>F</td>\n",
       "    </tr>\n",
       "  </tbody>\n",
       "</table>\n",
       "</div>"
      ],
      "text/plain": [
       "  gender\n",
       "0      M\n",
       "1      F"
      ]
     },
     "execution_count": 24,
     "metadata": {},
     "output_type": "execute_result"
    }
   ],
   "source": [
    "# How to unique?\n",
    "sql_query_text = \\\n",
    "\"SELECT DISTINCT(gender) \\\n",
    "FROM patients;\"\n",
    "\n",
    "pd.read_sql_query(sql_query_text, engine)"
   ]
  },
  {
   "cell_type": "code",
   "execution_count": 64,
   "metadata": {},
   "outputs": [
    {
     "data": {
      "text/html": [
       "<div>\n",
       "<style scoped>\n",
       "    .dataframe tbody tr th:only-of-type {\n",
       "        vertical-align: middle;\n",
       "    }\n",
       "\n",
       "    .dataframe tbody tr th {\n",
       "        vertical-align: top;\n",
       "    }\n",
       "\n",
       "    .dataframe thead th {\n",
       "        text-align: right;\n",
       "    }\n",
       "</style>\n",
       "<table border=\"1\" class=\"dataframe\">\n",
       "  <thead>\n",
       "    <tr style=\"text-align: right;\">\n",
       "      <th></th>\n",
       "      <th>count</th>\n",
       "    </tr>\n",
       "  </thead>\n",
       "  <tbody>\n",
       "    <tr>\n",
       "      <th>0</th>\n",
       "      <td>20399</td>\n",
       "    </tr>\n",
       "  </tbody>\n",
       "</table>\n",
       "</div>"
      ],
      "text/plain": [
       "   count\n",
       "0  20399"
      ]
     },
     "execution_count": 64,
     "metadata": {},
     "output_type": "execute_result"
    }
   ],
   "source": [
    "# How to filter and count?\n",
    "sql_query_text = \\\n",
    "\"SELECT COUNT(*) \\\n",
    "FROM patients \\\n",
    "WHERE gender = 'F';\"\n",
    "\n",
    "pd.read_sql_query(sql_query_text, engine)"
   ]
  },
  {
   "cell_type": "code",
   "execution_count": 25,
   "metadata": {},
   "outputs": [
    {
     "data": {
      "text/html": [
       "<div>\n",
       "<style scoped>\n",
       "    .dataframe tbody tr th:only-of-type {\n",
       "        vertical-align: middle;\n",
       "    }\n",
       "\n",
       "    .dataframe tbody tr th {\n",
       "        vertical-align: top;\n",
       "    }\n",
       "\n",
       "    .dataframe thead th {\n",
       "        text-align: right;\n",
       "    }\n",
       "</style>\n",
       "<table border=\"1\" class=\"dataframe\">\n",
       "  <thead>\n",
       "    <tr style=\"text-align: right;\">\n",
       "      <th></th>\n",
       "      <th>gender</th>\n",
       "      <th>count</th>\n",
       "    </tr>\n",
       "  </thead>\n",
       "  <tbody>\n",
       "    <tr>\n",
       "      <th>0</th>\n",
       "      <td>M</td>\n",
       "      <td>26121</td>\n",
       "    </tr>\n",
       "    <tr>\n",
       "      <th>1</th>\n",
       "      <td>F</td>\n",
       "      <td>20399</td>\n",
       "    </tr>\n",
       "  </tbody>\n",
       "</table>\n",
       "</div>"
      ],
      "text/plain": [
       "  gender  count\n",
       "0      M  26121\n",
       "1      F  20399"
      ]
     },
     "execution_count": 25,
     "metadata": {},
     "output_type": "execute_result"
    }
   ],
   "source": [
    "# How to group_by and count?\n",
    "sql_query_text = \\\n",
    "'SELECT gender, COUNT(*) \\\n",
    "FROM patients \\\n",
    "GROUP BY gender;'\n",
    "\n",
    "pd.read_sql_query(sql_query_text, engine)"
   ]
  },
  {
   "cell_type": "code",
   "execution_count": 74,
   "metadata": {},
   "outputs": [
    {
     "data": {
      "text/plain": [
       "'SELECT gender, COUNT(*) FROM patients GROUP BY gender;'"
      ]
     },
     "execution_count": 74,
     "metadata": {},
     "output_type": "execute_result"
    }
   ],
   "source": [
    "sql_query_text"
   ]
  },
  {
   "cell_type": "code",
   "execution_count": 26,
   "metadata": {},
   "outputs": [
    {
     "data": {
      "text/html": [
       "<div>\n",
       "<style scoped>\n",
       "    .dataframe tbody tr th:only-of-type {\n",
       "        vertical-align: middle;\n",
       "    }\n",
       "\n",
       "    .dataframe tbody tr th {\n",
       "        vertical-align: top;\n",
       "    }\n",
       "\n",
       "    .dataframe thead th {\n",
       "        text-align: right;\n",
       "    }\n",
       "</style>\n",
       "<table border=\"1\" class=\"dataframe\">\n",
       "  <thead>\n",
       "    <tr style=\"text-align: right;\">\n",
       "      <th></th>\n",
       "      <th>subject_id</th>\n",
       "      <th>dob</th>\n",
       "      <th>hadm_id</th>\n",
       "      <th>admittime</th>\n",
       "      <th>expire_flag</th>\n",
       "      <th>first_admittime</th>\n",
       "    </tr>\n",
       "  </thead>\n",
       "  <tbody>\n",
       "    <tr>\n",
       "      <th>0</th>\n",
       "      <td>58526</td>\n",
       "      <td>2082-03-21</td>\n",
       "      <td>100001</td>\n",
       "      <td>2117-09-11 11:46:00</td>\n",
       "      <td>0</td>\n",
       "      <td>2117-09-11 11:46:00</td>\n",
       "    </tr>\n",
       "    <tr>\n",
       "      <th>1</th>\n",
       "      <td>54610</td>\n",
       "      <td>2090-05-19</td>\n",
       "      <td>100003</td>\n",
       "      <td>2150-04-17 15:34:00</td>\n",
       "      <td>1</td>\n",
       "      <td>2150-04-17 15:34:00</td>\n",
       "    </tr>\n",
       "    <tr>\n",
       "      <th>2</th>\n",
       "      <td>9895</td>\n",
       "      <td>2059-05-07</td>\n",
       "      <td>100006</td>\n",
       "      <td>2108-04-06 15:49:00</td>\n",
       "      <td>1</td>\n",
       "      <td>2108-04-06 15:49:00</td>\n",
       "    </tr>\n",
       "    <tr>\n",
       "      <th>3</th>\n",
       "      <td>23018</td>\n",
       "      <td>2071-06-04</td>\n",
       "      <td>100007</td>\n",
       "      <td>2145-03-31 05:33:00</td>\n",
       "      <td>0</td>\n",
       "      <td>2145-03-31 05:33:00</td>\n",
       "    </tr>\n",
       "    <tr>\n",
       "      <th>4</th>\n",
       "      <td>533</td>\n",
       "      <td>2101-07-30</td>\n",
       "      <td>100009</td>\n",
       "      <td>2162-05-16 15:56:00</td>\n",
       "      <td>0</td>\n",
       "      <td>2162-05-16 15:56:00</td>\n",
       "    </tr>\n",
       "  </tbody>\n",
       "</table>\n",
       "</div>"
      ],
      "text/plain": [
       "   subject_id        dob  hadm_id           admittime  expire_flag  \\\n",
       "0       58526 2082-03-21   100001 2117-09-11 11:46:00            0   \n",
       "1       54610 2090-05-19   100003 2150-04-17 15:34:00            1   \n",
       "2        9895 2059-05-07   100006 2108-04-06 15:49:00            1   \n",
       "3       23018 2071-06-04   100007 2145-03-31 05:33:00            0   \n",
       "4         533 2101-07-30   100009 2162-05-16 15:56:00            0   \n",
       "\n",
       "      first_admittime  \n",
       "0 2117-09-11 11:46:00  \n",
       "1 2150-04-17 15:34:00  \n",
       "2 2108-04-06 15:49:00  \n",
       "3 2145-03-31 05:33:00  \n",
       "4 2162-05-16 15:56:00  "
      ]
     },
     "execution_count": 26,
     "metadata": {},
     "output_type": "execute_result"
    }
   ],
   "source": [
    "# How to inner join? (and mutate)?\n",
    "\n",
    "sql_query_text = \\\n",
    "\"SELECT p.subject_id, p.dob, a.hadm_id, a.admittime, p.expire_flag, \\\n",
    "    MIN (a.admittime) OVER (PARTITION BY p.subject_id) AS first_admittime \\\n",
    "FROM admissions a \\\n",
    "INNER JOIN patients p \\\n",
    "ON p.subject_id = a.subject_id \\\n",
    "ORDER BY a.hadm_id, p.subject_id;\"\n",
    "\n",
    "pd.read_sql_query(sql_query_text, engine).head()"
   ]
  },
  {
   "cell_type": "code",
   "execution_count": 27,
   "metadata": {},
   "outputs": [
    {
     "data": {
      "text/html": [
       "<div>\n",
       "<style scoped>\n",
       "    .dataframe tbody tr th:only-of-type {\n",
       "        vertical-align: middle;\n",
       "    }\n",
       "\n",
       "    .dataframe tbody tr th {\n",
       "        vertical-align: top;\n",
       "    }\n",
       "\n",
       "    .dataframe thead th {\n",
       "        text-align: right;\n",
       "    }\n",
       "</style>\n",
       "<table border=\"1\" class=\"dataframe\">\n",
       "  <thead>\n",
       "    <tr style=\"text-align: right;\">\n",
       "      <th></th>\n",
       "      <th>subject_id</th>\n",
       "      <th>dob</th>\n",
       "      <th>gender</th>\n",
       "      <th>first_admittime</th>\n",
       "      <th>first_admit_age</th>\n",
       "      <th>age_group</th>\n",
       "    </tr>\n",
       "  </thead>\n",
       "  <tbody>\n",
       "    <tr>\n",
       "      <th>0</th>\n",
       "      <td>2</td>\n",
       "      <td>2138-07-17</td>\n",
       "      <td>M</td>\n",
       "      <td>2138-07-17 19:04:00</td>\n",
       "      <td>0.00</td>\n",
       "      <td>neonate</td>\n",
       "    </tr>\n",
       "    <tr>\n",
       "      <th>1</th>\n",
       "      <td>3</td>\n",
       "      <td>2025-04-11</td>\n",
       "      <td>M</td>\n",
       "      <td>2101-10-20 19:08:00</td>\n",
       "      <td>76.52</td>\n",
       "      <td>adult</td>\n",
       "    </tr>\n",
       "    <tr>\n",
       "      <th>2</th>\n",
       "      <td>4</td>\n",
       "      <td>2143-05-12</td>\n",
       "      <td>F</td>\n",
       "      <td>2191-03-16 00:28:00</td>\n",
       "      <td>47.84</td>\n",
       "      <td>adult</td>\n",
       "    </tr>\n",
       "    <tr>\n",
       "      <th>3</th>\n",
       "      <td>5</td>\n",
       "      <td>2103-02-02</td>\n",
       "      <td>M</td>\n",
       "      <td>2103-02-02 04:31:00</td>\n",
       "      <td>0.00</td>\n",
       "      <td>neonate</td>\n",
       "    </tr>\n",
       "    <tr>\n",
       "      <th>4</th>\n",
       "      <td>6</td>\n",
       "      <td>2109-06-21</td>\n",
       "      <td>F</td>\n",
       "      <td>2175-05-30 07:15:00</td>\n",
       "      <td>65.94</td>\n",
       "      <td>adult</td>\n",
       "    </tr>\n",
       "  </tbody>\n",
       "</table>\n",
       "</div>"
      ],
      "text/plain": [
       "   subject_id        dob gender     first_admittime  first_admit_age age_group\n",
       "0           2 2138-07-17      M 2138-07-17 19:04:00             0.00   neonate\n",
       "1           3 2025-04-11      M 2101-10-20 19:08:00            76.52     adult\n",
       "2           4 2143-05-12      F 2191-03-16 00:28:00            47.84     adult\n",
       "3           5 2103-02-02      M 2103-02-02 04:31:00             0.00   neonate\n",
       "4           6 2109-06-21      F 2175-05-30 07:15:00            65.94     adult"
      ]
     },
     "execution_count": 27,
     "metadata": {},
     "output_type": "execute_result"
    }
   ],
   "source": [
    "sql_query_text = \\\n",
    "\"WITH first_admission_time AS \\\n",
    "( \\\n",
    "SELECT \\\n",
    "    p.subject_id, p.dob, p.gender \\\n",
    "    , MIN (a.admittime) AS first_admittime \\\n",
    "    , MIN( ROUND( (cast(admittime as date) - cast(dob as date)) / 365.242,2) ) \\\n",
    "    AS first_admit_age \\\n",
    "    FROM patients p \\\n",
    "    INNER JOIN admissions a \\\n",
    "    ON p.subject_id = a.subject_id \\\n",
    "    GROUP BY p.subject_id, p.dob, p.gender \\\n",
    "    ORDER BY p.subject_id \\\n",
    ") \\\n",
    "SELECT \\\n",
    "subject_id, dob, gender \\\n",
    ", first_admittime, first_admit_age \\\n",
    ", CASE \\\n",
    "WHEN first_admit_age > 89 \\\n",
    "then '>89' \\\n",
    "WHEN first_admit_age >= 14 \\\n",
    "THEN 'adult' \\\n",
    "WHEN first_admit_age <= 1 \\\n",
    "THEN 'neonate' \\\n",
    "ELSE 'middle' \\\n",
    "END AS age_group \\\n",
    "FROM first_admission_time \\\n",
    "ORDER BY subject_id\"\n",
    "\n",
    "pd.read_sql_query(sql_query_text, engine).head()"
   ]
  },
  {
   "cell_type": "markdown",
   "metadata": {},
   "source": [
    "### Extract pivoted_vital from chartevents"
   ]
  },
  {
   "cell_type": "code",
   "execution_count": 4,
   "metadata": {},
   "outputs": [
    {
     "name": "stdout",
     "output_type": "stream",
     "text": [
      "DROP MATERIALIZED VIEW\n",
      "SELECT 9160700\n"
     ]
    }
   ],
   "source": [
    "%%bash\n",
    "psql 'dbname=mimic user=ruoyijiang options=--search_path=public' \\\n",
    "-f ~/git/mimic-code/concepts/pivot/pivoted-vital.sql"
   ]
  },
  {
   "cell_type": "code",
   "execution_count": 21,
   "metadata": {},
   "outputs": [
    {
     "data": {
      "text/html": [
       "<div>\n",
       "<style scoped>\n",
       "    .dataframe tbody tr th:only-of-type {\n",
       "        vertical-align: middle;\n",
       "    }\n",
       "\n",
       "    .dataframe tbody tr th {\n",
       "        vertical-align: top;\n",
       "    }\n",
       "\n",
       "    .dataframe thead th {\n",
       "        text-align: right;\n",
       "    }\n",
       "</style>\n",
       "<table border=\"1\" class=\"dataframe\">\n",
       "  <thead>\n",
       "    <tr style=\"text-align: right;\">\n",
       "      <th></th>\n",
       "      <th>icustay_id</th>\n",
       "      <th>charttime</th>\n",
       "      <th>heartrate</th>\n",
       "      <th>sysbp</th>\n",
       "      <th>diasbp</th>\n",
       "      <th>meanbp</th>\n",
       "      <th>resprate</th>\n",
       "      <th>tempc</th>\n",
       "      <th>spo2</th>\n",
       "      <th>glucose</th>\n",
       "    </tr>\n",
       "  </thead>\n",
       "  <tbody>\n",
       "    <tr>\n",
       "      <th>0</th>\n",
       "      <td>200001</td>\n",
       "      <td>2181-11-25 19:06:00</td>\n",
       "      <td>115.0</td>\n",
       "      <td>NaN</td>\n",
       "      <td>NaN</td>\n",
       "      <td>NaN</td>\n",
       "      <td>NaN</td>\n",
       "      <td>NaN</td>\n",
       "      <td>NaN</td>\n",
       "      <td>NaN</td>\n",
       "    </tr>\n",
       "    <tr>\n",
       "      <th>1</th>\n",
       "      <td>200001</td>\n",
       "      <td>2181-11-25 19:07:00</td>\n",
       "      <td>NaN</td>\n",
       "      <td>NaN</td>\n",
       "      <td>NaN</td>\n",
       "      <td>NaN</td>\n",
       "      <td>22.0</td>\n",
       "      <td>NaN</td>\n",
       "      <td>NaN</td>\n",
       "      <td>NaN</td>\n",
       "    </tr>\n",
       "    <tr>\n",
       "      <th>2</th>\n",
       "      <td>200001</td>\n",
       "      <td>2181-11-25 19:08:00</td>\n",
       "      <td>NaN</td>\n",
       "      <td>113.0</td>\n",
       "      <td>65.0</td>\n",
       "      <td>77.0</td>\n",
       "      <td>NaN</td>\n",
       "      <td>NaN</td>\n",
       "      <td>NaN</td>\n",
       "      <td>NaN</td>\n",
       "    </tr>\n",
       "    <tr>\n",
       "      <th>3</th>\n",
       "      <td>200001</td>\n",
       "      <td>2181-11-25 19:14:00</td>\n",
       "      <td>NaN</td>\n",
       "      <td>NaN</td>\n",
       "      <td>NaN</td>\n",
       "      <td>NaN</td>\n",
       "      <td>NaN</td>\n",
       "      <td>NaN</td>\n",
       "      <td>94.0</td>\n",
       "      <td>NaN</td>\n",
       "    </tr>\n",
       "    <tr>\n",
       "      <th>4</th>\n",
       "      <td>200001</td>\n",
       "      <td>2181-11-25 19:16:00</td>\n",
       "      <td>114.0</td>\n",
       "      <td>NaN</td>\n",
       "      <td>NaN</td>\n",
       "      <td>NaN</td>\n",
       "      <td>26.0</td>\n",
       "      <td>37.277778</td>\n",
       "      <td>95.0</td>\n",
       "      <td>NaN</td>\n",
       "    </tr>\n",
       "    <tr>\n",
       "      <th>5</th>\n",
       "      <td>200001</td>\n",
       "      <td>2181-11-25 20:00:00</td>\n",
       "      <td>113.0</td>\n",
       "      <td>110.0</td>\n",
       "      <td>65.0</td>\n",
       "      <td>76.0</td>\n",
       "      <td>20.0</td>\n",
       "      <td>NaN</td>\n",
       "      <td>97.0</td>\n",
       "      <td>NaN</td>\n",
       "    </tr>\n",
       "    <tr>\n",
       "      <th>6</th>\n",
       "      <td>200001</td>\n",
       "      <td>2181-11-25 21:00:00</td>\n",
       "      <td>108.0</td>\n",
       "      <td>113.0</td>\n",
       "      <td>68.0</td>\n",
       "      <td>79.0</td>\n",
       "      <td>18.0</td>\n",
       "      <td>NaN</td>\n",
       "      <td>98.0</td>\n",
       "      <td>NaN</td>\n",
       "    </tr>\n",
       "    <tr>\n",
       "      <th>7</th>\n",
       "      <td>200001</td>\n",
       "      <td>2181-11-25 22:00:00</td>\n",
       "      <td>110.0</td>\n",
       "      <td>116.0</td>\n",
       "      <td>68.0</td>\n",
       "      <td>79.0</td>\n",
       "      <td>27.0</td>\n",
       "      <td>NaN</td>\n",
       "      <td>98.0</td>\n",
       "      <td>118.0</td>\n",
       "    </tr>\n",
       "    <tr>\n",
       "      <th>8</th>\n",
       "      <td>200001</td>\n",
       "      <td>2181-11-25 23:00:00</td>\n",
       "      <td>102.0</td>\n",
       "      <td>102.0</td>\n",
       "      <td>61.0</td>\n",
       "      <td>71.0</td>\n",
       "      <td>21.0</td>\n",
       "      <td>37.666667</td>\n",
       "      <td>96.0</td>\n",
       "      <td>NaN</td>\n",
       "    </tr>\n",
       "    <tr>\n",
       "      <th>9</th>\n",
       "      <td>200001</td>\n",
       "      <td>2181-11-26 00:00:00</td>\n",
       "      <td>108.0</td>\n",
       "      <td>NaN</td>\n",
       "      <td>NaN</td>\n",
       "      <td>NaN</td>\n",
       "      <td>19.0</td>\n",
       "      <td>NaN</td>\n",
       "      <td>94.0</td>\n",
       "      <td>NaN</td>\n",
       "    </tr>\n",
       "  </tbody>\n",
       "</table>\n",
       "</div>"
      ],
      "text/plain": [
       "   icustay_id           charttime  heartrate  sysbp  diasbp  meanbp  resprate  \\\n",
       "0      200001 2181-11-25 19:06:00      115.0    NaN     NaN     NaN       NaN   \n",
       "1      200001 2181-11-25 19:07:00        NaN    NaN     NaN     NaN      22.0   \n",
       "2      200001 2181-11-25 19:08:00        NaN  113.0    65.0    77.0       NaN   \n",
       "3      200001 2181-11-25 19:14:00        NaN    NaN     NaN     NaN       NaN   \n",
       "4      200001 2181-11-25 19:16:00      114.0    NaN     NaN     NaN      26.0   \n",
       "5      200001 2181-11-25 20:00:00      113.0  110.0    65.0    76.0      20.0   \n",
       "6      200001 2181-11-25 21:00:00      108.0  113.0    68.0    79.0      18.0   \n",
       "7      200001 2181-11-25 22:00:00      110.0  116.0    68.0    79.0      27.0   \n",
       "8      200001 2181-11-25 23:00:00      102.0  102.0    61.0    71.0      21.0   \n",
       "9      200001 2181-11-26 00:00:00      108.0    NaN     NaN     NaN      19.0   \n",
       "\n",
       "       tempc  spo2  glucose  \n",
       "0        NaN   NaN      NaN  \n",
       "1        NaN   NaN      NaN  \n",
       "2        NaN   NaN      NaN  \n",
       "3        NaN  94.0      NaN  \n",
       "4  37.277778  95.0      NaN  \n",
       "5        NaN  97.0      NaN  \n",
       "6        NaN  98.0      NaN  \n",
       "7        NaN  98.0    118.0  \n",
       "8  37.666667  96.0      NaN  \n",
       "9        NaN  94.0      NaN  "
      ]
     },
     "execution_count": 21,
     "metadata": {},
     "output_type": "execute_result"
    }
   ],
   "source": [
    "sql_query_text = \\\n",
    "\"SELECT * FROM pivoted_vital LIMIT 10;\"\n",
    "\n",
    "pd.read_sql_query(sql_query_text, engine)"
   ]
  },
  {
   "cell_type": "code",
   "execution_count": 17,
   "metadata": {},
   "outputs": [
    {
     "data": {
      "text/html": [
       "<div>\n",
       "<style scoped>\n",
       "    .dataframe tbody tr th:only-of-type {\n",
       "        vertical-align: middle;\n",
       "    }\n",
       "\n",
       "    .dataframe tbody tr th {\n",
       "        vertical-align: top;\n",
       "    }\n",
       "\n",
       "    .dataframe thead th {\n",
       "        text-align: right;\n",
       "    }\n",
       "</style>\n",
       "<table border=\"1\" class=\"dataframe\">\n",
       "  <thead>\n",
       "    <tr style=\"text-align: right;\">\n",
       "      <th></th>\n",
       "      <th>count</th>\n",
       "    </tr>\n",
       "  </thead>\n",
       "  <tbody>\n",
       "    <tr>\n",
       "      <th>0</th>\n",
       "      <td>9160700</td>\n",
       "    </tr>\n",
       "  </tbody>\n",
       "</table>\n",
       "</div>"
      ],
      "text/plain": [
       "     count\n",
       "0  9160700"
      ]
     },
     "execution_count": 17,
     "metadata": {},
     "output_type": "execute_result"
    }
   ],
   "source": [
    "sql_query_text = \\\n",
    "\"SELECT COUNT(*) FROM pivoted_vital;\"\n",
    "\n",
    "pd.read_sql_query(sql_query_text, engine).head()"
   ]
  },
  {
   "cell_type": "code",
   "execution_count": 34,
   "metadata": {},
   "outputs": [],
   "source": [
    "sql_query_text = \\\n",
    "\"SELECT * FROM pivoted_vital;\"\n",
    "\n",
    "vitals_df =  pd.read_sql_query(sql_query_text, engine)"
   ]
  },
  {
   "cell_type": "code",
   "execution_count": 36,
   "metadata": {},
   "outputs": [
    {
     "data": {
      "text/plain": [
       "(9160700, 10)"
      ]
     },
     "execution_count": 36,
     "metadata": {},
     "output_type": "execute_result"
    }
   ],
   "source": [
    "vitals_df.shape"
   ]
  },
  {
   "cell_type": "code",
   "execution_count": 35,
   "metadata": {},
   "outputs": [],
   "source": [
    "vitals_df.to_csv(os.path.join(save_dir, \"vitals.csv\"))"
   ]
  },
  {
   "cell_type": "code",
   "execution_count": 85,
   "metadata": {},
   "outputs": [
    {
     "data": {
      "text/plain": [
       "'/Users/ruoyijiang/Projects/Haimovich_Pressors/collection/out/vitals.csv'"
      ]
     },
     "execution_count": 85,
     "metadata": {},
     "output_type": "execute_result"
    }
   ],
   "source": [
    "os.path.join(save_dir, \"vitals.csv\")"
   ]
  },
  {
   "cell_type": "markdown",
   "metadata": {},
   "source": [
    "### Extract pressors from inputevents_cv"
   ]
  },
  {
   "cell_type": "code",
   "execution_count": 50,
   "metadata": {},
   "outputs": [],
   "source": [
    "duration_commands = \\\n",
    "    [command for command in os.listdir(os.path.join(os.getenv(\"HOME\"),\"git/mimic-code/concepts/durations\")) if 'durations' in command]"
   ]
  },
  {
   "cell_type": "code",
   "execution_count": 68,
   "metadata": {},
   "outputs": [
    {
     "name": "stdout",
     "output_type": "stream",
     "text": [
      "epinephrine-durations.sql\n",
      "DROP MATERIALIZED VIEW\n",
      "SELECT 3126\n",
      "\n",
      "ERROR: \n",
      "\n",
      "phenylephrine-durations.sql\n",
      "DROP MATERIALIZED VIEW\n",
      "SELECT 33141\n",
      "\n",
      "ERROR: \n",
      "psql:/Users/ruoyijiang/git/mimic-code/concepts/durations/phenylephrine-durations.sql:5: NOTICE:  materialized view \"phenylephrinedurations\" does not exist, skipping\n",
      "\n",
      "arterial-line-durations.sql\n",
      "DROP MATERIALIZED VIEW\n",
      "SELECT 30424\n",
      "\n",
      "ERROR: \n",
      "psql:/Users/ruoyijiang/git/mimic-code/concepts/durations/arterial-line-durations.sql:1: NOTICE:  materialized view \"arterial_line_durations\" does not exist, skipping\n",
      "\n",
      "dobutamine-durations.sql\n",
      "DROP MATERIALIZED VIEW\n",
      "SELECT 1792\n",
      "\n",
      "ERROR: \n",
      "psql:/Users/ruoyijiang/git/mimic-code/concepts/durations/dobutamine-durations.sql:5: NOTICE:  materialized view \"dobutaminedurations\" does not exist, skipping\n",
      "\n",
      "vasopressin-durations.sql\n",
      "DROP MATERIALIZED VIEW\n",
      "SELECT 4190\n",
      "\n",
      "ERROR: \n",
      "psql:/Users/ruoyijiang/git/mimic-code/concepts/durations/vasopressin-durations.sql:5: NOTICE:  materialized view \"vasopressindurations\" does not exist, skipping\n",
      "\n",
      "dopamine-durations.sql\n",
      "DROP MATERIALIZED VIEW\n",
      "SELECT 6524\n",
      "\n",
      "ERROR: \n",
      "psql:/Users/ruoyijiang/git/mimic-code/concepts/durations/dopamine-durations.sql:5: NOTICE:  materialized view \"dopaminedurations\" does not exist, skipping\n",
      "\n",
      "central-line-durations.sql\n",
      "DROP MATERIALIZED VIEW\n",
      "SELECT 38211\n",
      "\n",
      "ERROR: \n",
      "psql:/Users/ruoyijiang/git/mimic-code/concepts/durations/central-line-durations.sql:1: NOTICE:  materialized view \"central_line_durations\" does not exist, skipping\n",
      "\n",
      "vasopressor-durations.sql\n",
      "DROP MATERIALIZED VIEW\n",
      "SELECT 38832\n",
      "\n",
      "ERROR: \n",
      "psql:/Users/ruoyijiang/git/mimic-code/concepts/durations/vasopressor-durations.sql:16: NOTICE:  materialized view \"vasopressordurations\" does not exist, skipping\n",
      "\n",
      "weight-durations.sql\n",
      "DROP MATERIALIZED VIEW\n",
      "\n",
      "ERROR: \n",
      "psql:/Users/ruoyijiang/git/mimic-code/concepts/durations/weight-durations.sql:4: NOTICE:  materialized view \"weightdurations\" does not exist, skipping\n",
      "psql:/Users/ruoyijiang/git/mimic-code/concepts/durations/weight-durations.sql:178: ERROR:  relation \"echodata\" does not exist\n",
      "LINE 140:   inner join echodata ec\n",
      "                       ^\n",
      "\n",
      "ventilation-durations.sql\n",
      "DROP MATERIALIZED VIEW\n",
      "SELECT 2549354\n",
      "DROP MATERIALIZED VIEW\n",
      "SELECT 38515\n",
      "\n",
      "ERROR: \n",
      "psql:/Users/ruoyijiang/git/mimic-code/concepts/durations/ventilation-durations.sql:17: NOTICE:  materialized view \"ventsettings\" does not exist, skipping\n",
      "psql:/Users/ruoyijiang/git/mimic-code/concepts/durations/ventilation-durations.sql:161: NOTICE:  materialized view \"ventdurations\" does not exist, skipping\n",
      "\n",
      "isuprel-durations.sql\n",
      "DROP MATERIALIZED VIEW\n",
      "SELECT 24\n",
      "\n",
      "ERROR: \n",
      "psql:/Users/ruoyijiang/git/mimic-code/concepts/durations/isuprel-durations.sql:5: NOTICE:  materialized view \"isupreldurations\" does not exist, skipping\n",
      "\n",
      "crrt-durations.sql\n",
      "DROP MATERIALIZED VIEW\n",
      "SELECT 5918\n",
      "\n",
      "ERROR: \n",
      "psql:/Users/ruoyijiang/git/mimic-code/concepts/durations/crrt-durations.sql:1: NOTICE:  materialized view \"crrtdurations\" does not exist, skipping\n",
      "\n",
      "milrinone-durations.sql\n",
      "DROP MATERIALIZED VIEW\n",
      "SELECT 3600\n",
      "\n",
      "ERROR: \n",
      "psql:/Users/ruoyijiang/git/mimic-code/concepts/durations/milrinone-durations.sql:5: NOTICE:  materialized view \"milrinonedurations\" does not exist, skipping\n",
      "\n",
      "norepinephrine-durations.sql\n",
      "DROP MATERIALIZED VIEW\n",
      "SELECT 23188\n",
      "\n",
      "ERROR: \n",
      "\n",
      "adenosine-durations.sql\n",
      "DROP MATERIALIZED VIEW\n",
      "SELECT 160\n",
      "\n",
      "ERROR: \n",
      "psql:/Users/ruoyijiang/git/mimic-code/concepts/durations/adenosine-durations.sql:9: NOTICE:  materialized view \"adenosinedurations\" does not exist, skipping\n",
      "\n"
     ]
    }
   ],
   "source": [
    "for duration_command in duration_commands:\n",
    "    try:\n",
    "        cmd = [\n",
    "        \"psql 'dbname=mimic user=ruoyijiang options=--search_path=public'\",\n",
    "        \"-f\", os.path.join(os.getenv(\"HOME\"),\"git/mimic-code/concepts/durations\", duration_command)\n",
    "        ]\n",
    "\n",
    "        result = subprocess.Popen(shlex.split(' '.join(cmd)), stdout=subprocess.PIPE, stderr=subprocess.PIPE)\n",
    "        output = result.communicate()\n",
    "        print(duration_command)\n",
    "        print(output[0].decode(\"utf-8\") + \"\\nERROR: \\n\" + output[1].decode(\"utf-8\"))\n",
    "    except:\n",
    "        print(duration_command, \" not run\")"
   ]
  },
  {
   "cell_type": "code",
   "execution_count": 69,
   "metadata": {},
   "outputs": [],
   "source": [
    "sql_query_text = \"SELECT * FROM pg_class;\"\n",
    "\n",
    "all_dbs = pd.read_sql_query(sql_query_text, engine)\n",
    "\n",
    "duration_tables = [duration for duration in all_dbs.relname if 'duration' in duration]"
   ]
  },
  {
   "cell_type": "code",
   "execution_count": 70,
   "metadata": {},
   "outputs": [
    {
     "data": {
      "text/plain": [
       "['arterial_line_durations',\n",
       " 'dobutaminedurations',\n",
       " 'crrtdurations',\n",
       " 'vasopressindurations',\n",
       " 'dopaminedurations',\n",
       " 'central_line_durations',\n",
       " 'milrinonedurations',\n",
       " 'epinephrinedurations',\n",
       " 'vasopressordurations',\n",
       " 'phenylephrinedurations',\n",
       " 'ventdurations',\n",
       " 'isupreldurations',\n",
       " 'norepinephrinedurations',\n",
       " 'adenosinedurations']"
      ]
     },
     "execution_count": 70,
     "metadata": {},
     "output_type": "execute_result"
    }
   ],
   "source": [
    "duration_tables"
   ]
  },
  {
   "cell_type": "code",
   "execution_count": 76,
   "metadata": {},
   "outputs": [],
   "source": [
    "pressor_dict = {}\n",
    "for duration_table in duration_tables:\n",
    "    sql_query_text = \\\n",
    "    \"SELECT * FROM \" + duration_table + \";\"\n",
    "\n",
    "    pressor_df = pd.read_sql_query(sql_query_text, engine)\n",
    "    pressor_df['pressor'] = duration_table\n",
    "    \n",
    "    pressor_dict[duration_table] = pressor_df"
   ]
  },
  {
   "cell_type": "code",
   "execution_count": 79,
   "metadata": {},
   "outputs": [
    {
     "name": "stderr",
     "output_type": "stream",
     "text": [
      "/usr/local/lib/python3.7/site-packages/ipykernel_launcher.py:1: FutureWarning: Sorting because non-concatenation axis is not aligned. A future version\n",
      "of pandas will change to not sort by default.\n",
      "\n",
      "To accept the future behavior, pass 'sort=False'.\n",
      "\n",
      "To retain the current behavior and silence the warning, pass 'sort=True'.\n",
      "\n",
      "  \"\"\"Entry point for launching an IPython kernel.\n"
     ]
    }
   ],
   "source": [
    "pressor_total_df = pd.concat(pressor_dict, axis = 0)"
   ]
  },
  {
   "cell_type": "code",
   "execution_count": 84,
   "metadata": {},
   "outputs": [],
   "source": [
    "pressor_total_df.reset_index().to_csv(os.path.join(save_dir, \"pressors.csv\"))"
   ]
  },
  {
   "cell_type": "code",
   "execution_count": null,
   "metadata": {},
   "outputs": [],
   "source": []
  }
 ],
 "metadata": {
  "kernelspec": {
   "display_name": "Python 3",
   "language": "python",
   "name": "python3"
  },
  "language_info": {
   "codemirror_mode": {
    "name": "ipython",
    "version": 3
   },
   "file_extension": ".py",
   "mimetype": "text/x-python",
   "name": "python",
   "nbconvert_exporter": "python",
   "pygments_lexer": "ipython3",
   "version": "3.7.3"
  }
 },
 "nbformat": 4,
 "nbformat_minor": 2
}
