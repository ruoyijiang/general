{
 "cells": [
  {
   "cell_type": "markdown",
   "metadata": {},
   "source": [
    "# Pressor Distributions\n",
    "- Ruoyi Jiang\n",
    "- July 19, 2019\n",
    "- Evaluation of the different pressor combinations used in MIMIC"
   ]
  },
  {
   "cell_type": "code",
   "execution_count": 611,
   "metadata": {},
   "outputs": [],
   "source": [
    "library(dplyr)\n",
    "library(tidyr)\n",
    "library(ggplot2)\n",
    "library(fasttime)\n",
    "library(epitools)"
   ]
  },
  {
   "cell_type": "markdown",
   "metadata": {},
   "source": [
    "Filtering criteria:\n",
    "- Groupby continuous courses (<24 hour intervals between pressors not considered separate)\n",
    "- Exclude those on pressors within 1 hr of hospital\n",
    "- First pressor course"
   ]
  },
  {
   "cell_type": "code",
   "execution_count": 348,
   "metadata": {},
   "outputs": [],
   "source": [
    "pressors_df <- read.csv('~/Projects/Haimovich_Pressors/collection/out/pressors.csv')"
   ]
  },
  {
   "cell_type": "code",
   "execution_count": 327,
   "metadata": {},
   "outputs": [
    {
     "data": {
      "text/html": [
       "<ol class=list-inline>\n",
       "\t<li>227645</li>\n",
       "\t<li>11</li>\n",
       "</ol>\n"
      ],
      "text/latex": [
       "\\begin{enumerate*}\n",
       "\\item 227645\n",
       "\\item 11\n",
       "\\end{enumerate*}\n"
      ],
      "text/markdown": [
       "1. 227645\n",
       "2. 11\n",
       "\n",
       "\n"
      ],
      "text/plain": [
       "[1] 227645     11"
      ]
     },
     "metadata": {},
     "output_type": "display_data"
    }
   ],
   "source": [
    "dim(pressors_df)"
   ]
  },
  {
   "cell_type": "code",
   "execution_count": 328,
   "metadata": {},
   "outputs": [
    {
     "data": {
      "text/html": [
       "<table>\n",
       "<caption>A data.frame: 6 × 11</caption>\n",
       "<thead>\n",
       "\t<tr><th scope=col>X</th><th scope=col>level_0</th><th scope=col>level_1</th><th scope=col>duration_hours</th><th scope=col>endtime</th><th scope=col>icustay_id</th><th scope=col>num</th><th scope=col>pressor</th><th scope=col>starttime</th><th scope=col>vasonum</th><th scope=col>ventnum</th></tr>\n",
       "\t<tr><th scope=col>&lt;int&gt;</th><th scope=col>&lt;fct&gt;</th><th scope=col>&lt;int&gt;</th><th scope=col>&lt;dbl&gt;</th><th scope=col>&lt;fct&gt;</th><th scope=col>&lt;dbl&gt;</th><th scope=col>&lt;dbl&gt;</th><th scope=col>&lt;fct&gt;</th><th scope=col>&lt;fct&gt;</th><th scope=col>&lt;dbl&gt;</th><th scope=col>&lt;dbl&gt;</th></tr>\n",
       "</thead>\n",
       "<tbody>\n",
       "\t<tr><td>30584</td><td>central_line_durations</td><td>0</td><td> 70.91667</td><td>2181-11-28 20:59:00</td><td>200001</td><td>NA</td><td>central_line_durations</td><td>2181-11-25 22:04:00</td><td>NA</td><td>NA</td></tr>\n",
       "\t<tr><td>30585</td><td>central_line_durations</td><td>1</td><td>134.00000</td><td>2199-08-08 15:00:00</td><td>200003</td><td>NA</td><td>central_line_durations</td><td>2199-08-03 01:00:00</td><td>NA</td><td>NA</td></tr>\n",
       "\t<tr><td>30586</td><td>central_line_durations</td><td>2</td><td> 37.75000</td><td>2189-12-02 08:00:00</td><td>200009</td><td>NA</td><td>central_line_durations</td><td>2189-11-30 18:15:00</td><td>NA</td><td>NA</td></tr>\n",
       "\t<tr><td>30587</td><td>central_line_durations</td><td>3</td><td> 19.68333</td><td>2132-08-05 20:36:00</td><td>200010</td><td>NA</td><td>central_line_durations</td><td>2132-08-05 00:55:00</td><td>NA</td><td>NA</td></tr>\n",
       "\t<tr><td>30588</td><td>central_line_durations</td><td>4</td><td> 23.76667</td><td>2114-12-27 22:46:00</td><td>200021</td><td>NA</td><td>central_line_durations</td><td>2114-12-26 23:00:00</td><td>NA</td><td>NA</td></tr>\n",
       "\t<tr><td>30589</td><td>central_line_durations</td><td>5</td><td>  9.30000</td><td>2127-03-04 01:18:00</td><td>200024</td><td>NA</td><td>central_line_durations</td><td>2127-03-03 16:00:00</td><td>NA</td><td>NA</td></tr>\n",
       "</tbody>\n",
       "</table>\n"
      ],
      "text/latex": [
       "A data.frame: 6 × 11\n",
       "\\begin{tabular}{r|lllllllllll}\n",
       " X & level\\_0 & level\\_1 & duration\\_hours & endtime & icustay\\_id & num & pressor & starttime & vasonum & ventnum\\\\\n",
       " <int> & <fct> & <int> & <dbl> & <fct> & <dbl> & <dbl> & <fct> & <fct> & <dbl> & <dbl>\\\\\n",
       "\\hline\n",
       "\t 30584 & central\\_line\\_durations & 0 &  70.91667 & 2181-11-28 20:59:00 & 200001 & NA & central\\_line\\_durations & 2181-11-25 22:04:00 & NA & NA\\\\\n",
       "\t 30585 & central\\_line\\_durations & 1 & 134.00000 & 2199-08-08 15:00:00 & 200003 & NA & central\\_line\\_durations & 2199-08-03 01:00:00 & NA & NA\\\\\n",
       "\t 30586 & central\\_line\\_durations & 2 &  37.75000 & 2189-12-02 08:00:00 & 200009 & NA & central\\_line\\_durations & 2189-11-30 18:15:00 & NA & NA\\\\\n",
       "\t 30587 & central\\_line\\_durations & 3 &  19.68333 & 2132-08-05 20:36:00 & 200010 & NA & central\\_line\\_durations & 2132-08-05 00:55:00 & NA & NA\\\\\n",
       "\t 30588 & central\\_line\\_durations & 4 &  23.76667 & 2114-12-27 22:46:00 & 200021 & NA & central\\_line\\_durations & 2114-12-26 23:00:00 & NA & NA\\\\\n",
       "\t 30589 & central\\_line\\_durations & 5 &   9.30000 & 2127-03-04 01:18:00 & 200024 & NA & central\\_line\\_durations & 2127-03-03 16:00:00 & NA & NA\\\\\n",
       "\\end{tabular}\n"
      ],
      "text/markdown": [
       "\n",
       "A data.frame: 6 × 11\n",
       "\n",
       "| X &lt;int&gt; | level_0 &lt;fct&gt; | level_1 &lt;int&gt; | duration_hours &lt;dbl&gt; | endtime &lt;fct&gt; | icustay_id &lt;dbl&gt; | num &lt;dbl&gt; | pressor &lt;fct&gt; | starttime &lt;fct&gt; | vasonum &lt;dbl&gt; | ventnum &lt;dbl&gt; |\n",
       "|---|---|---|---|---|---|---|---|---|---|---|\n",
       "| 30584 | central_line_durations | 0 |  70.91667 | 2181-11-28 20:59:00 | 200001 | NA | central_line_durations | 2181-11-25 22:04:00 | NA | NA |\n",
       "| 30585 | central_line_durations | 1 | 134.00000 | 2199-08-08 15:00:00 | 200003 | NA | central_line_durations | 2199-08-03 01:00:00 | NA | NA |\n",
       "| 30586 | central_line_durations | 2 |  37.75000 | 2189-12-02 08:00:00 | 200009 | NA | central_line_durations | 2189-11-30 18:15:00 | NA | NA |\n",
       "| 30587 | central_line_durations | 3 |  19.68333 | 2132-08-05 20:36:00 | 200010 | NA | central_line_durations | 2132-08-05 00:55:00 | NA | NA |\n",
       "| 30588 | central_line_durations | 4 |  23.76667 | 2114-12-27 22:46:00 | 200021 | NA | central_line_durations | 2114-12-26 23:00:00 | NA | NA |\n",
       "| 30589 | central_line_durations | 5 |   9.30000 | 2127-03-04 01:18:00 | 200024 | NA | central_line_durations | 2127-03-03 16:00:00 | NA | NA |\n",
       "\n"
      ],
      "text/plain": [
       "  X     level_0                level_1 duration_hours endtime            \n",
       "1 30584 central_line_durations 0        70.91667      2181-11-28 20:59:00\n",
       "2 30585 central_line_durations 1       134.00000      2199-08-08 15:00:00\n",
       "3 30586 central_line_durations 2        37.75000      2189-12-02 08:00:00\n",
       "4 30587 central_line_durations 3        19.68333      2132-08-05 20:36:00\n",
       "5 30588 central_line_durations 4        23.76667      2114-12-27 22:46:00\n",
       "6 30589 central_line_durations 5         9.30000      2127-03-04 01:18:00\n",
       "  icustay_id num pressor                starttime           vasonum ventnum\n",
       "1 200001     NA  central_line_durations 2181-11-25 22:04:00 NA      NA     \n",
       "2 200003     NA  central_line_durations 2199-08-03 01:00:00 NA      NA     \n",
       "3 200009     NA  central_line_durations 2189-11-30 18:15:00 NA      NA     \n",
       "4 200010     NA  central_line_durations 2132-08-05 00:55:00 NA      NA     \n",
       "5 200021     NA  central_line_durations 2114-12-26 23:00:00 NA      NA     \n",
       "6 200024     NA  central_line_durations 2127-03-03 16:00:00 NA      NA     "
      ]
     },
     "metadata": {},
     "output_type": "display_data"
    }
   ],
   "source": [
    "pressors_df %>%\n",
    "    filter(pressor == \"central_line_durations\") %>% head()"
   ]
  },
  {
   "cell_type": "code",
   "execution_count": 329,
   "metadata": {},
   "outputs": [
    {
     "data": {
      "text/html": [
       "<table>\n",
       "<caption>A tibble: 2 × 2</caption>\n",
       "<thead>\n",
       "\t<tr><th scope=col>SHORT</th><th scope=col>COUNT</th></tr>\n",
       "\t<tr><th scope=col>&lt;lgl&gt;</th><th scope=col>&lt;int&gt;</th></tr>\n",
       "</thead>\n",
       "<tbody>\n",
       "\t<tr><td>FALSE</td><td> 3407</td></tr>\n",
       "\t<tr><td> TRUE</td><td>19781</td></tr>\n",
       "</tbody>\n",
       "</table>\n"
      ],
      "text/latex": [
       "A tibble: 2 × 2\n",
       "\\begin{tabular}{r|ll}\n",
       " SHORT & COUNT\\\\\n",
       " <lgl> & <int>\\\\\n",
       "\\hline\n",
       "\t FALSE &  3407\\\\\n",
       "\t  TRUE & 19781\\\\\n",
       "\\end{tabular}\n"
      ],
      "text/markdown": [
       "\n",
       "A tibble: 2 × 2\n",
       "\n",
       "| SHORT &lt;lgl&gt; | COUNT &lt;int&gt; |\n",
       "|---|---|\n",
       "| FALSE |  3407 |\n",
       "|  TRUE | 19781 |\n",
       "\n"
      ],
      "text/plain": [
       "  SHORT COUNT\n",
       "1 FALSE  3407\n",
       "2  TRUE 19781"
      ]
     },
     "metadata": {},
     "output_type": "display_data"
    }
   ],
   "source": [
    "pressors_df %>%\n",
    "    filter(pressor == 'norepinephrinedurations')  %>%\n",
    "    mutate(SHORT = duration_hours < 24) %>%\n",
    "    group_by(SHORT) %>% \n",
    "    summarize(COUNT = n())"
   ]
  },
  {
   "cell_type": "markdown",
   "metadata": {},
   "source": [
    "### Available pressor (and other infusions) choices"
   ]
  },
  {
   "cell_type": "code",
   "execution_count": 227,
   "metadata": {},
   "outputs": [
    {
     "data": {
      "text/html": [
       "<ol class=list-inline>\n",
       "\t<li>adenosinedurations</li>\n",
       "\t<li>arterial_line_durations</li>\n",
       "\t<li>central_line_durations</li>\n",
       "\t<li>crrtdurations</li>\n",
       "\t<li>dobutaminedurations</li>\n",
       "\t<li>dopaminedurations</li>\n",
       "\t<li>epinephrinedurations</li>\n",
       "\t<li>isupreldurations</li>\n",
       "\t<li>milrinonedurations</li>\n",
       "\t<li>norepinephrinedurations</li>\n",
       "\t<li>phenylephrinedurations</li>\n",
       "\t<li>vasopressindurations</li>\n",
       "\t<li>vasopressordurations</li>\n",
       "\t<li>ventdurations</li>\n",
       "</ol>\n",
       "\n",
       "<details>\n",
       "\t<summary style=display:list-item;cursor:pointer>\n",
       "\t\t<strong>Levels</strong>:\n",
       "\t</summary>\n",
       "\t<ol class=list-inline>\n",
       "\t\t<li>'adenosinedurations'</li>\n",
       "\t\t<li>'arterial_line_durations'</li>\n",
       "\t\t<li>'central_line_durations'</li>\n",
       "\t\t<li>'crrtdurations'</li>\n",
       "\t\t<li>'dobutaminedurations'</li>\n",
       "\t\t<li>'dopaminedurations'</li>\n",
       "\t\t<li>'epinephrinedurations'</li>\n",
       "\t\t<li>'isupreldurations'</li>\n",
       "\t\t<li>'milrinonedurations'</li>\n",
       "\t\t<li>'norepinephrinedurations'</li>\n",
       "\t\t<li>'phenylephrinedurations'</li>\n",
       "\t\t<li>'vasopressindurations'</li>\n",
       "\t\t<li>'vasopressordurations'</li>\n",
       "\t\t<li>'ventdurations'</li>\n",
       "\t</ol>\n",
       "</details>"
      ],
      "text/latex": [
       "\\begin{enumerate*}\n",
       "\\item adenosinedurations\n",
       "\\item arterial\\_line\\_durations\n",
       "\\item central\\_line\\_durations\n",
       "\\item crrtdurations\n",
       "\\item dobutaminedurations\n",
       "\\item dopaminedurations\n",
       "\\item epinephrinedurations\n",
       "\\item isupreldurations\n",
       "\\item milrinonedurations\n",
       "\\item norepinephrinedurations\n",
       "\\item phenylephrinedurations\n",
       "\\item vasopressindurations\n",
       "\\item vasopressordurations\n",
       "\\item ventdurations\n",
       "\\end{enumerate*}\n",
       "\n",
       "\\emph{Levels}: \\begin{enumerate*}\n",
       "\\item 'adenosinedurations'\n",
       "\\item 'arterial\\_line\\_durations'\n",
       "\\item 'central\\_line\\_durations'\n",
       "\\item 'crrtdurations'\n",
       "\\item 'dobutaminedurations'\n",
       "\\item 'dopaminedurations'\n",
       "\\item 'epinephrinedurations'\n",
       "\\item 'isupreldurations'\n",
       "\\item 'milrinonedurations'\n",
       "\\item 'norepinephrinedurations'\n",
       "\\item 'phenylephrinedurations'\n",
       "\\item 'vasopressindurations'\n",
       "\\item 'vasopressordurations'\n",
       "\\item 'ventdurations'\n",
       "\\end{enumerate*}\n"
      ],
      "text/markdown": [
       "1. adenosinedurations\n",
       "2. arterial_line_durations\n",
       "3. central_line_durations\n",
       "4. crrtdurations\n",
       "5. dobutaminedurations\n",
       "6. dopaminedurations\n",
       "7. epinephrinedurations\n",
       "8. isupreldurations\n",
       "9. milrinonedurations\n",
       "10. norepinephrinedurations\n",
       "11. phenylephrinedurations\n",
       "12. vasopressindurations\n",
       "13. vasopressordurations\n",
       "14. ventdurations\n",
       "\n",
       "\n",
       "\n",
       "**Levels**: 1. 'adenosinedurations'\n",
       "2. 'arterial_line_durations'\n",
       "3. 'central_line_durations'\n",
       "4. 'crrtdurations'\n",
       "5. 'dobutaminedurations'\n",
       "6. 'dopaminedurations'\n",
       "7. 'epinephrinedurations'\n",
       "8. 'isupreldurations'\n",
       "9. 'milrinonedurations'\n",
       "10. 'norepinephrinedurations'\n",
       "11. 'phenylephrinedurations'\n",
       "12. 'vasopressindurations'\n",
       "13. 'vasopressordurations'\n",
       "14. 'ventdurations'\n",
       "\n",
       "\n"
      ],
      "text/plain": [
       " [1] adenosinedurations      arterial_line_durations central_line_durations \n",
       " [4] crrtdurations           dobutaminedurations     dopaminedurations      \n",
       " [7] epinephrinedurations    isupreldurations        milrinonedurations     \n",
       "[10] norepinephrinedurations phenylephrinedurations  vasopressindurations   \n",
       "[13] vasopressordurations    ventdurations          \n",
       "14 Levels: adenosinedurations ... ventdurations"
      ]
     },
     "metadata": {},
     "output_type": "display_data"
    }
   ],
   "source": [
    "unique(pressors_df$pressor)"
   ]
  },
  {
   "cell_type": "markdown",
   "metadata": {},
   "source": [
    "# Histograms of pressor durations for norepi"
   ]
  },
  {
   "cell_type": "code",
   "execution_count": 15,
   "metadata": {},
   "outputs": [
    {
     "name": "stderr",
     "output_type": "stream",
     "text": [
      "Don't know how to automatically pick scale for object of type difftime. Defaulting to continuous.\n",
      "`stat_bin()` using `bins = 30`. Pick better value with `binwidth`.\n",
      "Warning message:\n",
      "“Removed 496 rows containing non-finite values (stat_bin).”Warning message:\n",
      "“Removed 496 rows containing non-finite values (stat_density).”"
     ]
    },
    {
     "data": {
      "image/png": "[encoded data removed]",
      "text/plain": [
       "plot without title"
      ]
     },
     "metadata": {},
     "output_type": "display_data"
    }
   ],
   "source": [
    "options(repr.plot.width=3, repr.plot.height=3)\n",
    "pressors_df %>%\n",
    "    filter('norepinephrinedurations' == pressor) %>%\n",
    "    mutate(DIFF = \n",
    "              difftime(fastPOSIXct(endtime), \n",
    "               fastPOSIXct(starttime), units=\"hours\")) %>%\n",
    "    ggplot(aes(x=DIFF)) +\n",
    "        geom_histogram(aes(y=..density..), position=\"identity\", alpha=0.5)+\n",
    "        geom_density(alpha=0.6)+\n",
    "        scale_color_manual(values=c(\"#999999\", \"#E69F00\", \"#56B4E9\"))+\n",
    "        scale_fill_manual(values=c(\"#999999\", \"#E69F00\", \"#56B4E9\"))+\n",
    "        labs(title=\"Histogram\",x=\"Hours\", y = \"Density\")+\n",
    "        theme_classic()"
   ]
  },
  {
   "cell_type": "code",
   "execution_count": 16,
   "metadata": {},
   "outputs": [
    {
     "name": "stderr",
     "output_type": "stream",
     "text": [
      "Don't know how to automatically pick scale for object of type difftime. Defaulting to continuous.\n",
      "`stat_bin()` using `bins = 30`. Pick better value with `binwidth`.\n"
     ]
    },
    {
     "data": {
      "image/png": "[encoded data removed]",
      "text/plain": [
       "plot without title"
      ]
     },
     "metadata": {},
     "output_type": "display_data"
    }
   ],
   "source": [
    "options(repr.plot.width=3, repr.plot.height=3)\n",
    "pressors_df %>%\n",
    "    filter('norepinephrinedurations' == pressor) %>%\n",
    "    mutate(DIFF = \n",
    "              difftime(fastPOSIXct(endtime), \n",
    "               fastPOSIXct(starttime), units=\"hours\")) %>%\n",
    "    filter(DIFF < 48) %>%\n",
    "    ggplot(aes(x=DIFF)) +\n",
    "        geom_histogram(aes(y=..density..), position=\"identity\", alpha=0.5)+\n",
    "        geom_density(alpha=0.6)+\n",
    "        scale_color_manual(values=c(\"#999999\", \"#E69F00\", \"#56B4E9\"))+\n",
    "        scale_fill_manual(values=c(\"#999999\", \"#E69F00\", \"#56B4E9\"))+\n",
    "        labs(title=\"Histogram\",x=\"Hours\", y = \"Density\")+\n",
    "        theme_classic()"
   ]
  },
  {
   "cell_type": "markdown",
   "metadata": {},
   "source": [
    "### Join with icustay metadata"
   ]
  },
  {
   "cell_type": "code",
   "execution_count": 349,
   "metadata": {},
   "outputs": [],
   "source": [
    "lengthstay_df <- read.csv('~/Projects/Haimovich_Pressors/collection/out/length_stay.csv') %>%\n",
    "    rename(icustarttime = START, icuendtime = END)"
   ]
  },
  {
   "cell_type": "code",
   "execution_count": 350,
   "metadata": {},
   "outputs": [
    {
     "data": {
      "text/html": [
       "<table>\n",
       "<caption>A data.frame: 6 × 5</caption>\n",
       "<thead>\n",
       "\t<tr><th scope=col>X</th><th scope=col>icustay_id</th><th scope=col>icustarttime</th><th scope=col>icuendtime</th><th scope=col>DIFF</th></tr>\n",
       "\t<tr><th scope=col>&lt;int&gt;</th><th scope=col>&lt;int&gt;</th><th scope=col>&lt;fct&gt;</th><th scope=col>&lt;fct&gt;</th><th scope=col>&lt;dbl&gt;</th></tr>\n",
       "</thead>\n",
       "<tbody>\n",
       "\t<tr><td>1</td><td>200001</td><td>2181-11-25 19:06:00</td><td>2181-11-28 20:00:00</td><td> 72.90000</td></tr>\n",
       "\t<tr><td>2</td><td>200003</td><td>2199-08-02 19:15:00</td><td>2199-08-08 15:00:00</td><td>139.75000</td></tr>\n",
       "\t<tr><td>3</td><td>200006</td><td>2159-09-03 12:30:00</td><td>2159-09-04 17:00:00</td><td> 28.50000</td></tr>\n",
       "\t<tr><td>4</td><td>200007</td><td>2109-02-17 09:00:00</td><td>2109-02-18 09:15:00</td><td> 24.25000</td></tr>\n",
       "\t<tr><td>5</td><td>200009</td><td>2189-11-30 11:43:00</td><td>2189-12-02 13:00:00</td><td> 49.28333</td></tr>\n",
       "\t<tr><td>6</td><td>200010</td><td>2132-08-05 00:39:00</td><td>2132-08-05 21:17:00</td><td> 20.63333</td></tr>\n",
       "</tbody>\n",
       "</table>\n"
      ],
      "text/latex": [
       "A data.frame: 6 × 5\n",
       "\\begin{tabular}{r|lllll}\n",
       " X & icustay\\_id & icustarttime & icuendtime & DIFF\\\\\n",
       " <int> & <int> & <fct> & <fct> & <dbl>\\\\\n",
       "\\hline\n",
       "\t 1 & 200001 & 2181-11-25 19:06:00 & 2181-11-28 20:00:00 &  72.90000\\\\\n",
       "\t 2 & 200003 & 2199-08-02 19:15:00 & 2199-08-08 15:00:00 & 139.75000\\\\\n",
       "\t 3 & 200006 & 2159-09-03 12:30:00 & 2159-09-04 17:00:00 &  28.50000\\\\\n",
       "\t 4 & 200007 & 2109-02-17 09:00:00 & 2109-02-18 09:15:00 &  24.25000\\\\\n",
       "\t 5 & 200009 & 2189-11-30 11:43:00 & 2189-12-02 13:00:00 &  49.28333\\\\\n",
       "\t 6 & 200010 & 2132-08-05 00:39:00 & 2132-08-05 21:17:00 &  20.63333\\\\\n",
       "\\end{tabular}\n"
      ],
      "text/markdown": [
       "\n",
       "A data.frame: 6 × 5\n",
       "\n",
       "| X &lt;int&gt; | icustay_id &lt;int&gt; | icustarttime &lt;fct&gt; | icuendtime &lt;fct&gt; | DIFF &lt;dbl&gt; |\n",
       "|---|---|---|---|---|\n",
       "| 1 | 200001 | 2181-11-25 19:06:00 | 2181-11-28 20:00:00 |  72.90000 |\n",
       "| 2 | 200003 | 2199-08-02 19:15:00 | 2199-08-08 15:00:00 | 139.75000 |\n",
       "| 3 | 200006 | 2159-09-03 12:30:00 | 2159-09-04 17:00:00 |  28.50000 |\n",
       "| 4 | 200007 | 2109-02-17 09:00:00 | 2109-02-18 09:15:00 |  24.25000 |\n",
       "| 5 | 200009 | 2189-11-30 11:43:00 | 2189-12-02 13:00:00 |  49.28333 |\n",
       "| 6 | 200010 | 2132-08-05 00:39:00 | 2132-08-05 21:17:00 |  20.63333 |\n",
       "\n"
      ],
      "text/plain": [
       "  X icustay_id icustarttime        icuendtime          DIFF     \n",
       "1 1 200001     2181-11-25 19:06:00 2181-11-28 20:00:00  72.90000\n",
       "2 2 200003     2199-08-02 19:15:00 2199-08-08 15:00:00 139.75000\n",
       "3 3 200006     2159-09-03 12:30:00 2159-09-04 17:00:00  28.50000\n",
       "4 4 200007     2109-02-17 09:00:00 2109-02-18 09:15:00  24.25000\n",
       "5 5 200009     2189-11-30 11:43:00 2189-12-02 13:00:00  49.28333\n",
       "6 6 200010     2132-08-05 00:39:00 2132-08-05 21:17:00  20.63333"
      ]
     },
     "metadata": {},
     "output_type": "display_data"
    }
   ],
   "source": [
    "lengthstay_df %>% head()"
   ]
  },
  {
   "cell_type": "code",
   "execution_count": 452,
   "metadata": {},
   "outputs": [],
   "source": [
    "# filter by pressor and left join with lengthstay_df\n",
    "input_df <- pressors_df %>%\n",
    "    filter('norepinephrinedurations' == pressor) %>%\n",
    "    left_join(lengthstay_df, by = \"icustay_id\") %>%\n",
    "    mutate(starttime = fastPOSIXct(starttime), endtime = fastPOSIXct(endtime), \n",
    "           icustarttime = fastPOSIXct(icustarttime), icuendtime = fastPOSIXct(icuendtime))"
   ]
  },
  {
   "cell_type": "markdown",
   "metadata": {},
   "source": [
    "# Analyze Filters (7/31/19)"
   ]
  },
  {
   "cell_type": "markdown",
   "metadata": {},
   "source": [
    "#### Collapse pressor courses based on length of intervening time (<24 hrs)\n",
    "- Any two courses with less than intervening 24 hours will be collapsed into a single course within an icustay"
   ]
  },
  {
   "cell_type": "code",
   "execution_count": 453,
   "metadata": {},
   "outputs": [],
   "source": [
    "max_intervening_hrs <- 24\n",
    "\n",
    "# find the intervening time between courses (endtime of next course - endtime of course - duration of course)\n",
    "# then determine if that length of time is >24 or <24 and mark it with a 0 if true, else a 1\n",
    "# use a cumsum to create a new id separating courses that are separated by more than >24\n",
    "input_df <- input_df %>%\n",
    "    group_by(icustay_id) %>%\n",
    "    mutate(intervening_hours = difftime(endtime, lag(endtime), units=\"hours\") - duration_hours) %>%\n",
    "    rowwise() %>%\n",
    "    mutate(increasing = if(intervening_hours < max_intervening_hrs | is.na(intervening_hours)){0}else(1)) %>%\n",
    "    ungroup() %>%\n",
    "    group_by(icustay_id) %>%\n",
    "    mutate(continuous_course = cumsum(increasing)) %>% select(-intervening_hours, -increasing)"
   ]
  },
  {
   "cell_type": "code",
   "execution_count": 454,
   "metadata": {},
   "outputs": [],
   "source": [
    "# input_df %>%\n",
    "#     filter(icustay_id %in% c(299386, 299415, 200206)) %>%\n",
    "#     mutate(intervening_hours = difftime(endtime, lag(endtime), units=\"hours\") - duration_hours) %>%\n",
    "#     rowwise() %>%\n",
    "#     mutate(increasing = if(intervening_hours < max_intervening_hrs | is.na(intervening_hours)){0}else(1)) %>%\n",
    "#     ungroup() %>%\n",
    "#     group_by(icustay_id) %>%\n",
    "#     mutate(continuous_course = cumsum(increasing))"
   ]
  },
  {
   "cell_type": "markdown",
   "metadata": {},
   "source": [
    "- the combination of **continuous course** and **icustay_id** (e.g. 200024, 0 for first row) now defines each pressor course"
   ]
  },
  {
   "cell_type": "markdown",
   "metadata": {},
   "source": [
    "- assign boolean assessments after <24 hour intervals between pressors are removed\n",
    "    1. more or less than 24 hours of pressor duration?\n",
    "    2. is this the first pressor course?\n",
    "    3. are pressors administered <1 hr of the icustay?"
   ]
  },
  {
   "cell_type": "code",
   "execution_count": 455,
   "metadata": {},
   "outputs": [],
   "source": [
    "# 1. more or less than 24 hours?\n",
    "input_df <- input_df %>%\n",
    "    group_by(icustay_id, continuous_course) %>%\n",
    "    mutate(MORETHAN24HOURS = sum(duration_hours) > 24)"
   ]
  },
  {
   "cell_type": "code",
   "execution_count": 456,
   "metadata": {},
   "outputs": [],
   "source": [
    "# 2. first pressor course? (groupby icustay, filter min starttime == starttime)\n",
    "input_df <- input_df %>%\n",
    "    group_by(icustay_id, continuous_course) %>%\n",
    "    mutate(coursestarttime = min(starttime)) %>%\n",
    "    group_by(icustay_id) %>%\n",
    "    mutate(FIRSTCOURSE = min(coursestarttime) == coursestarttime)"
   ]
  },
  {
   "cell_type": "code",
   "execution_count": 457,
   "metadata": {},
   "outputs": [],
   "source": [
    "# 3. pressors within 1 hr of icustay_id? (groupby icustay, filter max starttime - unique icustarttime > 1)\n",
    "input_df <- input_df %>%\n",
    "    group_by(icustay_id, continuous_course) %>%\n",
    "    mutate(coursestarttime = min(starttime)) %>%\n",
    "    group_by(icustay_id) %>%\n",
    "    mutate(LESS1HOUR = difftime(min(coursestarttime), \n",
    "                         min(icustarttime)) < 1)"
   ]
  },
  {
   "cell_type": "code",
   "execution_count": 458,
   "metadata": {},
   "outputs": [
    {
     "data": {
      "text/html": [
       "<table>\n",
       "<caption>A grouped_df: 14 × 4</caption>\n",
       "<thead>\n",
       "\t<tr><th scope=col>LESS1HOUR</th><th scope=col>FIRSTCOURSE</th><th scope=col>MORETHAN24HOURS</th><th scope=col>COUNT</th></tr>\n",
       "\t<tr><th scope=col>&lt;lgl&gt;</th><th scope=col>&lt;lgl&gt;</th><th scope=col>&lt;lgl&gt;</th><th scope=col>&lt;int&gt;</th></tr>\n",
       "</thead>\n",
       "<tbody>\n",
       "\t<tr><td>FALSE</td><td>FALSE</td><td>FALSE</td><td>  876</td></tr>\n",
       "\t<tr><td>FALSE</td><td>FALSE</td><td> TRUE</td><td> 2077</td></tr>\n",
       "\t<tr><td>FALSE</td><td> TRUE</td><td>FALSE</td><td> 5357</td></tr>\n",
       "\t<tr><td>FALSE</td><td> TRUE</td><td> TRUE</td><td>12605</td></tr>\n",
       "\t<tr><td> TRUE</td><td>FALSE</td><td>FALSE</td><td>   35</td></tr>\n",
       "\t<tr><td> TRUE</td><td>FALSE</td><td> TRUE</td><td>   69</td></tr>\n",
       "\t<tr><td> TRUE</td><td> TRUE</td><td>FALSE</td><td>  356</td></tr>\n",
       "\t<tr><td> TRUE</td><td> TRUE</td><td> TRUE</td><td>  455</td></tr>\n",
       "\t<tr><td>   NA</td><td>FALSE</td><td>FALSE</td><td>   65</td></tr>\n",
       "\t<tr><td>   NA</td><td>FALSE</td><td> TRUE</td><td>  155</td></tr>\n",
       "\t<tr><td>   NA</td><td> TRUE</td><td>FALSE</td><td>   92</td></tr>\n",
       "\t<tr><td>   NA</td><td> TRUE</td><td> TRUE</td><td>  550</td></tr>\n",
       "\t<tr><td>   NA</td><td>   NA</td><td>FALSE</td><td>  113</td></tr>\n",
       "\t<tr><td>   NA</td><td>   NA</td><td> TRUE</td><td>  383</td></tr>\n",
       "</tbody>\n",
       "</table>\n"
      ],
      "text/latex": [
       "A grouped_df: 14 × 4\n",
       "\\begin{tabular}{r|llll}\n",
       " LESS1HOUR & FIRSTCOURSE & MORETHAN24HOURS & COUNT\\\\\n",
       " <lgl> & <lgl> & <lgl> & <int>\\\\\n",
       "\\hline\n",
       "\t FALSE & FALSE & FALSE &   876\\\\\n",
       "\t FALSE & FALSE &  TRUE &  2077\\\\\n",
       "\t FALSE &  TRUE & FALSE &  5357\\\\\n",
       "\t FALSE &  TRUE &  TRUE & 12605\\\\\n",
       "\t  TRUE & FALSE & FALSE &    35\\\\\n",
       "\t  TRUE & FALSE &  TRUE &    69\\\\\n",
       "\t  TRUE &  TRUE & FALSE &   356\\\\\n",
       "\t  TRUE &  TRUE &  TRUE &   455\\\\\n",
       "\t    NA & FALSE & FALSE &    65\\\\\n",
       "\t    NA & FALSE &  TRUE &   155\\\\\n",
       "\t    NA &  TRUE & FALSE &    92\\\\\n",
       "\t    NA &  TRUE &  TRUE &   550\\\\\n",
       "\t    NA &    NA & FALSE &   113\\\\\n",
       "\t    NA &    NA &  TRUE &   383\\\\\n",
       "\\end{tabular}\n"
      ],
      "text/markdown": [
       "\n",
       "A grouped_df: 14 × 4\n",
       "\n",
       "| LESS1HOUR &lt;lgl&gt; | FIRSTCOURSE &lt;lgl&gt; | MORETHAN24HOURS &lt;lgl&gt; | COUNT &lt;int&gt; |\n",
       "|---|---|---|---|\n",
       "| FALSE | FALSE | FALSE |   876 |\n",
       "| FALSE | FALSE |  TRUE |  2077 |\n",
       "| FALSE |  TRUE | FALSE |  5357 |\n",
       "| FALSE |  TRUE |  TRUE | 12605 |\n",
       "|  TRUE | FALSE | FALSE |    35 |\n",
       "|  TRUE | FALSE |  TRUE |    69 |\n",
       "|  TRUE |  TRUE | FALSE |   356 |\n",
       "|  TRUE |  TRUE |  TRUE |   455 |\n",
       "|    NA | FALSE | FALSE |    65 |\n",
       "|    NA | FALSE |  TRUE |   155 |\n",
       "|    NA |  TRUE | FALSE |    92 |\n",
       "|    NA |  TRUE |  TRUE |   550 |\n",
       "|    NA |    NA | FALSE |   113 |\n",
       "|    NA |    NA |  TRUE |   383 |\n",
       "\n"
      ],
      "text/plain": [
       "   LESS1HOUR FIRSTCOURSE MORETHAN24HOURS COUNT\n",
       "1  FALSE     FALSE       FALSE             876\n",
       "2  FALSE     FALSE        TRUE            2077\n",
       "3  FALSE      TRUE       FALSE            5357\n",
       "4  FALSE      TRUE        TRUE           12605\n",
       "5   TRUE     FALSE       FALSE              35\n",
       "6   TRUE     FALSE        TRUE              69\n",
       "7   TRUE      TRUE       FALSE             356\n",
       "8   TRUE      TRUE        TRUE             455\n",
       "9     NA     FALSE       FALSE              65\n",
       "10    NA     FALSE        TRUE             155\n",
       "11    NA      TRUE       FALSE              92\n",
       "12    NA      TRUE        TRUE             550\n",
       "13    NA        NA       FALSE             113\n",
       "14    NA        NA        TRUE             383"
      ]
     },
     "metadata": {},
     "output_type": "display_data"
    }
   ],
   "source": [
    "# grouped by icustay_id + continuous_course + separate_course\n",
    "input_df %>%\n",
    "    group_by(LESS1HOUR, FIRSTCOURSE, MORETHAN24HOURS) %>%\n",
    "    summarize(COUNT = n())"
   ]
  },
  {
   "cell_type": "code",
   "execution_count": 459,
   "metadata": {},
   "outputs": [
    {
     "data": {
      "text/html": [
       "<table>\n",
       "<caption>A grouped_df: 14 × 4</caption>\n",
       "<thead>\n",
       "\t<tr><th scope=col>LESS1HOUR</th><th scope=col>FIRSTCOURSE</th><th scope=col>MORETHAN24HOURS</th><th scope=col>COUNT</th></tr>\n",
       "\t<tr><th scope=col>&lt;lgl&gt;</th><th scope=col>&lt;lgl&gt;</th><th scope=col>&lt;lgl&gt;</th><th scope=col>&lt;int&gt;</th></tr>\n",
       "</thead>\n",
       "<tbody>\n",
       "\t<tr><td>FALSE</td><td>FALSE</td><td>FALSE</td><td> 583</td></tr>\n",
       "\t<tr><td>FALSE</td><td>FALSE</td><td> TRUE</td><td> 489</td></tr>\n",
       "\t<tr><td>FALSE</td><td> TRUE</td><td>FALSE</td><td>3700</td></tr>\n",
       "\t<tr><td>FALSE</td><td> TRUE</td><td> TRUE</td><td>2918</td></tr>\n",
       "\t<tr><td> TRUE</td><td>FALSE</td><td>FALSE</td><td>  22</td></tr>\n",
       "\t<tr><td> TRUE</td><td>FALSE</td><td> TRUE</td><td>  12</td></tr>\n",
       "\t<tr><td> TRUE</td><td> TRUE</td><td>FALSE</td><td> 268</td></tr>\n",
       "\t<tr><td> TRUE</td><td> TRUE</td><td> TRUE</td><td> 135</td></tr>\n",
       "\t<tr><td>   NA</td><td>FALSE</td><td>FALSE</td><td>  44</td></tr>\n",
       "\t<tr><td>   NA</td><td>FALSE</td><td> TRUE</td><td>  45</td></tr>\n",
       "\t<tr><td>   NA</td><td> TRUE</td><td>FALSE</td><td>  69</td></tr>\n",
       "\t<tr><td>   NA</td><td> TRUE</td><td> TRUE</td><td>  95</td></tr>\n",
       "\t<tr><td>   NA</td><td>   NA</td><td>FALSE</td><td>  79</td></tr>\n",
       "\t<tr><td>   NA</td><td>   NA</td><td> TRUE</td><td>  67</td></tr>\n",
       "</tbody>\n",
       "</table>\n"
      ],
      "text/latex": [
       "A grouped_df: 14 × 4\n",
       "\\begin{tabular}{r|llll}\n",
       " LESS1HOUR & FIRSTCOURSE & MORETHAN24HOURS & COUNT\\\\\n",
       " <lgl> & <lgl> & <lgl> & <int>\\\\\n",
       "\\hline\n",
       "\t FALSE & FALSE & FALSE &  583\\\\\n",
       "\t FALSE & FALSE &  TRUE &  489\\\\\n",
       "\t FALSE &  TRUE & FALSE & 3700\\\\\n",
       "\t FALSE &  TRUE &  TRUE & 2918\\\\\n",
       "\t  TRUE & FALSE & FALSE &   22\\\\\n",
       "\t  TRUE & FALSE &  TRUE &   12\\\\\n",
       "\t  TRUE &  TRUE & FALSE &  268\\\\\n",
       "\t  TRUE &  TRUE &  TRUE &  135\\\\\n",
       "\t    NA & FALSE & FALSE &   44\\\\\n",
       "\t    NA & FALSE &  TRUE &   45\\\\\n",
       "\t    NA &  TRUE & FALSE &   69\\\\\n",
       "\t    NA &  TRUE &  TRUE &   95\\\\\n",
       "\t    NA &    NA & FALSE &   79\\\\\n",
       "\t    NA &    NA &  TRUE &   67\\\\\n",
       "\\end{tabular}\n"
      ],
      "text/markdown": [
       "\n",
       "A grouped_df: 14 × 4\n",
       "\n",
       "| LESS1HOUR &lt;lgl&gt; | FIRSTCOURSE &lt;lgl&gt; | MORETHAN24HOURS &lt;lgl&gt; | COUNT &lt;int&gt; |\n",
       "|---|---|---|---|\n",
       "| FALSE | FALSE | FALSE |  583 |\n",
       "| FALSE | FALSE |  TRUE |  489 |\n",
       "| FALSE |  TRUE | FALSE | 3700 |\n",
       "| FALSE |  TRUE |  TRUE | 2918 |\n",
       "|  TRUE | FALSE | FALSE |   22 |\n",
       "|  TRUE | FALSE |  TRUE |   12 |\n",
       "|  TRUE |  TRUE | FALSE |  268 |\n",
       "|  TRUE |  TRUE |  TRUE |  135 |\n",
       "|    NA | FALSE | FALSE |   44 |\n",
       "|    NA | FALSE |  TRUE |   45 |\n",
       "|    NA |  TRUE | FALSE |   69 |\n",
       "|    NA |  TRUE |  TRUE |   95 |\n",
       "|    NA |    NA | FALSE |   79 |\n",
       "|    NA |    NA |  TRUE |   67 |\n",
       "\n"
      ],
      "text/plain": [
       "   LESS1HOUR FIRSTCOURSE MORETHAN24HOURS COUNT\n",
       "1  FALSE     FALSE       FALSE            583 \n",
       "2  FALSE     FALSE        TRUE            489 \n",
       "3  FALSE      TRUE       FALSE           3700 \n",
       "4  FALSE      TRUE        TRUE           2918 \n",
       "5   TRUE     FALSE       FALSE             22 \n",
       "6   TRUE     FALSE        TRUE             12 \n",
       "7   TRUE      TRUE       FALSE            268 \n",
       "8   TRUE      TRUE        TRUE            135 \n",
       "9     NA     FALSE       FALSE             44 \n",
       "10    NA     FALSE        TRUE             45 \n",
       "11    NA      TRUE       FALSE             69 \n",
       "12    NA      TRUE        TRUE             95 \n",
       "13    NA        NA       FALSE             79 \n",
       "14    NA        NA        TRUE             67 "
      ]
     },
     "metadata": {},
     "output_type": "display_data"
    }
   ],
   "source": [
    "# With filters grouped by icustay_id + continuous_course\n",
    "input_df %>%\n",
    "    mutate(course_id = paste(icustay_id, continuous_course, sep = \",\")) %>%\n",
    "    group_by(LESS1HOUR, FIRSTCOURSE, MORETHAN24HOURS) %>%\n",
    "    summarize(COUNT = length(unique(course_id)))"
   ]
  },
  {
   "cell_type": "code",
   "execution_count": 285,
   "metadata": {},
   "outputs": [
    {
     "name": "stderr",
     "output_type": "stream",
     "text": [
      "`stat_bin()` using `bins = 30`. Pick better value with `binwidth`.\n",
      "Warning message:\n",
      "“Removed 2 rows containing missing values (geom_bar).”"
     ]
    },
    {
     "data": {
      "image/png": "[encoded data removed]",
      "text/plain": [
       "plot without title"
      ]
     },
     "metadata": {},
     "output_type": "display_data"
    }
   ],
   "source": [
    "options(repr.plot.width=3, repr.plot.height=3)\n",
    "input_df %>%\n",
    "    ggplot(aes(x=duration_hours)) +\n",
    "        geom_histogram(aes(y=..density..), position=\"identity\", alpha=0.5)+\n",
    "        geom_density(alpha=0.6)+\n",
    "        scale_color_manual(values=c(\"#999999\", \"#E69F00\", \"#56B4E9\"))+\n",
    "        scale_fill_manual(values=c(\"#999999\", \"#E69F00\", \"#56B4E9\"))+\n",
    "        labs(title=\"Histogram\",x=\"Hours\", y = \"Density\")+\n",
    "        theme_classic() + xlim(0, 900)"
   ]
  },
  {
   "cell_type": "code",
   "execution_count": 286,
   "metadata": {},
   "outputs": [
    {
     "name": "stderr",
     "output_type": "stream",
     "text": [
      "`stat_bin()` using `bins = 30`. Pick better value with `binwidth`.\n",
      "Warning message:\n",
      "“Removed 1 rows containing non-finite values (stat_bin).”Warning message:\n",
      "“Removed 1 rows containing non-finite values (stat_density).”Warning message:\n",
      "“Removed 2 rows containing missing values (geom_bar).”"
     ]
    },
    {
     "data": {
      "image/png": "[encoded data removed]",
      "text/plain": [
       "plot without title"
      ]
     },
     "metadata": {},
     "output_type": "display_data"
    }
   ],
   "source": [
    "options(repr.plot.width=3, repr.plot.height=3)\n",
    "input_df %>%\n",
    "    group_by(icustay_id, continuous_course) %>%\n",
    "    summarize(duration_hours = sum(duration_hours)) %>%\n",
    "    ggplot(aes(x=duration_hours)) +\n",
    "        geom_histogram(aes(y=..density..), position=\"identity\", alpha=0.5)+\n",
    "        geom_density(alpha=0.6)+\n",
    "        scale_color_manual(values=c(\"#999999\", \"#E69F00\", \"#56B4E9\"))+\n",
    "        scale_fill_manual(values=c(\"#999999\", \"#E69F00\", \"#56B4E9\"))+\n",
    "        labs(title=\"Histogram\",x=\"Hours\", y = \"Density\")+\n",
    "        theme_classic() + xlim(0, 900)"
   ]
  },
  {
   "cell_type": "code",
   "execution_count": 132,
   "metadata": {},
   "outputs": [],
   "source": [
    "#write.csv(input_df, '~/Projects/Haimovich_Pressors/collection/out/pressors_filtered.csv')"
   ]
  },
  {
   "cell_type": "markdown",
   "metadata": {},
   "source": [
    "### Mortality filter\n",
    "- Remove patients who stopped using pressors because death (merge with pressors_df by icustay_id, filter if pressor course end time == or is close to deathtime)"
   ]
  },
  {
   "cell_type": "code",
   "execution_count": 390,
   "metadata": {},
   "outputs": [],
   "source": [
    "icustays_df <- read.csv('~/Projects/Haimovich_Pressors/collection/out/icustays.csv')"
   ]
  },
  {
   "cell_type": "code",
   "execution_count": 391,
   "metadata": {},
   "outputs": [],
   "source": [
    "admissions_df <- read.csv('~/Projects/Haimovich_Pressors/collection/out/admissions.csv')"
   ]
  },
  {
   "cell_type": "code",
   "execution_count": 575,
   "metadata": {},
   "outputs": [],
   "source": [
    "patients_df <- read.csv('~/Projects/Haimovich_Pressors/collection/out/patients.csv')"
   ]
  },
  {
   "cell_type": "code",
   "execution_count": 598,
   "metadata": {},
   "outputs": [],
   "source": [
    "nonvitals_predictor_df <- icustays_df %>%\n",
    "    select(hadm_id, icustay_id, first_careunit, last_careunit) %>%\n",
    "    left_join(admissions_df, by = 'hadm_id') %>%\n",
    "    left_join(patients_df, by = 'subject_id') %>%\n",
    "    mutate(deathtime = fastPOSIXct(deathtime), admittime = fastPOSIXct(admittime), dob = fastPOSIXct(dob)) %>%\n",
    "    mutate(age = difftime(admittime, dob, units=\"weeks\")/52.25, age_cohort = as.numeric(round(age, digits = -1)))"
   ]
  },
  {
   "cell_type": "code",
   "execution_count": 355,
   "metadata": {},
   "outputs": [
    {
     "data": {
      "text/html": [
       "<table>\n",
       "<caption>A grouped_df: 10 × 3</caption>\n",
       "<thead>\n",
       "\t<tr><th scope=col>diagnosis</th><th scope=col>first_careunit</th><th scope=col>COUNT</th></tr>\n",
       "\t<tr><th scope=col>&lt;fct&gt;</th><th scope=col>&lt;fct&gt;</th><th scope=col>&lt;int&gt;</th></tr>\n",
       "</thead>\n",
       "<tbody>\n",
       "\t<tr><td>NEWBORN                                                   </td><td>NICU</td><td>7840</td></tr>\n",
       "\t<tr><td>PNEUMONIA                                                 </td><td>MICU</td><td>1365</td></tr>\n",
       "\t<tr><td>SEPSIS                                                    </td><td>MICU</td><td>1026</td></tr>\n",
       "\t<tr><td>CORONARY ARTERY DISEASE                                   </td><td>CSRU</td><td> 755</td></tr>\n",
       "\t<tr><td>GASTROINTESTINAL BLEED                                    </td><td>MICU</td><td> 613</td></tr>\n",
       "\t<tr><td>CORONARY ARTERY DISEASE\\CORONARY ARTERY BYPASS GRAFT /SDA</td><td>CSRU</td><td> 591</td></tr>\n",
       "\t<tr><td>ALTERED MENTAL STATUS                                     </td><td>MICU</td><td> 559</td></tr>\n",
       "\t<tr><td>CONGESTIVE HEART FAILURE                                  </td><td>CCU </td><td> 501</td></tr>\n",
       "\t<tr><td>UPPER GI BLEED                                            </td><td>MICU</td><td> 482</td></tr>\n",
       "\t<tr><td>CORONARY ARTERY DISEASE\\CORONARY ARTERY BYPASS GRAFT/SDA </td><td>CSRU</td><td> 461</td></tr>\n",
       "</tbody>\n",
       "</table>\n"
      ],
      "text/latex": [
       "A grouped_df: 10 × 3\n",
       "\\begin{tabular}{r|lll}\n",
       " diagnosis & first\\_careunit & COUNT\\\\\n",
       " <fct> & <fct> & <int>\\\\\n",
       "\\hline\n",
       "\t NEWBORN                                                    & NICU & 7840\\\\\n",
       "\t PNEUMONIA                                                  & MICU & 1365\\\\\n",
       "\t SEPSIS                                                     & MICU & 1026\\\\\n",
       "\t CORONARY ARTERY DISEASE                                    & CSRU &  755\\\\\n",
       "\t GASTROINTESTINAL BLEED                                     & MICU &  613\\\\\n",
       "\t CORONARY ARTERY DISEASE\\textbackslash{}CORONARY ARTERY BYPASS GRAFT /SDA & CSRU &  591\\\\\n",
       "\t ALTERED MENTAL STATUS                                      & MICU &  559\\\\\n",
       "\t CONGESTIVE HEART FAILURE                                   & CCU  &  501\\\\\n",
       "\t UPPER GI BLEED                                             & MICU &  482\\\\\n",
       "\t CORONARY ARTERY DISEASE\\textbackslash{}CORONARY ARTERY BYPASS GRAFT/SDA  & CSRU &  461\\\\\n",
       "\\end{tabular}\n"
      ],
      "text/markdown": [
       "\n",
       "A grouped_df: 10 × 3\n",
       "\n",
       "| diagnosis &lt;fct&gt; | first_careunit &lt;fct&gt; | COUNT &lt;int&gt; |\n",
       "|---|---|---|\n",
       "| NEWBORN                                                    | NICU | 7840 |\n",
       "| PNEUMONIA                                                  | MICU | 1365 |\n",
       "| SEPSIS                                                     | MICU | 1026 |\n",
       "| CORONARY ARTERY DISEASE                                    | CSRU |  755 |\n",
       "| GASTROINTESTINAL BLEED                                     | MICU |  613 |\n",
       "| CORONARY ARTERY DISEASE\\CORONARY ARTERY BYPASS GRAFT /SDA | CSRU |  591 |\n",
       "| ALTERED MENTAL STATUS                                      | MICU |  559 |\n",
       "| CONGESTIVE HEART FAILURE                                   | CCU  |  501 |\n",
       "| UPPER GI BLEED                                             | MICU |  482 |\n",
       "| CORONARY ARTERY DISEASE\\CORONARY ARTERY BYPASS GRAFT/SDA  | CSRU |  461 |\n",
       "\n"
      ],
      "text/plain": [
       "   diagnosis                                                  first_careunit\n",
       "1  NEWBORN                                                    NICU          \n",
       "2  PNEUMONIA                                                  MICU          \n",
       "3  SEPSIS                                                     MICU          \n",
       "4  CORONARY ARTERY DISEASE                                    CSRU          \n",
       "5  GASTROINTESTINAL BLEED                                     MICU          \n",
       "6  CORONARY ARTERY DISEASE\\\\CORONARY ARTERY BYPASS GRAFT /SDA CSRU          \n",
       "7  ALTERED MENTAL STATUS                                      MICU          \n",
       "8  CONGESTIVE HEART FAILURE                                   CCU           \n",
       "9  UPPER GI BLEED                                             MICU          \n",
       "10 CORONARY ARTERY DISEASE\\\\CORONARY ARTERY BYPASS GRAFT/SDA  CSRU          \n",
       "   COUNT\n",
       "1  7840 \n",
       "2  1365 \n",
       "3  1026 \n",
       "4   755 \n",
       "5   613 \n",
       "6   591 \n",
       "7   559 \n",
       "8   501 \n",
       "9   482 \n",
       "10  461 "
      ]
     },
     "metadata": {},
     "output_type": "display_data"
    }
   ],
   "source": [
    "# just some cool info about what each service covers which diagnoses\n",
    "nonvitals_predictor_df %>% \n",
    "    group_by(diagnosis, first_careunit) %>% \n",
    "    summarize(COUNT = n()) %>% \n",
    "    arrange(-COUNT) %>% head(10)"
   ]
  },
  {
   "cell_type": "code",
   "execution_count": 422,
   "metadata": {},
   "outputs": [
    {
     "data": {
      "text/html": [
       "<table>\n",
       "<caption>A tibble: 3 × 2</caption>\n",
       "<thead>\n",
       "\t<tr><th scope=col>MORTALITYERROR</th><th scope=col>COUNT</th></tr>\n",
       "\t<tr><th scope=col>&lt;lgl&gt;</th><th scope=col>&lt;int&gt;</th></tr>\n",
       "</thead>\n",
       "<tbody>\n",
       "\t<tr><td>FALSE</td><td> 5330</td></tr>\n",
       "\t<tr><td> TRUE</td><td> 1132</td></tr>\n",
       "\t<tr><td>   NA</td><td>55070</td></tr>\n",
       "</tbody>\n",
       "</table>\n"
      ],
      "text/latex": [
       "A tibble: 3 × 2\n",
       "\\begin{tabular}{r|ll}\n",
       " MORTALITYERROR & COUNT\\\\\n",
       " <lgl> & <int>\\\\\n",
       "\\hline\n",
       "\t FALSE &  5330\\\\\n",
       "\t  TRUE &  1132\\\\\n",
       "\t    NA & 55070\\\\\n",
       "\\end{tabular}\n"
      ],
      "text/markdown": [
       "\n",
       "A tibble: 3 × 2\n",
       "\n",
       "| MORTALITYERROR &lt;lgl&gt; | COUNT &lt;int&gt; |\n",
       "|---|---|\n",
       "| FALSE |  5330 |\n",
       "|  TRUE |  1132 |\n",
       "|    NA | 55070 |\n",
       "\n"
      ],
      "text/plain": [
       "  MORTALITYERROR COUNT\n",
       "1 FALSE           5330\n",
       "2  TRUE           1132\n",
       "3    NA          55070"
      ]
     },
     "metadata": {},
     "output_type": "display_data"
    }
   ],
   "source": [
    "#NA means the stay did not end in death\n",
    "#ICUSTAYS where patient was discharged after death? (TRUE)\n",
    "nonvitals_predictor_df  %>%\n",
    "    mutate(MORTALITYERROR = difftime(deathtime, dischtime, units = \"mins\") < 0) %>%\n",
    "    group_by(MORTALITYERROR) %>%\n",
    "    summarize(COUNT = n())"
   ]
  },
  {
   "cell_type": "code",
   "execution_count": 423,
   "metadata": {},
   "outputs": [
    {
     "data": {
      "text/html": [
       "<table>\n",
       "<caption>A tibble: 3 × 2</caption>\n",
       "<thead>\n",
       "\t<tr><th scope=col>MORTALITYERROR</th><th scope=col>COUNT</th></tr>\n",
       "\t<tr><th scope=col>&lt;lgl&gt;</th><th scope=col>&lt;int&gt;</th></tr>\n",
       "</thead>\n",
       "<tbody>\n",
       "\t<tr><td>FALSE</td><td> 6384</td></tr>\n",
       "\t<tr><td> TRUE</td><td>   78</td></tr>\n",
       "\t<tr><td>   NA</td><td>55070</td></tr>\n",
       "</tbody>\n",
       "</table>\n"
      ],
      "text/latex": [
       "A tibble: 3 × 2\n",
       "\\begin{tabular}{r|ll}\n",
       " MORTALITYERROR & COUNT\\\\\n",
       " <lgl> & <int>\\\\\n",
       "\\hline\n",
       "\t FALSE &  6384\\\\\n",
       "\t  TRUE &    78\\\\\n",
       "\t    NA & 55070\\\\\n",
       "\\end{tabular}\n"
      ],
      "text/markdown": [
       "\n",
       "A tibble: 3 × 2\n",
       "\n",
       "| MORTALITYERROR &lt;lgl&gt; | COUNT &lt;int&gt; |\n",
       "|---|---|\n",
       "| FALSE |  6384 |\n",
       "|  TRUE |    78 |\n",
       "|    NA | 55070 |\n",
       "\n"
      ],
      "text/plain": [
       "  MORTALITYERROR COUNT\n",
       "1 FALSE           6384\n",
       "2  TRUE             78\n",
       "3    NA          55070"
      ]
     },
     "metadata": {},
     "output_type": "display_data"
    }
   ],
   "source": [
    "#NA means the stay did not end in death\n",
    "#ICUSTAYS where patient was admitted after death? (TRUE)\n",
    "nonvitals_predictor_df  %>%\n",
    "    mutate(MORTALITYERROR = difftime(deathtime, admittime, units = \"mins\") < 0) %>%\n",
    "    group_by(MORTALITYERROR) %>%\n",
    "    summarize(COUNT = n())"
   ]
  },
  {
   "cell_type": "code",
   "execution_count": 424,
   "metadata": {},
   "outputs": [
    {
     "data": {
      "text/html": [
       "<table>\n",
       "<caption>A data.frame: 5 × 23</caption>\n",
       "<thead>\n",
       "\t<tr><th scope=col>hadm_id</th><th scope=col>icustay_id</th><th scope=col>first_careunit</th><th scope=col>last_careunit</th><th scope=col>X</th><th scope=col>row_id</th><th scope=col>subject_id</th><th scope=col>admittime</th><th scope=col>dischtime</th><th scope=col>deathtime</th><th scope=col>⋯</th><th scope=col>insurance</th><th scope=col>language</th><th scope=col>religion</th><th scope=col>marital_status</th><th scope=col>ethnicity</th><th scope=col>edregtime</th><th scope=col>edouttime</th><th scope=col>diagnosis</th><th scope=col>hospital_expire_flag</th><th scope=col>has_chartevents_data</th></tr>\n",
       "\t<tr><th scope=col>&lt;int&gt;</th><th scope=col>&lt;int&gt;</th><th scope=col>&lt;fct&gt;</th><th scope=col>&lt;fct&gt;</th><th scope=col>&lt;int&gt;</th><th scope=col>&lt;int&gt;</th><th scope=col>&lt;int&gt;</th><th scope=col>&lt;dttm&gt;</th><th scope=col>&lt;fct&gt;</th><th scope=col>&lt;dttm&gt;</th><th scope=col>⋯</th><th scope=col>&lt;fct&gt;</th><th scope=col>&lt;fct&gt;</th><th scope=col>&lt;fct&gt;</th><th scope=col>&lt;fct&gt;</th><th scope=col>&lt;fct&gt;</th><th scope=col>&lt;fct&gt;</th><th scope=col>&lt;fct&gt;</th><th scope=col>&lt;fct&gt;</th><th scope=col>&lt;int&gt;</th><th scope=col>&lt;int&gt;</th></tr>\n",
       "</thead>\n",
       "<tbody>\n",
       "\t<tr><td>102631</td><td>246694</td><td>CSRU</td><td>CSRU</td><td> 456</td><td> 237</td><td> 181</td><td>2153-10-12 05:49:00</td><td>2153-10-12 06:29:00</td><td>2153-10-12 02:29:00</td><td>⋯</td><td>Private </td><td></td><td>PROTESTANT QUAKER</td><td>MARRIED</td><td>WHITE                </td><td>2153-10-12 06:23:00</td><td>2153-10-12 07:45:00</td><td>DISSECTING ANEURYSIM       </td><td>1</td><td>1</td></tr>\n",
       "\t<tr><td>138015</td><td>298263</td><td>NICU</td><td>NICU</td><td>1911</td><td>1640</td><td>1334</td><td>2137-09-02 10:43:00</td><td>2137-09-02 12:00:00</td><td>2137-09-02 08:00:00</td><td>⋯</td><td>Private </td><td></td><td>PROTESTANT QUAKER</td><td>       </td><td>WHITE                </td><td>                   </td><td>                   </td><td>NEWBORN                    </td><td>1</td><td>1</td></tr>\n",
       "\t<tr><td>181430</td><td>291798</td><td>SICU</td><td>SICU</td><td>1970</td><td>1699</td><td>1381</td><td>2189-01-02 09:25:00</td><td>2189-01-02 12:00:00</td><td>2189-01-02 07:00:00</td><td>⋯</td><td>Medicare</td><td></td><td>UNOBTAINABLE     </td><td>MARRIED</td><td>WHITE                </td><td>2189-01-02 10:31:00</td><td>2189-01-02 15:56:00</td><td>STROKE;TELEMETRY           </td><td>1</td><td>1</td></tr>\n",
       "\t<tr><td>187482</td><td>213831</td><td>MICU</td><td>MICU</td><td> 693</td><td> 644</td><td> 516</td><td>2197-07-31 16:18:00</td><td>2197-07-31 01:10:00</td><td>2197-07-30 21:10:00</td><td>⋯</td><td>Medicare</td><td></td><td>JEWISH           </td><td>WIDOWED</td><td>UNKNOWN/NOT SPECIFIED</td><td>2197-07-31 11:31:00</td><td>2197-07-31 14:35:00</td><td>RESPIRATORY DISTRESS       </td><td>1</td><td>0</td></tr>\n",
       "\t<tr><td>190088</td><td>293048</td><td>CCU </td><td>CCU </td><td>3624</td><td>3447</td><td>2858</td><td>2108-09-25 11:29:00</td><td>2108-09-25 12:00:00</td><td>2108-09-25 08:00:00</td><td>⋯</td><td>Medicare</td><td></td><td>CATHOLIC         </td><td>WIDOWED</td><td>WHITE                </td><td>                   </td><td>                   </td><td>MYOCARDIAL INFARCTION\\CATH</td><td>1</td><td>1</td></tr>\n",
       "</tbody>\n",
       "</table>\n"
      ],
      "text/latex": [
       "A data.frame: 5 × 23\n",
       "\\begin{tabular}{r|lllllllllllllllllllllll}\n",
       " hadm\\_id & icustay\\_id & first\\_careunit & last\\_careunit & X & row\\_id & subject\\_id & admittime & dischtime & deathtime & admission\\_type & admission\\_location & discharge\\_location & insurance & language & religion & marital\\_status & ethnicity & edregtime & edouttime & diagnosis & hospital\\_expire\\_flag & has\\_chartevents\\_data\\\\\n",
       " <int> & <int> & <fct> & <fct> & <int> & <int> & <int> & <dttm> & <fct> & <dttm> & <fct> & <fct> & <fct> & <fct> & <fct> & <fct> & <fct> & <fct> & <fct> & <fct> & <fct> & <int> & <int>\\\\\n",
       "\\hline\n",
       "\t 102631 & 246694 & CSRU & CSRU &  456 &  237 &  181 & 2153-10-12 05:49:00 & 2153-10-12 06:29:00 & 2153-10-12 02:29:00 & EMERGENCY & EMERGENCY ROOM ADMIT      & DEAD/EXPIRED & Private  &  & PROTESTANT QUAKER & MARRIED & WHITE                 & 2153-10-12 06:23:00 & 2153-10-12 07:45:00 & DISSECTING ANEURYSIM        & 1 & 1\\\\\n",
       "\t 138015 & 298263 & NICU & NICU & 1911 & 1640 & 1334 & 2137-09-02 10:43:00 & 2137-09-02 12:00:00 & 2137-09-02 08:00:00 & NEWBORN   & CLINIC REFERRAL/PREMATURE & DEAD/EXPIRED & Private  &  & PROTESTANT QUAKER &         & WHITE                 &                     &                     & NEWBORN                     & 1 & 1\\\\\n",
       "\t 181430 & 291798 & SICU & SICU & 1970 & 1699 & 1381 & 2189-01-02 09:25:00 & 2189-01-02 12:00:00 & 2189-01-02 07:00:00 & EMERGENCY & EMERGENCY ROOM ADMIT      & DEAD/EXPIRED & Medicare &  & UNOBTAINABLE      & MARRIED & WHITE                 & 2189-01-02 10:31:00 & 2189-01-02 15:56:00 & STROKE;TELEMETRY            & 1 & 1\\\\\n",
       "\t 187482 & 213831 & MICU & MICU &  693 &  644 &  516 & 2197-07-31 16:18:00 & 2197-07-31 01:10:00 & 2197-07-30 21:10:00 & EMERGENCY & EMERGENCY ROOM ADMIT      & DEAD/EXPIRED & Medicare &  & JEWISH            & WIDOWED & UNKNOWN/NOT SPECIFIED & 2197-07-31 11:31:00 & 2197-07-31 14:35:00 & RESPIRATORY DISTRESS        & 1 & 0\\\\\n",
       "\t 190088 & 293048 & CCU  & CCU  & 3624 & 3447 & 2858 & 2108-09-25 11:29:00 & 2108-09-25 12:00:00 & 2108-09-25 08:00:00 & EMERGENCY & TRANSFER FROM HOSP/EXTRAM & DEAD/EXPIRED & Medicare &  & CATHOLIC          & WIDOWED & WHITE                 &                     &                     & MYOCARDIAL INFARCTION\\textbackslash{}CATH & 1 & 1\\\\\n",
       "\\end{tabular}\n"
      ],
      "text/markdown": [
       "\n",
       "A data.frame: 5 × 23\n",
       "\n",
       "| hadm_id &lt;int&gt; | icustay_id &lt;int&gt; | first_careunit &lt;fct&gt; | last_careunit &lt;fct&gt; | X &lt;int&gt; | row_id &lt;int&gt; | subject_id &lt;int&gt; | admittime &lt;dttm&gt; | dischtime &lt;fct&gt; | deathtime &lt;dttm&gt; | ⋯ ⋯ | insurance &lt;fct&gt; | language &lt;fct&gt; | religion &lt;fct&gt; | marital_status &lt;fct&gt; | ethnicity &lt;fct&gt; | edregtime &lt;fct&gt; | edouttime &lt;fct&gt; | diagnosis &lt;fct&gt; | hospital_expire_flag &lt;int&gt; | has_chartevents_data &lt;int&gt; |\n",
       "|---|---|---|---|---|---|---|---|---|---|---|---|---|---|---|---|---|---|---|---|---|\n",
       "| 102631 | 246694 | CSRU | CSRU |  456 |  237 |  181 | 2153-10-12 05:49:00 | 2153-10-12 06:29:00 | 2153-10-12 02:29:00 | ⋯ | Private  | <!----> | PROTESTANT QUAKER | MARRIED | WHITE                 | 2153-10-12 06:23:00 | 2153-10-12 07:45:00 | DISSECTING ANEURYSIM        | 1 | 1 |\n",
       "| 138015 | 298263 | NICU | NICU | 1911 | 1640 | 1334 | 2137-09-02 10:43:00 | 2137-09-02 12:00:00 | 2137-09-02 08:00:00 | ⋯ | Private  | <!----> | PROTESTANT QUAKER | <!----> | WHITE                 | <!----> | <!----> | NEWBORN                     | 1 | 1 |\n",
       "| 181430 | 291798 | SICU | SICU | 1970 | 1699 | 1381 | 2189-01-02 09:25:00 | 2189-01-02 12:00:00 | 2189-01-02 07:00:00 | ⋯ | Medicare | <!----> | UNOBTAINABLE      | MARRIED | WHITE                 | 2189-01-02 10:31:00 | 2189-01-02 15:56:00 | STROKE;TELEMETRY            | 1 | 1 |\n",
       "| 187482 | 213831 | MICU | MICU |  693 |  644 |  516 | 2197-07-31 16:18:00 | 2197-07-31 01:10:00 | 2197-07-30 21:10:00 | ⋯ | Medicare | <!----> | JEWISH            | WIDOWED | UNKNOWN/NOT SPECIFIED | 2197-07-31 11:31:00 | 2197-07-31 14:35:00 | RESPIRATORY DISTRESS        | 1 | 0 |\n",
       "| 190088 | 293048 | CCU  | CCU  | 3624 | 3447 | 2858 | 2108-09-25 11:29:00 | 2108-09-25 12:00:00 | 2108-09-25 08:00:00 | ⋯ | Medicare | <!----> | CATHOLIC          | WIDOWED | WHITE                 | <!----> | <!----> | MYOCARDIAL INFARCTION\\CATH | 1 | 1 |\n",
       "\n"
      ],
      "text/plain": [
       "  hadm_id icustay_id first_careunit last_careunit X    row_id subject_id\n",
       "1 102631  246694     CSRU           CSRU           456  237    181      \n",
       "2 138015  298263     NICU           NICU          1911 1640   1334      \n",
       "3 181430  291798     SICU           SICU          1970 1699   1381      \n",
       "4 187482  213831     MICU           MICU           693  644    516      \n",
       "5 190088  293048     CCU            CCU           3624 3447   2858      \n",
       "  admittime           dischtime           deathtime           ⋯ insurance\n",
       "1 2153-10-12 05:49:00 2153-10-12 06:29:00 2153-10-12 02:29:00 ⋯ Private  \n",
       "2 2137-09-02 10:43:00 2137-09-02 12:00:00 2137-09-02 08:00:00 ⋯ Private  \n",
       "3 2189-01-02 09:25:00 2189-01-02 12:00:00 2189-01-02 07:00:00 ⋯ Medicare \n",
       "4 2197-07-31 16:18:00 2197-07-31 01:10:00 2197-07-30 21:10:00 ⋯ Medicare \n",
       "5 2108-09-25 11:29:00 2108-09-25 12:00:00 2108-09-25 08:00:00 ⋯ Medicare \n",
       "  language religion          marital_status ethnicity            \n",
       "1          PROTESTANT QUAKER MARRIED        WHITE                \n",
       "2          PROTESTANT QUAKER                WHITE                \n",
       "3          UNOBTAINABLE      MARRIED        WHITE                \n",
       "4          JEWISH            WIDOWED        UNKNOWN/NOT SPECIFIED\n",
       "5          CATHOLIC          WIDOWED        WHITE                \n",
       "  edregtime           edouttime           diagnosis                  \n",
       "1 2153-10-12 06:23:00 2153-10-12 07:45:00 DISSECTING ANEURYSIM       \n",
       "2                                         NEWBORN                    \n",
       "3 2189-01-02 10:31:00 2189-01-02 15:56:00 STROKE;TELEMETRY           \n",
       "4 2197-07-31 11:31:00 2197-07-31 14:35:00 RESPIRATORY DISTRESS       \n",
       "5                                         MYOCARDIAL INFARCTION\\\\CATH\n",
       "  hospital_expire_flag has_chartevents_data\n",
       "1 1                    1                   \n",
       "2 1                    1                   \n",
       "3 1                    1                   \n",
       "4 1                    0                   \n",
       "5 1                    1                   "
      ]
     },
     "metadata": {},
     "output_type": "display_data"
    }
   ],
   "source": [
    "#Examples\n",
    "nonvitals_predictor_df  %>%\n",
    "    filter(difftime(deathtime, admittime, units = \"mins\") < 0) %>%\n",
    "    head(5)"
   ]
  },
  {
   "cell_type": "markdown",
   "metadata": {},
   "source": [
    "### Setting a mortality filter"
   ]
  },
  {
   "cell_type": "code",
   "execution_count": 434,
   "metadata": {},
   "outputs": [
    {
     "data": {
      "text/html": [
       "<table>\n",
       "<caption>A tibble: 3 × 2</caption>\n",
       "<thead>\n",
       "\t<tr><th scope=col>STOPMORTALITY &lt; 0</th><th scope=col>COUNT</th></tr>\n",
       "\t<tr><th scope=col>&lt;lgl&gt;</th><th scope=col>&lt;int&gt;</th></tr>\n",
       "</thead>\n",
       "<tbody>\n",
       "\t<tr><td>FALSE</td><td>2430</td></tr>\n",
       "\t<tr><td> TRUE</td><td> 437</td></tr>\n",
       "\t<tr><td>   NA</td><td>4689</td></tr>\n",
       "</tbody>\n",
       "</table>\n"
      ],
      "text/latex": [
       "A tibble: 3 × 2\n",
       "\\begin{tabular}{r|ll}\n",
       " STOPMORTALITY < 0 & COUNT\\\\\n",
       " <lgl> & <int>\\\\\n",
       "\\hline\n",
       "\t FALSE & 2430\\\\\n",
       "\t  TRUE &  437\\\\\n",
       "\t    NA & 4689\\\\\n",
       "\\end{tabular}\n"
      ],
      "text/markdown": [
       "\n",
       "A tibble: 3 × 2\n",
       "\n",
       "| STOPMORTALITY &lt; 0 &lt;lgl&gt; | COUNT &lt;int&gt; |\n",
       "|---|---|\n",
       "| FALSE | 2430 |\n",
       "|  TRUE |  437 |\n",
       "|    NA | 4689 |\n",
       "\n"
      ],
      "text/plain": [
       "  STOPMORTALITY < 0 COUNT\n",
       "1 FALSE             2430 \n",
       "2  TRUE              437 \n",
       "3    NA             4689 "
      ]
     },
     "metadata": {},
     "output_type": "display_data"
    }
   ],
   "source": [
    "# Icustays where patients received pressors after death (TRUE)\n",
    "input_df %>%\n",
    "    ungroup() %>%\n",
    "    left_join(nonvitals_predictor_df, by = \"icustay_id\") %>%\n",
    "    mutate(STOPMORTALITY = difftime(deathtime, endtime, units = \"mins\")) %>% \n",
    "    group_by(STOPMORTALITY < 0) %>%\n",
    "    summarize(COUNT = length(unique(icustay_id)))"
   ]
  },
  {
   "cell_type": "code",
   "execution_count": 436,
   "metadata": {},
   "outputs": [
    {
     "data": {
      "text/html": [
       "<table>\n",
       "<caption>A tibble: 3 × 2</caption>\n",
       "<thead>\n",
       "\t<tr><th scope=col>STOPMORTALITY</th><th scope=col>COUNT</th></tr>\n",
       "\t<tr><th scope=col>&lt;lgl&gt;</th><th scope=col>&lt;int&gt;</th></tr>\n",
       "</thead>\n",
       "<tbody>\n",
       "\t<tr><td>FALSE</td><td> 8202</td></tr>\n",
       "\t<tr><td> TRUE</td><td> 1768</td></tr>\n",
       "\t<tr><td>   NA</td><td>13218</td></tr>\n",
       "</tbody>\n",
       "</table>\n"
      ],
      "text/latex": [
       "A tibble: 3 × 2\n",
       "\\begin{tabular}{r|ll}\n",
       " STOPMORTALITY & COUNT\\\\\n",
       " <lgl> & <int>\\\\\n",
       "\\hline\n",
       "\t FALSE &  8202\\\\\n",
       "\t  TRUE &  1768\\\\\n",
       "\t    NA & 13218\\\\\n",
       "\\end{tabular}\n"
      ],
      "text/markdown": [
       "\n",
       "A tibble: 3 × 2\n",
       "\n",
       "| STOPMORTALITY &lt;lgl&gt; | COUNT &lt;int&gt; |\n",
       "|---|---|\n",
       "| FALSE |  8202 |\n",
       "|  TRUE |  1768 |\n",
       "|    NA | 13218 |\n",
       "\n"
      ],
      "text/plain": [
       "  STOPMORTALITY COUNT\n",
       "1 FALSE          8202\n",
       "2  TRUE          1768\n",
       "3    NA         13218"
      ]
     },
     "metadata": {},
     "output_type": "display_data"
    }
   ],
   "source": [
    "### if I do not ignore for these unusual cases\n",
    "input_df %>%\n",
    "    ungroup() %>%\n",
    "    left_join(nonvitals_predictor_df, by = \"icustay_id\") %>%\n",
    "    group_by(icustay_id, continuous_course) %>%\n",
    "    mutate(STOPMORTALITY = difftime(deathtime, max(endtime), units = \"mins\")) %>% \n",
    "    mutate(STOPMORTALITY = STOPMORTALITY < 5) %>%\n",
    "    group_by(STOPMORTALITY) %>%\n",
    "    summarize(COUNT = n())"
   ]
  },
  {
   "cell_type": "code",
   "execution_count": 437,
   "metadata": {},
   "outputs": [
    {
     "data": {
      "text/html": [
       "<table>\n",
       "<caption>A tibble: 3 × 2</caption>\n",
       "<thead>\n",
       "\t<tr><th scope=col>STOPMORTALITY</th><th scope=col>COUNT</th></tr>\n",
       "\t<tr><th scope=col>&lt;lgl&gt;</th><th scope=col>&lt;int&gt;</th></tr>\n",
       "</thead>\n",
       "<tbody>\n",
       "\t<tr><td>FALSE</td><td> 9867</td></tr>\n",
       "\t<tr><td> TRUE</td><td>  103</td></tr>\n",
       "\t<tr><td>   NA</td><td>13218</td></tr>\n",
       "</tbody>\n",
       "</table>\n"
      ],
      "text/latex": [
       "A tibble: 3 × 2\n",
       "\\begin{tabular}{r|ll}\n",
       " STOPMORTALITY & COUNT\\\\\n",
       " <lgl> & <int>\\\\\n",
       "\\hline\n",
       "\t FALSE &  9867\\\\\n",
       "\t  TRUE &   103\\\\\n",
       "\t    NA & 13218\\\\\n",
       "\\end{tabular}\n"
      ],
      "text/markdown": [
       "\n",
       "A tibble: 3 × 2\n",
       "\n",
       "| STOPMORTALITY &lt;lgl&gt; | COUNT &lt;int&gt; |\n",
       "|---|---|\n",
       "| FALSE |  9867 |\n",
       "|  TRUE |   103 |\n",
       "|    NA | 13218 |\n",
       "\n"
      ],
      "text/plain": [
       "  STOPMORTALITY COUNT\n",
       "1 FALSE          9867\n",
       "2  TRUE           103\n",
       "3    NA         13218"
      ]
     },
     "metadata": {},
     "output_type": "display_data"
    }
   ],
   "source": [
    "### if I do ignore these unusual cases\n",
    "input_df %>%\n",
    "    ungroup() %>%\n",
    "    left_join(nonvitals_predictor_df, by = \"icustay_id\") %>%\n",
    "    group_by(icustay_id, continuous_course) %>%\n",
    "    mutate(STOPMORTALITY = difftime(deathtime, max(endtime), units = \"mins\")) %>% \n",
    "    mutate(STOPMORTALITY = STOPMORTALITY > 0 &  STOPMORTALITY < 5) %>%\n",
    "    group_by(STOPMORTALITY) %>%\n",
    "    summarize(COUNT = n())"
   ]
  },
  {
   "cell_type": "code",
   "execution_count": 601,
   "metadata": {},
   "outputs": [],
   "source": [
    "# ignore NAs (patient did not die), or patient death did not correspond to end of pressor course\n",
    "input_death_df <- input_df %>%\n",
    "    ungroup() %>%\n",
    "    left_join(nonvitals_predictor_df, by = \"icustay_id\") %>%\n",
    "    group_by(icustay_id, continuous_course) %>%\n",
    "    mutate(STOPMORTALITY = difftime(deathtime, max(endtime), units = \"mins\")) %>% \n",
    "    mutate(STOPMORTALITY = !(!(STOPMORTALITY < 5) | is.na(STOPMORTALITY)))"
   ]
  },
  {
   "cell_type": "code",
   "execution_count": 602,
   "metadata": {},
   "outputs": [
    {
     "data": {
      "text/html": [
       "<table>\n",
       "<caption>A grouped_df: 26 × 5</caption>\n",
       "<thead>\n",
       "\t<tr><th scope=col>LESS1HOUR</th><th scope=col>FIRSTCOURSE</th><th scope=col>STOPMORTALITY</th><th scope=col>MORETHAN24HOURS</th><th scope=col>COUNT</th></tr>\n",
       "\t<tr><th scope=col>&lt;lgl&gt;</th><th scope=col>&lt;lgl&gt;</th><th scope=col>&lt;lgl&gt;</th><th scope=col>&lt;lgl&gt;</th><th scope=col>&lt;int&gt;</th></tr>\n",
       "</thead>\n",
       "<tbody>\n",
       "\t<tr><td>FALSE</td><td>FALSE</td><td>FALSE</td><td>FALSE</td><td> 545</td></tr>\n",
       "\t<tr><td>FALSE</td><td>FALSE</td><td>FALSE</td><td> TRUE</td><td> 448</td></tr>\n",
       "\t<tr><td>FALSE</td><td>FALSE</td><td> TRUE</td><td>FALSE</td><td>  38</td></tr>\n",
       "\t<tr><td>FALSE</td><td>FALSE</td><td> TRUE</td><td> TRUE</td><td>  41</td></tr>\n",
       "\t<tr><td>FALSE</td><td> TRUE</td><td>FALSE</td><td>FALSE</td><td>3448</td></tr>\n",
       "\t<tr><td>FALSE</td><td> TRUE</td><td>FALSE</td><td> TRUE</td><td>2743</td></tr>\n",
       "\t<tr><td>FALSE</td><td> TRUE</td><td> TRUE</td><td>FALSE</td><td> 252</td></tr>\n",
       "\t<tr><td>FALSE</td><td> TRUE</td><td> TRUE</td><td> TRUE</td><td> 175</td></tr>\n",
       "\t<tr><td> TRUE</td><td>FALSE</td><td>FALSE</td><td>FALSE</td><td>  21</td></tr>\n",
       "\t<tr><td> TRUE</td><td>FALSE</td><td>FALSE</td><td> TRUE</td><td>  11</td></tr>\n",
       "\t<tr><td> TRUE</td><td>FALSE</td><td> TRUE</td><td>FALSE</td><td>   1</td></tr>\n",
       "\t<tr><td> TRUE</td><td>FALSE</td><td> TRUE</td><td> TRUE</td><td>   1</td></tr>\n",
       "\t<tr><td> TRUE</td><td> TRUE</td><td>FALSE</td><td>FALSE</td><td> 249</td></tr>\n",
       "\t<tr><td> TRUE</td><td> TRUE</td><td>FALSE</td><td> TRUE</td><td> 127</td></tr>\n",
       "\t<tr><td> TRUE</td><td> TRUE</td><td> TRUE</td><td>FALSE</td><td>  19</td></tr>\n",
       "\t<tr><td> TRUE</td><td> TRUE</td><td> TRUE</td><td> TRUE</td><td>   8</td></tr>\n",
       "\t<tr><td>   NA</td><td>FALSE</td><td>FALSE</td><td>FALSE</td><td>  41</td></tr>\n",
       "\t<tr><td>   NA</td><td>FALSE</td><td>FALSE</td><td> TRUE</td><td>  44</td></tr>\n",
       "\t<tr><td>   NA</td><td>FALSE</td><td> TRUE</td><td>FALSE</td><td>   3</td></tr>\n",
       "\t<tr><td>   NA</td><td>FALSE</td><td> TRUE</td><td> TRUE</td><td>   1</td></tr>\n",
       "\t<tr><td>   NA</td><td> TRUE</td><td>FALSE</td><td>FALSE</td><td>  68</td></tr>\n",
       "\t<tr><td>   NA</td><td> TRUE</td><td>FALSE</td><td> TRUE</td><td>  92</td></tr>\n",
       "\t<tr><td>   NA</td><td> TRUE</td><td> TRUE</td><td>FALSE</td><td>   1</td></tr>\n",
       "\t<tr><td>   NA</td><td> TRUE</td><td> TRUE</td><td> TRUE</td><td>   3</td></tr>\n",
       "\t<tr><td>   NA</td><td>   NA</td><td>FALSE</td><td>FALSE</td><td>  79</td></tr>\n",
       "\t<tr><td>   NA</td><td>   NA</td><td>FALSE</td><td> TRUE</td><td>  67</td></tr>\n",
       "</tbody>\n",
       "</table>\n"
      ],
      "text/latex": [
       "A grouped_df: 26 × 5\n",
       "\\begin{tabular}{r|lllll}\n",
       " LESS1HOUR & FIRSTCOURSE & STOPMORTALITY & MORETHAN24HOURS & COUNT\\\\\n",
       " <lgl> & <lgl> & <lgl> & <lgl> & <int>\\\\\n",
       "\\hline\n",
       "\t FALSE & FALSE & FALSE & FALSE &  545\\\\\n",
       "\t FALSE & FALSE & FALSE &  TRUE &  448\\\\\n",
       "\t FALSE & FALSE &  TRUE & FALSE &   38\\\\\n",
       "\t FALSE & FALSE &  TRUE &  TRUE &   41\\\\\n",
       "\t FALSE &  TRUE & FALSE & FALSE & 3448\\\\\n",
       "\t FALSE &  TRUE & FALSE &  TRUE & 2743\\\\\n",
       "\t FALSE &  TRUE &  TRUE & FALSE &  252\\\\\n",
       "\t FALSE &  TRUE &  TRUE &  TRUE &  175\\\\\n",
       "\t  TRUE & FALSE & FALSE & FALSE &   21\\\\\n",
       "\t  TRUE & FALSE & FALSE &  TRUE &   11\\\\\n",
       "\t  TRUE & FALSE &  TRUE & FALSE &    1\\\\\n",
       "\t  TRUE & FALSE &  TRUE &  TRUE &    1\\\\\n",
       "\t  TRUE &  TRUE & FALSE & FALSE &  249\\\\\n",
       "\t  TRUE &  TRUE & FALSE &  TRUE &  127\\\\\n",
       "\t  TRUE &  TRUE &  TRUE & FALSE &   19\\\\\n",
       "\t  TRUE &  TRUE &  TRUE &  TRUE &    8\\\\\n",
       "\t    NA & FALSE & FALSE & FALSE &   41\\\\\n",
       "\t    NA & FALSE & FALSE &  TRUE &   44\\\\\n",
       "\t    NA & FALSE &  TRUE & FALSE &    3\\\\\n",
       "\t    NA & FALSE &  TRUE &  TRUE &    1\\\\\n",
       "\t    NA &  TRUE & FALSE & FALSE &   68\\\\\n",
       "\t    NA &  TRUE & FALSE &  TRUE &   92\\\\\n",
       "\t    NA &  TRUE &  TRUE & FALSE &    1\\\\\n",
       "\t    NA &  TRUE &  TRUE &  TRUE &    3\\\\\n",
       "\t    NA &    NA & FALSE & FALSE &   79\\\\\n",
       "\t    NA &    NA & FALSE &  TRUE &   67\\\\\n",
       "\\end{tabular}\n"
      ],
      "text/markdown": [
       "\n",
       "A grouped_df: 26 × 5\n",
       "\n",
       "| LESS1HOUR &lt;lgl&gt; | FIRSTCOURSE &lt;lgl&gt; | STOPMORTALITY &lt;lgl&gt; | MORETHAN24HOURS &lt;lgl&gt; | COUNT &lt;int&gt; |\n",
       "|---|---|---|---|---|\n",
       "| FALSE | FALSE | FALSE | FALSE |  545 |\n",
       "| FALSE | FALSE | FALSE |  TRUE |  448 |\n",
       "| FALSE | FALSE |  TRUE | FALSE |   38 |\n",
       "| FALSE | FALSE |  TRUE |  TRUE |   41 |\n",
       "| FALSE |  TRUE | FALSE | FALSE | 3448 |\n",
       "| FALSE |  TRUE | FALSE |  TRUE | 2743 |\n",
       "| FALSE |  TRUE |  TRUE | FALSE |  252 |\n",
       "| FALSE |  TRUE |  TRUE |  TRUE |  175 |\n",
       "|  TRUE | FALSE | FALSE | FALSE |   21 |\n",
       "|  TRUE | FALSE | FALSE |  TRUE |   11 |\n",
       "|  TRUE | FALSE |  TRUE | FALSE |    1 |\n",
       "|  TRUE | FALSE |  TRUE |  TRUE |    1 |\n",
       "|  TRUE |  TRUE | FALSE | FALSE |  249 |\n",
       "|  TRUE |  TRUE | FALSE |  TRUE |  127 |\n",
       "|  TRUE |  TRUE |  TRUE | FALSE |   19 |\n",
       "|  TRUE |  TRUE |  TRUE |  TRUE |    8 |\n",
       "|    NA | FALSE | FALSE | FALSE |   41 |\n",
       "|    NA | FALSE | FALSE |  TRUE |   44 |\n",
       "|    NA | FALSE |  TRUE | FALSE |    3 |\n",
       "|    NA | FALSE |  TRUE |  TRUE |    1 |\n",
       "|    NA |  TRUE | FALSE | FALSE |   68 |\n",
       "|    NA |  TRUE | FALSE |  TRUE |   92 |\n",
       "|    NA |  TRUE |  TRUE | FALSE |    1 |\n",
       "|    NA |  TRUE |  TRUE |  TRUE |    3 |\n",
       "|    NA |    NA | FALSE | FALSE |   79 |\n",
       "|    NA |    NA | FALSE |  TRUE |   67 |\n",
       "\n"
      ],
      "text/plain": [
       "   LESS1HOUR FIRSTCOURSE STOPMORTALITY MORETHAN24HOURS COUNT\n",
       "1  FALSE     FALSE       FALSE         FALSE            545 \n",
       "2  FALSE     FALSE       FALSE          TRUE            448 \n",
       "3  FALSE     FALSE        TRUE         FALSE             38 \n",
       "4  FALSE     FALSE        TRUE          TRUE             41 \n",
       "5  FALSE      TRUE       FALSE         FALSE           3448 \n",
       "6  FALSE      TRUE       FALSE          TRUE           2743 \n",
       "7  FALSE      TRUE        TRUE         FALSE            252 \n",
       "8  FALSE      TRUE        TRUE          TRUE            175 \n",
       "9   TRUE     FALSE       FALSE         FALSE             21 \n",
       "10  TRUE     FALSE       FALSE          TRUE             11 \n",
       "11  TRUE     FALSE        TRUE         FALSE              1 \n",
       "12  TRUE     FALSE        TRUE          TRUE              1 \n",
       "13  TRUE      TRUE       FALSE         FALSE            249 \n",
       "14  TRUE      TRUE       FALSE          TRUE            127 \n",
       "15  TRUE      TRUE        TRUE         FALSE             19 \n",
       "16  TRUE      TRUE        TRUE          TRUE              8 \n",
       "17    NA     FALSE       FALSE         FALSE             41 \n",
       "18    NA     FALSE       FALSE          TRUE             44 \n",
       "19    NA     FALSE        TRUE         FALSE              3 \n",
       "20    NA     FALSE        TRUE          TRUE              1 \n",
       "21    NA      TRUE       FALSE         FALSE             68 \n",
       "22    NA      TRUE       FALSE          TRUE             92 \n",
       "23    NA      TRUE        TRUE         FALSE              1 \n",
       "24    NA      TRUE        TRUE          TRUE              3 \n",
       "25    NA        NA       FALSE         FALSE             79 \n",
       "26    NA        NA       FALSE          TRUE             67 "
      ]
     },
     "metadata": {},
     "output_type": "display_data"
    }
   ],
   "source": [
    "input_death_df %>%\n",
    "    mutate(course_id = paste(icustay_id, continuous_course, sep = \",\")) %>%\n",
    "    group_by(LESS1HOUR, FIRSTCOURSE, STOPMORTALITY, MORETHAN24HOURS) %>%\n",
    "    summarize(COUNT = length(unique(course_id)))"
   ]
  },
  {
   "cell_type": "code",
   "execution_count": 600,
   "metadata": {},
   "outputs": [],
   "source": [
    "# ignore NAs (patient did not die), or patient death did not correspond to end of pressor course\n",
    "input_death_df <- input_df %>%\n",
    "    ungroup() %>%\n",
    "    left_join(nonvitals_predictor_df, by = \"icustay_id\") %>%\n",
    "    group_by(icustay_id, continuous_course) %>%\n",
    "    mutate(STOPMORTALITY = difftime(deathtime, max(endtime), units = \"mins\")) %>% \n",
    "    mutate(STOPMORTALITY = !(!(STOPMORTALITY > 0 &  STOPMORTALITY < 5) | is.na(STOPMORTALITY)))"
   ]
  },
  {
   "cell_type": "code",
   "execution_count": 479,
   "metadata": {},
   "outputs": [
    {
     "data": {
      "text/html": [
       "<table>\n",
       "<caption>A grouped_df: 19 × 5</caption>\n",
       "<thead>\n",
       "\t<tr><th scope=col>LESS1HOUR</th><th scope=col>FIRSTCOURSE</th><th scope=col>STOPMORTALITY</th><th scope=col>MORETHAN24HOURS</th><th scope=col>COUNT</th></tr>\n",
       "\t<tr><th scope=col>&lt;lgl&gt;</th><th scope=col>&lt;lgl&gt;</th><th scope=col>&lt;lgl&gt;</th><th scope=col>&lt;lgl&gt;</th><th scope=col>&lt;int&gt;</th></tr>\n",
       "</thead>\n",
       "<tbody>\n",
       "\t<tr><td>FALSE</td><td>FALSE</td><td>FALSE</td><td>FALSE</td><td> 578</td></tr>\n",
       "\t<tr><td>FALSE</td><td>FALSE</td><td>FALSE</td><td> TRUE</td><td> 485</td></tr>\n",
       "\t<tr><td>FALSE</td><td>FALSE</td><td> TRUE</td><td>FALSE</td><td>   5</td></tr>\n",
       "\t<tr><td>FALSE</td><td>FALSE</td><td> TRUE</td><td> TRUE</td><td>   4</td></tr>\n",
       "\t<tr><td>FALSE</td><td> TRUE</td><td>FALSE</td><td>FALSE</td><td>3683</td></tr>\n",
       "\t<tr><td>FALSE</td><td> TRUE</td><td>FALSE</td><td> TRUE</td><td>2909</td></tr>\n",
       "\t<tr><td>FALSE</td><td> TRUE</td><td> TRUE</td><td>FALSE</td><td>  17</td></tr>\n",
       "\t<tr><td>FALSE</td><td> TRUE</td><td> TRUE</td><td> TRUE</td><td>   9</td></tr>\n",
       "\t<tr><td> TRUE</td><td>FALSE</td><td>FALSE</td><td>FALSE</td><td>  22</td></tr>\n",
       "\t<tr><td> TRUE</td><td>FALSE</td><td>FALSE</td><td> TRUE</td><td>  12</td></tr>\n",
       "\t<tr><td> TRUE</td><td> TRUE</td><td>FALSE</td><td>FALSE</td><td> 266</td></tr>\n",
       "\t<tr><td> TRUE</td><td> TRUE</td><td>FALSE</td><td> TRUE</td><td> 135</td></tr>\n",
       "\t<tr><td> TRUE</td><td> TRUE</td><td> TRUE</td><td>FALSE</td><td>   2</td></tr>\n",
       "\t<tr><td>   NA</td><td>FALSE</td><td>FALSE</td><td>FALSE</td><td>  44</td></tr>\n",
       "\t<tr><td>   NA</td><td>FALSE</td><td>FALSE</td><td> TRUE</td><td>  45</td></tr>\n",
       "\t<tr><td>   NA</td><td> TRUE</td><td>FALSE</td><td>FALSE</td><td>  69</td></tr>\n",
       "\t<tr><td>   NA</td><td> TRUE</td><td>FALSE</td><td> TRUE</td><td>  95</td></tr>\n",
       "\t<tr><td>   NA</td><td>   NA</td><td>FALSE</td><td>FALSE</td><td>  79</td></tr>\n",
       "\t<tr><td>   NA</td><td>   NA</td><td>FALSE</td><td> TRUE</td><td>  67</td></tr>\n",
       "</tbody>\n",
       "</table>\n"
      ],
      "text/latex": [
       "A grouped_df: 19 × 5\n",
       "\\begin{tabular}{r|lllll}\n",
       " LESS1HOUR & FIRSTCOURSE & STOPMORTALITY & MORETHAN24HOURS & COUNT\\\\\n",
       " <lgl> & <lgl> & <lgl> & <lgl> & <int>\\\\\n",
       "\\hline\n",
       "\t FALSE & FALSE & FALSE & FALSE &  578\\\\\n",
       "\t FALSE & FALSE & FALSE &  TRUE &  485\\\\\n",
       "\t FALSE & FALSE &  TRUE & FALSE &    5\\\\\n",
       "\t FALSE & FALSE &  TRUE &  TRUE &    4\\\\\n",
       "\t FALSE &  TRUE & FALSE & FALSE & 3683\\\\\n",
       "\t FALSE &  TRUE & FALSE &  TRUE & 2909\\\\\n",
       "\t FALSE &  TRUE &  TRUE & FALSE &   17\\\\\n",
       "\t FALSE &  TRUE &  TRUE &  TRUE &    9\\\\\n",
       "\t  TRUE & FALSE & FALSE & FALSE &   22\\\\\n",
       "\t  TRUE & FALSE & FALSE &  TRUE &   12\\\\\n",
       "\t  TRUE &  TRUE & FALSE & FALSE &  266\\\\\n",
       "\t  TRUE &  TRUE & FALSE &  TRUE &  135\\\\\n",
       "\t  TRUE &  TRUE &  TRUE & FALSE &    2\\\\\n",
       "\t    NA & FALSE & FALSE & FALSE &   44\\\\\n",
       "\t    NA & FALSE & FALSE &  TRUE &   45\\\\\n",
       "\t    NA &  TRUE & FALSE & FALSE &   69\\\\\n",
       "\t    NA &  TRUE & FALSE &  TRUE &   95\\\\\n",
       "\t    NA &    NA & FALSE & FALSE &   79\\\\\n",
       "\t    NA &    NA & FALSE &  TRUE &   67\\\\\n",
       "\\end{tabular}\n"
      ],
      "text/markdown": [
       "\n",
       "A grouped_df: 19 × 5\n",
       "\n",
       "| LESS1HOUR &lt;lgl&gt; | FIRSTCOURSE &lt;lgl&gt; | STOPMORTALITY &lt;lgl&gt; | MORETHAN24HOURS &lt;lgl&gt; | COUNT &lt;int&gt; |\n",
       "|---|---|---|---|---|\n",
       "| FALSE | FALSE | FALSE | FALSE |  578 |\n",
       "| FALSE | FALSE | FALSE |  TRUE |  485 |\n",
       "| FALSE | FALSE |  TRUE | FALSE |    5 |\n",
       "| FALSE | FALSE |  TRUE |  TRUE |    4 |\n",
       "| FALSE |  TRUE | FALSE | FALSE | 3683 |\n",
       "| FALSE |  TRUE | FALSE |  TRUE | 2909 |\n",
       "| FALSE |  TRUE |  TRUE | FALSE |   17 |\n",
       "| FALSE |  TRUE |  TRUE |  TRUE |    9 |\n",
       "|  TRUE | FALSE | FALSE | FALSE |   22 |\n",
       "|  TRUE | FALSE | FALSE |  TRUE |   12 |\n",
       "|  TRUE |  TRUE | FALSE | FALSE |  266 |\n",
       "|  TRUE |  TRUE | FALSE |  TRUE |  135 |\n",
       "|  TRUE |  TRUE |  TRUE | FALSE |    2 |\n",
       "|    NA | FALSE | FALSE | FALSE |   44 |\n",
       "|    NA | FALSE | FALSE |  TRUE |   45 |\n",
       "|    NA |  TRUE | FALSE | FALSE |   69 |\n",
       "|    NA |  TRUE | FALSE |  TRUE |   95 |\n",
       "|    NA |    NA | FALSE | FALSE |   79 |\n",
       "|    NA |    NA | FALSE |  TRUE |   67 |\n",
       "\n"
      ],
      "text/plain": [
       "   LESS1HOUR FIRSTCOURSE STOPMORTALITY MORETHAN24HOURS COUNT\n",
       "1  FALSE     FALSE       FALSE         FALSE            578 \n",
       "2  FALSE     FALSE       FALSE          TRUE            485 \n",
       "3  FALSE     FALSE        TRUE         FALSE              5 \n",
       "4  FALSE     FALSE        TRUE          TRUE              4 \n",
       "5  FALSE      TRUE       FALSE         FALSE           3683 \n",
       "6  FALSE      TRUE       FALSE          TRUE           2909 \n",
       "7  FALSE      TRUE        TRUE         FALSE             17 \n",
       "8  FALSE      TRUE        TRUE          TRUE              9 \n",
       "9   TRUE     FALSE       FALSE         FALSE             22 \n",
       "10  TRUE     FALSE       FALSE          TRUE             12 \n",
       "11  TRUE      TRUE       FALSE         FALSE            266 \n",
       "12  TRUE      TRUE       FALSE          TRUE            135 \n",
       "13  TRUE      TRUE        TRUE         FALSE              2 \n",
       "14    NA     FALSE       FALSE         FALSE             44 \n",
       "15    NA     FALSE       FALSE          TRUE             45 \n",
       "16    NA      TRUE       FALSE         FALSE             69 \n",
       "17    NA      TRUE       FALSE          TRUE             95 \n",
       "18    NA        NA       FALSE         FALSE             79 \n",
       "19    NA        NA       FALSE          TRUE             67 "
      ]
     },
     "metadata": {},
     "output_type": "display_data"
    }
   ],
   "source": [
    "input_death_df %>%\n",
    "    mutate(course_id = paste(icustay_id, continuous_course, sep = \",\")) %>%\n",
    "    group_by(LESS1HOUR, FIRSTCOURSE, STOPMORTALITY, MORETHAN24HOURS) %>%\n",
    "    summarize(COUNT = length(unique(course_id)))"
   ]
  },
  {
   "cell_type": "markdown",
   "metadata": {},
   "source": [
    "### Use filters"
   ]
  },
  {
   "cell_type": "code",
   "execution_count": 603,
   "metadata": {},
   "outputs": [],
   "source": [
    "output_df <- input_death_df %>%\n",
    "    mutate(course_id = paste(icustay_id, continuous_course, sep = \",\")) %>%\n",
    "    group_by(course_id) %>%\n",
    "    mutate(starttime = min(starttime), endtime = max(endtime)) %>%\n",
    "    filter(!LESS1HOUR, FIRSTCOURSE, !STOPMORTALITY) "
   ]
  },
  {
   "cell_type": "markdown",
   "metadata": {},
   "source": [
    "# Possible predictors for >24 hrs of pressor usage\n",
    "- Age, sex, ethnicity\n",
    "    - to handle age, need to subtract icustarttime from dob as years. Then group round to nearest 10. \n",
    "- Vital signs at 2,4,6,12 hrs before pressor initiation (or a log reg of this) (vitals_df)\n",
    "- Diagnosis code (nonvitals_predictor_df)"
   ]
  },
  {
   "cell_type": "markdown",
   "metadata": {},
   "source": [
    "### Gender effect, greater risk for Male (chi-square, relative risk)"
   ]
  },
  {
   "cell_type": "code",
   "execution_count": 629,
   "metadata": {},
   "outputs": [],
   "source": [
    "gender_df <- output_df %>%\n",
    "    group_by(MORETHAN24HOURS, gender) %>%\n",
    "    summarize(COUNT = n())"
   ]
  },
  {
   "cell_type": "markdown",
   "metadata": {},
   "source": [
    "#### Chi-Square (Significant) \"there is an interaction between sex and response\""
   ]
  },
  {
   "cell_type": "code",
   "execution_count": 678,
   "metadata": {},
   "outputs": [
    {
     "data": {
      "text/plain": [
       "\n",
       "\tPearson's Chi-squared test with Yates' continuity correction\n",
       "\n",
       "data:  .\n",
       "X-squared = 15.118, df = 1, p-value = 0.000101\n"
      ]
     },
     "metadata": {},
     "output_type": "display_data"
    }
   ],
   "source": [
    "gender_df %>%\n",
    "        spread(MORETHAN24HOURS, COUNT) %>%\n",
    "        tibble::column_to_rownames(\"gender\") %>%\n",
    "        as.matrix() %>% chisq.test() "
   ]
  },
  {
   "cell_type": "markdown",
   "metadata": {},
   "source": [
    "#### Relative risk (Significant) \"there is a different RR for male compared to female for the response\""
   ]
  },
  {
   "cell_type": "code",
   "execution_count": 631,
   "metadata": {},
   "outputs": [
    {
     "data": {
      "text/html": [
       "<dl>\n",
       "\t<dt>$data</dt>\n",
       "\t\t<dd><table>\n",
       "<caption>A matrix: 3 × 3 of type int</caption>\n",
       "<thead>\n",
       "\t<tr><th></th><th scope=col>FALSE</th><th scope=col>TRUE</th><th scope=col>Total</th></tr>\n",
       "</thead>\n",
       "<tbody>\n",
       "\t<tr><th scope=row>F</th><td>2161</td><td> 4705</td><td> 6866</td></tr>\n",
       "\t<tr><th scope=row>M</th><td>2789</td><td> 6943</td><td> 9732</td></tr>\n",
       "\t<tr><th scope=row>Total</th><td>4950</td><td>11648</td><td>16598</td></tr>\n",
       "</tbody>\n",
       "</table>\n",
       "</dd>\n",
       "\t<dt>$measure</dt>\n",
       "\t\t<dd><table>\n",
       "<caption>A matrix: 2 × 3 of type dbl</caption>\n",
       "<thead>\n",
       "\t<tr><th></th><th scope=col>estimate</th><th scope=col>lower</th><th scope=col>upper</th></tr>\n",
       "</thead>\n",
       "<tbody>\n",
       "\t<tr><th scope=row>F</th><td>1.000000</td><td>      NA</td><td>      NA</td></tr>\n",
       "\t<tr><th scope=row>M</th><td>1.041092</td><td>1.020085</td><td>1.062532</td></tr>\n",
       "</tbody>\n",
       "</table>\n",
       "</dd>\n",
       "\t<dt>$p.value</dt>\n",
       "\t\t<dd><table>\n",
       "<caption>A matrix: 2 × 3 of type dbl</caption>\n",
       "<thead>\n",
       "\t<tr><th></th><th scope=col>midp.exact</th><th scope=col>fisher.exact</th><th scope=col>chi.square</th></tr>\n",
       "</thead>\n",
       "<tbody>\n",
       "\t<tr><th scope=row>F</th><td>          NA</td><td>          NA</td><td>          NA</td></tr>\n",
       "\t<tr><th scope=row>M</th><td>9.631229e-05</td><td>9.888139e-05</td><td>9.405792e-05</td></tr>\n",
       "</tbody>\n",
       "</table>\n",
       "</dd>\n",
       "\t<dt>$correction</dt>\n",
       "\t\t<dd>FALSE</dd>\n",
       "</dl>\n"
      ],
      "text/latex": [
       "\\begin{description}\n",
       "\\item[\\$data] A matrix: 3 × 3 of type int\n",
       "\\begin{tabular}{r|lll}\n",
       "  & FALSE & TRUE & Total\\\\\n",
       "\\hline\n",
       "\tF & 2161 &  4705 &  6866\\\\\n",
       "\tM & 2789 &  6943 &  9732\\\\\n",
       "\tTotal & 4950 & 11648 & 16598\\\\\n",
       "\\end{tabular}\n",
       "\n",
       "\\item[\\$measure] A matrix: 2 × 3 of type dbl\n",
       "\\begin{tabular}{r|lll}\n",
       "  & estimate & lower & upper\\\\\n",
       "\\hline\n",
       "\tF & 1.000000 &       NA &       NA\\\\\n",
       "\tM & 1.041092 & 1.020085 & 1.062532\\\\\n",
       "\\end{tabular}\n",
       "\n",
       "\\item[\\$p.value] A matrix: 2 × 3 of type dbl\n",
       "\\begin{tabular}{r|lll}\n",
       "  & midp.exact & fisher.exact & chi.square\\\\\n",
       "\\hline\n",
       "\tF &           NA &           NA &           NA\\\\\n",
       "\tM & 9.631229e-05 & 9.888139e-05 & 9.405792e-05\\\\\n",
       "\\end{tabular}\n",
       "\n",
       "\\item[\\$correction] FALSE\n",
       "\\end{description}\n"
      ],
      "text/markdown": [
       "$data\n",
       ":   \n",
       "A matrix: 3 × 3 of type int\n",
       "\n",
       "| <!--/--> | FALSE | TRUE | Total |\n",
       "|---|---|---|---|\n",
       "| F | 2161 |  4705 |  6866 |\n",
       "| M | 2789 |  6943 |  9732 |\n",
       "| Total | 4950 | 11648 | 16598 |\n",
       "\n",
       "\n",
       "$measure\n",
       ":   \n",
       "A matrix: 2 × 3 of type dbl\n",
       "\n",
       "| <!--/--> | estimate | lower | upper |\n",
       "|---|---|---|---|\n",
       "| F | 1.000000 |       NA |       NA |\n",
       "| M | 1.041092 | 1.020085 | 1.062532 |\n",
       "\n",
       "\n",
       "$p.value\n",
       ":   \n",
       "A matrix: 2 × 3 of type dbl\n",
       "\n",
       "| <!--/--> | midp.exact | fisher.exact | chi.square |\n",
       "|---|---|---|---|\n",
       "| F |           NA |           NA |           NA |\n",
       "| M | 9.631229e-05 | 9.888139e-05 | 9.405792e-05 |\n",
       "\n",
       "\n",
       "$correction\n",
       ":   FALSE\n",
       "\n",
       "\n"
      ],
      "text/plain": [
       "$data\n",
       "      FALSE  TRUE Total\n",
       "F      2161  4705  6866\n",
       "M      2789  6943  9732\n",
       "Total  4950 11648 16598\n",
       "\n",
       "$measure\n",
       "                        NA\n",
       "risk ratio with 95% C.I. estimate    lower    upper\n",
       "                       F 1.000000       NA       NA\n",
       "                       M 1.041092 1.020085 1.062532\n",
       "\n",
       "$p.value\n",
       "         NA\n",
       "two-sided   midp.exact fisher.exact   chi.square\n",
       "        F           NA           NA           NA\n",
       "        M 9.631229e-05 9.888139e-05 9.405792e-05\n",
       "\n",
       "$correction\n",
       "[1] FALSE\n",
       "\n",
       "attr(,\"method\")\n",
       "[1] \"Unconditional MLE & normal approximation (Wald) CI\""
      ]
     },
     "metadata": {},
     "output_type": "display_data"
    }
   ],
   "source": [
    "gender_df %>%\n",
    "    spread(MORETHAN24HOURS, COUNT) %>%\n",
    "    tibble::column_to_rownames(\"gender\") %>%\n",
    "    as.matrix() %>% riskratio()"
   ]
  },
  {
   "cell_type": "markdown",
   "metadata": {},
   "source": [
    "### Race, greater risk for Black (chi-square, relative risk)\n",
    "- ASIAN (grepl ASIAN), BLACK (grepl BLACK), HISPANIC (grepl HISPANIC), WHITE (grepl WHITE)"
   ]
  },
  {
   "cell_type": "code",
   "execution_count": 666,
   "metadata": {},
   "outputs": [],
   "source": [
    "races <- c(\"ASIAN\", \"BLACK\", \"HISPANIC\", \"WHITE\", \"OTHER\")\n",
    "\n",
    "simplifyRace <- function(ethnicity){\n",
    "    if(grepl(\"ASIAN\", ethnicity)){return(\"ASIAN\")}\n",
    "    else if(grepl(\"BLACK\", ethnicity)){return(\"BLACK\")}\n",
    "    else if(grepl(\"HISPANIC\", ethnicity)){return(\"HISPANIC\")}\n",
    "    else if(grepl(\"WHITE\", ethnicity)){return(\"WHITE\")}\n",
    "    else{return(\"OTHER\")}\n",
    "}"
   ]
  },
  {
   "cell_type": "code",
   "execution_count": 659,
   "metadata": {
    "scrolled": true
   },
   "outputs": [],
   "source": [
    "race_df <- output_df %>%\n",
    "    rowwise() %>%\n",
    "    mutate(RACE = simplifyRace(ethnicity)) %>%\n",
    "    group_by(MORETHAN24HOURS, RACE) %>%\n",
    "    summarize(COUNT = n())"
   ]
  },
  {
   "cell_type": "markdown",
   "metadata": {},
   "source": [
    "#### Chi-Square (Significant) \"there is an interaction between race and response\""
   ]
  },
  {
   "cell_type": "code",
   "execution_count": 674,
   "metadata": {},
   "outputs": [
    {
     "data": {
      "text/plain": [
       "\n",
       "\tPearson's Chi-squared test\n",
       "\n",
       "data:  .\n",
       "X-squared = 11.889, df = 4, p-value = 0.0182\n"
      ]
     },
     "metadata": {},
     "output_type": "display_data"
    }
   ],
   "source": [
    "race_df %>%\n",
    "        spread(MORETHAN24HOURS, COUNT) %>%\n",
    "        tibble::column_to_rownames(\"RACE\") %>%\n",
    "        as.matrix() %>% chisq.test() "
   ]
  },
  {
   "cell_type": "markdown",
   "metadata": {},
   "source": [
    "#### Relative risk (Some significant) \"there is a different RR for X race compared to not X races for the response\""
   ]
  },
  {
   "cell_type": "code",
   "execution_count": 672,
   "metadata": {},
   "outputs": [
    {
     "name": "stdout",
     "output_type": "stream",
     "text": [
      "\n",
      "\n",
      "#### ASIAN ####\n",
      "\n",
      "$data\n",
      "      FALSE  TRUE Total\n",
      "FALSE  4810 11333 16143\n",
      "TRUE    140   315   455\n",
      "Total  4950 11648 16598\n",
      "\n",
      "$measure\n",
      "                        NA\n",
      "risk ratio with 95% C.I.  estimate     lower    upper\n",
      "                   FALSE 1.0000000        NA       NA\n",
      "                   TRUE  0.9861399 0.9267862 1.049295\n",
      "\n",
      "$p.value\n",
      "         NA\n",
      "two-sided midp.exact fisher.exact chi.square\n",
      "    FALSE         NA           NA         NA\n",
      "    TRUE   0.6512484    0.6776775  0.6545643\n",
      "\n",
      "$correction\n",
      "[1] FALSE\n",
      "\n",
      "attr(,\"method\")\n",
      "[1] \"Unconditional MLE & normal approximation (Wald) CI\"\n",
      "\n",
      "\n",
      "#### BLACK ####\n",
      "\n",
      "$data\n",
      "      FALSE  TRUE Total\n",
      "FALSE  4544 10538 15082\n",
      "TRUE    406  1110  1516\n",
      "Total  4950 11648 16598\n",
      "\n",
      "$measure\n",
      "                        NA\n",
      "risk ratio with 95% C.I. estimate    lower  upper\n",
      "                   FALSE 1.000000       NA     NA\n",
      "                   TRUE  1.047911 1.014709 1.0822\n",
      "\n",
      "$p.value\n",
      "         NA\n",
      "two-sided  midp.exact fisher.exact  chi.square\n",
      "    FALSE          NA           NA          NA\n",
      "    TRUE  0.006204903  0.006726395 0.006609335\n",
      "\n",
      "$correction\n",
      "[1] FALSE\n",
      "\n",
      "attr(,\"method\")\n",
      "[1] \"Unconditional MLE & normal approximation (Wald) CI\"\n",
      "\n",
      "\n",
      "#### HISPANIC ####\n",
      "\n",
      "$data\n",
      "      FALSE  TRUE Total\n",
      "FALSE  4813 11300 16113\n",
      "TRUE    137   348   485\n",
      "Total  4950 11648 16598\n",
      "\n",
      "$measure\n",
      "                        NA\n",
      "risk ratio with 95% C.I. estimate    lower    upper\n",
      "                   FALSE 1.000000       NA       NA\n",
      "                   TRUE  1.023141 0.966702 1.082875\n",
      "\n",
      "$p.value\n",
      "         NA\n",
      "two-sided midp.exact fisher.exact chi.square\n",
      "    FALSE         NA           NA         NA\n",
      "    TRUE    0.443606    0.4806835  0.4414563\n",
      "\n",
      "$correction\n",
      "[1] FALSE\n",
      "\n",
      "attr(,\"method\")\n",
      "[1] \"Unconditional MLE & normal approximation (Wald) CI\"\n",
      "\n",
      "\n",
      "#### WHITE ####\n",
      "\n",
      "$data\n",
      "      FALSE  TRUE Total\n",
      "FALSE  1453  3689  5142\n",
      "TRUE   3497  7959 11456\n",
      "Total  4950 11648 16598\n",
      "\n",
      "$measure\n",
      "                        NA\n",
      "risk ratio with 95% C.I.  estimate     lower     upper\n",
      "                   FALSE 1.0000000        NA        NA\n",
      "                   TRUE  0.9683869 0.9482496 0.9889519\n",
      "\n",
      "$p.value\n",
      "         NA\n",
      "two-sided  midp.exact fisher.exact  chi.square\n",
      "    FALSE          NA           NA          NA\n",
      "    TRUE  0.003071288  0.003139317 0.003142723\n",
      "\n",
      "$correction\n",
      "[1] FALSE\n",
      "\n",
      "attr(,\"method\")\n",
      "[1] \"Unconditional MLE & normal approximation (Wald) CI\"\n",
      "\n",
      "\n",
      "#### OTHER ####\n",
      "\n",
      "$data\n",
      "      FALSE  TRUE Total\n",
      "FALSE  4180  9732 13912\n",
      "TRUE    770  1916  2686\n",
      "Total  4950 11648 16598\n",
      "\n",
      "$measure\n",
      "                        NA\n",
      "risk ratio with 95% C.I. estimate     lower    upper\n",
      "                   FALSE 1.000000        NA       NA\n",
      "                   TRUE  1.019711 0.9932104 1.046918\n",
      "\n",
      "$p.value\n",
      "         NA\n",
      "two-sided midp.exact fisher.exact chi.square\n",
      "    FALSE         NA           NA         NA\n",
      "    TRUE   0.1521565    0.1599735  0.1526931\n",
      "\n",
      "$correction\n",
      "[1] FALSE\n",
      "\n",
      "attr(,\"method\")\n",
      "[1] \"Unconditional MLE & normal approximation (Wald) CI\"\n"
     ]
    }
   ],
   "source": [
    "for(race in races){\n",
    "   output <- race_df %>%\n",
    "        mutate(RACE_BOOL = RACE == race) %>%\n",
    "        group_by(RACE_BOOL, MORETHAN24HOURS) %>%\n",
    "        summarize(COUNT = sum(COUNT)) %>%\n",
    "        spread(MORETHAN24HOURS, COUNT) %>%\n",
    "        tibble::column_to_rownames(\"RACE_BOOL\") %>%\n",
    "        as.matrix() %>% riskratio() \n",
    "    cat(\"\\n\\n####\", race, \"####\\n\\n\")\n",
    "    print(output)\n",
    "}\n"
   ]
  },
  {
   "cell_type": "markdown",
   "metadata": {},
   "source": [
    "### Age effect strong for 30s (wilcox, chi-square, RR greater than, RR within group)"
   ]
  },
  {
   "cell_type": "code",
   "execution_count": 676,
   "metadata": {},
   "outputs": [],
   "source": [
    "age_df <- output_df %>%\n",
    "    group_by(MORETHAN24HOURS, age_cohort) %>%\n",
    "    summarize(COUNT = n()) %>%\n",
    "    drop_na(age_cohort)"
   ]
  },
  {
   "cell_type": "markdown",
   "metadata": {},
   "source": [
    "#### Wilcox (Significant) \"there is an interaction between age and response\""
   ]
  },
  {
   "cell_type": "code",
   "execution_count": 638,
   "metadata": {},
   "outputs": [
    {
     "data": {
      "text/plain": [
       "\n",
       "\tWilcoxon rank sum test with continuity correction\n",
       "\n",
       "data:  as.numeric(output_df$age) and as.numeric(output_df$MORETHAN24HOURS)\n",
       "W = 263808612, p-value < 2.2e-16\n",
       "alternative hypothesis: true location shift is not equal to 0\n"
      ]
     },
     "metadata": {},
     "output_type": "display_data"
    }
   ],
   "source": [
    "wilcox.test(as.numeric(output_df$age), as.numeric(output_df$MORETHAN24HOURS))"
   ]
  },
  {
   "cell_type": "markdown",
   "metadata": {},
   "source": [
    "#### Chi-square (Significant) \"there is an interaction between age cohort and response\""
   ]
  },
  {
   "cell_type": "code",
   "execution_count": 677,
   "metadata": {},
   "outputs": [
    {
     "data": {
      "text/plain": [
       "\n",
       "\tPearson's Chi-squared test\n",
       "\n",
       "data:  .\n",
       "X-squared = 143.81, df = 7, p-value < 2.2e-16\n"
      ]
     },
     "metadata": {},
     "output_type": "display_data"
    }
   ],
   "source": [
    "age_df %>%\n",
    "        spread(MORETHAN24HOURS, COUNT) %>%\n",
    "        tibble::column_to_rownames(\"age_cohort\") %>%\n",
    "        as.matrix() %>% chisq.test() "
   ]
  },
  {
   "cell_type": "markdown",
   "metadata": {},
   "source": [
    "#### Relative risk (Some significant) \"there is a different RR for X age cohort compared to not X age cohort for the response\"\n",
    "- People in their 30s tend to end up on pressors >24 hrs (not 20s, or >40+)"
   ]
  },
  {
   "cell_type": "code",
   "execution_count": 679,
   "metadata": {},
   "outputs": [
    {
     "name": "stdout",
     "output_type": "stream",
     "text": [
      "\n",
      "\n",
      "#### 20 ####\n",
      "\n",
      "$data\n",
      "      FALSE  TRUE Total\n",
      "FALSE  4633 11117 15750\n",
      "TRUE     51    93   144\n",
      "Total  4684 11210 15894\n",
      "\n",
      "$measure\n",
      "                        NA\n",
      "risk ratio with 95% C.I.  estimate     lower    upper\n",
      "                   FALSE 1.0000000        NA       NA\n",
      "                   TRUE  0.9149838 0.8104062 1.033056\n",
      "\n",
      "$p.value\n",
      "         NA\n",
      "two-sided midp.exact fisher.exact chi.square\n",
      "    FALSE         NA           NA         NA\n",
      "    TRUE   0.1210691    0.1190291  0.1158809\n",
      "\n",
      "$correction\n",
      "[1] FALSE\n",
      "\n",
      "attr(,\"method\")\n",
      "[1] \"Unconditional MLE & normal approximation (Wald) CI\"\n",
      "\n",
      "\n",
      "#### 30 ####\n",
      "\n",
      "$data\n",
      "      FALSE  TRUE Total\n",
      "FALSE  4586 10807 15393\n",
      "TRUE     98   403   501\n",
      "Total  4684 11210 15894\n",
      "\n",
      "$measure\n",
      "                        NA\n",
      "risk ratio with 95% C.I. estimate    lower    upper\n",
      "                   FALSE 1.000000       NA       NA\n",
      "                   TRUE  1.145738 1.095991 1.197743\n",
      "\n",
      "$p.value\n",
      "         NA\n",
      "two-sided   midp.exact fisher.exact  chi.square\n",
      "    FALSE           NA           NA          NA\n",
      "    TRUE  3.004746e-07 3.415331e-07 7.67012e-07\n",
      "\n",
      "$correction\n",
      "[1] FALSE\n",
      "\n",
      "attr(,\"method\")\n",
      "[1] \"Unconditional MLE & normal approximation (Wald) CI\"\n",
      "\n",
      "\n",
      "#### 40 ####\n",
      "\n",
      "$data\n",
      "      FALSE  TRUE Total\n",
      "FALSE  4489 10556 15045\n",
      "TRUE    195   654   849\n",
      "Total  4684 11210 15894\n",
      "\n",
      "$measure\n",
      "                        NA\n",
      "risk ratio with 95% C.I. estimate    lower    upper\n",
      "                   FALSE   1.0000       NA       NA\n",
      "                   TRUE    1.0979 1.056773 1.140628\n",
      "\n",
      "$p.value\n",
      "         NA\n",
      "two-sided  midp.exact fisher.exact   chi.square\n",
      "    FALSE          NA           NA           NA\n",
      "    TRUE  1.29104e-05 1.425673e-05 1.944565e-05\n",
      "\n",
      "$correction\n",
      "[1] FALSE\n",
      "\n",
      "attr(,\"method\")\n",
      "[1] \"Unconditional MLE & normal approximation (Wald) CI\"\n",
      "\n",
      "\n",
      "#### 50 ####\n",
      "\n",
      "$data\n",
      "      FALSE  TRUE Total\n",
      "FALSE  4106  9404 13510\n",
      "TRUE    578  1806  2384\n",
      "Total  4684 11210 15894\n",
      "\n",
      "$measure\n",
      "                        NA\n",
      "risk ratio with 95% C.I. estimate   lower    upper\n",
      "                   FALSE 1.000000      NA       NA\n",
      "                   TRUE  1.088314 1.06113 1.116194\n",
      "\n",
      "$p.value\n",
      "         NA\n",
      "two-sided   midp.exact fisher.exact   chi.square\n",
      "    FALSE           NA           NA           NA\n",
      "    TRUE  7.187433e-10 7.925967e-10 1.280842e-09\n",
      "\n",
      "$correction\n",
      "[1] FALSE\n",
      "\n",
      "attr(,\"method\")\n",
      "[1] \"Unconditional MLE & normal approximation (Wald) CI\"\n",
      "\n",
      "\n",
      "#### 60 ####\n",
      "\n",
      "$data\n",
      "      FALSE  TRUE Total\n",
      "FALSE  3667  8628 12295\n",
      "TRUE   1017  2582  3599\n",
      "Total  4684 11210 15894\n",
      "\n",
      "$measure\n",
      "                        NA\n",
      "risk ratio with 95% C.I. estimate     lower    upper\n",
      "                   FALSE 1.000000        NA       NA\n",
      "                   TRUE  1.022334 0.9985689 1.046665\n",
      "\n",
      "$p.value\n",
      "         NA\n",
      "two-sided midp.exact fisher.exact chi.square\n",
      "    FALSE         NA           NA         NA\n",
      "    TRUE  0.06919324   0.07057429 0.06969662\n",
      "\n",
      "$correction\n",
      "[1] FALSE\n",
      "\n",
      "attr(,\"method\")\n",
      "[1] \"Unconditional MLE & normal approximation (Wald) CI\"\n",
      "\n",
      "\n",
      "#### 70 ####\n",
      "\n",
      "$data\n",
      "      FALSE  TRUE Total\n",
      "FALSE  3522  8610 12132\n",
      "TRUE   1162  2600  3762\n",
      "Total  4684 11210 15894\n",
      "\n",
      "$measure\n",
      "                        NA\n",
      "risk ratio with 95% C.I.  estimate     lower     upper\n",
      "                   FALSE 1.0000000        NA        NA\n",
      "                   TRUE  0.9738315 0.9505428 0.9976908\n",
      "\n",
      "$p.value\n",
      "         NA\n",
      "two-sided midp.exact fisher.exact chi.square\n",
      "    FALSE         NA           NA         NA\n",
      "    TRUE  0.02947515   0.03004743 0.02904424\n",
      "\n",
      "$correction\n",
      "[1] FALSE\n",
      "\n",
      "attr(,\"method\")\n",
      "[1] \"Unconditional MLE & normal approximation (Wald) CI\"\n",
      "\n",
      "\n",
      "#### 80 ####\n",
      "\n",
      "$data\n",
      "      FALSE  TRUE Total\n",
      "FALSE  3407  8593 12000\n",
      "TRUE   1277  2617  3894\n",
      "Total  4684 11210 15894\n",
      "\n",
      "$measure\n",
      "                        NA\n",
      "risk ratio with 95% C.I.  estimate     lower     upper\n",
      "                   FALSE 1.0000000        NA        NA\n",
      "                   TRUE  0.9385215 0.9156571 0.9619568\n",
      "\n",
      "$p.value\n",
      "         NA\n",
      "two-sided   midp.exact fisher.exact   chi.square\n",
      "    FALSE           NA           NA           NA\n",
      "    TRUE  1.989303e-07 1.993538e-07 1.642934e-07\n",
      "\n",
      "$correction\n",
      "[1] FALSE\n",
      "\n",
      "attr(,\"method\")\n",
      "[1] \"Unconditional MLE & normal approximation (Wald) CI\"\n",
      "\n",
      "\n",
      "#### 90 ####\n",
      "\n",
      "$data\n",
      "      FALSE  TRUE Total\n",
      "FALSE  4378 10755 15133\n",
      "TRUE    306   455   761\n",
      "Total  4684 11210 15894\n",
      "\n",
      "$measure\n",
      "                        NA\n",
      "risk ratio with 95% C.I.  estimate     lower     upper\n",
      "                   FALSE 1.0000000        NA        NA\n",
      "                   TRUE  0.8412815 0.7929664 0.8925405\n",
      "\n",
      "$p.value\n",
      "         NA\n",
      "two-sided   midp.exact fisher.exact   chi.square\n",
      "    FALSE           NA           NA           NA\n",
      "    TRUE  9.291179e-11 9.915741e-11 2.738617e-11\n",
      "\n",
      "$correction\n",
      "[1] FALSE\n",
      "\n",
      "attr(,\"method\")\n",
      "[1] \"Unconditional MLE & normal approximation (Wald) CI\"\n"
     ]
    }
   ],
   "source": [
    "for(ac in unique(age_df$age_cohort)){\n",
    "   output <- age_df %>%\n",
    "        mutate(AGE_BOOL = age_cohort == ac) %>%\n",
    "        group_by(AGE_BOOL, MORETHAN24HOURS) %>%\n",
    "        summarize(COUNT = sum(COUNT)) %>%\n",
    "        spread(MORETHAN24HOURS, COUNT) %>%\n",
    "        tibble::column_to_rownames(\"AGE_BOOL\") %>%\n",
    "        as.matrix() %>% riskratio() \n",
    "    cat(\"\\n\\n####\", ac, \"####\\n\\n\")\n",
    "    print(output)\n",
    "}"
   ]
  },
  {
   "cell_type": "markdown",
   "metadata": {},
   "source": [
    "#### Relative risk (Some significant) \"there is a different RR for X > age cohort compared to X < age cohort for the response\"\n",
    "- People in their 20-40s tend to end up on pressors >24 hrs (not <20s, or >40s)"
   ]
  },
  {
   "cell_type": "code",
   "execution_count": 681,
   "metadata": {},
   "outputs": [
    {
     "name": "stdout",
     "output_type": "stream",
     "text": [
      "\n",
      "\n",
      "#### greater than 20 ####\n",
      "\n",
      "$data\n",
      "      FALSE  TRUE Total\n",
      "FALSE    51    93   144\n",
      "TRUE   4633 11117 15750\n",
      "Total  4684 11210 15894\n",
      "\n",
      "$measure\n",
      "                        NA\n",
      "risk ratio with 95% C.I. estimate     lower    upper\n",
      "                   FALSE 1.000000        NA       NA\n",
      "                   TRUE  1.092916 0.9680013 1.233949\n",
      "\n",
      "$p.value\n",
      "         NA\n",
      "two-sided midp.exact fisher.exact chi.square\n",
      "    FALSE         NA           NA         NA\n",
      "    TRUE   0.1210691    0.1190291  0.1158809\n",
      "\n",
      "$correction\n",
      "[1] FALSE\n",
      "\n",
      "attr(,\"method\")\n",
      "[1] \"Unconditional MLE & normal approximation (Wald) CI\"\n",
      "\n",
      "\n",
      "#### greater than 30 ####\n",
      "\n",
      "$data\n",
      "      FALSE  TRUE Total\n",
      "FALSE   149   496   645\n",
      "TRUE   4535 10714 15249\n",
      "Total  4684 11210 15894\n",
      "\n",
      "$measure\n",
      "                        NA\n",
      "risk ratio with 95% C.I.  estimate   lower     upper\n",
      "                   FALSE 1.0000000      NA        NA\n",
      "                   TRUE  0.9136678 0.87474 0.9543279\n",
      "\n",
      "$p.value\n",
      "         NA\n",
      "two-sided   midp.exact fisher.exact   chi.square\n",
      "    FALSE           NA           NA           NA\n",
      "    TRUE  0.0002191915 0.0002473612 0.0002918418\n",
      "\n",
      "$correction\n",
      "[1] FALSE\n",
      "\n",
      "attr(,\"method\")\n",
      "[1] \"Unconditional MLE & normal approximation (Wald) CI\"\n",
      "\n",
      "\n",
      "#### greater than 40 ####\n",
      "\n",
      "$data\n",
      "      FALSE  TRUE Total\n",
      "FALSE   344  1150  1494\n",
      "TRUE   4340 10060 14400\n",
      "Total  4684 11210 15894\n",
      "\n",
      "$measure\n",
      "                        NA\n",
      "risk ratio with 95% C.I. estimate     lower     upper\n",
      "                   FALSE 1.000000        NA        NA\n",
      "                   TRUE  0.907587 0.8809963 0.9349802\n",
      "\n",
      "$p.value\n",
      "         NA\n",
      "two-sided   midp.exact fisher.exact   chi.square\n",
      "    FALSE           NA           NA           NA\n",
      "    TRUE  4.640872e-09 4.874805e-09 9.445127e-09\n",
      "\n",
      "$correction\n",
      "[1] FALSE\n",
      "\n",
      "attr(,\"method\")\n",
      "[1] \"Unconditional MLE & normal approximation (Wald) CI\"\n",
      "\n",
      "\n",
      "#### greater than 50 ####\n",
      "\n",
      "$data\n",
      "      FALSE  TRUE Total\n",
      "FALSE   922  2956  3878\n",
      "TRUE   3762  8254 12016\n",
      "Total  4684 11210 15894\n",
      "\n",
      "$measure\n",
      "                        NA\n",
      "risk ratio with 95% C.I.  estimate   lower     upper\n",
      "                   FALSE 1.0000000      NA        NA\n",
      "                   TRUE  0.9011725 0.88216 0.9205947\n",
      "\n",
      "$p.value\n",
      "         NA\n",
      "two-sided midp.exact fisher.exact   chi.square\n",
      "    FALSE         NA           NA           NA\n",
      "    TRUE           0 1.232151e-19 3.662084e-19\n",
      "\n",
      "$correction\n",
      "[1] FALSE\n",
      "\n",
      "attr(,\"method\")\n",
      "[1] \"Unconditional MLE & normal approximation (Wald) CI\"\n",
      "\n",
      "\n",
      "#### greater than 60 ####\n",
      "\n",
      "$data\n",
      "      FALSE  TRUE Total\n",
      "FALSE  1939  5538  7477\n",
      "TRUE   2745  5672  8417\n",
      "Total  4684 11210 15894\n",
      "\n",
      "$measure\n",
      "                        NA\n",
      "risk ratio with 95% C.I.  estimate    lower     upper\n",
      "                   FALSE 1.0000000       NA        NA\n",
      "                   TRUE  0.9098155 0.891783 0.9282126\n",
      "\n",
      "$p.value\n",
      "         NA\n",
      "two-sided midp.exact fisher.exact   chi.square\n",
      "    FALSE         NA           NA           NA\n",
      "    TRUE           0 2.780929e-20 2.986138e-20\n",
      "\n",
      "$correction\n",
      "[1] FALSE\n",
      "\n",
      "attr(,\"method\")\n",
      "[1] \"Unconditional MLE & normal approximation (Wald) CI\"\n",
      "\n",
      "\n",
      "#### greater than 70 ####\n",
      "\n",
      "$data\n",
      "      FALSE  TRUE Total\n",
      "FALSE  3101  8138 11239\n",
      "TRUE   1583  3072  4655\n",
      "Total  4684 11210 15894\n",
      "\n",
      "$measure\n",
      "                        NA\n",
      "risk ratio with 95% C.I.  estimate     lower    upper\n",
      "                   FALSE 1.0000000        NA       NA\n",
      "                   TRUE  0.9114052 0.8901757 0.933141\n",
      "\n",
      "$p.value\n",
      "         NA\n",
      "two-sided   midp.exact fisher.exact   chi.square\n",
      "    FALSE           NA           NA           NA\n",
      "    TRUE  1.110223e-15 1.269199e-15 6.867285e-16\n",
      "\n",
      "$correction\n",
      "[1] FALSE\n",
      "\n",
      "attr(,\"method\")\n",
      "[1] \"Unconditional MLE & normal approximation (Wald) CI\"\n",
      "\n",
      "\n",
      "#### greater than 80 ####\n",
      "\n",
      "$data\n",
      "      FALSE  TRUE Total\n",
      "FALSE  4378 10755 15133\n",
      "TRUE    306   455   761\n",
      "Total  4684 11210 15894\n",
      "\n",
      "$measure\n",
      "                        NA\n",
      "risk ratio with 95% C.I.  estimate     lower     upper\n",
      "                   FALSE 1.0000000        NA        NA\n",
      "                   TRUE  0.8412815 0.7929664 0.8925405\n",
      "\n",
      "$p.value\n",
      "         NA\n",
      "two-sided   midp.exact fisher.exact   chi.square\n",
      "    FALSE           NA           NA           NA\n",
      "    TRUE  9.291179e-11 9.915741e-11 2.738617e-11\n",
      "\n",
      "$correction\n",
      "[1] FALSE\n",
      "\n",
      "attr(,\"method\")\n",
      "[1] \"Unconditional MLE & normal approximation (Wald) CI\"\n"
     ]
    },
    {
     "ename": "ERROR",
     "evalue": "Error in table.margins(x): x is not an array\n",
     "output_type": "error",
     "traceback": [
      "Error in table.margins(x): x is not an array\nTraceback:\n",
      "1. age_df %>% mutate(AGE_BOOL = age_cohort > ac) %>% group_by(AGE_BOOL, \n .     MORETHAN24HOURS) %>% summarize(COUNT = sum(COUNT)) %>% spread(MORETHAN24HOURS, \n .     COUNT) %>% tibble::column_to_rownames(\"AGE_BOOL\") %>% as.matrix() %>% \n .     riskratio()",
      "2. withVisible(eval(quote(`_fseq`(`_lhs`)), env, env))",
      "3. eval(quote(`_fseq`(`_lhs`)), env, env)",
      "4. eval(quote(`_fseq`(`_lhs`)), env, env)",
      "5. `_fseq`(`_lhs`)",
      "6. freduce(value, `_function_list`)",
      "7. withVisible(function_list[[k]](value))",
      "8. function_list[[k]](value)",
      "9. riskratio(.)",
      "10. riskratio.wald(x, conf.level = conf.level, verbose = verbose, \n  .     correction = correction)",
      "11. table.margins(x)",
      "12. stop(\"x is not an array\")"
     ]
    }
   ],
   "source": [
    "for(ac in unique(age_df$age_cohort)){\n",
    "   output <- age_df %>%\n",
    "        mutate(AGE_BOOL = age_cohort > ac) %>%\n",
    "        group_by(AGE_BOOL, MORETHAN24HOURS) %>%\n",
    "        summarize(COUNT = sum(COUNT)) %>%\n",
    "        spread(MORETHAN24HOURS, COUNT) %>%\n",
    "        tibble::column_to_rownames(\"AGE_BOOL\") %>%\n",
    "        as.matrix() %>% riskratio() \n",
    "    cat(\"\\n\\n####\", 'greater than', ac, \"####\\n\\n\")\n",
    "    print(output)\n",
    "}"
   ]
  },
  {
   "cell_type": "markdown",
   "metadata": {},
   "source": [
    "### PMH and diagnosis"
   ]
  },
  {
   "cell_type": "code",
   "execution_count": 695,
   "metadata": {},
   "outputs": [
    {
     "data": {
      "text/html": [
       "<ol class=list-inline>\n",
       "\t<li>'X.x.x'</li>\n",
       "\t<li>'level_0'</li>\n",
       "\t<li>'level_1'</li>\n",
       "\t<li>'duration_hours'</li>\n",
       "\t<li>'endtime'</li>\n",
       "\t<li>'icustay_id'</li>\n",
       "\t<li>'num'</li>\n",
       "\t<li>'pressor'</li>\n",
       "\t<li>'starttime'</li>\n",
       "\t<li>'vasonum'</li>\n",
       "\t<li>'ventnum'</li>\n",
       "\t<li>'X.y.x'</li>\n",
       "\t<li>'icustarttime'</li>\n",
       "\t<li>'icuendtime'</li>\n",
       "\t<li>'DIFF'</li>\n",
       "\t<li>'continuous_course'</li>\n",
       "\t<li>'MORETHAN24HOURS'</li>\n",
       "\t<li>'coursestarttime'</li>\n",
       "\t<li>'FIRSTCOURSE'</li>\n",
       "\t<li>'LESS1HOUR'</li>\n",
       "\t<li>'hadm_id'</li>\n",
       "\t<li>'first_careunit'</li>\n",
       "\t<li>'last_careunit'</li>\n",
       "\t<li>'X.x.y'</li>\n",
       "\t<li>'row_id.x'</li>\n",
       "\t<li>'subject_id'</li>\n",
       "\t<li>'admittime'</li>\n",
       "\t<li>'dischtime'</li>\n",
       "\t<li>'deathtime'</li>\n",
       "\t<li>'admission_type'</li>\n",
       "\t<li>'admission_location'</li>\n",
       "\t<li>'discharge_location'</li>\n",
       "\t<li>'insurance'</li>\n",
       "\t<li>'language'</li>\n",
       "\t<li>'religion'</li>\n",
       "\t<li>'marital_status'</li>\n",
       "\t<li>'ethnicity'</li>\n",
       "\t<li>'edregtime'</li>\n",
       "\t<li>'edouttime'</li>\n",
       "\t<li>'diagnosis'</li>\n",
       "\t<li>'hospital_expire_flag'</li>\n",
       "\t<li>'has_chartevents_data'</li>\n",
       "\t<li>'X.y.y'</li>\n",
       "\t<li>'row_id.y'</li>\n",
       "\t<li>'gender'</li>\n",
       "\t<li>'dob'</li>\n",
       "\t<li>'dod'</li>\n",
       "\t<li>'dod_hosp'</li>\n",
       "\t<li>'dod_ssn'</li>\n",
       "\t<li>'expire_flag'</li>\n",
       "\t<li>'age'</li>\n",
       "\t<li>'age_cohort'</li>\n",
       "\t<li>'STOPMORTALITY'</li>\n",
       "\t<li>'course_id'</li>\n",
       "</ol>\n"
      ],
      "text/latex": [
       "\\begin{enumerate*}\n",
       "\\item 'X.x.x'\n",
       "\\item 'level\\_0'\n",
       "\\item 'level\\_1'\n",
       "\\item 'duration\\_hours'\n",
       "\\item 'endtime'\n",
       "\\item 'icustay\\_id'\n",
       "\\item 'num'\n",
       "\\item 'pressor'\n",
       "\\item 'starttime'\n",
       "\\item 'vasonum'\n",
       "\\item 'ventnum'\n",
       "\\item 'X.y.x'\n",
       "\\item 'icustarttime'\n",
       "\\item 'icuendtime'\n",
       "\\item 'DIFF'\n",
       "\\item 'continuous\\_course'\n",
       "\\item 'MORETHAN24HOURS'\n",
       "\\item 'coursestarttime'\n",
       "\\item 'FIRSTCOURSE'\n",
       "\\item 'LESS1HOUR'\n",
       "\\item 'hadm\\_id'\n",
       "\\item 'first\\_careunit'\n",
       "\\item 'last\\_careunit'\n",
       "\\item 'X.x.y'\n",
       "\\item 'row\\_id.x'\n",
       "\\item 'subject\\_id'\n",
       "\\item 'admittime'\n",
       "\\item 'dischtime'\n",
       "\\item 'deathtime'\n",
       "\\item 'admission\\_type'\n",
       "\\item 'admission\\_location'\n",
       "\\item 'discharge\\_location'\n",
       "\\item 'insurance'\n",
       "\\item 'language'\n",
       "\\item 'religion'\n",
       "\\item 'marital\\_status'\n",
       "\\item 'ethnicity'\n",
       "\\item 'edregtime'\n",
       "\\item 'edouttime'\n",
       "\\item 'diagnosis'\n",
       "\\item 'hospital\\_expire\\_flag'\n",
       "\\item 'has\\_chartevents\\_data'\n",
       "\\item 'X.y.y'\n",
       "\\item 'row\\_id.y'\n",
       "\\item 'gender'\n",
       "\\item 'dob'\n",
       "\\item 'dod'\n",
       "\\item 'dod\\_hosp'\n",
       "\\item 'dod\\_ssn'\n",
       "\\item 'expire\\_flag'\n",
       "\\item 'age'\n",
       "\\item 'age\\_cohort'\n",
       "\\item 'STOPMORTALITY'\n",
       "\\item 'course\\_id'\n",
       "\\end{enumerate*}\n"
      ],
      "text/markdown": [
       "1. 'X.x.x'\n",
       "2. 'level_0'\n",
       "3. 'level_1'\n",
       "4. 'duration_hours'\n",
       "5. 'endtime'\n",
       "6. 'icustay_id'\n",
       "7. 'num'\n",
       "8. 'pressor'\n",
       "9. 'starttime'\n",
       "10. 'vasonum'\n",
       "11. 'ventnum'\n",
       "12. 'X.y.x'\n",
       "13. 'icustarttime'\n",
       "14. 'icuendtime'\n",
       "15. 'DIFF'\n",
       "16. 'continuous_course'\n",
       "17. 'MORETHAN24HOURS'\n",
       "18. 'coursestarttime'\n",
       "19. 'FIRSTCOURSE'\n",
       "20. 'LESS1HOUR'\n",
       "21. 'hadm_id'\n",
       "22. 'first_careunit'\n",
       "23. 'last_careunit'\n",
       "24. 'X.x.y'\n",
       "25. 'row_id.x'\n",
       "26. 'subject_id'\n",
       "27. 'admittime'\n",
       "28. 'dischtime'\n",
       "29. 'deathtime'\n",
       "30. 'admission_type'\n",
       "31. 'admission_location'\n",
       "32. 'discharge_location'\n",
       "33. 'insurance'\n",
       "34. 'language'\n",
       "35. 'religion'\n",
       "36. 'marital_status'\n",
       "37. 'ethnicity'\n",
       "38. 'edregtime'\n",
       "39. 'edouttime'\n",
       "40. 'diagnosis'\n",
       "41. 'hospital_expire_flag'\n",
       "42. 'has_chartevents_data'\n",
       "43. 'X.y.y'\n",
       "44. 'row_id.y'\n",
       "45. 'gender'\n",
       "46. 'dob'\n",
       "47. 'dod'\n",
       "48. 'dod_hosp'\n",
       "49. 'dod_ssn'\n",
       "50. 'expire_flag'\n",
       "51. 'age'\n",
       "52. 'age_cohort'\n",
       "53. 'STOPMORTALITY'\n",
       "54. 'course_id'\n",
       "\n",
       "\n"
      ],
      "text/plain": [
       " [1] \"X.x.x\"                \"level_0\"              \"level_1\"             \n",
       " [4] \"duration_hours\"       \"endtime\"              \"icustay_id\"          \n",
       " [7] \"num\"                  \"pressor\"              \"starttime\"           \n",
       "[10] \"vasonum\"              \"ventnum\"              \"X.y.x\"               \n",
       "[13] \"icustarttime\"         \"icuendtime\"           \"DIFF\"                \n",
       "[16] \"continuous_course\"    \"MORETHAN24HOURS\"      \"coursestarttime\"     \n",
       "[19] \"FIRSTCOURSE\"          \"LESS1HOUR\"            \"hadm_id\"             \n",
       "[22] \"first_careunit\"       \"last_careunit\"        \"X.x.y\"               \n",
       "[25] \"row_id.x\"             \"subject_id\"           \"admittime\"           \n",
       "[28] \"dischtime\"            \"deathtime\"            \"admission_type\"      \n",
       "[31] \"admission_location\"   \"discharge_location\"   \"insurance\"           \n",
       "[34] \"language\"             \"religion\"             \"marital_status\"      \n",
       "[37] \"ethnicity\"            \"edregtime\"            \"edouttime\"           \n",
       "[40] \"diagnosis\"            \"hospital_expire_flag\" \"has_chartevents_data\"\n",
       "[43] \"X.y.y\"                \"row_id.y\"             \"gender\"              \n",
       "[46] \"dob\"                  \"dod\"                  \"dod_hosp\"            \n",
       "[49] \"dod_ssn\"              \"expire_flag\"          \"age\"                 \n",
       "[52] \"age_cohort\"           \"STOPMORTALITY\"        \"course_id\"           "
      ]
     },
     "metadata": {},
     "output_type": "display_data"
    }
   ],
   "source": [
    "# come up with categories\n",
    "# infection, blood, other\n",
    "# assign to word closest (create a minimum distance else other)"
   ]
  },
  {
   "cell_type": "code",
   "execution_count": 696,
   "metadata": {},
   "outputs": [
    {
     "data": {
      "text/html": [
       "<table>\n",
       "<caption>A tibble: 2560 × 2</caption>\n",
       "<thead>\n",
       "\t<tr><th scope=col>diagnosis</th><th scope=col>COUNT</th></tr>\n",
       "\t<tr><th scope=col>&lt;fct&gt;</th><th scope=col>&lt;int&gt;</th></tr>\n",
       "</thead>\n",
       "<tbody>\n",
       "\t<tr><td>SEPSIS                                                   </td><td>1247</td></tr>\n",
       "\t<tr><td>PNEUMONIA                                                </td><td> 849</td></tr>\n",
       "\t<tr><td>CONGESTIVE HEART FAILURE                                 </td><td> 443</td></tr>\n",
       "\t<tr><td>HYPOTENSION                                              </td><td> 327</td></tr>\n",
       "\t<tr><td>PANCREATITIS                                             </td><td> 314</td></tr>\n",
       "\t<tr><td>SUBARACHNOID HEMORRHAGE                                  </td><td> 308</td></tr>\n",
       "\t<tr><td>FEVER                                                    </td><td> 288</td></tr>\n",
       "\t<tr><td>ABDOMINAL PAIN                                           </td><td> 279</td></tr>\n",
       "\t<tr><td>CORONARY ARTERY DISEASE                                  </td><td> 245</td></tr>\n",
       "\t<tr><td>CHEST PAIN                                               </td><td> 209</td></tr>\n",
       "\t<tr><td>ALTERED MENTAL STATUS                                    </td><td> 202</td></tr>\n",
       "\t<tr><td>UPPER GI BLEED                                           </td><td> 143</td></tr>\n",
       "\t<tr><td>ACUTE RENAL FAILURE                                      </td><td> 142</td></tr>\n",
       "\t<tr><td>CARDIAC ARREST                                           </td><td> 128</td></tr>\n",
       "\t<tr><td>GASTROINTESTINAL BLEED                                   </td><td> 127</td></tr>\n",
       "\t<tr><td>LIVER FAILURE                                            </td><td> 100</td></tr>\n",
       "\t<tr><td>RESPIRATORY FAILURE                                      </td><td>  97</td></tr>\n",
       "\t<tr><td>S/P FALL                                                 </td><td>  88</td></tr>\n",
       "\t<tr><td>INTRACRANIAL HEMORRHAGE                                  </td><td>  87</td></tr>\n",
       "\t<tr><td>CORONARY ARTERY DISEASE\\CORONARY ARTERY BYPASS GRAFT/SDA</td><td>  82</td></tr>\n",
       "\t<tr><td>UROSEPSIS                                                </td><td>  80</td></tr>\n",
       "\t<tr><td>NON HODGKINS LYMPHOMA\\BONE MARROW TRANSPLANT            </td><td>  77</td></tr>\n",
       "\t<tr><td>WOUND INFECTION                                          </td><td>  73</td></tr>\n",
       "\t<tr><td>CORONARY ARTERY DISEASE\\CATH                            </td><td>  67</td></tr>\n",
       "\t<tr><td>CHOLANGITIS                                              </td><td>  64</td></tr>\n",
       "\t<tr><td>SMALL BOWEL OBSTRUCTION                                  </td><td>  63</td></tr>\n",
       "\t<tr><td>RENAL FAILURE                                            </td><td>  60</td></tr>\n",
       "\t<tr><td>ACUTE CORONARY SYNDROME                                  </td><td>  55</td></tr>\n",
       "\t<tr><td>SEIZURE                                                  </td><td>  54</td></tr>\n",
       "\t<tr><td>SEPTIC SHOCK                                             </td><td>  54</td></tr>\n",
       "\t<tr><td>⋮</td><td>⋮</td></tr>\n",
       "\t<tr><td>URINARY TRACT INFECTION;SEPSIS                                                     </td><td>1</td></tr>\n",
       "\t<tr><td>UROSEPSIS,DEHYDRATION                                                              </td><td>1</td></tr>\n",
       "\t<tr><td>UROSEPSIS,PNEUMONIA,R/O MI                                                         </td><td>1</td></tr>\n",
       "\t<tr><td>UROSEPSIS;DIABETIC KETOACIDOSIS                                                    </td><td>1</td></tr>\n",
       "\t<tr><td>UROSEPSIS;HYPOTHERMIA                                                              </td><td>1</td></tr>\n",
       "\t<tr><td>UROSEPSIS;PANCREATITIS                                                             </td><td>1</td></tr>\n",
       "\t<tr><td>UROSEPSIS;RESPIRATORY DISTRESS                                                     </td><td>1</td></tr>\n",
       "\t<tr><td>UROSEPSIS;TELEMETRY                                                                </td><td>1</td></tr>\n",
       "\t<tr><td>UROSPEPSIS                                                                         </td><td>1</td></tr>\n",
       "\t<tr><td>UTERINE MALIGNANCY/SDA                                                             </td><td>1</td></tr>\n",
       "\t<tr><td>UTERINE TUMOR/BILATERAL HYDRONEPHROSIS                                             </td><td>1</td></tr>\n",
       "\t<tr><td>UTI/URINARY RETENTION                                                              </td><td>1</td></tr>\n",
       "\t<tr><td>V TACH                                                                             </td><td>1</td></tr>\n",
       "\t<tr><td>V-F ARREST                                                                         </td><td>1</td></tr>\n",
       "\t<tr><td>V-TACH,FEVER                                                                       </td><td>1</td></tr>\n",
       "\t<tr><td>VARICEAL BLEEDING                                                                  </td><td>1</td></tr>\n",
       "\t<tr><td>VENTRICULAR FIBRILLATION\\ICD                                                      </td><td>1</td></tr>\n",
       "\t<tr><td>VENTRICULAR TACHYCARDIA;ISCHEMIA\\CARDIAC CATHETERIZATION                          </td><td>1</td></tr>\n",
       "\t<tr><td>VENTRICULAR TACHYCARDIA\\VENTRICULAR TACHYCARDIA ABLATION  **REMOTE WEST**         </td><td>1</td></tr>\n",
       "\t<tr><td>VER AETNA PER NEHEN 020807 PTB\\CHEMO HIGH DOSE INTERLEUKIN-2)                     </td><td>1</td></tr>\n",
       "\t<tr><td>VF ARREST\\CATH                                                                    </td><td>1</td></tr>\n",
       "\t<tr><td>VIRAL MENINGITIS                                                                   </td><td>1</td></tr>\n",
       "\t<tr><td>VOMITING;DEHYDRATION                                                               </td><td>1</td></tr>\n",
       "\t<tr><td>VOMITTING                                                                          </td><td>1</td></tr>\n",
       "\t<tr><td>VY36PH\\CORONARY ARTERY BYPASS GRAFT/SDA                                           </td><td>1</td></tr>\n",
       "\t<tr><td>WEAKNESS, DIARRHEA                                                                 </td><td>1</td></tr>\n",
       "\t<tr><td>WEAKNESS;DEHYDRATION                                                               </td><td>1</td></tr>\n",
       "\t<tr><td>WEAKNESS;RULE-OUT MYOCARDIAL INFARCTION;TELEMETRY                                  </td><td>1</td></tr>\n",
       "\t<tr><td>WEAKNESS;TELEMTRY                                                                  </td><td>1</td></tr>\n",
       "\t<tr><td>WORSENING DYSPNEA ON EXERTION;AORTIC STENOSIS\\RIGHT AND LEFT HEART CATHETERIZATION</td><td>1</td></tr>\n",
       "</tbody>\n",
       "</table>\n"
      ],
      "text/latex": [
       "A tibble: 2560 × 2\n",
       "\\begin{tabular}{r|ll}\n",
       " diagnosis & COUNT\\\\\n",
       " <fct> & <int>\\\\\n",
       "\\hline\n",
       "\t SEPSIS                                                    & 1247\\\\\n",
       "\t PNEUMONIA                                                 &  849\\\\\n",
       "\t CONGESTIVE HEART FAILURE                                  &  443\\\\\n",
       "\t HYPOTENSION                                               &  327\\\\\n",
       "\t PANCREATITIS                                              &  314\\\\\n",
       "\t SUBARACHNOID HEMORRHAGE                                   &  308\\\\\n",
       "\t FEVER                                                     &  288\\\\\n",
       "\t ABDOMINAL PAIN                                            &  279\\\\\n",
       "\t CORONARY ARTERY DISEASE                                   &  245\\\\\n",
       "\t CHEST PAIN                                                &  209\\\\\n",
       "\t ALTERED MENTAL STATUS                                     &  202\\\\\n",
       "\t UPPER GI BLEED                                            &  143\\\\\n",
       "\t ACUTE RENAL FAILURE                                       &  142\\\\\n",
       "\t CARDIAC ARREST                                            &  128\\\\\n",
       "\t GASTROINTESTINAL BLEED                                    &  127\\\\\n",
       "\t LIVER FAILURE                                             &  100\\\\\n",
       "\t RESPIRATORY FAILURE                                       &   97\\\\\n",
       "\t S/P FALL                                                  &   88\\\\\n",
       "\t INTRACRANIAL HEMORRHAGE                                   &   87\\\\\n",
       "\t CORONARY ARTERY DISEASE\\textbackslash{}CORONARY ARTERY BYPASS GRAFT/SDA &   82\\\\\n",
       "\t UROSEPSIS                                                 &   80\\\\\n",
       "\t NON HODGKINS LYMPHOMA\\textbackslash{}BONE MARROW TRANSPLANT             &   77\\\\\n",
       "\t WOUND INFECTION                                           &   73\\\\\n",
       "\t CORONARY ARTERY DISEASE\\textbackslash{}CATH                             &   67\\\\\n",
       "\t CHOLANGITIS                                               &   64\\\\\n",
       "\t SMALL BOWEL OBSTRUCTION                                   &   63\\\\\n",
       "\t RENAL FAILURE                                             &   60\\\\\n",
       "\t ACUTE CORONARY SYNDROME                                   &   55\\\\\n",
       "\t SEIZURE                                                   &   54\\\\\n",
       "\t SEPTIC SHOCK                                              &   54\\\\\n",
       "\t ⋮ & ⋮\\\\\n",
       "\t URINARY TRACT INFECTION;SEPSIS                                                      & 1\\\\\n",
       "\t UROSEPSIS,DEHYDRATION                                                               & 1\\\\\n",
       "\t UROSEPSIS,PNEUMONIA,R/O MI                                                          & 1\\\\\n",
       "\t UROSEPSIS;DIABETIC KETOACIDOSIS                                                     & 1\\\\\n",
       "\t UROSEPSIS;HYPOTHERMIA                                                               & 1\\\\\n",
       "\t UROSEPSIS;PANCREATITIS                                                              & 1\\\\\n",
       "\t UROSEPSIS;RESPIRATORY DISTRESS                                                      & 1\\\\\n",
       "\t UROSEPSIS;TELEMETRY                                                                 & 1\\\\\n",
       "\t UROSPEPSIS                                                                          & 1\\\\\n",
       "\t UTERINE MALIGNANCY/SDA                                                              & 1\\\\\n",
       "\t UTERINE TUMOR/BILATERAL HYDRONEPHROSIS                                              & 1\\\\\n",
       "\t UTI/URINARY RETENTION                                                               & 1\\\\\n",
       "\t V TACH                                                                              & 1\\\\\n",
       "\t V-F ARREST                                                                          & 1\\\\\n",
       "\t V-TACH,FEVER                                                                        & 1\\\\\n",
       "\t VARICEAL BLEEDING                                                                   & 1\\\\\n",
       "\t VENTRICULAR FIBRILLATION\\textbackslash{}ICD                                                       & 1\\\\\n",
       "\t VENTRICULAR TACHYCARDIA;ISCHEMIA\\textbackslash{}CARDIAC CATHETERIZATION                           & 1\\\\\n",
       "\t VENTRICULAR TACHYCARDIA\\textbackslash{}VENTRICULAR TACHYCARDIA ABLATION  **REMOTE WEST**          & 1\\\\\n",
       "\t VER AETNA PER NEHEN 020807 PTB\\textbackslash{}CHEMO HIGH DOSE INTERLEUKIN-2)                      & 1\\\\\n",
       "\t VF ARREST\\textbackslash{}CATH                                                                     & 1\\\\\n",
       "\t VIRAL MENINGITIS                                                                    & 1\\\\\n",
       "\t VOMITING;DEHYDRATION                                                                & 1\\\\\n",
       "\t VOMITTING                                                                           & 1\\\\\n",
       "\t VY36PH\\textbackslash{}CORONARY ARTERY BYPASS GRAFT/SDA                                            & 1\\\\\n",
       "\t WEAKNESS, DIARRHEA                                                                  & 1\\\\\n",
       "\t WEAKNESS;DEHYDRATION                                                                & 1\\\\\n",
       "\t WEAKNESS;RULE-OUT MYOCARDIAL INFARCTION;TELEMETRY                                   & 1\\\\\n",
       "\t WEAKNESS;TELEMTRY                                                                   & 1\\\\\n",
       "\t WORSENING DYSPNEA ON EXERTION;AORTIC STENOSIS\\textbackslash{}RIGHT AND LEFT HEART CATHETERIZATION & 1\\\\\n",
       "\\end{tabular}\n"
      ],
      "text/markdown": [
       "\n",
       "A tibble: 2560 × 2\n",
       "\n",
       "| diagnosis &lt;fct&gt; | COUNT &lt;int&gt; |\n",
       "|---|---|\n",
       "| SEPSIS                                                    | 1247 |\n",
       "| PNEUMONIA                                                 |  849 |\n",
       "| CONGESTIVE HEART FAILURE                                  |  443 |\n",
       "| HYPOTENSION                                               |  327 |\n",
       "| PANCREATITIS                                              |  314 |\n",
       "| SUBARACHNOID HEMORRHAGE                                   |  308 |\n",
       "| FEVER                                                     |  288 |\n",
       "| ABDOMINAL PAIN                                            |  279 |\n",
       "| CORONARY ARTERY DISEASE                                   |  245 |\n",
       "| CHEST PAIN                                                |  209 |\n",
       "| ALTERED MENTAL STATUS                                     |  202 |\n",
       "| UPPER GI BLEED                                            |  143 |\n",
       "| ACUTE RENAL FAILURE                                       |  142 |\n",
       "| CARDIAC ARREST                                            |  128 |\n",
       "| GASTROINTESTINAL BLEED                                    |  127 |\n",
       "| LIVER FAILURE                                             |  100 |\n",
       "| RESPIRATORY FAILURE                                       |   97 |\n",
       "| S/P FALL                                                  |   88 |\n",
       "| INTRACRANIAL HEMORRHAGE                                   |   87 |\n",
       "| CORONARY ARTERY DISEASE\\CORONARY ARTERY BYPASS GRAFT/SDA |   82 |\n",
       "| UROSEPSIS                                                 |   80 |\n",
       "| NON HODGKINS LYMPHOMA\\BONE MARROW TRANSPLANT             |   77 |\n",
       "| WOUND INFECTION                                           |   73 |\n",
       "| CORONARY ARTERY DISEASE\\CATH                             |   67 |\n",
       "| CHOLANGITIS                                               |   64 |\n",
       "| SMALL BOWEL OBSTRUCTION                                   |   63 |\n",
       "| RENAL FAILURE                                             |   60 |\n",
       "| ACUTE CORONARY SYNDROME                                   |   55 |\n",
       "| SEIZURE                                                   |   54 |\n",
       "| SEPTIC SHOCK                                              |   54 |\n",
       "| ⋮ | ⋮ |\n",
       "| URINARY TRACT INFECTION;SEPSIS                                                      | 1 |\n",
       "| UROSEPSIS,DEHYDRATION                                                               | 1 |\n",
       "| UROSEPSIS,PNEUMONIA,R/O MI                                                          | 1 |\n",
       "| UROSEPSIS;DIABETIC KETOACIDOSIS                                                     | 1 |\n",
       "| UROSEPSIS;HYPOTHERMIA                                                               | 1 |\n",
       "| UROSEPSIS;PANCREATITIS                                                              | 1 |\n",
       "| UROSEPSIS;RESPIRATORY DISTRESS                                                      | 1 |\n",
       "| UROSEPSIS;TELEMETRY                                                                 | 1 |\n",
       "| UROSPEPSIS                                                                          | 1 |\n",
       "| UTERINE MALIGNANCY/SDA                                                              | 1 |\n",
       "| UTERINE TUMOR/BILATERAL HYDRONEPHROSIS                                              | 1 |\n",
       "| UTI/URINARY RETENTION                                                               | 1 |\n",
       "| V TACH                                                                              | 1 |\n",
       "| V-F ARREST                                                                          | 1 |\n",
       "| V-TACH,FEVER                                                                        | 1 |\n",
       "| VARICEAL BLEEDING                                                                   | 1 |\n",
       "| VENTRICULAR FIBRILLATION\\ICD                                                       | 1 |\n",
       "| VENTRICULAR TACHYCARDIA;ISCHEMIA\\CARDIAC CATHETERIZATION                           | 1 |\n",
       "| VENTRICULAR TACHYCARDIA\\VENTRICULAR TACHYCARDIA ABLATION  **REMOTE WEST**          | 1 |\n",
       "| VER AETNA PER NEHEN 020807 PTB\\CHEMO HIGH DOSE INTERLEUKIN-2)                      | 1 |\n",
       "| VF ARREST\\CATH                                                                     | 1 |\n",
       "| VIRAL MENINGITIS                                                                    | 1 |\n",
       "| VOMITING;DEHYDRATION                                                                | 1 |\n",
       "| VOMITTING                                                                           | 1 |\n",
       "| VY36PH\\CORONARY ARTERY BYPASS GRAFT/SDA                                            | 1 |\n",
       "| WEAKNESS, DIARRHEA                                                                  | 1 |\n",
       "| WEAKNESS;DEHYDRATION                                                                | 1 |\n",
       "| WEAKNESS;RULE-OUT MYOCARDIAL INFARCTION;TELEMETRY                                   | 1 |\n",
       "| WEAKNESS;TELEMTRY                                                                   | 1 |\n",
       "| WORSENING DYSPNEA ON EXERTION;AORTIC STENOSIS\\RIGHT AND LEFT HEART CATHETERIZATION | 1 |\n",
       "\n"
      ],
      "text/plain": [
       "     diagnosis                                                                          \n",
       "1    SEPSIS                                                                             \n",
       "2    PNEUMONIA                                                                          \n",
       "3    CONGESTIVE HEART FAILURE                                                           \n",
       "4    HYPOTENSION                                                                        \n",
       "5    PANCREATITIS                                                                       \n",
       "6    SUBARACHNOID HEMORRHAGE                                                            \n",
       "7    FEVER                                                                              \n",
       "8    ABDOMINAL PAIN                                                                     \n",
       "9    CORONARY ARTERY DISEASE                                                            \n",
       "10   CHEST PAIN                                                                         \n",
       "11   ALTERED MENTAL STATUS                                                              \n",
       "12   UPPER GI BLEED                                                                     \n",
       "13   ACUTE RENAL FAILURE                                                                \n",
       "14   CARDIAC ARREST                                                                     \n",
       "15   GASTROINTESTINAL BLEED                                                             \n",
       "16   LIVER FAILURE                                                                      \n",
       "17   RESPIRATORY FAILURE                                                                \n",
       "18   S/P FALL                                                                           \n",
       "19   INTRACRANIAL HEMORRHAGE                                                            \n",
       "20   CORONARY ARTERY DISEASE\\\\CORONARY ARTERY BYPASS GRAFT/SDA                          \n",
       "21   UROSEPSIS                                                                          \n",
       "22   NON HODGKINS LYMPHOMA\\\\BONE MARROW TRANSPLANT                                      \n",
       "23   WOUND INFECTION                                                                    \n",
       "24   CORONARY ARTERY DISEASE\\\\CATH                                                      \n",
       "25   CHOLANGITIS                                                                        \n",
       "26   SMALL BOWEL OBSTRUCTION                                                            \n",
       "27   RENAL FAILURE                                                                      \n",
       "28   ACUTE CORONARY SYNDROME                                                            \n",
       "29   SEIZURE                                                                            \n",
       "30   SEPTIC SHOCK                                                                       \n",
       "⋮    ⋮                                                                                  \n",
       "2531 URINARY TRACT INFECTION;SEPSIS                                                     \n",
       "2532 UROSEPSIS,DEHYDRATION                                                              \n",
       "2533 UROSEPSIS,PNEUMONIA,R/O MI                                                         \n",
       "2534 UROSEPSIS;DIABETIC KETOACIDOSIS                                                    \n",
       "2535 UROSEPSIS;HYPOTHERMIA                                                              \n",
       "2536 UROSEPSIS;PANCREATITIS                                                             \n",
       "2537 UROSEPSIS;RESPIRATORY DISTRESS                                                     \n",
       "2538 UROSEPSIS;TELEMETRY                                                                \n",
       "2539 UROSPEPSIS                                                                         \n",
       "2540 UTERINE MALIGNANCY/SDA                                                             \n",
       "2541 UTERINE TUMOR/BILATERAL HYDRONEPHROSIS                                             \n",
       "2542 UTI/URINARY RETENTION                                                              \n",
       "2543 V TACH                                                                             \n",
       "2544 V-F ARREST                                                                         \n",
       "2545 V-TACH,FEVER                                                                       \n",
       "2546 VARICEAL BLEEDING                                                                  \n",
       "2547 VENTRICULAR FIBRILLATION\\\\ICD                                                      \n",
       "2548 VENTRICULAR TACHYCARDIA;ISCHEMIA\\\\CARDIAC CATHETERIZATION                          \n",
       "2549 VENTRICULAR TACHYCARDIA\\\\VENTRICULAR TACHYCARDIA ABLATION  **REMOTE WEST**         \n",
       "2550 VER AETNA PER NEHEN 020807 PTB\\\\CHEMO HIGH DOSE INTERLEUKIN-2)                     \n",
       "2551 VF ARREST\\\\CATH                                                                    \n",
       "2552 VIRAL MENINGITIS                                                                   \n",
       "2553 VOMITING;DEHYDRATION                                                               \n",
       "2554 VOMITTING                                                                          \n",
       "2555 VY36PH\\\\CORONARY ARTERY BYPASS GRAFT/SDA                                           \n",
       "2556 WEAKNESS, DIARRHEA                                                                 \n",
       "2557 WEAKNESS;DEHYDRATION                                                               \n",
       "2558 WEAKNESS;RULE-OUT MYOCARDIAL INFARCTION;TELEMETRY                                  \n",
       "2559 WEAKNESS;TELEMTRY                                                                  \n",
       "2560 WORSENING DYSPNEA ON EXERTION;AORTIC STENOSIS\\\\RIGHT AND LEFT HEART CATHETERIZATION\n",
       "     COUNT\n",
       "1    1247 \n",
       "2     849 \n",
       "3     443 \n",
       "4     327 \n",
       "5     314 \n",
       "6     308 \n",
       "7     288 \n",
       "8     279 \n",
       "9     245 \n",
       "10    209 \n",
       "11    202 \n",
       "12    143 \n",
       "13    142 \n",
       "14    128 \n",
       "15    127 \n",
       "16    100 \n",
       "17     97 \n",
       "18     88 \n",
       "19     87 \n",
       "20     82 \n",
       "21     80 \n",
       "22     77 \n",
       "23     73 \n",
       "24     67 \n",
       "25     64 \n",
       "26     63 \n",
       "27     60 \n",
       "28     55 \n",
       "29     54 \n",
       "30     54 \n",
       "⋮    ⋮    \n",
       "2531 1    \n",
       "2532 1    \n",
       "2533 1    \n",
       "2534 1    \n",
       "2535 1    \n",
       "2536 1    \n",
       "2537 1    \n",
       "2538 1    \n",
       "2539 1    \n",
       "2540 1    \n",
       "2541 1    \n",
       "2542 1    \n",
       "2543 1    \n",
       "2544 1    \n",
       "2545 1    \n",
       "2546 1    \n",
       "2547 1    \n",
       "2548 1    \n",
       "2549 1    \n",
       "2550 1    \n",
       "2551 1    \n",
       "2552 1    \n",
       "2553 1    \n",
       "2554 1    \n",
       "2555 1    \n",
       "2556 1    \n",
       "2557 1    \n",
       "2558 1    \n",
       "2559 1    \n",
       "2560 1    "
      ]
     },
     "metadata": {},
     "output_type": "display_data"
    }
   ],
   "source": [
    "output_df %>%\n",
    "    group_by(diagnosis) %>%\n",
    "    summarize(COUNT = n()) %>%\n",
    "    arrange(-COUNT)"
   ]
  },
  {
   "cell_type": "markdown",
   "metadata": {},
   "source": [
    "## Care unit (MICU and SICU end up >24 hrs pressors, not TSICU, CCU, CSRU)"
   ]
  },
  {
   "cell_type": "code",
   "execution_count": 684,
   "metadata": {},
   "outputs": [],
   "source": [
    "careunit_df <- output_df %>%\n",
    "    group_by(MORETHAN24HOURS, first_careunit) %>%\n",
    "    summarize(COUNT = n())"
   ]
  },
  {
   "cell_type": "code",
   "execution_count": 685,
   "metadata": {},
   "outputs": [
    {
     "name": "stdout",
     "output_type": "stream",
     "text": [
      "\n",
      "\n",
      "#### CCU ####\n",
      "\n",
      "$data\n",
      "      FALSE  TRUE Total\n",
      "FALSE  4309 10203 14512\n",
      "TRUE    641  1445  2086\n",
      "Total  4950 11648 16598\n",
      "\n",
      "$measure\n",
      "                        NA\n",
      "risk ratio with 95% C.I.  estimate     lower    upper\n",
      "                   FALSE 1.0000000        NA       NA\n",
      "                   TRUE  0.9852647 0.9556921 1.015752\n",
      "\n",
      "$p.value\n",
      "         NA\n",
      "two-sided midp.exact fisher.exact chi.square\n",
      "    FALSE         NA           NA         NA\n",
      "    TRUE   0.3335555     0.343678  0.3334847\n",
      "\n",
      "$correction\n",
      "[1] FALSE\n",
      "\n",
      "attr(,\"method\")\n",
      "[1] \"Unconditional MLE & normal approximation (Wald) CI\"\n",
      "\n",
      "\n",
      "#### CSRU ####\n",
      "\n",
      "$data\n",
      "      FALSE  TRUE Total\n",
      "FALSE  3937 10245 14182\n",
      "TRUE   1013  1403  2416\n",
      "Total  4950 11648 16598\n",
      "\n",
      "$measure\n",
      "                        NA\n",
      "risk ratio with 95% C.I.  estimate    lower     upper\n",
      "                   FALSE 1.0000000       NA        NA\n",
      "                   TRUE  0.8038708 0.775923 0.8328252\n",
      "\n",
      "$p.value\n",
      "         NA\n",
      "two-sided midp.exact fisher.exact chi.square\n",
      "    FALSE         NA           NA         NA\n",
      "    TRUE           0 7.829586e-43  5.703e-45\n",
      "\n",
      "$correction\n",
      "[1] FALSE\n",
      "\n",
      "attr(,\"method\")\n",
      "[1] \"Unconditional MLE & normal approximation (Wald) CI\"\n",
      "\n",
      "\n",
      "#### MICU ####\n",
      "\n",
      "$data\n",
      "      FALSE  TRUE Total\n",
      "FALSE  2740  5948  8688\n",
      "TRUE   2210  5700  7910\n",
      "Total  4950 11648 16598\n",
      "\n",
      "$measure\n",
      "                        NA\n",
      "risk ratio with 95% C.I. estimate    lower    upper\n",
      "                   FALSE 1.000000       NA       NA\n",
      "                   TRUE  1.052561 1.031927 1.073608\n",
      "\n",
      "$p.value\n",
      "         NA\n",
      "two-sided   midp.exact fisher.exact   chi.square\n",
      "    FALSE           NA           NA           NA\n",
      "    TRUE  4.098462e-07 4.143986e-07 4.164217e-07\n",
      "\n",
      "$correction\n",
      "[1] FALSE\n",
      "\n",
      "attr(,\"method\")\n",
      "[1] \"Unconditional MLE & normal approximation (Wald) CI\"\n",
      "\n",
      "\n",
      "#### SICU ####\n",
      "\n",
      "$data\n",
      "      FALSE  TRUE Total\n",
      "FALSE  4320  9733 14053\n",
      "TRUE    630  1915  2545\n",
      "Total  4950 11648 16598\n",
      "\n",
      "$measure\n",
      "                        NA\n",
      "risk ratio with 95% C.I. estimate    lower    upper\n",
      "                   FALSE 1.000000       NA       NA\n",
      "                   TRUE  1.086434 1.059761 1.113778\n",
      "\n",
      "$p.value\n",
      "         NA\n",
      "two-sided   midp.exact fisher.exact   chi.square\n",
      "    FALSE           NA           NA           NA\n",
      "    TRUE  7.241527e-10 7.692525e-10 1.245988e-09\n",
      "\n",
      "$correction\n",
      "[1] FALSE\n",
      "\n",
      "attr(,\"method\")\n",
      "[1] \"Unconditional MLE & normal approximation (Wald) CI\"\n",
      "\n",
      "\n",
      "#### TSICU ####\n",
      "\n",
      "$data\n",
      "      FALSE  TRUE Total\n",
      "FALSE  4494 10463 14957\n",
      "TRUE    456  1185  1641\n",
      "Total  4950 11648 16598\n",
      "\n",
      "$measure\n",
      "                        NA\n",
      "risk ratio with 95% C.I. estimate    lower    upper\n",
      "                   FALSE 1.000000       NA       NA\n",
      "                   TRUE  1.032281 0.999973 1.065633\n",
      "\n",
      "$p.value\n",
      "         NA\n",
      "two-sided midp.exact fisher.exact chi.square\n",
      "    FALSE         NA           NA         NA\n",
      "    TRUE  0.05668125   0.06064074 0.05767193\n",
      "\n",
      "$correction\n",
      "[1] FALSE\n",
      "\n",
      "attr(,\"method\")\n",
      "[1] \"Unconditional MLE & normal approximation (Wald) CI\"\n"
     ]
    }
   ],
   "source": [
    "for(cu in unique(careunit_df$first_careunit)){\n",
    "   output <- careunit_df%>%\n",
    "        mutate(CU_BOOL = first_careunit == cu) %>%\n",
    "        group_by(CU_BOOL, MORETHAN24HOURS) %>%\n",
    "        summarize(COUNT = sum(COUNT)) %>%\n",
    "        spread(MORETHAN24HOURS, COUNT) %>%\n",
    "        tibble::column_to_rownames(\"CU_BOOL\") %>%\n",
    "        as.matrix() %>% riskratio() \n",
    "    cat(\"\\n\\n####\", cu, \"####\\n\\n\")\n",
    "    print(output)\n",
    "}"
   ]
  },
  {
   "cell_type": "markdown",
   "metadata": {},
   "source": [
    "# Merge pressor data with vitals and assess possible response (7/29/19)"
   ]
  },
  {
   "cell_type": "code",
   "execution_count": 497,
   "metadata": {},
   "outputs": [],
   "source": [
    "vitals_df <- read.csv('~/Projects/Haimovich_Pressors/collection/out/vitals.csv')"
   ]
  },
  {
   "cell_type": "code",
   "execution_count": 517,
   "metadata": {},
   "outputs": [
    {
     "name": "stderr",
     "output_type": "stream",
     "text": [
      "Adding missing grouping variables: `course_id`\n"
     ]
    }
   ],
   "source": [
    "# takes 6 mins to run (because of difftime)\n",
    "\n",
    "vitals_merged_df <- vitals_df %>%\n",
    "    mutate(charttime = fastPOSIXct(charttime)) %>%\n",
    "    filter(icustay_id %in% output_df$icustay_id) %>%\n",
    "    left_join(select(output_df, icustay_id, starttime, endtime, MORETHAN24HOURS), by = \"icustay_id\") %>%\n",
    "    rowwise() %>%\n",
    "    mutate(diff = difftime(charttime, \n",
    "                       starttime, units=\"hours\"))"
   ]
  },
  {
   "cell_type": "code",
   "execution_count": 518,
   "metadata": {},
   "outputs": [
    {
     "data": {
      "text/html": [
       "<ol class=list-inline>\n",
       "\t<li>8107995</li>\n",
       "\t<li>15</li>\n",
       "</ol>\n"
      ],
      "text/latex": [
       "\\begin{enumerate*}\n",
       "\\item 8107995\n",
       "\\item 15\n",
       "\\end{enumerate*}\n"
      ],
      "text/markdown": [
       "1. 8107995\n",
       "2. 15\n",
       "\n",
       "\n"
      ],
      "text/plain": [
       "[1] 8107995      15"
      ]
     },
     "metadata": {},
     "output_type": "display_data"
    }
   ],
   "source": [
    "dim(vitals_merged_df)"
   ]
  },
  {
   "cell_type": "code",
   "execution_count": 562,
   "metadata": {},
   "outputs": [],
   "source": [
    "intervals <- 1:10"
   ]
  },
  {
   "cell_type": "code",
   "execution_count": 563,
   "metadata": {},
   "outputs": [],
   "source": [
    "results_list <- list()"
   ]
  },
  {
   "cell_type": "code",
   "execution_count": 564,
   "metadata": {},
   "outputs": [],
   "source": [
    "for(interval in intervals){\n",
    "    # 2 mins to run\n",
    "    results_list[[interval]] <- vitals_merged_df %>%\n",
    "        filter(diff < 0) %>%\n",
    "        filter(diff < -(interval - 1) & diff > -interval) %>%\n",
    "        group_by(MORETHAN24HOURS, icustay_id) %>%\n",
    "        summarize(mean_heartrate = mean(heartrate, na.rm=T), \n",
    "                  mean_sysbp = mean(sysbp, na.rm=T),\n",
    "                  mean_diasbp = mean(diasbp, na.rm=T),\n",
    "                  mean_meanbp = mean(meanbp, na.rm=T), \n",
    "                  mean_resprate = mean(resprate, na.rm=T), \n",
    "                  mean_tempc = mean(tempc, na.rm=T), \n",
    "                  mean_spo2 = mean(spo2, na.rm=T), \n",
    "                  mean_glucose = mean(glucose, na.rm=T), \n",
    "\n",
    "                  median_heartrate = median(heartrate, na.rm=T), \n",
    "                  median_sysbp = median(sysbp, na.rm=T),\n",
    "                  median_diasbp = median(diasbp, na.rm=T),\n",
    "                  median_meanbp = median(meanbp, na.rm=T), \n",
    "                  median_resprate = median(resprate, na.rm=T), \n",
    "                  median_tempc = median(tempc, na.rm=T), \n",
    "                  median_spo2 = median(spo2, na.rm=T), \n",
    "                  median_glucose = median(glucose, na.rm=T),\n",
    "\n",
    "                  max_heartrate = max(heartrate, na.rm=T), \n",
    "                  max_sysbp = max(sysbp, na.rm=T),\n",
    "                  max_diasbp = max(diasbp, na.rm=T),\n",
    "                  max_meanbp = max(meanbp, na.rm=T), \n",
    "                  max_resprate = max(resprate, na.rm=T), \n",
    "                  max_tempc = max(tempc, na.rm=T), \n",
    "                  max_spo2 = max(spo2, na.rm=T), \n",
    "                  max_glucose = max(glucose, na.rm=T), \n",
    "\n",
    "                  min_heartrate = min(heartrate, na.rm=T), \n",
    "                  min_sysbp = min(sysbp, na.rm=T),\n",
    "                  min_diasbp = min(diasbp, na.rm=T),\n",
    "                  min_meanbp = min(meanbp, na.rm=T), \n",
    "                  min_resprate = min(resprate, na.rm=T), \n",
    "                  min_tempc = min(tempc, na.rm=T), \n",
    "                  min_spo2 = min(spo2, na.rm=T), \n",
    "                  min_glucose = min(glucose, na.rm=T)\n",
    "\n",
    "                 ) %>%\n",
    "        mutate(INTERVAL = interval)\n",
    "\n",
    "}"
   ]
  },
  {
   "cell_type": "code",
   "execution_count": 565,
   "metadata": {},
   "outputs": [],
   "source": [
    "results_df <- bind_rows(results_list)"
   ]
  },
  {
   "cell_type": "markdown",
   "metadata": {},
   "source": [
    "### Melt for easier plotting"
   ]
  },
  {
   "cell_type": "markdown",
   "metadata": {},
   "source": [
    "### Possible testing: Kruskal-Wallis, "
   ]
  },
  {
   "cell_type": "code",
   "execution_count": 566,
   "metadata": {},
   "outputs": [],
   "source": [
    "melt_results_df <- results_df %>% \n",
    "    gather(\"ID\", \"VALUE\", -MORETHAN24HOURS, -icustay_id, -INTERVAL)"
   ]
  },
  {
   "cell_type": "code",
   "execution_count": 567,
   "metadata": {},
   "outputs": [],
   "source": [
    "melt_results_norm_df <- melt_results_df%>%\n",
    "    drop_na(VALUE) %>%\n",
    "    group_by(ID) %>%\n",
    "    mutate(VALUE_NORM = (VALUE - mean(VALUE))/sd(VALUE))"
   ]
  },
  {
   "cell_type": "code",
   "execution_count": 574,
   "metadata": {},
   "outputs": [
    {
     "data": {
      "text/html": [
       "<table>\n",
       "<caption>A grouped_df: 20 × 5</caption>\n",
       "<thead>\n",
       "\t<tr><th scope=col>MORETHAN24HOURS</th><th scope=col>ID</th><th scope=col>HOURSBEFOREPRESSORS</th><th scope=col>MEAN</th><th scope=col>SD</th></tr>\n",
       "\t<tr><th scope=col>&lt;lgl&gt;</th><th scope=col>&lt;chr&gt;</th><th scope=col>&lt;int&gt;</th><th scope=col>&lt;dbl&gt;</th><th scope=col>&lt;dbl&gt;</th></tr>\n",
       "</thead>\n",
       "<tbody>\n",
       "\t<tr><td>FALSE</td><td>mean_glucose</td><td> 1</td><td>165.4726</td><td>83.96246</td></tr>\n",
       "\t<tr><td>FALSE</td><td>mean_glucose</td><td> 2</td><td>163.7545</td><td>73.74448</td></tr>\n",
       "\t<tr><td>FALSE</td><td>mean_glucose</td><td> 3</td><td>160.4873</td><td>66.45598</td></tr>\n",
       "\t<tr><td>FALSE</td><td>mean_glucose</td><td> 4</td><td>155.6969</td><td>69.60229</td></tr>\n",
       "\t<tr><td>FALSE</td><td>mean_glucose</td><td> 5</td><td>155.2493</td><td>77.41127</td></tr>\n",
       "\t<tr><td>FALSE</td><td>mean_glucose</td><td> 6</td><td>147.3717</td><td>64.28451</td></tr>\n",
       "\t<tr><td>FALSE</td><td>mean_glucose</td><td> 7</td><td>153.7551</td><td>65.74340</td></tr>\n",
       "\t<tr><td>FALSE</td><td>mean_glucose</td><td> 8</td><td>148.4077</td><td>61.82987</td></tr>\n",
       "\t<tr><td>FALSE</td><td>mean_glucose</td><td> 9</td><td>147.6668</td><td>62.81710</td></tr>\n",
       "\t<tr><td>FALSE</td><td>mean_glucose</td><td>10</td><td>149.4412</td><td>65.94948</td></tr>\n",
       "\t<tr><td> TRUE</td><td>mean_glucose</td><td> 1</td><td>160.9356</td><td>84.65238</td></tr>\n",
       "\t<tr><td> TRUE</td><td>mean_glucose</td><td> 2</td><td>160.8044</td><td>74.27126</td></tr>\n",
       "\t<tr><td> TRUE</td><td>mean_glucose</td><td> 3</td><td>157.3677</td><td>71.14942</td></tr>\n",
       "\t<tr><td> TRUE</td><td>mean_glucose</td><td> 4</td><td>157.3467</td><td>74.86573</td></tr>\n",
       "\t<tr><td> TRUE</td><td>mean_glucose</td><td> 5</td><td>156.7183</td><td>75.66203</td></tr>\n",
       "\t<tr><td> TRUE</td><td>mean_glucose</td><td> 6</td><td>147.4362</td><td>60.66333</td></tr>\n",
       "\t<tr><td> TRUE</td><td>mean_glucose</td><td> 7</td><td>148.1884</td><td>71.02675</td></tr>\n",
       "\t<tr><td> TRUE</td><td>mean_glucose</td><td> 8</td><td>147.9935</td><td>76.03882</td></tr>\n",
       "\t<tr><td> TRUE</td><td>mean_glucose</td><td> 9</td><td>150.7790</td><td>69.77964</td></tr>\n",
       "\t<tr><td> TRUE</td><td>mean_glucose</td><td>10</td><td>142.6411</td><td>65.04014</td></tr>\n",
       "</tbody>\n",
       "</table>\n"
      ],
      "text/latex": [
       "A grouped_df: 20 × 5\n",
       "\\begin{tabular}{r|lllll}\n",
       " MORETHAN24HOURS & ID & HOURSBEFOREPRESSORS & MEAN & SD\\\\\n",
       " <lgl> & <chr> & <int> & <dbl> & <dbl>\\\\\n",
       "\\hline\n",
       "\t FALSE & mean\\_glucose &  1 & 165.4726 & 83.96246\\\\\n",
       "\t FALSE & mean\\_glucose &  2 & 163.7545 & 73.74448\\\\\n",
       "\t FALSE & mean\\_glucose &  3 & 160.4873 & 66.45598\\\\\n",
       "\t FALSE & mean\\_glucose &  4 & 155.6969 & 69.60229\\\\\n",
       "\t FALSE & mean\\_glucose &  5 & 155.2493 & 77.41127\\\\\n",
       "\t FALSE & mean\\_glucose &  6 & 147.3717 & 64.28451\\\\\n",
       "\t FALSE & mean\\_glucose &  7 & 153.7551 & 65.74340\\\\\n",
       "\t FALSE & mean\\_glucose &  8 & 148.4077 & 61.82987\\\\\n",
       "\t FALSE & mean\\_glucose &  9 & 147.6668 & 62.81710\\\\\n",
       "\t FALSE & mean\\_glucose & 10 & 149.4412 & 65.94948\\\\\n",
       "\t  TRUE & mean\\_glucose &  1 & 160.9356 & 84.65238\\\\\n",
       "\t  TRUE & mean\\_glucose &  2 & 160.8044 & 74.27126\\\\\n",
       "\t  TRUE & mean\\_glucose &  3 & 157.3677 & 71.14942\\\\\n",
       "\t  TRUE & mean\\_glucose &  4 & 157.3467 & 74.86573\\\\\n",
       "\t  TRUE & mean\\_glucose &  5 & 156.7183 & 75.66203\\\\\n",
       "\t  TRUE & mean\\_glucose &  6 & 147.4362 & 60.66333\\\\\n",
       "\t  TRUE & mean\\_glucose &  7 & 148.1884 & 71.02675\\\\\n",
       "\t  TRUE & mean\\_glucose &  8 & 147.9935 & 76.03882\\\\\n",
       "\t  TRUE & mean\\_glucose &  9 & 150.7790 & 69.77964\\\\\n",
       "\t  TRUE & mean\\_glucose & 10 & 142.6411 & 65.04014\\\\\n",
       "\\end{tabular}\n"
      ],
      "text/markdown": [
       "\n",
       "A grouped_df: 20 × 5\n",
       "\n",
       "| MORETHAN24HOURS &lt;lgl&gt; | ID &lt;chr&gt; | HOURSBEFOREPRESSORS &lt;int&gt; | MEAN &lt;dbl&gt; | SD &lt;dbl&gt; |\n",
       "|---|---|---|---|---|\n",
       "| FALSE | mean_glucose |  1 | 165.4726 | 83.96246 |\n",
       "| FALSE | mean_glucose |  2 | 163.7545 | 73.74448 |\n",
       "| FALSE | mean_glucose |  3 | 160.4873 | 66.45598 |\n",
       "| FALSE | mean_glucose |  4 | 155.6969 | 69.60229 |\n",
       "| FALSE | mean_glucose |  5 | 155.2493 | 77.41127 |\n",
       "| FALSE | mean_glucose |  6 | 147.3717 | 64.28451 |\n",
       "| FALSE | mean_glucose |  7 | 153.7551 | 65.74340 |\n",
       "| FALSE | mean_glucose |  8 | 148.4077 | 61.82987 |\n",
       "| FALSE | mean_glucose |  9 | 147.6668 | 62.81710 |\n",
       "| FALSE | mean_glucose | 10 | 149.4412 | 65.94948 |\n",
       "|  TRUE | mean_glucose |  1 | 160.9356 | 84.65238 |\n",
       "|  TRUE | mean_glucose |  2 | 160.8044 | 74.27126 |\n",
       "|  TRUE | mean_glucose |  3 | 157.3677 | 71.14942 |\n",
       "|  TRUE | mean_glucose |  4 | 157.3467 | 74.86573 |\n",
       "|  TRUE | mean_glucose |  5 | 156.7183 | 75.66203 |\n",
       "|  TRUE | mean_glucose |  6 | 147.4362 | 60.66333 |\n",
       "|  TRUE | mean_glucose |  7 | 148.1884 | 71.02675 |\n",
       "|  TRUE | mean_glucose |  8 | 147.9935 | 76.03882 |\n",
       "|  TRUE | mean_glucose |  9 | 150.7790 | 69.77964 |\n",
       "|  TRUE | mean_glucose | 10 | 142.6411 | 65.04014 |\n",
       "\n"
      ],
      "text/plain": [
       "   MORETHAN24HOURS ID           HOURSBEFOREPRESSORS MEAN     SD      \n",
       "1  FALSE           mean_glucose  1                  165.4726 83.96246\n",
       "2  FALSE           mean_glucose  2                  163.7545 73.74448\n",
       "3  FALSE           mean_glucose  3                  160.4873 66.45598\n",
       "4  FALSE           mean_glucose  4                  155.6969 69.60229\n",
       "5  FALSE           mean_glucose  5                  155.2493 77.41127\n",
       "6  FALSE           mean_glucose  6                  147.3717 64.28451\n",
       "7  FALSE           mean_glucose  7                  153.7551 65.74340\n",
       "8  FALSE           mean_glucose  8                  148.4077 61.82987\n",
       "9  FALSE           mean_glucose  9                  147.6668 62.81710\n",
       "10 FALSE           mean_glucose 10                  149.4412 65.94948\n",
       "11  TRUE           mean_glucose  1                  160.9356 84.65238\n",
       "12  TRUE           mean_glucose  2                  160.8044 74.27126\n",
       "13  TRUE           mean_glucose  3                  157.3677 71.14942\n",
       "14  TRUE           mean_glucose  4                  157.3467 74.86573\n",
       "15  TRUE           mean_glucose  5                  156.7183 75.66203\n",
       "16  TRUE           mean_glucose  6                  147.4362 60.66333\n",
       "17  TRUE           mean_glucose  7                  148.1884 71.02675\n",
       "18  TRUE           mean_glucose  8                  147.9935 76.03882\n",
       "19  TRUE           mean_glucose  9                  150.7790 69.77964\n",
       "20  TRUE           mean_glucose 10                  142.6411 65.04014"
      ]
     },
     "metadata": {},
     "output_type": "display_data"
    }
   ],
   "source": [
    "melt_results_df %>%\n",
    "    group_by(MORETHAN24HOURS, ID, INTERVAL) %>%\n",
    "    summarize(MEAN = mean(VALUE, na.rm = T), SD = sd(VALUE, na.rm = T)) %>%\n",
    "    rename(HOURSBEFOREPRESSORS = INTERVAL) %>%\n",
    "    filter(grepl(\"mean_glucose\", ID))"
   ]
  },
  {
   "cell_type": "code",
   "execution_count": 607,
   "metadata": {},
   "outputs": [
    {
     "data": {
      "text/html": [
       "<table>\n",
       "<caption>A grouped_df: 20 × 5</caption>\n",
       "<thead>\n",
       "\t<tr><th scope=col>MORETHAN24HOURS</th><th scope=col>ID</th><th scope=col>HOURSBEFOREPRESSORS</th><th scope=col>MEAN</th><th scope=col>SD</th></tr>\n",
       "\t<tr><th scope=col>&lt;lgl&gt;</th><th scope=col>&lt;chr&gt;</th><th scope=col>&lt;int&gt;</th><th scope=col>&lt;dbl&gt;</th><th scope=col>&lt;dbl&gt;</th></tr>\n",
       "</thead>\n",
       "<tbody>\n",
       "\t<tr><td>FALSE</td><td>mean_heartrate</td><td> 1</td><td>91.41500</td><td>21.21292</td></tr>\n",
       "\t<tr><td>FALSE</td><td>mean_heartrate</td><td> 2</td><td>92.21219</td><td>21.51887</td></tr>\n",
       "\t<tr><td>FALSE</td><td>mean_heartrate</td><td> 3</td><td>92.65327</td><td>21.08484</td></tr>\n",
       "\t<tr><td>FALSE</td><td>mean_heartrate</td><td> 4</td><td>93.21743</td><td>21.09499</td></tr>\n",
       "\t<tr><td>FALSE</td><td>mean_heartrate</td><td> 5</td><td>92.31238</td><td>21.01638</td></tr>\n",
       "\t<tr><td>FALSE</td><td>mean_heartrate</td><td> 6</td><td>92.16242</td><td>20.68711</td></tr>\n",
       "\t<tr><td>FALSE</td><td>mean_heartrate</td><td> 7</td><td>91.11147</td><td>20.10573</td></tr>\n",
       "\t<tr><td>FALSE</td><td>mean_heartrate</td><td> 8</td><td>90.84620</td><td>20.14667</td></tr>\n",
       "\t<tr><td>FALSE</td><td>mean_heartrate</td><td> 9</td><td>90.64875</td><td>19.89788</td></tr>\n",
       "\t<tr><td>FALSE</td><td>mean_heartrate</td><td>10</td><td>90.35138</td><td>19.99352</td></tr>\n",
       "\t<tr><td> TRUE</td><td>mean_heartrate</td><td> 1</td><td>94.77468</td><td>20.85273</td></tr>\n",
       "\t<tr><td> TRUE</td><td>mean_heartrate</td><td> 2</td><td>95.01239</td><td>21.77615</td></tr>\n",
       "\t<tr><td> TRUE</td><td>mean_heartrate</td><td> 3</td><td>94.28023</td><td>21.15217</td></tr>\n",
       "\t<tr><td> TRUE</td><td>mean_heartrate</td><td> 4</td><td>93.87445</td><td>21.48022</td></tr>\n",
       "\t<tr><td> TRUE</td><td>mean_heartrate</td><td> 5</td><td>94.18279</td><td>22.23688</td></tr>\n",
       "\t<tr><td> TRUE</td><td>mean_heartrate</td><td> 6</td><td>93.37169</td><td>22.03303</td></tr>\n",
       "\t<tr><td> TRUE</td><td>mean_heartrate</td><td> 7</td><td>92.78928</td><td>21.51595</td></tr>\n",
       "\t<tr><td> TRUE</td><td>mean_heartrate</td><td> 8</td><td>92.52914</td><td>21.10009</td></tr>\n",
       "\t<tr><td> TRUE</td><td>mean_heartrate</td><td> 9</td><td>91.71520</td><td>21.01079</td></tr>\n",
       "\t<tr><td> TRUE</td><td>mean_heartrate</td><td>10</td><td>92.64983</td><td>20.98000</td></tr>\n",
       "</tbody>\n",
       "</table>\n"
      ],
      "text/latex": [
       "A grouped_df: 20 × 5\n",
       "\\begin{tabular}{r|lllll}\n",
       " MORETHAN24HOURS & ID & HOURSBEFOREPRESSORS & MEAN & SD\\\\\n",
       " <lgl> & <chr> & <int> & <dbl> & <dbl>\\\\\n",
       "\\hline\n",
       "\t FALSE & mean\\_heartrate &  1 & 91.41500 & 21.21292\\\\\n",
       "\t FALSE & mean\\_heartrate &  2 & 92.21219 & 21.51887\\\\\n",
       "\t FALSE & mean\\_heartrate &  3 & 92.65327 & 21.08484\\\\\n",
       "\t FALSE & mean\\_heartrate &  4 & 93.21743 & 21.09499\\\\\n",
       "\t FALSE & mean\\_heartrate &  5 & 92.31238 & 21.01638\\\\\n",
       "\t FALSE & mean\\_heartrate &  6 & 92.16242 & 20.68711\\\\\n",
       "\t FALSE & mean\\_heartrate &  7 & 91.11147 & 20.10573\\\\\n",
       "\t FALSE & mean\\_heartrate &  8 & 90.84620 & 20.14667\\\\\n",
       "\t FALSE & mean\\_heartrate &  9 & 90.64875 & 19.89788\\\\\n",
       "\t FALSE & mean\\_heartrate & 10 & 90.35138 & 19.99352\\\\\n",
       "\t  TRUE & mean\\_heartrate &  1 & 94.77468 & 20.85273\\\\\n",
       "\t  TRUE & mean\\_heartrate &  2 & 95.01239 & 21.77615\\\\\n",
       "\t  TRUE & mean\\_heartrate &  3 & 94.28023 & 21.15217\\\\\n",
       "\t  TRUE & mean\\_heartrate &  4 & 93.87445 & 21.48022\\\\\n",
       "\t  TRUE & mean\\_heartrate &  5 & 94.18279 & 22.23688\\\\\n",
       "\t  TRUE & mean\\_heartrate &  6 & 93.37169 & 22.03303\\\\\n",
       "\t  TRUE & mean\\_heartrate &  7 & 92.78928 & 21.51595\\\\\n",
       "\t  TRUE & mean\\_heartrate &  8 & 92.52914 & 21.10009\\\\\n",
       "\t  TRUE & mean\\_heartrate &  9 & 91.71520 & 21.01079\\\\\n",
       "\t  TRUE & mean\\_heartrate & 10 & 92.64983 & 20.98000\\\\\n",
       "\\end{tabular}\n"
      ],
      "text/markdown": [
       "\n",
       "A grouped_df: 20 × 5\n",
       "\n",
       "| MORETHAN24HOURS &lt;lgl&gt; | ID &lt;chr&gt; | HOURSBEFOREPRESSORS &lt;int&gt; | MEAN &lt;dbl&gt; | SD &lt;dbl&gt; |\n",
       "|---|---|---|---|---|\n",
       "| FALSE | mean_heartrate |  1 | 91.41500 | 21.21292 |\n",
       "| FALSE | mean_heartrate |  2 | 92.21219 | 21.51887 |\n",
       "| FALSE | mean_heartrate |  3 | 92.65327 | 21.08484 |\n",
       "| FALSE | mean_heartrate |  4 | 93.21743 | 21.09499 |\n",
       "| FALSE | mean_heartrate |  5 | 92.31238 | 21.01638 |\n",
       "| FALSE | mean_heartrate |  6 | 92.16242 | 20.68711 |\n",
       "| FALSE | mean_heartrate |  7 | 91.11147 | 20.10573 |\n",
       "| FALSE | mean_heartrate |  8 | 90.84620 | 20.14667 |\n",
       "| FALSE | mean_heartrate |  9 | 90.64875 | 19.89788 |\n",
       "| FALSE | mean_heartrate | 10 | 90.35138 | 19.99352 |\n",
       "|  TRUE | mean_heartrate |  1 | 94.77468 | 20.85273 |\n",
       "|  TRUE | mean_heartrate |  2 | 95.01239 | 21.77615 |\n",
       "|  TRUE | mean_heartrate |  3 | 94.28023 | 21.15217 |\n",
       "|  TRUE | mean_heartrate |  4 | 93.87445 | 21.48022 |\n",
       "|  TRUE | mean_heartrate |  5 | 94.18279 | 22.23688 |\n",
       "|  TRUE | mean_heartrate |  6 | 93.37169 | 22.03303 |\n",
       "|  TRUE | mean_heartrate |  7 | 92.78928 | 21.51595 |\n",
       "|  TRUE | mean_heartrate |  8 | 92.52914 | 21.10009 |\n",
       "|  TRUE | mean_heartrate |  9 | 91.71520 | 21.01079 |\n",
       "|  TRUE | mean_heartrate | 10 | 92.64983 | 20.98000 |\n",
       "\n"
      ],
      "text/plain": [
       "   MORETHAN24HOURS ID             HOURSBEFOREPRESSORS MEAN     SD      \n",
       "1  FALSE           mean_heartrate  1                  91.41500 21.21292\n",
       "2  FALSE           mean_heartrate  2                  92.21219 21.51887\n",
       "3  FALSE           mean_heartrate  3                  92.65327 21.08484\n",
       "4  FALSE           mean_heartrate  4                  93.21743 21.09499\n",
       "5  FALSE           mean_heartrate  5                  92.31238 21.01638\n",
       "6  FALSE           mean_heartrate  6                  92.16242 20.68711\n",
       "7  FALSE           mean_heartrate  7                  91.11147 20.10573\n",
       "8  FALSE           mean_heartrate  8                  90.84620 20.14667\n",
       "9  FALSE           mean_heartrate  9                  90.64875 19.89788\n",
       "10 FALSE           mean_heartrate 10                  90.35138 19.99352\n",
       "11  TRUE           mean_heartrate  1                  94.77468 20.85273\n",
       "12  TRUE           mean_heartrate  2                  95.01239 21.77615\n",
       "13  TRUE           mean_heartrate  3                  94.28023 21.15217\n",
       "14  TRUE           mean_heartrate  4                  93.87445 21.48022\n",
       "15  TRUE           mean_heartrate  5                  94.18279 22.23688\n",
       "16  TRUE           mean_heartrate  6                  93.37169 22.03303\n",
       "17  TRUE           mean_heartrate  7                  92.78928 21.51595\n",
       "18  TRUE           mean_heartrate  8                  92.52914 21.10009\n",
       "19  TRUE           mean_heartrate  9                  91.71520 21.01079\n",
       "20  TRUE           mean_heartrate 10                  92.64983 20.98000"
      ]
     },
     "metadata": {},
     "output_type": "display_data"
    }
   ],
   "source": [
    "melt_results_df %>%\n",
    "    group_by(MORETHAN24HOURS, ID, INTERVAL) %>%\n",
    "    summarize(MEAN = mean(VALUE, na.rm = T), SD = sd(VALUE, na.rm = T)) %>%\n",
    "    rename(HOURSBEFOREPRESSORS = INTERVAL) %>%\n",
    "    filter(grepl(\"mean_heartrate\", ID))"
   ]
  },
  {
   "cell_type": "code",
   "execution_count": 608,
   "metadata": {},
   "outputs": [
    {
     "data": {
      "text/html": [
       "<table>\n",
       "<caption>A grouped_df: 20 × 5</caption>\n",
       "<thead>\n",
       "\t<tr><th scope=col>MORETHAN24HOURS</th><th scope=col>ID</th><th scope=col>HOURSBEFOREPRESSORS</th><th scope=col>MEAN</th><th scope=col>SD</th></tr>\n",
       "\t<tr><th scope=col>&lt;lgl&gt;</th><th scope=col>&lt;chr&gt;</th><th scope=col>&lt;int&gt;</th><th scope=col>&lt;dbl&gt;</th><th scope=col>&lt;dbl&gt;</th></tr>\n",
       "</thead>\n",
       "<tbody>\n",
       "\t<tr><td>FALSE</td><td>mean_meanbp</td><td> 1</td><td>69.35602</td><td>15.60029</td></tr>\n",
       "\t<tr><td>FALSE</td><td>mean_meanbp</td><td> 2</td><td>68.24777</td><td>15.87528</td></tr>\n",
       "\t<tr><td>FALSE</td><td>mean_meanbp</td><td> 3</td><td>70.48433</td><td>15.84340</td></tr>\n",
       "\t<tr><td>FALSE</td><td>mean_meanbp</td><td> 4</td><td>71.64385</td><td>16.91313</td></tr>\n",
       "\t<tr><td>FALSE</td><td>mean_meanbp</td><td> 5</td><td>72.73630</td><td>17.26846</td></tr>\n",
       "\t<tr><td>FALSE</td><td>mean_meanbp</td><td> 6</td><td>72.56045</td><td>15.88373</td></tr>\n",
       "\t<tr><td>FALSE</td><td>mean_meanbp</td><td> 7</td><td>74.25833</td><td>16.76144</td></tr>\n",
       "\t<tr><td>FALSE</td><td>mean_meanbp</td><td> 8</td><td>74.11508</td><td>16.69597</td></tr>\n",
       "\t<tr><td>FALSE</td><td>mean_meanbp</td><td> 9</td><td>74.70031</td><td>16.82940</td></tr>\n",
       "\t<tr><td>FALSE</td><td>mean_meanbp</td><td>10</td><td>74.64452</td><td>15.75822</td></tr>\n",
       "\t<tr><td> TRUE</td><td>mean_meanbp</td><td> 1</td><td>68.35063</td><td>15.62187</td></tr>\n",
       "\t<tr><td> TRUE</td><td>mean_meanbp</td><td> 2</td><td>68.07017</td><td>16.44194</td></tr>\n",
       "\t<tr><td> TRUE</td><td>mean_meanbp</td><td> 3</td><td>68.88730</td><td>14.73134</td></tr>\n",
       "\t<tr><td> TRUE</td><td>mean_meanbp</td><td> 4</td><td>70.11492</td><td>17.37472</td></tr>\n",
       "\t<tr><td> TRUE</td><td>mean_meanbp</td><td> 5</td><td>70.19766</td><td>16.15138</td></tr>\n",
       "\t<tr><td> TRUE</td><td>mean_meanbp</td><td> 6</td><td>70.42289</td><td>15.52950</td></tr>\n",
       "\t<tr><td> TRUE</td><td>mean_meanbp</td><td> 7</td><td>71.09781</td><td>15.70751</td></tr>\n",
       "\t<tr><td> TRUE</td><td>mean_meanbp</td><td> 8</td><td>71.87231</td><td>16.57693</td></tr>\n",
       "\t<tr><td> TRUE</td><td>mean_meanbp</td><td> 9</td><td>71.73543</td><td>17.35978</td></tr>\n",
       "\t<tr><td> TRUE</td><td>mean_meanbp</td><td>10</td><td>72.82933</td><td>17.28736</td></tr>\n",
       "</tbody>\n",
       "</table>\n"
      ],
      "text/latex": [
       "A grouped_df: 20 × 5\n",
       "\\begin{tabular}{r|lllll}\n",
       " MORETHAN24HOURS & ID & HOURSBEFOREPRESSORS & MEAN & SD\\\\\n",
       " <lgl> & <chr> & <int> & <dbl> & <dbl>\\\\\n",
       "\\hline\n",
       "\t FALSE & mean\\_meanbp &  1 & 69.35602 & 15.60029\\\\\n",
       "\t FALSE & mean\\_meanbp &  2 & 68.24777 & 15.87528\\\\\n",
       "\t FALSE & mean\\_meanbp &  3 & 70.48433 & 15.84340\\\\\n",
       "\t FALSE & mean\\_meanbp &  4 & 71.64385 & 16.91313\\\\\n",
       "\t FALSE & mean\\_meanbp &  5 & 72.73630 & 17.26846\\\\\n",
       "\t FALSE & mean\\_meanbp &  6 & 72.56045 & 15.88373\\\\\n",
       "\t FALSE & mean\\_meanbp &  7 & 74.25833 & 16.76144\\\\\n",
       "\t FALSE & mean\\_meanbp &  8 & 74.11508 & 16.69597\\\\\n",
       "\t FALSE & mean\\_meanbp &  9 & 74.70031 & 16.82940\\\\\n",
       "\t FALSE & mean\\_meanbp & 10 & 74.64452 & 15.75822\\\\\n",
       "\t  TRUE & mean\\_meanbp &  1 & 68.35063 & 15.62187\\\\\n",
       "\t  TRUE & mean\\_meanbp &  2 & 68.07017 & 16.44194\\\\\n",
       "\t  TRUE & mean\\_meanbp &  3 & 68.88730 & 14.73134\\\\\n",
       "\t  TRUE & mean\\_meanbp &  4 & 70.11492 & 17.37472\\\\\n",
       "\t  TRUE & mean\\_meanbp &  5 & 70.19766 & 16.15138\\\\\n",
       "\t  TRUE & mean\\_meanbp &  6 & 70.42289 & 15.52950\\\\\n",
       "\t  TRUE & mean\\_meanbp &  7 & 71.09781 & 15.70751\\\\\n",
       "\t  TRUE & mean\\_meanbp &  8 & 71.87231 & 16.57693\\\\\n",
       "\t  TRUE & mean\\_meanbp &  9 & 71.73543 & 17.35978\\\\\n",
       "\t  TRUE & mean\\_meanbp & 10 & 72.82933 & 17.28736\\\\\n",
       "\\end{tabular}\n"
      ],
      "text/markdown": [
       "\n",
       "A grouped_df: 20 × 5\n",
       "\n",
       "| MORETHAN24HOURS &lt;lgl&gt; | ID &lt;chr&gt; | HOURSBEFOREPRESSORS &lt;int&gt; | MEAN &lt;dbl&gt; | SD &lt;dbl&gt; |\n",
       "|---|---|---|---|---|\n",
       "| FALSE | mean_meanbp |  1 | 69.35602 | 15.60029 |\n",
       "| FALSE | mean_meanbp |  2 | 68.24777 | 15.87528 |\n",
       "| FALSE | mean_meanbp |  3 | 70.48433 | 15.84340 |\n",
       "| FALSE | mean_meanbp |  4 | 71.64385 | 16.91313 |\n",
       "| FALSE | mean_meanbp |  5 | 72.73630 | 17.26846 |\n",
       "| FALSE | mean_meanbp |  6 | 72.56045 | 15.88373 |\n",
       "| FALSE | mean_meanbp |  7 | 74.25833 | 16.76144 |\n",
       "| FALSE | mean_meanbp |  8 | 74.11508 | 16.69597 |\n",
       "| FALSE | mean_meanbp |  9 | 74.70031 | 16.82940 |\n",
       "| FALSE | mean_meanbp | 10 | 74.64452 | 15.75822 |\n",
       "|  TRUE | mean_meanbp |  1 | 68.35063 | 15.62187 |\n",
       "|  TRUE | mean_meanbp |  2 | 68.07017 | 16.44194 |\n",
       "|  TRUE | mean_meanbp |  3 | 68.88730 | 14.73134 |\n",
       "|  TRUE | mean_meanbp |  4 | 70.11492 | 17.37472 |\n",
       "|  TRUE | mean_meanbp |  5 | 70.19766 | 16.15138 |\n",
       "|  TRUE | mean_meanbp |  6 | 70.42289 | 15.52950 |\n",
       "|  TRUE | mean_meanbp |  7 | 71.09781 | 15.70751 |\n",
       "|  TRUE | mean_meanbp |  8 | 71.87231 | 16.57693 |\n",
       "|  TRUE | mean_meanbp |  9 | 71.73543 | 17.35978 |\n",
       "|  TRUE | mean_meanbp | 10 | 72.82933 | 17.28736 |\n",
       "\n"
      ],
      "text/plain": [
       "   MORETHAN24HOURS ID          HOURSBEFOREPRESSORS MEAN     SD      \n",
       "1  FALSE           mean_meanbp  1                  69.35602 15.60029\n",
       "2  FALSE           mean_meanbp  2                  68.24777 15.87528\n",
       "3  FALSE           mean_meanbp  3                  70.48433 15.84340\n",
       "4  FALSE           mean_meanbp  4                  71.64385 16.91313\n",
       "5  FALSE           mean_meanbp  5                  72.73630 17.26846\n",
       "6  FALSE           mean_meanbp  6                  72.56045 15.88373\n",
       "7  FALSE           mean_meanbp  7                  74.25833 16.76144\n",
       "8  FALSE           mean_meanbp  8                  74.11508 16.69597\n",
       "9  FALSE           mean_meanbp  9                  74.70031 16.82940\n",
       "10 FALSE           mean_meanbp 10                  74.64452 15.75822\n",
       "11  TRUE           mean_meanbp  1                  68.35063 15.62187\n",
       "12  TRUE           mean_meanbp  2                  68.07017 16.44194\n",
       "13  TRUE           mean_meanbp  3                  68.88730 14.73134\n",
       "14  TRUE           mean_meanbp  4                  70.11492 17.37472\n",
       "15  TRUE           mean_meanbp  5                  70.19766 16.15138\n",
       "16  TRUE           mean_meanbp  6                  70.42289 15.52950\n",
       "17  TRUE           mean_meanbp  7                  71.09781 15.70751\n",
       "18  TRUE           mean_meanbp  8                  71.87231 16.57693\n",
       "19  TRUE           mean_meanbp  9                  71.73543 17.35978\n",
       "20  TRUE           mean_meanbp 10                  72.82933 17.28736"
      ]
     },
     "metadata": {},
     "output_type": "display_data"
    }
   ],
   "source": [
    "melt_results_df %>%\n",
    "    group_by(MORETHAN24HOURS, ID, INTERVAL) %>%\n",
    "    summarize(MEAN = mean(VALUE, na.rm = T), SD = sd(VALUE, na.rm = T)) %>%\n",
    "    rename(HOURSBEFOREPRESSORS = INTERVAL) %>%\n",
    "    filter(grepl(\"mean_meanbp\", ID))"
   ]
  },
  {
   "cell_type": "markdown",
   "metadata": {},
   "source": [
    "# Model ideas:\n",
    "- Age, Sex, Race + Continuous Vitals + Class of Diagnosis"
   ]
  },
  {
   "cell_type": "markdown",
   "metadata": {},
   "source": [
    "# OLD PLOTTING CODE"
   ]
  },
  {
   "cell_type": "code",
   "execution_count": 216,
   "metadata": {},
   "outputs": [],
   "source": [
    "diff_melt_results_df <- melt_results_df %>%\n",
    "    mutate(LESS4H_FAC = if(LESS4H){\"ACUTE\"}else{\"BEFORE\"}) %>%\n",
    "    ungroup() %>%\n",
    "    select(-LESS4H) %>%\n",
    "    spread(key=LESS4H_FAC, value=VALUE) %>%\n",
    "    mutate(DIFF = ACUTE - BEFORE) %>%\n",
    "    drop_na(DIFF)"
   ]
  },
  {
   "cell_type": "code",
   "execution_count": 219,
   "metadata": {},
   "outputs": [
    {
     "data": {
      "text/html": [
       "<table>\n",
       "<caption>A tibble: 8 × 4</caption>\n",
       "<thead>\n",
       "\t<tr><th scope=col>ID</th><th scope=col>MEAN</th><th scope=col>MEDIAN</th><th scope=col>SD</th></tr>\n",
       "\t<tr><th scope=col>&lt;chr&gt;</th><th scope=col>&lt;dbl&gt;</th><th scope=col>&lt;dbl&gt;</th><th scope=col>&lt;dbl&gt;</th></tr>\n",
       "</thead>\n",
       "<tbody>\n",
       "\t<tr><td>mean_diasbp   </td><td> -5.0795903</td><td>-4.6190476</td><td>10.5574709</td></tr>\n",
       "\t<tr><td>mean_glucose  </td><td> -1.0703783</td><td>-2.0000000</td><td>57.3764423</td></tr>\n",
       "\t<tr><td>mean_heartrate</td><td>  0.5978909</td><td>-0.2500000</td><td>15.0400201</td></tr>\n",
       "\t<tr><td>mean_meanbp   </td><td> -6.2249491</td><td>-5.9400000</td><td>12.7268102</td></tr>\n",
       "\t<tr><td>mean_resprate </td><td> -0.1385922</td><td> 0.0000000</td><td> 4.6541797</td></tr>\n",
       "\t<tr><td>mean_spo2     </td><td> -0.4325486</td><td> 0.0000000</td><td> 4.7919907</td></tr>\n",
       "\t<tr><td>mean_sysbp    </td><td>-10.4044132</td><td>-9.5045455</td><td>17.7648518</td></tr>\n",
       "\t<tr><td>mean_tempc    </td><td>  0.1458291</td><td> 0.1249992</td><td> 0.9608547</td></tr>\n",
       "</tbody>\n",
       "</table>\n"
      ],
      "text/latex": [
       "A tibble: 8 × 4\n",
       "\\begin{tabular}{r|llll}\n",
       " ID & MEAN & MEDIAN & SD\\\\\n",
       " <chr> & <dbl> & <dbl> & <dbl>\\\\\n",
       "\\hline\n",
       "\t mean\\_diasbp    &  -5.0795903 & -4.6190476 & 10.5574709\\\\\n",
       "\t mean\\_glucose   &  -1.0703783 & -2.0000000 & 57.3764423\\\\\n",
       "\t mean\\_heartrate &   0.5978909 & -0.2500000 & 15.0400201\\\\\n",
       "\t mean\\_meanbp    &  -6.2249491 & -5.9400000 & 12.7268102\\\\\n",
       "\t mean\\_resprate  &  -0.1385922 &  0.0000000 &  4.6541797\\\\\n",
       "\t mean\\_spo2      &  -0.4325486 &  0.0000000 &  4.7919907\\\\\n",
       "\t mean\\_sysbp     & -10.4044132 & -9.5045455 & 17.7648518\\\\\n",
       "\t mean\\_tempc     &   0.1458291 &  0.1249992 &  0.9608547\\\\\n",
       "\\end{tabular}\n"
      ],
      "text/markdown": [
       "\n",
       "A tibble: 8 × 4\n",
       "\n",
       "| ID &lt;chr&gt; | MEAN &lt;dbl&gt; | MEDIAN &lt;dbl&gt; | SD &lt;dbl&gt; |\n",
       "|---|---|---|---|\n",
       "| mean_diasbp    |  -5.0795903 | -4.6190476 | 10.5574709 |\n",
       "| mean_glucose   |  -1.0703783 | -2.0000000 | 57.3764423 |\n",
       "| mean_heartrate |   0.5978909 | -0.2500000 | 15.0400201 |\n",
       "| mean_meanbp    |  -6.2249491 | -5.9400000 | 12.7268102 |\n",
       "| mean_resprate  |  -0.1385922 |  0.0000000 |  4.6541797 |\n",
       "| mean_spo2      |  -0.4325486 |  0.0000000 |  4.7919907 |\n",
       "| mean_sysbp     | -10.4044132 | -9.5045455 | 17.7648518 |\n",
       "| mean_tempc     |   0.1458291 |  0.1249992 |  0.9608547 |\n",
       "\n"
      ],
      "text/plain": [
       "  ID             MEAN        MEDIAN     SD        \n",
       "1 mean_diasbp     -5.0795903 -4.6190476 10.5574709\n",
       "2 mean_glucose    -1.0703783 -2.0000000 57.3764423\n",
       "3 mean_heartrate   0.5978909 -0.2500000 15.0400201\n",
       "4 mean_meanbp     -6.2249491 -5.9400000 12.7268102\n",
       "5 mean_resprate   -0.1385922  0.0000000  4.6541797\n",
       "6 mean_spo2       -0.4325486  0.0000000  4.7919907\n",
       "7 mean_sysbp     -10.4044132 -9.5045455 17.7648518\n",
       "8 mean_tempc       0.1458291  0.1249992  0.9608547"
      ]
     },
     "metadata": {},
     "output_type": "display_data"
    }
   ],
   "source": [
    "diff_melt_results_df %>%\n",
    "    group_by(ID) %>%\n",
    "    summarize(MEAN = mean(DIFF), MEDIAN = median(DIFF), SD = sd(DIFF)) %>%\n",
    "    filter(grepl(\"mean_\", ID))"
   ]
  },
  {
   "cell_type": "code",
   "execution_count": 220,
   "metadata": {},
   "outputs": [
    {
     "data": {
      "text/html": [
       "<table>\n",
       "<caption>A tibble: 8 × 4</caption>\n",
       "<thead>\n",
       "\t<tr><th scope=col>ID</th><th scope=col>MEAN</th><th scope=col>MEDIAN</th><th scope=col>SD</th></tr>\n",
       "\t<tr><th scope=col>&lt;chr&gt;</th><th scope=col>&lt;dbl&gt;</th><th scope=col>&lt;dbl&gt;</th><th scope=col>&lt;dbl&gt;</th></tr>\n",
       "</thead>\n",
       "<tbody>\n",
       "\t<tr><td>median_diasbp   </td><td> -4.72675829</td><td>-4.0000000</td><td>10.9233758</td></tr>\n",
       "\t<tr><td>median_glucose  </td><td>  1.93764511</td><td> 0.0000000</td><td>58.6315656</td></tr>\n",
       "\t<tr><td>median_heartrate</td><td>  0.94528754</td><td> 0.0000000</td><td>16.0242214</td></tr>\n",
       "\t<tr><td>median_meanbp   </td><td> -5.88472780</td><td>-5.2500000</td><td>13.2660207</td></tr>\n",
       "\t<tr><td>median_resprate </td><td> -0.04557188</td><td> 0.0000000</td><td> 5.0407835</td></tr>\n",
       "\t<tr><td>median_spo2     </td><td> -0.52318959</td><td> 0.0000000</td><td> 4.7320416</td></tr>\n",
       "\t<tr><td>median_sysbp    </td><td>-10.12702102</td><td>-9.0000000</td><td>19.2407517</td></tr>\n",
       "\t<tr><td>median_tempc    </td><td>  0.14083532</td><td> 0.1111094</td><td> 0.9843607</td></tr>\n",
       "</tbody>\n",
       "</table>\n"
      ],
      "text/latex": [
       "A tibble: 8 × 4\n",
       "\\begin{tabular}{r|llll}\n",
       " ID & MEAN & MEDIAN & SD\\\\\n",
       " <chr> & <dbl> & <dbl> & <dbl>\\\\\n",
       "\\hline\n",
       "\t median\\_diasbp    &  -4.72675829 & -4.0000000 & 10.9233758\\\\\n",
       "\t median\\_glucose   &   1.93764511 &  0.0000000 & 58.6315656\\\\\n",
       "\t median\\_heartrate &   0.94528754 &  0.0000000 & 16.0242214\\\\\n",
       "\t median\\_meanbp    &  -5.88472780 & -5.2500000 & 13.2660207\\\\\n",
       "\t median\\_resprate  &  -0.04557188 &  0.0000000 &  5.0407835\\\\\n",
       "\t median\\_spo2      &  -0.52318959 &  0.0000000 &  4.7320416\\\\\n",
       "\t median\\_sysbp     & -10.12702102 & -9.0000000 & 19.2407517\\\\\n",
       "\t median\\_tempc     &   0.14083532 &  0.1111094 &  0.9843607\\\\\n",
       "\\end{tabular}\n"
      ],
      "text/markdown": [
       "\n",
       "A tibble: 8 × 4\n",
       "\n",
       "| ID &lt;chr&gt; | MEAN &lt;dbl&gt; | MEDIAN &lt;dbl&gt; | SD &lt;dbl&gt; |\n",
       "|---|---|---|---|\n",
       "| median_diasbp    |  -4.72675829 | -4.0000000 | 10.9233758 |\n",
       "| median_glucose   |   1.93764511 |  0.0000000 | 58.6315656 |\n",
       "| median_heartrate |   0.94528754 |  0.0000000 | 16.0242214 |\n",
       "| median_meanbp    |  -5.88472780 | -5.2500000 | 13.2660207 |\n",
       "| median_resprate  |  -0.04557188 |  0.0000000 |  5.0407835 |\n",
       "| median_spo2      |  -0.52318959 |  0.0000000 |  4.7320416 |\n",
       "| median_sysbp     | -10.12702102 | -9.0000000 | 19.2407517 |\n",
       "| median_tempc     |   0.14083532 |  0.1111094 |  0.9843607 |\n",
       "\n"
      ],
      "text/plain": [
       "  ID               MEAN         MEDIAN     SD        \n",
       "1 median_diasbp     -4.72675829 -4.0000000 10.9233758\n",
       "2 median_glucose     1.93764511  0.0000000 58.6315656\n",
       "3 median_heartrate   0.94528754  0.0000000 16.0242214\n",
       "4 median_meanbp     -5.88472780 -5.2500000 13.2660207\n",
       "5 median_resprate   -0.04557188  0.0000000  5.0407835\n",
       "6 median_spo2       -0.52318959  0.0000000  4.7320416\n",
       "7 median_sysbp     -10.12702102 -9.0000000 19.2407517\n",
       "8 median_tempc       0.14083532  0.1111094  0.9843607"
      ]
     },
     "metadata": {},
     "output_type": "display_data"
    }
   ],
   "source": [
    "diff_melt_results_df %>%\n",
    "    group_by(ID) %>%\n",
    "    summarize(MEAN = mean(DIFF), MEDIAN = median(DIFF), SD = sd(DIFF)) %>%\n",
    "    filter(grepl(\"median_\", ID))"
   ]
  },
  {
   "cell_type": "markdown",
   "metadata": {},
   "source": [
    "### Plotting"
   ]
  },
  {
   "cell_type": "code",
   "execution_count": 224,
   "metadata": {},
   "outputs": [
    {
     "name": "stderr",
     "output_type": "stream",
     "text": [
      "Adding missing grouping variables: `LESS4H`\n"
     ]
    },
    {
     "data": {
      "text/html": [
       "5127"
      ],
      "text/latex": [
       "5127"
      ],
      "text/markdown": [
       "5127"
      ],
      "text/plain": [
       "[1] 5127"
      ]
     },
     "metadata": {},
     "output_type": "display_data"
    }
   ],
   "source": [
    "# icustay_ids being plotted\n",
    "melt_results_df %>% select(icustay_id) %>% unlist() %>% unique() %>% length()"
   ]
  },
  {
   "cell_type": "code",
   "execution_count": 177,
   "metadata": {},
   "outputs": [
    {
     "data": {
      "image/png": "[encoded data removed]",
      "text/plain": [
       "plot without title"
      ]
     },
     "metadata": {},
     "output_type": "display_data"
    }
   ],
   "source": [
    "options(repr.plot.width=10, repr.plot.height=3)\n",
    "melt_results_df %>%\n",
    "    filter(grepl(\"mean_\", ID)) %>%\n",
    "    ggplot(aes(x = LESS4H, y = VALUE)) +\n",
    "    geom_line(aes(group = icustay_id), size = 0.1) +\n",
    "    geom_boxplot() +\n",
    "    facet_grid(~ID)"
   ]
  },
  {
   "cell_type": "code",
   "execution_count": 184,
   "metadata": {},
   "outputs": [
    {
     "data": {
      "image/png": "[encoded data removed]",
      "text/plain": [
       "plot without title"
      ]
     },
     "metadata": {},
     "output_type": "display_data"
    }
   ],
   "source": [
    "options(repr.plot.width=10, repr.plot.height=3)\n",
    "melt_results_norm_df %>%\n",
    "    filter(grepl(\"mean_\", ID)) %>%\n",
    "    ggplot(aes(x = LESS4H, y = VALUE_NORM)) +\n",
    "    geom_line(aes(group = icustay_id), size = 0.1) +\n",
    "    geom_boxplot() +\n",
    "    facet_grid(~ID)"
   ]
  },
  {
   "cell_type": "code",
   "execution_count": 225,
   "metadata": {},
   "outputs": [
    {
     "data": {
      "text/html": [
       "2911"
      ],
      "text/latex": [
       "2911"
      ],
      "text/markdown": [
       "2911"
      ],
      "text/plain": [
       "[1] 2911"
      ]
     },
     "metadata": {},
     "output_type": "display_data"
    }
   ],
   "source": [
    "diff_melt_results_df %>% select(icustay_id) %>% unlist() %>% unique() %>% length()"
   ]
  },
  {
   "cell_type": "code",
   "execution_count": 218,
   "metadata": {},
   "outputs": [
    {
     "data": {
      "image/png": "[encoded data removed]",
      "text/plain": [
       "plot without title"
      ]
     },
     "metadata": {},
     "output_type": "display_data"
    }
   ],
   "source": [
    "# icustay_ids being plotted\n",
    "diff_melt_results_df %>%\n",
    "    filter(grepl(\"mean_\", ID)) %>%\n",
    "    ggplot(aes(x = ID, y = DIFF)) +\n",
    "    geom_boxplot()"
   ]
  }
 ],
 "metadata": {
  "kernelspec": {
   "display_name": "R",
   "language": "R",
   "name": "ir"
  },
  "language_info": {
   "codemirror_mode": "r",
   "file_extension": ".r",
   "mimetype": "text/x-r-source",
   "name": "R",
   "pygments_lexer": "r",
   "version": "3.6.0"
  }
 },
 "nbformat": 4,
 "nbformat_minor": 2
}
