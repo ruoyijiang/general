{
 "cells": [
  {
   "cell_type": "markdown",
   "metadata": {},
   "source": [
    "# Pressor Distributions\n",
    "- Ruoyi Jiang\n",
    "- July 19, 2019\n",
    "- Evaluation of the different pressor combinations used in MIMIC"
   ]
  },
  {
   "cell_type": "code",
   "execution_count": 1,
   "metadata": {},
   "outputs": [
    {
     "name": "stderr",
     "output_type": "stream",
     "text": [
      "\n",
      "Attaching package: ‘dplyr’\n",
      "\n",
      "The following objects are masked from ‘package:stats’:\n",
      "\n",
      "    filter, lag\n",
      "\n",
      "The following objects are masked from ‘package:base’:\n",
      "\n",
      "    intersect, setdiff, setequal, union\n",
      "\n"
     ]
    }
   ],
   "source": [
    "library(dplyr)\n",
    "library(tidyr)\n",
    "library(ggplot2)\n",
    "library(fasttime)\n",
    "library(epitools)"
   ]
  },
  {
   "cell_type": "markdown",
   "metadata": {},
   "source": [
    "Filtering criteria:\n",
    "- Groupby continuous courses (<24 hour intervals between pressors not considered separate)\n",
    "- Exclude those on pressors within 1 hr of hospital\n",
    "- First pressor course"
   ]
  },
  {
   "cell_type": "code",
   "execution_count": 2,
   "metadata": {},
   "outputs": [],
   "source": [
    "pressors_df <- read.csv('~/Projects/Haimovich_Pressors/collection/out/pressors.csv')"
   ]
  },
  {
   "cell_type": "code",
   "execution_count": 3,
   "metadata": {},
   "outputs": [
    {
     "data": {
      "text/html": [
       "<ol class=list-inline>\n",
       "\t<li>227645</li>\n",
       "\t<li>11</li>\n",
       "</ol>\n"
      ],
      "text/latex": [
       "\\begin{enumerate*}\n",
       "\\item 227645\n",
       "\\item 11\n",
       "\\end{enumerate*}\n"
      ],
      "text/markdown": [
       "1. 227645\n",
       "2. 11\n",
       "\n",
       "\n"
      ],
      "text/plain": [
       "[1] 227645     11"
      ]
     },
     "metadata": {},
     "output_type": "display_data"
    }
   ],
   "source": [
    "dim(pressors_df)"
   ]
  },
  {
   "cell_type": "code",
   "execution_count": 328,
   "metadata": {},
   "outputs": [
    {
     "data": {
      "text/html": [
       "<table>\n",
       "<caption>A data.frame: 6 × 11</caption>\n",
       "<thead>\n",
       "\t<tr><th scope=col>X</th><th scope=col>level_0</th><th scope=col>level_1</th><th scope=col>duration_hours</th><th scope=col>endtime</th><th scope=col>icustay_id</th><th scope=col>num</th><th scope=col>pressor</th><th scope=col>starttime</th><th scope=col>vasonum</th><th scope=col>ventnum</th></tr>\n",
       "\t<tr><th scope=col>&lt;int&gt;</th><th scope=col>&lt;fct&gt;</th><th scope=col>&lt;int&gt;</th><th scope=col>&lt;dbl&gt;</th><th scope=col>&lt;fct&gt;</th><th scope=col>&lt;dbl&gt;</th><th scope=col>&lt;dbl&gt;</th><th scope=col>&lt;fct&gt;</th><th scope=col>&lt;fct&gt;</th><th scope=col>&lt;dbl&gt;</th><th scope=col>&lt;dbl&gt;</th></tr>\n",
       "</thead>\n",
       "<tbody>\n",
       "\t<tr><td>30584</td><td>central_line_durations</td><td>0</td><td> 70.91667</td><td>2181-11-28 20:59:00</td><td>200001</td><td>NA</td><td>central_line_durations</td><td>2181-11-25 22:04:00</td><td>NA</td><td>NA</td></tr>\n",
       "\t<tr><td>30585</td><td>central_line_durations</td><td>1</td><td>134.00000</td><td>2199-08-08 15:00:00</td><td>200003</td><td>NA</td><td>central_line_durations</td><td>2199-08-03 01:00:00</td><td>NA</td><td>NA</td></tr>\n",
       "\t<tr><td>30586</td><td>central_line_durations</td><td>2</td><td> 37.75000</td><td>2189-12-02 08:00:00</td><td>200009</td><td>NA</td><td>central_line_durations</td><td>2189-11-30 18:15:00</td><td>NA</td><td>NA</td></tr>\n",
       "\t<tr><td>30587</td><td>central_line_durations</td><td>3</td><td> 19.68333</td><td>2132-08-05 20:36:00</td><td>200010</td><td>NA</td><td>central_line_durations</td><td>2132-08-05 00:55:00</td><td>NA</td><td>NA</td></tr>\n",
       "\t<tr><td>30588</td><td>central_line_durations</td><td>4</td><td> 23.76667</td><td>2114-12-27 22:46:00</td><td>200021</td><td>NA</td><td>central_line_durations</td><td>2114-12-26 23:00:00</td><td>NA</td><td>NA</td></tr>\n",
       "\t<tr><td>30589</td><td>central_line_durations</td><td>5</td><td>  9.30000</td><td>2127-03-04 01:18:00</td><td>200024</td><td>NA</td><td>central_line_durations</td><td>2127-03-03 16:00:00</td><td>NA</td><td>NA</td></tr>\n",
       "</tbody>\n",
       "</table>\n"
      ],
      "text/latex": [
       "A data.frame: 6 × 11\n",
       "\\begin{tabular}{r|lllllllllll}\n",
       " X & level\\_0 & level\\_1 & duration\\_hours & endtime & icustay\\_id & num & pressor & starttime & vasonum & ventnum\\\\\n",
       " <int> & <fct> & <int> & <dbl> & <fct> & <dbl> & <dbl> & <fct> & <fct> & <dbl> & <dbl>\\\\\n",
       "\\hline\n",
       "\t 30584 & central\\_line\\_durations & 0 &  70.91667 & 2181-11-28 20:59:00 & 200001 & NA & central\\_line\\_durations & 2181-11-25 22:04:00 & NA & NA\\\\\n",
       "\t 30585 & central\\_line\\_durations & 1 & 134.00000 & 2199-08-08 15:00:00 & 200003 & NA & central\\_line\\_durations & 2199-08-03 01:00:00 & NA & NA\\\\\n",
       "\t 30586 & central\\_line\\_durations & 2 &  37.75000 & 2189-12-02 08:00:00 & 200009 & NA & central\\_line\\_durations & 2189-11-30 18:15:00 & NA & NA\\\\\n",
       "\t 30587 & central\\_line\\_durations & 3 &  19.68333 & 2132-08-05 20:36:00 & 200010 & NA & central\\_line\\_durations & 2132-08-05 00:55:00 & NA & NA\\\\\n",
       "\t 30588 & central\\_line\\_durations & 4 &  23.76667 & 2114-12-27 22:46:00 & 200021 & NA & central\\_line\\_durations & 2114-12-26 23:00:00 & NA & NA\\\\\n",
       "\t 30589 & central\\_line\\_durations & 5 &   9.30000 & 2127-03-04 01:18:00 & 200024 & NA & central\\_line\\_durations & 2127-03-03 16:00:00 & NA & NA\\\\\n",
       "\\end{tabular}\n"
      ],
      "text/markdown": [
       "\n",
       "A data.frame: 6 × 11\n",
       "\n",
       "| X &lt;int&gt; | level_0 &lt;fct&gt; | level_1 &lt;int&gt; | duration_hours &lt;dbl&gt; | endtime &lt;fct&gt; | icustay_id &lt;dbl&gt; | num &lt;dbl&gt; | pressor &lt;fct&gt; | starttime &lt;fct&gt; | vasonum &lt;dbl&gt; | ventnum &lt;dbl&gt; |\n",
       "|---|---|---|---|---|---|---|---|---|---|---|\n",
       "| 30584 | central_line_durations | 0 |  70.91667 | 2181-11-28 20:59:00 | 200001 | NA | central_line_durations | 2181-11-25 22:04:00 | NA | NA |\n",
       "| 30585 | central_line_durations | 1 | 134.00000 | 2199-08-08 15:00:00 | 200003 | NA | central_line_durations | 2199-08-03 01:00:00 | NA | NA |\n",
       "| 30586 | central_line_durations | 2 |  37.75000 | 2189-12-02 08:00:00 | 200009 | NA | central_line_durations | 2189-11-30 18:15:00 | NA | NA |\n",
       "| 30587 | central_line_durations | 3 |  19.68333 | 2132-08-05 20:36:00 | 200010 | NA | central_line_durations | 2132-08-05 00:55:00 | NA | NA |\n",
       "| 30588 | central_line_durations | 4 |  23.76667 | 2114-12-27 22:46:00 | 200021 | NA | central_line_durations | 2114-12-26 23:00:00 | NA | NA |\n",
       "| 30589 | central_line_durations | 5 |   9.30000 | 2127-03-04 01:18:00 | 200024 | NA | central_line_durations | 2127-03-03 16:00:00 | NA | NA |\n",
       "\n"
      ],
      "text/plain": [
       "  X     level_0                level_1 duration_hours endtime            \n",
       "1 30584 central_line_durations 0        70.91667      2181-11-28 20:59:00\n",
       "2 30585 central_line_durations 1       134.00000      2199-08-08 15:00:00\n",
       "3 30586 central_line_durations 2        37.75000      2189-12-02 08:00:00\n",
       "4 30587 central_line_durations 3        19.68333      2132-08-05 20:36:00\n",
       "5 30588 central_line_durations 4        23.76667      2114-12-27 22:46:00\n",
       "6 30589 central_line_durations 5         9.30000      2127-03-04 01:18:00\n",
       "  icustay_id num pressor                starttime           vasonum ventnum\n",
       "1 200001     NA  central_line_durations 2181-11-25 22:04:00 NA      NA     \n",
       "2 200003     NA  central_line_durations 2199-08-03 01:00:00 NA      NA     \n",
       "3 200009     NA  central_line_durations 2189-11-30 18:15:00 NA      NA     \n",
       "4 200010     NA  central_line_durations 2132-08-05 00:55:00 NA      NA     \n",
       "5 200021     NA  central_line_durations 2114-12-26 23:00:00 NA      NA     \n",
       "6 200024     NA  central_line_durations 2127-03-03 16:00:00 NA      NA     "
      ]
     },
     "metadata": {},
     "output_type": "display_data"
    }
   ],
   "source": [
    "pressors_df %>%\n",
    "    filter(pressor == \"central_line_durations\") %>% head()"
   ]
  },
  {
   "cell_type": "code",
   "execution_count": 83,
   "metadata": {},
   "outputs": [
    {
     "data": {
      "text/html": [
       "<table>\n",
       "<caption>A data.frame: 6 × 11</caption>\n",
       "<thead>\n",
       "\t<tr><th scope=col>X</th><th scope=col>level_0</th><th scope=col>level_1</th><th scope=col>duration_hours</th><th scope=col>endtime</th><th scope=col>icustay_id</th><th scope=col>num</th><th scope=col>pressor</th><th scope=col>starttime</th><th scope=col>vasonum</th><th scope=col>ventnum</th></tr>\n",
       "\t<tr><th scope=col>&lt;int&gt;</th><th scope=col>&lt;fct&gt;</th><th scope=col>&lt;int&gt;</th><th scope=col>&lt;dbl&gt;</th><th scope=col>&lt;fct&gt;</th><th scope=col>&lt;dbl&gt;</th><th scope=col>&lt;dbl&gt;</th><th scope=col>&lt;fct&gt;</th><th scope=col>&lt;fct&gt;</th><th scope=col>&lt;dbl&gt;</th><th scope=col>&lt;dbl&gt;</th></tr>\n",
       "</thead>\n",
       "<tbody>\n",
       "\t<tr><td>189130</td><td>ventdurations</td><td>0</td><td>91.00000</td><td>2199-08-07 13:00:00</td><td>200003</td><td>NA</td><td>ventdurations</td><td>2199-08-03 18:00:00</td><td>NA</td><td>1</td></tr>\n",
       "\t<tr><td>189131</td><td>ventdurations</td><td>1</td><td>14.83333</td><td>2159-09-04 03:50:00</td><td>200006</td><td>NA</td><td>ventdurations</td><td>2159-09-03 13:00:00</td><td>NA</td><td>1</td></tr>\n",
       "\t<tr><td>189132</td><td>ventdurations</td><td>2</td><td>15.83333</td><td>2189-12-01 10:00:00</td><td>200009</td><td>NA</td><td>ventdurations</td><td>2189-11-30 18:10:00</td><td>NA</td><td>1</td></tr>\n",
       "\t<tr><td>189133</td><td>ventdurations</td><td>3</td><td> 3.00000</td><td>2188-08-06 04:00:00</td><td>200011</td><td>NA</td><td>ventdurations</td><td>2188-08-06 01:00:00</td><td>NA</td><td>1</td></tr>\n",
       "\t<tr><td>189134</td><td>ventdurations</td><td>4</td><td>18.75000</td><td>2105-02-17 18:00:00</td><td>200014</td><td>NA</td><td>ventdurations</td><td>2105-02-16 23:15:00</td><td>NA</td><td>1</td></tr>\n",
       "\t<tr><td>189135</td><td>ventdurations</td><td>5</td><td>83.00000</td><td>2138-03-21 09:00:00</td><td>200017</td><td>NA</td><td>ventdurations</td><td>2138-03-17 22:00:00</td><td>NA</td><td>1</td></tr>\n",
       "</tbody>\n",
       "</table>\n"
      ],
      "text/latex": [
       "A data.frame: 6 × 11\n",
       "\\begin{tabular}{r|lllllllllll}\n",
       " X & level\\_0 & level\\_1 & duration\\_hours & endtime & icustay\\_id & num & pressor & starttime & vasonum & ventnum\\\\\n",
       " <int> & <fct> & <int> & <dbl> & <fct> & <dbl> & <dbl> & <fct> & <fct> & <dbl> & <dbl>\\\\\n",
       "\\hline\n",
       "\t 189130 & ventdurations & 0 & 91.00000 & 2199-08-07 13:00:00 & 200003 & NA & ventdurations & 2199-08-03 18:00:00 & NA & 1\\\\\n",
       "\t 189131 & ventdurations & 1 & 14.83333 & 2159-09-04 03:50:00 & 200006 & NA & ventdurations & 2159-09-03 13:00:00 & NA & 1\\\\\n",
       "\t 189132 & ventdurations & 2 & 15.83333 & 2189-12-01 10:00:00 & 200009 & NA & ventdurations & 2189-11-30 18:10:00 & NA & 1\\\\\n",
       "\t 189133 & ventdurations & 3 &  3.00000 & 2188-08-06 04:00:00 & 200011 & NA & ventdurations & 2188-08-06 01:00:00 & NA & 1\\\\\n",
       "\t 189134 & ventdurations & 4 & 18.75000 & 2105-02-17 18:00:00 & 200014 & NA & ventdurations & 2105-02-16 23:15:00 & NA & 1\\\\\n",
       "\t 189135 & ventdurations & 5 & 83.00000 & 2138-03-21 09:00:00 & 200017 & NA & ventdurations & 2138-03-17 22:00:00 & NA & 1\\\\\n",
       "\\end{tabular}\n"
      ],
      "text/markdown": [
       "\n",
       "A data.frame: 6 × 11\n",
       "\n",
       "| X &lt;int&gt; | level_0 &lt;fct&gt; | level_1 &lt;int&gt; | duration_hours &lt;dbl&gt; | endtime &lt;fct&gt; | icustay_id &lt;dbl&gt; | num &lt;dbl&gt; | pressor &lt;fct&gt; | starttime &lt;fct&gt; | vasonum &lt;dbl&gt; | ventnum &lt;dbl&gt; |\n",
       "|---|---|---|---|---|---|---|---|---|---|---|\n",
       "| 189130 | ventdurations | 0 | 91.00000 | 2199-08-07 13:00:00 | 200003 | NA | ventdurations | 2199-08-03 18:00:00 | NA | 1 |\n",
       "| 189131 | ventdurations | 1 | 14.83333 | 2159-09-04 03:50:00 | 200006 | NA | ventdurations | 2159-09-03 13:00:00 | NA | 1 |\n",
       "| 189132 | ventdurations | 2 | 15.83333 | 2189-12-01 10:00:00 | 200009 | NA | ventdurations | 2189-11-30 18:10:00 | NA | 1 |\n",
       "| 189133 | ventdurations | 3 |  3.00000 | 2188-08-06 04:00:00 | 200011 | NA | ventdurations | 2188-08-06 01:00:00 | NA | 1 |\n",
       "| 189134 | ventdurations | 4 | 18.75000 | 2105-02-17 18:00:00 | 200014 | NA | ventdurations | 2105-02-16 23:15:00 | NA | 1 |\n",
       "| 189135 | ventdurations | 5 | 83.00000 | 2138-03-21 09:00:00 | 200017 | NA | ventdurations | 2138-03-17 22:00:00 | NA | 1 |\n",
       "\n"
      ],
      "text/plain": [
       "  X      level_0       level_1 duration_hours endtime             icustay_id\n",
       "1 189130 ventdurations 0       91.00000       2199-08-07 13:00:00 200003    \n",
       "2 189131 ventdurations 1       14.83333       2159-09-04 03:50:00 200006    \n",
       "3 189132 ventdurations 2       15.83333       2189-12-01 10:00:00 200009    \n",
       "4 189133 ventdurations 3        3.00000       2188-08-06 04:00:00 200011    \n",
       "5 189134 ventdurations 4       18.75000       2105-02-17 18:00:00 200014    \n",
       "6 189135 ventdurations 5       83.00000       2138-03-21 09:00:00 200017    \n",
       "  num pressor       starttime           vasonum ventnum\n",
       "1 NA  ventdurations 2199-08-03 18:00:00 NA      1      \n",
       "2 NA  ventdurations 2159-09-03 13:00:00 NA      1      \n",
       "3 NA  ventdurations 2189-11-30 18:10:00 NA      1      \n",
       "4 NA  ventdurations 2188-08-06 01:00:00 NA      1      \n",
       "5 NA  ventdurations 2105-02-16 23:15:00 NA      1      \n",
       "6 NA  ventdurations 2138-03-17 22:00:00 NA      1      "
      ]
     },
     "metadata": {},
     "output_type": "display_data"
    }
   ],
   "source": [
    "pressors_df %>%\n",
    "    filter(pressor == \"ventdurations\") %>% head()"
   ]
  },
  {
   "cell_type": "code",
   "execution_count": 329,
   "metadata": {},
   "outputs": [
    {
     "data": {
      "text/html": [
       "<table>\n",
       "<caption>A tibble: 2 × 2</caption>\n",
       "<thead>\n",
       "\t<tr><th scope=col>SHORT</th><th scope=col>COUNT</th></tr>\n",
       "\t<tr><th scope=col>&lt;lgl&gt;</th><th scope=col>&lt;int&gt;</th></tr>\n",
       "</thead>\n",
       "<tbody>\n",
       "\t<tr><td>FALSE</td><td> 3407</td></tr>\n",
       "\t<tr><td> TRUE</td><td>19781</td></tr>\n",
       "</tbody>\n",
       "</table>\n"
      ],
      "text/latex": [
       "A tibble: 2 × 2\n",
       "\\begin{tabular}{r|ll}\n",
       " SHORT & COUNT\\\\\n",
       " <lgl> & <int>\\\\\n",
       "\\hline\n",
       "\t FALSE &  3407\\\\\n",
       "\t  TRUE & 19781\\\\\n",
       "\\end{tabular}\n"
      ],
      "text/markdown": [
       "\n",
       "A tibble: 2 × 2\n",
       "\n",
       "| SHORT &lt;lgl&gt; | COUNT &lt;int&gt; |\n",
       "|---|---|\n",
       "| FALSE |  3407 |\n",
       "|  TRUE | 19781 |\n",
       "\n"
      ],
      "text/plain": [
       "  SHORT COUNT\n",
       "1 FALSE  3407\n",
       "2  TRUE 19781"
      ]
     },
     "metadata": {},
     "output_type": "display_data"
    }
   ],
   "source": [
    "pressors_df %>%\n",
    "    filter(pressor == 'norepinephrinedurations')  %>%\n",
    "    mutate(SHORT = duration_hours < 24) %>%\n",
    "    group_by(SHORT) %>% \n",
    "    summarize(COUNT = n())"
   ]
  },
  {
   "cell_type": "markdown",
   "metadata": {},
   "source": [
    "### Available pressor (and other infusions) choices"
   ]
  },
  {
   "cell_type": "code",
   "execution_count": 227,
   "metadata": {},
   "outputs": [
    {
     "data": {
      "text/html": [
       "<ol class=list-inline>\n",
       "\t<li>adenosinedurations</li>\n",
       "\t<li>arterial_line_durations</li>\n",
       "\t<li>central_line_durations</li>\n",
       "\t<li>crrtdurations</li>\n",
       "\t<li>dobutaminedurations</li>\n",
       "\t<li>dopaminedurations</li>\n",
       "\t<li>epinephrinedurations</li>\n",
       "\t<li>isupreldurations</li>\n",
       "\t<li>milrinonedurations</li>\n",
       "\t<li>norepinephrinedurations</li>\n",
       "\t<li>phenylephrinedurations</li>\n",
       "\t<li>vasopressindurations</li>\n",
       "\t<li>vasopressordurations</li>\n",
       "\t<li>ventdurations</li>\n",
       "</ol>\n",
       "\n",
       "<details>\n",
       "\t<summary style=display:list-item;cursor:pointer>\n",
       "\t\t<strong>Levels</strong>:\n",
       "\t</summary>\n",
       "\t<ol class=list-inline>\n",
       "\t\t<li>'adenosinedurations'</li>\n",
       "\t\t<li>'arterial_line_durations'</li>\n",
       "\t\t<li>'central_line_durations'</li>\n",
       "\t\t<li>'crrtdurations'</li>\n",
       "\t\t<li>'dobutaminedurations'</li>\n",
       "\t\t<li>'dopaminedurations'</li>\n",
       "\t\t<li>'epinephrinedurations'</li>\n",
       "\t\t<li>'isupreldurations'</li>\n",
       "\t\t<li>'milrinonedurations'</li>\n",
       "\t\t<li>'norepinephrinedurations'</li>\n",
       "\t\t<li>'phenylephrinedurations'</li>\n",
       "\t\t<li>'vasopressindurations'</li>\n",
       "\t\t<li>'vasopressordurations'</li>\n",
       "\t\t<li>'ventdurations'</li>\n",
       "\t</ol>\n",
       "</details>"
      ],
      "text/latex": [
       "\\begin{enumerate*}\n",
       "\\item adenosinedurations\n",
       "\\item arterial\\_line\\_durations\n",
       "\\item central\\_line\\_durations\n",
       "\\item crrtdurations\n",
       "\\item dobutaminedurations\n",
       "\\item dopaminedurations\n",
       "\\item epinephrinedurations\n",
       "\\item isupreldurations\n",
       "\\item milrinonedurations\n",
       "\\item norepinephrinedurations\n",
       "\\item phenylephrinedurations\n",
       "\\item vasopressindurations\n",
       "\\item vasopressordurations\n",
       "\\item ventdurations\n",
       "\\end{enumerate*}\n",
       "\n",
       "\\emph{Levels}: \\begin{enumerate*}\n",
       "\\item 'adenosinedurations'\n",
       "\\item 'arterial\\_line\\_durations'\n",
       "\\item 'central\\_line\\_durations'\n",
       "\\item 'crrtdurations'\n",
       "\\item 'dobutaminedurations'\n",
       "\\item 'dopaminedurations'\n",
       "\\item 'epinephrinedurations'\n",
       "\\item 'isupreldurations'\n",
       "\\item 'milrinonedurations'\n",
       "\\item 'norepinephrinedurations'\n",
       "\\item 'phenylephrinedurations'\n",
       "\\item 'vasopressindurations'\n",
       "\\item 'vasopressordurations'\n",
       "\\item 'ventdurations'\n",
       "\\end{enumerate*}\n"
      ],
      "text/markdown": [
       "1. adenosinedurations\n",
       "2. arterial_line_durations\n",
       "3. central_line_durations\n",
       "4. crrtdurations\n",
       "5. dobutaminedurations\n",
       "6. dopaminedurations\n",
       "7. epinephrinedurations\n",
       "8. isupreldurations\n",
       "9. milrinonedurations\n",
       "10. norepinephrinedurations\n",
       "11. phenylephrinedurations\n",
       "12. vasopressindurations\n",
       "13. vasopressordurations\n",
       "14. ventdurations\n",
       "\n",
       "\n",
       "\n",
       "**Levels**: 1. 'adenosinedurations'\n",
       "2. 'arterial_line_durations'\n",
       "3. 'central_line_durations'\n",
       "4. 'crrtdurations'\n",
       "5. 'dobutaminedurations'\n",
       "6. 'dopaminedurations'\n",
       "7. 'epinephrinedurations'\n",
       "8. 'isupreldurations'\n",
       "9. 'milrinonedurations'\n",
       "10. 'norepinephrinedurations'\n",
       "11. 'phenylephrinedurations'\n",
       "12. 'vasopressindurations'\n",
       "13. 'vasopressordurations'\n",
       "14. 'ventdurations'\n",
       "\n",
       "\n"
      ],
      "text/plain": [
       " [1] adenosinedurations      arterial_line_durations central_line_durations \n",
       " [4] crrtdurations           dobutaminedurations     dopaminedurations      \n",
       " [7] epinephrinedurations    isupreldurations        milrinonedurations     \n",
       "[10] norepinephrinedurations phenylephrinedurations  vasopressindurations   \n",
       "[13] vasopressordurations    ventdurations          \n",
       "14 Levels: adenosinedurations ... ventdurations"
      ]
     },
     "metadata": {},
     "output_type": "display_data"
    }
   ],
   "source": [
    "unique(pressors_df$pressor)"
   ]
  },
  {
   "cell_type": "markdown",
   "metadata": {},
   "source": [
    "# Histograms of pressor durations for norepi"
   ]
  },
  {
   "cell_type": "code",
   "execution_count": 15,
   "metadata": {},
   "outputs": [
    {
     "name": "stderr",
     "output_type": "stream",
     "text": [
      "Don't know how to automatically pick scale for object of type difftime. Defaulting to continuous.\n",
      "`stat_bin()` using `bins = 30`. Pick better value with `binwidth`.\n",
      "Warning message:\n",
      "“Removed 496 rows containing non-finite values (stat_bin).”Warning message:\n",
      "“Removed 496 rows containing non-finite values (stat_density).”"
     ]
    },
    {
     "data": {
      "image/png": "[encoded data removed]",
      "text/plain": [
       "plot without title"
      ]
     },
     "metadata": {},
     "output_type": "display_data"
    }
   ],
   "source": [
    "options(repr.plot.width=3, repr.plot.height=3)\n",
    "pressors_df %>%\n",
    "    filter('norepinephrinedurations' == pressor) %>%\n",
    "    mutate(DIFF = \n",
    "              difftime(fastPOSIXct(endtime), \n",
    "               fastPOSIXct(starttime), units=\"hours\")) %>%\n",
    "    ggplot(aes(x=DIFF)) +\n",
    "        geom_histogram(aes(y=..density..), position=\"identity\", alpha=0.5)+\n",
    "        geom_density(alpha=0.6)+\n",
    "        scale_color_manual(values=c(\"#999999\", \"#E69F00\", \"#56B4E9\"))+\n",
    "        scale_fill_manual(values=c(\"#999999\", \"#E69F00\", \"#56B4E9\"))+\n",
    "        labs(title=\"Histogram\",x=\"Hours\", y = \"Density\")+\n",
    "        theme_classic()"
   ]
  },
  {
   "cell_type": "code",
   "execution_count": 16,
   "metadata": {},
   "outputs": [
    {
     "name": "stderr",
     "output_type": "stream",
     "text": [
      "Don't know how to automatically pick scale for object of type difftime. Defaulting to continuous.\n",
      "`stat_bin()` using `bins = 30`. Pick better value with `binwidth`.\n"
     ]
    },
    {
     "data": {
      "image/png": "[encoded data removed]",
      "text/plain": [
       "plot without title"
      ]
     },
     "metadata": {},
     "output_type": "display_data"
    }
   ],
   "source": [
    "options(repr.plot.width=3, repr.plot.height=3)\n",
    "pressors_df %>%\n",
    "    filter('norepinephrinedurations' == pressor) %>%\n",
    "    mutate(DIFF = \n",
    "              difftime(fastPOSIXct(endtime), \n",
    "               fastPOSIXct(starttime), units=\"hours\")) %>%\n",
    "    filter(DIFF < 48) %>%\n",
    "    ggplot(aes(x=DIFF)) +\n",
    "        geom_histogram(aes(y=..density..), position=\"identity\", alpha=0.5)+\n",
    "        geom_density(alpha=0.6)+\n",
    "        scale_color_manual(values=c(\"#999999\", \"#E69F00\", \"#56B4E9\"))+\n",
    "        scale_fill_manual(values=c(\"#999999\", \"#E69F00\", \"#56B4E9\"))+\n",
    "        labs(title=\"Histogram\",x=\"Hours\", y = \"Density\")+\n",
    "        theme_classic()"
   ]
  },
  {
   "cell_type": "markdown",
   "metadata": {},
   "source": [
    "### Join with icustay metadata"
   ]
  },
  {
   "cell_type": "code",
   "execution_count": 138,
   "metadata": {},
   "outputs": [],
   "source": [
    "lengthstay_df <- read.csv('~/Projects/Haimovich_Pressors/collection/out/length_stay.csv') %>%\n",
    "    rename(icustarttime = START, icuendtime = END)"
   ]
  },
  {
   "cell_type": "code",
   "execution_count": 139,
   "metadata": {},
   "outputs": [
    {
     "data": {
      "text/html": [
       "<table>\n",
       "<caption>A data.frame: 6 × 5</caption>\n",
       "<thead>\n",
       "\t<tr><th scope=col>X</th><th scope=col>icustay_id</th><th scope=col>icustarttime</th><th scope=col>icuendtime</th><th scope=col>DIFF</th></tr>\n",
       "\t<tr><th scope=col>&lt;int&gt;</th><th scope=col>&lt;int&gt;</th><th scope=col>&lt;fct&gt;</th><th scope=col>&lt;fct&gt;</th><th scope=col>&lt;dbl&gt;</th></tr>\n",
       "</thead>\n",
       "<tbody>\n",
       "\t<tr><td>1</td><td>200001</td><td>2181-11-25 19:06:00</td><td>2181-11-28 20:00:00</td><td> 72.90000</td></tr>\n",
       "\t<tr><td>2</td><td>200003</td><td>2199-08-02 19:15:00</td><td>2199-08-08 15:00:00</td><td>139.75000</td></tr>\n",
       "\t<tr><td>3</td><td>200006</td><td>2159-09-03 12:30:00</td><td>2159-09-04 17:00:00</td><td> 28.50000</td></tr>\n",
       "\t<tr><td>4</td><td>200007</td><td>2109-02-17 09:00:00</td><td>2109-02-18 09:15:00</td><td> 24.25000</td></tr>\n",
       "\t<tr><td>5</td><td>200009</td><td>2189-11-30 11:43:00</td><td>2189-12-02 13:00:00</td><td> 49.28333</td></tr>\n",
       "\t<tr><td>6</td><td>200010</td><td>2132-08-05 00:39:00</td><td>2132-08-05 21:17:00</td><td> 20.63333</td></tr>\n",
       "</tbody>\n",
       "</table>\n"
      ],
      "text/latex": [
       "A data.frame: 6 × 5\n",
       "\\begin{tabular}{r|lllll}\n",
       " X & icustay\\_id & icustarttime & icuendtime & DIFF\\\\\n",
       " <int> & <int> & <fct> & <fct> & <dbl>\\\\\n",
       "\\hline\n",
       "\t 1 & 200001 & 2181-11-25 19:06:00 & 2181-11-28 20:00:00 &  72.90000\\\\\n",
       "\t 2 & 200003 & 2199-08-02 19:15:00 & 2199-08-08 15:00:00 & 139.75000\\\\\n",
       "\t 3 & 200006 & 2159-09-03 12:30:00 & 2159-09-04 17:00:00 &  28.50000\\\\\n",
       "\t 4 & 200007 & 2109-02-17 09:00:00 & 2109-02-18 09:15:00 &  24.25000\\\\\n",
       "\t 5 & 200009 & 2189-11-30 11:43:00 & 2189-12-02 13:00:00 &  49.28333\\\\\n",
       "\t 6 & 200010 & 2132-08-05 00:39:00 & 2132-08-05 21:17:00 &  20.63333\\\\\n",
       "\\end{tabular}\n"
      ],
      "text/markdown": [
       "\n",
       "A data.frame: 6 × 5\n",
       "\n",
       "| X &lt;int&gt; | icustay_id &lt;int&gt; | icustarttime &lt;fct&gt; | icuendtime &lt;fct&gt; | DIFF &lt;dbl&gt; |\n",
       "|---|---|---|---|---|\n",
       "| 1 | 200001 | 2181-11-25 19:06:00 | 2181-11-28 20:00:00 |  72.90000 |\n",
       "| 2 | 200003 | 2199-08-02 19:15:00 | 2199-08-08 15:00:00 | 139.75000 |\n",
       "| 3 | 200006 | 2159-09-03 12:30:00 | 2159-09-04 17:00:00 |  28.50000 |\n",
       "| 4 | 200007 | 2109-02-17 09:00:00 | 2109-02-18 09:15:00 |  24.25000 |\n",
       "| 5 | 200009 | 2189-11-30 11:43:00 | 2189-12-02 13:00:00 |  49.28333 |\n",
       "| 6 | 200010 | 2132-08-05 00:39:00 | 2132-08-05 21:17:00 |  20.63333 |\n",
       "\n"
      ],
      "text/plain": [
       "  X icustay_id icustarttime        icuendtime          DIFF     \n",
       "1 1 200001     2181-11-25 19:06:00 2181-11-28 20:00:00  72.90000\n",
       "2 2 200003     2199-08-02 19:15:00 2199-08-08 15:00:00 139.75000\n",
       "3 3 200006     2159-09-03 12:30:00 2159-09-04 17:00:00  28.50000\n",
       "4 4 200007     2109-02-17 09:00:00 2109-02-18 09:15:00  24.25000\n",
       "5 5 200009     2189-11-30 11:43:00 2189-12-02 13:00:00  49.28333\n",
       "6 6 200010     2132-08-05 00:39:00 2132-08-05 21:17:00  20.63333"
      ]
     },
     "metadata": {},
     "output_type": "display_data"
    }
   ],
   "source": [
    "lengthstay_df %>% head()"
   ]
  },
  {
   "cell_type": "code",
   "execution_count": 140,
   "metadata": {},
   "outputs": [],
   "source": [
    "# filter by pressor and left join with lengthstay_df\n",
    "input_df <- pressors_df %>%\n",
    "    filter('norepinephrinedurations' == pressor) %>%\n",
    "    left_join(lengthstay_df, by = \"icustay_id\") %>%\n",
    "    mutate(starttime = fastPOSIXct(starttime), endtime = fastPOSIXct(endtime), \n",
    "           icustarttime = fastPOSIXct(icustarttime), icuendtime = fastPOSIXct(icuendtime))"
   ]
  },
  {
   "cell_type": "markdown",
   "metadata": {},
   "source": [
    "# Analyze Filters (7/31/19)"
   ]
  },
  {
   "cell_type": "markdown",
   "metadata": {},
   "source": [
    "#### Collapse pressor courses based on length of intervening time (<24 hrs)\n",
    "- Any two courses with less than intervening 24 hours will be collapsed into a single course within an icustay"
   ]
  },
  {
   "cell_type": "code",
   "execution_count": 141,
   "metadata": {},
   "outputs": [],
   "source": [
    "max_intervening_hrs <- 24\n",
    "\n",
    "# find the intervening time between courses (endtime of next course - endtime of course - duration of course)\n",
    "# then determine if that length of time is >24 or <24 and mark it with a 0 if true, else a 1\n",
    "# use a cumsum to create a new id separating courses that are separated by more than >24\n",
    "input_df <- input_df %>%\n",
    "    group_by(icustay_id) %>%\n",
    "    mutate(intervening_hours = difftime(endtime, lag(endtime), units=\"hours\") - duration_hours) %>%\n",
    "    rowwise() %>%\n",
    "    mutate(increasing = if(intervening_hours < max_intervening_hrs | is.na(intervening_hours)){0}else(1)) %>%\n",
    "    ungroup() %>%\n",
    "    group_by(icustay_id) %>%\n",
    "    mutate(continuous_course = cumsum(increasing)) %>% select(-intervening_hours, -increasing)"
   ]
  },
  {
   "cell_type": "code",
   "execution_count": 142,
   "metadata": {},
   "outputs": [],
   "source": [
    "# input_df %>%\n",
    "#     filter(icustay_id %in% c(299386, 299415, 200206)) %>%\n",
    "#     mutate(intervening_hours = difftime(endtime, lag(endtime), units=\"hours\") - duration_hours) %>%\n",
    "#     rowwise() %>%\n",
    "#     mutate(increasing = if(intervening_hours < max_intervening_hrs | is.na(intervening_hours)){0}else(1)) %>%\n",
    "#     ungroup() %>%\n",
    "#     group_by(icustay_id) %>%\n",
    "#     mutate(continuous_course = cumsum(increasing))"
   ]
  },
  {
   "cell_type": "markdown",
   "metadata": {},
   "source": [
    "- the combination of **continuous course** and **icustay_id** (e.g. 200024, 0 for first row) now defines each pressor course"
   ]
  },
  {
   "cell_type": "markdown",
   "metadata": {},
   "source": [
    "- assign boolean assessments after <24 hour intervals between pressors are removed\n",
    "    1. more or less than 24 hours of pressor duration?\n",
    "    2. is this the first pressor course?\n",
    "    3. are pressors administered <1 hr of the icustay?"
   ]
  },
  {
   "cell_type": "code",
   "execution_count": 143,
   "metadata": {},
   "outputs": [],
   "source": [
    "# 1. more or less than 24 hours?\n",
    "input_df <- input_df %>%\n",
    "    group_by(icustay_id, continuous_course) %>%\n",
    "    mutate(MORETHAN24HOURS = sum(duration_hours) > 24)"
   ]
  },
  {
   "cell_type": "code",
   "execution_count": 144,
   "metadata": {},
   "outputs": [],
   "source": [
    "# 2. first pressor course? (groupby icustay, filter min starttime == starttime)\n",
    "input_df <- input_df %>%\n",
    "    group_by(icustay_id, continuous_course) %>%\n",
    "    mutate(coursestarttime = min(starttime)) %>%\n",
    "    group_by(icustay_id) %>%\n",
    "    mutate(FIRSTCOURSE = min(coursestarttime) == coursestarttime)"
   ]
  },
  {
   "cell_type": "code",
   "execution_count": 145,
   "metadata": {},
   "outputs": [],
   "source": [
    "# 3. pressors within 1 hr of icustay_id? (groupby icustay, filter max starttime - unique icustarttime > 1)\n",
    "input_df <- input_df %>%\n",
    "    group_by(icustay_id, continuous_course) %>%\n",
    "    mutate(coursestarttime = min(starttime)) %>%\n",
    "    group_by(icustay_id) %>%\n",
    "    mutate(LESS1HOUR = difftime(min(coursestarttime), \n",
    "                         min(icustarttime)) < 1)"
   ]
  },
  {
   "cell_type": "code",
   "execution_count": 146,
   "metadata": {},
   "outputs": [
    {
     "data": {
      "text/html": [
       "<table>\n",
       "<caption>A grouped_df: 14 × 4</caption>\n",
       "<thead>\n",
       "\t<tr><th scope=col>LESS1HOUR</th><th scope=col>FIRSTCOURSE</th><th scope=col>MORETHAN24HOURS</th><th scope=col>COUNT</th></tr>\n",
       "\t<tr><th scope=col>&lt;lgl&gt;</th><th scope=col>&lt;lgl&gt;</th><th scope=col>&lt;lgl&gt;</th><th scope=col>&lt;int&gt;</th></tr>\n",
       "</thead>\n",
       "<tbody>\n",
       "\t<tr><td>FALSE</td><td>FALSE</td><td>FALSE</td><td>  876</td></tr>\n",
       "\t<tr><td>FALSE</td><td>FALSE</td><td> TRUE</td><td> 2077</td></tr>\n",
       "\t<tr><td>FALSE</td><td> TRUE</td><td>FALSE</td><td> 5357</td></tr>\n",
       "\t<tr><td>FALSE</td><td> TRUE</td><td> TRUE</td><td>12605</td></tr>\n",
       "\t<tr><td> TRUE</td><td>FALSE</td><td>FALSE</td><td>   35</td></tr>\n",
       "\t<tr><td> TRUE</td><td>FALSE</td><td> TRUE</td><td>   69</td></tr>\n",
       "\t<tr><td> TRUE</td><td> TRUE</td><td>FALSE</td><td>  356</td></tr>\n",
       "\t<tr><td> TRUE</td><td> TRUE</td><td> TRUE</td><td>  455</td></tr>\n",
       "\t<tr><td>   NA</td><td>FALSE</td><td>FALSE</td><td>   65</td></tr>\n",
       "\t<tr><td>   NA</td><td>FALSE</td><td> TRUE</td><td>  155</td></tr>\n",
       "\t<tr><td>   NA</td><td> TRUE</td><td>FALSE</td><td>   92</td></tr>\n",
       "\t<tr><td>   NA</td><td> TRUE</td><td> TRUE</td><td>  550</td></tr>\n",
       "\t<tr><td>   NA</td><td>   NA</td><td>FALSE</td><td>  113</td></tr>\n",
       "\t<tr><td>   NA</td><td>   NA</td><td> TRUE</td><td>  383</td></tr>\n",
       "</tbody>\n",
       "</table>\n"
      ],
      "text/latex": [
       "A grouped_df: 14 × 4\n",
       "\\begin{tabular}{r|llll}\n",
       " LESS1HOUR & FIRSTCOURSE & MORETHAN24HOURS & COUNT\\\\\n",
       " <lgl> & <lgl> & <lgl> & <int>\\\\\n",
       "\\hline\n",
       "\t FALSE & FALSE & FALSE &   876\\\\\n",
       "\t FALSE & FALSE &  TRUE &  2077\\\\\n",
       "\t FALSE &  TRUE & FALSE &  5357\\\\\n",
       "\t FALSE &  TRUE &  TRUE & 12605\\\\\n",
       "\t  TRUE & FALSE & FALSE &    35\\\\\n",
       "\t  TRUE & FALSE &  TRUE &    69\\\\\n",
       "\t  TRUE &  TRUE & FALSE &   356\\\\\n",
       "\t  TRUE &  TRUE &  TRUE &   455\\\\\n",
       "\t    NA & FALSE & FALSE &    65\\\\\n",
       "\t    NA & FALSE &  TRUE &   155\\\\\n",
       "\t    NA &  TRUE & FALSE &    92\\\\\n",
       "\t    NA &  TRUE &  TRUE &   550\\\\\n",
       "\t    NA &    NA & FALSE &   113\\\\\n",
       "\t    NA &    NA &  TRUE &   383\\\\\n",
       "\\end{tabular}\n"
      ],
      "text/markdown": [
       "\n",
       "A grouped_df: 14 × 4\n",
       "\n",
       "| LESS1HOUR &lt;lgl&gt; | FIRSTCOURSE &lt;lgl&gt; | MORETHAN24HOURS &lt;lgl&gt; | COUNT &lt;int&gt; |\n",
       "|---|---|---|---|\n",
       "| FALSE | FALSE | FALSE |   876 |\n",
       "| FALSE | FALSE |  TRUE |  2077 |\n",
       "| FALSE |  TRUE | FALSE |  5357 |\n",
       "| FALSE |  TRUE |  TRUE | 12605 |\n",
       "|  TRUE | FALSE | FALSE |    35 |\n",
       "|  TRUE | FALSE |  TRUE |    69 |\n",
       "|  TRUE |  TRUE | FALSE |   356 |\n",
       "|  TRUE |  TRUE |  TRUE |   455 |\n",
       "|    NA | FALSE | FALSE |    65 |\n",
       "|    NA | FALSE |  TRUE |   155 |\n",
       "|    NA |  TRUE | FALSE |    92 |\n",
       "|    NA |  TRUE |  TRUE |   550 |\n",
       "|    NA |    NA | FALSE |   113 |\n",
       "|    NA |    NA |  TRUE |   383 |\n",
       "\n"
      ],
      "text/plain": [
       "   LESS1HOUR FIRSTCOURSE MORETHAN24HOURS COUNT\n",
       "1  FALSE     FALSE       FALSE             876\n",
       "2  FALSE     FALSE        TRUE            2077\n",
       "3  FALSE      TRUE       FALSE            5357\n",
       "4  FALSE      TRUE        TRUE           12605\n",
       "5   TRUE     FALSE       FALSE              35\n",
       "6   TRUE     FALSE        TRUE              69\n",
       "7   TRUE      TRUE       FALSE             356\n",
       "8   TRUE      TRUE        TRUE             455\n",
       "9     NA     FALSE       FALSE              65\n",
       "10    NA     FALSE        TRUE             155\n",
       "11    NA      TRUE       FALSE              92\n",
       "12    NA      TRUE        TRUE             550\n",
       "13    NA        NA       FALSE             113\n",
       "14    NA        NA        TRUE             383"
      ]
     },
     "metadata": {},
     "output_type": "display_data"
    }
   ],
   "source": [
    "# grouped by icustay_id + continuous_course + separate_course\n",
    "input_df %>%\n",
    "    group_by(LESS1HOUR, FIRSTCOURSE, MORETHAN24HOURS) %>%\n",
    "    summarize(COUNT = n())"
   ]
  },
  {
   "cell_type": "code",
   "execution_count": 459,
   "metadata": {},
   "outputs": [
    {
     "data": {
      "text/html": [
       "<table>\n",
       "<caption>A grouped_df: 14 × 4</caption>\n",
       "<thead>\n",
       "\t<tr><th scope=col>LESS1HOUR</th><th scope=col>FIRSTCOURSE</th><th scope=col>MORETHAN24HOURS</th><th scope=col>COUNT</th></tr>\n",
       "\t<tr><th scope=col>&lt;lgl&gt;</th><th scope=col>&lt;lgl&gt;</th><th scope=col>&lt;lgl&gt;</th><th scope=col>&lt;int&gt;</th></tr>\n",
       "</thead>\n",
       "<tbody>\n",
       "\t<tr><td>FALSE</td><td>FALSE</td><td>FALSE</td><td> 583</td></tr>\n",
       "\t<tr><td>FALSE</td><td>FALSE</td><td> TRUE</td><td> 489</td></tr>\n",
       "\t<tr><td>FALSE</td><td> TRUE</td><td>FALSE</td><td>3700</td></tr>\n",
       "\t<tr><td>FALSE</td><td> TRUE</td><td> TRUE</td><td>2918</td></tr>\n",
       "\t<tr><td> TRUE</td><td>FALSE</td><td>FALSE</td><td>  22</td></tr>\n",
       "\t<tr><td> TRUE</td><td>FALSE</td><td> TRUE</td><td>  12</td></tr>\n",
       "\t<tr><td> TRUE</td><td> TRUE</td><td>FALSE</td><td> 268</td></tr>\n",
       "\t<tr><td> TRUE</td><td> TRUE</td><td> TRUE</td><td> 135</td></tr>\n",
       "\t<tr><td>   NA</td><td>FALSE</td><td>FALSE</td><td>  44</td></tr>\n",
       "\t<tr><td>   NA</td><td>FALSE</td><td> TRUE</td><td>  45</td></tr>\n",
       "\t<tr><td>   NA</td><td> TRUE</td><td>FALSE</td><td>  69</td></tr>\n",
       "\t<tr><td>   NA</td><td> TRUE</td><td> TRUE</td><td>  95</td></tr>\n",
       "\t<tr><td>   NA</td><td>   NA</td><td>FALSE</td><td>  79</td></tr>\n",
       "\t<tr><td>   NA</td><td>   NA</td><td> TRUE</td><td>  67</td></tr>\n",
       "</tbody>\n",
       "</table>\n"
      ],
      "text/latex": [
       "A grouped_df: 14 × 4\n",
       "\\begin{tabular}{r|llll}\n",
       " LESS1HOUR & FIRSTCOURSE & MORETHAN24HOURS & COUNT\\\\\n",
       " <lgl> & <lgl> & <lgl> & <int>\\\\\n",
       "\\hline\n",
       "\t FALSE & FALSE & FALSE &  583\\\\\n",
       "\t FALSE & FALSE &  TRUE &  489\\\\\n",
       "\t FALSE &  TRUE & FALSE & 3700\\\\\n",
       "\t FALSE &  TRUE &  TRUE & 2918\\\\\n",
       "\t  TRUE & FALSE & FALSE &   22\\\\\n",
       "\t  TRUE & FALSE &  TRUE &   12\\\\\n",
       "\t  TRUE &  TRUE & FALSE &  268\\\\\n",
       "\t  TRUE &  TRUE &  TRUE &  135\\\\\n",
       "\t    NA & FALSE & FALSE &   44\\\\\n",
       "\t    NA & FALSE &  TRUE &   45\\\\\n",
       "\t    NA &  TRUE & FALSE &   69\\\\\n",
       "\t    NA &  TRUE &  TRUE &   95\\\\\n",
       "\t    NA &    NA & FALSE &   79\\\\\n",
       "\t    NA &    NA &  TRUE &   67\\\\\n",
       "\\end{tabular}\n"
      ],
      "text/markdown": [
       "\n",
       "A grouped_df: 14 × 4\n",
       "\n",
       "| LESS1HOUR &lt;lgl&gt; | FIRSTCOURSE &lt;lgl&gt; | MORETHAN24HOURS &lt;lgl&gt; | COUNT &lt;int&gt; |\n",
       "|---|---|---|---|\n",
       "| FALSE | FALSE | FALSE |  583 |\n",
       "| FALSE | FALSE |  TRUE |  489 |\n",
       "| FALSE |  TRUE | FALSE | 3700 |\n",
       "| FALSE |  TRUE |  TRUE | 2918 |\n",
       "|  TRUE | FALSE | FALSE |   22 |\n",
       "|  TRUE | FALSE |  TRUE |   12 |\n",
       "|  TRUE |  TRUE | FALSE |  268 |\n",
       "|  TRUE |  TRUE |  TRUE |  135 |\n",
       "|    NA | FALSE | FALSE |   44 |\n",
       "|    NA | FALSE |  TRUE |   45 |\n",
       "|    NA |  TRUE | FALSE |   69 |\n",
       "|    NA |  TRUE |  TRUE |   95 |\n",
       "|    NA |    NA | FALSE |   79 |\n",
       "|    NA |    NA |  TRUE |   67 |\n",
       "\n"
      ],
      "text/plain": [
       "   LESS1HOUR FIRSTCOURSE MORETHAN24HOURS COUNT\n",
       "1  FALSE     FALSE       FALSE            583 \n",
       "2  FALSE     FALSE        TRUE            489 \n",
       "3  FALSE      TRUE       FALSE           3700 \n",
       "4  FALSE      TRUE        TRUE           2918 \n",
       "5   TRUE     FALSE       FALSE             22 \n",
       "6   TRUE     FALSE        TRUE             12 \n",
       "7   TRUE      TRUE       FALSE            268 \n",
       "8   TRUE      TRUE        TRUE            135 \n",
       "9     NA     FALSE       FALSE             44 \n",
       "10    NA     FALSE        TRUE             45 \n",
       "11    NA      TRUE       FALSE             69 \n",
       "12    NA      TRUE        TRUE             95 \n",
       "13    NA        NA       FALSE             79 \n",
       "14    NA        NA        TRUE             67 "
      ]
     },
     "metadata": {},
     "output_type": "display_data"
    }
   ],
   "source": [
    "# With filters grouped by icustay_id + continuous_course\n",
    "input_df %>%\n",
    "    mutate(course_id = paste(icustay_id, continuous_course, sep = \",\")) %>%\n",
    "    group_by(LESS1HOUR, FIRSTCOURSE, MORETHAN24HOURS) %>%\n",
    "    summarize(COUNT = length(unique(course_id)))"
   ]
  },
  {
   "cell_type": "code",
   "execution_count": 285,
   "metadata": {},
   "outputs": [
    {
     "name": "stderr",
     "output_type": "stream",
     "text": [
      "`stat_bin()` using `bins = 30`. Pick better value with `binwidth`.\n",
      "Warning message:\n",
      "“Removed 2 rows containing missing values (geom_bar).”"
     ]
    },
    {
     "data": {
      "image/png": "[encoded data removed]",
      "text/plain": [
       "plot without title"
      ]
     },
     "metadata": {},
     "output_type": "display_data"
    }
   ],
   "source": [
    "options(repr.plot.width=3, repr.plot.height=3)\n",
    "input_df %>%\n",
    "    ggplot(aes(x=duration_hours)) +\n",
    "        geom_histogram(aes(y=..density..), position=\"identity\", alpha=0.5)+\n",
    "        geom_density(alpha=0.6)+\n",
    "        scale_color_manual(values=c(\"#999999\", \"#E69F00\", \"#56B4E9\"))+\n",
    "        scale_fill_manual(values=c(\"#999999\", \"#E69F00\", \"#56B4E9\"))+\n",
    "        labs(title=\"Histogram\",x=\"Hours\", y = \"Density\")+\n",
    "        theme_classic() + xlim(0, 900)"
   ]
  },
  {
   "cell_type": "code",
   "execution_count": 286,
   "metadata": {},
   "outputs": [
    {
     "name": "stderr",
     "output_type": "stream",
     "text": [
      "`stat_bin()` using `bins = 30`. Pick better value with `binwidth`.\n",
      "Warning message:\n",
      "“Removed 1 rows containing non-finite values (stat_bin).”Warning message:\n",
      "“Removed 1 rows containing non-finite values (stat_density).”Warning message:\n",
      "“Removed 2 rows containing missing values (geom_bar).”"
     ]
    },
    {
     "data": {
      "image/png": "[encoded data removed]",
      "text/plain": [
       "plot without title"
      ]
     },
     "metadata": {},
     "output_type": "display_data"
    }
   ],
   "source": [
    "options(repr.plot.width=3, repr.plot.height=3)\n",
    "input_df %>%\n",
    "    group_by(icustay_id, continuous_course) %>%\n",
    "    summarize(duration_hours = sum(duration_hours)) %>%\n",
    "    ggplot(aes(x=duration_hours)) +\n",
    "        geom_histogram(aes(y=..density..), position=\"identity\", alpha=0.5)+\n",
    "        geom_density(alpha=0.6)+\n",
    "        scale_color_manual(values=c(\"#999999\", \"#E69F00\", \"#56B4E9\"))+\n",
    "        scale_fill_manual(values=c(\"#999999\", \"#E69F00\", \"#56B4E9\"))+\n",
    "        labs(title=\"Histogram\",x=\"Hours\", y = \"Density\")+\n",
    "        theme_classic() + xlim(0, 900)"
   ]
  },
  {
   "cell_type": "code",
   "execution_count": 132,
   "metadata": {},
   "outputs": [],
   "source": [
    "#write.csv(input_df, '~/Projects/Haimovich_Pressors/collection/out/pressors_filtered.csv')"
   ]
  },
  {
   "cell_type": "markdown",
   "metadata": {},
   "source": [
    "### Mortality filter\n",
    "- Remove patients who stopped using pressors because death (merge with pressors_df by icustay_id, filter if pressor course end time == or is close to deathtime)"
   ]
  },
  {
   "cell_type": "code",
   "execution_count": 147,
   "metadata": {},
   "outputs": [],
   "source": [
    "icustays_df <- read.csv('~/Projects/Haimovich_Pressors/collection/out/icustays.csv')"
   ]
  },
  {
   "cell_type": "code",
   "execution_count": 148,
   "metadata": {},
   "outputs": [],
   "source": [
    "admissions_df <- read.csv('~/Projects/Haimovich_Pressors/collection/out/admissions.csv')"
   ]
  },
  {
   "cell_type": "code",
   "execution_count": 149,
   "metadata": {},
   "outputs": [],
   "source": [
    "patients_df <- read.csv('~/Projects/Haimovich_Pressors/collection/out/patients.csv')"
   ]
  },
  {
   "cell_type": "code",
   "execution_count": 332,
   "metadata": {},
   "outputs": [],
   "source": [
    "intub_df <- pressors_df %>%\n",
    "    filter(pressor == \"ventdurations\") \n",
    "\n",
    "cvc_df <- pressors_df %>%\n",
    "    filter(pressor == \"central_line_durations\") "
   ]
  },
  {
   "cell_type": "code",
   "execution_count": 333,
   "metadata": {},
   "outputs": [],
   "source": [
    "nonvitals_predictor_df <- icustays_df %>%\n",
    "    select(hadm_id, icustay_id, first_careunit, last_careunit) %>%\n",
    "    left_join(admissions_df, by = 'hadm_id') %>%\n",
    "    left_join(patients_df, by = 'subject_id') %>%\n",
    "    mutate(intub = icustay_id %in% intub_df$icustay_id, cvc = icustay_id %in% cvc_df$icustay_id) %>%\n",
    "    mutate(deathtime = fastPOSIXct(deathtime), admittime = fastPOSIXct(admittime), dob = fastPOSIXct(dob)) %>%\n",
    "    mutate(age = difftime(admittime, dob, units=\"weeks\")/52.25, age_cohort = as.numeric(round(age, digits = -1)))"
   ]
  },
  {
   "cell_type": "code",
   "execution_count": 152,
   "metadata": {},
   "outputs": [
    {
     "data": {
      "text/html": [
       "<table>\n",
       "<caption>A grouped_df: 10 × 3</caption>\n",
       "<thead>\n",
       "\t<tr><th scope=col>diagnosis</th><th scope=col>first_careunit</th><th scope=col>COUNT</th></tr>\n",
       "\t<tr><th scope=col>&lt;fct&gt;</th><th scope=col>&lt;fct&gt;</th><th scope=col>&lt;int&gt;</th></tr>\n",
       "</thead>\n",
       "<tbody>\n",
       "\t<tr><td>NEWBORN                                                   </td><td>NICU</td><td>8455</td></tr>\n",
       "\t<tr><td>PNEUMONIA                                                 </td><td>MICU</td><td>2449</td></tr>\n",
       "\t<tr><td>SEPSIS                                                    </td><td>MICU</td><td>1729</td></tr>\n",
       "\t<tr><td>CORONARY ARTERY DISEASE                                   </td><td>CSRU</td><td>1406</td></tr>\n",
       "\t<tr><td>CONGESTIVE HEART FAILURE                                  </td><td>CCU </td><td> 863</td></tr>\n",
       "\t<tr><td>GASTROINTESTINAL BLEED                                    </td><td>MICU</td><td> 817</td></tr>\n",
       "\t<tr><td>ALTERED MENTAL STATUS                                     </td><td>MICU</td><td> 810</td></tr>\n",
       "\t<tr><td>CORONARY ARTERY DISEASE\\CORONARY ARTERY BYPASS GRAFT /SDA</td><td>CSRU</td><td> 768</td></tr>\n",
       "\t<tr><td>INTRACRANIAL HEMORRHAGE                                   </td><td>SICU</td><td> 688</td></tr>\n",
       "\t<tr><td>FEVER                                                     </td><td>MICU</td><td> 673</td></tr>\n",
       "</tbody>\n",
       "</table>\n"
      ],
      "text/latex": [
       "A grouped_df: 10 × 3\n",
       "\\begin{tabular}{r|lll}\n",
       " diagnosis & first\\_careunit & COUNT\\\\\n",
       " <fct> & <fct> & <int>\\\\\n",
       "\\hline\n",
       "\t NEWBORN                                                    & NICU & 8455\\\\\n",
       "\t PNEUMONIA                                                  & MICU & 2449\\\\\n",
       "\t SEPSIS                                                     & MICU & 1729\\\\\n",
       "\t CORONARY ARTERY DISEASE                                    & CSRU & 1406\\\\\n",
       "\t CONGESTIVE HEART FAILURE                                   & CCU  &  863\\\\\n",
       "\t GASTROINTESTINAL BLEED                                     & MICU &  817\\\\\n",
       "\t ALTERED MENTAL STATUS                                      & MICU &  810\\\\\n",
       "\t CORONARY ARTERY DISEASE\\textbackslash{}CORONARY ARTERY BYPASS GRAFT /SDA & CSRU &  768\\\\\n",
       "\t INTRACRANIAL HEMORRHAGE                                    & SICU &  688\\\\\n",
       "\t FEVER                                                      & MICU &  673\\\\\n",
       "\\end{tabular}\n"
      ],
      "text/markdown": [
       "\n",
       "A grouped_df: 10 × 3\n",
       "\n",
       "| diagnosis &lt;fct&gt; | first_careunit &lt;fct&gt; | COUNT &lt;int&gt; |\n",
       "|---|---|---|\n",
       "| NEWBORN                                                    | NICU | 8455 |\n",
       "| PNEUMONIA                                                  | MICU | 2449 |\n",
       "| SEPSIS                                                     | MICU | 1729 |\n",
       "| CORONARY ARTERY DISEASE                                    | CSRU | 1406 |\n",
       "| CONGESTIVE HEART FAILURE                                   | CCU  |  863 |\n",
       "| GASTROINTESTINAL BLEED                                     | MICU |  817 |\n",
       "| ALTERED MENTAL STATUS                                      | MICU |  810 |\n",
       "| CORONARY ARTERY DISEASE\\CORONARY ARTERY BYPASS GRAFT /SDA | CSRU |  768 |\n",
       "| INTRACRANIAL HEMORRHAGE                                    | SICU |  688 |\n",
       "| FEVER                                                      | MICU |  673 |\n",
       "\n"
      ],
      "text/plain": [
       "   diagnosis                                                  first_careunit\n",
       "1  NEWBORN                                                    NICU          \n",
       "2  PNEUMONIA                                                  MICU          \n",
       "3  SEPSIS                                                     MICU          \n",
       "4  CORONARY ARTERY DISEASE                                    CSRU          \n",
       "5  CONGESTIVE HEART FAILURE                                   CCU           \n",
       "6  GASTROINTESTINAL BLEED                                     MICU          \n",
       "7  ALTERED MENTAL STATUS                                      MICU          \n",
       "8  CORONARY ARTERY DISEASE\\\\CORONARY ARTERY BYPASS GRAFT /SDA CSRU          \n",
       "9  INTRACRANIAL HEMORRHAGE                                    SICU          \n",
       "10 FEVER                                                      MICU          \n",
       "   COUNT\n",
       "1  8455 \n",
       "2  2449 \n",
       "3  1729 \n",
       "4  1406 \n",
       "5   863 \n",
       "6   817 \n",
       "7   810 \n",
       "8   768 \n",
       "9   688 \n",
       "10  673 "
      ]
     },
     "metadata": {},
     "output_type": "display_data"
    }
   ],
   "source": [
    "# info about what each service covers which diagnoses\n",
    "nonvitals_predictor_df %>% \n",
    "    group_by(diagnosis, first_careunit) %>% \n",
    "    summarize(COUNT = n()) %>% \n",
    "    arrange(-COUNT) %>% head(10)"
   ]
  },
  {
   "cell_type": "code",
   "execution_count": 18,
   "metadata": {},
   "outputs": [
    {
     "data": {
      "text/html": [
       "<table>\n",
       "<caption>A tibble: 3 × 2</caption>\n",
       "<thead>\n",
       "\t<tr><th scope=col>MORTALITYERROR</th><th scope=col>COUNT</th></tr>\n",
       "\t<tr><th scope=col>&lt;lgl&gt;</th><th scope=col>&lt;int&gt;</th></tr>\n",
       "</thead>\n",
       "<tbody>\n",
       "\t<tr><td>FALSE</td><td> 5330</td></tr>\n",
       "\t<tr><td> TRUE</td><td> 1132</td></tr>\n",
       "\t<tr><td>   NA</td><td>55070</td></tr>\n",
       "</tbody>\n",
       "</table>\n"
      ],
      "text/latex": [
       "A tibble: 3 × 2\n",
       "\\begin{tabular}{r|ll}\n",
       " MORTALITYERROR & COUNT\\\\\n",
       " <lgl> & <int>\\\\\n",
       "\\hline\n",
       "\t FALSE &  5330\\\\\n",
       "\t  TRUE &  1132\\\\\n",
       "\t    NA & 55070\\\\\n",
       "\\end{tabular}\n"
      ],
      "text/markdown": [
       "\n",
       "A tibble: 3 × 2\n",
       "\n",
       "| MORTALITYERROR &lt;lgl&gt; | COUNT &lt;int&gt; |\n",
       "|---|---|\n",
       "| FALSE |  5330 |\n",
       "|  TRUE |  1132 |\n",
       "|    NA | 55070 |\n",
       "\n"
      ],
      "text/plain": [
       "  MORTALITYERROR COUNT\n",
       "1 FALSE           5330\n",
       "2  TRUE           1132\n",
       "3    NA          55070"
      ]
     },
     "metadata": {},
     "output_type": "display_data"
    }
   ],
   "source": [
    "#NA means the stay did not end in death\n",
    "#ICUSTAYS where patient was discharged after death? (TRUE)\n",
    "nonvitals_predictor_df  %>%\n",
    "    mutate(MORTALITYERROR = difftime(deathtime, dischtime, units = \"mins\") < 0) %>%\n",
    "    group_by(MORTALITYERROR) %>%\n",
    "    summarize(COUNT = n())"
   ]
  },
  {
   "cell_type": "code",
   "execution_count": 19,
   "metadata": {},
   "outputs": [
    {
     "data": {
      "text/html": [
       "<table>\n",
       "<caption>A tibble: 3 × 2</caption>\n",
       "<thead>\n",
       "\t<tr><th scope=col>MORTALITYERROR</th><th scope=col>COUNT</th></tr>\n",
       "\t<tr><th scope=col>&lt;lgl&gt;</th><th scope=col>&lt;int&gt;</th></tr>\n",
       "</thead>\n",
       "<tbody>\n",
       "\t<tr><td>FALSE</td><td> 6384</td></tr>\n",
       "\t<tr><td> TRUE</td><td>   78</td></tr>\n",
       "\t<tr><td>   NA</td><td>55070</td></tr>\n",
       "</tbody>\n",
       "</table>\n"
      ],
      "text/latex": [
       "A tibble: 3 × 2\n",
       "\\begin{tabular}{r|ll}\n",
       " MORTALITYERROR & COUNT\\\\\n",
       " <lgl> & <int>\\\\\n",
       "\\hline\n",
       "\t FALSE &  6384\\\\\n",
       "\t  TRUE &    78\\\\\n",
       "\t    NA & 55070\\\\\n",
       "\\end{tabular}\n"
      ],
      "text/markdown": [
       "\n",
       "A tibble: 3 × 2\n",
       "\n",
       "| MORTALITYERROR &lt;lgl&gt; | COUNT &lt;int&gt; |\n",
       "|---|---|\n",
       "| FALSE |  6384 |\n",
       "|  TRUE |    78 |\n",
       "|    NA | 55070 |\n",
       "\n"
      ],
      "text/plain": [
       "  MORTALITYERROR COUNT\n",
       "1 FALSE           6384\n",
       "2  TRUE             78\n",
       "3    NA          55070"
      ]
     },
     "metadata": {},
     "output_type": "display_data"
    }
   ],
   "source": [
    "#NA means the stay did not end in death\n",
    "#ICUSTAYS where patient was admitted after death? (TRUE)\n",
    "nonvitals_predictor_df  %>%\n",
    "    mutate(MORTALITYERROR = difftime(deathtime, admittime, units = \"mins\") < 0) %>%\n",
    "    group_by(MORTALITYERROR) %>%\n",
    "    summarize(COUNT = n())"
   ]
  },
  {
   "cell_type": "code",
   "execution_count": 20,
   "metadata": {},
   "outputs": [
    {
     "data": {
      "text/html": [
       "<table>\n",
       "<caption>A data.frame: 5 × 33</caption>\n",
       "<thead>\n",
       "\t<tr><th scope=col>hadm_id</th><th scope=col>icustay_id</th><th scope=col>first_careunit</th><th scope=col>last_careunit</th><th scope=col>X.x</th><th scope=col>row_id.x</th><th scope=col>subject_id</th><th scope=col>admittime</th><th scope=col>dischtime</th><th scope=col>deathtime</th><th scope=col>⋯</th><th scope=col>X.y</th><th scope=col>row_id.y</th><th scope=col>gender</th><th scope=col>dob</th><th scope=col>dod</th><th scope=col>dod_hosp</th><th scope=col>dod_ssn</th><th scope=col>expire_flag</th><th scope=col>age</th><th scope=col>age_cohort</th></tr>\n",
       "\t<tr><th scope=col>&lt;int&gt;</th><th scope=col>&lt;int&gt;</th><th scope=col>&lt;fct&gt;</th><th scope=col>&lt;fct&gt;</th><th scope=col>&lt;int&gt;</th><th scope=col>&lt;int&gt;</th><th scope=col>&lt;int&gt;</th><th scope=col>&lt;dttm&gt;</th><th scope=col>&lt;fct&gt;</th><th scope=col>&lt;dttm&gt;</th><th scope=col>⋯</th><th scope=col>&lt;int&gt;</th><th scope=col>&lt;int&gt;</th><th scope=col>&lt;fct&gt;</th><th scope=col>&lt;dttm&gt;</th><th scope=col>&lt;fct&gt;</th><th scope=col>&lt;fct&gt;</th><th scope=col>&lt;fct&gt;</th><th scope=col>&lt;int&gt;</th><th scope=col>&lt;drtn&gt;</th><th scope=col>&lt;dbl&gt;</th></tr>\n",
       "</thead>\n",
       "<tbody>\n",
       "\t<tr><td>102631</td><td>246694</td><td>CSRU</td><td>CSRU</td><td> 456</td><td> 237</td><td> 181</td><td>2153-10-12 05:49:00</td><td>2153-10-12 06:29:00</td><td>2153-10-12 02:29:00</td><td>⋯</td><td> 392</td><td> 171</td><td>M</td><td>2088-07-23 20:00:00</td><td>2153-10-12</td><td>2153-10-12</td><td>2153-10-12</td><td>1</td><td>65.12757082 weeks</td><td>70</td></tr>\n",
       "\t<tr><td>138015</td><td>298263</td><td>NICU</td><td>NICU</td><td>1911</td><td>1640</td><td>1334</td><td>2137-09-02 10:43:00</td><td>2137-09-02 12:00:00</td><td>2137-09-02 08:00:00</td><td>⋯</td><td> 885</td><td>1268</td><td>M</td><td>2137-09-01 20:00:00</td><td>2137-09-02</td><td>2137-09-02</td><td>          </td><td>1</td><td> 0.00167654 weeks</td><td> 0</td></tr>\n",
       "\t<tr><td>181430</td><td>291798</td><td>SICU</td><td>SICU</td><td>1970</td><td>1699</td><td>1381</td><td>2189-01-02 09:25:00</td><td>2189-01-02 12:00:00</td><td>2189-01-02 07:00:00</td><td>⋯</td><td> 930</td><td>1313</td><td>F</td><td>2107-07-14 20:00:00</td><td>2189-01-02</td><td>2189-01-02</td><td>2189-01-02</td><td>1</td><td>81.36049404 weeks</td><td>80</td></tr>\n",
       "\t<tr><td>187482</td><td>213831</td><td>MICU</td><td>MICU</td><td> 693</td><td> 644</td><td> 516</td><td>2197-07-31 16:18:00</td><td>2197-07-31 01:10:00</td><td>2197-07-30 21:10:00</td><td>⋯</td><td> 686</td><td> 487</td><td>F</td><td>2126-08-06 20:00:00</td><td>2197-07-31</td><td>2197-07-31</td><td>2197-07-31</td><td>1</td><td>70.88679654 weeks</td><td>70</td></tr>\n",
       "\t<tr><td>190088</td><td>293048</td><td>CCU </td><td>CCU </td><td>3624</td><td>3447</td><td>2858</td><td>2108-09-25 11:29:00</td><td>2108-09-25 12:00:00</td><td>2108-09-25 08:00:00</td><td>⋯</td><td>3354</td><td>2703</td><td>F</td><td>2026-03-12 20:00:00</td><td>2108-09-25</td><td>2108-09-25</td><td>2108-09-25</td><td>1</td><td>82.42418356 weeks</td><td>80</td></tr>\n",
       "</tbody>\n",
       "</table>\n"
      ],
      "text/latex": [
       "A data.frame: 5 × 33\n",
       "\\begin{tabular}{r|lllllllllllllllllllllllllllllllll}\n",
       " hadm\\_id & icustay\\_id & first\\_careunit & last\\_careunit & X.x & row\\_id.x & subject\\_id & admittime & dischtime & deathtime & admission\\_type & admission\\_location & discharge\\_location & insurance & language & religion & marital\\_status & ethnicity & edregtime & edouttime & diagnosis & hospital\\_expire\\_flag & has\\_chartevents\\_data & X.y & row\\_id.y & gender & dob & dod & dod\\_hosp & dod\\_ssn & expire\\_flag & age & age\\_cohort\\\\\n",
       " <int> & <int> & <fct> & <fct> & <int> & <int> & <int> & <dttm> & <fct> & <dttm> & <fct> & <fct> & <fct> & <fct> & <fct> & <fct> & <fct> & <fct> & <fct> & <fct> & <fct> & <int> & <int> & <int> & <int> & <fct> & <dttm> & <fct> & <fct> & <fct> & <int> & <drtn> & <dbl>\\\\\n",
       "\\hline\n",
       "\t 102631 & 246694 & CSRU & CSRU &  456 &  237 &  181 & 2153-10-12 05:49:00 & 2153-10-12 06:29:00 & 2153-10-12 02:29:00 & EMERGENCY & EMERGENCY ROOM ADMIT      & DEAD/EXPIRED & Private  &  & PROTESTANT QUAKER & MARRIED & WHITE                 & 2153-10-12 06:23:00 & 2153-10-12 07:45:00 & DISSECTING ANEURYSIM        & 1 & 1 &  392 &  171 & M & 2088-07-23 20:00:00 & 2153-10-12 & 2153-10-12 & 2153-10-12 & 1 & 65.12757082 weeks & 70\\\\\n",
       "\t 138015 & 298263 & NICU & NICU & 1911 & 1640 & 1334 & 2137-09-02 10:43:00 & 2137-09-02 12:00:00 & 2137-09-02 08:00:00 & NEWBORN   & CLINIC REFERRAL/PREMATURE & DEAD/EXPIRED & Private  &  & PROTESTANT QUAKER &         & WHITE                 &                     &                     & NEWBORN                     & 1 & 1 &  885 & 1268 & M & 2137-09-01 20:00:00 & 2137-09-02 & 2137-09-02 &            & 1 &  0.00167654 weeks &  0\\\\\n",
       "\t 181430 & 291798 & SICU & SICU & 1970 & 1699 & 1381 & 2189-01-02 09:25:00 & 2189-01-02 12:00:00 & 2189-01-02 07:00:00 & EMERGENCY & EMERGENCY ROOM ADMIT      & DEAD/EXPIRED & Medicare &  & UNOBTAINABLE      & MARRIED & WHITE                 & 2189-01-02 10:31:00 & 2189-01-02 15:56:00 & STROKE;TELEMETRY            & 1 & 1 &  930 & 1313 & F & 2107-07-14 20:00:00 & 2189-01-02 & 2189-01-02 & 2189-01-02 & 1 & 81.36049404 weeks & 80\\\\\n",
       "\t 187482 & 213831 & MICU & MICU &  693 &  644 &  516 & 2197-07-31 16:18:00 & 2197-07-31 01:10:00 & 2197-07-30 21:10:00 & EMERGENCY & EMERGENCY ROOM ADMIT      & DEAD/EXPIRED & Medicare &  & JEWISH            & WIDOWED & UNKNOWN/NOT SPECIFIED & 2197-07-31 11:31:00 & 2197-07-31 14:35:00 & RESPIRATORY DISTRESS        & 1 & 0 &  686 &  487 & F & 2126-08-06 20:00:00 & 2197-07-31 & 2197-07-31 & 2197-07-31 & 1 & 70.88679654 weeks & 70\\\\\n",
       "\t 190088 & 293048 & CCU  & CCU  & 3624 & 3447 & 2858 & 2108-09-25 11:29:00 & 2108-09-25 12:00:00 & 2108-09-25 08:00:00 & EMERGENCY & TRANSFER FROM HOSP/EXTRAM & DEAD/EXPIRED & Medicare &  & CATHOLIC          & WIDOWED & WHITE                 &                     &                     & MYOCARDIAL INFARCTION\\textbackslash{}CATH & 1 & 1 & 3354 & 2703 & F & 2026-03-12 20:00:00 & 2108-09-25 & 2108-09-25 & 2108-09-25 & 1 & 82.42418356 weeks & 80\\\\\n",
       "\\end{tabular}\n"
      ],
      "text/markdown": [
       "\n",
       "A data.frame: 5 × 33\n",
       "\n",
       "| hadm_id &lt;int&gt; | icustay_id &lt;int&gt; | first_careunit &lt;fct&gt; | last_careunit &lt;fct&gt; | X.x &lt;int&gt; | row_id.x &lt;int&gt; | subject_id &lt;int&gt; | admittime &lt;dttm&gt; | dischtime &lt;fct&gt; | deathtime &lt;dttm&gt; | ⋯ ⋯ | X.y &lt;int&gt; | row_id.y &lt;int&gt; | gender &lt;fct&gt; | dob &lt;dttm&gt; | dod &lt;fct&gt; | dod_hosp &lt;fct&gt; | dod_ssn &lt;fct&gt; | expire_flag &lt;int&gt; | age &lt;drtn&gt; | age_cohort &lt;dbl&gt; |\n",
       "|---|---|---|---|---|---|---|---|---|---|---|---|---|---|---|---|---|---|---|---|---|\n",
       "| 102631 | 246694 | CSRU | CSRU |  456 |  237 |  181 | 2153-10-12 05:49:00 | 2153-10-12 06:29:00 | 2153-10-12 02:29:00 | ⋯ |  392 |  171 | M | 2088-07-23 20:00:00 | 2153-10-12 | 2153-10-12 | 2153-10-12 | 1 | 65.12757082 weeks | 70 |\n",
       "| 138015 | 298263 | NICU | NICU | 1911 | 1640 | 1334 | 2137-09-02 10:43:00 | 2137-09-02 12:00:00 | 2137-09-02 08:00:00 | ⋯ |  885 | 1268 | M | 2137-09-01 20:00:00 | 2137-09-02 | 2137-09-02 | <!----> | 1 |  0.00167654 weeks |  0 |\n",
       "| 181430 | 291798 | SICU | SICU | 1970 | 1699 | 1381 | 2189-01-02 09:25:00 | 2189-01-02 12:00:00 | 2189-01-02 07:00:00 | ⋯ |  930 | 1313 | F | 2107-07-14 20:00:00 | 2189-01-02 | 2189-01-02 | 2189-01-02 | 1 | 81.36049404 weeks | 80 |\n",
       "| 187482 | 213831 | MICU | MICU |  693 |  644 |  516 | 2197-07-31 16:18:00 | 2197-07-31 01:10:00 | 2197-07-30 21:10:00 | ⋯ |  686 |  487 | F | 2126-08-06 20:00:00 | 2197-07-31 | 2197-07-31 | 2197-07-31 | 1 | 70.88679654 weeks | 70 |\n",
       "| 190088 | 293048 | CCU  | CCU  | 3624 | 3447 | 2858 | 2108-09-25 11:29:00 | 2108-09-25 12:00:00 | 2108-09-25 08:00:00 | ⋯ | 3354 | 2703 | F | 2026-03-12 20:00:00 | 2108-09-25 | 2108-09-25 | 2108-09-25 | 1 | 82.42418356 weeks | 80 |\n",
       "\n"
      ],
      "text/plain": [
       "  hadm_id icustay_id first_careunit last_careunit X.x  row_id.x subject_id\n",
       "1 102631  246694     CSRU           CSRU           456  237      181      \n",
       "2 138015  298263     NICU           NICU          1911 1640     1334      \n",
       "3 181430  291798     SICU           SICU          1970 1699     1381      \n",
       "4 187482  213831     MICU           MICU           693  644      516      \n",
       "5 190088  293048     CCU            CCU           3624 3447     2858      \n",
       "  admittime           dischtime           deathtime           ⋯ X.y  row_id.y\n",
       "1 2153-10-12 05:49:00 2153-10-12 06:29:00 2153-10-12 02:29:00 ⋯  392  171    \n",
       "2 2137-09-02 10:43:00 2137-09-02 12:00:00 2137-09-02 08:00:00 ⋯  885 1268    \n",
       "3 2189-01-02 09:25:00 2189-01-02 12:00:00 2189-01-02 07:00:00 ⋯  930 1313    \n",
       "4 2197-07-31 16:18:00 2197-07-31 01:10:00 2197-07-30 21:10:00 ⋯  686  487    \n",
       "5 2108-09-25 11:29:00 2108-09-25 12:00:00 2108-09-25 08:00:00 ⋯ 3354 2703    \n",
       "  gender dob                 dod        dod_hosp   dod_ssn    expire_flag\n",
       "1 M      2088-07-23 20:00:00 2153-10-12 2153-10-12 2153-10-12 1          \n",
       "2 M      2137-09-01 20:00:00 2137-09-02 2137-09-02            1          \n",
       "3 F      2107-07-14 20:00:00 2189-01-02 2189-01-02 2189-01-02 1          \n",
       "4 F      2126-08-06 20:00:00 2197-07-31 2197-07-31 2197-07-31 1          \n",
       "5 F      2026-03-12 20:00:00 2108-09-25 2108-09-25 2108-09-25 1          \n",
       "  age               age_cohort\n",
       "1 65.12757082 weeks 70        \n",
       "2  0.00167654 weeks  0        \n",
       "3 81.36049404 weeks 80        \n",
       "4 70.88679654 weeks 70        \n",
       "5 82.42418356 weeks 80        "
      ]
     },
     "metadata": {},
     "output_type": "display_data"
    }
   ],
   "source": [
    "#Examples\n",
    "nonvitals_predictor_df  %>%\n",
    "    filter(difftime(deathtime, admittime, units = \"mins\") < 0) %>%\n",
    "    head(5)"
   ]
  },
  {
   "cell_type": "markdown",
   "metadata": {},
   "source": [
    "### Setting a mortality filter"
   ]
  },
  {
   "cell_type": "code",
   "execution_count": 317,
   "metadata": {},
   "outputs": [
    {
     "data": {
      "text/html": [
       "<table>\n",
       "<caption>A tibble: 3 × 2</caption>\n",
       "<thead>\n",
       "\t<tr><th scope=col>STOPMORTALITY &lt; 0</th><th scope=col>COUNT</th></tr>\n",
       "\t<tr><th scope=col>&lt;lgl&gt;</th><th scope=col>&lt;int&gt;</th></tr>\n",
       "</thead>\n",
       "<tbody>\n",
       "\t<tr><td>FALSE</td><td>2430</td></tr>\n",
       "\t<tr><td> TRUE</td><td> 437</td></tr>\n",
       "\t<tr><td>   NA</td><td>4689</td></tr>\n",
       "</tbody>\n",
       "</table>\n"
      ],
      "text/latex": [
       "A tibble: 3 × 2\n",
       "\\begin{tabular}{r|ll}\n",
       " STOPMORTALITY < 0 & COUNT\\\\\n",
       " <lgl> & <int>\\\\\n",
       "\\hline\n",
       "\t FALSE & 2430\\\\\n",
       "\t  TRUE &  437\\\\\n",
       "\t    NA & 4689\\\\\n",
       "\\end{tabular}\n"
      ],
      "text/markdown": [
       "\n",
       "A tibble: 3 × 2\n",
       "\n",
       "| STOPMORTALITY &lt; 0 &lt;lgl&gt; | COUNT &lt;int&gt; |\n",
       "|---|---|\n",
       "| FALSE | 2430 |\n",
       "|  TRUE |  437 |\n",
       "|    NA | 4689 |\n",
       "\n"
      ],
      "text/plain": [
       "  STOPMORTALITY < 0 COUNT\n",
       "1 FALSE             2430 \n",
       "2  TRUE              437 \n",
       "3    NA             4689 "
      ]
     },
     "metadata": {},
     "output_type": "display_data"
    }
   ],
   "source": [
    "# Icustays where patients received pressors after death (TRUE)\n",
    "input_df %>%\n",
    "    ungroup() %>%\n",
    "    left_join(nonvitals_predictor_df, by = \"icustay_id\") %>%\n",
    "    mutate(STOPMORTALITY = difftime(deathtime, endtime, units = \"mins\")) %>% \n",
    "    group_by(STOPMORTALITY < 0) %>%\n",
    "    summarize(COUNT = length(unique(icustay_id)))"
   ]
  },
  {
   "cell_type": "code",
   "execution_count": 436,
   "metadata": {},
   "outputs": [
    {
     "data": {
      "text/html": [
       "<table>\n",
       "<caption>A tibble: 3 × 2</caption>\n",
       "<thead>\n",
       "\t<tr><th scope=col>STOPMORTALITY</th><th scope=col>COUNT</th></tr>\n",
       "\t<tr><th scope=col>&lt;lgl&gt;</th><th scope=col>&lt;int&gt;</th></tr>\n",
       "</thead>\n",
       "<tbody>\n",
       "\t<tr><td>FALSE</td><td> 8202</td></tr>\n",
       "\t<tr><td> TRUE</td><td> 1768</td></tr>\n",
       "\t<tr><td>   NA</td><td>13218</td></tr>\n",
       "</tbody>\n",
       "</table>\n"
      ],
      "text/latex": [
       "A tibble: 3 × 2\n",
       "\\begin{tabular}{r|ll}\n",
       " STOPMORTALITY & COUNT\\\\\n",
       " <lgl> & <int>\\\\\n",
       "\\hline\n",
       "\t FALSE &  8202\\\\\n",
       "\t  TRUE &  1768\\\\\n",
       "\t    NA & 13218\\\\\n",
       "\\end{tabular}\n"
      ],
      "text/markdown": [
       "\n",
       "A tibble: 3 × 2\n",
       "\n",
       "| STOPMORTALITY &lt;lgl&gt; | COUNT &lt;int&gt; |\n",
       "|---|---|\n",
       "| FALSE |  8202 |\n",
       "|  TRUE |  1768 |\n",
       "|    NA | 13218 |\n",
       "\n"
      ],
      "text/plain": [
       "  STOPMORTALITY COUNT\n",
       "1 FALSE          8202\n",
       "2  TRUE          1768\n",
       "3    NA         13218"
      ]
     },
     "metadata": {},
     "output_type": "display_data"
    }
   ],
   "source": [
    "### if I do not ignore for these unusual cases\n",
    "input_df %>%\n",
    "    ungroup() %>%\n",
    "    left_join(nonvitals_predictor_df, by = \"icustay_id\") %>%\n",
    "    group_by(icustay_id, continuous_course) %>%\n",
    "    mutate(STOPMORTALITY = difftime(deathtime, max(endtime), units = \"mins\")) %>% \n",
    "    mutate(STOPMORTALITY = STOPMORTALITY < 5) %>%\n",
    "    group_by(STOPMORTALITY) %>%\n",
    "    summarize(COUNT = n())"
   ]
  },
  {
   "cell_type": "code",
   "execution_count": 437,
   "metadata": {},
   "outputs": [
    {
     "data": {
      "text/html": [
       "<table>\n",
       "<caption>A tibble: 3 × 2</caption>\n",
       "<thead>\n",
       "\t<tr><th scope=col>STOPMORTALITY</th><th scope=col>COUNT</th></tr>\n",
       "\t<tr><th scope=col>&lt;lgl&gt;</th><th scope=col>&lt;int&gt;</th></tr>\n",
       "</thead>\n",
       "<tbody>\n",
       "\t<tr><td>FALSE</td><td> 9867</td></tr>\n",
       "\t<tr><td> TRUE</td><td>  103</td></tr>\n",
       "\t<tr><td>   NA</td><td>13218</td></tr>\n",
       "</tbody>\n",
       "</table>\n"
      ],
      "text/latex": [
       "A tibble: 3 × 2\n",
       "\\begin{tabular}{r|ll}\n",
       " STOPMORTALITY & COUNT\\\\\n",
       " <lgl> & <int>\\\\\n",
       "\\hline\n",
       "\t FALSE &  9867\\\\\n",
       "\t  TRUE &   103\\\\\n",
       "\t    NA & 13218\\\\\n",
       "\\end{tabular}\n"
      ],
      "text/markdown": [
       "\n",
       "A tibble: 3 × 2\n",
       "\n",
       "| STOPMORTALITY &lt;lgl&gt; | COUNT &lt;int&gt; |\n",
       "|---|---|\n",
       "| FALSE |  9867 |\n",
       "|  TRUE |   103 |\n",
       "|    NA | 13218 |\n",
       "\n"
      ],
      "text/plain": [
       "  STOPMORTALITY COUNT\n",
       "1 FALSE          9867\n",
       "2  TRUE           103\n",
       "3    NA         13218"
      ]
     },
     "metadata": {},
     "output_type": "display_data"
    }
   ],
   "source": [
    "### if I do ignore these unusual cases\n",
    "input_df %>%\n",
    "    ungroup() %>%\n",
    "    left_join(nonvitals_predictor_df, by = \"icustay_id\") %>%\n",
    "    group_by(icustay_id, continuous_course) %>%\n",
    "    mutate(STOPMORTALITY = difftime(deathtime, max(endtime), units = \"mins\")) %>% \n",
    "    mutate(STOPMORTALITY = STOPMORTALITY > 0 &  STOPMORTALITY < 5) %>%\n",
    "    group_by(STOPMORTALITY) %>%\n",
    "    summarize(COUNT = n())"
   ]
  },
  {
   "cell_type": "code",
   "execution_count": 336,
   "metadata": {},
   "outputs": [],
   "source": [
    "# ignore NAs (patient did not die), or patient death did not correspond to end of pressor course\n",
    "# do not remove unusual cases\n",
    "input_death_df <- input_df %>%\n",
    "    ungroup() %>%\n",
    "    left_join(nonvitals_predictor_df, by = \"icustay_id\") %>%\n",
    "    group_by(icustay_id, continuous_course) %>%\n",
    "    mutate(STOPMORTALITY = difftime(deathtime, max(endtime), units = \"mins\")) %>% \n",
    "    mutate(STOPMORTALITY = !(!(STOPMORTALITY < 5) | is.na(STOPMORTALITY)))"
   ]
  },
  {
   "cell_type": "code",
   "execution_count": 337,
   "metadata": {},
   "outputs": [
    {
     "data": {
      "text/html": [
       "<table>\n",
       "<caption>A grouped_df: 26 × 5</caption>\n",
       "<thead>\n",
       "\t<tr><th scope=col>LESS1HOUR</th><th scope=col>FIRSTCOURSE</th><th scope=col>STOPMORTALITY</th><th scope=col>MORETHAN24HOURS</th><th scope=col>COUNT</th></tr>\n",
       "\t<tr><th scope=col>&lt;lgl&gt;</th><th scope=col>&lt;lgl&gt;</th><th scope=col>&lt;lgl&gt;</th><th scope=col>&lt;lgl&gt;</th><th scope=col>&lt;int&gt;</th></tr>\n",
       "</thead>\n",
       "<tbody>\n",
       "\t<tr><td>FALSE</td><td>FALSE</td><td>FALSE</td><td>FALSE</td><td> 545</td></tr>\n",
       "\t<tr><td>FALSE</td><td>FALSE</td><td>FALSE</td><td> TRUE</td><td> 448</td></tr>\n",
       "\t<tr><td>FALSE</td><td>FALSE</td><td> TRUE</td><td>FALSE</td><td>  38</td></tr>\n",
       "\t<tr><td>FALSE</td><td>FALSE</td><td> TRUE</td><td> TRUE</td><td>  41</td></tr>\n",
       "\t<tr><td>FALSE</td><td> TRUE</td><td>FALSE</td><td>FALSE</td><td>3448</td></tr>\n",
       "\t<tr><td>FALSE</td><td> TRUE</td><td>FALSE</td><td> TRUE</td><td>2743</td></tr>\n",
       "\t<tr><td>FALSE</td><td> TRUE</td><td> TRUE</td><td>FALSE</td><td> 252</td></tr>\n",
       "\t<tr><td>FALSE</td><td> TRUE</td><td> TRUE</td><td> TRUE</td><td> 175</td></tr>\n",
       "\t<tr><td> TRUE</td><td>FALSE</td><td>FALSE</td><td>FALSE</td><td>  21</td></tr>\n",
       "\t<tr><td> TRUE</td><td>FALSE</td><td>FALSE</td><td> TRUE</td><td>  11</td></tr>\n",
       "\t<tr><td> TRUE</td><td>FALSE</td><td> TRUE</td><td>FALSE</td><td>   1</td></tr>\n",
       "\t<tr><td> TRUE</td><td>FALSE</td><td> TRUE</td><td> TRUE</td><td>   1</td></tr>\n",
       "\t<tr><td> TRUE</td><td> TRUE</td><td>FALSE</td><td>FALSE</td><td> 249</td></tr>\n",
       "\t<tr><td> TRUE</td><td> TRUE</td><td>FALSE</td><td> TRUE</td><td> 127</td></tr>\n",
       "\t<tr><td> TRUE</td><td> TRUE</td><td> TRUE</td><td>FALSE</td><td>  19</td></tr>\n",
       "\t<tr><td> TRUE</td><td> TRUE</td><td> TRUE</td><td> TRUE</td><td>   8</td></tr>\n",
       "\t<tr><td>   NA</td><td>FALSE</td><td>FALSE</td><td>FALSE</td><td>  41</td></tr>\n",
       "\t<tr><td>   NA</td><td>FALSE</td><td>FALSE</td><td> TRUE</td><td>  44</td></tr>\n",
       "\t<tr><td>   NA</td><td>FALSE</td><td> TRUE</td><td>FALSE</td><td>   3</td></tr>\n",
       "\t<tr><td>   NA</td><td>FALSE</td><td> TRUE</td><td> TRUE</td><td>   1</td></tr>\n",
       "\t<tr><td>   NA</td><td> TRUE</td><td>FALSE</td><td>FALSE</td><td>  68</td></tr>\n",
       "\t<tr><td>   NA</td><td> TRUE</td><td>FALSE</td><td> TRUE</td><td>  92</td></tr>\n",
       "\t<tr><td>   NA</td><td> TRUE</td><td> TRUE</td><td>FALSE</td><td>   1</td></tr>\n",
       "\t<tr><td>   NA</td><td> TRUE</td><td> TRUE</td><td> TRUE</td><td>   3</td></tr>\n",
       "\t<tr><td>   NA</td><td>   NA</td><td>FALSE</td><td>FALSE</td><td>  79</td></tr>\n",
       "\t<tr><td>   NA</td><td>   NA</td><td>FALSE</td><td> TRUE</td><td>  67</td></tr>\n",
       "</tbody>\n",
       "</table>\n"
      ],
      "text/latex": [
       "A grouped_df: 26 × 5\n",
       "\\begin{tabular}{r|lllll}\n",
       " LESS1HOUR & FIRSTCOURSE & STOPMORTALITY & MORETHAN24HOURS & COUNT\\\\\n",
       " <lgl> & <lgl> & <lgl> & <lgl> & <int>\\\\\n",
       "\\hline\n",
       "\t FALSE & FALSE & FALSE & FALSE &  545\\\\\n",
       "\t FALSE & FALSE & FALSE &  TRUE &  448\\\\\n",
       "\t FALSE & FALSE &  TRUE & FALSE &   38\\\\\n",
       "\t FALSE & FALSE &  TRUE &  TRUE &   41\\\\\n",
       "\t FALSE &  TRUE & FALSE & FALSE & 3448\\\\\n",
       "\t FALSE &  TRUE & FALSE &  TRUE & 2743\\\\\n",
       "\t FALSE &  TRUE &  TRUE & FALSE &  252\\\\\n",
       "\t FALSE &  TRUE &  TRUE &  TRUE &  175\\\\\n",
       "\t  TRUE & FALSE & FALSE & FALSE &   21\\\\\n",
       "\t  TRUE & FALSE & FALSE &  TRUE &   11\\\\\n",
       "\t  TRUE & FALSE &  TRUE & FALSE &    1\\\\\n",
       "\t  TRUE & FALSE &  TRUE &  TRUE &    1\\\\\n",
       "\t  TRUE &  TRUE & FALSE & FALSE &  249\\\\\n",
       "\t  TRUE &  TRUE & FALSE &  TRUE &  127\\\\\n",
       "\t  TRUE &  TRUE &  TRUE & FALSE &   19\\\\\n",
       "\t  TRUE &  TRUE &  TRUE &  TRUE &    8\\\\\n",
       "\t    NA & FALSE & FALSE & FALSE &   41\\\\\n",
       "\t    NA & FALSE & FALSE &  TRUE &   44\\\\\n",
       "\t    NA & FALSE &  TRUE & FALSE &    3\\\\\n",
       "\t    NA & FALSE &  TRUE &  TRUE &    1\\\\\n",
       "\t    NA &  TRUE & FALSE & FALSE &   68\\\\\n",
       "\t    NA &  TRUE & FALSE &  TRUE &   92\\\\\n",
       "\t    NA &  TRUE &  TRUE & FALSE &    1\\\\\n",
       "\t    NA &  TRUE &  TRUE &  TRUE &    3\\\\\n",
       "\t    NA &    NA & FALSE & FALSE &   79\\\\\n",
       "\t    NA &    NA & FALSE &  TRUE &   67\\\\\n",
       "\\end{tabular}\n"
      ],
      "text/markdown": [
       "\n",
       "A grouped_df: 26 × 5\n",
       "\n",
       "| LESS1HOUR &lt;lgl&gt; | FIRSTCOURSE &lt;lgl&gt; | STOPMORTALITY &lt;lgl&gt; | MORETHAN24HOURS &lt;lgl&gt; | COUNT &lt;int&gt; |\n",
       "|---|---|---|---|---|\n",
       "| FALSE | FALSE | FALSE | FALSE |  545 |\n",
       "| FALSE | FALSE | FALSE |  TRUE |  448 |\n",
       "| FALSE | FALSE |  TRUE | FALSE |   38 |\n",
       "| FALSE | FALSE |  TRUE |  TRUE |   41 |\n",
       "| FALSE |  TRUE | FALSE | FALSE | 3448 |\n",
       "| FALSE |  TRUE | FALSE |  TRUE | 2743 |\n",
       "| FALSE |  TRUE |  TRUE | FALSE |  252 |\n",
       "| FALSE |  TRUE |  TRUE |  TRUE |  175 |\n",
       "|  TRUE | FALSE | FALSE | FALSE |   21 |\n",
       "|  TRUE | FALSE | FALSE |  TRUE |   11 |\n",
       "|  TRUE | FALSE |  TRUE | FALSE |    1 |\n",
       "|  TRUE | FALSE |  TRUE |  TRUE |    1 |\n",
       "|  TRUE |  TRUE | FALSE | FALSE |  249 |\n",
       "|  TRUE |  TRUE | FALSE |  TRUE |  127 |\n",
       "|  TRUE |  TRUE |  TRUE | FALSE |   19 |\n",
       "|  TRUE |  TRUE |  TRUE |  TRUE |    8 |\n",
       "|    NA | FALSE | FALSE | FALSE |   41 |\n",
       "|    NA | FALSE | FALSE |  TRUE |   44 |\n",
       "|    NA | FALSE |  TRUE | FALSE |    3 |\n",
       "|    NA | FALSE |  TRUE |  TRUE |    1 |\n",
       "|    NA |  TRUE | FALSE | FALSE |   68 |\n",
       "|    NA |  TRUE | FALSE |  TRUE |   92 |\n",
       "|    NA |  TRUE |  TRUE | FALSE |    1 |\n",
       "|    NA |  TRUE |  TRUE |  TRUE |    3 |\n",
       "|    NA |    NA | FALSE | FALSE |   79 |\n",
       "|    NA |    NA | FALSE |  TRUE |   67 |\n",
       "\n"
      ],
      "text/plain": [
       "   LESS1HOUR FIRSTCOURSE STOPMORTALITY MORETHAN24HOURS COUNT\n",
       "1  FALSE     FALSE       FALSE         FALSE            545 \n",
       "2  FALSE     FALSE       FALSE          TRUE            448 \n",
       "3  FALSE     FALSE        TRUE         FALSE             38 \n",
       "4  FALSE     FALSE        TRUE          TRUE             41 \n",
       "5  FALSE      TRUE       FALSE         FALSE           3448 \n",
       "6  FALSE      TRUE       FALSE          TRUE           2743 \n",
       "7  FALSE      TRUE        TRUE         FALSE            252 \n",
       "8  FALSE      TRUE        TRUE          TRUE            175 \n",
       "9   TRUE     FALSE       FALSE         FALSE             21 \n",
       "10  TRUE     FALSE       FALSE          TRUE             11 \n",
       "11  TRUE     FALSE        TRUE         FALSE              1 \n",
       "12  TRUE     FALSE        TRUE          TRUE              1 \n",
       "13  TRUE      TRUE       FALSE         FALSE            249 \n",
       "14  TRUE      TRUE       FALSE          TRUE            127 \n",
       "15  TRUE      TRUE        TRUE         FALSE             19 \n",
       "16  TRUE      TRUE        TRUE          TRUE              8 \n",
       "17    NA     FALSE       FALSE         FALSE             41 \n",
       "18    NA     FALSE       FALSE          TRUE             44 \n",
       "19    NA     FALSE        TRUE         FALSE              3 \n",
       "20    NA     FALSE        TRUE          TRUE              1 \n",
       "21    NA      TRUE       FALSE         FALSE             68 \n",
       "22    NA      TRUE       FALSE          TRUE             92 \n",
       "23    NA      TRUE        TRUE         FALSE              1 \n",
       "24    NA      TRUE        TRUE          TRUE              3 \n",
       "25    NA        NA       FALSE         FALSE             79 \n",
       "26    NA        NA       FALSE          TRUE             67 "
      ]
     },
     "metadata": {},
     "output_type": "display_data"
    }
   ],
   "source": [
    "input_death_df %>%\n",
    "    mutate(course_id = paste(icustay_id, continuous_course, sep = \",\")) %>%\n",
    "    group_by(LESS1HOUR, FIRSTCOURSE, STOPMORTALITY, MORETHAN24HOURS) %>%\n",
    "    summarize(COUNT = length(unique(course_id)))"
   ]
  },
  {
   "cell_type": "code",
   "execution_count": 303,
   "metadata": {},
   "outputs": [],
   "source": [
    "# ignore NAs (patient did not die), or patient death did not correspond to end of pressor course\n",
    "# remove unusual cases\n",
    "input_death_df <- input_df %>%\n",
    "    ungroup() %>%\n",
    "    left_join(nonvitals_predictor_df, by = \"icustay_id\") %>%\n",
    "    group_by(icustay_id, continuous_course) %>%\n",
    "    mutate(STOPMORTALITY = difftime(deathtime, max(endtime), units = \"mins\")) %>% \n",
    "    mutate(STOPMORTALITY = !(!(STOPMORTALITY > 0 &  STOPMORTALITY < 5) | is.na(STOPMORTALITY)))"
   ]
  },
  {
   "cell_type": "markdown",
   "metadata": {},
   "source": [
    "### Exclude NICU (all NICU was already excluded by pressor usage)"
   ]
  },
  {
   "cell_type": "code",
   "execution_count": 320,
   "metadata": {},
   "outputs": [
    {
     "data": {
      "text/html": [
       "<table>\n",
       "<caption>A grouped_df: 28 × 6</caption>\n",
       "<thead>\n",
       "\t<tr><th scope=col>LESS1HOUR</th><th scope=col>FIRSTCOURSE</th><th scope=col>STOPMORTALITY</th><th scope=col>MORETHAN24HOURS</th><th scope=col>NICUSTAY</th><th scope=col>COUNT</th></tr>\n",
       "\t<tr><th scope=col>&lt;lgl&gt;</th><th scope=col>&lt;lgl&gt;</th><th scope=col>&lt;lgl&gt;</th><th scope=col>&lt;lgl&gt;</th><th scope=col>&lt;lgl&gt;</th><th scope=col>&lt;int&gt;</th></tr>\n",
       "</thead>\n",
       "<tbody>\n",
       "\t<tr><td>FALSE</td><td>FALSE</td><td>FALSE</td><td>FALSE</td><td>FALSE</td><td> 545</td></tr>\n",
       "\t<tr><td>FALSE</td><td>FALSE</td><td>FALSE</td><td> TRUE</td><td>FALSE</td><td> 448</td></tr>\n",
       "\t<tr><td>FALSE</td><td>FALSE</td><td> TRUE</td><td>FALSE</td><td>FALSE</td><td>  38</td></tr>\n",
       "\t<tr><td>FALSE</td><td>FALSE</td><td> TRUE</td><td> TRUE</td><td>FALSE</td><td>  41</td></tr>\n",
       "\t<tr><td>FALSE</td><td> TRUE</td><td>FALSE</td><td>FALSE</td><td>FALSE</td><td>3448</td></tr>\n",
       "\t<tr><td>FALSE</td><td> TRUE</td><td>FALSE</td><td> TRUE</td><td>FALSE</td><td>2743</td></tr>\n",
       "\t<tr><td>FALSE</td><td> TRUE</td><td> TRUE</td><td>FALSE</td><td>FALSE</td><td> 252</td></tr>\n",
       "\t<tr><td>FALSE</td><td> TRUE</td><td> TRUE</td><td> TRUE</td><td>FALSE</td><td> 175</td></tr>\n",
       "\t<tr><td> TRUE</td><td>FALSE</td><td>FALSE</td><td>FALSE</td><td>FALSE</td><td>  21</td></tr>\n",
       "\t<tr><td> TRUE</td><td>FALSE</td><td>FALSE</td><td> TRUE</td><td>FALSE</td><td>  11</td></tr>\n",
       "\t<tr><td> TRUE</td><td>FALSE</td><td> TRUE</td><td>FALSE</td><td>FALSE</td><td>   1</td></tr>\n",
       "\t<tr><td> TRUE</td><td>FALSE</td><td> TRUE</td><td> TRUE</td><td>FALSE</td><td>   1</td></tr>\n",
       "\t<tr><td> TRUE</td><td> TRUE</td><td>FALSE</td><td>FALSE</td><td>FALSE</td><td> 249</td></tr>\n",
       "\t<tr><td> TRUE</td><td> TRUE</td><td>FALSE</td><td> TRUE</td><td>FALSE</td><td> 127</td></tr>\n",
       "\t<tr><td> TRUE</td><td> TRUE</td><td> TRUE</td><td>FALSE</td><td>FALSE</td><td>  19</td></tr>\n",
       "\t<tr><td> TRUE</td><td> TRUE</td><td> TRUE</td><td> TRUE</td><td>FALSE</td><td>   8</td></tr>\n",
       "\t<tr><td>   NA</td><td>FALSE</td><td>FALSE</td><td>FALSE</td><td>FALSE</td><td>  41</td></tr>\n",
       "\t<tr><td>   NA</td><td>FALSE</td><td>FALSE</td><td> TRUE</td><td>FALSE</td><td>  43</td></tr>\n",
       "\t<tr><td>   NA</td><td>FALSE</td><td>FALSE</td><td> TRUE</td><td>   NA</td><td>   1</td></tr>\n",
       "\t<tr><td>   NA</td><td>FALSE</td><td> TRUE</td><td>FALSE</td><td>FALSE</td><td>   3</td></tr>\n",
       "\t<tr><td>   NA</td><td>FALSE</td><td> TRUE</td><td> TRUE</td><td>FALSE</td><td>   1</td></tr>\n",
       "\t<tr><td>   NA</td><td> TRUE</td><td>FALSE</td><td>FALSE</td><td>FALSE</td><td>  67</td></tr>\n",
       "\t<tr><td>   NA</td><td> TRUE</td><td>FALSE</td><td>FALSE</td><td>   NA</td><td>   1</td></tr>\n",
       "\t<tr><td>   NA</td><td> TRUE</td><td>FALSE</td><td> TRUE</td><td>FALSE</td><td>  92</td></tr>\n",
       "\t<tr><td>   NA</td><td> TRUE</td><td> TRUE</td><td>FALSE</td><td>FALSE</td><td>   1</td></tr>\n",
       "\t<tr><td>   NA</td><td> TRUE</td><td> TRUE</td><td> TRUE</td><td>FALSE</td><td>   3</td></tr>\n",
       "\t<tr><td>   NA</td><td>   NA</td><td>FALSE</td><td>FALSE</td><td>FALSE</td><td>  79</td></tr>\n",
       "\t<tr><td>   NA</td><td>   NA</td><td>FALSE</td><td> TRUE</td><td>FALSE</td><td>  67</td></tr>\n",
       "</tbody>\n",
       "</table>\n"
      ],
      "text/latex": [
       "A grouped_df: 28 × 6\n",
       "\\begin{tabular}{r|llllll}\n",
       " LESS1HOUR & FIRSTCOURSE & STOPMORTALITY & MORETHAN24HOURS & NICUSTAY & COUNT\\\\\n",
       " <lgl> & <lgl> & <lgl> & <lgl> & <lgl> & <int>\\\\\n",
       "\\hline\n",
       "\t FALSE & FALSE & FALSE & FALSE & FALSE &  545\\\\\n",
       "\t FALSE & FALSE & FALSE &  TRUE & FALSE &  448\\\\\n",
       "\t FALSE & FALSE &  TRUE & FALSE & FALSE &   38\\\\\n",
       "\t FALSE & FALSE &  TRUE &  TRUE & FALSE &   41\\\\\n",
       "\t FALSE &  TRUE & FALSE & FALSE & FALSE & 3448\\\\\n",
       "\t FALSE &  TRUE & FALSE &  TRUE & FALSE & 2743\\\\\n",
       "\t FALSE &  TRUE &  TRUE & FALSE & FALSE &  252\\\\\n",
       "\t FALSE &  TRUE &  TRUE &  TRUE & FALSE &  175\\\\\n",
       "\t  TRUE & FALSE & FALSE & FALSE & FALSE &   21\\\\\n",
       "\t  TRUE & FALSE & FALSE &  TRUE & FALSE &   11\\\\\n",
       "\t  TRUE & FALSE &  TRUE & FALSE & FALSE &    1\\\\\n",
       "\t  TRUE & FALSE &  TRUE &  TRUE & FALSE &    1\\\\\n",
       "\t  TRUE &  TRUE & FALSE & FALSE & FALSE &  249\\\\\n",
       "\t  TRUE &  TRUE & FALSE &  TRUE & FALSE &  127\\\\\n",
       "\t  TRUE &  TRUE &  TRUE & FALSE & FALSE &   19\\\\\n",
       "\t  TRUE &  TRUE &  TRUE &  TRUE & FALSE &    8\\\\\n",
       "\t    NA & FALSE & FALSE & FALSE & FALSE &   41\\\\\n",
       "\t    NA & FALSE & FALSE &  TRUE & FALSE &   43\\\\\n",
       "\t    NA & FALSE & FALSE &  TRUE &    NA &    1\\\\\n",
       "\t    NA & FALSE &  TRUE & FALSE & FALSE &    3\\\\\n",
       "\t    NA & FALSE &  TRUE &  TRUE & FALSE &    1\\\\\n",
       "\t    NA &  TRUE & FALSE & FALSE & FALSE &   67\\\\\n",
       "\t    NA &  TRUE & FALSE & FALSE &    NA &    1\\\\\n",
       "\t    NA &  TRUE & FALSE &  TRUE & FALSE &   92\\\\\n",
       "\t    NA &  TRUE &  TRUE & FALSE & FALSE &    1\\\\\n",
       "\t    NA &  TRUE &  TRUE &  TRUE & FALSE &    3\\\\\n",
       "\t    NA &    NA & FALSE & FALSE & FALSE &   79\\\\\n",
       "\t    NA &    NA & FALSE &  TRUE & FALSE &   67\\\\\n",
       "\\end{tabular}\n"
      ],
      "text/markdown": [
       "\n",
       "A grouped_df: 28 × 6\n",
       "\n",
       "| LESS1HOUR &lt;lgl&gt; | FIRSTCOURSE &lt;lgl&gt; | STOPMORTALITY &lt;lgl&gt; | MORETHAN24HOURS &lt;lgl&gt; | NICUSTAY &lt;lgl&gt; | COUNT &lt;int&gt; |\n",
       "|---|---|---|---|---|---|\n",
       "| FALSE | FALSE | FALSE | FALSE | FALSE |  545 |\n",
       "| FALSE | FALSE | FALSE |  TRUE | FALSE |  448 |\n",
       "| FALSE | FALSE |  TRUE | FALSE | FALSE |   38 |\n",
       "| FALSE | FALSE |  TRUE |  TRUE | FALSE |   41 |\n",
       "| FALSE |  TRUE | FALSE | FALSE | FALSE | 3448 |\n",
       "| FALSE |  TRUE | FALSE |  TRUE | FALSE | 2743 |\n",
       "| FALSE |  TRUE |  TRUE | FALSE | FALSE |  252 |\n",
       "| FALSE |  TRUE |  TRUE |  TRUE | FALSE |  175 |\n",
       "|  TRUE | FALSE | FALSE | FALSE | FALSE |   21 |\n",
       "|  TRUE | FALSE | FALSE |  TRUE | FALSE |   11 |\n",
       "|  TRUE | FALSE |  TRUE | FALSE | FALSE |    1 |\n",
       "|  TRUE | FALSE |  TRUE |  TRUE | FALSE |    1 |\n",
       "|  TRUE |  TRUE | FALSE | FALSE | FALSE |  249 |\n",
       "|  TRUE |  TRUE | FALSE |  TRUE | FALSE |  127 |\n",
       "|  TRUE |  TRUE |  TRUE | FALSE | FALSE |   19 |\n",
       "|  TRUE |  TRUE |  TRUE |  TRUE | FALSE |    8 |\n",
       "|    NA | FALSE | FALSE | FALSE | FALSE |   41 |\n",
       "|    NA | FALSE | FALSE |  TRUE | FALSE |   43 |\n",
       "|    NA | FALSE | FALSE |  TRUE |    NA |    1 |\n",
       "|    NA | FALSE |  TRUE | FALSE | FALSE |    3 |\n",
       "|    NA | FALSE |  TRUE |  TRUE | FALSE |    1 |\n",
       "|    NA |  TRUE | FALSE | FALSE | FALSE |   67 |\n",
       "|    NA |  TRUE | FALSE | FALSE |    NA |    1 |\n",
       "|    NA |  TRUE | FALSE |  TRUE | FALSE |   92 |\n",
       "|    NA |  TRUE |  TRUE | FALSE | FALSE |    1 |\n",
       "|    NA |  TRUE |  TRUE |  TRUE | FALSE |    3 |\n",
       "|    NA |    NA | FALSE | FALSE | FALSE |   79 |\n",
       "|    NA |    NA | FALSE |  TRUE | FALSE |   67 |\n",
       "\n"
      ],
      "text/plain": [
       "   LESS1HOUR FIRSTCOURSE STOPMORTALITY MORETHAN24HOURS NICUSTAY COUNT\n",
       "1  FALSE     FALSE       FALSE         FALSE           FALSE     545 \n",
       "2  FALSE     FALSE       FALSE          TRUE           FALSE     448 \n",
       "3  FALSE     FALSE        TRUE         FALSE           FALSE      38 \n",
       "4  FALSE     FALSE        TRUE          TRUE           FALSE      41 \n",
       "5  FALSE      TRUE       FALSE         FALSE           FALSE    3448 \n",
       "6  FALSE      TRUE       FALSE          TRUE           FALSE    2743 \n",
       "7  FALSE      TRUE        TRUE         FALSE           FALSE     252 \n",
       "8  FALSE      TRUE        TRUE          TRUE           FALSE     175 \n",
       "9   TRUE     FALSE       FALSE         FALSE           FALSE      21 \n",
       "10  TRUE     FALSE       FALSE          TRUE           FALSE      11 \n",
       "11  TRUE     FALSE        TRUE         FALSE           FALSE       1 \n",
       "12  TRUE     FALSE        TRUE          TRUE           FALSE       1 \n",
       "13  TRUE      TRUE       FALSE         FALSE           FALSE     249 \n",
       "14  TRUE      TRUE       FALSE          TRUE           FALSE     127 \n",
       "15  TRUE      TRUE        TRUE         FALSE           FALSE      19 \n",
       "16  TRUE      TRUE        TRUE          TRUE           FALSE       8 \n",
       "17    NA     FALSE       FALSE         FALSE           FALSE      41 \n",
       "18    NA     FALSE       FALSE          TRUE           FALSE      43 \n",
       "19    NA     FALSE       FALSE          TRUE              NA       1 \n",
       "20    NA     FALSE        TRUE         FALSE           FALSE       3 \n",
       "21    NA     FALSE        TRUE          TRUE           FALSE       1 \n",
       "22    NA      TRUE       FALSE         FALSE           FALSE      67 \n",
       "23    NA      TRUE       FALSE         FALSE              NA       1 \n",
       "24    NA      TRUE       FALSE          TRUE           FALSE      92 \n",
       "25    NA      TRUE        TRUE         FALSE           FALSE       1 \n",
       "26    NA      TRUE        TRUE          TRUE           FALSE       3 \n",
       "27    NA        NA       FALSE         FALSE           FALSE      79 \n",
       "28    NA        NA       FALSE          TRUE           FALSE      67 "
      ]
     },
     "metadata": {},
     "output_type": "display_data"
    }
   ],
   "source": [
    "input_death_df %>%\n",
    "    mutate(NICUSTAY = first_careunit == \"NICU\") %>%\n",
    "    mutate(course_id = paste(icustay_id, continuous_course, sep = \",\")) %>%\n",
    "    group_by(LESS1HOUR, FIRSTCOURSE, STOPMORTALITY, MORETHAN24HOURS, NICUSTAY) %>%\n",
    "    summarize(COUNT = length(unique(course_id)))"
   ]
  },
  {
   "cell_type": "markdown",
   "metadata": {},
   "source": [
    "### Use filters"
   ]
  },
  {
   "cell_type": "code",
   "execution_count": 338,
   "metadata": {},
   "outputs": [],
   "source": [
    "output_df <- input_death_df %>%\n",
    "    mutate(course_id = paste(icustay_id, continuous_course, sep = \",\")) %>%\n",
    "    group_by(course_id) %>%\n",
    "    mutate(starttime = min(starttime), endtime = max(endtime)) %>%\n",
    "    filter(!LESS1HOUR, FIRSTCOURSE, !STOPMORTALITY) "
   ]
  },
  {
   "cell_type": "markdown",
   "metadata": {},
   "source": [
    "# RR Tables"
   ]
  },
  {
   "cell_type": "code",
   "execution_count": 58,
   "metadata": {},
   "outputs": [],
   "source": [
    "races <- c(\"ASIAN\", \"BLACK\", \"HISPANIC\", \"WHITE\", \"OTHER\")\n",
    "\n",
    "simplifyRace <- function(ethnicity){\n",
    "    if(grepl(\"ASIAN\", ethnicity)){return(\"ASIAN\")}\n",
    "    else if(grepl(\"BLACK\", ethnicity)){return(\"BLACK\")}\n",
    "    else if(grepl(\"HISPANIC\", ethnicity)){return(\"HISPANIC\")}\n",
    "    else if(grepl(\"WHITE\", ethnicity)){return(\"WHITE\")}\n",
    "    else{return(\"OTHER\")}\n",
    "}"
   ]
  },
  {
   "cell_type": "code",
   "execution_count": 295,
   "metadata": {},
   "outputs": [],
   "source": [
    "sepsis_regex <- c('SEPSIS', 'SEPTIC', 'CHOLANGITIS', 'UROSEPSIS')\n",
    "\n",
    "infection_regex <- c('PNEUMONIA', 'INFECTION',  \n",
    "  'CELULLITIS', 'FASCITIS', 'INFECTED', 'BACTER', 'PNEMONIA', 'ABSCESS', 'NEPHRITIS')\n",
    "\n",
    "cardiac_regex <- c('HEART', 'CORONARY', 'VENTRICULAR')\n",
    "\n",
    "simplifyDiagnosis <- function(diagnosis){\n",
    "    if(any(sapply(sepsis_regex, function(x) grepl(x, diagnosis)))){return(\"SEPSIS\")}\n",
    "    else if(any(sapply(infection_regex, function(x) grepl(x, diagnosis)))){return(\"INFECTION\")}\n",
    "    else if(any(sapply(cardiac_regex, function(x) grepl(x, diagnosis)))){return(\"CARDIAC\")}\n",
    "    else{return(\"OTHER DIAGNOSIS\")}\n",
    "}"
   ]
  },
  {
   "cell_type": "markdown",
   "metadata": {},
   "source": [
    "Second: Let’s pause the sophisticated (and more interesting) analysis to build out our manuscript table 1 and supp tables 1-3. Details in the doc, but I imagine this as a classic table 1 where you show group characteristics. Hopefully R has a straight-forward way of dumping these out. (https://cran.r-project.org/web/packages/tableone/vignettes/introduction.html)\n",
    "\n",
    " \n",
    "\n",
    "T1: composite of levophed, dopamine, phenylephrine X [all patients; single pressor < 6 hours; single pressor < 24 hours; single pressor > 24 hours or multiple pressors at any point]\n",
    "\n",
    "S1-S3: blow-out of levophed, dopamine, phenylephrine X [all patients; single pressor < 6 hours; single pressor < 24 hours; single pressor > 24 hours or multiple pressors at any point]\n",
    "\n",
    "P-values to compare < 24 vs > 24 or multiple pressors\n",
    "\n",
    "+/- Relative risks for categorical variables?\n",
    "\n",
    " "
   ]
  },
  {
   "cell_type": "code",
   "execution_count": null,
   "metadata": {},
   "outputs": [],
   "source": [
    "#TODO: incorporate other pressors\n",
    "#Forest plots for RR"
   ]
  },
  {
   "cell_type": "code",
   "execution_count": 342,
   "metadata": {},
   "outputs": [
    {
     "name": "stderr",
     "output_type": "stream",
     "text": [
      "Warning message:\n",
      "“Grouping rowwise data frame strips rowwise nature”"
     ]
    },
    {
     "data": {
      "text/html": [
       "<table>\n",
       "<caption>A matrix: 34 × 2 of type dbl</caption>\n",
       "<tbody>\n",
       "\t<tr><th scope=row>MORETHAN24HOURS</th><td>0.000000e+00</td><td>1.000000e+00</td></tr>\n",
       "\t<tr><th scope=row>COUNT</th><td>4.950000e+03</td><td>1.164800e+04</td></tr>\n",
       "\t<tr><th scope=row>AGE_MEAN</th><td>6.663647e+01</td><td>6.397164e+01</td></tr>\n",
       "\t<tr><th scope=row>AGE_SD</th><td>1.427908e+01</td><td>1.480246e+01</td></tr>\n",
       "\t<tr><th scope=row>FEMALE_SUM</th><td>2.161000e+03</td><td>4.705000e+03</td></tr>\n",
       "\t<tr><th scope=row>FEMALE_FRAC</th><td>4.365657e-01</td><td>4.039320e-01</td></tr>\n",
       "\t<tr><th scope=row>WHITE_SUM</th><td>3.497000e+03</td><td>7.959000e+03</td></tr>\n",
       "\t<tr><th scope=row>WHITE_FRAC</th><td>7.064646e-01</td><td>6.832933e-01</td></tr>\n",
       "\t<tr><th scope=row>BLACK_SUM</th><td>4.060000e+02</td><td>1.110000e+03</td></tr>\n",
       "\t<tr><th scope=row>BLACK_FRAC</th><td>8.202020e-02</td><td>9.529533e-02</td></tr>\n",
       "\t<tr><th scope=row>HISPANIC_SUM</th><td>1.370000e+02</td><td>3.480000e+02</td></tr>\n",
       "\t<tr><th scope=row>HISPANIC_FRAC</th><td>2.767677e-02</td><td>2.987637e-02</td></tr>\n",
       "\t<tr><th scope=row>ASIAN_SUM</th><td>1.400000e+02</td><td>3.150000e+02</td></tr>\n",
       "\t<tr><th scope=row>ASIAN_FRAC</th><td>2.828283e-02</td><td>2.704327e-02</td></tr>\n",
       "\t<tr><th scope=row>MICU_SUM</th><td>2.210000e+03</td><td>5.700000e+03</td></tr>\n",
       "\t<tr><th scope=row>MICU_FRAC</th><td>4.464646e-01</td><td>4.893544e-01</td></tr>\n",
       "\t<tr><th scope=row>SICU_SUM</th><td>6.300000e+02</td><td>1.915000e+03</td></tr>\n",
       "\t<tr><th scope=row>SICU_FRAC</th><td>1.272727e-01</td><td>1.644059e-01</td></tr>\n",
       "\t<tr><th scope=row>CCU_SUM</th><td>6.410000e+02</td><td>1.445000e+03</td></tr>\n",
       "\t<tr><th scope=row>CCU_FRAC</th><td>1.294949e-01</td><td>1.240556e-01</td></tr>\n",
       "\t<tr><th scope=row>TSICU_SUM</th><td>4.560000e+02</td><td>1.185000e+03</td></tr>\n",
       "\t<tr><th scope=row>TSICU_FRAC</th><td>9.212121e-02</td><td>1.017342e-01</td></tr>\n",
       "\t<tr><th scope=row>CSRU_SUM</th><td>1.013000e+03</td><td>1.403000e+03</td></tr>\n",
       "\t<tr><th scope=row>CSRU_FRAC</th><td>2.046465e-01</td><td>1.204499e-01</td></tr>\n",
       "\t<tr><th scope=row>SEPSIS_SUM</th><td>6.230000e+02</td><td>1.344000e+03</td></tr>\n",
       "\t<tr><th scope=row>SEPSIS_FRAC</th><td>1.258586e-01</td><td>1.153846e-01</td></tr>\n",
       "\t<tr><th scope=row>INFX_SUM</th><td>4.130000e+02</td><td>1.297000e+03</td></tr>\n",
       "\t<tr><th scope=row>INFX_FRAC</th><td>8.343434e-02</td><td>1.113496e-01</td></tr>\n",
       "\t<tr><th scope=row>CARDIAC_SUM</th><td>6.260000e+02</td><td>1.202000e+03</td></tr>\n",
       "\t<tr><th scope=row>CARDIAC_FRAC</th><td>1.264646e-01</td><td>1.031937e-01</td></tr>\n",
       "\t<tr><th scope=row>CVC_SUM</th><td>4.452000e+03</td><td>1.135800e+04</td></tr>\n",
       "\t<tr><th scope=row>CVC_FRAC</th><td>8.993939e-01</td><td>9.751030e-01</td></tr>\n",
       "\t<tr><th scope=row>INTUB_SUM</th><td>3.882000e+03</td><td>1.041400e+04</td></tr>\n",
       "\t<tr><th scope=row>INTUB_FRAC</th><td>7.842424e-01</td><td>8.940591e-01</td></tr>\n",
       "</tbody>\n",
       "</table>\n"
      ],
      "text/latex": [
       "A matrix: 34 × 2 of type dbl\n",
       "\\begin{tabular}{r|ll}\n",
       "\tMORETHAN24HOURS & 0.000000e+00 & 1.000000e+00\\\\\n",
       "\tCOUNT & 4.950000e+03 & 1.164800e+04\\\\\n",
       "\tAGE\\_MEAN & 6.663647e+01 & 6.397164e+01\\\\\n",
       "\tAGE\\_SD & 1.427908e+01 & 1.480246e+01\\\\\n",
       "\tFEMALE\\_SUM & 2.161000e+03 & 4.705000e+03\\\\\n",
       "\tFEMALE\\_FRAC & 4.365657e-01 & 4.039320e-01\\\\\n",
       "\tWHITE\\_SUM & 3.497000e+03 & 7.959000e+03\\\\\n",
       "\tWHITE\\_FRAC & 7.064646e-01 & 6.832933e-01\\\\\n",
       "\tBLACK\\_SUM & 4.060000e+02 & 1.110000e+03\\\\\n",
       "\tBLACK\\_FRAC & 8.202020e-02 & 9.529533e-02\\\\\n",
       "\tHISPANIC\\_SUM & 1.370000e+02 & 3.480000e+02\\\\\n",
       "\tHISPANIC\\_FRAC & 2.767677e-02 & 2.987637e-02\\\\\n",
       "\tASIAN\\_SUM & 1.400000e+02 & 3.150000e+02\\\\\n",
       "\tASIAN\\_FRAC & 2.828283e-02 & 2.704327e-02\\\\\n",
       "\tMICU\\_SUM & 2.210000e+03 & 5.700000e+03\\\\\n",
       "\tMICU\\_FRAC & 4.464646e-01 & 4.893544e-01\\\\\n",
       "\tSICU\\_SUM & 6.300000e+02 & 1.915000e+03\\\\\n",
       "\tSICU\\_FRAC & 1.272727e-01 & 1.644059e-01\\\\\n",
       "\tCCU\\_SUM & 6.410000e+02 & 1.445000e+03\\\\\n",
       "\tCCU\\_FRAC & 1.294949e-01 & 1.240556e-01\\\\\n",
       "\tTSICU\\_SUM & 4.560000e+02 & 1.185000e+03\\\\\n",
       "\tTSICU\\_FRAC & 9.212121e-02 & 1.017342e-01\\\\\n",
       "\tCSRU\\_SUM & 1.013000e+03 & 1.403000e+03\\\\\n",
       "\tCSRU\\_FRAC & 2.046465e-01 & 1.204499e-01\\\\\n",
       "\tSEPSIS\\_SUM & 6.230000e+02 & 1.344000e+03\\\\\n",
       "\tSEPSIS\\_FRAC & 1.258586e-01 & 1.153846e-01\\\\\n",
       "\tINFX\\_SUM & 4.130000e+02 & 1.297000e+03\\\\\n",
       "\tINFX\\_FRAC & 8.343434e-02 & 1.113496e-01\\\\\n",
       "\tCARDIAC\\_SUM & 6.260000e+02 & 1.202000e+03\\\\\n",
       "\tCARDIAC\\_FRAC & 1.264646e-01 & 1.031937e-01\\\\\n",
       "\tCVC\\_SUM & 4.452000e+03 & 1.135800e+04\\\\\n",
       "\tCVC\\_FRAC & 8.993939e-01 & 9.751030e-01\\\\\n",
       "\tINTUB\\_SUM & 3.882000e+03 & 1.041400e+04\\\\\n",
       "\tINTUB\\_FRAC & 7.842424e-01 & 8.940591e-01\\\\\n",
       "\\end{tabular}\n"
      ],
      "text/markdown": [
       "\n",
       "A matrix: 34 × 2 of type dbl\n",
       "\n",
       "| MORETHAN24HOURS | 0.000000e+00 | 1.000000e+00 |\n",
       "| COUNT | 4.950000e+03 | 1.164800e+04 |\n",
       "| AGE_MEAN | 6.663647e+01 | 6.397164e+01 |\n",
       "| AGE_SD | 1.427908e+01 | 1.480246e+01 |\n",
       "| FEMALE_SUM | 2.161000e+03 | 4.705000e+03 |\n",
       "| FEMALE_FRAC | 4.365657e-01 | 4.039320e-01 |\n",
       "| WHITE_SUM | 3.497000e+03 | 7.959000e+03 |\n",
       "| WHITE_FRAC | 7.064646e-01 | 6.832933e-01 |\n",
       "| BLACK_SUM | 4.060000e+02 | 1.110000e+03 |\n",
       "| BLACK_FRAC | 8.202020e-02 | 9.529533e-02 |\n",
       "| HISPANIC_SUM | 1.370000e+02 | 3.480000e+02 |\n",
       "| HISPANIC_FRAC | 2.767677e-02 | 2.987637e-02 |\n",
       "| ASIAN_SUM | 1.400000e+02 | 3.150000e+02 |\n",
       "| ASIAN_FRAC | 2.828283e-02 | 2.704327e-02 |\n",
       "| MICU_SUM | 2.210000e+03 | 5.700000e+03 |\n",
       "| MICU_FRAC | 4.464646e-01 | 4.893544e-01 |\n",
       "| SICU_SUM | 6.300000e+02 | 1.915000e+03 |\n",
       "| SICU_FRAC | 1.272727e-01 | 1.644059e-01 |\n",
       "| CCU_SUM | 6.410000e+02 | 1.445000e+03 |\n",
       "| CCU_FRAC | 1.294949e-01 | 1.240556e-01 |\n",
       "| TSICU_SUM | 4.560000e+02 | 1.185000e+03 |\n",
       "| TSICU_FRAC | 9.212121e-02 | 1.017342e-01 |\n",
       "| CSRU_SUM | 1.013000e+03 | 1.403000e+03 |\n",
       "| CSRU_FRAC | 2.046465e-01 | 1.204499e-01 |\n",
       "| SEPSIS_SUM | 6.230000e+02 | 1.344000e+03 |\n",
       "| SEPSIS_FRAC | 1.258586e-01 | 1.153846e-01 |\n",
       "| INFX_SUM | 4.130000e+02 | 1.297000e+03 |\n",
       "| INFX_FRAC | 8.343434e-02 | 1.113496e-01 |\n",
       "| CARDIAC_SUM | 6.260000e+02 | 1.202000e+03 |\n",
       "| CARDIAC_FRAC | 1.264646e-01 | 1.031937e-01 |\n",
       "| CVC_SUM | 4.452000e+03 | 1.135800e+04 |\n",
       "| CVC_FRAC | 8.993939e-01 | 9.751030e-01 |\n",
       "| INTUB_SUM | 3.882000e+03 | 1.041400e+04 |\n",
       "| INTUB_FRAC | 7.842424e-01 | 8.940591e-01 |\n",
       "\n"
      ],
      "text/plain": [
       "                [,1]         [,2]        \n",
       "MORETHAN24HOURS 0.000000e+00 1.000000e+00\n",
       "COUNT           4.950000e+03 1.164800e+04\n",
       "AGE_MEAN        6.663647e+01 6.397164e+01\n",
       "AGE_SD          1.427908e+01 1.480246e+01\n",
       "FEMALE_SUM      2.161000e+03 4.705000e+03\n",
       "FEMALE_FRAC     4.365657e-01 4.039320e-01\n",
       "WHITE_SUM       3.497000e+03 7.959000e+03\n",
       "WHITE_FRAC      7.064646e-01 6.832933e-01\n",
       "BLACK_SUM       4.060000e+02 1.110000e+03\n",
       "BLACK_FRAC      8.202020e-02 9.529533e-02\n",
       "HISPANIC_SUM    1.370000e+02 3.480000e+02\n",
       "HISPANIC_FRAC   2.767677e-02 2.987637e-02\n",
       "ASIAN_SUM       1.400000e+02 3.150000e+02\n",
       "ASIAN_FRAC      2.828283e-02 2.704327e-02\n",
       "MICU_SUM        2.210000e+03 5.700000e+03\n",
       "MICU_FRAC       4.464646e-01 4.893544e-01\n",
       "SICU_SUM        6.300000e+02 1.915000e+03\n",
       "SICU_FRAC       1.272727e-01 1.644059e-01\n",
       "CCU_SUM         6.410000e+02 1.445000e+03\n",
       "CCU_FRAC        1.294949e-01 1.240556e-01\n",
       "TSICU_SUM       4.560000e+02 1.185000e+03\n",
       "TSICU_FRAC      9.212121e-02 1.017342e-01\n",
       "CSRU_SUM        1.013000e+03 1.403000e+03\n",
       "CSRU_FRAC       2.046465e-01 1.204499e-01\n",
       "SEPSIS_SUM      6.230000e+02 1.344000e+03\n",
       "SEPSIS_FRAC     1.258586e-01 1.153846e-01\n",
       "INFX_SUM        4.130000e+02 1.297000e+03\n",
       "INFX_FRAC       8.343434e-02 1.113496e-01\n",
       "CARDIAC_SUM     6.260000e+02 1.202000e+03\n",
       "CARDIAC_FRAC    1.264646e-01 1.031937e-01\n",
       "CVC_SUM         4.452000e+03 1.135800e+04\n",
       "CVC_FRAC        8.993939e-01 9.751030e-01\n",
       "INTUB_SUM       3.882000e+03 1.041400e+04\n",
       "INTUB_FRAC      7.842424e-01 8.940591e-01"
      ]
     },
     "metadata": {},
     "output_type": "display_data"
    }
   ],
   "source": [
    "output_df %>% \n",
    "    rowwise() %>%\n",
    "    mutate(simple_race = simplifyRace(ethnicity)) %>%\n",
    "    mutate(simple_diagnosis = simplifyDiagnosis(diagnosis)) %>%\n",
    "#     mutate(STATUS = \n",
    "#             if(duration_hours <= 6){\"LESS6HOURS\"}\n",
    "#             else if(duration_hours <= 24 & duration_hours > 6){\"LESS24HOURS\"}\n",
    "#             else if(duration_hours > 24){\"MORE24HOURS\"}) %>%\n",
    "#     group_by(course_id, MORETHAN24HOURS) %>%\n",
    "#     summarize(age = mean(age), \n",
    "#               gender = unique(gender)[1],\n",
    "#               simple_race =  unique(simple_race)[1],\n",
    "#               simple_diagnosis =  unique(simple_diagnosis)[1],\n",
    "#               first_careunit =  unique(first_careunit)[1]\n",
    "#              ) %>%\n",
    "    group_by(MORETHAN24HOURS) %>%\n",
    "    summarize(COUNT = n(), \n",
    "              AGE_MEAN = as.numeric(mean(age, na.rm=TRUE)), AGE_SD = sd(age, na.rm=TRUE),\n",
    "              FEMALE_SUM = sum(gender == 'F'),\n",
    "              FEMALE_FRAC = sum(gender == 'F')/n(),\n",
    "              WHITE_SUM = sum(simple_race == 'WHITE'),\n",
    "              WHITE_FRAC = sum(simple_race == 'WHITE')/n(),\n",
    "              BLACK_SUM = sum(simple_race == 'BLACK'),\n",
    "              BLACK_FRAC = sum(simple_race == 'BLACK')/n(),\n",
    "              HISPANIC_SUM = sum(simple_race == 'HISPANIC'),\n",
    "              HISPANIC_FRAC = sum(simple_race == 'HISPANIC')/n(),\n",
    "              ASIAN_SUM = sum(simple_race == 'ASIAN'),\n",
    "              ASIAN_FRAC = sum(simple_race == 'ASIAN')/n(),\n",
    "              MICU_SUM = sum(first_careunit == 'MICU'),\n",
    "              MICU_FRAC = sum(first_careunit == 'MICU')/n(),\n",
    "              SICU_SUM = sum(first_careunit == 'SICU'),\n",
    "              SICU_FRAC = sum(first_careunit == 'SICU')/n(),\n",
    "              CCU_SUM = sum(first_careunit == 'CCU'),\n",
    "              CCU_FRAC = sum(first_careunit == 'CCU')/n(),\n",
    "              TSICU_SUM = sum(first_careunit == 'TSICU'),\n",
    "              TSICU_FRAC = sum(first_careunit == 'TSICU')/n(),\n",
    "              CSRU_SUM = sum(first_careunit == 'CSRU'),\n",
    "              CSRU_FRAC = sum(first_careunit == 'CSRU')/n(),\n",
    "              SEPSIS_SUM = sum(simple_diagnosis == \"SEPSIS\"),\n",
    "              SEPSIS_FRAC = sum(simple_diagnosis == \"SEPSIS\")/n(),\n",
    "              INFX_SUM = sum(simple_diagnosis == \"INFECTION\"),\n",
    "              INFX_FRAC = sum(simple_diagnosis == \"INFECTION\")/n(),\n",
    "              CARDIAC_SUM = sum(simple_diagnosis == \"CARDIAC\"),\n",
    "              CARDIAC_FRAC = sum(simple_diagnosis == \"CARDIAC\")/n(),\n",
    "              CVC_SUM = sum(cvc == \"TRUE\", na.rm=TRUE),\n",
    "              CVC_FRAC = sum(cvc == \"TRUE\", na.rm=TRUE)/n(),\n",
    "              INTUB_SUM = sum(intub == \"TRUE\", na.rm=TRUE),\n",
    "              INTUB_FRAC = sum(intub == \"TRUE\", na.rm=TRUE)/n()\n",
    "             ) %>% t()"
   ]
  },
  {
   "cell_type": "code",
   "execution_count": 385,
   "metadata": {},
   "outputs": [
    {
     "data": {
      "text/html": [
       "<table>\n",
       "<caption>A data.frame: 25 × 8</caption>\n",
       "<thead>\n",
       "\t<tr><th scope=col>TYPE</th><th scope=col>FILTER</th><th scope=col>estimate</th><th scope=col>lower</th><th scope=col>upper</th><th scope=col>ID</th><th scope=col>p</th><th scope=col>significant</th></tr>\n",
       "\t<tr><th scope=col>&lt;chr&gt;</th><th scope=col>&lt;chr&gt;</th><th scope=col>&lt;dbl&gt;</th><th scope=col>&lt;dbl&gt;</th><th scope=col>&lt;dbl&gt;</th><th scope=col>&lt;chr&gt;</th><th scope=col>&lt;dbl&gt;</th><th scope=col>&lt;lgl&gt;</th></tr>\n",
       "</thead>\n",
       "<tbody>\n",
       "\t<tr><td>INTUB_RR    </td><td>TRUE</td><td>1.3589178</td><td>1.3065491</td><td>1.4133855</td><td>INTUB          </td><td>2.118292e-73</td><td> TRUE</td></tr>\n",
       "\t<tr><td>CVC_RR      </td><td>TRUE</td><td>1.9520827</td><td>1.7804785</td><td>2.1402262</td><td>CVC            </td><td>1.147471e-87</td><td> TRUE</td></tr>\n",
       "\t<tr><td>MALE_RR     </td><td>M   </td><td>1.0410923</td><td>1.0200849</td><td>1.0625324</td><td>M              </td><td>9.888139e-05</td><td> TRUE</td></tr>\n",
       "\t<tr><td>RACE_RR     </td><td>TRUE</td><td>0.9861399</td><td>0.9267862</td><td>1.0492947</td><td>ASIAN          </td><td>6.776775e-01</td><td>FALSE</td></tr>\n",
       "\t<tr><td>RACE_RR     </td><td>TRUE</td><td>1.0479113</td><td>1.0147089</td><td>1.0822001</td><td>BLACK          </td><td>6.726395e-03</td><td> TRUE</td></tr>\n",
       "\t<tr><td>RACE_RR     </td><td>TRUE</td><td>1.0231410</td><td>0.9667020</td><td>1.0828750</td><td>HISPANIC       </td><td>4.806835e-01</td><td>FALSE</td></tr>\n",
       "\t<tr><td>RACE_RR     </td><td>TRUE</td><td>0.9683869</td><td>0.9482496</td><td>0.9889519</td><td>WHITE          </td><td>3.139317e-03</td><td> TRUE</td></tr>\n",
       "\t<tr><td>RACE_RR     </td><td>TRUE</td><td>1.0197107</td><td>0.9932104</td><td>1.0469180</td><td>OTHER          </td><td>1.599735e-01</td><td>FALSE</td></tr>\n",
       "\t<tr><td>AGE_RR      </td><td>TRUE</td><td>0.9149838</td><td>0.8104062</td><td>1.0330564</td><td>20             </td><td>1.190291e-01</td><td>FALSE</td></tr>\n",
       "\t<tr><td>AGE_RR      </td><td>TRUE</td><td>1.1457383</td><td>1.0959913</td><td>1.1977434</td><td>30             </td><td>3.415331e-07</td><td> TRUE</td></tr>\n",
       "\t<tr><td>AGE_RR      </td><td>TRUE</td><td>1.0979002</td><td>1.0567729</td><td>1.1406281</td><td>40             </td><td>1.425673e-05</td><td> TRUE</td></tr>\n",
       "\t<tr><td>AGE_RR      </td><td>TRUE</td><td>1.0883140</td><td>1.0611300</td><td>1.1161944</td><td>50             </td><td>7.925967e-10</td><td> TRUE</td></tr>\n",
       "\t<tr><td>AGE_RR      </td><td>TRUE</td><td>1.0223340</td><td>0.9985689</td><td>1.0466646</td><td>60             </td><td>7.057429e-02</td><td>FALSE</td></tr>\n",
       "\t<tr><td>AGE_RR      </td><td>TRUE</td><td>0.9738315</td><td>0.9505428</td><td>0.9976908</td><td>70             </td><td>3.004743e-02</td><td> TRUE</td></tr>\n",
       "\t<tr><td>AGE_RR      </td><td>TRUE</td><td>0.9385215</td><td>0.9156571</td><td>0.9619568</td><td>80             </td><td>1.993538e-07</td><td> TRUE</td></tr>\n",
       "\t<tr><td>AGE_RR      </td><td>TRUE</td><td>0.8412815</td><td>0.7929664</td><td>0.8925405</td><td>90             </td><td>9.915741e-11</td><td> TRUE</td></tr>\n",
       "\t<tr><td>DIAGNOSIS_RR</td><td>TRUE</td><td>0.9297341</td><td>0.8980515</td><td>0.9625344</td><td>CARDIAC        </td><td>1.439379e-05</td><td> TRUE</td></tr>\n",
       "\t<tr><td>DIAGNOSIS_RR</td><td>TRUE</td><td>1.0909326</td><td>1.0599804</td><td>1.1227886</td><td>INFECTION      </td><td>4.315617e-08</td><td> TRUE</td></tr>\n",
       "\t<tr><td>DIAGNOSIS_RR</td><td>TRUE</td><td>1.0078847</td><td>0.9867836</td><td>1.0294369</td><td>OTHER DIAGNOSIS</td><td>4.710781e-01</td><td>FALSE</td></tr>\n",
       "\t<tr><td>DIAGNOSIS_RR</td><td>TRUE</td><td>0.9702040</td><td>0.9397736</td><td>1.0016198</td><td>SEPSIS         </td><td>5.875762e-02</td><td>FALSE</td></tr>\n",
       "\t<tr><td>CAREUNIT_RR </td><td>TRUE</td><td>0.9852647</td><td>0.9556921</td><td>1.0157524</td><td>CCU            </td><td>3.436780e-01</td><td>FALSE</td></tr>\n",
       "\t<tr><td>CAREUNIT_RR </td><td>TRUE</td><td>0.8038708</td><td>0.7759230</td><td>0.8328252</td><td>CSRU           </td><td>7.829586e-43</td><td> TRUE</td></tr>\n",
       "\t<tr><td>CAREUNIT_RR </td><td>TRUE</td><td>1.0525609</td><td>1.0319268</td><td>1.0736076</td><td>MICU           </td><td>4.143986e-07</td><td> TRUE</td></tr>\n",
       "\t<tr><td>CAREUNIT_RR </td><td>TRUE</td><td>1.0864339</td><td>1.0597607</td><td>1.1137785</td><td>SICU           </td><td>7.692525e-10</td><td> TRUE</td></tr>\n",
       "\t<tr><td>CAREUNIT_RR </td><td>TRUE</td><td>1.0322812</td><td>0.9999730</td><td>1.0656334</td><td>TSICU          </td><td>6.064074e-02</td><td>FALSE</td></tr>\n",
       "</tbody>\n",
       "</table>\n"
      ],
      "text/latex": [
       "A data.frame: 25 × 8\n",
       "\\begin{tabular}{r|llllllll}\n",
       " TYPE & FILTER & estimate & lower & upper & ID & p & significant\\\\\n",
       " <chr> & <chr> & <dbl> & <dbl> & <dbl> & <chr> & <dbl> & <lgl>\\\\\n",
       "\\hline\n",
       "\t INTUB\\_RR     & TRUE & 1.3589178 & 1.3065491 & 1.4133855 & INTUB           & 2.118292e-73 &  TRUE\\\\\n",
       "\t CVC\\_RR       & TRUE & 1.9520827 & 1.7804785 & 2.1402262 & CVC             & 1.147471e-87 &  TRUE\\\\\n",
       "\t MALE\\_RR      & M    & 1.0410923 & 1.0200849 & 1.0625324 & M               & 9.888139e-05 &  TRUE\\\\\n",
       "\t RACE\\_RR      & TRUE & 0.9861399 & 0.9267862 & 1.0492947 & ASIAN           & 6.776775e-01 & FALSE\\\\\n",
       "\t RACE\\_RR      & TRUE & 1.0479113 & 1.0147089 & 1.0822001 & BLACK           & 6.726395e-03 &  TRUE\\\\\n",
       "\t RACE\\_RR      & TRUE & 1.0231410 & 0.9667020 & 1.0828750 & HISPANIC        & 4.806835e-01 & FALSE\\\\\n",
       "\t RACE\\_RR      & TRUE & 0.9683869 & 0.9482496 & 0.9889519 & WHITE           & 3.139317e-03 &  TRUE\\\\\n",
       "\t RACE\\_RR      & TRUE & 1.0197107 & 0.9932104 & 1.0469180 & OTHER           & 1.599735e-01 & FALSE\\\\\n",
       "\t AGE\\_RR       & TRUE & 0.9149838 & 0.8104062 & 1.0330564 & 20              & 1.190291e-01 & FALSE\\\\\n",
       "\t AGE\\_RR       & TRUE & 1.1457383 & 1.0959913 & 1.1977434 & 30              & 3.415331e-07 &  TRUE\\\\\n",
       "\t AGE\\_RR       & TRUE & 1.0979002 & 1.0567729 & 1.1406281 & 40              & 1.425673e-05 &  TRUE\\\\\n",
       "\t AGE\\_RR       & TRUE & 1.0883140 & 1.0611300 & 1.1161944 & 50              & 7.925967e-10 &  TRUE\\\\\n",
       "\t AGE\\_RR       & TRUE & 1.0223340 & 0.9985689 & 1.0466646 & 60              & 7.057429e-02 & FALSE\\\\\n",
       "\t AGE\\_RR       & TRUE & 0.9738315 & 0.9505428 & 0.9976908 & 70              & 3.004743e-02 &  TRUE\\\\\n",
       "\t AGE\\_RR       & TRUE & 0.9385215 & 0.9156571 & 0.9619568 & 80              & 1.993538e-07 &  TRUE\\\\\n",
       "\t AGE\\_RR       & TRUE & 0.8412815 & 0.7929664 & 0.8925405 & 90              & 9.915741e-11 &  TRUE\\\\\n",
       "\t DIAGNOSIS\\_RR & TRUE & 0.9297341 & 0.8980515 & 0.9625344 & CARDIAC         & 1.439379e-05 &  TRUE\\\\\n",
       "\t DIAGNOSIS\\_RR & TRUE & 1.0909326 & 1.0599804 & 1.1227886 & INFECTION       & 4.315617e-08 &  TRUE\\\\\n",
       "\t DIAGNOSIS\\_RR & TRUE & 1.0078847 & 0.9867836 & 1.0294369 & OTHER DIAGNOSIS & 4.710781e-01 & FALSE\\\\\n",
       "\t DIAGNOSIS\\_RR & TRUE & 0.9702040 & 0.9397736 & 1.0016198 & SEPSIS          & 5.875762e-02 & FALSE\\\\\n",
       "\t CAREUNIT\\_RR  & TRUE & 0.9852647 & 0.9556921 & 1.0157524 & CCU             & 3.436780e-01 & FALSE\\\\\n",
       "\t CAREUNIT\\_RR  & TRUE & 0.8038708 & 0.7759230 & 0.8328252 & CSRU            & 7.829586e-43 &  TRUE\\\\\n",
       "\t CAREUNIT\\_RR  & TRUE & 1.0525609 & 1.0319268 & 1.0736076 & MICU            & 4.143986e-07 &  TRUE\\\\\n",
       "\t CAREUNIT\\_RR  & TRUE & 1.0864339 & 1.0597607 & 1.1137785 & SICU            & 7.692525e-10 &  TRUE\\\\\n",
       "\t CAREUNIT\\_RR  & TRUE & 1.0322812 & 0.9999730 & 1.0656334 & TSICU           & 6.064074e-02 & FALSE\\\\\n",
       "\\end{tabular}\n"
      ],
      "text/markdown": [
       "\n",
       "A data.frame: 25 × 8\n",
       "\n",
       "| TYPE &lt;chr&gt; | FILTER &lt;chr&gt; | estimate &lt;dbl&gt; | lower &lt;dbl&gt; | upper &lt;dbl&gt; | ID &lt;chr&gt; | p &lt;dbl&gt; | significant &lt;lgl&gt; |\n",
       "|---|---|---|---|---|---|---|---|\n",
       "| INTUB_RR     | TRUE | 1.3589178 | 1.3065491 | 1.4133855 | INTUB           | 2.118292e-73 |  TRUE |\n",
       "| CVC_RR       | TRUE | 1.9520827 | 1.7804785 | 2.1402262 | CVC             | 1.147471e-87 |  TRUE |\n",
       "| MALE_RR      | M    | 1.0410923 | 1.0200849 | 1.0625324 | M               | 9.888139e-05 |  TRUE |\n",
       "| RACE_RR      | TRUE | 0.9861399 | 0.9267862 | 1.0492947 | ASIAN           | 6.776775e-01 | FALSE |\n",
       "| RACE_RR      | TRUE | 1.0479113 | 1.0147089 | 1.0822001 | BLACK           | 6.726395e-03 |  TRUE |\n",
       "| RACE_RR      | TRUE | 1.0231410 | 0.9667020 | 1.0828750 | HISPANIC        | 4.806835e-01 | FALSE |\n",
       "| RACE_RR      | TRUE | 0.9683869 | 0.9482496 | 0.9889519 | WHITE           | 3.139317e-03 |  TRUE |\n",
       "| RACE_RR      | TRUE | 1.0197107 | 0.9932104 | 1.0469180 | OTHER           | 1.599735e-01 | FALSE |\n",
       "| AGE_RR       | TRUE | 0.9149838 | 0.8104062 | 1.0330564 | 20              | 1.190291e-01 | FALSE |\n",
       "| AGE_RR       | TRUE | 1.1457383 | 1.0959913 | 1.1977434 | 30              | 3.415331e-07 |  TRUE |\n",
       "| AGE_RR       | TRUE | 1.0979002 | 1.0567729 | 1.1406281 | 40              | 1.425673e-05 |  TRUE |\n",
       "| AGE_RR       | TRUE | 1.0883140 | 1.0611300 | 1.1161944 | 50              | 7.925967e-10 |  TRUE |\n",
       "| AGE_RR       | TRUE | 1.0223340 | 0.9985689 | 1.0466646 | 60              | 7.057429e-02 | FALSE |\n",
       "| AGE_RR       | TRUE | 0.9738315 | 0.9505428 | 0.9976908 | 70              | 3.004743e-02 |  TRUE |\n",
       "| AGE_RR       | TRUE | 0.9385215 | 0.9156571 | 0.9619568 | 80              | 1.993538e-07 |  TRUE |\n",
       "| AGE_RR       | TRUE | 0.8412815 | 0.7929664 | 0.8925405 | 90              | 9.915741e-11 |  TRUE |\n",
       "| DIAGNOSIS_RR | TRUE | 0.9297341 | 0.8980515 | 0.9625344 | CARDIAC         | 1.439379e-05 |  TRUE |\n",
       "| DIAGNOSIS_RR | TRUE | 1.0909326 | 1.0599804 | 1.1227886 | INFECTION       | 4.315617e-08 |  TRUE |\n",
       "| DIAGNOSIS_RR | TRUE | 1.0078847 | 0.9867836 | 1.0294369 | OTHER DIAGNOSIS | 4.710781e-01 | FALSE |\n",
       "| DIAGNOSIS_RR | TRUE | 0.9702040 | 0.9397736 | 1.0016198 | SEPSIS          | 5.875762e-02 | FALSE |\n",
       "| CAREUNIT_RR  | TRUE | 0.9852647 | 0.9556921 | 1.0157524 | CCU             | 3.436780e-01 | FALSE |\n",
       "| CAREUNIT_RR  | TRUE | 0.8038708 | 0.7759230 | 0.8328252 | CSRU            | 7.829586e-43 |  TRUE |\n",
       "| CAREUNIT_RR  | TRUE | 1.0525609 | 1.0319268 | 1.0736076 | MICU            | 4.143986e-07 |  TRUE |\n",
       "| CAREUNIT_RR  | TRUE | 1.0864339 | 1.0597607 | 1.1137785 | SICU            | 7.692525e-10 |  TRUE |\n",
       "| CAREUNIT_RR  | TRUE | 1.0322812 | 0.9999730 | 1.0656334 | TSICU           | 6.064074e-02 | FALSE |\n",
       "\n"
      ],
      "text/plain": [
       "   TYPE         FILTER estimate  lower     upper     ID             \n",
       "1  INTUB_RR     TRUE   1.3589178 1.3065491 1.4133855 INTUB          \n",
       "2  CVC_RR       TRUE   1.9520827 1.7804785 2.1402262 CVC            \n",
       "3  MALE_RR      M      1.0410923 1.0200849 1.0625324 M              \n",
       "4  RACE_RR      TRUE   0.9861399 0.9267862 1.0492947 ASIAN          \n",
       "5  RACE_RR      TRUE   1.0479113 1.0147089 1.0822001 BLACK          \n",
       "6  RACE_RR      TRUE   1.0231410 0.9667020 1.0828750 HISPANIC       \n",
       "7  RACE_RR      TRUE   0.9683869 0.9482496 0.9889519 WHITE          \n",
       "8  RACE_RR      TRUE   1.0197107 0.9932104 1.0469180 OTHER          \n",
       "9  AGE_RR       TRUE   0.9149838 0.8104062 1.0330564 20             \n",
       "10 AGE_RR       TRUE   1.1457383 1.0959913 1.1977434 30             \n",
       "11 AGE_RR       TRUE   1.0979002 1.0567729 1.1406281 40             \n",
       "12 AGE_RR       TRUE   1.0883140 1.0611300 1.1161944 50             \n",
       "13 AGE_RR       TRUE   1.0223340 0.9985689 1.0466646 60             \n",
       "14 AGE_RR       TRUE   0.9738315 0.9505428 0.9976908 70             \n",
       "15 AGE_RR       TRUE   0.9385215 0.9156571 0.9619568 80             \n",
       "16 AGE_RR       TRUE   0.8412815 0.7929664 0.8925405 90             \n",
       "17 DIAGNOSIS_RR TRUE   0.9297341 0.8980515 0.9625344 CARDIAC        \n",
       "18 DIAGNOSIS_RR TRUE   1.0909326 1.0599804 1.1227886 INFECTION      \n",
       "19 DIAGNOSIS_RR TRUE   1.0078847 0.9867836 1.0294369 OTHER DIAGNOSIS\n",
       "20 DIAGNOSIS_RR TRUE   0.9702040 0.9397736 1.0016198 SEPSIS         \n",
       "21 CAREUNIT_RR  TRUE   0.9852647 0.9556921 1.0157524 CCU            \n",
       "22 CAREUNIT_RR  TRUE   0.8038708 0.7759230 0.8328252 CSRU           \n",
       "23 CAREUNIT_RR  TRUE   1.0525609 1.0319268 1.0736076 MICU           \n",
       "24 CAREUNIT_RR  TRUE   1.0864339 1.0597607 1.1137785 SICU           \n",
       "25 CAREUNIT_RR  TRUE   1.0322812 0.9999730 1.0656334 TSICU          \n",
       "   p            significant\n",
       "1  2.118292e-73  TRUE      \n",
       "2  1.147471e-87  TRUE      \n",
       "3  9.888139e-05  TRUE      \n",
       "4  6.776775e-01 FALSE      \n",
       "5  6.726395e-03  TRUE      \n",
       "6  4.806835e-01 FALSE      \n",
       "7  3.139317e-03  TRUE      \n",
       "8  1.599735e-01 FALSE      \n",
       "9  1.190291e-01 FALSE      \n",
       "10 3.415331e-07  TRUE      \n",
       "11 1.425673e-05  TRUE      \n",
       "12 7.925967e-10  TRUE      \n",
       "13 7.057429e-02 FALSE      \n",
       "14 3.004743e-02  TRUE      \n",
       "15 1.993538e-07  TRUE      \n",
       "16 9.915741e-11  TRUE      \n",
       "17 1.439379e-05  TRUE      \n",
       "18 4.315617e-08  TRUE      \n",
       "19 4.710781e-01 FALSE      \n",
       "20 5.875762e-02 FALSE      \n",
       "21 3.436780e-01 FALSE      \n",
       "22 7.829586e-43  TRUE      \n",
       "23 4.143986e-07  TRUE      \n",
       "24 7.692525e-10  TRUE      \n",
       "25 6.064074e-02 FALSE      "
      ]
     },
     "metadata": {},
     "output_type": "display_data"
    }
   ],
   "source": [
    "all_rr_df <- bind_rows(all_rr_list, .id=\"TYPE\") %>%\n",
    "    mutate(significant = p < 0.05)\n",
    "\n",
    "all_rr_df"
   ]
  },
  {
   "cell_type": "code",
   "execution_count": 387,
   "metadata": {},
   "outputs": [
    {
     "data": {
      "image/png": "[encoded data removed]",
      "text/plain": [
       "plot without title"
      ]
     },
     "metadata": {},
     "output_type": "display_data"
    }
   ],
   "source": [
    "p = ggplot(data=all_rr_df,\n",
    "    aes(x = ID,y = estimate, ymin = lower, ymax = upper ))+\n",
    "    geom_pointrange(aes(col=significant))+\n",
    "    geom_hline(yintercept =1, linetype=2)+\n",
    "    xlab('Group')+ ylab(\"Risk Ratio (95% Confidence Interval)\")+\n",
    "    geom_errorbar(aes(ymin=lower, ymax=upper,col=significant),width=0.5,cex=1)+ \n",
    "    theme_bw() +\n",
    "    coord_flip()\n",
    "plot(p)"
   ]
  },
  {
   "cell_type": "markdown",
   "metadata": {},
   "source": [
    "# Possible predictors for >24 hrs of pressor usage\n",
    "- Age, sex, ethnicity\n",
    "    - to handle age, need to subtract icustarttime from dob as years. Then group round to nearest 10. \n",
    "- Diagnosis code (nonvitals_predictor_df)\n",
    "- Vital signs at 2,4,6,12 hrs before pressor initiation (or a log reg of this) (vitals_df)"
   ]
  },
  {
   "cell_type": "code",
   "execution_count": 339,
   "metadata": {},
   "outputs": [],
   "source": [
    "all_rr_list <- list()"
   ]
  },
  {
   "cell_type": "markdown",
   "metadata": {},
   "source": [
    "### Gender effect, greater risk for Male (chi-square, relative risk)"
   ]
  },
  {
   "cell_type": "code",
   "execution_count": 352,
   "metadata": {},
   "outputs": [],
   "source": [
    "gender_df <- output_df %>%\n",
    "    group_by(MORETHAN24HOURS, gender) %>%\n",
    "    summarize(COUNT = n())"
   ]
  },
  {
   "cell_type": "markdown",
   "metadata": {},
   "source": [
    "#### Chi-Square (Significant) \"there is an interaction between sex and response\""
   ]
  },
  {
   "cell_type": "code",
   "execution_count": 353,
   "metadata": {},
   "outputs": [
    {
     "data": {
      "text/plain": [
       "\n",
       "\tPearson's Chi-squared test with Yates' continuity correction\n",
       "\n",
       "data:  .\n",
       "X-squared = 15.118, df = 1, p-value = 0.000101\n"
      ]
     },
     "metadata": {},
     "output_type": "display_data"
    }
   ],
   "source": [
    "gender_df %>%\n",
    "        spread(MORETHAN24HOURS, COUNT) %>%\n",
    "        tibble::column_to_rownames(\"gender\") %>%\n",
    "        as.matrix() %>% chisq.test() "
   ]
  },
  {
   "cell_type": "markdown",
   "metadata": {},
   "source": [
    "#### Relative risk (Significant) \"there is a different RR for male compared to female for the response\""
   ]
  },
  {
   "cell_type": "code",
   "execution_count": 354,
   "metadata": {},
   "outputs": [
    {
     "data": {
      "text/html": [
       "<dl>\n",
       "\t<dt>$data</dt>\n",
       "\t\t<dd><table>\n",
       "<caption>A matrix: 3 × 3 of type int</caption>\n",
       "<thead>\n",
       "\t<tr><th></th><th scope=col>FALSE</th><th scope=col>TRUE</th><th scope=col>Total</th></tr>\n",
       "</thead>\n",
       "<tbody>\n",
       "\t<tr><th scope=row>F</th><td>2161</td><td> 4705</td><td> 6866</td></tr>\n",
       "\t<tr><th scope=row>M</th><td>2789</td><td> 6943</td><td> 9732</td></tr>\n",
       "\t<tr><th scope=row>Total</th><td>4950</td><td>11648</td><td>16598</td></tr>\n",
       "</tbody>\n",
       "</table>\n",
       "</dd>\n",
       "\t<dt>$measure</dt>\n",
       "\t\t<dd><table>\n",
       "<caption>A matrix: 2 × 3 of type dbl</caption>\n",
       "<thead>\n",
       "\t<tr><th></th><th scope=col>estimate</th><th scope=col>lower</th><th scope=col>upper</th></tr>\n",
       "</thead>\n",
       "<tbody>\n",
       "\t<tr><th scope=row>F</th><td>1.000000</td><td>      NA</td><td>      NA</td></tr>\n",
       "\t<tr><th scope=row>M</th><td>1.041092</td><td>1.020085</td><td>1.062532</td></tr>\n",
       "</tbody>\n",
       "</table>\n",
       "</dd>\n",
       "\t<dt>$p.value</dt>\n",
       "\t\t<dd><table>\n",
       "<caption>A matrix: 2 × 3 of type dbl</caption>\n",
       "<thead>\n",
       "\t<tr><th></th><th scope=col>midp.exact</th><th scope=col>fisher.exact</th><th scope=col>chi.square</th></tr>\n",
       "</thead>\n",
       "<tbody>\n",
       "\t<tr><th scope=row>F</th><td>          NA</td><td>          NA</td><td>          NA</td></tr>\n",
       "\t<tr><th scope=row>M</th><td>9.631229e-05</td><td>9.888139e-05</td><td>9.405792e-05</td></tr>\n",
       "</tbody>\n",
       "</table>\n",
       "</dd>\n",
       "\t<dt>$correction</dt>\n",
       "\t\t<dd>FALSE</dd>\n",
       "</dl>\n"
      ],
      "text/latex": [
       "\\begin{description}\n",
       "\\item[\\$data] A matrix: 3 × 3 of type int\n",
       "\\begin{tabular}{r|lll}\n",
       "  & FALSE & TRUE & Total\\\\\n",
       "\\hline\n",
       "\tF & 2161 &  4705 &  6866\\\\\n",
       "\tM & 2789 &  6943 &  9732\\\\\n",
       "\tTotal & 4950 & 11648 & 16598\\\\\n",
       "\\end{tabular}\n",
       "\n",
       "\\item[\\$measure] A matrix: 2 × 3 of type dbl\n",
       "\\begin{tabular}{r|lll}\n",
       "  & estimate & lower & upper\\\\\n",
       "\\hline\n",
       "\tF & 1.000000 &       NA &       NA\\\\\n",
       "\tM & 1.041092 & 1.020085 & 1.062532\\\\\n",
       "\\end{tabular}\n",
       "\n",
       "\\item[\\$p.value] A matrix: 2 × 3 of type dbl\n",
       "\\begin{tabular}{r|lll}\n",
       "  & midp.exact & fisher.exact & chi.square\\\\\n",
       "\\hline\n",
       "\tF &           NA &           NA &           NA\\\\\n",
       "\tM & 9.631229e-05 & 9.888139e-05 & 9.405792e-05\\\\\n",
       "\\end{tabular}\n",
       "\n",
       "\\item[\\$correction] FALSE\n",
       "\\end{description}\n"
      ],
      "text/markdown": [
       "$data\n",
       ":   \n",
       "A matrix: 3 × 3 of type int\n",
       "\n",
       "| <!--/--> | FALSE | TRUE | Total |\n",
       "|---|---|---|---|\n",
       "| F | 2161 |  4705 |  6866 |\n",
       "| M | 2789 |  6943 |  9732 |\n",
       "| Total | 4950 | 11648 | 16598 |\n",
       "\n",
       "\n",
       "$measure\n",
       ":   \n",
       "A matrix: 2 × 3 of type dbl\n",
       "\n",
       "| <!--/--> | estimate | lower | upper |\n",
       "|---|---|---|---|\n",
       "| F | 1.000000 |       NA |       NA |\n",
       "| M | 1.041092 | 1.020085 | 1.062532 |\n",
       "\n",
       "\n",
       "$p.value\n",
       ":   \n",
       "A matrix: 2 × 3 of type dbl\n",
       "\n",
       "| <!--/--> | midp.exact | fisher.exact | chi.square |\n",
       "|---|---|---|---|\n",
       "| F |           NA |           NA |           NA |\n",
       "| M | 9.631229e-05 | 9.888139e-05 | 9.405792e-05 |\n",
       "\n",
       "\n",
       "$correction\n",
       ":   FALSE\n",
       "\n",
       "\n"
      ],
      "text/plain": [
       "$data\n",
       "      FALSE  TRUE Total\n",
       "F      2161  4705  6866\n",
       "M      2789  6943  9732\n",
       "Total  4950 11648 16598\n",
       "\n",
       "$measure\n",
       "                        NA\n",
       "risk ratio with 95% C.I. estimate    lower    upper\n",
       "                       F 1.000000       NA       NA\n",
       "                       M 1.041092 1.020085 1.062532\n",
       "\n",
       "$p.value\n",
       "         NA\n",
       "two-sided   midp.exact fisher.exact   chi.square\n",
       "        F           NA           NA           NA\n",
       "        M 9.631229e-05 9.888139e-05 9.405792e-05\n",
       "\n",
       "$correction\n",
       "[1] FALSE\n",
       "\n",
       "attr(,\"method\")\n",
       "[1] \"Unconditional MLE & normal approximation (Wald) CI\""
      ]
     },
     "metadata": {},
     "output_type": "display_data"
    }
   ],
   "source": [
    "output <- gender_df %>%\n",
    "    spread(MORETHAN24HOURS, COUNT) %>%\n",
    "    tibble::column_to_rownames(\"gender\") %>%\n",
    "    as.matrix() %>% riskratio()\n",
    "\n",
    "output"
   ]
  },
  {
   "cell_type": "code",
   "execution_count": 355,
   "metadata": {},
   "outputs": [],
   "source": [
    "all_rr_list[['MALE_RR']] <- output$measure %>%\n",
    "        data.frame() %>%\n",
    "        tibble::rownames_to_column(\"FILTER\") %>% filter(FILTER == 'M') %>%\n",
    "        mutate(ID = \"M\", p = output$p.value[\"M\",\"fisher.exact\"])"
   ]
  },
  {
   "cell_type": "markdown",
   "metadata": {},
   "source": [
    "### Race, greater risk for Black (chi-square, relative risk)\n",
    "- ASIAN (grepl ASIAN), BLACK (grepl BLACK), HISPANIC (grepl HISPANIC), WHITE (grepl WHITE)"
   ]
  },
  {
   "cell_type": "code",
   "execution_count": 356,
   "metadata": {
    "scrolled": true
   },
   "outputs": [
    {
     "name": "stderr",
     "output_type": "stream",
     "text": [
      "Warning message:\n",
      "“Grouping rowwise data frame strips rowwise nature”"
     ]
    }
   ],
   "source": [
    "race_df <- output_df %>%\n",
    "    rowwise() %>%\n",
    "    mutate(RACE = simplifyRace(ethnicity)) %>%\n",
    "    group_by(MORETHAN24HOURS, RACE) %>%\n",
    "    summarize(COUNT = n())"
   ]
  },
  {
   "cell_type": "markdown",
   "metadata": {},
   "source": [
    "#### Chi-Square (Significant) \"there is an interaction between race and response\""
   ]
  },
  {
   "cell_type": "code",
   "execution_count": 357,
   "metadata": {},
   "outputs": [
    {
     "data": {
      "text/plain": [
       "\n",
       "\tPearson's Chi-squared test\n",
       "\n",
       "data:  .\n",
       "X-squared = 11.889, df = 4, p-value = 0.0182\n"
      ]
     },
     "metadata": {},
     "output_type": "display_data"
    }
   ],
   "source": [
    "race_df %>%\n",
    "        spread(MORETHAN24HOURS, COUNT) %>%\n",
    "        tibble::column_to_rownames(\"RACE\") %>%\n",
    "        as.matrix() %>% chisq.test() "
   ]
  },
  {
   "cell_type": "markdown",
   "metadata": {},
   "source": [
    "#### Relative risk (Some significant) \"there is a different RR for X race compared to not X races for the response\""
   ]
  },
  {
   "cell_type": "code",
   "execution_count": 358,
   "metadata": {},
   "outputs": [
    {
     "name": "stdout",
     "output_type": "stream",
     "text": [
      "\n",
      "\n",
      "#### ASIAN ####\n",
      "\n",
      "$data\n",
      "      FALSE  TRUE Total\n",
      "FALSE  4810 11333 16143\n",
      "TRUE    140   315   455\n",
      "Total  4950 11648 16598\n",
      "\n",
      "$measure\n",
      "                        NA\n",
      "risk ratio with 95% C.I.  estimate     lower    upper\n",
      "                   FALSE 1.0000000        NA       NA\n",
      "                   TRUE  0.9861399 0.9267862 1.049295\n",
      "\n",
      "$p.value\n",
      "         NA\n",
      "two-sided midp.exact fisher.exact chi.square\n",
      "    FALSE         NA           NA         NA\n",
      "    TRUE   0.6512484    0.6776775  0.6545643\n",
      "\n",
      "$correction\n",
      "[1] FALSE\n",
      "\n",
      "attr(,\"method\")\n",
      "[1] \"Unconditional MLE & normal approximation (Wald) CI\"\n",
      "\n",
      "\n",
      "#### BLACK ####\n",
      "\n",
      "$data\n",
      "      FALSE  TRUE Total\n",
      "FALSE  4544 10538 15082\n",
      "TRUE    406  1110  1516\n",
      "Total  4950 11648 16598\n",
      "\n",
      "$measure\n",
      "                        NA\n",
      "risk ratio with 95% C.I. estimate    lower  upper\n",
      "                   FALSE 1.000000       NA     NA\n",
      "                   TRUE  1.047911 1.014709 1.0822\n",
      "\n",
      "$p.value\n",
      "         NA\n",
      "two-sided  midp.exact fisher.exact  chi.square\n",
      "    FALSE          NA           NA          NA\n",
      "    TRUE  0.006204903  0.006726395 0.006609335\n",
      "\n",
      "$correction\n",
      "[1] FALSE\n",
      "\n",
      "attr(,\"method\")\n",
      "[1] \"Unconditional MLE & normal approximation (Wald) CI\"\n",
      "\n",
      "\n",
      "#### HISPANIC ####\n",
      "\n",
      "$data\n",
      "      FALSE  TRUE Total\n",
      "FALSE  4813 11300 16113\n",
      "TRUE    137   348   485\n",
      "Total  4950 11648 16598\n",
      "\n",
      "$measure\n",
      "                        NA\n",
      "risk ratio with 95% C.I. estimate    lower    upper\n",
      "                   FALSE 1.000000       NA       NA\n",
      "                   TRUE  1.023141 0.966702 1.082875\n",
      "\n",
      "$p.value\n",
      "         NA\n",
      "two-sided midp.exact fisher.exact chi.square\n",
      "    FALSE         NA           NA         NA\n",
      "    TRUE    0.443606    0.4806835  0.4414563\n",
      "\n",
      "$correction\n",
      "[1] FALSE\n",
      "\n",
      "attr(,\"method\")\n",
      "[1] \"Unconditional MLE & normal approximation (Wald) CI\"\n",
      "\n",
      "\n",
      "#### WHITE ####\n",
      "\n",
      "$data\n",
      "      FALSE  TRUE Total\n",
      "FALSE  1453  3689  5142\n",
      "TRUE   3497  7959 11456\n",
      "Total  4950 11648 16598\n",
      "\n",
      "$measure\n",
      "                        NA\n",
      "risk ratio with 95% C.I.  estimate     lower     upper\n",
      "                   FALSE 1.0000000        NA        NA\n",
      "                   TRUE  0.9683869 0.9482496 0.9889519\n",
      "\n",
      "$p.value\n",
      "         NA\n",
      "two-sided  midp.exact fisher.exact  chi.square\n",
      "    FALSE          NA           NA          NA\n",
      "    TRUE  0.003071288  0.003139317 0.003142723\n",
      "\n",
      "$correction\n",
      "[1] FALSE\n",
      "\n",
      "attr(,\"method\")\n",
      "[1] \"Unconditional MLE & normal approximation (Wald) CI\"\n",
      "\n",
      "\n",
      "#### OTHER ####\n",
      "\n",
      "$data\n",
      "      FALSE  TRUE Total\n",
      "FALSE  4180  9732 13912\n",
      "TRUE    770  1916  2686\n",
      "Total  4950 11648 16598\n",
      "\n",
      "$measure\n",
      "                        NA\n",
      "risk ratio with 95% C.I. estimate     lower    upper\n",
      "                   FALSE 1.000000        NA       NA\n",
      "                   TRUE  1.019711 0.9932104 1.046918\n",
      "\n",
      "$p.value\n",
      "         NA\n",
      "two-sided midp.exact fisher.exact chi.square\n",
      "    FALSE         NA           NA         NA\n",
      "    TRUE   0.1521565    0.1599735  0.1526931\n",
      "\n",
      "$correction\n",
      "[1] FALSE\n",
      "\n",
      "attr(,\"method\")\n",
      "[1] \"Unconditional MLE & normal approximation (Wald) CI\"\n"
     ]
    }
   ],
   "source": [
    "rr_list <- list()\n",
    "for(race in races){\n",
    "   output <- race_df %>%\n",
    "        mutate(RACE_BOOL = RACE == race) %>%\n",
    "        group_by(RACE_BOOL, MORETHAN24HOURS) %>%\n",
    "        summarize(COUNT = sum(COUNT)) %>%\n",
    "        spread(MORETHAN24HOURS, COUNT) %>%\n",
    "        tibble::column_to_rownames(\"RACE_BOOL\") %>%\n",
    "        as.matrix() %>% riskratio() \n",
    "    rr_list[[race]] <- output$measure %>%\n",
    "        data.frame() %>%\n",
    "        tibble::rownames_to_column(\"FILTER\") %>% filter(FILTER == 'TRUE') %>%\n",
    "        mutate(ID = race, p = output$p.value[\"TRUE\",\"fisher.exact\"])\n",
    "    cat(\"\\n\\n####\", race, \"####\\n\\n\")\n",
    "    print(output)\n",
    "}\n"
   ]
  },
  {
   "cell_type": "code",
   "execution_count": 359,
   "metadata": {},
   "outputs": [],
   "source": [
    "all_rr_list[['RACE_RR']] <- bind_rows(rr_list)"
   ]
  },
  {
   "cell_type": "markdown",
   "metadata": {},
   "source": [
    "### Age effect strong for 30s (wilcox, chi-square, RR greater than, RR within group)"
   ]
  },
  {
   "cell_type": "code",
   "execution_count": 361,
   "metadata": {},
   "outputs": [],
   "source": [
    "age_df <- output_df %>%\n",
    "    group_by(MORETHAN24HOURS, age_cohort) %>%\n",
    "    summarize(COUNT = n()) %>%\n",
    "    drop_na(age_cohort)"
   ]
  },
  {
   "cell_type": "markdown",
   "metadata": {},
   "source": [
    "#### Wilcox (Significant) \"there is an interaction between age and response\""
   ]
  },
  {
   "cell_type": "code",
   "execution_count": 362,
   "metadata": {},
   "outputs": [
    {
     "data": {
      "text/plain": [
       "\n",
       "\tWilcoxon rank sum test with continuity correction\n",
       "\n",
       "data:  as.numeric(output_df$age) and as.numeric(output_df$MORETHAN24HOURS)\n",
       "W = 263808612, p-value < 2.2e-16\n",
       "alternative hypothesis: true location shift is not equal to 0\n"
      ]
     },
     "metadata": {},
     "output_type": "display_data"
    }
   ],
   "source": [
    "wilcox.test(as.numeric(output_df$age), as.numeric(output_df$MORETHAN24HOURS))"
   ]
  },
  {
   "cell_type": "markdown",
   "metadata": {},
   "source": [
    "#### Chi-square (Significant) \"there is an interaction between age cohort and response\""
   ]
  },
  {
   "cell_type": "code",
   "execution_count": 363,
   "metadata": {},
   "outputs": [
    {
     "data": {
      "text/plain": [
       "\n",
       "\tPearson's Chi-squared test\n",
       "\n",
       "data:  .\n",
       "X-squared = 143.81, df = 7, p-value < 2.2e-16\n"
      ]
     },
     "metadata": {},
     "output_type": "display_data"
    }
   ],
   "source": [
    "age_df %>%\n",
    "        spread(MORETHAN24HOURS, COUNT) %>%\n",
    "        tibble::column_to_rownames(\"age_cohort\") %>%\n",
    "        as.matrix() %>% chisq.test() "
   ]
  },
  {
   "cell_type": "markdown",
   "metadata": {},
   "source": [
    "#### Relative risk (Some significant) \"there is a different RR for X age cohort compared to not X age cohort for the response\"\n",
    "- People in their 30s tend to end up on pressors >24 hrs (not 20s, or >40+)"
   ]
  },
  {
   "cell_type": "code",
   "execution_count": 364,
   "metadata": {},
   "outputs": [
    {
     "name": "stdout",
     "output_type": "stream",
     "text": [
      "\n",
      "\n",
      "#### 20 ####\n",
      "\n",
      "$data\n",
      "      FALSE  TRUE Total\n",
      "FALSE  4633 11117 15750\n",
      "TRUE     51    93   144\n",
      "Total  4684 11210 15894\n",
      "\n",
      "$measure\n",
      "                        NA\n",
      "risk ratio with 95% C.I.  estimate     lower    upper\n",
      "                   FALSE 1.0000000        NA       NA\n",
      "                   TRUE  0.9149838 0.8104062 1.033056\n",
      "\n",
      "$p.value\n",
      "         NA\n",
      "two-sided midp.exact fisher.exact chi.square\n",
      "    FALSE         NA           NA         NA\n",
      "    TRUE   0.1210691    0.1190291  0.1158809\n",
      "\n",
      "$correction\n",
      "[1] FALSE\n",
      "\n",
      "attr(,\"method\")\n",
      "[1] \"Unconditional MLE & normal approximation (Wald) CI\"\n",
      "\n",
      "\n",
      "#### 30 ####\n",
      "\n",
      "$data\n",
      "      FALSE  TRUE Total\n",
      "FALSE  4586 10807 15393\n",
      "TRUE     98   403   501\n",
      "Total  4684 11210 15894\n",
      "\n",
      "$measure\n",
      "                        NA\n",
      "risk ratio with 95% C.I. estimate    lower    upper\n",
      "                   FALSE 1.000000       NA       NA\n",
      "                   TRUE  1.145738 1.095991 1.197743\n",
      "\n",
      "$p.value\n",
      "         NA\n",
      "two-sided   midp.exact fisher.exact  chi.square\n",
      "    FALSE           NA           NA          NA\n",
      "    TRUE  3.004746e-07 3.415331e-07 7.67012e-07\n",
      "\n",
      "$correction\n",
      "[1] FALSE\n",
      "\n",
      "attr(,\"method\")\n",
      "[1] \"Unconditional MLE & normal approximation (Wald) CI\"\n",
      "\n",
      "\n",
      "#### 40 ####\n",
      "\n",
      "$data\n",
      "      FALSE  TRUE Total\n",
      "FALSE  4489 10556 15045\n",
      "TRUE    195   654   849\n",
      "Total  4684 11210 15894\n",
      "\n",
      "$measure\n",
      "                        NA\n",
      "risk ratio with 95% C.I. estimate    lower    upper\n",
      "                   FALSE   1.0000       NA       NA\n",
      "                   TRUE    1.0979 1.056773 1.140628\n",
      "\n",
      "$p.value\n",
      "         NA\n",
      "two-sided  midp.exact fisher.exact   chi.square\n",
      "    FALSE          NA           NA           NA\n",
      "    TRUE  1.29104e-05 1.425673e-05 1.944565e-05\n",
      "\n",
      "$correction\n",
      "[1] FALSE\n",
      "\n",
      "attr(,\"method\")\n",
      "[1] \"Unconditional MLE & normal approximation (Wald) CI\"\n",
      "\n",
      "\n",
      "#### 50 ####\n",
      "\n",
      "$data\n",
      "      FALSE  TRUE Total\n",
      "FALSE  4106  9404 13510\n",
      "TRUE    578  1806  2384\n",
      "Total  4684 11210 15894\n",
      "\n",
      "$measure\n",
      "                        NA\n",
      "risk ratio with 95% C.I. estimate   lower    upper\n",
      "                   FALSE 1.000000      NA       NA\n",
      "                   TRUE  1.088314 1.06113 1.116194\n",
      "\n",
      "$p.value\n",
      "         NA\n",
      "two-sided   midp.exact fisher.exact   chi.square\n",
      "    FALSE           NA           NA           NA\n",
      "    TRUE  7.187433e-10 7.925967e-10 1.280842e-09\n",
      "\n",
      "$correction\n",
      "[1] FALSE\n",
      "\n",
      "attr(,\"method\")\n",
      "[1] \"Unconditional MLE & normal approximation (Wald) CI\"\n",
      "\n",
      "\n",
      "#### 60 ####\n",
      "\n",
      "$data\n",
      "      FALSE  TRUE Total\n",
      "FALSE  3667  8628 12295\n",
      "TRUE   1017  2582  3599\n",
      "Total  4684 11210 15894\n",
      "\n",
      "$measure\n",
      "                        NA\n",
      "risk ratio with 95% C.I. estimate     lower    upper\n",
      "                   FALSE 1.000000        NA       NA\n",
      "                   TRUE  1.022334 0.9985689 1.046665\n",
      "\n",
      "$p.value\n",
      "         NA\n",
      "two-sided midp.exact fisher.exact chi.square\n",
      "    FALSE         NA           NA         NA\n",
      "    TRUE  0.06919324   0.07057429 0.06969662\n",
      "\n",
      "$correction\n",
      "[1] FALSE\n",
      "\n",
      "attr(,\"method\")\n",
      "[1] \"Unconditional MLE & normal approximation (Wald) CI\"\n",
      "\n",
      "\n",
      "#### 70 ####\n",
      "\n",
      "$data\n",
      "      FALSE  TRUE Total\n",
      "FALSE  3522  8610 12132\n",
      "TRUE   1162  2600  3762\n",
      "Total  4684 11210 15894\n",
      "\n",
      "$measure\n",
      "                        NA\n",
      "risk ratio with 95% C.I.  estimate     lower     upper\n",
      "                   FALSE 1.0000000        NA        NA\n",
      "                   TRUE  0.9738315 0.9505428 0.9976908\n",
      "\n",
      "$p.value\n",
      "         NA\n",
      "two-sided midp.exact fisher.exact chi.square\n",
      "    FALSE         NA           NA         NA\n",
      "    TRUE  0.02947515   0.03004743 0.02904424\n",
      "\n",
      "$correction\n",
      "[1] FALSE\n",
      "\n",
      "attr(,\"method\")\n",
      "[1] \"Unconditional MLE & normal approximation (Wald) CI\"\n",
      "\n",
      "\n",
      "#### 80 ####\n",
      "\n",
      "$data\n",
      "      FALSE  TRUE Total\n",
      "FALSE  3407  8593 12000\n",
      "TRUE   1277  2617  3894\n",
      "Total  4684 11210 15894\n",
      "\n",
      "$measure\n",
      "                        NA\n",
      "risk ratio with 95% C.I.  estimate     lower     upper\n",
      "                   FALSE 1.0000000        NA        NA\n",
      "                   TRUE  0.9385215 0.9156571 0.9619568\n",
      "\n",
      "$p.value\n",
      "         NA\n",
      "two-sided   midp.exact fisher.exact   chi.square\n",
      "    FALSE           NA           NA           NA\n",
      "    TRUE  1.989303e-07 1.993538e-07 1.642934e-07\n",
      "\n",
      "$correction\n",
      "[1] FALSE\n",
      "\n",
      "attr(,\"method\")\n",
      "[1] \"Unconditional MLE & normal approximation (Wald) CI\"\n",
      "\n",
      "\n",
      "#### 90 ####\n",
      "\n",
      "$data\n",
      "      FALSE  TRUE Total\n",
      "FALSE  4378 10755 15133\n",
      "TRUE    306   455   761\n",
      "Total  4684 11210 15894\n",
      "\n",
      "$measure\n",
      "                        NA\n",
      "risk ratio with 95% C.I.  estimate     lower     upper\n",
      "                   FALSE 1.0000000        NA        NA\n",
      "                   TRUE  0.8412815 0.7929664 0.8925405\n",
      "\n",
      "$p.value\n",
      "         NA\n",
      "two-sided   midp.exact fisher.exact   chi.square\n",
      "    FALSE           NA           NA           NA\n",
      "    TRUE  9.291179e-11 9.915741e-11 2.738617e-11\n",
      "\n",
      "$correction\n",
      "[1] FALSE\n",
      "\n",
      "attr(,\"method\")\n",
      "[1] \"Unconditional MLE & normal approximation (Wald) CI\"\n"
     ]
    }
   ],
   "source": [
    "rr_list <- list()\n",
    "for(ac in unique(age_df$age_cohort)){\n",
    "   output <- age_df %>%\n",
    "        mutate(AGE_BOOL = age_cohort == ac) %>%\n",
    "        group_by(AGE_BOOL, MORETHAN24HOURS) %>%\n",
    "        summarize(COUNT = sum(COUNT)) %>%\n",
    "        spread(MORETHAN24HOURS, COUNT) %>%\n",
    "        tibble::column_to_rownames(\"AGE_BOOL\") %>%\n",
    "        as.matrix() %>% riskratio() \n",
    "    rr_list[[ac]] <- output$measure %>%\n",
    "        data.frame() %>%\n",
    "        tibble::rownames_to_column(\"FILTER\") %>% filter(FILTER == 'TRUE') %>%\n",
    "        mutate(ID = as.character(ac), p = output$p.value[\"TRUE\",\"fisher.exact\"])\n",
    "    cat(\"\\n\\n####\", ac, \"####\\n\\n\")\n",
    "    print(output)\n",
    "}"
   ]
  },
  {
   "cell_type": "code",
   "execution_count": 365,
   "metadata": {},
   "outputs": [],
   "source": [
    "all_rr_list[['AGE_RR']] <- bind_rows(rr_list)"
   ]
  },
  {
   "cell_type": "markdown",
   "metadata": {},
   "source": [
    "#### Relative risk (Some significant) \"there is a different RR for X > age cohort compared to X < age cohort for the response\"\n",
    "- People in their 20-40s tend to end up on pressors >24 hrs (not <20s, or >40s)"
   ]
  },
  {
   "cell_type": "code",
   "execution_count": 367,
   "metadata": {},
   "outputs": [
    {
     "name": "stdout",
     "output_type": "stream",
     "text": [
      "\n",
      "\n",
      "#### greater than 20 ####\n",
      "\n",
      "$data\n",
      "      FALSE  TRUE Total\n",
      "FALSE    51    93   144\n",
      "TRUE   4633 11117 15750\n",
      "Total  4684 11210 15894\n",
      "\n",
      "$measure\n",
      "                        NA\n",
      "risk ratio with 95% C.I. estimate     lower    upper\n",
      "                   FALSE 1.000000        NA       NA\n",
      "                   TRUE  1.092916 0.9680013 1.233949\n",
      "\n",
      "$p.value\n",
      "         NA\n",
      "two-sided midp.exact fisher.exact chi.square\n",
      "    FALSE         NA           NA         NA\n",
      "    TRUE   0.1210691    0.1190291  0.1158809\n",
      "\n",
      "$correction\n",
      "[1] FALSE\n",
      "\n",
      "attr(,\"method\")\n",
      "[1] \"Unconditional MLE & normal approximation (Wald) CI\"\n",
      "\n",
      "\n",
      "#### greater than 30 ####\n",
      "\n",
      "$data\n",
      "      FALSE  TRUE Total\n",
      "FALSE   149   496   645\n",
      "TRUE   4535 10714 15249\n",
      "Total  4684 11210 15894\n",
      "\n",
      "$measure\n",
      "                        NA\n",
      "risk ratio with 95% C.I.  estimate   lower     upper\n",
      "                   FALSE 1.0000000      NA        NA\n",
      "                   TRUE  0.9136678 0.87474 0.9543279\n",
      "\n",
      "$p.value\n",
      "         NA\n",
      "two-sided   midp.exact fisher.exact   chi.square\n",
      "    FALSE           NA           NA           NA\n",
      "    TRUE  0.0002191915 0.0002473612 0.0002918418\n",
      "\n",
      "$correction\n",
      "[1] FALSE\n",
      "\n",
      "attr(,\"method\")\n",
      "[1] \"Unconditional MLE & normal approximation (Wald) CI\"\n",
      "\n",
      "\n",
      "#### greater than 40 ####\n",
      "\n",
      "$data\n",
      "      FALSE  TRUE Total\n",
      "FALSE   344  1150  1494\n",
      "TRUE   4340 10060 14400\n",
      "Total  4684 11210 15894\n",
      "\n",
      "$measure\n",
      "                        NA\n",
      "risk ratio with 95% C.I. estimate     lower     upper\n",
      "                   FALSE 1.000000        NA        NA\n",
      "                   TRUE  0.907587 0.8809963 0.9349802\n",
      "\n",
      "$p.value\n",
      "         NA\n",
      "two-sided   midp.exact fisher.exact   chi.square\n",
      "    FALSE           NA           NA           NA\n",
      "    TRUE  4.640872e-09 4.874805e-09 9.445127e-09\n",
      "\n",
      "$correction\n",
      "[1] FALSE\n",
      "\n",
      "attr(,\"method\")\n",
      "[1] \"Unconditional MLE & normal approximation (Wald) CI\"\n",
      "\n",
      "\n",
      "#### greater than 50 ####\n",
      "\n",
      "$data\n",
      "      FALSE  TRUE Total\n",
      "FALSE   922  2956  3878\n",
      "TRUE   3762  8254 12016\n",
      "Total  4684 11210 15894\n",
      "\n",
      "$measure\n",
      "                        NA\n",
      "risk ratio with 95% C.I.  estimate   lower     upper\n",
      "                   FALSE 1.0000000      NA        NA\n",
      "                   TRUE  0.9011725 0.88216 0.9205947\n",
      "\n",
      "$p.value\n",
      "         NA\n",
      "two-sided midp.exact fisher.exact   chi.square\n",
      "    FALSE         NA           NA           NA\n",
      "    TRUE           0 1.232151e-19 3.662084e-19\n",
      "\n",
      "$correction\n",
      "[1] FALSE\n",
      "\n",
      "attr(,\"method\")\n",
      "[1] \"Unconditional MLE & normal approximation (Wald) CI\"\n",
      "\n",
      "\n",
      "#### greater than 60 ####\n",
      "\n",
      "$data\n",
      "      FALSE  TRUE Total\n",
      "FALSE  1939  5538  7477\n",
      "TRUE   2745  5672  8417\n",
      "Total  4684 11210 15894\n",
      "\n",
      "$measure\n",
      "                        NA\n",
      "risk ratio with 95% C.I.  estimate    lower     upper\n",
      "                   FALSE 1.0000000       NA        NA\n",
      "                   TRUE  0.9098155 0.891783 0.9282126\n",
      "\n",
      "$p.value\n",
      "         NA\n",
      "two-sided midp.exact fisher.exact   chi.square\n",
      "    FALSE         NA           NA           NA\n",
      "    TRUE           0 2.780929e-20 2.986138e-20\n",
      "\n",
      "$correction\n",
      "[1] FALSE\n",
      "\n",
      "attr(,\"method\")\n",
      "[1] \"Unconditional MLE & normal approximation (Wald) CI\"\n",
      "\n",
      "\n",
      "#### greater than 70 ####\n",
      "\n",
      "$data\n",
      "      FALSE  TRUE Total\n",
      "FALSE  3101  8138 11239\n",
      "TRUE   1583  3072  4655\n",
      "Total  4684 11210 15894\n",
      "\n",
      "$measure\n",
      "                        NA\n",
      "risk ratio with 95% C.I.  estimate     lower    upper\n",
      "                   FALSE 1.0000000        NA       NA\n",
      "                   TRUE  0.9114052 0.8901757 0.933141\n",
      "\n",
      "$p.value\n",
      "         NA\n",
      "two-sided   midp.exact fisher.exact   chi.square\n",
      "    FALSE           NA           NA           NA\n",
      "    TRUE  1.110223e-15 1.269199e-15 6.867285e-16\n",
      "\n",
      "$correction\n",
      "[1] FALSE\n",
      "\n",
      "attr(,\"method\")\n",
      "[1] \"Unconditional MLE & normal approximation (Wald) CI\"\n",
      "\n",
      "\n",
      "#### greater than 80 ####\n",
      "\n",
      "$data\n",
      "      FALSE  TRUE Total\n",
      "FALSE  4378 10755 15133\n",
      "TRUE    306   455   761\n",
      "Total  4684 11210 15894\n",
      "\n",
      "$measure\n",
      "                        NA\n",
      "risk ratio with 95% C.I.  estimate     lower     upper\n",
      "                   FALSE 1.0000000        NA        NA\n",
      "                   TRUE  0.8412815 0.7929664 0.8925405\n",
      "\n",
      "$p.value\n",
      "         NA\n",
      "two-sided   midp.exact fisher.exact   chi.square\n",
      "    FALSE           NA           NA           NA\n",
      "    TRUE  9.291179e-11 9.915741e-11 2.738617e-11\n",
      "\n",
      "$correction\n",
      "[1] FALSE\n",
      "\n",
      "attr(,\"method\")\n",
      "[1] \"Unconditional MLE & normal approximation (Wald) CI\"\n"
     ]
    },
    {
     "ename": "ERROR",
     "evalue": "Error in nrow(x): object 'x' not found\n",
     "output_type": "error",
     "traceback": [
      "Error in nrow(x): object 'x' not found\nTraceback:\n",
      "1. age_df %>% mutate(AGE_BOOL = age_cohort > ac) %>% group_by(AGE_BOOL, \n .     MORETHAN24HOURS) %>% summarize(COUNT = sum(COUNT)) %>% spread(MORETHAN24HOURS, \n .     COUNT) %>% tibble::column_to_rownames(\"AGE_BOOL\") %>% as.matrix() %>% \n .     riskratio()",
      "2. withVisible(eval(quote(`_fseq`(`_lhs`)), env, env))",
      "3. eval(quote(`_fseq`(`_lhs`)), env, env)",
      "4. eval(quote(`_fseq`(`_lhs`)), env, env)",
      "5. `_fseq`(`_lhs`)",
      "6. freduce(value, `_function_list`)",
      "7. withVisible(function_list[[k]](value))",
      "8. function_list[[k]](value)",
      "9. riskratio(.)",
      "10. epitable(x, rev = rev)",
      "11. nrow(x)"
     ]
    }
   ],
   "source": [
    "for(ac in unique(age_df$age_cohort)){\n",
    "   output <- age_df %>%\n",
    "        mutate(AGE_BOOL = age_cohort > ac) %>%\n",
    "        group_by(AGE_BOOL, MORETHAN24HOURS) %>%\n",
    "        summarize(COUNT = sum(COUNT)) %>%\n",
    "        spread(MORETHAN24HOURS, COUNT) %>%\n",
    "        tibble::column_to_rownames(\"AGE_BOOL\") %>%\n",
    "        as.matrix() %>% riskratio() \n",
    "    cat(\"\\n\\n####\", 'greater than', ac, \"####\\n\\n\")\n",
    "    print(output)\n",
    "}"
   ]
  },
  {
   "cell_type": "markdown",
   "metadata": {},
   "source": [
    "### Infectious diagnosis are associated with longer pressor times (chi-square, relative risk)"
   ]
  },
  {
   "cell_type": "code",
   "execution_count": 368,
   "metadata": {},
   "outputs": [
    {
     "data": {
      "text/html": [
       "<table>\n",
       "<caption>A tibble: 2560 × 2</caption>\n",
       "<thead>\n",
       "\t<tr><th scope=col>diagnosis</th><th scope=col>COUNT</th></tr>\n",
       "\t<tr><th scope=col>&lt;fct&gt;</th><th scope=col>&lt;int&gt;</th></tr>\n",
       "</thead>\n",
       "<tbody>\n",
       "\t<tr><td>SEPSIS                                                   </td><td>1247</td></tr>\n",
       "\t<tr><td>PNEUMONIA                                                </td><td> 849</td></tr>\n",
       "\t<tr><td>CONGESTIVE HEART FAILURE                                 </td><td> 443</td></tr>\n",
       "\t<tr><td>HYPOTENSION                                              </td><td> 327</td></tr>\n",
       "\t<tr><td>PANCREATITIS                                             </td><td> 314</td></tr>\n",
       "\t<tr><td>SUBARACHNOID HEMORRHAGE                                  </td><td> 308</td></tr>\n",
       "\t<tr><td>FEVER                                                    </td><td> 288</td></tr>\n",
       "\t<tr><td>ABDOMINAL PAIN                                           </td><td> 279</td></tr>\n",
       "\t<tr><td>CORONARY ARTERY DISEASE                                  </td><td> 245</td></tr>\n",
       "\t<tr><td>CHEST PAIN                                               </td><td> 209</td></tr>\n",
       "\t<tr><td>ALTERED MENTAL STATUS                                    </td><td> 202</td></tr>\n",
       "\t<tr><td>UPPER GI BLEED                                           </td><td> 143</td></tr>\n",
       "\t<tr><td>ACUTE RENAL FAILURE                                      </td><td> 142</td></tr>\n",
       "\t<tr><td>CARDIAC ARREST                                           </td><td> 128</td></tr>\n",
       "\t<tr><td>GASTROINTESTINAL BLEED                                   </td><td> 127</td></tr>\n",
       "\t<tr><td>LIVER FAILURE                                            </td><td> 100</td></tr>\n",
       "\t<tr><td>RESPIRATORY FAILURE                                      </td><td>  97</td></tr>\n",
       "\t<tr><td>S/P FALL                                                 </td><td>  88</td></tr>\n",
       "\t<tr><td>INTRACRANIAL HEMORRHAGE                                  </td><td>  87</td></tr>\n",
       "\t<tr><td>CORONARY ARTERY DISEASE\\CORONARY ARTERY BYPASS GRAFT/SDA</td><td>  82</td></tr>\n",
       "\t<tr><td>UROSEPSIS                                                </td><td>  80</td></tr>\n",
       "\t<tr><td>NON HODGKINS LYMPHOMA\\BONE MARROW TRANSPLANT            </td><td>  77</td></tr>\n",
       "\t<tr><td>WOUND INFECTION                                          </td><td>  73</td></tr>\n",
       "\t<tr><td>CORONARY ARTERY DISEASE\\CATH                            </td><td>  67</td></tr>\n",
       "\t<tr><td>CHOLANGITIS                                              </td><td>  64</td></tr>\n",
       "\t<tr><td>SMALL BOWEL OBSTRUCTION                                  </td><td>  63</td></tr>\n",
       "\t<tr><td>RENAL FAILURE                                            </td><td>  60</td></tr>\n",
       "\t<tr><td>ACUTE CORONARY SYNDROME                                  </td><td>  55</td></tr>\n",
       "\t<tr><td>SEIZURE                                                  </td><td>  54</td></tr>\n",
       "\t<tr><td>SEPTIC SHOCK                                             </td><td>  54</td></tr>\n",
       "\t<tr><td>⋮</td><td>⋮</td></tr>\n",
       "\t<tr><td>URINARY TRACT INFECTION;SEPSIS                                                     </td><td>1</td></tr>\n",
       "\t<tr><td>UROSEPSIS,DEHYDRATION                                                              </td><td>1</td></tr>\n",
       "\t<tr><td>UROSEPSIS,PNEUMONIA,R/O MI                                                         </td><td>1</td></tr>\n",
       "\t<tr><td>UROSEPSIS;DIABETIC KETOACIDOSIS                                                    </td><td>1</td></tr>\n",
       "\t<tr><td>UROSEPSIS;HYPOTHERMIA                                                              </td><td>1</td></tr>\n",
       "\t<tr><td>UROSEPSIS;PANCREATITIS                                                             </td><td>1</td></tr>\n",
       "\t<tr><td>UROSEPSIS;RESPIRATORY DISTRESS                                                     </td><td>1</td></tr>\n",
       "\t<tr><td>UROSEPSIS;TELEMETRY                                                                </td><td>1</td></tr>\n",
       "\t<tr><td>UROSPEPSIS                                                                         </td><td>1</td></tr>\n",
       "\t<tr><td>UTERINE MALIGNANCY/SDA                                                             </td><td>1</td></tr>\n",
       "\t<tr><td>UTERINE TUMOR/BILATERAL HYDRONEPHROSIS                                             </td><td>1</td></tr>\n",
       "\t<tr><td>UTI/URINARY RETENTION                                                              </td><td>1</td></tr>\n",
       "\t<tr><td>V TACH                                                                             </td><td>1</td></tr>\n",
       "\t<tr><td>V-F ARREST                                                                         </td><td>1</td></tr>\n",
       "\t<tr><td>V-TACH,FEVER                                                                       </td><td>1</td></tr>\n",
       "\t<tr><td>VARICEAL BLEEDING                                                                  </td><td>1</td></tr>\n",
       "\t<tr><td>VENTRICULAR FIBRILLATION\\ICD                                                      </td><td>1</td></tr>\n",
       "\t<tr><td>VENTRICULAR TACHYCARDIA;ISCHEMIA\\CARDIAC CATHETERIZATION                          </td><td>1</td></tr>\n",
       "\t<tr><td>VENTRICULAR TACHYCARDIA\\VENTRICULAR TACHYCARDIA ABLATION  **REMOTE WEST**         </td><td>1</td></tr>\n",
       "\t<tr><td>VER AETNA PER NEHEN 020807 PTB\\CHEMO HIGH DOSE INTERLEUKIN-2)                     </td><td>1</td></tr>\n",
       "\t<tr><td>VF ARREST\\CATH                                                                    </td><td>1</td></tr>\n",
       "\t<tr><td>VIRAL MENINGITIS                                                                   </td><td>1</td></tr>\n",
       "\t<tr><td>VOMITING;DEHYDRATION                                                               </td><td>1</td></tr>\n",
       "\t<tr><td>VOMITTING                                                                          </td><td>1</td></tr>\n",
       "\t<tr><td>VY36PH\\CORONARY ARTERY BYPASS GRAFT/SDA                                           </td><td>1</td></tr>\n",
       "\t<tr><td>WEAKNESS, DIARRHEA                                                                 </td><td>1</td></tr>\n",
       "\t<tr><td>WEAKNESS;DEHYDRATION                                                               </td><td>1</td></tr>\n",
       "\t<tr><td>WEAKNESS;RULE-OUT MYOCARDIAL INFARCTION;TELEMETRY                                  </td><td>1</td></tr>\n",
       "\t<tr><td>WEAKNESS;TELEMTRY                                                                  </td><td>1</td></tr>\n",
       "\t<tr><td>WORSENING DYSPNEA ON EXERTION;AORTIC STENOSIS\\RIGHT AND LEFT HEART CATHETERIZATION</td><td>1</td></tr>\n",
       "</tbody>\n",
       "</table>\n"
      ],
      "text/latex": [
       "A tibble: 2560 × 2\n",
       "\\begin{tabular}{r|ll}\n",
       " diagnosis & COUNT\\\\\n",
       " <fct> & <int>\\\\\n",
       "\\hline\n",
       "\t SEPSIS                                                    & 1247\\\\\n",
       "\t PNEUMONIA                                                 &  849\\\\\n",
       "\t CONGESTIVE HEART FAILURE                                  &  443\\\\\n",
       "\t HYPOTENSION                                               &  327\\\\\n",
       "\t PANCREATITIS                                              &  314\\\\\n",
       "\t SUBARACHNOID HEMORRHAGE                                   &  308\\\\\n",
       "\t FEVER                                                     &  288\\\\\n",
       "\t ABDOMINAL PAIN                                            &  279\\\\\n",
       "\t CORONARY ARTERY DISEASE                                   &  245\\\\\n",
       "\t CHEST PAIN                                                &  209\\\\\n",
       "\t ALTERED MENTAL STATUS                                     &  202\\\\\n",
       "\t UPPER GI BLEED                                            &  143\\\\\n",
       "\t ACUTE RENAL FAILURE                                       &  142\\\\\n",
       "\t CARDIAC ARREST                                            &  128\\\\\n",
       "\t GASTROINTESTINAL BLEED                                    &  127\\\\\n",
       "\t LIVER FAILURE                                             &  100\\\\\n",
       "\t RESPIRATORY FAILURE                                       &   97\\\\\n",
       "\t S/P FALL                                                  &   88\\\\\n",
       "\t INTRACRANIAL HEMORRHAGE                                   &   87\\\\\n",
       "\t CORONARY ARTERY DISEASE\\textbackslash{}CORONARY ARTERY BYPASS GRAFT/SDA &   82\\\\\n",
       "\t UROSEPSIS                                                 &   80\\\\\n",
       "\t NON HODGKINS LYMPHOMA\\textbackslash{}BONE MARROW TRANSPLANT             &   77\\\\\n",
       "\t WOUND INFECTION                                           &   73\\\\\n",
       "\t CORONARY ARTERY DISEASE\\textbackslash{}CATH                             &   67\\\\\n",
       "\t CHOLANGITIS                                               &   64\\\\\n",
       "\t SMALL BOWEL OBSTRUCTION                                   &   63\\\\\n",
       "\t RENAL FAILURE                                             &   60\\\\\n",
       "\t ACUTE CORONARY SYNDROME                                   &   55\\\\\n",
       "\t SEIZURE                                                   &   54\\\\\n",
       "\t SEPTIC SHOCK                                              &   54\\\\\n",
       "\t ⋮ & ⋮\\\\\n",
       "\t URINARY TRACT INFECTION;SEPSIS                                                      & 1\\\\\n",
       "\t UROSEPSIS,DEHYDRATION                                                               & 1\\\\\n",
       "\t UROSEPSIS,PNEUMONIA,R/O MI                                                          & 1\\\\\n",
       "\t UROSEPSIS;DIABETIC KETOACIDOSIS                                                     & 1\\\\\n",
       "\t UROSEPSIS;HYPOTHERMIA                                                               & 1\\\\\n",
       "\t UROSEPSIS;PANCREATITIS                                                              & 1\\\\\n",
       "\t UROSEPSIS;RESPIRATORY DISTRESS                                                      & 1\\\\\n",
       "\t UROSEPSIS;TELEMETRY                                                                 & 1\\\\\n",
       "\t UROSPEPSIS                                                                          & 1\\\\\n",
       "\t UTERINE MALIGNANCY/SDA                                                              & 1\\\\\n",
       "\t UTERINE TUMOR/BILATERAL HYDRONEPHROSIS                                              & 1\\\\\n",
       "\t UTI/URINARY RETENTION                                                               & 1\\\\\n",
       "\t V TACH                                                                              & 1\\\\\n",
       "\t V-F ARREST                                                                          & 1\\\\\n",
       "\t V-TACH,FEVER                                                                        & 1\\\\\n",
       "\t VARICEAL BLEEDING                                                                   & 1\\\\\n",
       "\t VENTRICULAR FIBRILLATION\\textbackslash{}ICD                                                       & 1\\\\\n",
       "\t VENTRICULAR TACHYCARDIA;ISCHEMIA\\textbackslash{}CARDIAC CATHETERIZATION                           & 1\\\\\n",
       "\t VENTRICULAR TACHYCARDIA\\textbackslash{}VENTRICULAR TACHYCARDIA ABLATION  **REMOTE WEST**          & 1\\\\\n",
       "\t VER AETNA PER NEHEN 020807 PTB\\textbackslash{}CHEMO HIGH DOSE INTERLEUKIN-2)                      & 1\\\\\n",
       "\t VF ARREST\\textbackslash{}CATH                                                                     & 1\\\\\n",
       "\t VIRAL MENINGITIS                                                                    & 1\\\\\n",
       "\t VOMITING;DEHYDRATION                                                                & 1\\\\\n",
       "\t VOMITTING                                                                           & 1\\\\\n",
       "\t VY36PH\\textbackslash{}CORONARY ARTERY BYPASS GRAFT/SDA                                            & 1\\\\\n",
       "\t WEAKNESS, DIARRHEA                                                                  & 1\\\\\n",
       "\t WEAKNESS;DEHYDRATION                                                                & 1\\\\\n",
       "\t WEAKNESS;RULE-OUT MYOCARDIAL INFARCTION;TELEMETRY                                   & 1\\\\\n",
       "\t WEAKNESS;TELEMTRY                                                                   & 1\\\\\n",
       "\t WORSENING DYSPNEA ON EXERTION;AORTIC STENOSIS\\textbackslash{}RIGHT AND LEFT HEART CATHETERIZATION & 1\\\\\n",
       "\\end{tabular}\n"
      ],
      "text/markdown": [
       "\n",
       "A tibble: 2560 × 2\n",
       "\n",
       "| diagnosis &lt;fct&gt; | COUNT &lt;int&gt; |\n",
       "|---|---|\n",
       "| SEPSIS                                                    | 1247 |\n",
       "| PNEUMONIA                                                 |  849 |\n",
       "| CONGESTIVE HEART FAILURE                                  |  443 |\n",
       "| HYPOTENSION                                               |  327 |\n",
       "| PANCREATITIS                                              |  314 |\n",
       "| SUBARACHNOID HEMORRHAGE                                   |  308 |\n",
       "| FEVER                                                     |  288 |\n",
       "| ABDOMINAL PAIN                                            |  279 |\n",
       "| CORONARY ARTERY DISEASE                                   |  245 |\n",
       "| CHEST PAIN                                                |  209 |\n",
       "| ALTERED MENTAL STATUS                                     |  202 |\n",
       "| UPPER GI BLEED                                            |  143 |\n",
       "| ACUTE RENAL FAILURE                                       |  142 |\n",
       "| CARDIAC ARREST                                            |  128 |\n",
       "| GASTROINTESTINAL BLEED                                    |  127 |\n",
       "| LIVER FAILURE                                             |  100 |\n",
       "| RESPIRATORY FAILURE                                       |   97 |\n",
       "| S/P FALL                                                  |   88 |\n",
       "| INTRACRANIAL HEMORRHAGE                                   |   87 |\n",
       "| CORONARY ARTERY DISEASE\\CORONARY ARTERY BYPASS GRAFT/SDA |   82 |\n",
       "| UROSEPSIS                                                 |   80 |\n",
       "| NON HODGKINS LYMPHOMA\\BONE MARROW TRANSPLANT             |   77 |\n",
       "| WOUND INFECTION                                           |   73 |\n",
       "| CORONARY ARTERY DISEASE\\CATH                             |   67 |\n",
       "| CHOLANGITIS                                               |   64 |\n",
       "| SMALL BOWEL OBSTRUCTION                                   |   63 |\n",
       "| RENAL FAILURE                                             |   60 |\n",
       "| ACUTE CORONARY SYNDROME                                   |   55 |\n",
       "| SEIZURE                                                   |   54 |\n",
       "| SEPTIC SHOCK                                              |   54 |\n",
       "| ⋮ | ⋮ |\n",
       "| URINARY TRACT INFECTION;SEPSIS                                                      | 1 |\n",
       "| UROSEPSIS,DEHYDRATION                                                               | 1 |\n",
       "| UROSEPSIS,PNEUMONIA,R/O MI                                                          | 1 |\n",
       "| UROSEPSIS;DIABETIC KETOACIDOSIS                                                     | 1 |\n",
       "| UROSEPSIS;HYPOTHERMIA                                                               | 1 |\n",
       "| UROSEPSIS;PANCREATITIS                                                              | 1 |\n",
       "| UROSEPSIS;RESPIRATORY DISTRESS                                                      | 1 |\n",
       "| UROSEPSIS;TELEMETRY                                                                 | 1 |\n",
       "| UROSPEPSIS                                                                          | 1 |\n",
       "| UTERINE MALIGNANCY/SDA                                                              | 1 |\n",
       "| UTERINE TUMOR/BILATERAL HYDRONEPHROSIS                                              | 1 |\n",
       "| UTI/URINARY RETENTION                                                               | 1 |\n",
       "| V TACH                                                                              | 1 |\n",
       "| V-F ARREST                                                                          | 1 |\n",
       "| V-TACH,FEVER                                                                        | 1 |\n",
       "| VARICEAL BLEEDING                                                                   | 1 |\n",
       "| VENTRICULAR FIBRILLATION\\ICD                                                       | 1 |\n",
       "| VENTRICULAR TACHYCARDIA;ISCHEMIA\\CARDIAC CATHETERIZATION                           | 1 |\n",
       "| VENTRICULAR TACHYCARDIA\\VENTRICULAR TACHYCARDIA ABLATION  **REMOTE WEST**          | 1 |\n",
       "| VER AETNA PER NEHEN 020807 PTB\\CHEMO HIGH DOSE INTERLEUKIN-2)                      | 1 |\n",
       "| VF ARREST\\CATH                                                                     | 1 |\n",
       "| VIRAL MENINGITIS                                                                    | 1 |\n",
       "| VOMITING;DEHYDRATION                                                                | 1 |\n",
       "| VOMITTING                                                                           | 1 |\n",
       "| VY36PH\\CORONARY ARTERY BYPASS GRAFT/SDA                                            | 1 |\n",
       "| WEAKNESS, DIARRHEA                                                                  | 1 |\n",
       "| WEAKNESS;DEHYDRATION                                                                | 1 |\n",
       "| WEAKNESS;RULE-OUT MYOCARDIAL INFARCTION;TELEMETRY                                   | 1 |\n",
       "| WEAKNESS;TELEMTRY                                                                   | 1 |\n",
       "| WORSENING DYSPNEA ON EXERTION;AORTIC STENOSIS\\RIGHT AND LEFT HEART CATHETERIZATION | 1 |\n",
       "\n"
      ],
      "text/plain": [
       "     diagnosis                                                                          \n",
       "1    SEPSIS                                                                             \n",
       "2    PNEUMONIA                                                                          \n",
       "3    CONGESTIVE HEART FAILURE                                                           \n",
       "4    HYPOTENSION                                                                        \n",
       "5    PANCREATITIS                                                                       \n",
       "6    SUBARACHNOID HEMORRHAGE                                                            \n",
       "7    FEVER                                                                              \n",
       "8    ABDOMINAL PAIN                                                                     \n",
       "9    CORONARY ARTERY DISEASE                                                            \n",
       "10   CHEST PAIN                                                                         \n",
       "11   ALTERED MENTAL STATUS                                                              \n",
       "12   UPPER GI BLEED                                                                     \n",
       "13   ACUTE RENAL FAILURE                                                                \n",
       "14   CARDIAC ARREST                                                                     \n",
       "15   GASTROINTESTINAL BLEED                                                             \n",
       "16   LIVER FAILURE                                                                      \n",
       "17   RESPIRATORY FAILURE                                                                \n",
       "18   S/P FALL                                                                           \n",
       "19   INTRACRANIAL HEMORRHAGE                                                            \n",
       "20   CORONARY ARTERY DISEASE\\\\CORONARY ARTERY BYPASS GRAFT/SDA                          \n",
       "21   UROSEPSIS                                                                          \n",
       "22   NON HODGKINS LYMPHOMA\\\\BONE MARROW TRANSPLANT                                      \n",
       "23   WOUND INFECTION                                                                    \n",
       "24   CORONARY ARTERY DISEASE\\\\CATH                                                      \n",
       "25   CHOLANGITIS                                                                        \n",
       "26   SMALL BOWEL OBSTRUCTION                                                            \n",
       "27   RENAL FAILURE                                                                      \n",
       "28   ACUTE CORONARY SYNDROME                                                            \n",
       "29   SEIZURE                                                                            \n",
       "30   SEPTIC SHOCK                                                                       \n",
       "⋮    ⋮                                                                                  \n",
       "2531 URINARY TRACT INFECTION;SEPSIS                                                     \n",
       "2532 UROSEPSIS,DEHYDRATION                                                              \n",
       "2533 UROSEPSIS,PNEUMONIA,R/O MI                                                         \n",
       "2534 UROSEPSIS;DIABETIC KETOACIDOSIS                                                    \n",
       "2535 UROSEPSIS;HYPOTHERMIA                                                              \n",
       "2536 UROSEPSIS;PANCREATITIS                                                             \n",
       "2537 UROSEPSIS;RESPIRATORY DISTRESS                                                     \n",
       "2538 UROSEPSIS;TELEMETRY                                                                \n",
       "2539 UROSPEPSIS                                                                         \n",
       "2540 UTERINE MALIGNANCY/SDA                                                             \n",
       "2541 UTERINE TUMOR/BILATERAL HYDRONEPHROSIS                                             \n",
       "2542 UTI/URINARY RETENTION                                                              \n",
       "2543 V TACH                                                                             \n",
       "2544 V-F ARREST                                                                         \n",
       "2545 V-TACH,FEVER                                                                       \n",
       "2546 VARICEAL BLEEDING                                                                  \n",
       "2547 VENTRICULAR FIBRILLATION\\\\ICD                                                      \n",
       "2548 VENTRICULAR TACHYCARDIA;ISCHEMIA\\\\CARDIAC CATHETERIZATION                          \n",
       "2549 VENTRICULAR TACHYCARDIA\\\\VENTRICULAR TACHYCARDIA ABLATION  **REMOTE WEST**         \n",
       "2550 VER AETNA PER NEHEN 020807 PTB\\\\CHEMO HIGH DOSE INTERLEUKIN-2)                     \n",
       "2551 VF ARREST\\\\CATH                                                                    \n",
       "2552 VIRAL MENINGITIS                                                                   \n",
       "2553 VOMITING;DEHYDRATION                                                               \n",
       "2554 VOMITTING                                                                          \n",
       "2555 VY36PH\\\\CORONARY ARTERY BYPASS GRAFT/SDA                                           \n",
       "2556 WEAKNESS, DIARRHEA                                                                 \n",
       "2557 WEAKNESS;DEHYDRATION                                                               \n",
       "2558 WEAKNESS;RULE-OUT MYOCARDIAL INFARCTION;TELEMETRY                                  \n",
       "2559 WEAKNESS;TELEMTRY                                                                  \n",
       "2560 WORSENING DYSPNEA ON EXERTION;AORTIC STENOSIS\\\\RIGHT AND LEFT HEART CATHETERIZATION\n",
       "     COUNT\n",
       "1    1247 \n",
       "2     849 \n",
       "3     443 \n",
       "4     327 \n",
       "5     314 \n",
       "6     308 \n",
       "7     288 \n",
       "8     279 \n",
       "9     245 \n",
       "10    209 \n",
       "11    202 \n",
       "12    143 \n",
       "13    142 \n",
       "14    128 \n",
       "15    127 \n",
       "16    100 \n",
       "17     97 \n",
       "18     88 \n",
       "19     87 \n",
       "20     82 \n",
       "21     80 \n",
       "22     77 \n",
       "23     73 \n",
       "24     67 \n",
       "25     64 \n",
       "26     63 \n",
       "27     60 \n",
       "28     55 \n",
       "29     54 \n",
       "30     54 \n",
       "⋮    ⋮    \n",
       "2531 1    \n",
       "2532 1    \n",
       "2533 1    \n",
       "2534 1    \n",
       "2535 1    \n",
       "2536 1    \n",
       "2537 1    \n",
       "2538 1    \n",
       "2539 1    \n",
       "2540 1    \n",
       "2541 1    \n",
       "2542 1    \n",
       "2543 1    \n",
       "2544 1    \n",
       "2545 1    \n",
       "2546 1    \n",
       "2547 1    \n",
       "2548 1    \n",
       "2549 1    \n",
       "2550 1    \n",
       "2551 1    \n",
       "2552 1    \n",
       "2553 1    \n",
       "2554 1    \n",
       "2555 1    \n",
       "2556 1    \n",
       "2557 1    \n",
       "2558 1    \n",
       "2559 1    \n",
       "2560 1    "
      ]
     },
     "metadata": {},
     "output_type": "display_data"
    }
   ],
   "source": [
    "output_df %>%\n",
    "    group_by(diagnosis) %>%\n",
    "    summarize(COUNT = n()) %>%\n",
    "    arrange(-COUNT) "
   ]
  },
  {
   "cell_type": "code",
   "execution_count": 369,
   "metadata": {},
   "outputs": [
    {
     "name": "stderr",
     "output_type": "stream",
     "text": [
      "Warning message:\n",
      "“Grouping rowwise data frame strips rowwise nature”"
     ]
    }
   ],
   "source": [
    "diagnosis_df <- output_df %>%\n",
    "    rowwise() %>%\n",
    "    mutate(simple_diagnosis = simplifyDiagnosis(diagnosis)) %>%\n",
    "    group_by(simple_diagnosis, MORETHAN24HOURS) %>%\n",
    "    summarize(COUNT = n()) "
   ]
  },
  {
   "cell_type": "code",
   "execution_count": 370,
   "metadata": {},
   "outputs": [
    {
     "data": {
      "text/html": [
       "<table>\n",
       "<caption>A grouped_df: 8 × 3</caption>\n",
       "<thead>\n",
       "\t<tr><th scope=col>simple_diagnosis</th><th scope=col>MORETHAN24HOURS</th><th scope=col>COUNT</th></tr>\n",
       "\t<tr><th scope=col>&lt;chr&gt;</th><th scope=col>&lt;lgl&gt;</th><th scope=col>&lt;int&gt;</th></tr>\n",
       "</thead>\n",
       "<tbody>\n",
       "\t<tr><td>CARDIAC        </td><td>FALSE</td><td> 626</td></tr>\n",
       "\t<tr><td>CARDIAC        </td><td> TRUE</td><td>1202</td></tr>\n",
       "\t<tr><td>INFECTION      </td><td>FALSE</td><td> 413</td></tr>\n",
       "\t<tr><td>INFECTION      </td><td> TRUE</td><td>1297</td></tr>\n",
       "\t<tr><td>OTHER DIAGNOSIS</td><td>FALSE</td><td>3288</td></tr>\n",
       "\t<tr><td>OTHER DIAGNOSIS</td><td> TRUE</td><td>7805</td></tr>\n",
       "\t<tr><td>SEPSIS         </td><td>FALSE</td><td> 623</td></tr>\n",
       "\t<tr><td>SEPSIS         </td><td> TRUE</td><td>1344</td></tr>\n",
       "</tbody>\n",
       "</table>\n"
      ],
      "text/latex": [
       "A grouped_df: 8 × 3\n",
       "\\begin{tabular}{r|lll}\n",
       " simple\\_diagnosis & MORETHAN24HOURS & COUNT\\\\\n",
       " <chr> & <lgl> & <int>\\\\\n",
       "\\hline\n",
       "\t CARDIAC         & FALSE &  626\\\\\n",
       "\t CARDIAC         &  TRUE & 1202\\\\\n",
       "\t INFECTION       & FALSE &  413\\\\\n",
       "\t INFECTION       &  TRUE & 1297\\\\\n",
       "\t OTHER DIAGNOSIS & FALSE & 3288\\\\\n",
       "\t OTHER DIAGNOSIS &  TRUE & 7805\\\\\n",
       "\t SEPSIS          & FALSE &  623\\\\\n",
       "\t SEPSIS          &  TRUE & 1344\\\\\n",
       "\\end{tabular}\n"
      ],
      "text/markdown": [
       "\n",
       "A grouped_df: 8 × 3\n",
       "\n",
       "| simple_diagnosis &lt;chr&gt; | MORETHAN24HOURS &lt;lgl&gt; | COUNT &lt;int&gt; |\n",
       "|---|---|---|\n",
       "| CARDIAC         | FALSE |  626 |\n",
       "| CARDIAC         |  TRUE | 1202 |\n",
       "| INFECTION       | FALSE |  413 |\n",
       "| INFECTION       |  TRUE | 1297 |\n",
       "| OTHER DIAGNOSIS | FALSE | 3288 |\n",
       "| OTHER DIAGNOSIS |  TRUE | 7805 |\n",
       "| SEPSIS          | FALSE |  623 |\n",
       "| SEPSIS          |  TRUE | 1344 |\n",
       "\n"
      ],
      "text/plain": [
       "  simple_diagnosis MORETHAN24HOURS COUNT\n",
       "1 CARDIAC          FALSE            626 \n",
       "2 CARDIAC           TRUE           1202 \n",
       "3 INFECTION        FALSE            413 \n",
       "4 INFECTION         TRUE           1297 \n",
       "5 OTHER DIAGNOSIS  FALSE           3288 \n",
       "6 OTHER DIAGNOSIS   TRUE           7805 \n",
       "7 SEPSIS           FALSE            623 \n",
       "8 SEPSIS            TRUE           1344 "
      ]
     },
     "metadata": {},
     "output_type": "display_data"
    }
   ],
   "source": [
    "diagnosis_df "
   ]
  },
  {
   "cell_type": "markdown",
   "metadata": {},
   "source": [
    "#### Chi-Square (Significant) \"there is an interaction between infection diagnosis and response\""
   ]
  },
  {
   "cell_type": "code",
   "execution_count": 371,
   "metadata": {},
   "outputs": [
    {
     "data": {
      "text/plain": [
       "\n",
       "\tPearson's Chi-squared test\n",
       "\n",
       "data:  .\n",
       "X-squared = 46.748, df = 3, p-value = 3.932e-10\n"
      ]
     },
     "metadata": {},
     "output_type": "display_data"
    }
   ],
   "source": [
    "diagnosis_df %>%\n",
    "        spread(MORETHAN24HOURS, COUNT) %>%\n",
    "        tibble::column_to_rownames(\"simple_diagnosis\") %>%\n",
    "        as.matrix() %>% chisq.test() "
   ]
  },
  {
   "cell_type": "markdown",
   "metadata": {},
   "source": [
    "#### Relative risk (Significant) \"there is a different RR for infection compared to non-infection for the response\""
   ]
  },
  {
   "cell_type": "code",
   "execution_count": 372,
   "metadata": {},
   "outputs": [
    {
     "name": "stdout",
     "output_type": "stream",
     "text": [
      "\n",
      "\n",
      "#### CARDIAC ####\n",
      "\n",
      "$data\n",
      "      FALSE  TRUE Total\n",
      "FALSE  4324 10446 14770\n",
      "TRUE    626  1202  1828\n",
      "Total  4950 11648 16598\n",
      "\n",
      "$measure\n",
      "                        NA\n",
      "risk ratio with 95% C.I.  estimate     lower     upper\n",
      "                   FALSE 1.0000000        NA        NA\n",
      "                   TRUE  0.9297341 0.8980515 0.9625344\n",
      "\n",
      "$p.value\n",
      "         NA\n",
      "two-sided   midp.exact fisher.exact   chi.square\n",
      "    FALSE           NA           NA           NA\n",
      "    TRUE  1.474328e-05 1.439379e-05 1.180322e-05\n",
      "\n",
      "$correction\n",
      "[1] FALSE\n",
      "\n",
      "attr(,\"method\")\n",
      "[1] \"Unconditional MLE & normal approximation (Wald) CI\"\n",
      "\n",
      "\n",
      "#### INFECTION ####\n",
      "\n",
      "$data\n",
      "      FALSE  TRUE Total\n",
      "FALSE  4537 10351 14888\n",
      "TRUE    413  1297  1710\n",
      "Total  4950 11648 16598\n",
      "\n",
      "$measure\n",
      "                        NA\n",
      "risk ratio with 95% C.I. estimate   lower    upper\n",
      "                   FALSE 1.000000      NA       NA\n",
      "                   TRUE  1.090933 1.05998 1.122789\n",
      "\n",
      "$p.value\n",
      "         NA\n",
      "two-sided   midp.exact fisher.exact  chi.square\n",
      "    FALSE           NA           NA          NA\n",
      "    TRUE  3.681455e-08 4.315617e-08 6.22225e-08\n",
      "\n",
      "$correction\n",
      "[1] FALSE\n",
      "\n",
      "attr(,\"method\")\n",
      "[1] \"Unconditional MLE & normal approximation (Wald) CI\"\n",
      "\n",
      "\n",
      "#### OTHER DIAGNOSIS ####\n",
      "\n",
      "$data\n",
      "      FALSE  TRUE Total\n",
      "FALSE  1662  3843  5505\n",
      "TRUE   3288  7805 11093\n",
      "Total  4950 11648 16598\n",
      "\n",
      "$measure\n",
      "                        NA\n",
      "risk ratio with 95% C.I. estimate     lower    upper\n",
      "                   FALSE 1.000000        NA       NA\n",
      "                   TRUE  1.007885 0.9867836 1.029437\n",
      "\n",
      "$p.value\n",
      "         NA\n",
      "two-sided midp.exact fisher.exact chi.square\n",
      "    FALSE         NA           NA         NA\n",
      "    TRUE   0.4653594    0.4710781  0.4655179\n",
      "\n",
      "$correction\n",
      "[1] FALSE\n",
      "\n",
      "attr(,\"method\")\n",
      "[1] \"Unconditional MLE & normal approximation (Wald) CI\"\n",
      "\n",
      "\n",
      "#### SEPSIS ####\n",
      "\n",
      "$data\n",
      "      FALSE  TRUE Total\n",
      "FALSE  4327 10304 14631\n",
      "TRUE    623  1344  1967\n",
      "Total  4950 11648 16598\n",
      "\n",
      "$measure\n",
      "                        NA\n",
      "risk ratio with 95% C.I. estimate     lower   upper\n",
      "                   FALSE 1.000000        NA      NA\n",
      "                   TRUE  0.970204 0.9397736 1.00162\n",
      "\n",
      "$p.value\n",
      "         NA\n",
      "two-sided midp.exact fisher.exact chi.square\n",
      "    FALSE         NA           NA         NA\n",
      "    TRUE  0.05710702   0.05875762 0.05613607\n",
      "\n",
      "$correction\n",
      "[1] FALSE\n",
      "\n",
      "attr(,\"method\")\n",
      "[1] \"Unconditional MLE & normal approximation (Wald) CI\"\n"
     ]
    }
   ],
   "source": [
    "rr_list <- list()\n",
    "for(s_d in unique(diagnosis_df$simple_diagnosis)){\n",
    "   output <- diagnosis_df %>%\n",
    "        mutate(DX_BOOL = simple_diagnosis == s_d) %>%\n",
    "        group_by(DX_BOOL, MORETHAN24HOURS) %>%\n",
    "        summarize(COUNT = sum(COUNT)) %>%\n",
    "        spread(MORETHAN24HOURS, COUNT) %>%\n",
    "        tibble::column_to_rownames(\"DX_BOOL\") %>%\n",
    "        as.matrix() %>% riskratio() \n",
    "    rr_list[[s_d]] <- output$measure %>%\n",
    "        data.frame() %>%\n",
    "        tibble::rownames_to_column(\"FILTER\") %>% filter(FILTER == 'TRUE') %>%\n",
    "        mutate(ID = s_d, p = output$p.value[\"TRUE\",\"fisher.exact\"])\n",
    "    cat(\"\\n\\n####\", s_d, \"####\\n\\n\")\n",
    "    print(output)\n",
    "}"
   ]
  },
  {
   "cell_type": "code",
   "execution_count": 373,
   "metadata": {},
   "outputs": [],
   "source": [
    "all_rr_list[['DIAGNOSIS_RR']] <- bind_rows(rr_list)"
   ]
  },
  {
   "cell_type": "markdown",
   "metadata": {},
   "source": [
    "### Care unit (MICU and SICU end up >24 hrs pressors, not TSICU, CCU, CSRU)"
   ]
  },
  {
   "cell_type": "code",
   "execution_count": 374,
   "metadata": {},
   "outputs": [],
   "source": [
    "careunit_df <- output_df %>%\n",
    "    group_by(MORETHAN24HOURS, first_careunit) %>%\n",
    "    summarize(COUNT = n())"
   ]
  },
  {
   "cell_type": "code",
   "execution_count": 375,
   "metadata": {},
   "outputs": [
    {
     "name": "stdout",
     "output_type": "stream",
     "text": [
      "\n",
      "\n",
      "#### CCU ####\n",
      "\n",
      "$data\n",
      "      FALSE  TRUE Total\n",
      "FALSE  4309 10203 14512\n",
      "TRUE    641  1445  2086\n",
      "Total  4950 11648 16598\n",
      "\n",
      "$measure\n",
      "                        NA\n",
      "risk ratio with 95% C.I.  estimate     lower    upper\n",
      "                   FALSE 1.0000000        NA       NA\n",
      "                   TRUE  0.9852647 0.9556921 1.015752\n",
      "\n",
      "$p.value\n",
      "         NA\n",
      "two-sided midp.exact fisher.exact chi.square\n",
      "    FALSE         NA           NA         NA\n",
      "    TRUE   0.3335555     0.343678  0.3334847\n",
      "\n",
      "$correction\n",
      "[1] FALSE\n",
      "\n",
      "attr(,\"method\")\n",
      "[1] \"Unconditional MLE & normal approximation (Wald) CI\"\n",
      "\n",
      "\n",
      "#### CSRU ####\n",
      "\n",
      "$data\n",
      "      FALSE  TRUE Total\n",
      "FALSE  3937 10245 14182\n",
      "TRUE   1013  1403  2416\n",
      "Total  4950 11648 16598\n",
      "\n",
      "$measure\n",
      "                        NA\n",
      "risk ratio with 95% C.I.  estimate    lower     upper\n",
      "                   FALSE 1.0000000       NA        NA\n",
      "                   TRUE  0.8038708 0.775923 0.8328252\n",
      "\n",
      "$p.value\n",
      "         NA\n",
      "two-sided midp.exact fisher.exact chi.square\n",
      "    FALSE         NA           NA         NA\n",
      "    TRUE           0 7.829586e-43  5.703e-45\n",
      "\n",
      "$correction\n",
      "[1] FALSE\n",
      "\n",
      "attr(,\"method\")\n",
      "[1] \"Unconditional MLE & normal approximation (Wald) CI\"\n",
      "\n",
      "\n",
      "#### MICU ####\n",
      "\n",
      "$data\n",
      "      FALSE  TRUE Total\n",
      "FALSE  2740  5948  8688\n",
      "TRUE   2210  5700  7910\n",
      "Total  4950 11648 16598\n",
      "\n",
      "$measure\n",
      "                        NA\n",
      "risk ratio with 95% C.I. estimate    lower    upper\n",
      "                   FALSE 1.000000       NA       NA\n",
      "                   TRUE  1.052561 1.031927 1.073608\n",
      "\n",
      "$p.value\n",
      "         NA\n",
      "two-sided   midp.exact fisher.exact   chi.square\n",
      "    FALSE           NA           NA           NA\n",
      "    TRUE  4.098462e-07 4.143986e-07 4.164217e-07\n",
      "\n",
      "$correction\n",
      "[1] FALSE\n",
      "\n",
      "attr(,\"method\")\n",
      "[1] \"Unconditional MLE & normal approximation (Wald) CI\"\n",
      "\n",
      "\n",
      "#### SICU ####\n",
      "\n",
      "$data\n",
      "      FALSE  TRUE Total\n",
      "FALSE  4320  9733 14053\n",
      "TRUE    630  1915  2545\n",
      "Total  4950 11648 16598\n",
      "\n",
      "$measure\n",
      "                        NA\n",
      "risk ratio with 95% C.I. estimate    lower    upper\n",
      "                   FALSE 1.000000       NA       NA\n",
      "                   TRUE  1.086434 1.059761 1.113778\n",
      "\n",
      "$p.value\n",
      "         NA\n",
      "two-sided   midp.exact fisher.exact   chi.square\n",
      "    FALSE           NA           NA           NA\n",
      "    TRUE  7.241527e-10 7.692525e-10 1.245988e-09\n",
      "\n",
      "$correction\n",
      "[1] FALSE\n",
      "\n",
      "attr(,\"method\")\n",
      "[1] \"Unconditional MLE & normal approximation (Wald) CI\"\n",
      "\n",
      "\n",
      "#### TSICU ####\n",
      "\n",
      "$data\n",
      "      FALSE  TRUE Total\n",
      "FALSE  4494 10463 14957\n",
      "TRUE    456  1185  1641\n",
      "Total  4950 11648 16598\n",
      "\n",
      "$measure\n",
      "                        NA\n",
      "risk ratio with 95% C.I. estimate    lower    upper\n",
      "                   FALSE 1.000000       NA       NA\n",
      "                   TRUE  1.032281 0.999973 1.065633\n",
      "\n",
      "$p.value\n",
      "         NA\n",
      "two-sided midp.exact fisher.exact chi.square\n",
      "    FALSE         NA           NA         NA\n",
      "    TRUE  0.05668125   0.06064074 0.05767193\n",
      "\n",
      "$correction\n",
      "[1] FALSE\n",
      "\n",
      "attr(,\"method\")\n",
      "[1] \"Unconditional MLE & normal approximation (Wald) CI\"\n"
     ]
    }
   ],
   "source": [
    "rr_list <- list()\n",
    "for(cu in unique(careunit_df$first_careunit)){\n",
    "   output <- careunit_df%>%\n",
    "        mutate(CU_BOOL = first_careunit == cu) %>%\n",
    "        group_by(CU_BOOL, MORETHAN24HOURS) %>%\n",
    "        summarize(COUNT = sum(COUNT)) %>%\n",
    "        spread(MORETHAN24HOURS, COUNT) %>%\n",
    "        tibble::column_to_rownames(\"CU_BOOL\") %>%\n",
    "        as.matrix() %>% riskratio() \n",
    "    rr_list[[cu]] <- output$measure %>%\n",
    "        data.frame() %>%\n",
    "        tibble::rownames_to_column(\"FILTER\") %>% filter(FILTER == 'TRUE') %>%\n",
    "        mutate(ID = cu, p = output$p.value[\"TRUE\",\"fisher.exact\"])\n",
    "    cat(\"\\n\\n####\", cu, \"####\\n\\n\")\n",
    "    print(output)\n",
    "}"
   ]
  },
  {
   "cell_type": "code",
   "execution_count": 376,
   "metadata": {},
   "outputs": [],
   "source": [
    "all_rr_list[['CAREUNIT_RR']] <- bind_rows(rr_list)"
   ]
  },
  {
   "cell_type": "markdown",
   "metadata": {},
   "source": [
    "### Intubation effect"
   ]
  },
  {
   "cell_type": "code",
   "execution_count": 343,
   "metadata": {},
   "outputs": [],
   "source": [
    "intub_df <- output_df %>%\n",
    "    group_by(MORETHAN24HOURS, intub) %>%\n",
    "    summarize(COUNT = n())"
   ]
  },
  {
   "cell_type": "markdown",
   "metadata": {},
   "source": [
    "#### Chi-Square (Significant) \"there is an interaction between sex and response\""
   ]
  },
  {
   "cell_type": "code",
   "execution_count": 344,
   "metadata": {},
   "outputs": [
    {
     "data": {
      "text/plain": [
       "\n",
       "\tPearson's Chi-squared test with Yates' continuity correction\n",
       "\n",
       "data:  .\n",
       "X-squared = 349.78, df = 1, p-value < 2.2e-16\n"
      ]
     },
     "metadata": {},
     "output_type": "display_data"
    }
   ],
   "source": [
    "intub_df %>%\n",
    "        spread(MORETHAN24HOURS, COUNT) %>%\n",
    "        tibble::column_to_rownames(\"intub\") %>%\n",
    "        as.matrix() %>% chisq.test() "
   ]
  },
  {
   "cell_type": "markdown",
   "metadata": {},
   "source": [
    "#### Relative risk (Significant) \"there is a different RR for male compared to female for the response\""
   ]
  },
  {
   "cell_type": "code",
   "execution_count": 345,
   "metadata": {},
   "outputs": [
    {
     "data": {
      "text/html": [
       "<dl>\n",
       "\t<dt>$data</dt>\n",
       "\t\t<dd><table>\n",
       "<caption>A matrix: 3 × 3 of type int</caption>\n",
       "<thead>\n",
       "\t<tr><th></th><th scope=col>FALSE</th><th scope=col>TRUE</th><th scope=col>Total</th></tr>\n",
       "</thead>\n",
       "<tbody>\n",
       "\t<tr><th scope=row>FALSE</th><td>1068</td><td> 1234</td><td> 2302</td></tr>\n",
       "\t<tr><th scope=row>TRUE</th><td>3882</td><td>10414</td><td>14296</td></tr>\n",
       "\t<tr><th scope=row>Total</th><td>4950</td><td>11648</td><td>16598</td></tr>\n",
       "</tbody>\n",
       "</table>\n",
       "</dd>\n",
       "\t<dt>$measure</dt>\n",
       "\t\t<dd><table>\n",
       "<caption>A matrix: 2 × 3 of type dbl</caption>\n",
       "<thead>\n",
       "\t<tr><th></th><th scope=col>estimate</th><th scope=col>lower</th><th scope=col>upper</th></tr>\n",
       "</thead>\n",
       "<tbody>\n",
       "\t<tr><th scope=row>FALSE</th><td>1.000000</td><td>      NA</td><td>      NA</td></tr>\n",
       "\t<tr><th scope=row>TRUE</th><td>1.358918</td><td>1.306549</td><td>1.413386</td></tr>\n",
       "</tbody>\n",
       "</table>\n",
       "</dd>\n",
       "\t<dt>$p.value</dt>\n",
       "\t\t<dd><table>\n",
       "<caption>A matrix: 2 × 3 of type dbl</caption>\n",
       "<thead>\n",
       "\t<tr><th></th><th scope=col>midp.exact</th><th scope=col>fisher.exact</th><th scope=col>chi.square</th></tr>\n",
       "</thead>\n",
       "<tbody>\n",
       "\t<tr><th scope=row>FALSE</th><td>NA</td><td>          NA</td><td>          NA</td></tr>\n",
       "\t<tr><th scope=row>TRUE</th><td> 0</td><td>2.118292e-73</td><td>2.991808e-78</td></tr>\n",
       "</tbody>\n",
       "</table>\n",
       "</dd>\n",
       "\t<dt>$correction</dt>\n",
       "\t\t<dd>FALSE</dd>\n",
       "</dl>\n"
      ],
      "text/latex": [
       "\\begin{description}\n",
       "\\item[\\$data] A matrix: 3 × 3 of type int\n",
       "\\begin{tabular}{r|lll}\n",
       "  & FALSE & TRUE & Total\\\\\n",
       "\\hline\n",
       "\tFALSE & 1068 &  1234 &  2302\\\\\n",
       "\tTRUE & 3882 & 10414 & 14296\\\\\n",
       "\tTotal & 4950 & 11648 & 16598\\\\\n",
       "\\end{tabular}\n",
       "\n",
       "\\item[\\$measure] A matrix: 2 × 3 of type dbl\n",
       "\\begin{tabular}{r|lll}\n",
       "  & estimate & lower & upper\\\\\n",
       "\\hline\n",
       "\tFALSE & 1.000000 &       NA &       NA\\\\\n",
       "\tTRUE & 1.358918 & 1.306549 & 1.413386\\\\\n",
       "\\end{tabular}\n",
       "\n",
       "\\item[\\$p.value] A matrix: 2 × 3 of type dbl\n",
       "\\begin{tabular}{r|lll}\n",
       "  & midp.exact & fisher.exact & chi.square\\\\\n",
       "\\hline\n",
       "\tFALSE & NA &           NA &           NA\\\\\n",
       "\tTRUE &  0 & 2.118292e-73 & 2.991808e-78\\\\\n",
       "\\end{tabular}\n",
       "\n",
       "\\item[\\$correction] FALSE\n",
       "\\end{description}\n"
      ],
      "text/markdown": [
       "$data\n",
       ":   \n",
       "A matrix: 3 × 3 of type int\n",
       "\n",
       "| <!--/--> | FALSE | TRUE | Total |\n",
       "|---|---|---|---|\n",
       "| FALSE | 1068 |  1234 |  2302 |\n",
       "| TRUE | 3882 | 10414 | 14296 |\n",
       "| Total | 4950 | 11648 | 16598 |\n",
       "\n",
       "\n",
       "$measure\n",
       ":   \n",
       "A matrix: 2 × 3 of type dbl\n",
       "\n",
       "| <!--/--> | estimate | lower | upper |\n",
       "|---|---|---|---|\n",
       "| FALSE | 1.000000 |       NA |       NA |\n",
       "| TRUE | 1.358918 | 1.306549 | 1.413386 |\n",
       "\n",
       "\n",
       "$p.value\n",
       ":   \n",
       "A matrix: 2 × 3 of type dbl\n",
       "\n",
       "| <!--/--> | midp.exact | fisher.exact | chi.square |\n",
       "|---|---|---|---|\n",
       "| FALSE | NA |           NA |           NA |\n",
       "| TRUE |  0 | 2.118292e-73 | 2.991808e-78 |\n",
       "\n",
       "\n",
       "$correction\n",
       ":   FALSE\n",
       "\n",
       "\n"
      ],
      "text/plain": [
       "$data\n",
       "      FALSE  TRUE Total\n",
       "FALSE  1068  1234  2302\n",
       "TRUE   3882 10414 14296\n",
       "Total  4950 11648 16598\n",
       "\n",
       "$measure\n",
       "                        NA\n",
       "risk ratio with 95% C.I. estimate    lower    upper\n",
       "                   FALSE 1.000000       NA       NA\n",
       "                   TRUE  1.358918 1.306549 1.413386\n",
       "\n",
       "$p.value\n",
       "         NA\n",
       "two-sided midp.exact fisher.exact   chi.square\n",
       "    FALSE         NA           NA           NA\n",
       "    TRUE           0 2.118292e-73 2.991808e-78\n",
       "\n",
       "$correction\n",
       "[1] FALSE\n",
       "\n",
       "attr(,\"method\")\n",
       "[1] \"Unconditional MLE & normal approximation (Wald) CI\""
      ]
     },
     "metadata": {},
     "output_type": "display_data"
    }
   ],
   "source": [
    "output <- intub_df %>%\n",
    "    spread(MORETHAN24HOURS, COUNT) %>%\n",
    "    tibble::column_to_rownames(\"intub\") %>%\n",
    "    as.matrix() %>% riskratio()\n",
    "\n",
    "output"
   ]
  },
  {
   "cell_type": "code",
   "execution_count": 346,
   "metadata": {},
   "outputs": [],
   "source": [
    "all_rr_list[['INTUB_RR']] <- output$measure %>%\n",
    "        data.frame() %>%\n",
    "        tibble::rownames_to_column(\"FILTER\") %>% filter(FILTER == 'TRUE') %>%\n",
    "        mutate(ID = \"INTUB\", p = output$p.value[\"TRUE\",\"fisher.exact\"])"
   ]
  },
  {
   "cell_type": "markdown",
   "metadata": {},
   "source": [
    "### CVC effect"
   ]
  },
  {
   "cell_type": "code",
   "execution_count": 347,
   "metadata": {},
   "outputs": [],
   "source": [
    "intub_df <- output_df %>%\n",
    "    group_by(MORETHAN24HOURS, cvc) %>%\n",
    "    summarize(COUNT = n())"
   ]
  },
  {
   "cell_type": "markdown",
   "metadata": {},
   "source": [
    "#### Chi-Square (Significant) \"there is an interaction between sex and response\""
   ]
  },
  {
   "cell_type": "code",
   "execution_count": 348,
   "metadata": {},
   "outputs": [
    {
     "data": {
      "text/plain": [
       "\n",
       "\tPearson's Chi-squared test with Yates' continuity correction\n",
       "\n",
       "data:  .\n",
       "X-squared = 438.63, df = 1, p-value < 2.2e-16\n"
      ]
     },
     "metadata": {},
     "output_type": "display_data"
    }
   ],
   "source": [
    "intub_df %>%\n",
    "        spread(MORETHAN24HOURS, COUNT) %>%\n",
    "        tibble::column_to_rownames(\"cvc\") %>%\n",
    "        as.matrix() %>% chisq.test() "
   ]
  },
  {
   "cell_type": "markdown",
   "metadata": {},
   "source": [
    "#### Relative risk (Significant) \"there is a different RR for male compared to female for the response\""
   ]
  },
  {
   "cell_type": "code",
   "execution_count": 349,
   "metadata": {},
   "outputs": [
    {
     "data": {
      "text/html": [
       "<dl>\n",
       "\t<dt>$data</dt>\n",
       "\t\t<dd><table>\n",
       "<caption>A matrix: 3 × 3 of type int</caption>\n",
       "<thead>\n",
       "\t<tr><th></th><th scope=col>FALSE</th><th scope=col>TRUE</th><th scope=col>Total</th></tr>\n",
       "</thead>\n",
       "<tbody>\n",
       "\t<tr><th scope=row>FALSE</th><td> 498</td><td>  290</td><td>  788</td></tr>\n",
       "\t<tr><th scope=row>TRUE</th><td>4452</td><td>11358</td><td>15810</td></tr>\n",
       "\t<tr><th scope=row>Total</th><td>4950</td><td>11648</td><td>16598</td></tr>\n",
       "</tbody>\n",
       "</table>\n",
       "</dd>\n",
       "\t<dt>$measure</dt>\n",
       "\t\t<dd><table>\n",
       "<caption>A matrix: 2 × 3 of type dbl</caption>\n",
       "<thead>\n",
       "\t<tr><th></th><th scope=col>estimate</th><th scope=col>lower</th><th scope=col>upper</th></tr>\n",
       "</thead>\n",
       "<tbody>\n",
       "\t<tr><th scope=row>FALSE</th><td>1.000000</td><td>      NA</td><td>      NA</td></tr>\n",
       "\t<tr><th scope=row>TRUE</th><td>1.952083</td><td>1.780479</td><td>2.140226</td></tr>\n",
       "</tbody>\n",
       "</table>\n",
       "</dd>\n",
       "\t<dt>$p.value</dt>\n",
       "\t\t<dd><table>\n",
       "<caption>A matrix: 2 × 3 of type dbl</caption>\n",
       "<thead>\n",
       "\t<tr><th></th><th scope=col>midp.exact</th><th scope=col>fisher.exact</th><th scope=col>chi.square</th></tr>\n",
       "</thead>\n",
       "<tbody>\n",
       "\t<tr><th scope=row>FALSE</th><td>NA</td><td>          NA</td><td>          NA</td></tr>\n",
       "\t<tr><th scope=row>TRUE</th><td> 0</td><td>1.147471e-87</td><td>9.307227e-98</td></tr>\n",
       "</tbody>\n",
       "</table>\n",
       "</dd>\n",
       "\t<dt>$correction</dt>\n",
       "\t\t<dd>FALSE</dd>\n",
       "</dl>\n"
      ],
      "text/latex": [
       "\\begin{description}\n",
       "\\item[\\$data] A matrix: 3 × 3 of type int\n",
       "\\begin{tabular}{r|lll}\n",
       "  & FALSE & TRUE & Total\\\\\n",
       "\\hline\n",
       "\tFALSE &  498 &   290 &   788\\\\\n",
       "\tTRUE & 4452 & 11358 & 15810\\\\\n",
       "\tTotal & 4950 & 11648 & 16598\\\\\n",
       "\\end{tabular}\n",
       "\n",
       "\\item[\\$measure] A matrix: 2 × 3 of type dbl\n",
       "\\begin{tabular}{r|lll}\n",
       "  & estimate & lower & upper\\\\\n",
       "\\hline\n",
       "\tFALSE & 1.000000 &       NA &       NA\\\\\n",
       "\tTRUE & 1.952083 & 1.780479 & 2.140226\\\\\n",
       "\\end{tabular}\n",
       "\n",
       "\\item[\\$p.value] A matrix: 2 × 3 of type dbl\n",
       "\\begin{tabular}{r|lll}\n",
       "  & midp.exact & fisher.exact & chi.square\\\\\n",
       "\\hline\n",
       "\tFALSE & NA &           NA &           NA\\\\\n",
       "\tTRUE &  0 & 1.147471e-87 & 9.307227e-98\\\\\n",
       "\\end{tabular}\n",
       "\n",
       "\\item[\\$correction] FALSE\n",
       "\\end{description}\n"
      ],
      "text/markdown": [
       "$data\n",
       ":   \n",
       "A matrix: 3 × 3 of type int\n",
       "\n",
       "| <!--/--> | FALSE | TRUE | Total |\n",
       "|---|---|---|---|\n",
       "| FALSE |  498 |   290 |   788 |\n",
       "| TRUE | 4452 | 11358 | 15810 |\n",
       "| Total | 4950 | 11648 | 16598 |\n",
       "\n",
       "\n",
       "$measure\n",
       ":   \n",
       "A matrix: 2 × 3 of type dbl\n",
       "\n",
       "| <!--/--> | estimate | lower | upper |\n",
       "|---|---|---|---|\n",
       "| FALSE | 1.000000 |       NA |       NA |\n",
       "| TRUE | 1.952083 | 1.780479 | 2.140226 |\n",
       "\n",
       "\n",
       "$p.value\n",
       ":   \n",
       "A matrix: 2 × 3 of type dbl\n",
       "\n",
       "| <!--/--> | midp.exact | fisher.exact | chi.square |\n",
       "|---|---|---|---|\n",
       "| FALSE | NA |           NA |           NA |\n",
       "| TRUE |  0 | 1.147471e-87 | 9.307227e-98 |\n",
       "\n",
       "\n",
       "$correction\n",
       ":   FALSE\n",
       "\n",
       "\n"
      ],
      "text/plain": [
       "$data\n",
       "      FALSE  TRUE Total\n",
       "FALSE   498   290   788\n",
       "TRUE   4452 11358 15810\n",
       "Total  4950 11648 16598\n",
       "\n",
       "$measure\n",
       "                        NA\n",
       "risk ratio with 95% C.I. estimate    lower    upper\n",
       "                   FALSE 1.000000       NA       NA\n",
       "                   TRUE  1.952083 1.780479 2.140226\n",
       "\n",
       "$p.value\n",
       "         NA\n",
       "two-sided midp.exact fisher.exact   chi.square\n",
       "    FALSE         NA           NA           NA\n",
       "    TRUE           0 1.147471e-87 9.307227e-98\n",
       "\n",
       "$correction\n",
       "[1] FALSE\n",
       "\n",
       "attr(,\"method\")\n",
       "[1] \"Unconditional MLE & normal approximation (Wald) CI\""
      ]
     },
     "metadata": {},
     "output_type": "display_data"
    }
   ],
   "source": [
    "output <- intub_df %>%\n",
    "    spread(MORETHAN24HOURS, COUNT) %>%\n",
    "    tibble::column_to_rownames(\"cvc\") %>%\n",
    "    as.matrix() %>% riskratio()\n",
    "\n",
    "output"
   ]
  },
  {
   "cell_type": "code",
   "execution_count": 350,
   "metadata": {},
   "outputs": [],
   "source": [
    "all_rr_list[['CVC_RR']] <- output$measure %>%\n",
    "        data.frame() %>%\n",
    "        tibble::rownames_to_column(\"FILTER\") %>% filter(FILTER == 'TRUE') %>%\n",
    "        mutate(ID = \"CVC\", p = output$p.value[\"TRUE\",\"fisher.exact\"])"
   ]
  },
  {
   "cell_type": "markdown",
   "metadata": {},
   "source": [
    "# VITALS"
   ]
  },
  {
   "cell_type": "markdown",
   "metadata": {},
   "source": [
    "### BP (!), HR, RR, TEMPC before pressors significantly differ for >24 hr pressors and interact with time interval. SPO2 and Glucose NS. Only assessed for mean and median. "
   ]
  },
  {
   "cell_type": "markdown",
   "metadata": {},
   "source": [
    "### (merge with vitals and compute mean/median values)"
   ]
  },
  {
   "cell_type": "code",
   "execution_count": 389,
   "metadata": {},
   "outputs": [],
   "source": [
    "vitals_df <- read.csv('~/Projects/Haimovich_Pressors/collection/out/vitals.csv')"
   ]
  },
  {
   "cell_type": "code",
   "execution_count": 390,
   "metadata": {},
   "outputs": [
    {
     "name": "stderr",
     "output_type": "stream",
     "text": [
      "Adding missing grouping variables: `course_id`\n"
     ]
    }
   ],
   "source": [
    "# takes 6 mins to run (because of difftime)\n",
    "\n",
    "vitals_merged_df <- vitals_df %>%\n",
    "    mutate(charttime = fastPOSIXct(charttime)) %>%\n",
    "    filter(icustay_id %in% output_df$icustay_id) %>%\n",
    "    left_join(select(output_df, icustay_id, starttime, endtime, MORETHAN24HOURS), by = \"icustay_id\") %>%\n",
    "    rowwise() %>%\n",
    "    mutate(diff = difftime(charttime, \n",
    "                       starttime, units=\"hours\"))"
   ]
  },
  {
   "cell_type": "code",
   "execution_count": 391,
   "metadata": {},
   "outputs": [],
   "source": [
    "intervals <- 1:10"
   ]
  },
  {
   "cell_type": "code",
   "execution_count": 392,
   "metadata": {},
   "outputs": [],
   "source": [
    "results_list <- list()"
   ]
  },
  {
   "cell_type": "code",
   "execution_count": 394,
   "metadata": {},
   "outputs": [
    {
     "name": "stderr",
     "output_type": "stream",
     "text": [
      "Warning message:\n",
      "“Grouping rowwise data frame strips rowwise nature”Warning message:\n",
      "“Grouping rowwise data frame strips rowwise nature”Warning message:\n",
      "“Grouping rowwise data frame strips rowwise nature”Warning message:\n",
      "“Grouping rowwise data frame strips rowwise nature”Warning message:\n",
      "“Grouping rowwise data frame strips rowwise nature”Warning message:\n",
      "“Grouping rowwise data frame strips rowwise nature”Warning message:\n",
      "“Grouping rowwise data frame strips rowwise nature”Warning message:\n",
      "“Grouping rowwise data frame strips rowwise nature”Warning message:\n",
      "“Grouping rowwise data frame strips rowwise nature”Warning message:\n",
      "“Grouping rowwise data frame strips rowwise nature”"
     ]
    }
   ],
   "source": [
    "for(interval in intervals){\n",
    "    # 2 mins to run\n",
    "    results_list[[interval]] <- vitals_merged_df %>%\n",
    "        filter(diff < 0) %>%\n",
    "        filter(diff < -(interval - 1) & diff > -interval) %>%\n",
    "        group_by(MORETHAN24HOURS, icustay_id) %>%\n",
    "        summarize(mean_heartrate = mean(heartrate, na.rm=T), \n",
    "                  mean_sysbp = mean(sysbp, na.rm=T),\n",
    "                  mean_diasbp = mean(diasbp, na.rm=T),\n",
    "                  mean_meanbp = mean(meanbp, na.rm=T), \n",
    "                  mean_resprate = mean(resprate, na.rm=T), \n",
    "                  mean_tempc = mean(tempc, na.rm=T), \n",
    "                  mean_spo2 = mean(spo2, na.rm=T), \n",
    "                  mean_glucose = mean(glucose, na.rm=T), \n",
    "\n",
    "                  median_heartrate = median(heartrate, na.rm=T), \n",
    "                  median_sysbp = median(sysbp, na.rm=T),\n",
    "                  median_diasbp = median(diasbp, na.rm=T),\n",
    "                  median_meanbp = median(meanbp, na.rm=T), \n",
    "                  median_resprate = median(resprate, na.rm=T), \n",
    "                  median_tempc = median(tempc, na.rm=T), \n",
    "                  median_spo2 = median(spo2, na.rm=T), \n",
    "                  median_glucose = median(glucose, na.rm=T),\n",
    "\n",
    "#                   max_heartrate = max(heartrate, na.rm=T), \n",
    "#                   max_sysbp = max(sysbp, na.rm=T),\n",
    "#                   max_diasbp = max(diasbp, na.rm=T),\n",
    "#                   max_meanbp = max(meanbp, na.rm=T), \n",
    "#                   max_resprate = max(resprate, na.rm=T), \n",
    "#                   max_tempc = max(tempc, na.rm=T), \n",
    "#                   max_spo2 = max(spo2, na.rm=T), \n",
    "#                   max_glucose = max(glucose, na.rm=T), \n",
    "\n",
    "#                   min_heartrate = min(heartrate, na.rm=T), \n",
    "#                   min_sysbp = min(sysbp, na.rm=T),\n",
    "#                   min_diasbp = min(diasbp, na.rm=T),\n",
    "#                   min_meanbp = min(meanbp, na.rm=T), \n",
    "#                   min_resprate = min(resprate, na.rm=T), \n",
    "#                   min_tempc = min(tempc, na.rm=T), \n",
    "#                   min_spo2 = min(spo2, na.rm=T), \n",
    "#                   min_glucose = min(glucose, na.rm=T)\n",
    "\n",
    "                 ) %>%\n",
    "        mutate(INTERVAL = interval)\n",
    "\n",
    "}"
   ]
  },
  {
   "cell_type": "code",
   "execution_count": 397,
   "metadata": {},
   "outputs": [],
   "source": [
    "results_df <- bind_rows(results_list)"
   ]
  },
  {
   "cell_type": "code",
   "execution_count": 398,
   "metadata": {},
   "outputs": [],
   "source": [
    "melt_results_df <- results_df %>% \n",
    "    gather(\"ID\", \"VALUE\", -MORETHAN24HOURS, -icustay_id, -INTERVAL)"
   ]
  },
  {
   "cell_type": "markdown",
   "metadata": {},
   "source": [
    "#### Continuous (repeated-measures) ANCOVA analysis (that is, without summarizing mean/median vital signs)\n",
    "- MORETHAN24HOURS P-value tells you if this vital sign is a predictor (BP, HR, RR, TEMP)\n",
    "- diff P-value tells you if these values change depending on the time point being measured (most values)\n",
    "- MORETHAN24HOURS:diff P-value tells you if vital sign interacts with the time point being measured, that is, the extent of predictive value. \n",
    "\n",
    "Comment:\n",
    "- This is repeated measures ANCOVA so it also accounts for the pairing from icustay_id\n",
    "- sysbp, diasbp are not significant by this analysis, but all other measures including glucose and spo2 are signiciant "
   ]
  },
  {
   "cell_type": "code",
   "execution_count": 750,
   "metadata": {},
   "outputs": [],
   "source": [
    "# takes 4 mins\n",
    "filtered_vitals_merged_df <- vitals_merged_df %>% filter(diff < 0)"
   ]
  },
  {
   "cell_type": "code",
   "execution_count": 781,
   "metadata": {},
   "outputs": [],
   "source": [
    "filtered_vitals_merged_df <- filtered_vitals_merged_df %>%\n",
    "    mutate(num_diff = as.numeric(diff))"
   ]
  },
  {
   "cell_type": "code",
   "execution_count": 782,
   "metadata": {},
   "outputs": [],
   "source": [
    "vital_signs <- c('heartrate','sysbp','diasbp','meanbp','resprate','tempc','spo2','glucose')"
   ]
  },
  {
   "cell_type": "code",
   "execution_count": 783,
   "metadata": {
    "scrolled": true
   },
   "outputs": [
    {
     "name": "stdout",
     "output_type": "stream",
     "text": [
      "#### heartrate ####\n",
      "Error: icustay_id\n",
      "                Df   Sum Sq  Mean Sq\n",
      "MORETHAN24HOURS  1 18943018 18943018\n",
      "\n",
      "Error: num_diff\n",
      "                Df  Sum Sq Mean Sq\n",
      "MORETHAN24HOURS  1 1126972 1126972\n",
      "\n",
      "Error: icustay_id:MORETHAN24HOURS\n",
      "                Df Sum Sq Mean Sq\n",
      "MORETHAN24HOURS  1 780627  780627\n",
      "\n",
      "Error: Within\n",
      "                             Df    Sum Sq Mean Sq F value Pr(>F)    \n",
      "MORETHAN24HOURS               1   2531207 2531207    6905 <2e-16 ***\n",
      "MORETHAN24HOURS:num_diff      1    804018  804018    2193 <2e-16 ***\n",
      "Residuals                998226 365942387     367                   \n",
      "---\n",
      "Signif. codes:  0 ‘***’ 0.001 ‘**’ 0.01 ‘*’ 0.05 ‘.’ 0.1 ‘ ’ 1\n",
      "#### sysbp ####\n",
      "Error: icustay_id\n",
      "                Df Sum Sq Mean Sq\n",
      "MORETHAN24HOURS  1  15281   15281\n",
      "\n",
      "Error: num_diff\n",
      "                Df   Sum Sq  Mean Sq\n",
      "MORETHAN24HOURS  1 12513508 12513508\n",
      "\n",
      "Error: icustay_id:MORETHAN24HOURS\n",
      "                Df  Sum Sq Mean Sq\n",
      "MORETHAN24HOURS  1 1305246 1305246\n",
      "\n",
      "Error: Within\n",
      "                             Df    Sum Sq Mean Sq F value Pr(>F)    \n",
      "MORETHAN24HOURS               1      1998    1998   3.349 0.0673 .  \n",
      "MORETHAN24HOURS:num_diff      1    378055  378055 633.650 <2e-16 ***\n",
      "Residuals                775715 462815739     597                   \n",
      "---\n",
      "Signif. codes:  0 ‘***’ 0.001 ‘**’ 0.01 ‘*’ 0.05 ‘.’ 0.1 ‘ ’ 1\n",
      "#### diasbp ####\n",
      "Error: icustay_id\n",
      "                Df Sum Sq Mean Sq\n",
      "MORETHAN24HOURS  1  35884   35884\n",
      "\n",
      "Error: num_diff\n",
      "                Df Sum Sq Mean Sq\n",
      "MORETHAN24HOURS  1   4375    4375\n",
      "\n",
      "Error: icustay_id:MORETHAN24HOURS\n",
      "                Df Sum Sq Mean Sq\n",
      "MORETHAN24HOURS  1  61268   61268\n",
      "\n",
      "Error: Within\n",
      "                             Df    Sum Sq Mean Sq  F value Pr(>F)    \n",
      "MORETHAN24HOURS               1        96      96    0.424  0.515    \n",
      "MORETHAN24HOURS:num_diff      1    661826  661826 2928.667 <2e-16 ***\n",
      "Residuals                775386 175223152     226                    \n",
      "---\n",
      "Signif. codes:  0 ‘***’ 0.001 ‘**’ 0.01 ‘*’ 0.05 ‘.’ 0.1 ‘ ’ 1\n",
      "#### meanbp ####\n",
      "Error: icustay_id\n",
      "                Df Sum Sq Mean Sq\n",
      "MORETHAN24HOURS  1  71813   71813\n",
      "\n",
      "Error: num_diff\n",
      "                Df  Sum Sq Mean Sq\n",
      "MORETHAN24HOURS  1 1120134 1120134\n",
      "\n",
      "Error: icustay_id:MORETHAN24HOURS\n",
      "                Df Sum Sq Mean Sq\n",
      "MORETHAN24HOURS  1 525301  525301\n",
      "\n",
      "Error: Within\n",
      "                             Df    Sum Sq Mean Sq F value Pr(>F)    \n",
      "MORETHAN24HOURS               1     25611   25611   82.67 <2e-16 ***\n",
      "MORETHAN24HOURS:num_diff      1    685125  685125 2211.46 <2e-16 ***\n",
      "Residuals                787778 244058644     310                   \n",
      "---\n",
      "Signif. codes:  0 ‘***’ 0.001 ‘**’ 0.01 ‘*’ 0.05 ‘.’ 0.1 ‘ ’ 1\n",
      "#### resprate ####\n",
      "Error: icustay_id\n",
      "                Df Sum Sq Mean Sq\n",
      "MORETHAN24HOURS  1 201335  201335\n",
      "\n",
      "Error: num_diff\n",
      "                Df Sum Sq Mean Sq\n",
      "MORETHAN24HOURS  1  79747   79747\n",
      "\n",
      "Error: icustay_id:MORETHAN24HOURS\n",
      "                Df Sum Sq Mean Sq\n",
      "MORETHAN24HOURS  1  97.67   97.67\n",
      "\n",
      "Error: Within\n",
      "                              Df   Sum Sq Mean Sq F value   Pr(>F)    \n",
      "MORETHAN24HOURS                1    24995   24995  672.64  < 2e-16 ***\n",
      "MORETHAN24HOURS:num_diff       1      702     702   18.88 1.39e-05 ***\n",
      "Residuals                1007205 37427571      37                     \n",
      "---\n",
      "Signif. codes:  0 ‘***’ 0.001 ‘**’ 0.01 ‘*’ 0.05 ‘.’ 0.1 ‘ ’ 1\n",
      "#### tempc ####\n",
      "Error: icustay_id\n",
      "                Df Sum Sq Mean Sq\n",
      "MORETHAN24HOURS  1 0.1661  0.1661\n",
      "\n",
      "Error: num_diff\n",
      "                Df Sum Sq Mean Sq\n",
      "MORETHAN24HOURS  1  387.9   387.9\n",
      "\n",
      "Error: icustay_id:MORETHAN24HOURS\n",
      "                Df Sum Sq Mean Sq\n",
      "MORETHAN24HOURS  1  233.7   233.7\n",
      "\n",
      "Error: Within\n",
      "                             Df Sum Sq Mean Sq F value  Pr(>F)    \n",
      "MORETHAN24HOURS               1     99   99.35   95.39 < 2e-16 ***\n",
      "MORETHAN24HOURS:num_diff      1     36   36.01   34.58 4.1e-09 ***\n",
      "Residuals                241413 251414    1.04                    \n",
      "---\n",
      "Signif. codes:  0 ‘***’ 0.001 ‘**’ 0.01 ‘*’ 0.05 ‘.’ 0.1 ‘ ’ 1\n",
      "#### spo2 ####\n",
      "Error: icustay_id\n",
      "                Df  Sum Sq Mean Sq\n",
      "MORETHAN24HOURS  1 2449846 2449846\n",
      "\n",
      "Error: num_diff\n",
      "                Df Sum Sq Mean Sq\n",
      "MORETHAN24HOURS  1 127746  127746\n",
      "\n",
      "Error: icustay_id:MORETHAN24HOURS\n",
      "                Df Sum Sq Mean Sq\n",
      "MORETHAN24HOURS  1 296922  296922\n",
      "\n",
      "Error: Within\n",
      "                             Df   Sum Sq Mean Sq F value Pr(>F)    \n",
      "MORETHAN24HOURS               1   437016  437016   23052 <2e-16 ***\n",
      "MORETHAN24HOURS:num_diff      1    58338   58338    3077 <2e-16 ***\n",
      "Residuals                979446 18568158      19                   \n",
      "---\n",
      "Signif. codes:  0 ‘***’ 0.001 ‘**’ 0.01 ‘*’ 0.05 ‘.’ 0.1 ‘ ’ 1\n",
      "#### glucose ####\n",
      "Error: icustay_id\n",
      "                Df Sum Sq Mean Sq\n",
      "MORETHAN24HOURS  1  21249   21249\n",
      "\n",
      "Error: num_diff\n",
      "                Df  Sum Sq Mean Sq\n",
      "MORETHAN24HOURS  1 1113493 1113493\n",
      "\n",
      "Error: icustay_id:MORETHAN24HOURS\n",
      "                Df Sum Sq Mean Sq\n",
      "MORETHAN24HOURS  1   6074    6074\n",
      "\n",
      "Error: Within\n",
      "                             Df    Sum Sq Mean Sq F value   Pr(>F)    \n",
      "MORETHAN24HOURS               1     46549   46549   11.31 0.000772 ***\n",
      "MORETHAN24HOURS:num_diff      1    112200  112200   27.25 1.79e-07 ***\n",
      "Residuals                180686 743856081    4117                     \n",
      "---\n",
      "Signif. codes:  0 ‘***’ 0.001 ‘**’ 0.01 ‘*’ 0.05 ‘.’ 0.1 ‘ ’ 1\n"
     ]
    }
   ],
   "source": [
    "for(vital in vital_signs){\n",
    "    cat(\"####\", vital, \"####\")\n",
    "    totest <- filtered_vitals_merged_df %>%\n",
    "        rename(VALUE = !!rlang::sym(vital)) %>%\n",
    "        select(VALUE, num_diff, MORETHAN24HOURS, icustay_id) %>%\n",
    "        drop_na(VALUE)\n",
    "\n",
    "    aov(VALUE ~ MORETHAN24HOURS*num_diff + Error(icustay_id/MORETHAN24HOURS+num_diff), data = totest) %>% summary() %>% print()\n",
    "}"
   ]
  },
  {
   "cell_type": "code",
   "execution_count": 784,
   "metadata": {},
   "outputs": [
    {
     "data": {
      "text/html": [
       "<table>\n",
       "<caption>A tibble: 6 × 4</caption>\n",
       "<thead>\n",
       "\t<tr><th scope=col>VALUE</th><th scope=col>num_diff</th><th scope=col>MORETHAN24HOURS</th><th scope=col>icustay_id</th></tr>\n",
       "\t<tr><th scope=col>&lt;dbl&gt;</th><th scope=col>&lt;dbl&gt;</th><th scope=col>&lt;lgl&gt;</th><th scope=col>&lt;dbl&gt;</th></tr>\n",
       "</thead>\n",
       "<tbody>\n",
       "\t<tr><td> 50</td><td> -0.5000000</td><td>FALSE</td><td>200024</td></tr>\n",
       "\t<tr><td>425</td><td> -0.1166667</td><td>FALSE</td><td>200029</td></tr>\n",
       "\t<tr><td>363</td><td> -1.7500000</td><td>FALSE</td><td>200030</td></tr>\n",
       "\t<tr><td>391</td><td> -1.2500000</td><td>FALSE</td><td>200030</td></tr>\n",
       "\t<tr><td>121</td><td>-19.6333333</td><td> TRUE</td><td>200059</td></tr>\n",
       "\t<tr><td>121</td><td>-19.6333333</td><td> TRUE</td><td>200059</td></tr>\n",
       "</tbody>\n",
       "</table>\n"
      ],
      "text/latex": [
       "A tibble: 6 × 4\n",
       "\\begin{tabular}{r|llll}\n",
       " VALUE & num\\_diff & MORETHAN24HOURS & icustay\\_id\\\\\n",
       " <dbl> & <dbl> & <lgl> & <dbl>\\\\\n",
       "\\hline\n",
       "\t  50 &  -0.5000000 & FALSE & 200024\\\\\n",
       "\t 425 &  -0.1166667 & FALSE & 200029\\\\\n",
       "\t 363 &  -1.7500000 & FALSE & 200030\\\\\n",
       "\t 391 &  -1.2500000 & FALSE & 200030\\\\\n",
       "\t 121 & -19.6333333 &  TRUE & 200059\\\\\n",
       "\t 121 & -19.6333333 &  TRUE & 200059\\\\\n",
       "\\end{tabular}\n"
      ],
      "text/markdown": [
       "\n",
       "A tibble: 6 × 4\n",
       "\n",
       "| VALUE &lt;dbl&gt; | num_diff &lt;dbl&gt; | MORETHAN24HOURS &lt;lgl&gt; | icustay_id &lt;dbl&gt; |\n",
       "|---|---|---|---|\n",
       "|  50 |  -0.5000000 | FALSE | 200024 |\n",
       "| 425 |  -0.1166667 | FALSE | 200029 |\n",
       "| 363 |  -1.7500000 | FALSE | 200030 |\n",
       "| 391 |  -1.2500000 | FALSE | 200030 |\n",
       "| 121 | -19.6333333 |  TRUE | 200059 |\n",
       "| 121 | -19.6333333 |  TRUE | 200059 |\n",
       "\n"
      ],
      "text/plain": [
       "  VALUE num_diff    MORETHAN24HOURS icustay_id\n",
       "1  50    -0.5000000 FALSE           200024    \n",
       "2 425    -0.1166667 FALSE           200029    \n",
       "3 363    -1.7500000 FALSE           200030    \n",
       "4 391    -1.2500000 FALSE           200030    \n",
       "5 121   -19.6333333  TRUE           200059    \n",
       "6 121   -19.6333333  TRUE           200059    "
      ]
     },
     "metadata": {},
     "output_type": "display_data"
    }
   ],
   "source": [
    "head(totest)"
   ]
  },
  {
   "cell_type": "markdown",
   "metadata": {},
   "source": [
    "#### ANCOVA analysis using intervals\n",
    "- MORETHAN24HOURS P-value tells you if this vital sign is a predictor (BP, HR, RR, TEMP)\n",
    "- INTERVAL P-value tells you if these values change depending on the interval being measured (most values)\n",
    "- MORETHAN24HOURS:INTERVAL P-value tells you if vital sign interacts with the interval being measured, that is, the extent of predictive value differs with time (BP especially, others are borderline significant)"
   ]
  },
  {
   "cell_type": "code",
   "execution_count": 730,
   "metadata": {},
   "outputs": [
    {
     "data": {
      "text/html": [
       "<table>\n",
       "<caption>A grouped_df: 6 × 5</caption>\n",
       "<thead>\n",
       "\t<tr><th scope=col>MORETHAN24HOURS</th><th scope=col>icustay_id</th><th scope=col>INTERVAL</th><th scope=col>ID</th><th scope=col>VALUE</th></tr>\n",
       "\t<tr><th scope=col>&lt;lgl&gt;</th><th scope=col>&lt;dbl&gt;</th><th scope=col>&lt;int&gt;</th><th scope=col>&lt;chr&gt;</th><th scope=col>&lt;dbl&gt;</th></tr>\n",
       "</thead>\n",
       "<tbody>\n",
       "\t<tr><td>FALSE</td><td>200024</td><td>1</td><td>max_heartrate</td><td> 123</td></tr>\n",
       "\t<tr><td>FALSE</td><td>200028</td><td>1</td><td>max_heartrate</td><td>  76</td></tr>\n",
       "\t<tr><td>FALSE</td><td>200029</td><td>1</td><td>max_heartrate</td><td>-Inf</td></tr>\n",
       "\t<tr><td>FALSE</td><td>200030</td><td>1</td><td>max_heartrate</td><td>  85</td></tr>\n",
       "\t<tr><td>FALSE</td><td>200065</td><td>1</td><td>max_heartrate</td><td> 122</td></tr>\n",
       "\t<tr><td>FALSE</td><td>200075</td><td>1</td><td>max_heartrate</td><td>  86</td></tr>\n",
       "</tbody>\n",
       "</table>\n"
      ],
      "text/latex": [
       "A grouped_df: 6 × 5\n",
       "\\begin{tabular}{r|lllll}\n",
       " MORETHAN24HOURS & icustay\\_id & INTERVAL & ID & VALUE\\\\\n",
       " <lgl> & <dbl> & <int> & <chr> & <dbl>\\\\\n",
       "\\hline\n",
       "\t FALSE & 200024 & 1 & max\\_heartrate &  123\\\\\n",
       "\t FALSE & 200028 & 1 & max\\_heartrate &   76\\\\\n",
       "\t FALSE & 200029 & 1 & max\\_heartrate & -Inf\\\\\n",
       "\t FALSE & 200030 & 1 & max\\_heartrate &   85\\\\\n",
       "\t FALSE & 200065 & 1 & max\\_heartrate &  122\\\\\n",
       "\t FALSE & 200075 & 1 & max\\_heartrate &   86\\\\\n",
       "\\end{tabular}\n"
      ],
      "text/markdown": [
       "\n",
       "A grouped_df: 6 × 5\n",
       "\n",
       "| MORETHAN24HOURS &lt;lgl&gt; | icustay_id &lt;dbl&gt; | INTERVAL &lt;int&gt; | ID &lt;chr&gt; | VALUE &lt;dbl&gt; |\n",
       "|---|---|---|---|---|\n",
       "| FALSE | 200024 | 1 | max_heartrate |  123 |\n",
       "| FALSE | 200028 | 1 | max_heartrate |   76 |\n",
       "| FALSE | 200029 | 1 | max_heartrate | -Inf |\n",
       "| FALSE | 200030 | 1 | max_heartrate |   85 |\n",
       "| FALSE | 200065 | 1 | max_heartrate |  122 |\n",
       "| FALSE | 200075 | 1 | max_heartrate |   86 |\n",
       "\n"
      ],
      "text/plain": [
       "  MORETHAN24HOURS icustay_id INTERVAL ID            VALUE\n",
       "1 FALSE           200024     1        max_heartrate  123 \n",
       "2 FALSE           200028     1        max_heartrate   76 \n",
       "3 FALSE           200029     1        max_heartrate -Inf \n",
       "4 FALSE           200030     1        max_heartrate   85 \n",
       "5 FALSE           200065     1        max_heartrate  122 \n",
       "6 FALSE           200075     1        max_heartrate   86 "
      ]
     },
     "metadata": {},
     "output_type": "display_data"
    }
   ],
   "source": [
    "head(totest)"
   ]
  },
  {
   "cell_type": "code",
   "execution_count": 776,
   "metadata": {},
   "outputs": [
    {
     "name": "stdout",
     "output_type": "stream",
     "text": [
      "#### mean_heartrate ####                            Df   Sum Sq Mean Sq F value   Pr(>F)    \n",
      "MORETHAN24HOURS              1    24979   24979  56.150 6.94e-14 ***\n",
      "INTERVAL                     1    11744   11744  26.399 2.80e-07 ***\n",
      "MORETHAN24HOURS:INTERVAL     1     1802    1802   4.051   0.0442 *  \n",
      "Residuals                25262 11238029     445                     \n",
      "---\n",
      "Signif. codes:  0 ‘***’ 0.001 ‘**’ 0.01 ‘*’ 0.05 ‘.’ 0.1 ‘ ’ 1\n",
      "6261 observations deleted due to missingness\n",
      "#### mean_sysbp ####                            Df   Sum Sq Mean Sq F value   Pr(>F)    \n",
      "MORETHAN24HOURS              1    72353   72353  153.99  < 2e-16 ***\n",
      "INTERVAL                     1   268122  268122  570.65  < 2e-16 ***\n",
      "MORETHAN24HOURS:INTERVAL     1     6777    6777   14.43 0.000146 ***\n",
      "Residuals                24954 11724621     470                     \n",
      "---\n",
      "Signif. codes:  0 ‘***’ 0.001 ‘**’ 0.01 ‘*’ 0.05 ‘.’ 0.1 ‘ ’ 1\n",
      "6569 observations deleted due to missingness\n",
      "#### mean_diasbp ####                            Df  Sum Sq Mean Sq F value   Pr(>F)    \n",
      "MORETHAN24HOURS              1    8142    8142  39.596 3.17e-10 ***\n",
      "INTERVAL                     1   31672   31672 154.035  < 2e-16 ***\n",
      "MORETHAN24HOURS:INTERVAL     1    1118    1118   5.438   0.0197 *  \n",
      "Residuals                24944 5128917     206                     \n",
      "---\n",
      "Signif. codes:  0 ‘***’ 0.001 ‘**’ 0.01 ‘*’ 0.05 ‘.’ 0.1 ‘ ’ 1\n",
      "6579 observations deleted due to missingness\n",
      "#### mean_meanbp ####                            Df  Sum Sq Mean Sq F value  Pr(>F)    \n",
      "MORETHAN24HOURS              1   16406   16406   62.34   3e-15 ***\n",
      "INTERVAL                     1   85141   85141  323.54 < 2e-16 ***\n",
      "MORETHAN24HOURS:INTERVAL     1    2788    2788   10.60 0.00113 ** \n",
      "Residuals                25225 6638149     263                    \n",
      "---\n",
      "Signif. codes:  0 ‘***’ 0.001 ‘**’ 0.01 ‘*’ 0.05 ‘.’ 0.1 ‘ ’ 1\n",
      "6298 observations deleted due to missingness\n",
      "#### mean_resprate ####                            Df  Sum Sq Mean Sq F value Pr(>F)    \n",
      "MORETHAN24HOURS              1    6143    6143 150.503 <2e-16 ***\n",
      "INTERVAL                     1    4239    4239 103.852 <2e-16 ***\n",
      "MORETHAN24HOURS:INTERVAL     1     200     200   4.888 0.0271 *  \n",
      "Residuals                25787 1052542      41                   \n",
      "---\n",
      "Signif. codes:  0 ‘***’ 0.001 ‘**’ 0.01 ‘*’ 0.05 ‘.’ 0.1 ‘ ’ 1\n",
      "5736 observations deleted due to missingness\n",
      "#### mean_tempc ####                           Df Sum Sq Mean Sq F value   Pr(>F)    \n",
      "MORETHAN24HOURS             1     34   34.23  21.685 3.25e-06 ***\n",
      "INTERVAL                    1     95   95.17  60.297 8.96e-15 ***\n",
      "MORETHAN24HOURS:INTERVAL    1      2    2.08   1.318    0.251    \n",
      "Residuals                9993  15773    1.58                     \n",
      "---\n",
      "Signif. codes:  0 ‘***’ 0.001 ‘**’ 0.01 ‘*’ 0.05 ‘.’ 0.1 ‘ ’ 1\n",
      "21530 observations deleted due to missingness\n",
      "#### mean_spo2 ####                            Df Sum Sq Mean Sq F value   Pr(>F)    \n",
      "MORETHAN24HOURS              1      0     0.0   0.002    0.967    \n",
      "INTERVAL                     1    701   701.0  26.670 2.43e-07 ***\n",
      "MORETHAN24HOURS:INTERVAL     1     13    12.5   0.476    0.490    \n",
      "Residuals                24586 646223    26.3                     \n",
      "---\n",
      "Signif. codes:  0 ‘***’ 0.001 ‘**’ 0.01 ‘*’ 0.05 ‘.’ 0.1 ‘ ’ 1\n",
      "6937 observations deleted due to missingness\n",
      "#### mean_glucose ####                            Df   Sum Sq Mean Sq F value Pr(>F)    \n",
      "MORETHAN24HOURS              1    18727   18727   3.528 0.0604 .  \n",
      "INTERVAL                     1   408170  408170  76.897 <2e-16 ***\n",
      "MORETHAN24HOURS:INTERVAL     1     1710    1710   0.322 0.5704    \n",
      "Residuals                12180 64651685    5308                   \n",
      "---\n",
      "Signif. codes:  0 ‘***’ 0.001 ‘**’ 0.01 ‘*’ 0.05 ‘.’ 0.1 ‘ ’ 1\n",
      "19343 observations deleted due to missingness\n",
      "#### median_heartrate ####                            Df   Sum Sq Mean Sq F value   Pr(>F)    \n",
      "MORETHAN24HOURS              1    25332   25332   56.46 5.93e-14 ***\n",
      "INTERVAL                     1    11370   11370   25.34 4.84e-07 ***\n",
      "MORETHAN24HOURS:INTERVAL     1     1988    1988    4.43   0.0353 *  \n",
      "Residuals                25262 11334688     449                     \n",
      "---\n",
      "Signif. codes:  0 ‘***’ 0.001 ‘**’ 0.01 ‘*’ 0.05 ‘.’ 0.1 ‘ ’ 1\n",
      "6261 observations deleted due to missingness\n",
      "#### median_sysbp ####                            Df   Sum Sq Mean Sq F value   Pr(>F)    \n",
      "MORETHAN24HOURS              1    68999   68999  144.32  < 2e-16 ***\n",
      "INTERVAL                     1   279753  279753  585.14  < 2e-16 ***\n",
      "MORETHAN24HOURS:INTERVAL     1     7736    7736   16.18 5.77e-05 ***\n",
      "Residuals                24954 11930334     478                     \n",
      "---\n",
      "Signif. codes:  0 ‘***’ 0.001 ‘**’ 0.01 ‘*’ 0.05 ‘.’ 0.1 ‘ ’ 1\n",
      "6569 observations deleted due to missingness\n",
      "#### median_diasbp ####                            Df  Sum Sq Mean Sq F value   Pr(>F)    \n",
      "MORETHAN24HOURS              1    7457    7457   35.93 2.08e-09 ***\n",
      "INTERVAL                     1   34555   34555  166.47  < 2e-16 ***\n",
      "MORETHAN24HOURS:INTERVAL     1    1156    1156    5.57   0.0183 *  \n",
      "Residuals                24944 5177686     208                     \n",
      "---\n",
      "Signif. codes:  0 ‘***’ 0.001 ‘**’ 0.01 ‘*’ 0.05 ‘.’ 0.1 ‘ ’ 1\n",
      "6579 observations deleted due to missingness\n",
      "#### median_meanbp ####                            Df  Sum Sq Mean Sq F value   Pr(>F)    \n",
      "MORETHAN24HOURS              1   15539   15539   58.68 1.92e-14 ***\n",
      "INTERVAL                     1   91407   91407  345.18  < 2e-16 ***\n",
      "MORETHAN24HOURS:INTERVAL     1    2977    2977   11.24 0.000801 ***\n",
      "Residuals                25225 6679779     265                     \n",
      "---\n",
      "Signif. codes:  0 ‘***’ 0.001 ‘**’ 0.01 ‘*’ 0.05 ‘.’ 0.1 ‘ ’ 1\n",
      "6298 observations deleted due to missingness\n",
      "#### median_resprate ####                            Df  Sum Sq Mean Sq F value Pr(>F)    \n",
      "MORETHAN24HOURS              1    6200    6200 149.801 <2e-16 ***\n",
      "INTERVAL                     1    4286    4286 103.548 <2e-16 ***\n",
      "MORETHAN24HOURS:INTERVAL     1     192     192   4.646 0.0311 *  \n",
      "Residuals                25787 1067279      41                   \n",
      "---\n",
      "Signif. codes:  0 ‘***’ 0.001 ‘**’ 0.01 ‘*’ 0.05 ‘.’ 0.1 ‘ ’ 1\n",
      "5736 observations deleted due to missingness\n",
      "#### median_tempc ####                           Df Sum Sq Mean Sq F value   Pr(>F)    \n",
      "MORETHAN24HOURS             1     34   34.26  21.686 3.25e-06 ***\n",
      "INTERVAL                    1     95   94.91  60.080 9.99e-15 ***\n",
      "MORETHAN24HOURS:INTERVAL    1      2    2.08   1.315    0.252    \n",
      "Residuals                9993  15785    1.58                     \n",
      "---\n",
      "Signif. codes:  0 ‘***’ 0.001 ‘**’ 0.01 ‘*’ 0.05 ‘.’ 0.1 ‘ ’ 1\n",
      "21530 observations deleted due to missingness\n",
      "#### median_spo2 ####                            Df Sum Sq Mean Sq F value   Pr(>F)    \n",
      "MORETHAN24HOURS              1      1     0.8   0.032    0.858    \n",
      "INTERVAL                     1    458   457.7  17.437 2.98e-05 ***\n",
      "MORETHAN24HOURS:INTERVAL     1     11    10.9   0.414    0.520    \n",
      "Residuals                24586 645299    26.2                     \n",
      "---\n",
      "Signif. codes:  0 ‘***’ 0.001 ‘**’ 0.01 ‘*’ 0.05 ‘.’ 0.1 ‘ ’ 1\n",
      "6937 observations deleted due to missingness\n",
      "#### median_glucose ####                            Df   Sum Sq Mean Sq F value Pr(>F)    \n",
      "MORETHAN24HOURS              1    18216   18216   3.434 0.0639 .  \n",
      "INTERVAL                     1   409376  409376  77.186 <2e-16 ***\n",
      "MORETHAN24HOURS:INTERVAL     1     1671    1671   0.315 0.5746    \n",
      "Residuals                12180 64599766    5304                   \n",
      "---\n",
      "Signif. codes:  0 ‘***’ 0.001 ‘**’ 0.01 ‘*’ 0.05 ‘.’ 0.1 ‘ ’ 1\n",
      "19343 observations deleted due to missingness\n",
      "#### max_heartrate ####"
     ]
    },
    {
     "ename": "ERROR",
     "evalue": "Error in lm.fit(x, y, offset = offset, singular.ok = singular.ok, ...): NA/NaN/Inf in 'y'\n",
     "output_type": "error",
     "traceback": [
      "Error in lm.fit(x, y, offset = offset, singular.ok = singular.ok, ...): NA/NaN/Inf in 'y'\nTraceback:\n",
      "1. aov(VALUE ~ MORETHAN24HOURS * INTERVAL, data = totest) %>% summary() %>% \n .     print()",
      "2. eval(lhs, parent, parent)",
      "3. eval(lhs, parent, parent)",
      "4. aov(VALUE ~ MORETHAN24HOURS * INTERVAL, data = totest)",
      "5. eval(lmcall, parent.frame())",
      "6. eval(lmcall, parent.frame())",
      "7. stats::lm(formula = VALUE ~ MORETHAN24HOURS * INTERVAL, data = totest, \n .     singular.ok = TRUE)",
      "8. lm.fit(x, y, offset = offset, singular.ok = singular.ok, ...)"
     ]
    }
   ],
   "source": [
    "for(vital in unique(melt_results_df$ID)){\n",
    "    cat(\"####\", vital, \"####\")\n",
    "    totest <- melt_results_df %>%\n",
    "         filter(ID == vital)\n",
    "    aov(VALUE ~ MORETHAN24HOURS*INTERVAL, data = totest) %>% summary() %>% print()\n",
    "}"
   ]
  },
  {
   "cell_type": "code",
   "execution_count": 607,
   "metadata": {},
   "outputs": [
    {
     "data": {
      "text/html": [
       "<table>\n",
       "<caption>A grouped_df: 20 × 5</caption>\n",
       "<thead>\n",
       "\t<tr><th scope=col>MORETHAN24HOURS</th><th scope=col>ID</th><th scope=col>HOURSBEFOREPRESSORS</th><th scope=col>MEAN</th><th scope=col>SD</th></tr>\n",
       "\t<tr><th scope=col>&lt;lgl&gt;</th><th scope=col>&lt;chr&gt;</th><th scope=col>&lt;int&gt;</th><th scope=col>&lt;dbl&gt;</th><th scope=col>&lt;dbl&gt;</th></tr>\n",
       "</thead>\n",
       "<tbody>\n",
       "\t<tr><td>FALSE</td><td>mean_heartrate</td><td> 1</td><td>91.41500</td><td>21.21292</td></tr>\n",
       "\t<tr><td>FALSE</td><td>mean_heartrate</td><td> 2</td><td>92.21219</td><td>21.51887</td></tr>\n",
       "\t<tr><td>FALSE</td><td>mean_heartrate</td><td> 3</td><td>92.65327</td><td>21.08484</td></tr>\n",
       "\t<tr><td>FALSE</td><td>mean_heartrate</td><td> 4</td><td>93.21743</td><td>21.09499</td></tr>\n",
       "\t<tr><td>FALSE</td><td>mean_heartrate</td><td> 5</td><td>92.31238</td><td>21.01638</td></tr>\n",
       "\t<tr><td>FALSE</td><td>mean_heartrate</td><td> 6</td><td>92.16242</td><td>20.68711</td></tr>\n",
       "\t<tr><td>FALSE</td><td>mean_heartrate</td><td> 7</td><td>91.11147</td><td>20.10573</td></tr>\n",
       "\t<tr><td>FALSE</td><td>mean_heartrate</td><td> 8</td><td>90.84620</td><td>20.14667</td></tr>\n",
       "\t<tr><td>FALSE</td><td>mean_heartrate</td><td> 9</td><td>90.64875</td><td>19.89788</td></tr>\n",
       "\t<tr><td>FALSE</td><td>mean_heartrate</td><td>10</td><td>90.35138</td><td>19.99352</td></tr>\n",
       "\t<tr><td> TRUE</td><td>mean_heartrate</td><td> 1</td><td>94.77468</td><td>20.85273</td></tr>\n",
       "\t<tr><td> TRUE</td><td>mean_heartrate</td><td> 2</td><td>95.01239</td><td>21.77615</td></tr>\n",
       "\t<tr><td> TRUE</td><td>mean_heartrate</td><td> 3</td><td>94.28023</td><td>21.15217</td></tr>\n",
       "\t<tr><td> TRUE</td><td>mean_heartrate</td><td> 4</td><td>93.87445</td><td>21.48022</td></tr>\n",
       "\t<tr><td> TRUE</td><td>mean_heartrate</td><td> 5</td><td>94.18279</td><td>22.23688</td></tr>\n",
       "\t<tr><td> TRUE</td><td>mean_heartrate</td><td> 6</td><td>93.37169</td><td>22.03303</td></tr>\n",
       "\t<tr><td> TRUE</td><td>mean_heartrate</td><td> 7</td><td>92.78928</td><td>21.51595</td></tr>\n",
       "\t<tr><td> TRUE</td><td>mean_heartrate</td><td> 8</td><td>92.52914</td><td>21.10009</td></tr>\n",
       "\t<tr><td> TRUE</td><td>mean_heartrate</td><td> 9</td><td>91.71520</td><td>21.01079</td></tr>\n",
       "\t<tr><td> TRUE</td><td>mean_heartrate</td><td>10</td><td>92.64983</td><td>20.98000</td></tr>\n",
       "</tbody>\n",
       "</table>\n"
      ],
      "text/latex": [
       "A grouped_df: 20 × 5\n",
       "\\begin{tabular}{r|lllll}\n",
       " MORETHAN24HOURS & ID & HOURSBEFOREPRESSORS & MEAN & SD\\\\\n",
       " <lgl> & <chr> & <int> & <dbl> & <dbl>\\\\\n",
       "\\hline\n",
       "\t FALSE & mean\\_heartrate &  1 & 91.41500 & 21.21292\\\\\n",
       "\t FALSE & mean\\_heartrate &  2 & 92.21219 & 21.51887\\\\\n",
       "\t FALSE & mean\\_heartrate &  3 & 92.65327 & 21.08484\\\\\n",
       "\t FALSE & mean\\_heartrate &  4 & 93.21743 & 21.09499\\\\\n",
       "\t FALSE & mean\\_heartrate &  5 & 92.31238 & 21.01638\\\\\n",
       "\t FALSE & mean\\_heartrate &  6 & 92.16242 & 20.68711\\\\\n",
       "\t FALSE & mean\\_heartrate &  7 & 91.11147 & 20.10573\\\\\n",
       "\t FALSE & mean\\_heartrate &  8 & 90.84620 & 20.14667\\\\\n",
       "\t FALSE & mean\\_heartrate &  9 & 90.64875 & 19.89788\\\\\n",
       "\t FALSE & mean\\_heartrate & 10 & 90.35138 & 19.99352\\\\\n",
       "\t  TRUE & mean\\_heartrate &  1 & 94.77468 & 20.85273\\\\\n",
       "\t  TRUE & mean\\_heartrate &  2 & 95.01239 & 21.77615\\\\\n",
       "\t  TRUE & mean\\_heartrate &  3 & 94.28023 & 21.15217\\\\\n",
       "\t  TRUE & mean\\_heartrate &  4 & 93.87445 & 21.48022\\\\\n",
       "\t  TRUE & mean\\_heartrate &  5 & 94.18279 & 22.23688\\\\\n",
       "\t  TRUE & mean\\_heartrate &  6 & 93.37169 & 22.03303\\\\\n",
       "\t  TRUE & mean\\_heartrate &  7 & 92.78928 & 21.51595\\\\\n",
       "\t  TRUE & mean\\_heartrate &  8 & 92.52914 & 21.10009\\\\\n",
       "\t  TRUE & mean\\_heartrate &  9 & 91.71520 & 21.01079\\\\\n",
       "\t  TRUE & mean\\_heartrate & 10 & 92.64983 & 20.98000\\\\\n",
       "\\end{tabular}\n"
      ],
      "text/markdown": [
       "\n",
       "A grouped_df: 20 × 5\n",
       "\n",
       "| MORETHAN24HOURS &lt;lgl&gt; | ID &lt;chr&gt; | HOURSBEFOREPRESSORS &lt;int&gt; | MEAN &lt;dbl&gt; | SD &lt;dbl&gt; |\n",
       "|---|---|---|---|---|\n",
       "| FALSE | mean_heartrate |  1 | 91.41500 | 21.21292 |\n",
       "| FALSE | mean_heartrate |  2 | 92.21219 | 21.51887 |\n",
       "| FALSE | mean_heartrate |  3 | 92.65327 | 21.08484 |\n",
       "| FALSE | mean_heartrate |  4 | 93.21743 | 21.09499 |\n",
       "| FALSE | mean_heartrate |  5 | 92.31238 | 21.01638 |\n",
       "| FALSE | mean_heartrate |  6 | 92.16242 | 20.68711 |\n",
       "| FALSE | mean_heartrate |  7 | 91.11147 | 20.10573 |\n",
       "| FALSE | mean_heartrate |  8 | 90.84620 | 20.14667 |\n",
       "| FALSE | mean_heartrate |  9 | 90.64875 | 19.89788 |\n",
       "| FALSE | mean_heartrate | 10 | 90.35138 | 19.99352 |\n",
       "|  TRUE | mean_heartrate |  1 | 94.77468 | 20.85273 |\n",
       "|  TRUE | mean_heartrate |  2 | 95.01239 | 21.77615 |\n",
       "|  TRUE | mean_heartrate |  3 | 94.28023 | 21.15217 |\n",
       "|  TRUE | mean_heartrate |  4 | 93.87445 | 21.48022 |\n",
       "|  TRUE | mean_heartrate |  5 | 94.18279 | 22.23688 |\n",
       "|  TRUE | mean_heartrate |  6 | 93.37169 | 22.03303 |\n",
       "|  TRUE | mean_heartrate |  7 | 92.78928 | 21.51595 |\n",
       "|  TRUE | mean_heartrate |  8 | 92.52914 | 21.10009 |\n",
       "|  TRUE | mean_heartrate |  9 | 91.71520 | 21.01079 |\n",
       "|  TRUE | mean_heartrate | 10 | 92.64983 | 20.98000 |\n",
       "\n"
      ],
      "text/plain": [
       "   MORETHAN24HOURS ID             HOURSBEFOREPRESSORS MEAN     SD      \n",
       "1  FALSE           mean_heartrate  1                  91.41500 21.21292\n",
       "2  FALSE           mean_heartrate  2                  92.21219 21.51887\n",
       "3  FALSE           mean_heartrate  3                  92.65327 21.08484\n",
       "4  FALSE           mean_heartrate  4                  93.21743 21.09499\n",
       "5  FALSE           mean_heartrate  5                  92.31238 21.01638\n",
       "6  FALSE           mean_heartrate  6                  92.16242 20.68711\n",
       "7  FALSE           mean_heartrate  7                  91.11147 20.10573\n",
       "8  FALSE           mean_heartrate  8                  90.84620 20.14667\n",
       "9  FALSE           mean_heartrate  9                  90.64875 19.89788\n",
       "10 FALSE           mean_heartrate 10                  90.35138 19.99352\n",
       "11  TRUE           mean_heartrate  1                  94.77468 20.85273\n",
       "12  TRUE           mean_heartrate  2                  95.01239 21.77615\n",
       "13  TRUE           mean_heartrate  3                  94.28023 21.15217\n",
       "14  TRUE           mean_heartrate  4                  93.87445 21.48022\n",
       "15  TRUE           mean_heartrate  5                  94.18279 22.23688\n",
       "16  TRUE           mean_heartrate  6                  93.37169 22.03303\n",
       "17  TRUE           mean_heartrate  7                  92.78928 21.51595\n",
       "18  TRUE           mean_heartrate  8                  92.52914 21.10009\n",
       "19  TRUE           mean_heartrate  9                  91.71520 21.01079\n",
       "20  TRUE           mean_heartrate 10                  92.64983 20.98000"
      ]
     },
     "metadata": {},
     "output_type": "display_data"
    }
   ],
   "source": [
    "melt_results_df %>%\n",
    "    group_by(MORETHAN24HOURS, ID, INTERVAL) %>%\n",
    "    summarize(MEAN = mean(VALUE, na.rm = T), SD = sd(VALUE, na.rm = T)) %>%\n",
    "    rename(HOURSBEFOREPRESSORS = INTERVAL) %>%\n",
    "    filter(grepl(\"mean_heartrate\", ID))"
   ]
  },
  {
   "cell_type": "code",
   "execution_count": 608,
   "metadata": {},
   "outputs": [
    {
     "data": {
      "text/html": [
       "<table>\n",
       "<caption>A grouped_df: 20 × 5</caption>\n",
       "<thead>\n",
       "\t<tr><th scope=col>MORETHAN24HOURS</th><th scope=col>ID</th><th scope=col>HOURSBEFOREPRESSORS</th><th scope=col>MEAN</th><th scope=col>SD</th></tr>\n",
       "\t<tr><th scope=col>&lt;lgl&gt;</th><th scope=col>&lt;chr&gt;</th><th scope=col>&lt;int&gt;</th><th scope=col>&lt;dbl&gt;</th><th scope=col>&lt;dbl&gt;</th></tr>\n",
       "</thead>\n",
       "<tbody>\n",
       "\t<tr><td>FALSE</td><td>mean_meanbp</td><td> 1</td><td>69.35602</td><td>15.60029</td></tr>\n",
       "\t<tr><td>FALSE</td><td>mean_meanbp</td><td> 2</td><td>68.24777</td><td>15.87528</td></tr>\n",
       "\t<tr><td>FALSE</td><td>mean_meanbp</td><td> 3</td><td>70.48433</td><td>15.84340</td></tr>\n",
       "\t<tr><td>FALSE</td><td>mean_meanbp</td><td> 4</td><td>71.64385</td><td>16.91313</td></tr>\n",
       "\t<tr><td>FALSE</td><td>mean_meanbp</td><td> 5</td><td>72.73630</td><td>17.26846</td></tr>\n",
       "\t<tr><td>FALSE</td><td>mean_meanbp</td><td> 6</td><td>72.56045</td><td>15.88373</td></tr>\n",
       "\t<tr><td>FALSE</td><td>mean_meanbp</td><td> 7</td><td>74.25833</td><td>16.76144</td></tr>\n",
       "\t<tr><td>FALSE</td><td>mean_meanbp</td><td> 8</td><td>74.11508</td><td>16.69597</td></tr>\n",
       "\t<tr><td>FALSE</td><td>mean_meanbp</td><td> 9</td><td>74.70031</td><td>16.82940</td></tr>\n",
       "\t<tr><td>FALSE</td><td>mean_meanbp</td><td>10</td><td>74.64452</td><td>15.75822</td></tr>\n",
       "\t<tr><td> TRUE</td><td>mean_meanbp</td><td> 1</td><td>68.35063</td><td>15.62187</td></tr>\n",
       "\t<tr><td> TRUE</td><td>mean_meanbp</td><td> 2</td><td>68.07017</td><td>16.44194</td></tr>\n",
       "\t<tr><td> TRUE</td><td>mean_meanbp</td><td> 3</td><td>68.88730</td><td>14.73134</td></tr>\n",
       "\t<tr><td> TRUE</td><td>mean_meanbp</td><td> 4</td><td>70.11492</td><td>17.37472</td></tr>\n",
       "\t<tr><td> TRUE</td><td>mean_meanbp</td><td> 5</td><td>70.19766</td><td>16.15138</td></tr>\n",
       "\t<tr><td> TRUE</td><td>mean_meanbp</td><td> 6</td><td>70.42289</td><td>15.52950</td></tr>\n",
       "\t<tr><td> TRUE</td><td>mean_meanbp</td><td> 7</td><td>71.09781</td><td>15.70751</td></tr>\n",
       "\t<tr><td> TRUE</td><td>mean_meanbp</td><td> 8</td><td>71.87231</td><td>16.57693</td></tr>\n",
       "\t<tr><td> TRUE</td><td>mean_meanbp</td><td> 9</td><td>71.73543</td><td>17.35978</td></tr>\n",
       "\t<tr><td> TRUE</td><td>mean_meanbp</td><td>10</td><td>72.82933</td><td>17.28736</td></tr>\n",
       "</tbody>\n",
       "</table>\n"
      ],
      "text/latex": [
       "A grouped_df: 20 × 5\n",
       "\\begin{tabular}{r|lllll}\n",
       " MORETHAN24HOURS & ID & HOURSBEFOREPRESSORS & MEAN & SD\\\\\n",
       " <lgl> & <chr> & <int> & <dbl> & <dbl>\\\\\n",
       "\\hline\n",
       "\t FALSE & mean\\_meanbp &  1 & 69.35602 & 15.60029\\\\\n",
       "\t FALSE & mean\\_meanbp &  2 & 68.24777 & 15.87528\\\\\n",
       "\t FALSE & mean\\_meanbp &  3 & 70.48433 & 15.84340\\\\\n",
       "\t FALSE & mean\\_meanbp &  4 & 71.64385 & 16.91313\\\\\n",
       "\t FALSE & mean\\_meanbp &  5 & 72.73630 & 17.26846\\\\\n",
       "\t FALSE & mean\\_meanbp &  6 & 72.56045 & 15.88373\\\\\n",
       "\t FALSE & mean\\_meanbp &  7 & 74.25833 & 16.76144\\\\\n",
       "\t FALSE & mean\\_meanbp &  8 & 74.11508 & 16.69597\\\\\n",
       "\t FALSE & mean\\_meanbp &  9 & 74.70031 & 16.82940\\\\\n",
       "\t FALSE & mean\\_meanbp & 10 & 74.64452 & 15.75822\\\\\n",
       "\t  TRUE & mean\\_meanbp &  1 & 68.35063 & 15.62187\\\\\n",
       "\t  TRUE & mean\\_meanbp &  2 & 68.07017 & 16.44194\\\\\n",
       "\t  TRUE & mean\\_meanbp &  3 & 68.88730 & 14.73134\\\\\n",
       "\t  TRUE & mean\\_meanbp &  4 & 70.11492 & 17.37472\\\\\n",
       "\t  TRUE & mean\\_meanbp &  5 & 70.19766 & 16.15138\\\\\n",
       "\t  TRUE & mean\\_meanbp &  6 & 70.42289 & 15.52950\\\\\n",
       "\t  TRUE & mean\\_meanbp &  7 & 71.09781 & 15.70751\\\\\n",
       "\t  TRUE & mean\\_meanbp &  8 & 71.87231 & 16.57693\\\\\n",
       "\t  TRUE & mean\\_meanbp &  9 & 71.73543 & 17.35978\\\\\n",
       "\t  TRUE & mean\\_meanbp & 10 & 72.82933 & 17.28736\\\\\n",
       "\\end{tabular}\n"
      ],
      "text/markdown": [
       "\n",
       "A grouped_df: 20 × 5\n",
       "\n",
       "| MORETHAN24HOURS &lt;lgl&gt; | ID &lt;chr&gt; | HOURSBEFOREPRESSORS &lt;int&gt; | MEAN &lt;dbl&gt; | SD &lt;dbl&gt; |\n",
       "|---|---|---|---|---|\n",
       "| FALSE | mean_meanbp |  1 | 69.35602 | 15.60029 |\n",
       "| FALSE | mean_meanbp |  2 | 68.24777 | 15.87528 |\n",
       "| FALSE | mean_meanbp |  3 | 70.48433 | 15.84340 |\n",
       "| FALSE | mean_meanbp |  4 | 71.64385 | 16.91313 |\n",
       "| FALSE | mean_meanbp |  5 | 72.73630 | 17.26846 |\n",
       "| FALSE | mean_meanbp |  6 | 72.56045 | 15.88373 |\n",
       "| FALSE | mean_meanbp |  7 | 74.25833 | 16.76144 |\n",
       "| FALSE | mean_meanbp |  8 | 74.11508 | 16.69597 |\n",
       "| FALSE | mean_meanbp |  9 | 74.70031 | 16.82940 |\n",
       "| FALSE | mean_meanbp | 10 | 74.64452 | 15.75822 |\n",
       "|  TRUE | mean_meanbp |  1 | 68.35063 | 15.62187 |\n",
       "|  TRUE | mean_meanbp |  2 | 68.07017 | 16.44194 |\n",
       "|  TRUE | mean_meanbp |  3 | 68.88730 | 14.73134 |\n",
       "|  TRUE | mean_meanbp |  4 | 70.11492 | 17.37472 |\n",
       "|  TRUE | mean_meanbp |  5 | 70.19766 | 16.15138 |\n",
       "|  TRUE | mean_meanbp |  6 | 70.42289 | 15.52950 |\n",
       "|  TRUE | mean_meanbp |  7 | 71.09781 | 15.70751 |\n",
       "|  TRUE | mean_meanbp |  8 | 71.87231 | 16.57693 |\n",
       "|  TRUE | mean_meanbp |  9 | 71.73543 | 17.35978 |\n",
       "|  TRUE | mean_meanbp | 10 | 72.82933 | 17.28736 |\n",
       "\n"
      ],
      "text/plain": [
       "   MORETHAN24HOURS ID          HOURSBEFOREPRESSORS MEAN     SD      \n",
       "1  FALSE           mean_meanbp  1                  69.35602 15.60029\n",
       "2  FALSE           mean_meanbp  2                  68.24777 15.87528\n",
       "3  FALSE           mean_meanbp  3                  70.48433 15.84340\n",
       "4  FALSE           mean_meanbp  4                  71.64385 16.91313\n",
       "5  FALSE           mean_meanbp  5                  72.73630 17.26846\n",
       "6  FALSE           mean_meanbp  6                  72.56045 15.88373\n",
       "7  FALSE           mean_meanbp  7                  74.25833 16.76144\n",
       "8  FALSE           mean_meanbp  8                  74.11508 16.69597\n",
       "9  FALSE           mean_meanbp  9                  74.70031 16.82940\n",
       "10 FALSE           mean_meanbp 10                  74.64452 15.75822\n",
       "11  TRUE           mean_meanbp  1                  68.35063 15.62187\n",
       "12  TRUE           mean_meanbp  2                  68.07017 16.44194\n",
       "13  TRUE           mean_meanbp  3                  68.88730 14.73134\n",
       "14  TRUE           mean_meanbp  4                  70.11492 17.37472\n",
       "15  TRUE           mean_meanbp  5                  70.19766 16.15138\n",
       "16  TRUE           mean_meanbp  6                  70.42289 15.52950\n",
       "17  TRUE           mean_meanbp  7                  71.09781 15.70751\n",
       "18  TRUE           mean_meanbp  8                  71.87231 16.57693\n",
       "19  TRUE           mean_meanbp  9                  71.73543 17.35978\n",
       "20  TRUE           mean_meanbp 10                  72.82933 17.28736"
      ]
     },
     "metadata": {},
     "output_type": "display_data"
    }
   ],
   "source": [
    "melt_results_df %>%\n",
    "    group_by(MORETHAN24HOURS, ID, INTERVAL) %>%\n",
    "    summarize(MEAN = mean(VALUE, na.rm = T), SD = sd(VALUE, na.rm = T)) %>%\n",
    "    rename(HOURSBEFOREPRESSORS = INTERVAL) %>%\n",
    "    filter(grepl(\"mean_meanbp\", ID))"
   ]
  },
  {
   "cell_type": "markdown",
   "metadata": {},
   "source": [
    "### Table significance (UNPAIRED!!!)"
   ]
  },
  {
   "cell_type": "code",
   "execution_count": 436,
   "metadata": {},
   "outputs": [],
   "source": [
    "computeTest <- function(d, value=\"VALUE\", comparison=\"GROUP\"){\n",
    "    paired_df <- d %>% \n",
    "        select(!!rlang::sym(comparison), !!rlang::sym(value)) \n",
    "    \n",
    "    items <- unique(unlist(d[,comparison]))\n",
    "\n",
    "    result_unpair <- t.test(filter(d, !!rlang::sym(comparison) == items[1])$VALUE, \n",
    "       filter(d, !!rlang::sym(comparison) == items[2])$VALUE, paired = FALSE)\n",
    "    result_wilcox <- wilcox.test(filter(d, !!rlang::sym(comparison) == items[1])$VALUE, \n",
    "       filter(d, !!rlang::sym(comparison) == items[2])$VALUE, paired = FALSE)\n",
    "    \n",
    "    diff = mean(filter(d, !!rlang::sym(comparison) == items[1])$VALUE) -  \n",
    "        mean(filter(d, !!rlang::sym(comparison) == items[2])$VALUE)\n",
    "    \n",
    "    return(data.frame(list(\n",
    "                           'P_UNPAIR' = result_unpair$p.value, \n",
    "                           'P_WILCOX' = result_wilcox$p.value,\n",
    "                            'GROUP1' = mean(filter(d, !!rlang::sym(comparison) == items[1])$VALUE),\n",
    "                            'GROUP2' = mean(filter(d, !!rlang::sym(comparison) == items[2])$VALUE),\n",
    "                            'DIFF' = diff,\n",
    "                            'COMPARE' = paste(items[1], items[2], sep ='-'))))\n",
    "}"
   ]
  },
  {
   "cell_type": "code",
   "execution_count": 437,
   "metadata": {},
   "outputs": [
    {
     "data": {
      "text/html": [
       "<table>\n",
       "<caption>A grouped_df: 16 × 8</caption>\n",
       "<thead>\n",
       "\t<tr><th scope=col>ID</th><th scope=col>P_UNPAIR</th><th scope=col>P_WILCOX</th><th scope=col>GROUP1</th><th scope=col>GROUP2</th><th scope=col>DIFF</th><th scope=col>COMPARE</th><th scope=col>significant</th></tr>\n",
       "\t<tr><th scope=col>&lt;chr&gt;</th><th scope=col>&lt;dbl&gt;</th><th scope=col>&lt;dbl&gt;</th><th scope=col>&lt;dbl&gt;</th><th scope=col>&lt;dbl&gt;</th><th scope=col>&lt;dbl&gt;</th><th scope=col>&lt;fct&gt;</th><th scope=col>&lt;lgl&gt;</th></tr>\n",
       "</thead>\n",
       "<tbody>\n",
       "\t<tr><td>mean_diasbp     </td><td>1.265908e-01</td><td>7.990480e-02</td><td> 54.65006</td><td> 54.01456</td><td> 0.6354959</td><td>FALSE-TRUE</td><td>FALSE</td></tr>\n",
       "\t<tr><td>mean_glucose    </td><td>1.453990e-01</td><td>1.298682e-01</td><td>164.73997</td><td>159.43578</td><td> 5.3041867</td><td>FALSE-TRUE</td><td>FALSE</td></tr>\n",
       "\t<tr><td>mean_heartrate  </td><td>7.396542e-09</td><td>6.240572e-10</td><td> 91.07418</td><td> 94.58918</td><td>-3.5150026</td><td>FALSE-TRUE</td><td> TRUE</td></tr>\n",
       "\t<tr><td>mean_meanbp     </td><td>3.468222e-02</td><td>1.985997e-03</td><td> 69.63378</td><td> 68.66941</td><td> 0.9643703</td><td>FALSE-TRUE</td><td> TRUE</td></tr>\n",
       "\t<tr><td>mean_resprate   </td><td>6.778389e-11</td><td>1.444753e-10</td><td> 19.26933</td><td> 20.39776</td><td>-1.1284338</td><td>FALSE-TRUE</td><td> TRUE</td></tr>\n",
       "\t<tr><td>mean_spo2       </td><td>2.552621e-01</td><td>3.172923e-05</td><td> 96.50264</td><td> 96.29761</td><td> 0.2050311</td><td>FALSE-TRUE</td><td> TRUE</td></tr>\n",
       "\t<tr><td>mean_sysbp      </td><td>5.848989e-05</td><td>1.667281e-07</td><td>103.46338</td><td>101.02786</td><td> 2.4355228</td><td>FALSE-TRUE</td><td> TRUE</td></tr>\n",
       "\t<tr><td>mean_tempc      </td><td>9.100300e-03</td><td>5.935066e-03</td><td> 36.57469</td><td> 36.71611</td><td>-0.1414213</td><td>FALSE-TRUE</td><td> TRUE</td></tr>\n",
       "\t<tr><td>median_diasbp   </td><td>1.570693e-01</td><td>1.164519e-01</td><td> 54.43520</td><td> 53.83966</td><td> 0.5955390</td><td>FALSE-TRUE</td><td>FALSE</td></tr>\n",
       "\t<tr><td>median_glucose  </td><td>1.477810e-01</td><td>1.308821e-01</td><td>164.73314</td><td>159.46254</td><td> 5.2706000</td><td>FALSE-TRUE</td><td>FALSE</td></tr>\n",
       "\t<tr><td>median_heartrate</td><td>6.797186e-09</td><td>4.379703e-10</td><td> 91.01803</td><td> 94.57254</td><td>-3.5545160</td><td>FALSE-TRUE</td><td> TRUE</td></tr>\n",
       "\t<tr><td>median_meanbp   </td><td>7.026619e-02</td><td>6.991684e-03</td><td> 69.25965</td><td> 68.42698</td><td> 0.8326648</td><td>FALSE-TRUE</td><td> TRUE</td></tr>\n",
       "\t<tr><td>median_resprate </td><td>2.043218e-10</td><td>4.090619e-10</td><td> 19.24892</td><td> 20.36807</td><td>-1.1191481</td><td>FALSE-TRUE</td><td> TRUE</td></tr>\n",
       "\t<tr><td>median_spo2     </td><td>1.827352e-01</td><td>1.070270e-05</td><td> 96.63672</td><td> 96.39724</td><td> 0.2394849</td><td>FALSE-TRUE</td><td> TRUE</td></tr>\n",
       "\t<tr><td>median_sysbp    </td><td>2.372695e-04</td><td>1.114924e-06</td><td>103.10358</td><td>100.83560</td><td> 2.2679811</td><td>FALSE-TRUE</td><td> TRUE</td></tr>\n",
       "\t<tr><td>median_tempc    </td><td>9.123843e-03</td><td>5.837347e-03</td><td> 36.57483</td><td> 36.71630</td><td>-0.1414714</td><td>FALSE-TRUE</td><td> TRUE</td></tr>\n",
       "</tbody>\n",
       "</table>\n"
      ],
      "text/latex": [
       "A grouped_df: 16 × 8\n",
       "\\begin{tabular}{r|llllllll}\n",
       " ID & P\\_UNPAIR & P\\_WILCOX & GROUP1 & GROUP2 & DIFF & COMPARE & significant\\\\\n",
       " <chr> & <dbl> & <dbl> & <dbl> & <dbl> & <dbl> & <fct> & <lgl>\\\\\n",
       "\\hline\n",
       "\t mean\\_diasbp      & 1.265908e-01 & 7.990480e-02 &  54.65006 &  54.01456 &  0.6354959 & FALSE-TRUE & FALSE\\\\\n",
       "\t mean\\_glucose     & 1.453990e-01 & 1.298682e-01 & 164.73997 & 159.43578 &  5.3041867 & FALSE-TRUE & FALSE\\\\\n",
       "\t mean\\_heartrate   & 7.396542e-09 & 6.240572e-10 &  91.07418 &  94.58918 & -3.5150026 & FALSE-TRUE &  TRUE\\\\\n",
       "\t mean\\_meanbp      & 3.468222e-02 & 1.985997e-03 &  69.63378 &  68.66941 &  0.9643703 & FALSE-TRUE &  TRUE\\\\\n",
       "\t mean\\_resprate    & 6.778389e-11 & 1.444753e-10 &  19.26933 &  20.39776 & -1.1284338 & FALSE-TRUE &  TRUE\\\\\n",
       "\t mean\\_spo2        & 2.552621e-01 & 3.172923e-05 &  96.50264 &  96.29761 &  0.2050311 & FALSE-TRUE &  TRUE\\\\\n",
       "\t mean\\_sysbp       & 5.848989e-05 & 1.667281e-07 & 103.46338 & 101.02786 &  2.4355228 & FALSE-TRUE &  TRUE\\\\\n",
       "\t mean\\_tempc       & 9.100300e-03 & 5.935066e-03 &  36.57469 &  36.71611 & -0.1414213 & FALSE-TRUE &  TRUE\\\\\n",
       "\t median\\_diasbp    & 1.570693e-01 & 1.164519e-01 &  54.43520 &  53.83966 &  0.5955390 & FALSE-TRUE & FALSE\\\\\n",
       "\t median\\_glucose   & 1.477810e-01 & 1.308821e-01 & 164.73314 & 159.46254 &  5.2706000 & FALSE-TRUE & FALSE\\\\\n",
       "\t median\\_heartrate & 6.797186e-09 & 4.379703e-10 &  91.01803 &  94.57254 & -3.5545160 & FALSE-TRUE &  TRUE\\\\\n",
       "\t median\\_meanbp    & 7.026619e-02 & 6.991684e-03 &  69.25965 &  68.42698 &  0.8326648 & FALSE-TRUE &  TRUE\\\\\n",
       "\t median\\_resprate  & 2.043218e-10 & 4.090619e-10 &  19.24892 &  20.36807 & -1.1191481 & FALSE-TRUE &  TRUE\\\\\n",
       "\t median\\_spo2      & 1.827352e-01 & 1.070270e-05 &  96.63672 &  96.39724 &  0.2394849 & FALSE-TRUE &  TRUE\\\\\n",
       "\t median\\_sysbp     & 2.372695e-04 & 1.114924e-06 & 103.10358 & 100.83560 &  2.2679811 & FALSE-TRUE &  TRUE\\\\\n",
       "\t median\\_tempc     & 9.123843e-03 & 5.837347e-03 &  36.57483 &  36.71630 & -0.1414714 & FALSE-TRUE &  TRUE\\\\\n",
       "\\end{tabular}\n"
      ],
      "text/markdown": [
       "\n",
       "A grouped_df: 16 × 8\n",
       "\n",
       "| ID &lt;chr&gt; | P_UNPAIR &lt;dbl&gt; | P_WILCOX &lt;dbl&gt; | GROUP1 &lt;dbl&gt; | GROUP2 &lt;dbl&gt; | DIFF &lt;dbl&gt; | COMPARE &lt;fct&gt; | significant &lt;lgl&gt; |\n",
       "|---|---|---|---|---|---|---|---|\n",
       "| mean_diasbp      | 1.265908e-01 | 7.990480e-02 |  54.65006 |  54.01456 |  0.6354959 | FALSE-TRUE | FALSE |\n",
       "| mean_glucose     | 1.453990e-01 | 1.298682e-01 | 164.73997 | 159.43578 |  5.3041867 | FALSE-TRUE | FALSE |\n",
       "| mean_heartrate   | 7.396542e-09 | 6.240572e-10 |  91.07418 |  94.58918 | -3.5150026 | FALSE-TRUE |  TRUE |\n",
       "| mean_meanbp      | 3.468222e-02 | 1.985997e-03 |  69.63378 |  68.66941 |  0.9643703 | FALSE-TRUE |  TRUE |\n",
       "| mean_resprate    | 6.778389e-11 | 1.444753e-10 |  19.26933 |  20.39776 | -1.1284338 | FALSE-TRUE |  TRUE |\n",
       "| mean_spo2        | 2.552621e-01 | 3.172923e-05 |  96.50264 |  96.29761 |  0.2050311 | FALSE-TRUE |  TRUE |\n",
       "| mean_sysbp       | 5.848989e-05 | 1.667281e-07 | 103.46338 | 101.02786 |  2.4355228 | FALSE-TRUE |  TRUE |\n",
       "| mean_tempc       | 9.100300e-03 | 5.935066e-03 |  36.57469 |  36.71611 | -0.1414213 | FALSE-TRUE |  TRUE |\n",
       "| median_diasbp    | 1.570693e-01 | 1.164519e-01 |  54.43520 |  53.83966 |  0.5955390 | FALSE-TRUE | FALSE |\n",
       "| median_glucose   | 1.477810e-01 | 1.308821e-01 | 164.73314 | 159.46254 |  5.2706000 | FALSE-TRUE | FALSE |\n",
       "| median_heartrate | 6.797186e-09 | 4.379703e-10 |  91.01803 |  94.57254 | -3.5545160 | FALSE-TRUE |  TRUE |\n",
       "| median_meanbp    | 7.026619e-02 | 6.991684e-03 |  69.25965 |  68.42698 |  0.8326648 | FALSE-TRUE |  TRUE |\n",
       "| median_resprate  | 2.043218e-10 | 4.090619e-10 |  19.24892 |  20.36807 | -1.1191481 | FALSE-TRUE |  TRUE |\n",
       "| median_spo2      | 1.827352e-01 | 1.070270e-05 |  96.63672 |  96.39724 |  0.2394849 | FALSE-TRUE |  TRUE |\n",
       "| median_sysbp     | 2.372695e-04 | 1.114924e-06 | 103.10358 | 100.83560 |  2.2679811 | FALSE-TRUE |  TRUE |\n",
       "| median_tempc     | 9.123843e-03 | 5.837347e-03 |  36.57483 |  36.71630 | -0.1414714 | FALSE-TRUE |  TRUE |\n",
       "\n"
      ],
      "text/plain": [
       "   ID               P_UNPAIR     P_WILCOX     GROUP1    GROUP2    DIFF      \n",
       "1  mean_diasbp      1.265908e-01 7.990480e-02  54.65006  54.01456  0.6354959\n",
       "2  mean_glucose     1.453990e-01 1.298682e-01 164.73997 159.43578  5.3041867\n",
       "3  mean_heartrate   7.396542e-09 6.240572e-10  91.07418  94.58918 -3.5150026\n",
       "4  mean_meanbp      3.468222e-02 1.985997e-03  69.63378  68.66941  0.9643703\n",
       "5  mean_resprate    6.778389e-11 1.444753e-10  19.26933  20.39776 -1.1284338\n",
       "6  mean_spo2        2.552621e-01 3.172923e-05  96.50264  96.29761  0.2050311\n",
       "7  mean_sysbp       5.848989e-05 1.667281e-07 103.46338 101.02786  2.4355228\n",
       "8  mean_tempc       9.100300e-03 5.935066e-03  36.57469  36.71611 -0.1414213\n",
       "9  median_diasbp    1.570693e-01 1.164519e-01  54.43520  53.83966  0.5955390\n",
       "10 median_glucose   1.477810e-01 1.308821e-01 164.73314 159.46254  5.2706000\n",
       "11 median_heartrate 6.797186e-09 4.379703e-10  91.01803  94.57254 -3.5545160\n",
       "12 median_meanbp    7.026619e-02 6.991684e-03  69.25965  68.42698  0.8326648\n",
       "13 median_resprate  2.043218e-10 4.090619e-10  19.24892  20.36807 -1.1191481\n",
       "14 median_spo2      1.827352e-01 1.070270e-05  96.63672  96.39724  0.2394849\n",
       "15 median_sysbp     2.372695e-04 1.114924e-06 103.10358 100.83560  2.2679811\n",
       "16 median_tempc     9.123843e-03 5.837347e-03  36.57483  36.71630 -0.1414714\n",
       "   COMPARE    significant\n",
       "1  FALSE-TRUE FALSE      \n",
       "2  FALSE-TRUE FALSE      \n",
       "3  FALSE-TRUE  TRUE      \n",
       "4  FALSE-TRUE  TRUE      \n",
       "5  FALSE-TRUE  TRUE      \n",
       "6  FALSE-TRUE  TRUE      \n",
       "7  FALSE-TRUE  TRUE      \n",
       "8  FALSE-TRUE  TRUE      \n",
       "9  FALSE-TRUE FALSE      \n",
       "10 FALSE-TRUE FALSE      \n",
       "11 FALSE-TRUE  TRUE      \n",
       "12 FALSE-TRUE  TRUE      \n",
       "13 FALSE-TRUE  TRUE      \n",
       "14 FALSE-TRUE  TRUE      \n",
       "15 FALSE-TRUE  TRUE      \n",
       "16 FALSE-TRUE  TRUE      "
      ]
     },
     "metadata": {},
     "output_type": "display_data"
    }
   ],
   "source": [
    "melt_results_df %>%\n",
    "    filter(INTERVAL == 1) %>%\n",
    "    drop_na(VALUE) %>%\n",
    "    group_by(ID) %>%\n",
    "    do(computeTest(.,value=\"VALUE\", comparison=\"MORETHAN24HOURS\")) %>%\n",
    "    mutate(significant = P_WILCOX < 0.05)"
   ]
  },
  {
   "cell_type": "markdown",
   "metadata": {},
   "source": [
    "### ANCOVA Plotting"
   ]
  },
  {
   "cell_type": "code",
   "execution_count": 461,
   "metadata": {},
   "outputs": [],
   "source": [
    "toplot <- melt_results_df %>%\n",
    "    mutate(INTERVAL = -INTERVAL) %>%\n",
    "    drop_na(VALUE) %>%\n",
    "    filter(grepl(\"mean_\", ID))"
   ]
  },
  {
   "cell_type": "code",
   "execution_count": 462,
   "metadata": {},
   "outputs": [],
   "source": [
    "options(repr.plot.width=10, repr.plot.height=3)\n",
    "g <- ggplot(toplot, \n",
    "            aes(x=toplot$INTERVAL, y=toplot$VALUE, color=factor(toplot$MORETHAN24HOURS))) +\n",
    "#geom_point() + \n",
    "geom_smooth(method=lm, aes(fill=factor(toplot$MORETHAN24HOURS))) + \n",
    "xlab(\"Hours before pressors\") + ylab(\"Value\") +\n",
    "theme_classic() + theme(legend.title = element_blank()) +\n",
    "facet_wrap(. ~ ID, scale=\"free\", nrow=1)"
   ]
  },
  {
   "cell_type": "code",
   "execution_count": 463,
   "metadata": {},
   "outputs": [
    {
     "data": {
      "image/png": "[encoded data removed]",
      "text/plain": [
       "plot without title"
      ]
     },
     "metadata": {},
     "output_type": "display_data"
    }
   ],
   "source": [
    "plot(g)"
   ]
  },
  {
   "cell_type": "markdown",
   "metadata": {},
   "source": [
    "# Model ideas:\n",
    "- Age, Sex, Race + Continuous Vitals + Class of Diagnosis"
   ]
  },
  {
   "cell_type": "markdown",
   "metadata": {},
   "source": [
    "# OLD PLOTTING CODE"
   ]
  },
  {
   "cell_type": "code",
   "execution_count": 216,
   "metadata": {},
   "outputs": [],
   "source": [
    "diff_melt_results_df <- melt_results_df %>%\n",
    "    mutate(LESS4H_FAC = if(LESS4H){\"ACUTE\"}else{\"BEFORE\"}) %>%\n",
    "    ungroup() %>%\n",
    "    select(-LESS4H) %>%\n",
    "    spread(key=LESS4H_FAC, value=VALUE) %>%\n",
    "    mutate(DIFF = ACUTE - BEFORE) %>%\n",
    "    drop_na(DIFF)"
   ]
  },
  {
   "cell_type": "code",
   "execution_count": 219,
   "metadata": {},
   "outputs": [
    {
     "data": {
      "text/html": [
       "<table>\n",
       "<caption>A tibble: 8 × 4</caption>\n",
       "<thead>\n",
       "\t<tr><th scope=col>ID</th><th scope=col>MEAN</th><th scope=col>MEDIAN</th><th scope=col>SD</th></tr>\n",
       "\t<tr><th scope=col>&lt;chr&gt;</th><th scope=col>&lt;dbl&gt;</th><th scope=col>&lt;dbl&gt;</th><th scope=col>&lt;dbl&gt;</th></tr>\n",
       "</thead>\n",
       "<tbody>\n",
       "\t<tr><td>mean_diasbp   </td><td> -5.0795903</td><td>-4.6190476</td><td>10.5574709</td></tr>\n",
       "\t<tr><td>mean_glucose  </td><td> -1.0703783</td><td>-2.0000000</td><td>57.3764423</td></tr>\n",
       "\t<tr><td>mean_heartrate</td><td>  0.5978909</td><td>-0.2500000</td><td>15.0400201</td></tr>\n",
       "\t<tr><td>mean_meanbp   </td><td> -6.2249491</td><td>-5.9400000</td><td>12.7268102</td></tr>\n",
       "\t<tr><td>mean_resprate </td><td> -0.1385922</td><td> 0.0000000</td><td> 4.6541797</td></tr>\n",
       "\t<tr><td>mean_spo2     </td><td> -0.4325486</td><td> 0.0000000</td><td> 4.7919907</td></tr>\n",
       "\t<tr><td>mean_sysbp    </td><td>-10.4044132</td><td>-9.5045455</td><td>17.7648518</td></tr>\n",
       "\t<tr><td>mean_tempc    </td><td>  0.1458291</td><td> 0.1249992</td><td> 0.9608547</td></tr>\n",
       "</tbody>\n",
       "</table>\n"
      ],
      "text/latex": [
       "A tibble: 8 × 4\n",
       "\\begin{tabular}{r|llll}\n",
       " ID & MEAN & MEDIAN & SD\\\\\n",
       " <chr> & <dbl> & <dbl> & <dbl>\\\\\n",
       "\\hline\n",
       "\t mean\\_diasbp    &  -5.0795903 & -4.6190476 & 10.5574709\\\\\n",
       "\t mean\\_glucose   &  -1.0703783 & -2.0000000 & 57.3764423\\\\\n",
       "\t mean\\_heartrate &   0.5978909 & -0.2500000 & 15.0400201\\\\\n",
       "\t mean\\_meanbp    &  -6.2249491 & -5.9400000 & 12.7268102\\\\\n",
       "\t mean\\_resprate  &  -0.1385922 &  0.0000000 &  4.6541797\\\\\n",
       "\t mean\\_spo2      &  -0.4325486 &  0.0000000 &  4.7919907\\\\\n",
       "\t mean\\_sysbp     & -10.4044132 & -9.5045455 & 17.7648518\\\\\n",
       "\t mean\\_tempc     &   0.1458291 &  0.1249992 &  0.9608547\\\\\n",
       "\\end{tabular}\n"
      ],
      "text/markdown": [
       "\n",
       "A tibble: 8 × 4\n",
       "\n",
       "| ID &lt;chr&gt; | MEAN &lt;dbl&gt; | MEDIAN &lt;dbl&gt; | SD &lt;dbl&gt; |\n",
       "|---|---|---|---|\n",
       "| mean_diasbp    |  -5.0795903 | -4.6190476 | 10.5574709 |\n",
       "| mean_glucose   |  -1.0703783 | -2.0000000 | 57.3764423 |\n",
       "| mean_heartrate |   0.5978909 | -0.2500000 | 15.0400201 |\n",
       "| mean_meanbp    |  -6.2249491 | -5.9400000 | 12.7268102 |\n",
       "| mean_resprate  |  -0.1385922 |  0.0000000 |  4.6541797 |\n",
       "| mean_spo2      |  -0.4325486 |  0.0000000 |  4.7919907 |\n",
       "| mean_sysbp     | -10.4044132 | -9.5045455 | 17.7648518 |\n",
       "| mean_tempc     |   0.1458291 |  0.1249992 |  0.9608547 |\n",
       "\n"
      ],
      "text/plain": [
       "  ID             MEAN        MEDIAN     SD        \n",
       "1 mean_diasbp     -5.0795903 -4.6190476 10.5574709\n",
       "2 mean_glucose    -1.0703783 -2.0000000 57.3764423\n",
       "3 mean_heartrate   0.5978909 -0.2500000 15.0400201\n",
       "4 mean_meanbp     -6.2249491 -5.9400000 12.7268102\n",
       "5 mean_resprate   -0.1385922  0.0000000  4.6541797\n",
       "6 mean_spo2       -0.4325486  0.0000000  4.7919907\n",
       "7 mean_sysbp     -10.4044132 -9.5045455 17.7648518\n",
       "8 mean_tempc       0.1458291  0.1249992  0.9608547"
      ]
     },
     "metadata": {},
     "output_type": "display_data"
    }
   ],
   "source": [
    "diff_melt_results_df %>%\n",
    "    group_by(ID) %>%\n",
    "    summarize(MEAN = mean(DIFF), MEDIAN = median(DIFF), SD = sd(DIFF)) %>%\n",
    "    filter(grepl(\"mean_\", ID))"
   ]
  },
  {
   "cell_type": "code",
   "execution_count": 220,
   "metadata": {},
   "outputs": [
    {
     "data": {
      "text/html": [
       "<table>\n",
       "<caption>A tibble: 8 × 4</caption>\n",
       "<thead>\n",
       "\t<tr><th scope=col>ID</th><th scope=col>MEAN</th><th scope=col>MEDIAN</th><th scope=col>SD</th></tr>\n",
       "\t<tr><th scope=col>&lt;chr&gt;</th><th scope=col>&lt;dbl&gt;</th><th scope=col>&lt;dbl&gt;</th><th scope=col>&lt;dbl&gt;</th></tr>\n",
       "</thead>\n",
       "<tbody>\n",
       "\t<tr><td>median_diasbp   </td><td> -4.72675829</td><td>-4.0000000</td><td>10.9233758</td></tr>\n",
       "\t<tr><td>median_glucose  </td><td>  1.93764511</td><td> 0.0000000</td><td>58.6315656</td></tr>\n",
       "\t<tr><td>median_heartrate</td><td>  0.94528754</td><td> 0.0000000</td><td>16.0242214</td></tr>\n",
       "\t<tr><td>median_meanbp   </td><td> -5.88472780</td><td>-5.2500000</td><td>13.2660207</td></tr>\n",
       "\t<tr><td>median_resprate </td><td> -0.04557188</td><td> 0.0000000</td><td> 5.0407835</td></tr>\n",
       "\t<tr><td>median_spo2     </td><td> -0.52318959</td><td> 0.0000000</td><td> 4.7320416</td></tr>\n",
       "\t<tr><td>median_sysbp    </td><td>-10.12702102</td><td>-9.0000000</td><td>19.2407517</td></tr>\n",
       "\t<tr><td>median_tempc    </td><td>  0.14083532</td><td> 0.1111094</td><td> 0.9843607</td></tr>\n",
       "</tbody>\n",
       "</table>\n"
      ],
      "text/latex": [
       "A tibble: 8 × 4\n",
       "\\begin{tabular}{r|llll}\n",
       " ID & MEAN & MEDIAN & SD\\\\\n",
       " <chr> & <dbl> & <dbl> & <dbl>\\\\\n",
       "\\hline\n",
       "\t median\\_diasbp    &  -4.72675829 & -4.0000000 & 10.9233758\\\\\n",
       "\t median\\_glucose   &   1.93764511 &  0.0000000 & 58.6315656\\\\\n",
       "\t median\\_heartrate &   0.94528754 &  0.0000000 & 16.0242214\\\\\n",
       "\t median\\_meanbp    &  -5.88472780 & -5.2500000 & 13.2660207\\\\\n",
       "\t median\\_resprate  &  -0.04557188 &  0.0000000 &  5.0407835\\\\\n",
       "\t median\\_spo2      &  -0.52318959 &  0.0000000 &  4.7320416\\\\\n",
       "\t median\\_sysbp     & -10.12702102 & -9.0000000 & 19.2407517\\\\\n",
       "\t median\\_tempc     &   0.14083532 &  0.1111094 &  0.9843607\\\\\n",
       "\\end{tabular}\n"
      ],
      "text/markdown": [
       "\n",
       "A tibble: 8 × 4\n",
       "\n",
       "| ID &lt;chr&gt; | MEAN &lt;dbl&gt; | MEDIAN &lt;dbl&gt; | SD &lt;dbl&gt; |\n",
       "|---|---|---|---|\n",
       "| median_diasbp    |  -4.72675829 | -4.0000000 | 10.9233758 |\n",
       "| median_glucose   |   1.93764511 |  0.0000000 | 58.6315656 |\n",
       "| median_heartrate |   0.94528754 |  0.0000000 | 16.0242214 |\n",
       "| median_meanbp    |  -5.88472780 | -5.2500000 | 13.2660207 |\n",
       "| median_resprate  |  -0.04557188 |  0.0000000 |  5.0407835 |\n",
       "| median_spo2      |  -0.52318959 |  0.0000000 |  4.7320416 |\n",
       "| median_sysbp     | -10.12702102 | -9.0000000 | 19.2407517 |\n",
       "| median_tempc     |   0.14083532 |  0.1111094 |  0.9843607 |\n",
       "\n"
      ],
      "text/plain": [
       "  ID               MEAN         MEDIAN     SD        \n",
       "1 median_diasbp     -4.72675829 -4.0000000 10.9233758\n",
       "2 median_glucose     1.93764511  0.0000000 58.6315656\n",
       "3 median_heartrate   0.94528754  0.0000000 16.0242214\n",
       "4 median_meanbp     -5.88472780 -5.2500000 13.2660207\n",
       "5 median_resprate   -0.04557188  0.0000000  5.0407835\n",
       "6 median_spo2       -0.52318959  0.0000000  4.7320416\n",
       "7 median_sysbp     -10.12702102 -9.0000000 19.2407517\n",
       "8 median_tempc       0.14083532  0.1111094  0.9843607"
      ]
     },
     "metadata": {},
     "output_type": "display_data"
    }
   ],
   "source": [
    "diff_melt_results_df %>%\n",
    "    group_by(ID) %>%\n",
    "    summarize(MEAN = mean(DIFF), MEDIAN = median(DIFF), SD = sd(DIFF)) %>%\n",
    "    filter(grepl(\"median_\", ID))"
   ]
  },
  {
   "cell_type": "markdown",
   "metadata": {},
   "source": [
    "### Plotting"
   ]
  },
  {
   "cell_type": "code",
   "execution_count": 224,
   "metadata": {},
   "outputs": [
    {
     "name": "stderr",
     "output_type": "stream",
     "text": [
      "Adding missing grouping variables: `LESS4H`\n"
     ]
    },
    {
     "data": {
      "text/html": [
       "5127"
      ],
      "text/latex": [
       "5127"
      ],
      "text/markdown": [
       "5127"
      ],
      "text/plain": [
       "[1] 5127"
      ]
     },
     "metadata": {},
     "output_type": "display_data"
    }
   ],
   "source": [
    "# icustay_ids being plotted\n",
    "melt_results_df %>% select(icustay_id) %>% unlist() %>% unique() %>% length()"
   ]
  },
  {
   "cell_type": "code",
   "execution_count": 177,
   "metadata": {},
   "outputs": [
    {
     "data": {
      "image/png": "[encoded data removed]",
      "text/plain": [
       "plot without title"
      ]
     },
     "metadata": {},
     "output_type": "display_data"
    }
   ],
   "source": [
    "options(repr.plot.width=10, repr.plot.height=3)\n",
    "melt_results_df %>%\n",
    "    filter(grepl(\"mean_\", ID)) %>%\n",
    "    ggplot(aes(x = LESS4H, y = VALUE)) +\n",
    "    geom_line(aes(group = icustay_id), size = 0.1) +\n",
    "    geom_boxplot() +\n",
    "    facet_grid(~ID)"
   ]
  },
  {
   "cell_type": "code",
   "execution_count": 184,
   "metadata": {},
   "outputs": [
    {
     "data": {
      "image/png": "[encoded data removed]",
      "text/plain": [
       "plot without title"
      ]
     },
     "metadata": {},
     "output_type": "display_data"
    }
   ],
   "source": [
    "options(repr.plot.width=10, repr.plot.height=3)\n",
    "melt_results_norm_df %>%\n",
    "    filter(grepl(\"mean_\", ID)) %>%\n",
    "    ggplot(aes(x = LESS4H, y = VALUE_NORM)) +\n",
    "    geom_line(aes(group = icustay_id), size = 0.1) +\n",
    "    geom_boxplot() +\n",
    "    facet_grid(~ID)"
   ]
  },
  {
   "cell_type": "code",
   "execution_count": 225,
   "metadata": {},
   "outputs": [
    {
     "data": {
      "text/html": [
       "2911"
      ],
      "text/latex": [
       "2911"
      ],
      "text/markdown": [
       "2911"
      ],
      "text/plain": [
       "[1] 2911"
      ]
     },
     "metadata": {},
     "output_type": "display_data"
    }
   ],
   "source": [
    "diff_melt_results_df %>% select(icustay_id) %>% unlist() %>% unique() %>% length()"
   ]
  },
  {
   "cell_type": "code",
   "execution_count": 218,
   "metadata": {},
   "outputs": [
    {
     "data": {
      "image/png": "[encoded data removed]",
      "text/plain": [
       "plot without title"
      ]
     },
     "metadata": {},
     "output_type": "display_data"
    }
   ],
   "source": [
    "# icustay_ids being plotted\n",
    "diff_melt_results_df %>%\n",
    "    filter(grepl(\"mean_\", ID)) %>%\n",
    "    ggplot(aes(x = ID, y = DIFF)) +\n",
    "    geom_boxplot()"
   ]
  }
 ],
 "metadata": {
  "kernelspec": {
   "display_name": "R",
   "language": "R",
   "name": "ir"
  },
  "language_info": {
   "codemirror_mode": "r",
   "file_extension": ".r",
   "mimetype": "text/x-r-source",
   "name": "R",
   "pygments_lexer": "r",
   "version": "3.6.0"
  }
 },
 "nbformat": 4,
 "nbformat_minor": 2
}
