{
 "cells": [
  {
   "cell_type": "markdown",
   "metadata": {},
   "source": [
    "# Confirmation of MIMIC results with eICU database\n",
    "- Ruoyi Jiang\n",
    "- December 14, 2019\n",
    "- Pre-liminary"
   ]
  },
  {
   "cell_type": "code",
   "execution_count": 6,
   "metadata": {},
   "outputs": [
    {
     "name": "stderr",
     "output_type": "stream",
     "text": [
      "── \u001b[1mAttaching packages\u001b[22m ─────────────────────────────────────── tidyverse 1.2.1 ──\n",
      "\u001b[32m✔\u001b[39m \u001b[34mggplot2\u001b[39m 3.2.0     \u001b[32m✔\u001b[39m \u001b[34mpurrr  \u001b[39m 0.3.2\n",
      "\u001b[32m✔\u001b[39m \u001b[34mtibble \u001b[39m 2.1.1     \u001b[32m✔\u001b[39m \u001b[34mdplyr  \u001b[39m 0.8.1\n",
      "\u001b[32m✔\u001b[39m \u001b[34mtidyr  \u001b[39m 0.8.3     \u001b[32m✔\u001b[39m \u001b[34mstringr\u001b[39m 1.4.0\n",
      "\u001b[32m✔\u001b[39m \u001b[34mreadr  \u001b[39m 1.3.1     \u001b[32m✔\u001b[39m \u001b[34mforcats\u001b[39m 0.4.0\n",
      "── \u001b[1mConflicts\u001b[22m ────────────────────────────────────────── tidyverse_conflicts() ──\n",
      "\u001b[31m✖\u001b[39m \u001b[34mdplyr\u001b[39m::\u001b[32mfilter()\u001b[39m masks \u001b[34mstats\u001b[39m::filter()\n",
      "\u001b[31m✖\u001b[39m \u001b[34mdplyr\u001b[39m::\u001b[32mlag()\u001b[39m    masks \u001b[34mstats\u001b[39m::lag()\n"
     ]
    }
   ],
   "source": [
    "library(tidyverse)\n",
    "library(fasttime)\n",
    "library(ggplot2)"
   ]
  },
  {
   "cell_type": "code",
   "execution_count": 7,
   "metadata": {},
   "outputs": [],
   "source": [
    "PLOT_DIR <- \"~/Google Drive/vasopressors/figures_v3\""
   ]
  },
  {
   "cell_type": "code",
   "execution_count": 8,
   "metadata": {},
   "outputs": [],
   "source": [
    "### Plotting base_theme\n",
    "base_theme <- function(){ theme_bw() + \n",
    "            theme(text=element_text(size=8)) +\n",
    "            theme(plot.title=element_text(size=8)) +\n",
    "            theme(plot.background=element_blank(),\n",
    "                  panel.grid.major=element_blank(), \n",
    "                  panel.grid.minor=element_blank()) +\n",
    "            theme(strip.background=element_blank(),\n",
    "                  strip.text=element_text(size=7, face='bold')) +\n",
    "            theme(axis.title=element_text(size=8, vjust=0.25),\n",
    "                  axis.text.x=element_text(size=8, vjust=0.5, hjust=0.5),\n",
    "                  axis.text.y=element_text(size=8)) +\n",
    "            theme(legend.text=element_text(size=7),\n",
    "                  legend.title=element_text(size=7),\n",
    "                  legend.key.height=grid::unit(10, \"points\"), \n",
    "                  legend.key.width=grid::unit(10, \"points\"))}"
   ]
  },
  {
   "cell_type": "code",
   "execution_count": 9,
   "metadata": {},
   "outputs": [
    {
     "name": "stderr",
     "output_type": "stream",
     "text": [
      "Parsed with column specification:\n",
      "cols(\n",
      "  medicationid = \u001b[32mcol_double()\u001b[39m,\n",
      "  patientunitstayid = \u001b[32mcol_double()\u001b[39m,\n",
      "  drugorderoffset = \u001b[32mcol_double()\u001b[39m,\n",
      "  drugstartoffset = \u001b[32mcol_double()\u001b[39m,\n",
      "  drugivadmixture = \u001b[31mcol_character()\u001b[39m,\n",
      "  drugordercancelled = \u001b[31mcol_character()\u001b[39m,\n",
      "  drugname = \u001b[31mcol_character()\u001b[39m,\n",
      "  drughiclseqno = \u001b[32mcol_double()\u001b[39m,\n",
      "  dosage = \u001b[31mcol_character()\u001b[39m,\n",
      "  routeadmin = \u001b[31mcol_character()\u001b[39m,\n",
      "  frequency = \u001b[31mcol_character()\u001b[39m,\n",
      "  loadingdose = \u001b[33mcol_logical()\u001b[39m,\n",
      "  prn = \u001b[31mcol_character()\u001b[39m,\n",
      "  drugstopoffset = \u001b[32mcol_double()\u001b[39m,\n",
      "  gtc = \u001b[32mcol_double()\u001b[39m\n",
      ")\n",
      "Warning message:\n",
      "“254 parsing failures.\n",
      "    row         col           expected actual                                                                                                                     file\n",
      "1843066 loadingdose 1/0/T/F/TRUE/FALSE   0 mg '/Users/ruoyijiang/Projects/Haimovich_Pressors/collection/eicu/alpha.physionet.org/files/eicu-crd/2.0/medication.csv.gz'\n",
      "1848106 loadingdose 1/0/T/F/TRUE/FALSE   0 mg '/Users/ruoyijiang/Projects/Haimovich_Pressors/collection/eicu/alpha.physionet.org/files/eicu-crd/2.0/medication.csv.gz'\n",
      "1848108 loadingdose 1/0/T/F/TRUE/FALSE   0 mg '/Users/ruoyijiang/Projects/Haimovich_Pressors/collection/eicu/alpha.physionet.org/files/eicu-crd/2.0/medication.csv.gz'\n",
      "1848443 loadingdose 1/0/T/F/TRUE/FALSE   0 mg '/Users/ruoyijiang/Projects/Haimovich_Pressors/collection/eicu/alpha.physionet.org/files/eicu-crd/2.0/medication.csv.gz'\n",
      "1848444 loadingdose 1/0/T/F/TRUE/FALSE   0 mg '/Users/ruoyijiang/Projects/Haimovich_Pressors/collection/eicu/alpha.physionet.org/files/eicu-crd/2.0/medication.csv.gz'\n",
      "....... ........... .................. ...... ........................................................................................................................\n",
      "See problems(...) for more details.\n",
      "”"
     ]
    }
   ],
   "source": [
    "EICU_DIR <- \"/Users/ruoyijiang/Projects/Haimovich_Pressors/collection/eicu/alpha.physionet.org/files/eicu-crd/2.0\"\n",
    "#EICU_DIR <- \"/Users/ruoyijiang/Projects/Haimovich_Pressors/collection/eicu_demo/alpha.physionet.org/files/eicu-crd-demo/2.0\"\n",
    "\n",
    "eicu_infusions <- read_csv(file.path(EICU_DIR, \"medication.csv.gz\"))"
   ]
  },
  {
   "cell_type": "code",
   "execution_count": 10,
   "metadata": {},
   "outputs": [],
   "source": [
    "input_df <- eicu_infusions %>%\n",
    "    filter(routeadmin == 'CENTRAL IV') %>%\n",
    "    mutate(drugname = tolower(drugname)) %>%\n",
    "    filter(grepl(\"norepinephrine\", drugname) | \n",
    "           grepl(\"epinephrine\", drugname) |\n",
    "           grepl(\"phenylephrine\", drugname) |\n",
    "           grepl(\"vasopressin\", drugname) |\n",
    "           grepl(\"dobutamine\", drugname) |\n",
    "           grepl(\"dopamine\", drugname)\n",
    "           )  %>%\n",
    "    mutate(duration_minutes = drugstopoffset - drugstartoffset) %>%\n",
    "    filter(duration_minutes > 0) %>%\n",
    "    group_by(patientunitstayid) %>%\n",
    "    arrange(drugstartoffset) %>%\n",
    "    mutate(intervening_minutes = (drugstopoffset - lag(drugstopoffset)) - duration_minutes) %>%\n",
    "    rowwise() %>%\n",
    "    mutate(increasing = if(intervening_minutes < (24*60) | is.na(intervening_minutes)){0}else(1)) %>%\n",
    "    ungroup() %>%\n",
    "    group_by(patientunitstayid) %>%\n",
    "    mutate(continuous_course = cumsum(increasing)) %>% select(-intervening_minutes, -increasing)"
   ]
  },
  {
   "cell_type": "code",
   "execution_count": 11,
   "metadata": {},
   "outputs": [],
   "source": [
    "output_df <- input_df %>%\n",
    "    group_by(patientunitstayid, continuous_course) %>%\n",
    "    mutate(MORETHAN24HOURS = sum(duration_minutes) > 24*60, \n",
    "           STATUS = if(sum(duration_minutes) > 24*60){\"MORETHAN24HOURS\"}\n",
    "           else if(sum(duration_minutes) <= 24*60 & sum(duration_minutes) > 6*60){\"LESSTHAN24HOURS\"}\n",
    "           else if(sum(duration_minutes) <= 6*60){\"LESSTHAN6HOURS\"}\n",
    "               ) %>%\n",
    "    summarize(MORETHAN24HOURS = unique(MORETHAN24HOURS)[1],\n",
    "                duration_minutes = sum(duration_minutes),\n",
    "              drugname = paste(unique(drugname), collapse=\",\")) %>%\n",
    "    mutate(RESPONSE = grepl(\",\", drugname) | MORETHAN24HOURS) %>%\n",
    "    mutate(DIFF = duration_minutes/60)"
   ]
  },
  {
   "cell_type": "code",
   "execution_count": 12,
   "metadata": {},
   "outputs": [
    {
     "data": {
      "text/html": [
       "<ol class=list-inline>\n",
       "\t<li>1443</li>\n",
       "\t<li>7</li>\n",
       "</ol>\n"
      ],
      "text/latex": [
       "\\begin{enumerate*}\n",
       "\\item 1443\n",
       "\\item 7\n",
       "\\end{enumerate*}\n"
      ],
      "text/markdown": [
       "1. 1443\n",
       "2. 7\n",
       "\n",
       "\n"
      ],
      "text/plain": [
       "[1] 1443    7"
      ]
     },
     "metadata": {},
     "output_type": "display_data"
    }
   ],
   "source": [
    "dim(output_df)"
   ]
  },
  {
   "cell_type": "code",
   "execution_count": 9,
   "metadata": {},
   "outputs": [
    {
     "data": {
      "text/html": [
       "<table>\n",
       "<caption>A grouped_df: 6 × 7</caption>\n",
       "<thead>\n",
       "\t<tr><th scope=col>patientunitstayid</th><th scope=col>continuous_course</th><th scope=col>MORETHAN24HOURS</th><th scope=col>duration_minutes</th><th scope=col>drugname</th><th scope=col>RESPONSE</th><th scope=col>DIFF</th></tr>\n",
       "\t<tr><th scope=col>&lt;dbl&gt;</th><th scope=col>&lt;dbl&gt;</th><th scope=col>&lt;lgl&gt;</th><th scope=col>&lt;dbl&gt;</th><th scope=col>&lt;chr&gt;</th><th scope=col>&lt;lgl&gt;</th><th scope=col>&lt;dbl&gt;</th></tr>\n",
       "</thead>\n",
       "<tbody>\n",
       "\t<tr><td>1074367</td><td>0</td><td>TRUE</td><td>6151</td><td>norepinephrine bitartrate 1 mg/ml ij soln                                   </td><td>TRUE</td><td>102.51667</td></tr>\n",
       "\t<tr><td>1074378</td><td>0</td><td>TRUE</td><td>3388</td><td>norepinephrine bitartrate 1 mg/ml ij soln                                   </td><td>TRUE</td><td> 56.46667</td></tr>\n",
       "\t<tr><td>1074392</td><td>0</td><td>TRUE</td><td>4068</td><td>norepinephrine bitartrate 1 mg/ml ij soln,phenylephrine hcl 10 mg/ml ij soln</td><td>TRUE</td><td> 67.80000</td></tr>\n",
       "\t<tr><td>1074493</td><td>0</td><td>TRUE</td><td>2072</td><td>phenylephrine hcl 10 mg/ml ij soln                                          </td><td>TRUE</td><td> 34.53333</td></tr>\n",
       "\t<tr><td>1074658</td><td>0</td><td>TRUE</td><td>1576</td><td>norepinephrine bitartrate 1 mg/ml iv soln                                   </td><td>TRUE</td><td> 26.26667</td></tr>\n",
       "\t<tr><td>1074691</td><td>0</td><td>TRUE</td><td>1943</td><td>norepinephrine bitartrate 1 mg/ml ij soln                                   </td><td>TRUE</td><td> 32.38333</td></tr>\n",
       "</tbody>\n",
       "</table>\n"
      ],
      "text/latex": [
       "A grouped_df: 6 × 7\n",
       "\\begin{tabular}{r|lllllll}\n",
       " patientunitstayid & continuous\\_course & MORETHAN24HOURS & duration\\_minutes & drugname & RESPONSE & DIFF\\\\\n",
       " <dbl> & <dbl> & <lgl> & <dbl> & <chr> & <lgl> & <dbl>\\\\\n",
       "\\hline\n",
       "\t 1074367 & 0 & TRUE & 6151 & norepinephrine bitartrate 1 mg/ml ij soln                                    & TRUE & 102.51667\\\\\n",
       "\t 1074378 & 0 & TRUE & 3388 & norepinephrine bitartrate 1 mg/ml ij soln                                    & TRUE &  56.46667\\\\\n",
       "\t 1074392 & 0 & TRUE & 4068 & norepinephrine bitartrate 1 mg/ml ij soln,phenylephrine hcl 10 mg/ml ij soln & TRUE &  67.80000\\\\\n",
       "\t 1074493 & 0 & TRUE & 2072 & phenylephrine hcl 10 mg/ml ij soln                                           & TRUE &  34.53333\\\\\n",
       "\t 1074658 & 0 & TRUE & 1576 & norepinephrine bitartrate 1 mg/ml iv soln                                    & TRUE &  26.26667\\\\\n",
       "\t 1074691 & 0 & TRUE & 1943 & norepinephrine bitartrate 1 mg/ml ij soln                                    & TRUE &  32.38333\\\\\n",
       "\\end{tabular}\n"
      ],
      "text/markdown": [
       "\n",
       "A grouped_df: 6 × 7\n",
       "\n",
       "| patientunitstayid &lt;dbl&gt; | continuous_course &lt;dbl&gt; | MORETHAN24HOURS &lt;lgl&gt; | duration_minutes &lt;dbl&gt; | drugname &lt;chr&gt; | RESPONSE &lt;lgl&gt; | DIFF &lt;dbl&gt; |\n",
       "|---|---|---|---|---|---|---|\n",
       "| 1074367 | 0 | TRUE | 6151 | norepinephrine bitartrate 1 mg/ml ij soln                                    | TRUE | 102.51667 |\n",
       "| 1074378 | 0 | TRUE | 3388 | norepinephrine bitartrate 1 mg/ml ij soln                                    | TRUE |  56.46667 |\n",
       "| 1074392 | 0 | TRUE | 4068 | norepinephrine bitartrate 1 mg/ml ij soln,phenylephrine hcl 10 mg/ml ij soln | TRUE |  67.80000 |\n",
       "| 1074493 | 0 | TRUE | 2072 | phenylephrine hcl 10 mg/ml ij soln                                           | TRUE |  34.53333 |\n",
       "| 1074658 | 0 | TRUE | 1576 | norepinephrine bitartrate 1 mg/ml iv soln                                    | TRUE |  26.26667 |\n",
       "| 1074691 | 0 | TRUE | 1943 | norepinephrine bitartrate 1 mg/ml ij soln                                    | TRUE |  32.38333 |\n",
       "\n"
      ],
      "text/plain": [
       "  patientunitstayid continuous_course MORETHAN24HOURS duration_minutes\n",
       "1 1074367           0                 TRUE            6151            \n",
       "2 1074378           0                 TRUE            3388            \n",
       "3 1074392           0                 TRUE            4068            \n",
       "4 1074493           0                 TRUE            2072            \n",
       "5 1074658           0                 TRUE            1576            \n",
       "6 1074691           0                 TRUE            1943            \n",
       "  drugname                                                                    \n",
       "1 norepinephrine bitartrate 1 mg/ml ij soln                                   \n",
       "2 norepinephrine bitartrate 1 mg/ml ij soln                                   \n",
       "3 norepinephrine bitartrate 1 mg/ml ij soln,phenylephrine hcl 10 mg/ml ij soln\n",
       "4 phenylephrine hcl 10 mg/ml ij soln                                          \n",
       "5 norepinephrine bitartrate 1 mg/ml iv soln                                   \n",
       "6 norepinephrine bitartrate 1 mg/ml ij soln                                   \n",
       "  RESPONSE DIFF     \n",
       "1 TRUE     102.51667\n",
       "2 TRUE      56.46667\n",
       "3 TRUE      67.80000\n",
       "4 TRUE      34.53333\n",
       "5 TRUE      26.26667\n",
       "6 TRUE      32.38333"
      ]
     },
     "metadata": {},
     "output_type": "display_data"
    }
   ],
   "source": [
    "head(output_df)"
   ]
  },
  {
   "cell_type": "code",
   "execution_count": 20,
   "metadata": {},
   "outputs": [
    {
     "name": "stderr",
     "output_type": "stream",
     "text": [
      "Warning message:\n",
      "“Removed 170 rows containing non-finite values (stat_density).”"
     ]
    },
    {
     "data": {
      "image/png": "[encoded data removed]",
      "text/plain": [
       "plot without title"
      ]
     },
     "metadata": {},
     "output_type": "display_data"
    }
   ],
   "source": [
    "options(repr.plot.width=2, repr.plot.height=2)\n",
    "\n",
    "# plot duration between last pressor course ended and CVC was started\n",
    "p <- output_df %>%\n",
    "    ggplot(aes(x=DIFF)) +\n",
    "        base_theme() +\n",
    "        #geom_histogram(aes(y=..density..), position=\"identity\", alpha=0.5)+\n",
    "        geom_density(aes(y = ..count..), alpha=0.6, fill=\"gray\")+\n",
    "        scale_color_manual(values=c(\"#999999\", \"#E69F00\", \"#56B4E9\"))+\n",
    "        scale_fill_manual(values=c(\"#999999\", \"#E69F00\", \"#56B4E9\"))+\n",
    "        labs(title=\"\",x=\"Hours\", y = \"Count\")+\n",
    "        xlim(0, 120) +\n",
    "        geom_vline(xintercept = 6, linetype= \"dashed\", color=\"firebrick\") +\n",
    "        geom_vline(xintercept = 24, linetype= \"dashed\", color=\"#2F4F4F\")\n",
    "plot(p)"
   ]
  },
  {
   "cell_type": "code",
   "execution_count": 22,
   "metadata": {},
   "outputs": [
    {
     "name": "stderr",
     "output_type": "stream",
     "text": [
      "Warning message:\n",
      "“Removed 170 rows containing non-finite values (stat_density).”"
     ]
    },
    {
     "data": {
      "text/html": [
       "<strong>pdf:</strong> 2"
      ],
      "text/latex": [
       "\\textbf{pdf:} 2"
      ],
      "text/markdown": [
       "**pdf:** 2"
      ],
      "text/plain": [
       "pdf \n",
       "  2 "
      ]
     },
     "metadata": {},
     "output_type": "display_data"
    }
   ],
   "source": [
    "pdf(file.path(PLOT_DIR, \"eicu_histo_durations.pdf\"), 2, 2)\n",
    "plot(p)\n",
    "dev.off()"
   ]
  },
  {
   "cell_type": "code",
   "execution_count": 23,
   "metadata": {},
   "outputs": [
    {
     "data": {
      "text/html": [
       "<table>\n",
       "<caption>A tibble: 2 × 2</caption>\n",
       "<thead>\n",
       "\t<tr><th scope=col>RESPONSE</th><th scope=col>COUNT</th></tr>\n",
       "\t<tr><th scope=col>&lt;lgl&gt;</th><th scope=col>&lt;dbl&gt;</th></tr>\n",
       "</thead>\n",
       "<tbody>\n",
       "\t<tr><td>FALSE</td><td>0.2820513</td></tr>\n",
       "\t<tr><td> TRUE</td><td>0.7179487</td></tr>\n",
       "</tbody>\n",
       "</table>\n"
      ],
      "text/latex": [
       "A tibble: 2 × 2\n",
       "\\begin{tabular}{r|ll}\n",
       " RESPONSE & COUNT\\\\\n",
       " <lgl> & <dbl>\\\\\n",
       "\\hline\n",
       "\t FALSE & 0.2820513\\\\\n",
       "\t  TRUE & 0.7179487\\\\\n",
       "\\end{tabular}\n"
      ],
      "text/markdown": [
       "\n",
       "A tibble: 2 × 2\n",
       "\n",
       "| RESPONSE &lt;lgl&gt; | COUNT &lt;dbl&gt; |\n",
       "|---|---|\n",
       "| FALSE | 0.2820513 |\n",
       "|  TRUE | 0.7179487 |\n",
       "\n"
      ],
      "text/plain": [
       "  RESPONSE COUNT    \n",
       "1 FALSE    0.2820513\n",
       "2  TRUE    0.7179487"
      ]
     },
     "metadata": {},
     "output_type": "display_data"
    }
   ],
   "source": [
    "output_df %>%\n",
    "    group_by(RESPONSE) %>%\n",
    "    summarize(COUNT = n()) %>% ungroup() %>%\n",
    "    mutate(COUNT = COUNT/sum(COUNT))"
   ]
  },
  {
   "cell_type": "code",
   "execution_count": null,
   "metadata": {},
   "outputs": [],
   "source": [
    "    "
   ]
  }
 ],
 "metadata": {
  "kernelspec": {
   "display_name": "R",
   "language": "R",
   "name": "ir"
  },
  "language_info": {
   "codemirror_mode": "r",
   "file_extension": ".r",
   "mimetype": "text/x-r-source",
   "name": "R",
   "pygments_lexer": "r",
   "version": "3.6.0"
  }
 },
 "nbformat": 4,
 "nbformat_minor": 2
}
