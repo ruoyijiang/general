{
 "cells": [
  {
   "cell_type": "markdown",
   "metadata": {},
   "source": [
    "# Analysis of PIV pressor use and possible extravasation\n",
    "- Ruoyi Jiang\n",
    "- October 9, 2019\n",
    "- Pre-liminary"
   ]
  },
  {
   "cell_type": "code",
   "execution_count": 34,
   "metadata": {},
   "outputs": [],
   "source": [
    "library(tidyverse)\n",
    "library(fasttime)\n",
    "library(ggplot2)"
   ]
  },
  {
   "cell_type": "markdown",
   "metadata": {},
   "source": [
    "### Check terbutaline, phentolamine usage by pharmacy"
   ]
  },
  {
   "cell_type": "code",
   "execution_count": 2,
   "metadata": {},
   "outputs": [
    {
     "name": "stderr",
     "output_type": "stream",
     "text": [
      "Parsed with column specification:\n",
      "cols(\n",
      "  ROW_ID = \u001b[32mcol_double()\u001b[39m,\n",
      "  SUBJECT_ID = \u001b[32mcol_double()\u001b[39m,\n",
      "  HADM_ID = \u001b[32mcol_double()\u001b[39m,\n",
      "  ICUSTAY_ID = \u001b[32mcol_double()\u001b[39m,\n",
      "  STARTDATE = \u001b[34mcol_datetime(format = \"\")\u001b[39m,\n",
      "  ENDDATE = \u001b[34mcol_datetime(format = \"\")\u001b[39m,\n",
      "  DRUG_TYPE = \u001b[31mcol_character()\u001b[39m,\n",
      "  DRUG = \u001b[31mcol_character()\u001b[39m,\n",
      "  DRUG_NAME_POE = \u001b[31mcol_character()\u001b[39m,\n",
      "  DRUG_NAME_GENERIC = \u001b[31mcol_character()\u001b[39m,\n",
      "  FORMULARY_DRUG_CD = \u001b[31mcol_character()\u001b[39m,\n",
      "  GSN = \u001b[31mcol_character()\u001b[39m,\n",
      "  NDC = \u001b[31mcol_character()\u001b[39m,\n",
      "  PROD_STRENGTH = \u001b[31mcol_character()\u001b[39m,\n",
      "  DOSE_VAL_RX = \u001b[31mcol_character()\u001b[39m,\n",
      "  DOSE_UNIT_RX = \u001b[31mcol_character()\u001b[39m,\n",
      "  FORM_VAL_DISP = \u001b[31mcol_character()\u001b[39m,\n",
      "  FORM_UNIT_DISP = \u001b[31mcol_character()\u001b[39m,\n",
      "  ROUTE = \u001b[31mcol_character()\u001b[39m\n",
      ")\n"
     ]
    }
   ],
   "source": [
    "prescriptions <- read_csv(\"/Users/ruoyijiang/Projects/Haimovich_Pressors/collection/mimic/PRESCRIPTIONS.csv.gz\")"
   ]
  },
  {
   "cell_type": "code",
   "execution_count": 6,
   "metadata": {},
   "outputs": [
    {
     "data": {
      "text/html": [
       "<table>\n",
       "<caption>A tibble: 6 × 19</caption>\n",
       "<thead>\n",
       "\t<tr><th scope=col>ROW_ID</th><th scope=col>SUBJECT_ID</th><th scope=col>HADM_ID</th><th scope=col>ICUSTAY_ID</th><th scope=col>STARTDATE</th><th scope=col>ENDDATE</th><th scope=col>DRUG_TYPE</th><th scope=col>DRUG</th><th scope=col>DRUG_NAME_POE</th><th scope=col>DRUG_NAME_GENERIC</th><th scope=col>FORMULARY_DRUG_CD</th><th scope=col>GSN</th><th scope=col>NDC</th><th scope=col>PROD_STRENGTH</th><th scope=col>DOSE_VAL_RX</th><th scope=col>DOSE_UNIT_RX</th><th scope=col>FORM_VAL_DISP</th><th scope=col>FORM_UNIT_DISP</th><th scope=col>ROUTE</th></tr>\n",
       "\t<tr><th scope=col>&lt;dbl&gt;</th><th scope=col>&lt;dbl&gt;</th><th scope=col>&lt;dbl&gt;</th><th scope=col>&lt;dbl&gt;</th><th scope=col>&lt;dttm&gt;</th><th scope=col>&lt;dttm&gt;</th><th scope=col>&lt;chr&gt;</th><th scope=col>&lt;chr&gt;</th><th scope=col>&lt;chr&gt;</th><th scope=col>&lt;chr&gt;</th><th scope=col>&lt;chr&gt;</th><th scope=col>&lt;chr&gt;</th><th scope=col>&lt;chr&gt;</th><th scope=col>&lt;chr&gt;</th><th scope=col>&lt;chr&gt;</th><th scope=col>&lt;chr&gt;</th><th scope=col>&lt;chr&gt;</th><th scope=col>&lt;chr&gt;</th><th scope=col>&lt;chr&gt;</th></tr>\n",
       "</thead>\n",
       "<tbody>\n",
       "\t<tr><td>2193190</td><td> 608</td><td>171266</td><td>    NA</td><td>2167-03-09</td><td>2167-03-10</td><td>MAIN</td><td>Phentolamine Mesylate</td><td>Phentolamine Mesylate</td><td>Phentolamine Mesylate</td><td>PHEN5I</td><td>005112</td><td>54569470200</td><td>5MG VIAL </td><td>5 </td><td>mg</td><td>1</td><td>VIAL</td><td>IV</td></tr>\n",
       "\t<tr><td>2193189</td><td> 608</td><td>171266</td><td>    NA</td><td>2167-03-09</td><td>2167-03-10</td><td>MAIN</td><td>Phentolamine Mesylate</td><td>Phentolamine Mesylate</td><td>Phentolamine Mesylate</td><td>PHEN5I</td><td>005112</td><td>54569470200</td><td>5MG VIAL </td><td>5 </td><td>mg</td><td>1</td><td>VIAL</td><td>ID</td></tr>\n",
       "\t<tr><td>2666873</td><td>1849</td><td>114623</td><td>274141</td><td>2171-06-04</td><td>2171-06-04</td><td>MAIN</td><td>Phentolamine Mesylate</td><td>Phentolamine Mesylate</td><td>Phentolamine Mesylate</td><td>PHEN5I</td><td>005112</td><td>55390011301</td><td>5 mg Vial</td><td>5 </td><td>mg</td><td>1</td><td>VIAL</td><td>SC</td></tr>\n",
       "\t<tr><td>2666874</td><td>1849</td><td>114623</td><td>274141</td><td>2171-06-04</td><td>2171-06-05</td><td>MAIN</td><td>Phentolamine Mesylate</td><td>Phentolamine Mesylate</td><td>Phentolamine Mesylate</td><td>PHEN5I</td><td>005112</td><td>55390011301</td><td>5 mg Vial</td><td>5 </td><td>mg</td><td>1</td><td>VIAL</td><td>SC</td></tr>\n",
       "\t<tr><td>1446361</td><td>1931</td><td>109646</td><td>    NA</td><td>2179-08-07</td><td>2179-08-08</td><td>MAIN</td><td>Phentolamine Mesylate</td><td>Phentolamine Mesylate</td><td>Phentolamine Mesylate</td><td>PHEN5I</td><td>005112</td><td>55390011301</td><td>5MG VIAL </td><td>5 </td><td>mg</td><td>1</td><td>VIAL</td><td>IV</td></tr>\n",
       "\t<tr><td>2848413</td><td>4331</td><td>120294</td><td>265287</td><td>2142-11-02</td><td>2142-11-03</td><td>MAIN</td><td>Phentolamine Mesylate</td><td>Phentolamine Mesylate</td><td>Phentolamine Mesylate</td><td>PHEN5I</td><td>005112</td><td>55390011301</td><td>5 mg Vial</td><td>10</td><td>mg</td><td>2</td><td>VIAL</td><td>SC</td></tr>\n",
       "</tbody>\n",
       "</table>\n"
      ],
      "text/latex": [
       "A tibble: 6 × 19\n",
       "\\begin{tabular}{r|lllllllllllllllllll}\n",
       " ROW\\_ID & SUBJECT\\_ID & HADM\\_ID & ICUSTAY\\_ID & STARTDATE & ENDDATE & DRUG\\_TYPE & DRUG & DRUG\\_NAME\\_POE & DRUG\\_NAME\\_GENERIC & FORMULARY\\_DRUG\\_CD & GSN & NDC & PROD\\_STRENGTH & DOSE\\_VAL\\_RX & DOSE\\_UNIT\\_RX & FORM\\_VAL\\_DISP & FORM\\_UNIT\\_DISP & ROUTE\\\\\n",
       " <dbl> & <dbl> & <dbl> & <dbl> & <dttm> & <dttm> & <chr> & <chr> & <chr> & <chr> & <chr> & <chr> & <chr> & <chr> & <chr> & <chr> & <chr> & <chr> & <chr>\\\\\n",
       "\\hline\n",
       "\t 2193190 &  608 & 171266 &     NA & 2167-03-09 & 2167-03-10 & MAIN & Phentolamine Mesylate & Phentolamine Mesylate & Phentolamine Mesylate & PHEN5I & 005112 & 54569470200 & 5MG VIAL  & 5  & mg & 1 & VIAL & IV\\\\\n",
       "\t 2193189 &  608 & 171266 &     NA & 2167-03-09 & 2167-03-10 & MAIN & Phentolamine Mesylate & Phentolamine Mesylate & Phentolamine Mesylate & PHEN5I & 005112 & 54569470200 & 5MG VIAL  & 5  & mg & 1 & VIAL & ID\\\\\n",
       "\t 2666873 & 1849 & 114623 & 274141 & 2171-06-04 & 2171-06-04 & MAIN & Phentolamine Mesylate & Phentolamine Mesylate & Phentolamine Mesylate & PHEN5I & 005112 & 55390011301 & 5 mg Vial & 5  & mg & 1 & VIAL & SC\\\\\n",
       "\t 2666874 & 1849 & 114623 & 274141 & 2171-06-04 & 2171-06-05 & MAIN & Phentolamine Mesylate & Phentolamine Mesylate & Phentolamine Mesylate & PHEN5I & 005112 & 55390011301 & 5 mg Vial & 5  & mg & 1 & VIAL & SC\\\\\n",
       "\t 1446361 & 1931 & 109646 &     NA & 2179-08-07 & 2179-08-08 & MAIN & Phentolamine Mesylate & Phentolamine Mesylate & Phentolamine Mesylate & PHEN5I & 005112 & 55390011301 & 5MG VIAL  & 5  & mg & 1 & VIAL & IV\\\\\n",
       "\t 2848413 & 4331 & 120294 & 265287 & 2142-11-02 & 2142-11-03 & MAIN & Phentolamine Mesylate & Phentolamine Mesylate & Phentolamine Mesylate & PHEN5I & 005112 & 55390011301 & 5 mg Vial & 10 & mg & 2 & VIAL & SC\\\\\n",
       "\\end{tabular}\n"
      ],
      "text/markdown": [
       "\n",
       "A tibble: 6 × 19\n",
       "\n",
       "| ROW_ID &lt;dbl&gt; | SUBJECT_ID &lt;dbl&gt; | HADM_ID &lt;dbl&gt; | ICUSTAY_ID &lt;dbl&gt; | STARTDATE &lt;dttm&gt; | ENDDATE &lt;dttm&gt; | DRUG_TYPE &lt;chr&gt; | DRUG &lt;chr&gt; | DRUG_NAME_POE &lt;chr&gt; | DRUG_NAME_GENERIC &lt;chr&gt; | FORMULARY_DRUG_CD &lt;chr&gt; | GSN &lt;chr&gt; | NDC &lt;chr&gt; | PROD_STRENGTH &lt;chr&gt; | DOSE_VAL_RX &lt;chr&gt; | DOSE_UNIT_RX &lt;chr&gt; | FORM_VAL_DISP &lt;chr&gt; | FORM_UNIT_DISP &lt;chr&gt; | ROUTE &lt;chr&gt; |\n",
       "|---|---|---|---|---|---|---|---|---|---|---|---|---|---|---|---|---|---|---|\n",
       "| 2193190 |  608 | 171266 |     NA | 2167-03-09 | 2167-03-10 | MAIN | Phentolamine Mesylate | Phentolamine Mesylate | Phentolamine Mesylate | PHEN5I | 005112 | 54569470200 | 5MG VIAL  | 5  | mg | 1 | VIAL | IV |\n",
       "| 2193189 |  608 | 171266 |     NA | 2167-03-09 | 2167-03-10 | MAIN | Phentolamine Mesylate | Phentolamine Mesylate | Phentolamine Mesylate | PHEN5I | 005112 | 54569470200 | 5MG VIAL  | 5  | mg | 1 | VIAL | ID |\n",
       "| 2666873 | 1849 | 114623 | 274141 | 2171-06-04 | 2171-06-04 | MAIN | Phentolamine Mesylate | Phentolamine Mesylate | Phentolamine Mesylate | PHEN5I | 005112 | 55390011301 | 5 mg Vial | 5  | mg | 1 | VIAL | SC |\n",
       "| 2666874 | 1849 | 114623 | 274141 | 2171-06-04 | 2171-06-05 | MAIN | Phentolamine Mesylate | Phentolamine Mesylate | Phentolamine Mesylate | PHEN5I | 005112 | 55390011301 | 5 mg Vial | 5  | mg | 1 | VIAL | SC |\n",
       "| 1446361 | 1931 | 109646 |     NA | 2179-08-07 | 2179-08-08 | MAIN | Phentolamine Mesylate | Phentolamine Mesylate | Phentolamine Mesylate | PHEN5I | 005112 | 55390011301 | 5MG VIAL  | 5  | mg | 1 | VIAL | IV |\n",
       "| 2848413 | 4331 | 120294 | 265287 | 2142-11-02 | 2142-11-03 | MAIN | Phentolamine Mesylate | Phentolamine Mesylate | Phentolamine Mesylate | PHEN5I | 005112 | 55390011301 | 5 mg Vial | 10 | mg | 2 | VIAL | SC |\n",
       "\n"
      ],
      "text/plain": [
       "  ROW_ID  SUBJECT_ID HADM_ID ICUSTAY_ID STARTDATE  ENDDATE    DRUG_TYPE\n",
       "1 2193190  608       171266      NA     2167-03-09 2167-03-10 MAIN     \n",
       "2 2193189  608       171266      NA     2167-03-09 2167-03-10 MAIN     \n",
       "3 2666873 1849       114623  274141     2171-06-04 2171-06-04 MAIN     \n",
       "4 2666874 1849       114623  274141     2171-06-04 2171-06-05 MAIN     \n",
       "5 1446361 1931       109646      NA     2179-08-07 2179-08-08 MAIN     \n",
       "6 2848413 4331       120294  265287     2142-11-02 2142-11-03 MAIN     \n",
       "  DRUG                  DRUG_NAME_POE         DRUG_NAME_GENERIC    \n",
       "1 Phentolamine Mesylate Phentolamine Mesylate Phentolamine Mesylate\n",
       "2 Phentolamine Mesylate Phentolamine Mesylate Phentolamine Mesylate\n",
       "3 Phentolamine Mesylate Phentolamine Mesylate Phentolamine Mesylate\n",
       "4 Phentolamine Mesylate Phentolamine Mesylate Phentolamine Mesylate\n",
       "5 Phentolamine Mesylate Phentolamine Mesylate Phentolamine Mesylate\n",
       "6 Phentolamine Mesylate Phentolamine Mesylate Phentolamine Mesylate\n",
       "  FORMULARY_DRUG_CD GSN    NDC         PROD_STRENGTH DOSE_VAL_RX DOSE_UNIT_RX\n",
       "1 PHEN5I            005112 54569470200 5MG VIAL      5           mg          \n",
       "2 PHEN5I            005112 54569470200 5MG VIAL      5           mg          \n",
       "3 PHEN5I            005112 55390011301 5 mg Vial     5           mg          \n",
       "4 PHEN5I            005112 55390011301 5 mg Vial     5           mg          \n",
       "5 PHEN5I            005112 55390011301 5MG VIAL      5           mg          \n",
       "6 PHEN5I            005112 55390011301 5 mg Vial     10          mg          \n",
       "  FORM_VAL_DISP FORM_UNIT_DISP ROUTE\n",
       "1 1             VIAL           IV   \n",
       "2 1             VIAL           ID   \n",
       "3 1             VIAL           SC   \n",
       "4 1             VIAL           SC   \n",
       "5 1             VIAL           IV   \n",
       "6 2             VIAL           SC   "
      ]
     },
     "metadata": {},
     "output_type": "display_data"
    }
   ],
   "source": [
    "prescriptions %>% filter(DRUG_NAME_GENERIC == \"Phentolamine Mesylate\") %>% head()"
   ]
  },
  {
   "cell_type": "code",
   "execution_count": 30,
   "metadata": {},
   "outputs": [
    {
     "data": {
      "text/html": [
       "<ol class=list-inline>\n",
       "\t<li>49</li>\n",
       "\t<li>19</li>\n",
       "</ol>\n"
      ],
      "text/latex": [
       "\\begin{enumerate*}\n",
       "\\item 49\n",
       "\\item 19\n",
       "\\end{enumerate*}\n"
      ],
      "text/markdown": [
       "1. 49\n",
       "2. 19\n",
       "\n",
       "\n"
      ],
      "text/plain": [
       "[1] 49 19"
      ]
     },
     "metadata": {},
     "output_type": "display_data"
    }
   ],
   "source": [
    "prescriptions %>% filter(DRUG_NAME_GENERIC == \"Phentolamine Mesylate\") %>% dim()"
   ]
  },
  {
   "cell_type": "code",
   "execution_count": 4,
   "metadata": {},
   "outputs": [
    {
     "data": {
      "text/html": [
       "<ol class=list-inline>\n",
       "\t<li>6</li>\n",
       "\t<li>19</li>\n",
       "</ol>\n"
      ],
      "text/latex": [
       "\\begin{enumerate*}\n",
       "\\item 6\n",
       "\\item 19\n",
       "\\end{enumerate*}\n"
      ],
      "text/markdown": [
       "1. 6\n",
       "2. 19\n",
       "\n",
       "\n"
      ],
      "text/plain": [
       "[1]  6 19"
      ]
     },
     "metadata": {},
     "output_type": "display_data"
    }
   ],
   "source": [
    "prescriptions %>% filter(DRUG_NAME_GENERIC == \"Terbutaline Sulfate\") %>% dim()"
   ]
  },
  {
   "cell_type": "code",
   "execution_count": 5,
   "metadata": {},
   "outputs": [
    {
     "data": {
      "text/html": [
       "<ol class=list-inline>\n",
       "\t<li>5253</li>\n",
       "\t<li>19</li>\n",
       "</ol>\n"
      ],
      "text/latex": [
       "\\begin{enumerate*}\n",
       "\\item 5253\n",
       "\\item 19\n",
       "\\end{enumerate*}\n"
      ],
      "text/markdown": [
       "1. 5253\n",
       "2. 19\n",
       "\n",
       "\n"
      ],
      "text/plain": [
       "[1] 5253   19"
      ]
     },
     "metadata": {},
     "output_type": "display_data"
    }
   ],
   "source": [
    "prescriptions %>% filter(grepl(\"Nitroglycerin\", DRUG_NAME_GENERIC)) %>% dim()"
   ]
  },
  {
   "cell_type": "markdown",
   "metadata": {},
   "source": [
    "### Extract nitroglycerin events from CHARTEVENTS"
   ]
  },
  {
   "cell_type": "code",
   "execution_count": null,
   "metadata": {},
   "outputs": [],
   "source": [
    "# find extract nitro events in CHARTEVENTS (need to use pressors sql script)\n",
    "#https://physionet.org/files/mimiciii-demo/1.4/d_items.csv"
   ]
  },
  {
   "cell_type": "code",
   "execution_count": 7,
   "metadata": {},
   "outputs": [],
   "source": [
    "nitroglycerin_df = read.csv('/Users/ruoyijiang/Projects/Haimovich_Pressors/collection/out/nitroglycerin.csv')"
   ]
  },
  {
   "cell_type": "code",
   "execution_count": 8,
   "metadata": {},
   "outputs": [
    {
     "data": {
      "text/html": [
       "<table>\n",
       "<caption>A data.frame: 6 × 7</caption>\n",
       "<thead>\n",
       "\t<tr><th scope=col>X</th><th scope=col>index</th><th scope=col>icustay_id</th><th scope=col>vasonum</th><th scope=col>starttime</th><th scope=col>endtime</th><th scope=col>duration_hours</th></tr>\n",
       "\t<tr><th scope=col>&lt;int&gt;</th><th scope=col>&lt;int&gt;</th><th scope=col>&lt;dbl&gt;</th><th scope=col>&lt;int&gt;</th><th scope=col>&lt;fct&gt;</th><th scope=col>&lt;fct&gt;</th><th scope=col>&lt;dbl&gt;</th></tr>\n",
       "</thead>\n",
       "<tbody>\n",
       "\t<tr><td>0</td><td>0</td><td>200007</td><td>1</td><td>2109-02-17 11:00:00</td><td>2109-02-18 09:15:00</td><td>22.250000</td></tr>\n",
       "\t<tr><td>1</td><td>1</td><td>200063</td><td>1</td><td>2141-03-10 07:10:00</td><td>2141-03-10 13:06:00</td><td> 5.933333</td></tr>\n",
       "\t<tr><td>2</td><td>2</td><td>200063</td><td>2</td><td>2141-03-10 13:06:00</td><td>2141-03-10 14:34:00</td><td> 1.466667</td></tr>\n",
       "\t<tr><td>3</td><td>3</td><td>200063</td><td>3</td><td>2141-03-10 14:34:00</td><td>2141-03-10 21:36:00</td><td> 7.033333</td></tr>\n",
       "\t<tr><td>4</td><td>4</td><td>200063</td><td>4</td><td>2141-03-10 21:36:00</td><td>2141-03-11 02:04:00</td><td> 4.466667</td></tr>\n",
       "\t<tr><td>5</td><td>5</td><td>200063</td><td>5</td><td>2141-03-11 02:04:00</td><td>2141-03-11 06:23:00</td><td> 4.316667</td></tr>\n",
       "</tbody>\n",
       "</table>\n"
      ],
      "text/latex": [
       "A data.frame: 6 × 7\n",
       "\\begin{tabular}{r|lllllll}\n",
       " X & index & icustay\\_id & vasonum & starttime & endtime & duration\\_hours\\\\\n",
       " <int> & <int> & <dbl> & <int> & <fct> & <fct> & <dbl>\\\\\n",
       "\\hline\n",
       "\t 0 & 0 & 200007 & 1 & 2109-02-17 11:00:00 & 2109-02-18 09:15:00 & 22.250000\\\\\n",
       "\t 1 & 1 & 200063 & 1 & 2141-03-10 07:10:00 & 2141-03-10 13:06:00 &  5.933333\\\\\n",
       "\t 2 & 2 & 200063 & 2 & 2141-03-10 13:06:00 & 2141-03-10 14:34:00 &  1.466667\\\\\n",
       "\t 3 & 3 & 200063 & 3 & 2141-03-10 14:34:00 & 2141-03-10 21:36:00 &  7.033333\\\\\n",
       "\t 4 & 4 & 200063 & 4 & 2141-03-10 21:36:00 & 2141-03-11 02:04:00 &  4.466667\\\\\n",
       "\t 5 & 5 & 200063 & 5 & 2141-03-11 02:04:00 & 2141-03-11 06:23:00 &  4.316667\\\\\n",
       "\\end{tabular}\n"
      ],
      "text/markdown": [
       "\n",
       "A data.frame: 6 × 7\n",
       "\n",
       "| X &lt;int&gt; | index &lt;int&gt; | icustay_id &lt;dbl&gt; | vasonum &lt;int&gt; | starttime &lt;fct&gt; | endtime &lt;fct&gt; | duration_hours &lt;dbl&gt; |\n",
       "|---|---|---|---|---|---|---|\n",
       "| 0 | 0 | 200007 | 1 | 2109-02-17 11:00:00 | 2109-02-18 09:15:00 | 22.250000 |\n",
       "| 1 | 1 | 200063 | 1 | 2141-03-10 07:10:00 | 2141-03-10 13:06:00 |  5.933333 |\n",
       "| 2 | 2 | 200063 | 2 | 2141-03-10 13:06:00 | 2141-03-10 14:34:00 |  1.466667 |\n",
       "| 3 | 3 | 200063 | 3 | 2141-03-10 14:34:00 | 2141-03-10 21:36:00 |  7.033333 |\n",
       "| 4 | 4 | 200063 | 4 | 2141-03-10 21:36:00 | 2141-03-11 02:04:00 |  4.466667 |\n",
       "| 5 | 5 | 200063 | 5 | 2141-03-11 02:04:00 | 2141-03-11 06:23:00 |  4.316667 |\n",
       "\n"
      ],
      "text/plain": [
       "  X index icustay_id vasonum starttime           endtime            \n",
       "1 0 0     200007     1       2109-02-17 11:00:00 2109-02-18 09:15:00\n",
       "2 1 1     200063     1       2141-03-10 07:10:00 2141-03-10 13:06:00\n",
       "3 2 2     200063     2       2141-03-10 13:06:00 2141-03-10 14:34:00\n",
       "4 3 3     200063     3       2141-03-10 14:34:00 2141-03-10 21:36:00\n",
       "5 4 4     200063     4       2141-03-10 21:36:00 2141-03-11 02:04:00\n",
       "6 5 5     200063     5       2141-03-11 02:04:00 2141-03-11 06:23:00\n",
       "  duration_hours\n",
       "1 22.250000     \n",
       "2  5.933333     \n",
       "3  1.466667     \n",
       "4  7.033333     \n",
       "5  4.466667     \n",
       "6  4.316667     "
      ]
     },
     "metadata": {},
     "output_type": "display_data"
    }
   ],
   "source": [
    "nitroglycerin_df %>% head()"
   ]
  },
  {
   "cell_type": "markdown",
   "metadata": {},
   "source": [
    "### Look for number of pressor courses prior to CVC introduction"
   ]
  },
  {
   "cell_type": "markdown",
   "metadata": {},
   "source": [
    "If you want to get a 30-minute survey of the extravasation question, you can create a filter of vasopressors without a central line at the same time. This can give us our n for how many times vasopressors were used without a CVC and some summary statistics about how long it took until a CVC was placed. Then we can look for med administrations of terbutaline/phentolamine/nitro ointments also in those time windows. No rush whatsoever. No one else will think of this question. It could provide the inspiration to do a similar retrospective study at Yale, which will have integrated ED, ICU, and floor data."
   ]
  },
  {
   "cell_type": "code",
   "execution_count": 10,
   "metadata": {},
   "outputs": [],
   "source": [
    "pressors_df <- read.csv('~/Projects/Haimovich_Pressors/collection/out/pressors.csv')"
   ]
  },
  {
   "cell_type": "code",
   "execution_count": 13,
   "metadata": {},
   "outputs": [
    {
     "data": {
      "text/html": [
       "<table>\n",
       "<caption>A tibble: 14 × 2</caption>\n",
       "<thead>\n",
       "\t<tr><th scope=col>pressor</th><th scope=col>COUNT</th></tr>\n",
       "\t<tr><th scope=col>&lt;fct&gt;</th><th scope=col>&lt;int&gt;</th></tr>\n",
       "</thead>\n",
       "<tbody>\n",
       "\t<tr><td>adenosinedurations     </td><td>  160</td></tr>\n",
       "\t<tr><td>arterial_line_durations</td><td>30424</td></tr>\n",
       "\t<tr><td>central_line_durations </td><td>38211</td></tr>\n",
       "\t<tr><td>crrtdurations          </td><td> 5918</td></tr>\n",
       "\t<tr><td>dobutaminedurations    </td><td> 1792</td></tr>\n",
       "\t<tr><td>dopaminedurations      </td><td> 6524</td></tr>\n",
       "\t<tr><td>epinephrinedurations   </td><td> 3126</td></tr>\n",
       "\t<tr><td>isupreldurations       </td><td>   24</td></tr>\n",
       "\t<tr><td>milrinonedurations     </td><td> 3600</td></tr>\n",
       "\t<tr><td>norepinephrinedurations</td><td>23188</td></tr>\n",
       "\t<tr><td>phenylephrinedurations </td><td>33141</td></tr>\n",
       "\t<tr><td>vasopressindurations   </td><td> 4190</td></tr>\n",
       "\t<tr><td>vasopressordurations   </td><td>38832</td></tr>\n",
       "\t<tr><td>ventdurations          </td><td>38515</td></tr>\n",
       "</tbody>\n",
       "</table>\n"
      ],
      "text/latex": [
       "A tibble: 14 × 2\n",
       "\\begin{tabular}{r|ll}\n",
       " pressor & COUNT\\\\\n",
       " <fct> & <int>\\\\\n",
       "\\hline\n",
       "\t adenosinedurations      &   160\\\\\n",
       "\t arterial\\_line\\_durations & 30424\\\\\n",
       "\t central\\_line\\_durations  & 38211\\\\\n",
       "\t crrtdurations           &  5918\\\\\n",
       "\t dobutaminedurations     &  1792\\\\\n",
       "\t dopaminedurations       &  6524\\\\\n",
       "\t epinephrinedurations    &  3126\\\\\n",
       "\t isupreldurations        &    24\\\\\n",
       "\t milrinonedurations      &  3600\\\\\n",
       "\t norepinephrinedurations & 23188\\\\\n",
       "\t phenylephrinedurations  & 33141\\\\\n",
       "\t vasopressindurations    &  4190\\\\\n",
       "\t vasopressordurations    & 38832\\\\\n",
       "\t ventdurations           & 38515\\\\\n",
       "\\end{tabular}\n"
      ],
      "text/markdown": [
       "\n",
       "A tibble: 14 × 2\n",
       "\n",
       "| pressor &lt;fct&gt; | COUNT &lt;int&gt; |\n",
       "|---|---|\n",
       "| adenosinedurations      |   160 |\n",
       "| arterial_line_durations | 30424 |\n",
       "| central_line_durations  | 38211 |\n",
       "| crrtdurations           |  5918 |\n",
       "| dobutaminedurations     |  1792 |\n",
       "| dopaminedurations       |  6524 |\n",
       "| epinephrinedurations    |  3126 |\n",
       "| isupreldurations        |    24 |\n",
       "| milrinonedurations      |  3600 |\n",
       "| norepinephrinedurations | 23188 |\n",
       "| phenylephrinedurations  | 33141 |\n",
       "| vasopressindurations    |  4190 |\n",
       "| vasopressordurations    | 38832 |\n",
       "| ventdurations           | 38515 |\n",
       "\n"
      ],
      "text/plain": [
       "   pressor                 COUNT\n",
       "1  adenosinedurations        160\n",
       "2  arterial_line_durations 30424\n",
       "3  central_line_durations  38211\n",
       "4  crrtdurations            5918\n",
       "5  dobutaminedurations      1792\n",
       "6  dopaminedurations        6524\n",
       "7  epinephrinedurations     3126\n",
       "8  isupreldurations           24\n",
       "9  milrinonedurations       3600\n",
       "10 norepinephrinedurations 23188\n",
       "11 phenylephrinedurations  33141\n",
       "12 vasopressindurations     4190\n",
       "13 vasopressordurations    38832\n",
       "14 ventdurations           38515"
      ]
     },
     "metadata": {},
     "output_type": "display_data"
    }
   ],
   "source": [
    "pressors_df %>%\n",
    "    group_by(pressor) %>%\n",
    "    summarize(COUNT = n())"
   ]
  },
  {
   "cell_type": "code",
   "execution_count": 17,
   "metadata": {},
   "outputs": [],
   "source": [
    "# extract out earliest cvc starttimes per ICU visit\n",
    "cvc_df <- pressors_df %>%\n",
    "    filter(pressor == \"central_line_durations\") %>% \n",
    "    select(starttime, icustay_id) %>% \n",
    "    group_by(icustay_id) %>% filter(min(fastPOSIXct(starttime))==fastPOSIXct(starttime))"
   ]
  },
  {
   "cell_type": "code",
   "execution_count": 19,
   "metadata": {},
   "outputs": [],
   "source": [
    "# extract out vasopressor duration endtimes\n",
    "pressorend_df <- pressors_df %>%\n",
    "    filter(pressor == \"vasopressordurations\") %>% \n",
    "    select(endtime, icustay_id)"
   ]
  },
  {
   "cell_type": "code",
   "execution_count": 21,
   "metadata": {},
   "outputs": [
    {
     "data": {
      "text/html": [
       "<ol class=list-inline>\n",
       "\t<li>39391</li>\n",
       "\t<li>3</li>\n",
       "</ol>\n"
      ],
      "text/latex": [
       "\\begin{enumerate*}\n",
       "\\item 39391\n",
       "\\item 3\n",
       "\\end{enumerate*}\n"
      ],
      "text/markdown": [
       "1. 39391\n",
       "2. 3\n",
       "\n",
       "\n"
      ],
      "text/plain": [
       "[1] 39391     3"
      ]
     },
     "metadata": {},
     "output_type": "display_data"
    }
   ],
   "source": [
    "# how many vasopressor courses were there?\n",
    "pressorend_df %>%\n",
    "    left_join(cvc_df, by='icustay_id') %>% \n",
    "    dim()"
   ]
  },
  {
   "cell_type": "code",
   "execution_count": 31,
   "metadata": {},
   "outputs": [
    {
     "data": {
      "text/html": [
       "<ol class=list-inline>\n",
       "\t<li>4235</li>\n",
       "\t<li>3</li>\n",
       "</ol>\n"
      ],
      "text/latex": [
       "\\begin{enumerate*}\n",
       "\\item 4235\n",
       "\\item 3\n",
       "\\end{enumerate*}\n"
      ],
      "text/markdown": [
       "1. 4235\n",
       "2. 3\n",
       "\n",
       "\n"
      ],
      "text/plain": [
       "[1] 4235    3"
      ]
     },
     "metadata": {},
     "output_type": "display_data"
    }
   ],
   "source": [
    "# find vasopressor courses where the cvc starttime came after the pressor endtime\n",
    "pressorend_df %>%\n",
    "    left_join(cvc_df, by='icustay_id') %>% \n",
    "    filter(fastPOSIXct(starttime) > fastPOSIXct(endtime)) %>%\n",
    "    dim()"
   ]
  },
  {
   "cell_type": "code",
   "execution_count": 36,
   "metadata": {},
   "outputs": [
    {
     "name": "stderr",
     "output_type": "stream",
     "text": [
      "Warning message:\n",
      "“Grouping rowwise data frame strips rowwise nature”`stat_bin()` using `bins = 30`. Pick better value with `binwidth`.\n",
      "Warning message:\n",
      "“Removed 144 rows containing non-finite values (stat_bin).”Warning message:\n",
      "“Removed 144 rows containing non-finite values (stat_density).”Warning message:\n",
      "“Removed 2 rows containing missing values (geom_bar).”"
     ]
    },
    {
     "data": {
      "image/png": "[encoded data removed]",
      "text/plain": [
       "plot without title"
      ]
     },
     "metadata": {},
     "output_type": "display_data"
    }
   ],
   "source": [
    "options(repr.plot.width=3, repr.plot.height=3)\n",
    "\n",
    "# plot duration between last pressor course ended and CVC was started\n",
    "pressorend_df %>%\n",
    "    left_join(cvc_df, by='icustay_id') %>% \n",
    "    filter(fastPOSIXct(starttime) > fastPOSIXct(endtime)) %>%\n",
    "    rowwise() %>% \n",
    "    mutate(DIFF = difftime(fastPOSIXct(starttime), fastPOSIXct(endtime), units=\"hours\")) %>%\n",
    "    group_by(icustay_id) %>%\n",
    "    filter(DIFF == min(DIFF)) %>%\n",
    "    ggplot(aes(x=DIFF)) +\n",
    "        geom_histogram(aes(y=..density..), position=\"identity\", alpha=0.5)+\n",
    "        geom_density(alpha=0.6)+\n",
    "        xlim(0, 72) +\n",
    "        scale_color_manual(values=c(\"#999999\", \"#E69F00\", \"#56B4E9\"))+\n",
    "        scale_fill_manual(values=c(\"#999999\", \"#E69F00\", \"#56B4E9\"))+\n",
    "        labs(title=\"Histogram\",x=\"Hours\", y = \"Density\")+\n",
    "        theme_classic()"
   ]
  },
  {
   "cell_type": "code",
   "execution_count": null,
   "metadata": {},
   "outputs": [],
   "source": [
    "    "
   ]
  }
 ],
 "metadata": {
  "kernelspec": {
   "display_name": "R",
   "language": "R",
   "name": "ir"
  },
  "language_info": {
   "codemirror_mode": "r",
   "file_extension": ".r",
   "mimetype": "text/x-r-source",
   "name": "R",
   "pygments_lexer": "r",
   "version": "3.6.0"
  }
 },
 "nbformat": 4,
 "nbformat_minor": 2
}
